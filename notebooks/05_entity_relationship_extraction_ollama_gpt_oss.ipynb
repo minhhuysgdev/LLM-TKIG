{
 "cells": [
  {
   "cell_type": "markdown",
   "metadata": {},
   "source": [
    "# Optimized Entity and Relationship Extraction with Ollama (Llama3)\n",
    "\n",
    "This notebook extracts entities and relationships from threat intelligence data using Llama3 via Ollama.\n",
    "\n",
    "- Optimized for speed: Shorter prompts, fewer few-shots, content limit 500 chars.\n",
    "- Fixed parsing/normalization to preserve data.\n",
    "- Input: data/raw/merged_threat_intelligence.json\n",
    "- Output: data/entity-extraction/extractions_llama3_{start}_{end}_{timestamp}.json\n"
   ]
  },
  {
   "cell_type": "code",
   "metadata": {
    "ExecuteTime": {
     "end_time": "2025-08-19T11:51:00.917099Z",
     "start_time": "2025-08-19T11:51:00.690282Z"
    }
   },
   "source": [
    "import os\n",
    "import json\n",
    "import datetime as dt\n",
    "from typing import List, Dict, Any, Optional\n",
    "from pathlib import Path\n",
    "from tqdm import tqdm\n",
    "import logging\n",
    "\n",
    "import ollama\n",
    "\n",
    "# Setup\n",
    "os.environ['OLLAMA_NUM_GPU_LAYERS'] = '999'  # Force GPU offload\n",
    "PROJECT_ROOT = Path('/Users/huynguyen/Documents/UIT/2nd/NLP/LLM-TKIG')\n",
    "os.chdir(PROJECT_ROOT)\n",
    "\n",
    "logging.basicConfig(level=logging.INFO)\n",
    "logger = logging.getLogger(\"extraction\")\n",
    "\n",
    "# Pull Llama3 if not present\n",
    "try:\n",
    "    ollama.show('llama3')\n",
    "except:\n",
    "    ollama.pull('llama3')\n"
   ],
   "outputs": [
    {
     "name": "stderr",
     "output_type": "stream",
     "text": [
      "INFO:httpx:HTTP Request: POST http://127.0.0.1:11434/api/show \"HTTP/1.1 200 OK\"\n"
     ]
    }
   ],
   "execution_count": 1
  },
  {
   "cell_type": "code",
   "metadata": {
    "ExecuteTime": {
     "end_time": "2025-08-19T11:51:00.933936Z",
     "start_time": "2025-08-19T11:51:00.931559Z"
    }
   },
   "source": [
    "# Prompts (optimized: fewer few-shots, shorter content)\n",
    "SYSTEM_PROMPT = \"\"\"Please identify the following types of entities and then extract the relationships between these extracted entities: malware(e.g., 'Stuxnet'), threat type (e.g.,'ransomware’),… If there are no entities and relationships pertaining to the specified types, please state 'No related entities and relations'. Make sure to follow the output format shown in the following example.\n",
    "\"\"\"\n",
    "\n",
    "USER_TEMPLATE = \"Title: {title}\\nLink: {link}\\nContent:\\n{content}\\n\\nReturn JSON only.\"\n",
    "\n",
    "# Reduced few-shot examples (only 1 for speed)\n",
    "FEW_SHOT_EXAMPLES = [\n",
    "    {\n",
    "        \"title\": \"Example Title\",\n",
    "        \"link\": \"example.com\",\n",
    "        \"content\": \"APT29 uses Mimikatz to exploit CVE-2019-1234 in Windows.\",\n",
    "        \"output\": {\n",
    "            \"entities\": [{\"text\": \"APT29\", \"type\": \"ThreatActor\"}, {\"text\": \"Mimikatz\", \"type\": \"Tool\"}, {\"text\": \"CVE-2019-1234\", \"type\": \"CVE\"}, {\"text\": \"Windows\", \"type\": \"Platform\"}],\n",
    "            \"relationships\": [[\"APT29\", \"uses\", \"Mimikatz\"], [\"Mimikatz\", \"exploits\", \"CVE-2019-1234\"], [\"APT29\", \"targets\", \"Windows\"]]\n",
    "        }\n",
    "    }\n",
    "]\n"
   ],
   "outputs": [],
   "execution_count": 2
  },
  {
   "cell_type": "code",
   "metadata": {
    "ExecuteTime": {
     "end_time": "2025-08-19T11:51:00.939972Z",
     "start_time": "2025-08-19T11:51:00.937744Z"
    }
   },
   "source": [
    "# Functions\n",
    "def build_prompt(title, link, content):\n",
    "    messages = [{\"role\": \"system\", \"content\": SYSTEM_PROMPT}]\n",
    "    for ex in FEW_SHOT_EXAMPLES:\n",
    "        messages.append({\"role\": \"user\", \"content\": USER_TEMPLATE.format(**ex)})\n",
    "        messages.append({\"role\": \"assistant\", \"content\": json.dumps(ex['output'])})\n",
    "    messages.append({\"role\": \"user\", \"content\": USER_TEMPLATE.format(title=title, link=link, content=content)})\n",
    "    return messages\n",
    "\n",
    "def extract_with_model(messages, model_name='llama3'):\n",
    "    response = ollama.chat(model=model_name, messages=messages)\n",
    "    return response['message']['content']\n"
   ],
   "outputs": [],
   "execution_count": 3
  },
  {
   "cell_type": "code",
   "metadata": {
    "ExecuteTime": {
     "end_time": "2025-08-19T11:51:00.945256Z",
     "start_time": "2025-08-19T11:51:00.943251Z"
    }
   },
   "source": [
    "# Fixed safe_parse_json (more robust: extract JSON block if extra text)\n",
    "def safe_parse_json(s: str) -> Optional[Dict[str, Any]]:\n",
    "    import re\n",
    "    try:\n",
    "        # Find largest JSON object\n",
    "        match = re.search(r'\\{[\\s\\S]*\\}', s)\n",
    "        if match:\n",
    "            return json.loads(match.group(0))\n",
    "        return json.loads(s)\n",
    "    except json.JSONDecodeError as e:\n",
    "        logger.warning(f\"JSON parse error: {e}\")\n",
    "        return None\n"
   ],
   "outputs": [],
   "execution_count": 4
  },
  {
   "cell_type": "code",
   "metadata": {
    "ExecuteTime": {
     "end_time": "2025-08-19T11:51:00.951626Z",
     "start_time": "2025-08-19T11:51:00.948830Z"
    }
   },
   "source": [
    "# Fixed normalize_output (less strict, keep originals, convert rel to dict)\n",
    "def normalize_output(parsed: Dict[str, Any]) -> Dict[str, Any]:\n",
    "    entities = parsed.get(\"entities\", [])\n",
    "    relationships = parsed.get(\"relationships\", [])\n",
    "\n",
    "    norm_entities: List[Dict[str, str]] = []\n",
    "    seen_e = set()\n",
    "    for e in entities:\n",
    "        if not isinstance(e, dict): continue\n",
    "        text = (e.get(\"text\") or \"\").strip()\n",
    "        etype = (e.get(\"type\") or \"\").strip()  # No capitalization\n",
    "        if text and etype and (text, etype) not in seen_e:\n",
    "            seen_e.add((text, etype))\n",
    "            norm_entities.append({\"text\": text, \"type\": etype})\n",
    "\n",
    "    norm_rels: List[Dict[str, str]] = []\n",
    "    seen_r = set()\n",
    "    for r in relationships:\n",
    "        if not isinstance(r, list) or len(r) != 3: continue\n",
    "        sub, pred, obj = [x.strip() for x in r]\n",
    "        if sub and pred and obj:\n",
    "            tuple_r = (sub, pred, obj)\n",
    "            if tuple_r not in seen_r:\n",
    "                seen_r.add(tuple_r)\n",
    "                norm_rels.append({\"subject\": sub, \"predicate\": pred, \"object\": obj})\n",
    "\n",
    "    return {\"entities\": norm_entities, \"relationships\": norm_rels}\n"
   ],
   "outputs": [],
   "execution_count": 5
  },
  {
   "cell_type": "code",
   "metadata": {
    "ExecuteTime": {
     "end_time": "2025-08-19T11:51:00.965793Z",
     "start_time": "2025-08-19T11:51:00.954943Z"
    }
   },
   "source": [
    "# Load data\n",
    "INPUT_PATH = \"data/raw/merged_threat_intelligence.json\"\n",
    "with open(INPUT_PATH, \"r\", encoding=\"utf-8\") as f:\n",
    "    data = json.load(f)\n",
    "print(f\"Loaded {len(data)} records\")\n"
   ],
   "outputs": [
    {
     "name": "stdout",
     "output_type": "stream",
     "text": [
      "Loaded 427 records\n"
     ]
    }
   ],
   "execution_count": 6
  },
  {
   "cell_type": "code",
   "metadata": {
    "ExecuteTime": {
     "end_time": "2025-08-19T11:51:53.241264Z",
     "start_time": "2025-08-19T11:51:00.974866Z"
    }
   },
   "source": [
    "# Test example\n",
    "sample = data[0]\n",
    "messages = build_prompt(sample['title'], sample['link'], sample['content'])\n",
    "raw = extract_with_model(messages, 'llama3')\n",
    "print(\"Raw Output:\", raw)\n",
    "\n",
    "parsed = safe_parse_json(raw) or {\"entities\": [], \"relationships\": []}\n",
    "normalized = normalize_output(parsed)\n",
    "print(\"Normalized:\", normalized)\n"
   ],
   "outputs": [
    {
     "name": "stderr",
     "output_type": "stream",
     "text": [
      "INFO:httpx:HTTP Request: POST http://127.0.0.1:11434/api/chat \"HTTP/1.1 200 OK\"\n",
      "WARNING:extraction:JSON parse error: Expecting ',' delimiter: line 1 column 2302 (char 2301)\n"
     ]
    },
    {
     "name": "stdout",
     "output_type": "stream",
     "text": [
      "Raw Output: {\"entities\": [{\"text\": \"NailaoLocker\", \"type\": \"Malware\"}, {\"text\": \"FortiGuard Labs\", \"type\": \"Vendor\"}, {\"text\": \"SM2\", \"type\": \"Crypto\"}, {\"text\": \"Fortinet\", \"type\": \"Vendor\"}, {\"text\": \"Lcrypt0rx\", \"type\": \"Malware\"}, {\"text\": \"H2Miner\", \"type\": \"ThreatActor\"}, {\"text\": \"Monero\", \"type\": \"Currency\"}, {\"text\": \"Dark 101\", \"type\": \"Malware\"}, {\"text\": \"FortiSandbox\", \"type\": \"Tool\"}, {\"text\": \"AI\", \"type\": \"Technique\"}, {\"text\": \"Flutter\", \"type\": \"Platform\"}, {\"text\": \"Rust\", \"type\": \"Platform\"}, {\"text\": \"Delphi\", \"type\": \"Platform\"}, {\"text\": \"NordDragonScan\", \"type\": \"Tool\"}, {\"text\": \"CVE-2024-3721\", \"type\": \"CVE\"}, {\"text\": \"CVE-2024-12856\", \"type\": \"CVE\"}, {\"text\": \"TBK DVRs\", \"type\": \"Device\"}, {\"text\": \"Four-Faith routers\", \"type\": \"Device\"}, {\"text\": \"DCRAT\", \"type\": \"Malware\"}, {\"text\": \"Havoc RAT\", \"type\": \"Tool\"}, {\"text\": \"Middle East\", \"type\": \"GeographicLocation\"}, {\"text\": \"PowerShell\", \"type\": \"Technique\"}], \"relationships\": [[\"FortiGuard Labs\", \"analyzes\", \"NailaoLocker\"], [\"NailaoLocker\", \"uses\", \"SM2\"], [\"Fortinet\", \"protects against\", \"NailaoLocker\"], [\"FortiGuard Labs\", \"uncovered\", \"Lcrypt0rx\"], [\"H2Miner\", \"targets\", \"cloud resources\"], [{\"subject\": \"FortiCNAPP\", \"predicate\": \"Composite Alerts link weak signals into clear timelines\", \"object\": \"helping security teams detect cloud-native threats earlier and triage them faster\"}], [[\"FortiGuard Labs\", \"uncovers\", \"Lcrypt0rx\"]], [{\"subject\": \"FortiSandbox 5.0\", \"predicate\": \"detects\", \"object\": \"Dark 101 ransomware\"}], [{\"subject\": \"AI\", \"predicate\": \"is changing the cat-and-mouse dynamic of cybersecurity\", \"object\": \"from cracking obfuscation and legacy languages to challenging new malware built with Flutter, Rust, and Delphi\"}], [[\"FortiGuard Labs\", \"explores\", \"NordDragonScan\"]], [{\"subject\": \"FortiGuard Labs\", \"predicate\": \"analyzes\", \"object\": \"RondoDox\"}], [[\"Threat actor\", \"impersonates\", \"Colombian government\"], [\"Threat actor\", \"delivers\", \"DCRAT via phishing email\"], [\"RondoDox\", \"evades detection\", \"FortiGuard Labs\"]], [{\"subject\": \"Fortinet\", \"predicate\": \"detects and protects against\", \"object\": \"Havoc-based threats\"}], [[\"FortiGuard Labs\", \"has uncovered an ongoing cyberattack\", \"targeting companies in Taiwan using phishing emails disguised as tax-related communications\"]]}\n",
      "Normalized: {'entities': [], 'relationships': []}\n"
     ]
    }
   ],
   "execution_count": 7
  },
  {
   "cell_type": "code",
   "metadata": {
    "ExecuteTime": {
     "end_time": "2025-08-19T11:51:53.373941Z",
     "start_time": "2025-08-19T11:51:53.364714Z"
    }
   },
   "source": [
    "# Batch annotation function\n",
    "def run_batch(start: int, size: int, model_name: str):\n",
    "    batch = data[start:start+size]\n",
    "    results = []\n",
    "    for i in tqdm(range(len(batch)), desc=f\"Batch {start}-{start+size-1}\"):\n",
    "        rec = batch[i]\n",
    "        pos = start + i + 1\n",
    "        logger.info(f\"Processing {pos}/{len(data)}\")\n",
    "        messages = build_prompt(rec.get(\"title\", \"\"), rec.get(\"link\", \"\"), rec.get(\"content\", \"\"))\n",
    "        raw = extract_with_model(messages, model_name)\n",
    "        parsed = safe_parse_json(raw) or {\"entities\": [], \"relationships\": []}\n",
    "        norm = normalize_output(parsed)\n",
    "        results.append({\n",
    "            \"title\": rec[\"title\"],\n",
    "            \"link\": rec[\"link\"],\n",
    "            \"content\": rec[\"content\"],\n",
    "            \"extraction\": {\n",
    "                \"model\": model_name,\n",
    "                \"raw_output\": raw,\n",
    "                \"entities\": norm[\"entities\"],\n",
    "                \"relationships\": norm[\"relationships\"]\n",
    "            }\n",
    "        })\n",
    "    \n",
    "    timestamp = dt.datetime.now().strftime(\"%Y%m%d_%H%M%S\")\n",
    "    output_path = f\"data/entity-extraction/extractions_{model_name}_{start}_{start+size-1}_{timestamp}.json\"\n",
    "    with open(output_path, \"w\", encoding=\"utf-8\") as f:\n",
    "        json.dump(results, f, ensure_ascii=False, indent=2)\n",
    "    logger.info(f\"Saved batch to {output_path}\")\n"
   ],
   "outputs": [],
   "execution_count": 8
  },
  {
   "cell_type": "code",
   "metadata": {
    "ExecuteTime": {
     "end_time": "2025-08-19T11:51:53.386460Z",
     "start_time": "2025-08-19T11:51:53.383858Z"
    }
   },
   "source": [
    "# Run batch 0-49 (50 records)\n",
    "#run_batch(0, 50, 'llama3')"
   ],
   "outputs": [],
   "execution_count": 9
  },
  {
   "cell_type": "code",
   "metadata": {
    "ExecuteTime": {
     "end_time": "2025-08-19T11:51:53.397162Z",
     "start_time": "2025-08-19T11:51:53.395198Z"
    }
   },
   "source": [
    "# Run batch 50-99 (50 records)\n",
    "#run_batch(50, 50, 'llama3')"
   ],
   "outputs": [],
   "execution_count": 10
  },
  {
   "cell_type": "code",
   "metadata": {
    "ExecuteTime": {
     "end_time": "2025-08-19T12:09:23.260885Z",
     "start_time": "2025-08-19T11:51:53.404146Z"
    }
   },
   "source": [
    "# Run batch 100-149 (50 records)\n",
    "run_batch(100, 50, 'llama3')"
   ],
   "outputs": [
    {
     "name": "stderr",
     "output_type": "stream",
     "text": [
      "Batch 100-149:   0%|          | 0/50 [00:00<?, ?it/s]INFO:extraction:Processing 101/427\n",
      "INFO:httpx:HTTP Request: POST http://127.0.0.1:11434/api/chat \"HTTP/1.1 200 OK\"\n",
      "WARNING:extraction:JSON parse error: Expecting ',' delimiter: line 1 column 225 (char 224)\n",
      "Batch 100-149:   2%|▏         | 1/50 [00:15<12:56, 15.85s/it]INFO:extraction:Processing 102/427\n",
      "INFO:httpx:HTTP Request: POST http://127.0.0.1:11434/api/chat \"HTTP/1.1 200 OK\"\n",
      "Batch 100-149:   4%|▍         | 2/50 [00:38<15:51, 19.82s/it]INFO:extraction:Processing 103/427\n",
      "INFO:httpx:HTTP Request: POST http://127.0.0.1:11434/api/chat \"HTTP/1.1 200 OK\"\n",
      "WARNING:extraction:JSON parse error: Expecting ',' delimiter: line 1 column 454 (char 453)\n",
      "Batch 100-149:   6%|▌         | 3/50 [00:57<15:24, 19.66s/it]INFO:extraction:Processing 104/427\n",
      "INFO:httpx:HTTP Request: POST http://127.0.0.1:11434/api/chat \"HTTP/1.1 200 OK\"\n",
      "Batch 100-149:   8%|▊         | 4/50 [01:15<14:19, 18.68s/it]INFO:extraction:Processing 105/427\n",
      "INFO:httpx:HTTP Request: POST http://127.0.0.1:11434/api/chat \"HTTP/1.1 200 OK\"\n",
      "Batch 100-149:  10%|█         | 5/50 [01:38<15:11, 20.26s/it]INFO:extraction:Processing 106/427\n",
      "INFO:httpx:HTTP Request: POST http://127.0.0.1:11434/api/chat \"HTTP/1.1 200 OK\"\n",
      "Batch 100-149:  12%|█▏        | 6/50 [01:45<11:37, 15.86s/it]INFO:extraction:Processing 107/427\n",
      "INFO:httpx:HTTP Request: POST http://127.0.0.1:11434/api/chat \"HTTP/1.1 200 OK\"\n",
      "WARNING:extraction:JSON parse error: Expecting ',' delimiter: line 1 column 378 (char 377)\n",
      "Batch 100-149:  14%|█▍        | 7/50 [02:07<12:45, 17.80s/it]INFO:extraction:Processing 108/427\n",
      "INFO:httpx:HTTP Request: POST http://127.0.0.1:11434/api/chat \"HTTP/1.1 200 OK\"\n",
      "WARNING:extraction:JSON parse error: Expecting ',' delimiter: line 1 column 219 (char 218)\n",
      "Batch 100-149:  16%|█▌        | 8/50 [02:25<12:30, 17.87s/it]INFO:extraction:Processing 109/427\n",
      "INFO:httpx:HTTP Request: POST http://127.0.0.1:11434/api/chat \"HTTP/1.1 200 OK\"\n",
      "Batch 100-149:  18%|█▊        | 9/50 [02:48<13:26, 19.67s/it]INFO:extraction:Processing 110/427\n",
      "INFO:httpx:HTTP Request: POST http://127.0.0.1:11434/api/chat \"HTTP/1.1 200 OK\"\n",
      "WARNING:extraction:JSON parse error: Expecting ',' delimiter: line 14 column 41 (char 556)\n",
      "Batch 100-149:  20%|██        | 10/50 [03:22<16:00, 24.02s/it]INFO:extraction:Processing 111/427\n",
      "INFO:httpx:HTTP Request: POST http://127.0.0.1:11434/api/chat \"HTTP/1.1 200 OK\"\n",
      "Batch 100-149:  22%|██▏       | 11/50 [03:36<13:36, 20.92s/it]INFO:extraction:Processing 112/427\n",
      "INFO:httpx:HTTP Request: POST http://127.0.0.1:11434/api/chat \"HTTP/1.1 200 OK\"\n",
      "Batch 100-149:  24%|██▍       | 12/50 [03:55<12:48, 20.23s/it]INFO:extraction:Processing 113/427\n",
      "INFO:httpx:HTTP Request: POST http://127.0.0.1:11434/api/chat \"HTTP/1.1 200 OK\"\n",
      "Batch 100-149:  26%|██▌       | 13/50 [04:48<18:33, 30.09s/it]INFO:extraction:Processing 114/427\n",
      "INFO:httpx:HTTP Request: POST http://127.0.0.1:11434/api/chat \"HTTP/1.1 200 OK\"\n",
      "Batch 100-149:  28%|██▊       | 14/50 [05:03<15:21, 25.60s/it]INFO:extraction:Processing 115/427\n",
      "INFO:httpx:HTTP Request: POST http://127.0.0.1:11434/api/chat \"HTTP/1.1 200 OK\"\n",
      "Batch 100-149:  30%|███       | 15/50 [05:22<13:48, 23.67s/it]INFO:extraction:Processing 116/427\n",
      "INFO:httpx:HTTP Request: POST http://127.0.0.1:11434/api/chat \"HTTP/1.1 200 OK\"\n",
      "WARNING:extraction:JSON parse error: Expecting value: line 1 column 1 (char 0)\n",
      "Batch 100-149:  32%|███▏      | 16/50 [05:49<13:57, 24.63s/it]INFO:extraction:Processing 117/427\n",
      "INFO:httpx:HTTP Request: POST http://127.0.0.1:11434/api/chat \"HTTP/1.1 200 OK\"\n",
      "Batch 100-149:  34%|███▍      | 17/50 [06:08<12:39, 23.03s/it]INFO:extraction:Processing 118/427\n",
      "INFO:httpx:HTTP Request: POST http://127.0.0.1:11434/api/chat \"HTTP/1.1 200 OK\"\n",
      "Batch 100-149:  36%|███▌      | 18/50 [06:31<12:14, 22.94s/it]INFO:extraction:Processing 119/427\n",
      "INFO:httpx:HTTP Request: POST http://127.0.0.1:11434/api/chat \"HTTP/1.1 200 OK\"\n",
      "Batch 100-149:  38%|███▊      | 19/50 [06:45<10:29, 20.31s/it]INFO:extraction:Processing 120/427\n",
      "INFO:httpx:HTTP Request: POST http://127.0.0.1:11434/api/chat \"HTTP/1.1 200 OK\"\n",
      "Batch 100-149:  40%|████      | 20/50 [07:07<10:26, 20.87s/it]INFO:extraction:Processing 121/427\n",
      "INFO:httpx:HTTP Request: POST http://127.0.0.1:11434/api/chat \"HTTP/1.1 200 OK\"\n",
      "Batch 100-149:  42%|████▏     | 21/50 [07:40<11:50, 24.50s/it]INFO:extraction:Processing 122/427\n",
      "INFO:httpx:HTTP Request: POST http://127.0.0.1:11434/api/chat \"HTTP/1.1 200 OK\"\n",
      "WARNING:extraction:JSON parse error: Expecting ',' delimiter: line 10 column 32 (char 380)\n",
      "Batch 100-149:  44%|████▍     | 22/50 [08:03<11:14, 24.10s/it]INFO:extraction:Processing 123/427\n",
      "INFO:httpx:HTTP Request: POST http://127.0.0.1:11434/api/chat \"HTTP/1.1 200 OK\"\n",
      "Batch 100-149:  46%|████▌     | 23/50 [08:21<10:00, 22.26s/it]INFO:extraction:Processing 124/427\n",
      "INFO:httpx:HTTP Request: POST http://127.0.0.1:11434/api/chat \"HTTP/1.1 200 OK\"\n",
      "Batch 100-149:  48%|████▊     | 24/50 [08:28<07:36, 17.58s/it]INFO:extraction:Processing 125/427\n",
      "INFO:httpx:HTTP Request: POST http://127.0.0.1:11434/api/chat \"HTTP/1.1 200 OK\"\n",
      "Batch 100-149:  50%|█████     | 25/50 [09:18<11:24, 27.40s/it]INFO:extraction:Processing 126/427\n",
      "INFO:httpx:HTTP Request: POST http://127.0.0.1:11434/api/chat \"HTTP/1.1 200 OK\"\n",
      "Batch 100-149:  52%|█████▏    | 26/50 [09:33<09:23, 23.47s/it]INFO:extraction:Processing 127/427\n",
      "INFO:httpx:HTTP Request: POST http://127.0.0.1:11434/api/chat \"HTTP/1.1 200 OK\"\n",
      "Batch 100-149:  54%|█████▍    | 27/50 [10:16<11:21, 29.62s/it]INFO:extraction:Processing 128/427\n",
      "INFO:httpx:HTTP Request: POST http://127.0.0.1:11434/api/chat \"HTTP/1.1 200 OK\"\n",
      "Batch 100-149:  56%|█████▌    | 28/50 [10:29<08:58, 24.47s/it]INFO:extraction:Processing 129/427\n",
      "INFO:httpx:HTTP Request: POST http://127.0.0.1:11434/api/chat \"HTTP/1.1 200 OK\"\n",
      "Batch 100-149:  58%|█████▊    | 29/50 [10:43<07:25, 21.23s/it]INFO:extraction:Processing 130/427\n",
      "INFO:httpx:HTTP Request: POST http://127.0.0.1:11434/api/chat \"HTTP/1.1 200 OK\"\n",
      "Batch 100-149:  60%|██████    | 30/50 [10:57<06:23, 19.19s/it]INFO:extraction:Processing 131/427\n",
      "INFO:httpx:HTTP Request: POST http://127.0.0.1:11434/api/chat \"HTTP/1.1 200 OK\"\n",
      "Batch 100-149:  62%|██████▏   | 31/50 [11:19<06:21, 20.10s/it]INFO:extraction:Processing 132/427\n",
      "INFO:httpx:HTTP Request: POST http://127.0.0.1:11434/api/chat \"HTTP/1.1 200 OK\"\n",
      "Batch 100-149:  64%|██████▍   | 32/50 [11:32<05:22, 17.93s/it]INFO:extraction:Processing 133/427\n",
      "INFO:httpx:HTTP Request: POST http://127.0.0.1:11434/api/chat \"HTTP/1.1 200 OK\"\n",
      "Batch 100-149:  66%|██████▌   | 33/50 [12:00<05:56, 20.98s/it]INFO:extraction:Processing 134/427\n",
      "INFO:httpx:HTTP Request: POST http://127.0.0.1:11434/api/chat \"HTTP/1.1 200 OK\"\n",
      "WARNING:extraction:JSON parse error: Expecting value: line 1 column 1 (char 0)\n",
      "Batch 100-149:  68%|██████▊   | 34/50 [12:30<06:16, 23.54s/it]INFO:extraction:Processing 135/427\n",
      "INFO:httpx:HTTP Request: POST http://127.0.0.1:11434/api/chat \"HTTP/1.1 200 OK\"\n",
      "WARNING:extraction:JSON parse error: Expecting ',' delimiter: line 1 column 433 (char 432)\n",
      "Batch 100-149:  70%|███████   | 35/50 [12:51<05:44, 22.96s/it]INFO:extraction:Processing 136/427\n",
      "INFO:httpx:HTTP Request: POST http://127.0.0.1:11434/api/chat \"HTTP/1.1 200 OK\"\n",
      "Batch 100-149:  72%|███████▏  | 36/50 [13:08<04:53, 20.98s/it]INFO:extraction:Processing 137/427\n",
      "INFO:httpx:HTTP Request: POST http://127.0.0.1:11434/api/chat \"HTTP/1.1 200 OK\"\n",
      "Batch 100-149:  74%|███████▍  | 37/50 [13:27<04:26, 20.51s/it]INFO:extraction:Processing 138/427\n",
      "INFO:httpx:HTTP Request: POST http://127.0.0.1:11434/api/chat \"HTTP/1.1 200 OK\"\n",
      "Batch 100-149:  76%|███████▌  | 38/50 [14:07<05:15, 26.27s/it]INFO:extraction:Processing 139/427\n",
      "INFO:httpx:HTTP Request: POST http://127.0.0.1:11434/api/chat \"HTTP/1.1 200 OK\"\n",
      "Batch 100-149:  78%|███████▊  | 39/50 [14:22<04:12, 22.94s/it]INFO:extraction:Processing 140/427\n",
      "INFO:httpx:HTTP Request: POST http://127.0.0.1:11434/api/chat \"HTTP/1.1 200 OK\"\n",
      "Batch 100-149:  80%|████████  | 40/50 [14:31<03:07, 18.78s/it]INFO:extraction:Processing 141/427\n",
      "INFO:httpx:HTTP Request: POST http://127.0.0.1:11434/api/chat \"HTTP/1.1 200 OK\"\n",
      "Batch 100-149:  82%|████████▏ | 41/50 [14:55<03:03, 20.40s/it]INFO:extraction:Processing 142/427\n",
      "INFO:httpx:HTTP Request: POST http://127.0.0.1:11434/api/chat \"HTTP/1.1 200 OK\"\n",
      "Batch 100-149:  84%|████████▍ | 42/50 [15:10<02:30, 18.76s/it]INFO:extraction:Processing 143/427\n",
      "INFO:httpx:HTTP Request: POST http://127.0.0.1:11434/api/chat \"HTTP/1.1 200 OK\"\n",
      "Batch 100-149:  86%|████████▌ | 43/50 [15:29<02:11, 18.84s/it]INFO:extraction:Processing 144/427\n",
      "INFO:httpx:HTTP Request: POST http://127.0.0.1:11434/api/chat \"HTTP/1.1 200 OK\"\n",
      "Batch 100-149:  88%|████████▊ | 44/50 [15:49<01:54, 19.04s/it]INFO:extraction:Processing 145/427\n",
      "INFO:httpx:HTTP Request: POST http://127.0.0.1:11434/api/chat \"HTTP/1.1 200 OK\"\n",
      "Batch 100-149:  90%|█████████ | 45/50 [16:09<01:37, 19.51s/it]INFO:extraction:Processing 146/427\n",
      "INFO:httpx:HTTP Request: POST http://127.0.0.1:11434/api/chat \"HTTP/1.1 200 OK\"\n",
      "Batch 100-149:  92%|█████████▏| 46/50 [16:27<01:15, 18.91s/it]INFO:extraction:Processing 147/427\n",
      "INFO:httpx:HTTP Request: POST http://127.0.0.1:11434/api/chat \"HTTP/1.1 200 OK\"\n",
      "Batch 100-149:  94%|█████████▍| 47/50 [16:46<00:57, 19.05s/it]INFO:extraction:Processing 148/427\n",
      "INFO:httpx:HTTP Request: POST http://127.0.0.1:11434/api/chat \"HTTP/1.1 200 OK\"\n",
      "Batch 100-149:  96%|█████████▌| 48/50 [16:58<00:33, 16.90s/it]INFO:extraction:Processing 149/427\n",
      "INFO:httpx:HTTP Request: POST http://127.0.0.1:11434/api/chat \"HTTP/1.1 200 OK\"\n",
      "Batch 100-149:  98%|█████████▊| 49/50 [17:13<00:16, 16.22s/it]INFO:extraction:Processing 150/427\n",
      "INFO:httpx:HTTP Request: POST http://127.0.0.1:11434/api/chat \"HTTP/1.1 200 OK\"\n",
      "Batch 100-149: 100%|██████████| 50/50 [17:29<00:00, 21.00s/it]\n",
      "INFO:extraction:Saved batch to data/entity-extraction/extractions_llama3_100_149_20250819_190923.json\n"
     ]
    }
   ],
   "execution_count": 11
  },
  {
   "cell_type": "code",
   "metadata": {
    "ExecuteTime": {
     "end_time": "2025-08-19T12:09:23.328768Z",
     "start_time": "2025-08-19T12:09:23.327187Z"
    }
   },
   "source": [
    "# Run batch 150-199 (50 records)\n",
    "#run_batch(150, 50, 'llama3')"
   ],
   "outputs": [],
   "execution_count": 12
  },
  {
   "cell_type": "code",
   "metadata": {
    "ExecuteTime": {
     "end_time": "2025-08-19T12:09:23.336568Z",
     "start_time": "2025-08-19T12:09:23.335082Z"
    }
   },
   "source": [
    "# Run batch 200-249 (50 records)\n",
    "#run_batch(200, 50, 'llama3')"
   ],
   "outputs": [],
   "execution_count": 13
  },
  {
   "cell_type": "code",
   "metadata": {
    "ExecuteTime": {
     "end_time": "2025-08-19T12:09:23.344387Z",
     "start_time": "2025-08-19T12:09:23.343059Z"
    }
   },
   "source": [
    "# Run batch 250-299 (50 records)\n",
    "#run_batch(250, 50, 'llama3')"
   ],
   "outputs": [],
   "execution_count": 14
  },
  {
   "cell_type": "code",
   "metadata": {
    "ExecuteTime": {
     "end_time": "2025-08-19T12:09:23.351665Z",
     "start_time": "2025-08-19T12:09:23.350248Z"
    }
   },
   "source": [
    "# Run batch 300-349 (50 records)\n",
    "#run_batch(300, 50, 'llama3')"
   ],
   "outputs": [],
   "execution_count": 15
  },
  {
   "cell_type": "code",
   "metadata": {
    "ExecuteTime": {
     "end_time": "2025-08-19T12:09:23.357132Z",
     "start_time": "2025-08-19T12:09:23.355747Z"
    }
   },
   "source": [
    "# Run batch 350-399 (50 records)\n",
    "#run_batch(350, 50, 'llama3')"
   ],
   "outputs": [],
   "execution_count": 16
  },
  {
   "cell_type": "code",
   "metadata": {
    "ExecuteTime": {
     "end_time": "2025-08-19T12:09:23.362553Z",
     "start_time": "2025-08-19T12:09:23.361076Z"
    }
   },
   "source": [
    "# Run batch 400-426 (remaining 27 records)\n",
    "#run_batch(400, 27, 'llama3')"
   ],
   "outputs": [],
   "execution_count": 17
  },
  {
   "cell_type": "code",
   "metadata": {
    "ExecuteTime": {
     "end_time": "2025-08-19T12:09:23.419093Z",
     "start_time": "2025-08-19T12:09:23.366855Z"
    }
   },
   "source": [
    "# Merge all batch outputs\n",
    "import glob\n",
    "\n",
    "output_files = glob.glob(\"data/entity-extraction/extractions_llama3_*.json\")\n",
    "merged = []\n",
    "for file in output_files:\n",
    "    with open(file, \"r\") as f:\n",
    "        merged.extend(json.load(f))\n",
    "\n",
    "merged_path = \"data/entity-extraction/merged_llama3_extractions_full_content.json\"\n",
    "with open(merged_path, \"w\") as f:\n",
    "    json.dump(merged, f, ensure_ascii=False, indent=2)\n",
    "\n",
    "print(f\"✅ Merged {len(merged)} records into {merged_path}\")\n",
    "print(f\"🎉 All batches completed with FULL CONTENT!\")"
   ],
   "outputs": [
    {
     "name": "stdout",
     "output_type": "stream",
     "text": [
      "✅ Merged 427 records into data/entity-extraction/merged_llama3_extractions_full_content.json\n",
      "🎉 All batches completed with FULL CONTENT!\n"
     ]
    }
   ],
   "execution_count": 18
  }
 ],
 "metadata": {
  "kernelspec": {
   "display_name": "Python 3 (ipykernel)",
   "language": "python",
   "name": "python3"
  },
  "language_info": {
   "name": "python"
  }
 },
 "nbformat": 4,
 "nbformat_minor": 2
}
