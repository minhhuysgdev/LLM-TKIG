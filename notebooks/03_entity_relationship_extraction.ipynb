{
 "cells": [
  {
   "metadata": {},
   "cell_type": "markdown",
   "source": [
    "# Entity and Relationship Extraction for Threat Intelligence\n",
    "\n",
    "## Overview\n",
    "This notebook implements entity and relationship extraction from threat intelligence text using LLM-based approach.\n",
    "\n",
    "### Task Description\n",
    "- **Input**: Threat intelligence text content\n",
    "- **Output**: Named entities and relationships in structured format\n",
    "- **Entity Types**: malware, threat type, attacker, vulnerability, tool, etc.\n",
    "- **Relationship Types**: use, target, exploit, etc.\n",
    "\n",
    "### Example\n",
    "**Input**: A hitherto unknown attack group has been observed targeting a materials research organization in Asia. The group, which Symantec calls Clasiopa, is characterized by a distinct toolset, which includes one piece of custom malware (Backdoor.Atharvan).\n",
    "\n",
    "**Output**:\n",
    "- Named Entities: (Clasiopa, attacker), (custom malware, malware), (Backdoor.Atharvan, malware)\n",
    "- Relationships: (Clasiopa, use, custom malware), (custom malware, name, Backdoor.Atharvan)\n"
   ]
  },
  {
   "cell_type": "code",
   "metadata": {
    "ExecuteTime": {
     "end_time": "2025-08-04T11:30:07.308229Z",
     "start_time": "2025-08-04T11:30:04.661621Z"
    }
   },
   "source": [
    "import json\n",
    "import os\n",
    "import re\n",
    "from pathlib import Path\n",
    "from typing import Dict, List, Tuple, Any\n",
    "from collections import defaultdict\n",
    "import datetime\n",
    "\n",
    "# Load environment and model setup\n",
    "from dotenv import load_dotenv\n",
    "import torch\n",
    "from transformers import AutoTokenizer, AutoModelForCausalLM, pipeline\n",
    "\n",
    "# Load environment variables\n",
    "load_dotenv()\n",
    "\n",
    "print(\"🔧 Setting up Entity & Relationship Extraction Pipeline\")\n",
    "print(\"=\" * 60)\n"
   ],
   "outputs": [
    {
     "name": "stdout",
     "output_type": "stream",
     "text": [
      "🔧 Setting up Entity & Relationship Extraction Pipeline\n",
      "============================================================\n"
     ]
    }
   ],
   "execution_count": 2
  },
  {
   "cell_type": "code",
   "metadata": {
    "ExecuteTime": {
     "end_time": "2025-08-04T11:30:07.330403Z",
     "start_time": "2025-08-04T11:30:07.318190Z"
    }
   },
   "source": [
    "def load_data(input_file: str) -> list:\n",
    "    \"\"\"\n",
    "    Load threat intelligence data from JSON file.\n",
    "    \"\"\"\n",
    "    try:\n",
    "        with open(input_file, 'r', encoding='utf-8') as f:\n",
    "            data = json.load(f)\n",
    "        print(f\"✅ Loaded {len(data)} records from {input_file}\")\n",
    "        return data\n",
    "    except Exception as e:\n",
    "        print(f\"❌ Error loading {input_file}: {e}\")\n",
    "        return []\n",
    "\n",
    "# Load threat intelligence data\n",
    "data_path = '../data/processed/merged_threat_intelligence.json'\n",
    "data = load_data(data_path)\n",
    "\n",
    "if data:\n",
    "    print(f\"📊 Sample data structure:\")\n",
    "    print(f\"   Keys: {list(data[0].keys())}\")\n",
    "    print(f\"   Title: {data[0]['title'][:100]}...\")\n"
   ],
   "outputs": [
    {
     "name": "stdout",
     "output_type": "stream",
     "text": [
      "✅ Loaded 427 records from ../data/processed/merged_threat_intelligence.json\n",
      "📊 Sample data structure:\n",
      "   Keys: ['title', 'content', 'link']\n",
      "   Title: FortiGuard Labs Threat Research...\n"
     ]
    }
   ],
   "execution_count": 3
  },
  {
   "cell_type": "code",
   "metadata": {
    "ExecuteTime": {
     "end_time": "2025-08-04T11:30:07.423797Z",
     "start_time": "2025-08-04T11:30:07.339321Z"
    }
   },
   "source": [
    "# Device setup\n",
    "device = (\n",
    "    \"cuda\" if torch.cuda.is_available()\n",
    "    else \"mps\" if torch.backends.mps.is_available()\n",
    "    else \"cpu\"\n",
    ")\n",
    "\n",
    "print(f\"🖥️  Using device: {device.upper()}\")\n",
    "print(f\"🔧 PyTorch version: {torch.__version__}\")\n",
    "\n",
    "# Memory cleanup\n",
    "if device == \"cuda\":\n",
    "    torch.cuda.empty_cache()\n",
    "elif device == \"mps\":\n",
    "    import gc\n",
    "    gc.collect()\n",
    "    if hasattr(torch.mps, 'empty_cache'):\n",
    "        torch.mps.empty_cache()\n"
   ],
   "outputs": [
    {
     "name": "stdout",
     "output_type": "stream",
     "text": [
      "🖥️  Using device: MPS\n",
      "🔧 PyTorch version: 2.7.1\n"
     ]
    }
   ],
   "execution_count": 4
  },
  {
   "cell_type": "code",
   "metadata": {
    "ExecuteTime": {
     "end_time": "2025-08-04T11:30:15.690417Z",
     "start_time": "2025-08-04T11:30:07.431728Z"
    }
   },
   "source": [
    "# Get configuration from environment\n",
    "HF_TOKEN = os.getenv('HF_TOKEN')\n",
    "DEFAULT_MODEL = os.getenv('DEFAULT_MODEL', 'Qwen/Qwen2.5-1.5B-Instruct')\n",
    "FALLBACK_MODEL = os.getenv('FALLBACK_MODEL', 'gpt2')\n",
    "\n",
    "def setup_model_for_extraction(model_name: str = None, hf_token: str = None):\n",
    "    \"\"\"\n",
    "    Tải model từ Hugging Face với token từ environment variables.\n",
    "    \"\"\"\n",
    "    model_name = model_name or DEFAULT_MODEL\n",
    "    hf_token = hf_token or HF_TOKEN\n",
    "\n",
    "    print(f\"🤖 Đang tải mô hình: {model_name}\")\n",
    "    print(f\"📱 Thiết bị: {device.upper()}\")\n",
    "    print(f\"🔑 Token: {'✅ Found' if hf_token else '❌ Missing'}\")\n",
    "\n",
    "    try:\n",
    "        # Load tokenizer\n",
    "        tokenizer = AutoTokenizer.from_pretrained(\n",
    "            model_name,\n",
    "            token=hf_token,\n",
    "            trust_remote_code=True\n",
    "        )\n",
    "        tokenizer.pad_token = tokenizer.pad_token or tokenizer.eos_token\n",
    "\n",
    "        # Thiết lập kiểu dữ liệu và bản đồ thiết bị\n",
    "        torch_dtype = torch.float16 if device == \"cuda\" else torch.float32\n",
    "        device_map = \"auto\" if device == \"cuda\" else None\n",
    "\n",
    "        # Load model\n",
    "        model = AutoModelForCausalLM.from_pretrained(\n",
    "            model_name,\n",
    "            token=hf_token,\n",
    "            trust_remote_code=True,\n",
    "            torch_dtype=torch_dtype,\n",
    "            device_map=device_map,\n",
    "            use_cache=False\n",
    "        )\n",
    "\n",
    "        if device_map is None and device in [\"mps\", \"cuda\"]:\n",
    "            model.to(device)\n",
    "\n",
    "        if device_map is None:\n",
    "            # Nếu không sử dụng device_map=\"auto\", có thể chỉ định device\n",
    "            pipe = pipeline(\n",
    "                \"text-generation\",\n",
    "                model=model,\n",
    "                tokenizer=tokenizer,\n",
    "                device=0 if device != \"cpu\" else -1,\n",
    "                torch_dtype=torch_dtype,\n",
    "                model_kwargs={\"use_cache\": False}\n",
    "            )\n",
    "        else:\n",
    "            # Nếu sử dụng device_map=\"auto\", không chỉ định device\n",
    "            pipe = pipeline(\n",
    "                \"text-generation\",\n",
    "                model=model,\n",
    "                tokenizer=tokenizer,\n",
    "                torch_dtype=torch_dtype,\n",
    "                model_kwargs={\"use_cache\": False}\n",
    "            )\n",
    "\n",
    "        print(f\"✅ Đã tải thành công {model_name} trên {device.upper()}\")\n",
    "        return pipe\n",
    "\n",
    "    except Exception as e:\n",
    "        print(f\"❌ Lỗi khi tải {model_name}: {e}\")\n",
    "        return setup_fallback_model(hf_token)\n",
    "\n",
    "def setup_fallback_model(hf_token: str = None):\n",
    "    \"\"\"\n",
    "    Tải fallback model nếu model chính lỗi.\n",
    "    \"\"\"\n",
    "    fallback_name = FALLBACK_MODEL\n",
    "    hf_token = hf_token or HF_TOKEN\n",
    "    print(f\"🔄 Đang tải mô hình dự phòng: {fallback_name}\")\n",
    "\n",
    "    try:\n",
    "        tokenizer = AutoTokenizer.from_pretrained(fallback_name, token=hf_token)\n",
    "        tokenizer.pad_token = tokenizer.pad_token or tokenizer.eos_token\n",
    "\n",
    "        model = AutoModelForCausalLM.from_pretrained(\n",
    "            fallback_name,\n",
    "            token=hf_token,\n",
    "            torch_dtype=torch.float32,\n",
    "            use_cache=False\n",
    "        )\n",
    "\n",
    "        if device in [\"cuda\", \"mps\"]:\n",
    "            model.to(device)\n",
    "\n",
    "        pipe = pipeline(\n",
    "            \"text-generation\",\n",
    "            model=model,\n",
    "            tokenizer=tokenizer,\n",
    "            device=0 if device != \"cpu\" else -1,\n",
    "            model_kwargs={\"use_cache\": False}\n",
    "        )\n",
    "\n",
    "        print(f\"✅ {FALLBACK_MODEL} đã sẵn sàng trên {device.upper()}\")\n",
    "        return pipe\n",
    "\n",
    "    except Exception as e:\n",
    "        print(f\"❌ Lỗi khi tải {FALLBACK_MODEL} fallback: {e}\")\n",
    "        return None\n",
    "\n",
    "# Load model\n",
    "extraction_model = setup_model_for_extraction()\n"
   ],
   "outputs": [
    {
     "name": "stdout",
     "output_type": "stream",
     "text": [
      "🤖 Đang tải mô hình: Qwen/Qwen2.5-1.5B-Instruct\n",
      "📱 Thiết bị: MPS\n",
      "🔑 Token: ✅ Found\n"
     ]
    },
    {
     "name": "stderr",
     "output_type": "stream",
     "text": [
      "Device set to use mps:0\n"
     ]
    },
    {
     "name": "stdout",
     "output_type": "stream",
     "text": [
      "✅ Đã tải thành công Qwen/Qwen2.5-1.5B-Instruct trên MPS\n"
     ]
    }
   ],
   "execution_count": 5
  },
  {
   "cell_type": "code",
   "metadata": {
    "ExecuteTime": {
     "end_time": "2025-08-04T11:30:15.716646Z",
     "start_time": "2025-08-04T11:30:15.711689Z"
    }
   },
   "source": [
    "def create_entity_extraction_prompt(text: str) -> str:\n",
    "    \"\"\"\n",
    "    Create prompt for entity and relationship extraction focusing on core cybersecurity entity types.\n",
    "    \"\"\"\n",
    "    # Truncate text to avoid token limits\n",
    "    text_truncated = (text[:1500] if text else \"\").replace('\\n', ' ').strip()\n",
    "    \n",
    "    prompt = f\"\"\"Instruction: Please identify the following types of entities and then extract the relationships between these extracted entities:\n",
    "\n",
    "Entity Types (focus on these only):\n",
    "- Malware: Malicious software (e.g., 'Stuxnet', 'Emotet', 'Backdoor.Atharvan')\n",
    "- Threat Type: Category of threats (e.g., 'Ransomware', 'APT', 'Botnet')\n",
    "- Attacker: Threat actors/groups (e.g., 'APT28', 'Lazarus Group', 'Shuckworm')\n",
    "- Technique: Attack techniques/TTPs (e.g., 'T1057: Process Discovery', 'Privilege Escalation', 'Phishing')\n",
    "- Tool: Security tools or attack tools (e.g., 'PowerShell', 'Cobalt Strike', 'EHole')\n",
    "- Vulnerability: Security weaknesses (e.g., 'CVE-2020-1472', 'CVE-2021-44228')\n",
    "- IP: IP addresses (e.g., '45.153.243.93', '192.168.1.100')\n",
    "- Domain: Domain names (e.g., 'malicious-domain[.]com', 'evil[.]example[.]com')\n",
    "- URL: URLs (e.g., 'hxxp://178.73.192[.]15/cal.exe')\n",
    "- File: File names (e.g., 'rtk.lnk', 'payload.exe', 'shtasks.exe')\n",
    "- Hash: File hashes (e.g., '2aee8bb2a953124803bc42e5c42935c9', MD5/SHA1/SHA256)\n",
    "\n",
    "Relationship Types:\n",
    "- use, hash, aka, execute, used by, download, resolved to, IP, drop, associated with, deploy, communicate with, connect to, install, exploit, contain, run, launch, target, linked to\n",
    "\n",
    "If there are no entities and relationships pertaining to the specified types, please state 'No related entities and relations'. Make sure to follow the output format shown in the following examples.\n",
    "\n",
    "Example 1:\n",
    "Input: A hitherto unknown attack group has been observed targeting a materials research organization in Asia. The group, which Symantec calls Clasiopa, is characterized by a distinct toolset, which includes one piece of custom malware (Backdoor.Atharvan).\n",
    "Output: Named Entities: (Clasiopa, Attacker), (Backdoor.Atharvan, Malware)\\\\nRelationships: (Clasiopa, uses, Backdoor.Atharvan)\n",
    "\n",
    "Example 2:\n",
    "Input: The Emotet malware has been observed using new phishing techniques to target banking institutions. The malware exploits CVE-2021-1234 vulnerability in Microsoft Office.\n",
    "Output: Named Entities: (Emotet, Malware), (phishing, Technique), (CVE-2021-1234, Vulnerability), (Microsoft Office, Tool)\\\\nRelationships: (Emotet, uses, phishing), (Emotet, exploits, CVE-2021-1234)\n",
    "\n",
    "Example 3:\n",
    "Input: The threat actor downloaded malicious payload from hxxp://malicious-domain[.]com/payload.exe and used hash 2aee8bb2a953124803bc42e5c42935c9 to verify file integrity. The attack targeted IP address 192.168.1.100.\n",
    "Output: Named Entities: (threat actor, Attacker), (malicious payload, File), (hxxp://malicious-domain[.]com/payload.exe, URL), (2aee8bb2a953124803bc42e5c42935c9, Hash), (192.168.1.100, IP)\\\\nRelationships: (threat actor, uses, hxxp://malicious-domain[.]com/payload.exe), (threat actor, targets, 192.168.1.100)\n",
    "\n",
    "Example 4:\n",
    "Input: H2Miner botnet uses Kinsing malware and Cobalt Strike to deploy XMRig miners. The campaign communicates with C2 server at evil[.]domain[.]com and is attributed to APT group.\n",
    "Output: Named Entities: (H2Miner, Threat Type), (Kinsing, Malware), (Cobalt Strike, Tool), (XMRig, Tool), (evil[.]domain[.]com, Domain), (APT group, Attacker)\\\\nRelationships: (H2Miner, uses, Kinsing), (H2Miner, uses, Cobalt Strike), (H2Miner, uses, XMRig), (Kinsing, communicatesWith, evil[.]domain[.]com), (H2Miner, attributedTo, APT group)\n",
    "\n",
    "Example 5:\n",
    "Input: The weather forecast shows sunny skies and moderate temperatures for the weekend.\n",
    "Output: No related entities and relations\n",
    "\n",
    "Now extract entities and relationships from the following text:\n",
    "Input: {text_truncated}\n",
    "Output:\"\"\"\n",
    "    \n",
    "    return prompt\n",
    "\n",
    "# Test the prompt creation\n",
    "if data:\n",
    "    sample_prompt = create_entity_extraction_prompt(data[0]['content'])\n",
    "    print(\"📝 Sample prompt (first 500 chars):\")\n",
    "    print(sample_prompt[:500] + \"...\")\n"
   ],
   "outputs": [
    {
     "name": "stdout",
     "output_type": "stream",
     "text": [
      "📝 Sample prompt (first 500 chars):\n",
      "Instruction: Please identify the following types of entities and then extract the relationships between these extracted entities:\n",
      "\n",
      "Entity Types (focus on these only):\n",
      "- Malware: Malicious software (e.g., 'Stuxnet', 'Emotet', 'Backdoor.Atharvan')\n",
      "- Threat Type: Category of threats (e.g., 'Ransomware', 'APT', 'Botnet')\n",
      "- Attacker: Threat actors/groups (e.g., 'APT28', 'Lazarus Group', 'Shuckworm')\n",
      "- Technique: Attack techniques/TTPs (e.g., 'T1057: Process Discovery', 'Privilege Escalation', 'Phishi...\n"
     ]
    }
   ],
   "execution_count": 6
  },
  {
   "cell_type": "code",
   "metadata": {
    "ExecuteTime": {
     "end_time": "2025-08-04T11:30:39.853317Z",
     "start_time": "2025-08-04T11:30:15.742845Z"
    }
   },
   "source": [
    "def extract_entities_and_relationships(pipe, text: str) -> Dict[str, Any]:\n",
    "    \"\"\"\n",
    "    Extract entities and relationships from text using the LLM.\n",
    "    \"\"\"\n",
    "    try:\n",
    "        prompt = create_entity_extraction_prompt(text)\n",
    "        \n",
    "        # Generate response\n",
    "        response = pipe(\n",
    "            prompt,\n",
    "            max_new_tokens=300,\n",
    "            do_sample=False,\n",
    "            temperature=0.1,\n",
    "            pad_token_id=pipe.tokenizer.eos_token_id,\n",
    "        )\n",
    "        \n",
    "        # Extract generated text\n",
    "        generated_text = response[0]['generated_text']\n",
    "        answer = generated_text[len(prompt):].strip()\n",
    "        \n",
    "        print(f\"🔍 Raw model output: {answer[:200]}...\")\n",
    "        \n",
    "        # Parse the response\n",
    "        entities, relationships = parse_extraction_output(answer)\n",
    "        \n",
    "        return {\n",
    "            \"raw_output\": answer,\n",
    "            \"entities\": entities,\n",
    "            \"relationships\": relationships,\n",
    "            \"has_entities\": len(entities) > 0\n",
    "        }\n",
    "        \n",
    "    except Exception as e:\n",
    "        print(f\"❌ Error in extraction: {e}\")\n",
    "        return {\n",
    "            \"raw_output\": \"\",\n",
    "            \"entities\": [],\n",
    "            \"relationships\": [],\n",
    "            \"has_entities\": False,\n",
    "            \"error\": str(e)\n",
    "        }\n",
    "\n",
    "def parse_extraction_output(output: str) -> Tuple[List[Tuple], List[Tuple]]:\n",
    "    \"\"\"\n",
    "    Parse the model output to extract entities and relationships.\n",
    "    \"\"\"\n",
    "    entities = []\n",
    "    relationships = []\n",
    "    \n",
    "    # Check for \"No related entities\" case\n",
    "    if \"no related entities\" in output.lower():\n",
    "        return entities, relationships\n",
    "    \n",
    "    try:\n",
    "        # Split output into lines\n",
    "        lines = [line.strip() for line in output.split('\\n') if line.strip()]\n",
    "        \n",
    "        current_section = None\n",
    "        for line in lines:\n",
    "            line_lower = line.lower()\n",
    "            \n",
    "            if \"named entities:\" in line_lower:\n",
    "                current_section = \"entities\"\n",
    "                # Extract entities from the same line\n",
    "                entity_part = line.split(\":\", 1)[1] if \":\" in line else \"\"\n",
    "                entities.extend(extract_tuples_from_text(entity_part))\n",
    "                \n",
    "            elif \"relationships:\" in line_lower:\n",
    "                current_section = \"relationships\"\n",
    "                # Extract relationships from the same line\n",
    "                rel_part = line.split(\":\", 1)[1] if \":\" in line else \"\"\n",
    "                relationships.extend(extract_tuples_from_text(rel_part))\n",
    "                \n",
    "            elif current_section == \"entities\":\n",
    "                entities.extend(extract_tuples_from_text(line))\n",
    "                \n",
    "            elif current_section == \"relationships\":\n",
    "                relationships.extend(extract_tuples_from_text(line))\n",
    "    \n",
    "    except Exception as e:\n",
    "        print(f\"⚠️  Error parsing output: {e}\")\n",
    "    \n",
    "    return entities, relationships\n",
    "\n",
    "def extract_tuples_from_text(text: str) -> List[Tuple]:\n",
    "    \"\"\"\n",
    "    Extract tuples from text using regex pattern matching.\n",
    "    \"\"\"\n",
    "    tuples = []\n",
    "    \n",
    "    # Pattern to match (item1, item2) or (item1, item2, item3)\n",
    "    pattern = r'\\(([^)]+)\\)'\n",
    "    matches = re.findall(pattern, text)\n",
    "    \n",
    "    for match in matches:\n",
    "        # Split by comma and clean up\n",
    "        parts = [part.strip() for part in match.split(',')]\n",
    "        if len(parts) >= 2:\n",
    "            tuples.append(tuple(parts))\n",
    "    \n",
    "    return tuples\n",
    "\n",
    "# Test the extraction function\n",
    "if extraction_model and data:\n",
    "    print(\"\\n🧪 Testing entity extraction on sample data...\")\n",
    "    test_result = extract_entities_and_relationships(extraction_model, data[0]['content'])\n",
    "    \n",
    "    print(f\"\\n📊 Extraction Results:\")\n",
    "    print(f\"   Entities found: {len(test_result['entities'])}\")\n",
    "    print(f\"   Relationships found: {len(test_result['relationships'])}\")\n",
    "    \n",
    "    if test_result['entities']:\n",
    "        print(\"\\n🏷️  Sample Entities:\")\n",
    "        for entity in test_result['entities'][:5]:\n",
    "            print(f\"     {entity}\")\n",
    "    \n",
    "    if test_result['relationships']:\n",
    "        print(\"\\n🔗 Sample Relationships:\")\n",
    "        for rel in test_result['relationships'][:5]:\n",
    "            print(f\"     {rel}\")\n"
   ],
   "outputs": [
    {
     "name": "stderr",
     "output_type": "stream",
     "text": [
      "The following generation flags are not valid and may be ignored: ['temperature', 'top_p', 'top_k']. Set `TRANSFORMERS_VERBOSITY=info` for more details.\n"
     ]
    },
    {
     "name": "stdout",
     "output_type": "stream",
     "text": [
      "\n",
      "🧪 Testing entity extraction on sample data...\n",
      "🔍 Raw model output: Named Entities: (NailaoLocker, Malware), (SM2, Technique), (Lcrypt0rx, Malware), (Dark 101, Malware), (FortiCNAPP Composite Alerts, Tool), (Lcrypt0rx, Malware), (FortiCNAPP Labs, Tool), (FortiSandbox ...\n",
      "\n",
      "📊 Extraction Results:\n",
      "   Entities found: 12\n",
      "   Relationships found: 9\n",
      "\n",
      "🏷️  Sample Entities:\n",
      "     ('NailaoLocker', 'Malware')\n",
      "     ('SM2', 'Technique')\n",
      "     ('Lcrypt0rx', 'Malware')\n",
      "     ('Dark 101', 'Malware')\n",
      "     ('FortiCNAPP Composite Alerts', 'Tool')\n",
      "\n",
      "🔗 Sample Relationships:\n",
      "     ('NailaoLocker', 'uses', 'SM2')\n",
      "     ('NailaoLocker', 'contains', 'Lcrypt0rx')\n",
      "     ('Lcrypt0rx', 'uses', 'Dark 101')\n",
      "     ('FortiCNAPP Composite Alerts', 'linksWeakSignalsIntoClearTimelines')\n",
      "     ('Lcrypt0rx', 'uses', 'FortiCNAPP Labs')\n"
     ]
    }
   ],
   "execution_count": 7
  },
  {
   "cell_type": "code",
   "metadata": {
    "ExecuteTime": {
     "end_time": "2025-08-04T11:30:40.011215Z",
     "start_time": "2025-08-04T11:30:40.003745Z"
    }
   },
   "source": [
    "def process_articles_for_extraction(data: List[Dict], pipe, start: int = 0, offset:int=5) -> List[Dict]:\n",
    "    \"\"\"\n",
    "    Process multiple articles for entity and relationship extraction.\n",
    "    \"\"\"\n",
    "    end = min(start + offset, len(data))\n",
    "    articles_to_process = data[start:end]\n",
    "    results = []\n",
    "\n",
    "    print(f\"🔍 Processing {len(articles_to_process)} articles for entity extraction...\")\n",
    "\n",
    "    for i, article in enumerate(articles_to_process):\n",
    "        print(f\"\\nProcessing {i+1}/{len(articles_to_process)}: {article.get('title', 'Unknown')[:60]}...\")\n",
    "\n",
    "        # Extract entities and relationships\n",
    "        extraction_result = extract_entities_and_relationships(pipe, article.get('content', ''))\n",
    "\n",
    "        # Combine with original article data\n",
    "        result = {\n",
    "            \"title\": article.get('title', ''),\n",
    "            \"link\": article.get('link', ''),\n",
    "            \"content\": article.get('content', ''),\n",
    "            \"extraction\": extraction_result,\n",
    "            \"entity_count\": len(extraction_result['entities']),\n",
    "            \"relationship_count\": len(extraction_result['relationships'])\n",
    "        }\n",
    "\n",
    "        results.append(result)\n",
    "        \n",
    "        # Progress update\n",
    "        if (i + 1) % 5 == 0:\n",
    "            print(f\"  ✅ Processed {i+1}/{len(articles_to_process)} articles\")\n",
    "\n",
    "    return results\n",
    "\n",
    "# Process a small batch first for testing\n",
    "print(\"\\n🚀 Processing first 5 articles for entity extraction...\")\n",
    "extraction_results = process_articles_for_extraction(data, extraction_model, start=0, offset = 5)\n"
   ],
   "outputs": [
    {
     "name": "stdout",
     "output_type": "stream",
     "text": [
      "\n",
      "🚀 Processing first 5 articles for entity extraction...\n"
     ]
    }
   ],
   "execution_count": 8
  },
  {
   "cell_type": "code",
   "metadata": {
    "ExecuteTime": {
     "end_time": "2025-08-04T11:30:40.088223Z",
     "start_time": "2025-08-04T11:30:40.083770Z"
    }
   },
   "source": [
    "def save_extraction_results(results: List[Dict], output_file: str = \"entity-extraction.json\"):\n",
    "    \"\"\"\n",
    "    Save extraction results to files.\n",
    "    \"\"\"\n",
    "    try:\n",
    "        # Create output directory\n",
    "        output_path = Path(output_file)\n",
    "        output_path.parent.mkdir(parents=True, exist_ok=True)\n",
    "        \n",
    "        # Convert to an absolute path to avoid relative path issues\n",
    "        absolute_path = output_path.resolve()\n",
    "        print(f\"💾 Saving to: {absolute_path}\")\n",
    "        \n",
    "        with open(absolute_path, 'w', encoding='utf-8') as f:\n",
    "            json.dump(results, f, ensure_ascii=False, indent=2)\n",
    "        \n",
    "        print(f\"\\n💾 SAVED EXTRACTION RESULTS to {output_file}\")\n",
    "\n",
    "        \n",
    "    except Exception as e:\n",
    "        print(f\"❌ Error saving results: {e}\")\n",
    "        print(f\"   Attempted path: {output_path}\")\n",
    "        print(f\"   Current working directory: {os.getcwd()}\")\n",
    "        print(f\"   Absolute path would be: {Path(output_path).resolve()}\")\n"
   ],
   "outputs": [],
   "execution_count": 9
  },
  {
   "metadata": {
    "ExecuteTime": {
     "end_time": "2025-08-04T11:31:25.311286Z",
     "start_time": "2025-08-04T11:30:40.105056Z"
    }
   },
   "cell_type": "code",
   "source": [
    "# test save results\n",
    "import datetime\n",
    "today = datetime.datetime.now().strftime(\"%Y-%m-%d_%H-%M-%S\")\n",
    "offset = 2\n",
    "start = 0\n",
    "end = min(len(data), start+offset)\n",
    "\n",
    "results = process_articles_for_extraction(data, extraction_model,start=start,offset=offset)\n"
   ],
   "outputs": [
    {
     "name": "stderr",
     "output_type": "stream",
     "text": [
      "The following generation flags are not valid and may be ignored: ['temperature', 'top_p', 'top_k']. Set `TRANSFORMERS_VERBOSITY=info` for more details.\n"
     ]
    },
    {
     "name": "stdout",
     "output_type": "stream",
     "text": [
      "🔍 Processing 2 articles for entity extraction...\n",
      "\n",
      "Processing 1/2: FortiGuard Labs Threat Research...\n"
     ]
    },
    {
     "name": "stderr",
     "output_type": "stream",
     "text": [
      "The following generation flags are not valid and may be ignored: ['temperature', 'top_p', 'top_k']. Set `TRANSFORMERS_VERBOSITY=info` for more details.\n"
     ]
    },
    {
     "name": "stdout",
     "output_type": "stream",
     "text": [
      "🔍 Raw model output: Named Entities: (NailaoLocker, Malware), (SM2, Technique), (Lcrypt0rx, Malware), (Dark 101, Malware), (FortiCNAPP Composite Alerts, Tool), (Lcrypt0rx, Malware), (FortiCNAPP Labs, Tool), (FortiSandbox ...\n",
      "\n",
      "Processing 2/2: NailaoLocker Ransomware’s “Cheese”...\n",
      "🔍 Raw model output: Named Entities: (FortiGuard Labs Threat Research, Entity), (NailaoLocker, Malware), (AES-256-CBC, Technique), (SM2 cryptographic key, Vulnerability), (Windows, Platform), (user files, File), (high sev...\n"
     ]
    }
   ],
   "execution_count": 10
  },
  {
   "metadata": {
    "ExecuteTime": {
     "end_time": "2025-08-04T11:31:25.380370Z",
     "start_time": "2025-08-04T11:31:25.365140Z"
    }
   },
   "cell_type": "code",
   "source": [
    "output_path = f\"../data/entity-extraction/entity-extraction_{today}_{start}_{end}.json\"\n",
    "save_extraction_results(results, output_path)"
   ],
   "outputs": [
    {
     "name": "stdout",
     "output_type": "stream",
     "text": [
      "💾 Saving to: /Users/huynguyen/Documents/UIT/2nd/NLP/LLM-TKIG/data/entity-extraction/entity-extraction_2025-08-04_18-30-40_0_2.json\n",
      "\n",
      "💾 SAVED EXTRACTION RESULTS to ../data/entity-extraction/entity-extraction_2025-08-04_18-30-40_0_2.json\n"
     ]
    }
   ],
   "execution_count": 11
  },
  {
   "metadata": {
    "ExecuteTime": {
     "end_time": "2025-08-04T11:31:25.396928Z",
     "start_time": "2025-08-04T11:31:25.394040Z"
    }
   },
   "cell_type": "code",
   "source": [
    "import datetime\n",
    "today = datetime.datetime.now().strftime(\"%Y-%m-%d_%H-%M-%S\")\n",
    "offset = 50\n"
   ],
   "outputs": [],
   "execution_count": 12
  },
  {
   "metadata": {
    "ExecuteTime": {
     "end_time": "2025-08-04T11:31:25.428313Z",
     "start_time": "2025-08-04T11:31:25.426439Z"
    }
   },
   "cell_type": "code",
   "source": [
    "start = 0\n",
    "end = min(len(data), start+offset)\n",
    "output_path = f\"../data/entity-extraction/entity_extraction_results_{os.getenv('DEFAULT_MODEL', 'Qwen/Qwen2.5-1.5B-Instruct')}_test_{today}_{start}_{end}.json\"\n",
    "\n",
    "results = process_articles_for_extraction(data, extraction_model,start=start,offset=offset)\n",
    "save_extraction_results(results, output_path)"
   ],
   "outputs": [],
   "execution_count": 13
  },
  {
   "metadata": {
    "ExecuteTime": {
     "end_time": "2025-08-04T11:31:25.444921Z",
     "start_time": "2025-08-04T11:31:25.443387Z"
    }
   },
   "cell_type": "code",
   "source": "",
   "outputs": [],
   "execution_count": 14
  },
  {
   "metadata": {},
   "cell_type": "code",
   "outputs": [],
   "execution_count": null,
   "source": [
    "start = 50\n",
    "end = min(len(data), start+offset)\n",
    "output_path = f\"../data/entity-extraction/entity_extraction_results_{os.getenv('DEFAULT_MODEL', 'Qwen/Qwen2.5-1.5B-Instruct')}_test_{today}_{start}_{end}.json\"\n",
    "\n",
    "results = process_articles_for_extraction(data, extraction_model,start=start,offset=offset)\n",
    "save_extraction_results(results, output_path)"
   ]
  },
  {
   "metadata": {
    "ExecuteTime": {
     "end_time": "2025-08-04T11:31:25.457177Z",
     "start_time": "2025-08-04T11:31:25.455775Z"
    }
   },
   "cell_type": "code",
   "source": [
    "start = 100\n",
    "end = min(len(data), start+offset)\n",
    "output_path = f\"../data/entity-extraction/entity_extraction_results_{os.getenv('DEFAULT_MODEL', 'Qwen/Qwen2.5-1.5B-Instruct')}_test_{today}_{start}_{end}.json\"\n",
    "\n",
    "results = process_articles_for_extraction(data, extraction_model,start=start,offset=offset)\n",
    "save_extraction_results(results, output_path)"
   ],
   "outputs": [],
   "execution_count": 15
  },
  {
   "metadata": {
    "ExecuteTime": {
     "end_time": "2025-08-04T11:31:25.466258Z",
     "start_time": "2025-08-04T11:31:25.464837Z"
    }
   },
   "cell_type": "code",
   "source": [
    "start = 150\n",
    "end = min(len(data), start+offset)\n",
    "output_path = f\"../data/entity-extraction/entity_extraction_results_{os.getenv('DEFAULT_MODEL', 'Qwen/Qwen2.5-1.5B-Instruct')}_test_{today}_{start}_{end}.json\"\n",
    "\n",
    "results = process_articles_for_extraction(data, extraction_model,start=start,offset=offset)\n",
    "save_extraction_results(results, output_path)"
   ],
   "outputs": [],
   "execution_count": 16
  },
  {
   "metadata": {
    "ExecuteTime": {
     "end_time": "2025-08-04T11:31:25.480716Z",
     "start_time": "2025-08-04T11:31:25.477982Z"
    }
   },
   "cell_type": "code",
   "source": [
    "start = 200\n",
    "end = min(len(data), start+offset)\n",
    "output_path = f\"../data/entity-extraction/entity_extraction_results_{os.getenv('DEFAULT_MODEL', 'Qwen/Qwen2.5-1.5B-Instruct')}_test_{today}_{start}_{end}.json\"\n",
    "\n",
    "results = process_articles_for_extraction(data, extraction_model,start=start,offset=offset)\n",
    "save_extraction_results(results, output_path)"
   ],
   "outputs": [],
   "execution_count": 17
  },
  {
   "metadata": {
    "ExecuteTime": {
     "end_time": "2025-08-04T11:31:25.581213Z",
     "start_time": "2025-08-04T11:31:25.579627Z"
    }
   },
   "cell_type": "code",
   "source": [
    "start = 250\n",
    "end = min(len(data), start+offset)\n",
    "output_path = f\"../data/entity-extraction/entity_extraction_results_{os.getenv('DEFAULT_MODEL', 'Qwen/Qwen2.5-1.5B-Instruct')}_test_{today}_{start}_{end}.json\"\n",
    "\n",
    "results = process_articles_for_extraction(data, extraction_model,start=start,offset=offset)\n",
    "save_extraction_results(results, output_path)"
   ],
   "outputs": [],
   "execution_count": 18
  },
  {
   "metadata": {
    "ExecuteTime": {
     "end_time": "2025-08-04T11:31:25.841922Z",
     "start_time": "2025-08-04T11:31:25.840383Z"
    }
   },
   "cell_type": "code",
   "source": [
    "start = 300\n",
    "end = min(len(data), start+offset)\n",
    "output_path = f\"../data/entity-extraction/entity_extraction_results_{os.getenv('DEFAULT_MODEL', 'Qwen/Qwen2.5-1.5B-Instruct')}_test_{today}_{start}_{end}.json\"\n",
    "\n",
    "results = process_articles_for_extraction(data, extraction_model,start=start,offset=offset)\n",
    "save_extraction_results(results, output_path)"
   ],
   "outputs": [],
   "execution_count": 19
  },
  {
   "metadata": {
    "ExecuteTime": {
     "end_time": "2025-08-04T11:50:21.030783Z",
     "start_time": "2025-08-04T11:31:25.865929Z"
    }
   },
   "cell_type": "code",
   "source": [
    "start = 350\n",
    "end = min(len(data), start+offset)\n",
    "output_path = f\"../data/entity-extraction/entity_extraction_results_{os.getenv('DEFAULT_MODEL', 'Qwen/Qwen2.5-1.5B-Instruct')}_test_{today}_{start}_{end}.json\"\n",
    "\n",
    "results = process_articles_for_extraction(data, extraction_model,start=start,offset=offset)\n",
    "save_extraction_results(results, output_path)"
   ],
   "outputs": [
    {
     "name": "stderr",
     "output_type": "stream",
     "text": [
      "The following generation flags are not valid and may be ignored: ['temperature', 'top_p', 'top_k']. Set `TRANSFORMERS_VERBOSITY=info` for more details.\n"
     ]
    },
    {
     "name": "stdout",
     "output_type": "stream",
     "text": [
      "🔍 Processing 50 articles for entity extraction...\n",
      "\n",
      "Processing 1/50: symantec latest intelligence refresh...\n"
     ]
    },
    {
     "name": "stderr",
     "output_type": "stream",
     "text": [
      "The following generation flags are not valid and may be ignored: ['temperature', 'top_p', 'top_k']. Set `TRANSFORMERS_VERBOSITY=info` for more details.\n"
     ]
    },
    {
     "name": "stdout",
     "output_type": "stream",
     "text": [
      "🔍 Raw model output: Named Entities: (Symantec, Company), (PDF report, Document), (financial Trojan, Threat Type), (Ramnit, Malware), (September, Month), (August, Month), (IoT device, Device)\n",
      "Relationships: (Symantec, pub...\n",
      "\n",
      "Processing 2/50: formjacking attacks retailers...\n"
     ]
    },
    {
     "name": "stderr",
     "output_type": "stream",
     "text": [
      "The following generation flags are not valid and may be ignored: ['temperature', 'top_p', 'top_k']. Set `TRANSFORMERS_VERBOSITY=info` for more details.\n"
     ]
    },
    {
     "name": "stdout",
     "output_type": "stream",
     "text": [
      "🔍 Raw model output: Named Entities: (Magecart, Attacker), (Ticketmaster, Domain), (British Airways, Domain), (Feedify, Domain), (Newegg, Domain), (formjacking, Threat Type), (Malicious JavaScript, Tool), (payment card de...\n",
      "\n",
      "Processing 3/50: microsoft patch tuesday september 2018...\n"
     ]
    },
    {
     "name": "stderr",
     "output_type": "stream",
     "text": [
      "The following generation flags are not valid and may be ignored: ['temperature', 'top_p', 'top_k']. Set `TRANSFORMERS_VERBOSITY=info` for more details.\n"
     ]
    },
    {
     "name": "stdout",
     "output_type": "stream",
     "text": [
      "🔍 Raw model output: Named Entities: (Microsoft, Tool), (Chakra Scripting Engine, Tool), (Memory Corruption Vulnerability, Vulnerability), (Internet Explorer, Tool), (PDF Remote Code Execution Vulnerability, Vulnerability...\n",
      "\n",
      "Processing 4/50: wmic download malware...\n"
     ]
    },
    {
     "name": "stderr",
     "output_type": "stream",
     "text": [
      "The following generation flags are not valid and may be ignored: ['temperature', 'top_p', 'top_k']. Set `TRANSFORMERS_VERBOSITY=info` for more details.\n"
     ]
    },
    {
     "name": "stdout",
     "output_type": "stream",
     "text": [
      "🔍 Raw model output: Named Entities: (Windows Management Instrumentation Command-line, Tool), (eXtensible Stylesheet Language, Tool), (WMIC, Tool), (XSL, Tool), (Malware, Malware), (XML, File), (WMI, Technique), (eXtensib...\n",
      "\n",
      "Processing 5/50: mirai cross platform infection...\n"
     ]
    },
    {
     "name": "stderr",
     "output_type": "stream",
     "text": [
      "The following generation flags are not valid and may be ignored: ['temperature', 'top_p', 'top_k']. Set `TRANSFORMERS_VERBOSITY=info` for more details.\n"
     ]
    },
    {
     "name": "stdout",
     "output_type": "stream",
     "text": [
      "🔍 Raw model output: Named Entities: (Mirai botnet, Threat Type), (Linux.Mirai, Malware), (Mirai, Attacker), (shell script, Tool), (vulnerable device, Target), (executables, File), (remote server, Host), (July, Date)\n",
      "Rela...\n",
      "  ✅ Processed 5/50 articles\n",
      "\n",
      "Processing 6/50: jrat new anti parsing techniques...\n"
     ]
    },
    {
     "name": "stderr",
     "output_type": "stream",
     "text": [
      "The following generation flags are not valid and may be ignored: ['temperature', 'top_p', 'top_k']. Set `TRANSFORMERS_VERBOSITY=info` for more details.\n"
     ]
    },
    {
     "name": "stdout",
     "output_type": "stream",
     "text": [
      "🔍 Raw model output: Named Entities: (jRAT, Malware), (Trojan.Maljava, Malware), (MZ, Tool), (JAR file, File), (spam email, Threat Type), (social engineering, Technique)\n",
      "Relationships: (jRAT, uses, Trojan.Maljava), (jRAT,...\n",
      "\n",
      "Processing 7/50: microsoft patch tuesday august 2018...\n"
     ]
    },
    {
     "name": "stderr",
     "output_type": "stream",
     "text": [
      "The following generation flags are not valid and may be ignored: ['temperature', 'top_p', 'top_k']. Set `TRANSFORMERS_VERBOSITY=info` for more details.\n"
     ]
    },
    {
     "name": "stdout",
     "output_type": "stream",
     "text": [
      "🔍 Raw model output: Named Entities: (Microsoft, Tool), (Browsers, Tool), (Chakra, Tool), (Scripting Engine, Tool), (Memory Corruption Vulnerability, Vulnerability), (Information Disclosure Vulnerability, Vulnerability), ...\n",
      "\n",
      "Processing 8/50: hacked mikrotik router...\n"
     ]
    },
    {
     "name": "stderr",
     "output_type": "stream",
     "text": [
      "The following generation flags are not valid and may be ignored: ['temperature', 'top_p', 'top_k']. Set `TRANSFORMERS_VERBOSITY=info` for more details.\n"
     ]
    },
    {
     "name": "stdout",
     "output_type": "stream",
     "text": [
      "🔍 Raw model output: Named Entities: (Cryptocurrency coinminers, Malware), (ransomware, Threat Type), (Symantec, Attacker), (MikroTik routers, Tool), (Brazil, Country), (August 2018, Time Period), (Figure 2, Image), (Figu...\n",
      "\n",
      "Processing 9/50: leafminer espionage middle east...\n"
     ]
    },
    {
     "name": "stderr",
     "output_type": "stream",
     "text": [
      "The following generation flags are not valid and may be ignored: ['temperature', 'top_p', 'top_k']. Set `TRANSFORMERS_VERBOSITY=info` for more details.\n"
     ]
    },
    {
     "name": "stdout",
     "output_type": "stream",
     "text": [
      "🔍 Raw model output: Named Entities: (Leafminer, Attacker), (Malware, Malware), (e-qht.az, Domain), (publicly accessible, Linked To)\n",
      "Relationships: (Leafminer, uses, Malware), (Leafminer, downloads, e-qht.az), (e-qht.az, ...\n",
      "\n",
      "Processing 10/50: evolution emotet trojan distributor...\n"
     ]
    },
    {
     "name": "stderr",
     "output_type": "stream",
     "text": [
      "The following generation flags are not valid and may be ignored: ['temperature', 'top_p', 'top_k']. Set `TRANSFORMERS_VERBOSITY=info` for more details.\n"
     ]
    },
    {
     "name": "stdout",
     "output_type": "stream",
     "text": [
      "🔍 Raw model output: Named Entities: (Mealybug, Attacker), (Trojan.Emotet, Malware), (WannaCry, Threat Type), (Petya/NotPetya, Threat Type), (Conficker, Threat Type), (W32.Downadup, Threat Type)\n",
      "Relationships: (Mealybug, ...\n",
      "  ✅ Processed 10/50 articles\n",
      "\n",
      "Processing 11/50: powershell threats grow further and operate plain sight...\n"
     ]
    },
    {
     "name": "stderr",
     "output_type": "stream",
     "text": [
      "The following generation flags are not valid and may be ignored: ['temperature', 'top_p', 'top_k']. Set `TRANSFORMERS_VERBOSITY=info` for more details.\n"
     ]
    },
    {
     "name": "stdout",
     "output_type": "stream",
     "text": [
      "🔍 Raw model output: Named Entities: (Windows PowerShell, Tool), (WMI, Tool), (PsExec, Tool), (PowerSploit, Tool), (Empire, Tool), (living off the land, Technique), (fileless, Technique), (PowerShell, Tool), (PowerShell s...\n",
      "\n",
      "Processing 12/50: microsoft patch tuesday july 2018...\n"
     ]
    },
    {
     "name": "stderr",
     "output_type": "stream",
     "text": [
      "The following generation flags are not valid and may be ignored: ['temperature', 'top_p', 'top_k']. Set `TRANSFORMERS_VERBOSITY=info` for more details.\n"
     ]
    },
    {
     "name": "stdout",
     "output_type": "stream",
     "text": [
      "🔍 Raw model output: Named Entities: (Cumulative Security Update for Microsoft Browsers Scripting Engine Memory Corruption Vulnerability(CVE-2018-8242), Technique), (Scripting Engine Memory Corruption Vulnerability(CVE-20...\n",
      "\n",
      "Processing 13/50: thrip hits satellite telecoms defense targets...\n"
     ]
    },
    {
     "name": "stderr",
     "output_type": "stream",
     "text": [
      "The following generation flags are not valid and may be ignored: ['temperature', 'top_p', 'top_k']. Set `TRANSFORMERS_VERBOSITY=info` for more details.\n"
     ]
    },
    {
     "name": "stdout",
     "output_type": "stream",
     "text": [
      "🔍 Raw model output: Named Entities: (Living off the land, Technique), (operating system features, Tool), (legitimate network administration tools, Tool), (victim's network, Target), (Sunny skies, Weather), (moderate temp...\n",
      "\n",
      "Processing 14/50: microsoft patch tuesday june 2018...\n"
     ]
    },
    {
     "name": "stderr",
     "output_type": "stream",
     "text": [
      "The following generation flags are not valid and may be ignored: ['temperature', 'top_p', 'top_k']. Set `TRANSFORMERS_VERBOSITY=info` for more details.\n"
     ]
    },
    {
     "name": "stdout",
     "output_type": "stream",
     "text": [
      "🔍 Raw model output: Named Entities: (Cumulative Security Update for Microsoft Browsers, Tool), (Internet Explorer Memory Corruption Vulnerability, Vulnerability), (Chakra Scripting Engine Memory Corruption Vulnerability,...\n",
      "\n",
      "Processing 15/50: industry and law enforcement cooperation bears fruit fight a...\n"
     ]
    },
    {
     "name": "stderr",
     "output_type": "stream",
     "text": [
      "The following generation flags are not valid and may be ignored: ['temperature', 'top_p', 'top_k']. Set `TRANSFORMERS_VERBOSITY=info` for more details.\n"
     ]
    },
    {
     "name": "stdout",
     "output_type": "stream",
     "text": [
      "🔍 Raw model output: Named Entities: (Business email attacks, Threat Type), (419 scams, Threat Type), (FBI, Organization), (Symantec, Company), (Operation Wire-Wire, Name), (BEC attackers, Attacker), (private sector compa...\n",
      "  ✅ Processed 15/50 articles\n",
      "\n",
      "Processing 16/50: vpnfilter iot malware...\n"
     ]
    },
    {
     "name": "stderr",
     "output_type": "stream",
     "text": [
      "The following generation flags are not valid and may be ignored: ['temperature', 'top_p', 'top_k']. Set `TRANSFORMERS_VERBOSITY=info` for more details.\n"
     ]
    },
    {
     "name": "stdout",
     "output_type": "stream",
     "text": [
      "🔍 Raw model output: Named Entities: (Cisco Talos, Attacker), (Stage 3 module, Malware), (ssler, Malware), (VPNFilter, Malware), (Modbus SCADA, Vulnerability), (SCADA industrial control systems, Vulnerability), (Ukraine, ...\n",
      "\n",
      "Processing 17/50: scan4you masterminds guilty...\n"
     ]
    },
    {
     "name": "stderr",
     "output_type": "stream",
     "text": [
      "The following generation flags are not valid and may be ignored: ['temperature', 'top_p', 'top_k']. Set `TRANSFORMERS_VERBOSITY=info` for more details.\n"
     ]
    },
    {
     "name": "stdout",
     "output_type": "stream",
     "text": [
      "🔍 Raw model output: Named Entities: (Scan4You, Threat Type), (Jurijs Martisevs, Attacker), (Ruslans Bondars, Attacker), (Malware, Malware), (credit and debit card numbers, Vulnerable Data), (FBI, Organization), (undergro...\n",
      "\n",
      "Processing 18/50: latest intelligence march 2018...\n"
     ]
    },
    {
     "name": "stderr",
     "output_type": "stream",
     "text": [
      "The following generation flags are not valid and may be ignored: ['temperature', 'top_p', 'top_k']. Set `TRANSFORMERS_VERBOSITY=info` for more details.\n"
     ]
    },
    {
     "name": "stdout",
     "output_type": "stream",
     "text": [
      "🔍 Raw model output: Named Entities: (Inception Framework, Attacker), (email malware, Threat Type), (Trojan.Coinminer, Malware), (browser-based cryptocurrency mining, Technique), (Agriculture, Sector), (1 in 1,394, Vulner...\n",
      "\n",
      "Processing 19/50: coin mining without browser...\n"
     ]
    },
    {
     "name": "stderr",
     "output_type": "stream",
     "text": [
      "The following generation flags are not valid and may be ignored: ['temperature', 'top_p', 'top_k']. Set `TRANSFORMERS_VERBOSITY=info` for more details.\n"
     ]
    },
    {
     "name": "stdout",
     "output_type": "stream",
     "text": [
      "🔍 Raw model output: Named Entities: (browser-based cryptocurrency mining, Threat Type), (JavaScript, Tool), (WebAssembly (WASM), Tool), (Portable Executable file (.NET), Tool), (Coinhive, Tool), (Form1, File), (script ta...\n",
      "\n",
      "Processing 20/50: istr 23 cyber security threat landscape...\n"
     ]
    },
    {
     "name": "stderr",
     "output_type": "stream",
     "text": [
      "The following generation flags are not valid and may be ignored: ['temperature', 'top_p', 'top_k']. Set `TRANSFORMERS_VERBOSITY=info` for more details.\n"
     ]
    },
    {
     "name": "stdout",
     "output_type": "stream",
     "text": [
      "🔍 Raw model output: Named Entities: (Coin mining, Threat Type), (ransomware, Threat Type), (targeted attacks, Threat Type), (mobile security, Threat Type), (software supply chain, Threat Type)\\nRelationships: (Coin minin...\n",
      "  ✅ Processed 20/50 articles\n",
      "\n",
      "Processing 21/50: fakebank intercepts calls banks...\n"
     ]
    },
    {
     "name": "stderr",
     "output_type": "stream",
     "text": [
      "The following generation flags are not valid and may be ignored: ['temperature', 'top_p', 'top_k']. Set `TRANSFORMERS_VERBOSITY=info` for more details.\n"
     ]
    },
    {
     "name": "stdout",
     "output_type": "stream",
     "text": [
      "🔍 Raw model output: Named Entities: (Fakebank, Threat Type), (Android, Platform), (command and control (C&C), Technique), (phone number, Vulnerability), (fake UI, File), (system alert window, Permission), (scammer, Attac...\n",
      "\n",
      "Processing 22/50: inception framework hiding behind proxies...\n"
     ]
    },
    {
     "name": "stderr",
     "output_type": "stream",
     "text": [
      "The following generation flags are not valid and may be ignored: ['temperature', 'top_p', 'top_k']. Set `TRANSFORMERS_VERBOSITY=info` for more details.\n"
     ]
    },
    {
     "name": "stdout",
     "output_type": "stream",
     "text": [
      "🔍 Raw model output: Named Entities: (Inception Framework, Attacker), (stealthy new tools, Technique), (cloud, Tool), (Internet of Things (IoT), Tool), (advanced, Technique), (automated framework, Tool), (spear-phishing e...\n",
      "\n",
      "Processing 23/50: microsoft patch tuesday march 2018...\n"
     ]
    },
    {
     "name": "stderr",
     "output_type": "stream",
     "text": [
      "The following generation flags are not valid and may be ignored: ['temperature', 'top_p', 'top_k']. Set `TRANSFORMERS_VERBOSITY=info` for more details.\n"
     ]
    },
    {
     "name": "stdout",
     "output_type": "stream",
     "text": [
      "🔍 Raw model output: No related entities and relations\n",
      "\n",
      "Explanation: The input text does not contain any named entities or relationships that match the provided entity types and relationship types. It appears to be a list...\n",
      "\n",
      "Processing 24/50: latest intelligence february 2018...\n"
     ]
    },
    {
     "name": "stderr",
     "output_type": "stream",
     "text": [
      "The following generation flags are not valid and may be ignored: ['temperature', 'top_p', 'top_k']. Set `TRANSFORMERS_VERBOSITY=info` for more details.\n"
     ]
    },
    {
     "name": "stdout",
     "output_type": "stream",
     "text": [
      "🔍 Raw model output: Named Entities: (Chafer attack group, Attacker), (email malware, Threat Type), (Necurs botnet, Tool), (Facebook account, Target), (Finance, Industry), (Mining, Industry), (Ne, Domain)\n",
      "Relationships: (...\n",
      "\n",
      "Processing 25/50: chafer latest attacks reveal heightened ambitions...\n"
     ]
    },
    {
     "name": "stderr",
     "output_type": "stream",
     "text": [
      "The following generation flags are not valid and may be ignored: ['temperature', 'top_p', 'top_k']. Set `TRANSFORMERS_VERBOSITY=info` for more details.\n"
     ]
    },
    {
     "name": "stdout",
     "output_type": "stream",
     "text": [
      "🔍 Raw model output: Named Entities: (Chafer, Attacker), (Iran, Country), (targeted attack group, Entity Type), (seven new tools, Technique), (nine new target organizations, Target), (Israel, Country), (Jordan, Country), ...\n",
      "  ✅ Processed 25/50 articles\n",
      "\n",
      "Processing 26/50: android malware harvests facebook details...\n"
     ]
    },
    {
     "name": "stderr",
     "output_type": "stream",
     "text": [
      "The following generation flags are not valid and may be ignored: ['temperature', 'top_p', 'top_k']. Set `TRANSFORMERS_VERBOSITY=info` for more details.\n"
     ]
    },
    {
     "name": "stdout",
     "output_type": "stream",
     "text": [
      "🔍 Raw model output: Named Entities: (Facebook, Website), (Android.Fakeapp, Malware), (third-party markets, Tool), (English speakers, Target), (C&C server, IP)\n",
      "Relationships: (Facebook, contains, Android.Fakeapp), (Facebo...\n",
      "\n",
      "Processing 27/50: microsoft patch tuesday february 2018...\n"
     ]
    },
    {
     "name": "stderr",
     "output_type": "stream",
     "text": [
      "The following generation flags are not valid and may be ignored: ['temperature', 'top_p', 'top_k']. Set `TRANSFORMERS_VERBOSITY=info` for more details.\n"
     ]
    },
    {
     "name": "stdout",
     "output_type": "stream",
     "text": [
      "🔍 Raw model output: Named Entities: (Microsoft, Tool), (Browsers, Vulnerability), (Edge, Tool), (CVE-2018-0763, Vulnerability), (Critical, MS Rating), (Scripting Engine, Tool), (Memory Corruption, Vulnerability), (CVE-20...\n",
      "\n",
      "Processing 28/50: meltdown spectre cpu bugs...\n"
     ]
    },
    {
     "name": "stderr",
     "output_type": "stream",
     "text": [
      "The following generation flags are not valid and may be ignored: ['temperature', 'top_p', 'top_k']. Set `TRANSFORMERS_VERBOSITY=info` for more details.\n"
     ]
    },
    {
     "name": "stdout",
     "output_type": "stream",
     "text": [
      "🔍 Raw model output: Named Entities: (Meltdown, Vulnerability), (Spectre, Vulnerability), (kernel, File), (JavaScript, Tool), (operating system, Tool), (Symantec, Company), (personal computer, Device), (virtual machine, D...\n",
      "\n",
      "Processing 29/50: android malware uber credentials deep links...\n"
     ]
    },
    {
     "name": "stderr",
     "output_type": "stream",
     "text": [
      "The following generation flags are not valid and may be ignored: ['temperature', 'top_p', 'top_k']. Set `TRANSFORMERS_VERBOSITY=info` for more details.\n"
     ]
    },
    {
     "name": "stdout",
     "output_type": "stream",
     "text": [
      "🔍 Raw model output: Named Entities: (Android.Fakeappmalware, Malware), (Uber, Threat Type), (deep link URI, Technique), (current location, Vulnerability), (Ride Request activity, Technique), (victim, Target)\n",
      "Relationship...\n",
      "\n",
      "Processing 30/50: browser mining cryptocurrency...\n"
     ]
    },
    {
     "name": "stderr",
     "output_type": "stream",
     "text": [
      "The following generation flags are not valid and may be ignored: ['temperature', 'top_p', 'top_k']. Set `TRANSFORMERS_VERBOSITY=info` for more details.\n"
     ]
    },
    {
     "name": "stdout",
     "output_type": "stream",
     "text": [
      "🔍 Raw model output: Named Entities: (Browser-based cryptocurrency mining, Threat Type), (Coinhive, Malware), (JavaScript, Tool), (BitcoinPlus.com, Domain), (Monero, Vulnerable Software), (ASIC mining, Technique)\n",
      "Relation...\n",
      "  ✅ Processed 30/50 articles\n",
      "\n",
      "Processing 31/50: triton malware ics...\n"
     ]
    },
    {
     "name": "stderr",
     "output_type": "stream",
     "text": [
      "The following generation flags are not valid and may be ignored: ['temperature', 'top_p', 'top_k']. Set `TRANSFORMERS_VERBOSITY=info` for more details.\n"
     ]
    },
    {
     "name": "stdout",
     "output_type": "stream",
     "text": [
      "🔍 Raw model output: Named Entities: (Symantec, Company), (Trojan, Malware), (Triton, Malware), (Trojan.Trisis, Malware), (Safety Instrumented Systems, Vulnerability), (Windows, Tool), (Industrial Control System, Threat T...\n",
      "\n",
      "Processing 32/50: microsoft patch tuesday december...\n"
     ]
    },
    {
     "name": "stderr",
     "output_type": "stream",
     "text": [
      "The following generation flags are not valid and may be ignored: ['temperature', 'top_p', 'top_k']. Set `TRANSFORMERS_VERBOSITY=info` for more details.\n"
     ]
    },
    {
     "name": "stdout",
     "output_type": "stream",
     "text": [
      "🔍 Raw model output: Named Entities: (Cumulative Security Update for Microsoft Browsers, Tool), (CVE-2017-11888, Vulnerability), (Critical, Severity), (Scripting Engine Memory Corruption Vulnerability, Malware), (CVE-2017...\n",
      "\n",
      "Processing 33/50: mailsploit email exploit spoofing...\n"
     ]
    },
    {
     "name": "stderr",
     "output_type": "stream",
     "text": [
      "The following generation flags are not valid and may be ignored: ['temperature', 'top_p', 'top_k']. Set `TRANSFORMERS_VERBOSITY=info` for more details.\n"
     ]
    },
    {
     "name": "stdout",
     "output_type": "stream",
     "text": [
      "🔍 Raw model output: Named Entities: (Mailsploit, Malware), (RFC-1342, Vulnerability), (Yahoo Mail for iOS and Android, Tool), (Sabri Haddouche, Attacker), (Domain-based Message Authentication, Reporting and Conformance (...\n",
      "\n",
      "Processing 34/50: surge adwind distribution emails...\n"
     ]
    },
    {
     "name": "stderr",
     "output_type": "stream",
     "text": [
      "The following generation flags are not valid and may be ignored: ['temperature', 'top_p', 'top_k']. Set `TRANSFORMERS_VERBOSITY=info` for more details.\n"
     ]
    },
    {
     "name": "stdout",
     "output_type": "stream",
     "text": [
      "🔍 Raw model output: Named Entities: (Adwind, Malware), (JAR, File), (ZIP, File), (Symantec, Tool), (August 2017, Month), (October 2017, Month), (November 2017, Month), (Holiday/Shopping Season, Event)\n",
      "Relationships: (Adw...\n",
      "\n",
      "Processing 35/50: latest intel november 2017...\n"
     ]
    },
    {
     "name": "stderr",
     "output_type": "stream",
     "text": [
      "The following generation flags are not valid and may be ignored: ['temperature', 'top_p', 'top_k']. Set `TRANSFORMERS_VERBOSITY=info` for more details.\n"
     ]
    },
    {
     "name": "stdout",
     "output_type": "stream",
     "text": [
      "🔍 Raw model output: Named Entities: (spam, Threat Type), (Black Friday, Event), (Cyber Monday, Event), (Necurs, Malware), (SMS, Tool), (legitimate company, Victim), (personal information, Target), (Malware, Malware), (SM...\n",
      "  ✅ Processed 35/50 articles\n",
      "\n",
      "Processing 36/50: doublehidden android malware google play...\n"
     ]
    },
    {
     "name": "stderr",
     "output_type": "stream",
     "text": [
      "The following generation flags are not valid and may be ignored: ['temperature', 'top_p', 'top_k']. Set `TRANSFORMERS_VERBOSITY=info` for more details.\n"
     ]
    },
    {
     "name": "stdout",
     "output_type": "stream",
     "text": [
      "🔍 Raw model output: Named Entities: (Android.Trojan, Malware), (Google Play Store, Tool), (photograph by fiery, File), (i.r.r developer, Attacker), (com.aseee.apptec.treeapp, File), (Device Administrator, Vulnerability),...\n",
      "\n",
      "Processing 37/50: android malware porn apps chinese...\n"
     ]
    },
    {
     "name": "stderr",
     "output_type": "stream",
     "text": [
      "The following generation flags are not valid and may be ignored: ['temperature', 'top_p', 'top_k']. Set `TRANSFORMERS_VERBOSITY=info` for more details.\n"
     ]
    },
    {
     "name": "stdout",
     "output_type": "stream",
     "text": [
      "🔍 Raw model output: Named Entities: (Android.Rootnik.B, Malware), (Android.Reputation.1, Malware), (app-centric websites, Technique), (forums, Technique), (torrent sites, Technique), (social messaging networks, Technique...\n",
      "\n",
      "Processing 38/50: ms patch tuesday november 2017...\n"
     ]
    },
    {
     "name": "stderr",
     "output_type": "stream",
     "text": [
      "The following generation flags are not valid and may be ignored: ['temperature', 'top_p', 'top_k']. Set `TRANSFORMERS_VERBOSITY=info` for more details.\n"
     ]
    },
    {
     "name": "stdout",
     "output_type": "stream",
     "text": [
      "🔍 Raw model output: Named Entities: (Cumulative Security Update for Microsoft Browsers Scripting Engine Memory Corruption Vulnerability(CVE-2017-11858), Tool), (Scripting Engine Memory Corruption Vulnerability(CVE-2017-1...\n",
      "\n",
      "Processing 39/50: tech support scams aes...\n"
     ]
    },
    {
     "name": "stderr",
     "output_type": "stream",
     "text": [
      "The following generation flags are not valid and may be ignored: ['temperature', 'top_p', 'top_k']. Set `TRANSFORMERS_VERBOSITY=info` for more details.\n"
     ]
    },
    {
     "name": "stdout",
     "output_type": "stream",
     "text": [
      "🔍 Raw model output: Named Entities: (tech support scam, Threat Type), (code obfuscation, Technique), (string-based detection engines, Tool), (JavaScript, Language), (SMB, Protocol), (ransomware, Malware), (Microsoft, Org...\n",
      "\n",
      "Processing 40/50: sowbug cyber espionage south america asia...\n"
     ]
    },
    {
     "name": "stderr",
     "output_type": "stream",
     "text": [
      "The following generation flags are not valid and may be ignored: ['temperature', 'top_p', 'top_k']. Set `TRANSFORMERS_VERBOSITY=info` for more details.\n"
     ]
    },
    {
     "name": "stdout",
     "output_type": "stream",
     "text": [
      "🔍 Raw model output: Named Entities: (Sowbug, Attacker), (Felismus, Malware), (South America, Region), (Southeast Asia, Region), (Argentina, Country), (Brazil, Country), (Ecuador, Country), (Peru, Country), (Brunei, Count...\n",
      "  ✅ Processed 40/50 articles\n",
      "\n",
      "Processing 41/50: ransomeware risks 2017...\n"
     ]
    },
    {
     "name": "stderr",
     "output_type": "stream",
     "text": [
      "The following generation flags are not valid and may be ignored: ['temperature', 'top_p', 'top_k']. Set `TRANSFORMERS_VERBOSITY=info` for more details.\n"
     ]
    },
    {
     "name": "stdout",
     "output_type": "stream",
     "text": [
      "🔍 Raw model output: Named Entities: (ransomware, Threat Type), (WannaCry, Malware), (Petya, Malware), (EternalBlue, Vulnerability), (Windows SMB protocol, Tool), (SMB protocol, Tool)\n",
      "Relationships: (ransomware, contains,...\n",
      "\n",
      "Processing 42/50: petya ransomware wiper...\n"
     ]
    },
    {
     "name": "stderr",
     "output_type": "stream",
     "text": [
      "The following generation flags are not valid and may be ignored: ['temperature', 'top_p', 'top_k']. Set `TRANSFORMERS_VERBOSITY=info` for more details.\n"
     ]
    },
    {
     "name": "stdout",
     "output_type": "stream",
     "text": [
      "🔍 Raw model output: Named Entities: (Petya, Malware), (EternalBlue, Technique), (MEDoc, Tool), (Norton products, Tool), (Symantec Endpoint Protection, Tool)\n",
      "Relationships: (Petya, uses, EternalBlue), (Petya, spreadsAcros...\n",
      "\n",
      "Processing 43/50: wannacry ransomware attack...\n"
     ]
    },
    {
     "name": "stderr",
     "output_type": "stream",
     "text": [
      "The following generation flags are not valid and may be ignored: ['temperature', 'top_p', 'top_k']. Set `TRANSFORMERS_VERBOSITY=info` for more details.\n"
     ]
    },
    {
     "name": "stdout",
     "output_type": "stream",
     "text": [
      "🔍 Raw model output: Named Entities: (Symantec, Company), (WannaCry, Malware), (Lazarus group, Attacker), (Eternal Blue, Technique), (Shadow Brokers, Threat Actor), (Equation cyber espionage group, Threat Actor), (SEP, To...\n",
      "\n",
      "Processing 44/50: dragonfly energy sector cyber attacks...\n"
     ]
    },
    {
     "name": "stderr",
     "output_type": "stream",
     "text": [
      "The following generation flags are not valid and may be ignored: ['temperature', 'top_p', 'top_k']. Set `TRANSFORMERS_VERBOSITY=info` for more details.\n"
     ]
    },
    {
     "name": "stdout",
     "output_type": "stream",
     "text": [
      "🔍 Raw model output: Named Entities: (Cyber attack, Threat Type), (Dragonfly, Attacker), (Ukraine's power system, Target), (operational systems, Target), (Nuclear facility, Target), (Symantec, Tool), (energy sector, Targe...\n",
      "\n",
      "Processing 45/50: bachosens cyber crime investigation...\n"
     ]
    },
    {
     "name": "stderr",
     "output_type": "stream",
     "text": [
      "The following generation flags are not valid and may be ignored: ['temperature', 'top_p', 'top_k']. Set `TRANSFORMERS_VERBOSITY=info` for more details.\n"
     ]
    },
    {
     "name": "stdout",
     "output_type": "stream",
     "text": [
      "🔍 Raw model output: Named Entities: (Trojan.Bachosens, Malware), (Igor, Attacker), (international airline, Target), (Chinese auto-tech company, Target), (car diagnostics software, Vulnerability), (underground forums and ...\n",
      "  ✅ Processed 45/50 articles\n",
      "\n",
      "Processing 46/50: longhorn cyberespionage vault7...\n"
     ]
    },
    {
     "name": "stderr",
     "output_type": "stream",
     "text": [
      "The following generation flags are not valid and may be ignored: ['temperature', 'top_p', 'top_k']. Set `TRANSFORMERS_VERBOSITY=info` for more details.\n"
     ]
    },
    {
     "name": "stdout",
     "output_type": "stream",
     "text": [
      "🔍 Raw model output: Named Entities: (Longhorn, Attacker), (Vault 7, Document), (back door Trojans, Tool), (zero-day vulnerabilities, Vulnerability), (United States, Country)\n",
      "Relationships: (Longhorn, uses, back door Troj...\n",
      "\n",
      "Processing 47/50: bayrob suspects extradited...\n"
     ]
    },
    {
     "name": "stderr",
     "output_type": "stream",
     "text": [
      "The following generation flags are not valid and may be ignored: ['temperature', 'top_p', 'top_k']. Set `TRANSFORMERS_VERBOSITY=info` for more details.\n"
     ]
    },
    {
     "name": "stdout",
     "output_type": "stream",
     "text": [
      "🔍 Raw model output: Named Entities: (Bayrob, Threat Type), (Bogdan Nicolescu, Attacker), (Danet Tiberiu, Attacker), (Radu Miclaus, Attacker), (Masterfraud, Attacker), (Amy, Attacker), (Minolta, Attacker), (Amightysa, Att...\n",
      "\n",
      "Processing 48/50: shamoon back destructive...\n"
     ]
    },
    {
     "name": "stderr",
     "output_type": "stream",
     "text": [
      "The following generation flags are not valid and may be ignored: ['temperature', 'top_p', 'top_k']. Set `TRANSFORMERS_VERBOSITY=info` for more details.\n"
     ]
    },
    {
     "name": "stdout",
     "output_type": "stream",
     "text": [
      "🔍 Raw model output: Named Entities: (Shamoon, Malware), (W32.Disttrack, Malware), (W32.Disttrack.B, Malware), (Alan Kurdi, Victim), (Saudi Arabian, Location), (working week, Time Period), (Thursday, Day)\n",
      "Relationships: (...\n",
      "\n",
      "Processing 49/50: gatak healthcare...\n"
     ]
    },
    {
     "name": "stderr",
     "output_type": "stream",
     "text": [
      "The following generation flags are not valid and may be ignored: ['temperature', 'top_p', 'top_k']. Set `TRANSFORMERS_VERBOSITY=info` for more details.\n"
     ]
    },
    {
     "name": "stdout",
     "output_type": "stream",
     "text": [
      "🔍 Raw model output: Named Entities: (Gatak Trojan, Malware), (healthcare sector, Target), (insurance sector, Target), (enterprise computers, Device), (product key generator, File), (software, Software), (website, Website...\n",
      "\n",
      "Processing 50/50: odinaff trojan financial attacks...\n",
      "🔍 Raw model output: Named Entities: (Trojan.Odinaff, Malware), (Odinaff, Malware), (Carbanak, Threat Type), (Backdoor.Batel, Malware), (Carbanak, Threat Type)\n",
      "Relationships: (Trojan.Odinaff, uses, Backdoor.Batel), (Carba...\n",
      "  ✅ Processed 50/50 articles\n",
      "💾 Saving to: /Users/huynguyen/Documents/UIT/2nd/NLP/LLM-TKIG/data/entity-extraction/entity_extraction_results_Qwen/Qwen2.5-1.5B-Instruct_test_2025-08-04_18-31-25_350_400.json\n",
      "\n",
      "💾 SAVED EXTRACTION RESULTS to ../data/entity-extraction/entity_extraction_results_Qwen/Qwen2.5-1.5B-Instruct_test_2025-08-04_18-31-25_350_400.json\n"
     ]
    }
   ],
   "execution_count": 20
  },
  {
   "metadata": {
    "ExecuteTime": {
     "end_time": "2025-08-04T11:59:29.666969Z",
     "start_time": "2025-08-04T11:50:21.334660Z"
    }
   },
   "cell_type": "code",
   "source": [
    "start = 400\n",
    "end = min(len(data), start+offset)\n",
    "output_path = f\"../data/entity-extraction/entity_extraction_results_{os.getenv('DEFAULT_MODEL', 'Qwen/Qwen2.5-1.5B-Instruct')}_test_{today}_{start}_{end}.json\"\n",
    "\n",
    "results = process_articles_for_extraction(data, extraction_model,start=start,offset=offset)\n",
    "save_extraction_results(results, output_path)"
   ],
   "outputs": [
    {
     "name": "stderr",
     "output_type": "stream",
     "text": [
      "The following generation flags are not valid and may be ignored: ['temperature', 'top_p', 'top_k']. Set `TRANSFORMERS_VERBOSITY=info` for more details.\n"
     ]
    },
    {
     "name": "stdout",
     "output_type": "stream",
     "text": [
      "🔍 Processing 27 articles for entity extraction...\n",
      "\n",
      "Processing 1/27: buckeye cyberespionage hong kong...\n"
     ]
    },
    {
     "name": "stderr",
     "output_type": "stream",
     "text": [
      "The following generation flags are not valid and may be ignored: ['temperature', 'top_p', 'top_k']. Set `TRANSFORMERS_VERBOSITY=info` for more details.\n"
     ]
    },
    {
     "name": "stdout",
     "output_type": "stream",
     "text": [
      "🔍 Raw model output: Named Entities: (Buckeye, Attacker), (APT3, Attacker), (Gothic Panda, Attacker), (UPS Team, Attacker), (TG-0110, Attacker), (Hong Kong, Location), (US, Location), (backdoor.pirpi, Malware), (spear-phi...\n",
      "\n",
      "Processing 2/27: equation cyberespionage group breached...\n"
     ]
    },
    {
     "name": "stderr",
     "output_type": "stream",
     "text": [
      "The following generation flags are not valid and may be ignored: ['temperature', 'top_p', 'top_k']. Set `TRANSFORMERS_VERBOSITY=info` for more details.\n"
     ]
    },
    {
     "name": "stdout",
     "output_type": "stream",
     "text": [
      "🔍 Raw model output: Named Entities: (Shadow Brokers, Attacker), (Equation, Threat Type), (Malware, Tool), (router, Device), (firewall appliance, Device), (exploit, Technique)\n",
      "Relationships: (Shadow Brokers, uses, Equatio...\n",
      "\n",
      "Processing 3/27: strider cyberespionage sauron...\n"
     ]
    },
    {
     "name": "stderr",
     "output_type": "stream",
     "text": [
      "The following generation flags are not valid and may be ignored: ['temperature', 'top_p', 'top_k']. Set `TRANSFORMERS_VERBOSITY=info` for more details.\n"
     ]
    },
    {
     "name": "stdout",
     "output_type": "stream",
     "text": [
      "🔍 Raw model output: Named Entities: (Strider, Attacker), (Remsec, Malware), (Sauron, Threat Type), (Regin, Threat Type), (Flamer, Threat Type), (Lua, Technique)\n",
      "Relationships: (Strider, uses, Remsec), (Strider, linkedTo,...\n",
      "\n",
      "Processing 4/27: swift malware financial attacks...\n"
     ]
    },
    {
     "name": "stderr",
     "output_type": "stream",
     "text": [
      "The following generation flags are not valid and may be ignored: ['temperature', 'top_p', 'top_k']. Set `TRANSFORMERS_VERBOSITY=info` for more details.\n"
     ]
    },
    {
     "name": "stdout",
     "output_type": "stream",
     "text": [
      "🔍 Raw model output: Named Entities: (bank in the Philippines, Target), (Bangladesh central bank, Target), (Tien Phong Bank, Target), (Vietnam's Tien Phong Bank, Target), (Banco del Austro, Target), (Ecuador's Banco del A...\n",
      "\n",
      "Processing 5/27: tick cyberespionage japan...\n"
     ]
    },
    {
     "name": "stderr",
     "output_type": "stream",
     "text": [
      "The following generation flags are not valid and may be ignored: ['temperature', 'top_p', 'top_k']. Set `TRANSFORMERS_VERBOSITY=info` for more details.\n"
     ]
    },
    {
     "name": "stdout",
     "output_type": "stream",
     "text": [
      "🔍 Raw model output: Named Entities: (Tick, Attacker), (Backdoor.Daserf, Malware), (Gofarer, Tool), (Flash(.swf), Vulnerability), (Japanese, Location), (technology, Sector), (aquatic engineering, Sector), (broadcasting, S...\n",
      "  ✅ Processed 5/27 articles\n",
      "\n",
      "Processing 6/27: taiwan cyberespionage backdoor trojan...\n"
     ]
    },
    {
     "name": "stderr",
     "output_type": "stream",
     "text": [
      "The following generation flags are not valid and may be ignored: ['temperature', 'top_p', 'top_k']. Set `TRANSFORMERS_VERBOSITY=info` for more details.\n"
     ]
    },
    {
     "name": "stdout",
     "output_type": "stream",
     "text": [
      "🔍 Raw model output: Named Entities: (Backdoor.Dripion, Malware), (Budminer, Attacker), (Trojan.Taidoor, Malware), (file hashes, Hash), (Taiwan, Location), (Brazil, Location), (United States, Location), (command and contr...\n",
      "\n",
      "Processing 7/27: operation blockbuster lazarus...\n"
     ]
    },
    {
     "name": "stderr",
     "output_type": "stream",
     "text": [
      "The following generation flags are not valid and may be ignored: ['temperature', 'top_p', 'top_k']. Set `TRANSFORMERS_VERBOSITY=info` for more details.\n"
     ]
    },
    {
     "name": "stdout",
     "output_type": "stream",
     "text": [
      "🔍 Raw model output: Named Entities: (Operation Blockbuster, Initiative), (Lazarus, Attacker), (Novetta, Company), (Symantec, Company), (u, Technique)\n",
      "Relationships: (Operation Blockbuster, launchedBy, Novetta), (Operatio...\n",
      "\n",
      "Processing 8/27: dridex financial trojan spam...\n"
     ]
    },
    {
     "name": "stderr",
     "output_type": "stream",
     "text": [
      "The following generation flags are not valid and may be ignored: ['temperature', 'top_p', 'top_k']. Set `TRANSFORMERS_VERBOSITY=info` for more details.\n"
     ]
    },
    {
     "name": "stdout",
     "output_type": "stream",
     "text": [
      "🔍 Raw model output: Named Entities: (Dridex, Malware), (Symantec, Company), (W32.Cridex, Malware), (English, Language), (financial, Threat Type), (banking, Target), (Symantec, Company), (whitepaper, Document), (Symantec,...\n",
      "\n",
      "Processing 9/27: dyre bank fraud group takedown...\n"
     ]
    },
    {
     "name": "stderr",
     "output_type": "stream",
     "text": [
      "The following generation flags are not valid and may be ignored: ['temperature', 'top_p', 'top_k']. Set `TRANSFORMERS_VERBOSITY=info` for more details.\n"
     ]
    },
    {
     "name": "stdout",
     "output_type": "stream",
     "text": [
      "🔍 Raw model output: Named Entities: (Dyre, Malware), (Upatre, Malware), (Downloader.Upatre, Tool), (email spam campaigns, Technique), (November, Date), (November 18, Date), (Downloader.Upatre, usedBy, Dyre), (Updater.Upa...\n",
      "\n",
      "Processing 10/27: destructive disakil malware ukraine...\n"
     ]
    },
    {
     "name": "stderr",
     "output_type": "stream",
     "text": [
      "The following generation flags are not valid and may be ignored: ['temperature', 'top_p', 'top_k']. Set `TRANSFORMERS_VERBOSITY=info` for more details.\n"
     ]
    },
    {
     "name": "stdout",
     "output_type": "stream",
     "text": [
      "🔍 Raw model output: Named Entities: (Disakil, Malware), (BlackEnergy, Malware), (Sandworm, Attacker), (Apress, Organization), (SBU, Organization), (Ukraine, Location), (energy sector, Threat Type)\n",
      "Relationships: (Disakil...\n",
      "  ✅ Processed 10/27 articles\n",
      "\n",
      "Processing 11/27: dridex takedown...\n"
     ]
    },
    {
     "name": "stderr",
     "output_type": "stream",
     "text": [
      "The following generation flags are not valid and may be ignored: ['temperature', 'top_p', 'top_k']. Set `TRANSFORMERS_VERBOSITY=info` for more details.\n"
     ]
    },
    {
     "name": "stdout",
     "output_type": "stream",
     "text": [
      "🔍 Raw model output: Named Entities: (Dridex, Threat Type), (W32.Cridex, Malware), (Bugat, Malware), (financial threat, Threat Type), (malicious macros, Technique), (Microsoft Office, Tool), (Symantec, Company), (State of...\n",
      "\n",
      "Processing 12/27: regin mysteries cyberespionage...\n"
     ]
    },
    {
     "name": "stderr",
     "output_type": "stream",
     "text": [
      "The following generation flags are not valid and may be ignored: ['temperature', 'top_p', 'top_k']. Set `TRANSFORMERS_VERBOSITY=info` for more details.\n"
     ]
    },
    {
     "name": "stdout",
     "output_type": "stream",
     "text": [
      "🔍 Raw model output: Named Entities: (Regin, Malware), (Symantec, Attacker), (technical whitepaper, Document), (command-and-control (C&C) infrastructure, Infrastructure)\n",
      "Relationships: (Regin, uses, technical whitepaper),...\n",
      "\n",
      "Processing 13/27: black vine cyberespionage aerospace healthcare...\n"
     ]
    },
    {
     "name": "stderr",
     "output_type": "stream",
     "text": [
      "The following generation flags are not valid and may be ignored: ['temperature', 'top_p', 'top_k']. Set `TRANSFORMERS_VERBOSITY=info` for more details.\n"
     ]
    },
    {
     "name": "stdout",
     "output_type": "stream",
     "text": [
      "🔍 Raw model output: Named Entities: (Anthem, Threat Type), (Black Vine, Attacker), (zero-day vulnerability, Vulnerability), (watering-hole attack, Technique), (custom malware, Malware), (legitimate website, Domain), (rem...\n",
      "\n",
      "Processing 14/27: forkmeiamfamous seaduke duke...\n"
     ]
    },
    {
     "name": "stderr",
     "output_type": "stream",
     "text": [
      "The following generation flags are not valid and may be ignored: ['temperature', 'top_p', 'top_k']. Set `TRANSFORMERS_VERBOSITY=info` for more details.\n"
     ]
    },
    {
     "name": "stdout",
     "output_type": "stream",
     "text": [
      "🔍 Raw model output: Named Entities: (Seaduke, Malware), (Cozyduke, Malware), (Cyberespionage group, Attacker), (United States, Country), (Europe, Continent)\n",
      "Relationships: (Seaduke, uses, Cozyduke), (Cyberespionage group...\n",
      "\n",
      "Processing 15/27: butterfly corporate attacks...\n"
     ]
    },
    {
     "name": "stderr",
     "output_type": "stream",
     "text": [
      "The following generation flags are not valid and may be ignored: ['temperature', 'top_p', 'top_k']. Set `TRANSFORMERS_VERBOSITY=info` for more details.\n"
     ]
    },
    {
     "name": "stdout",
     "output_type": "stream",
     "text": [
      "🔍 Raw model output: Named Entities: (Butterfly, Attacker), (Windows, OS), (Apple, OS), (zero-day vulnerability, Vulnerability), (Twitter, Domain), (Facebook, Domain), (Apple, Company), (Microsoft, Company)\n",
      "Relationships:...\n",
      "  ✅ Processed 15/27 articles\n",
      "\n",
      "Processing 16/27: dyre financial trojan...\n"
     ]
    },
    {
     "name": "stderr",
     "output_type": "stream",
     "text": [
      "The following generation flags are not valid and may be ignored: ['temperature', 'top_p', 'top_k']. Set `TRANSFORMERS_VERBOSITY=info` for more details.\n"
     ]
    },
    {
     "name": "stdout",
     "output_type": "stream",
     "text": [
      "🔍 Raw model output: Named Entities: (Dyre, Malware), (Symantec, Tool), (Infostealer.Dyre, Hash), (spam emails, Technique), (Malicious website, URL)\n",
      "Relationships: (Dyre, uses, Infostealer.Dyre), (Dyre, spreadsUsing, spam...\n",
      "\n",
      "Processing 17/27: duqu 20 cyberespionage...\n"
     ]
    },
    {
     "name": "stderr",
     "output_type": "stream",
     "text": [
      "The following generation flags are not valid and may be ignored: ['temperature', 'top_p', 'top_k']. Set `TRANSFORMERS_VERBOSITY=info` for more details.\n"
     ]
    },
    {
     "name": "stdout",
     "output_type": "stream",
     "text": [
      "🔍 Raw model output: Named Entities: (Duqu 2.0, Malware), (Kaspersky Lab, Attacker), (Stuxnet, Malware), (Iranian nuclear development program, Target), (European telecoms operator, Target), (North African telecoms operato...\n",
      "\n",
      "Processing 18/27: equation cyberespionage group...\n"
     ]
    },
    {
     "name": "stderr",
     "output_type": "stream",
     "text": [
      "The following generation flags are not valid and may be ignored: ['temperature', 'top_p', 'top_k']. Set `TRANSFORMERS_VERBOSITY=info` for more details.\n"
     ]
    },
    {
     "name": "stdout",
     "output_type": "stream",
     "text": [
      "🔍 Raw model output: Named Entities: (Equation, Attacker), (Malware, Malware), (Wipbot, Malware), (Trojan Turla, Malware), (Infostealer.Micstus, Malware), (Trojan.Tripfant, Malware), (Grayphish, Malware), (GrayFish, Malwa...\n",
      "\n",
      "Processing 19/27: carbanak cybercrime gang...\n"
     ]
    },
    {
     "name": "stderr",
     "output_type": "stream",
     "text": [
      "The following generation flags are not valid and may be ignored: ['temperature', 'top_p', 'top_k']. Set `TRANSFORMERS_VERBOSITY=info` for more details.\n"
     ]
    },
    {
     "name": "stdout",
     "output_type": "stream",
     "text": [
      "🔍 Raw model output: Named Entities: (Carbanak, Threat Type), (Trojan.Carberp.B, Malware), (Trojan.Carberp, Malware), (Silicon, Attacker), (Anunak, Attacker), (ATM, Object), (money mule, Object)\n",
      "Relationships: (Carbanak, ...\n",
      "\n",
      "Processing 20/27: destover destructive malware south korea...\n"
     ]
    },
    {
     "name": "stderr",
     "output_type": "stream",
     "text": [
      "The following generation flags are not valid and may be ignored: ['temperature', 'top_p', 'top_k']. Set `TRANSFORMERS_VERBOSITY=info` for more details.\n"
     ]
    },
    {
     "name": "stdout",
     "output_type": "stream",
     "text": [
      "🔍 Raw model output: Named Entities: (Backdoor.Destover, Malware), (FBI, Attacker), (Trojan.Volgmer, Malware), (Volgmer, Malware), (Jokra, Malware), (Shamoon, Malware), (commercially available drivers, Tool), (Destover, M...\n",
      "  ✅ Processed 20/27 articles\n",
      "\n",
      "Processing 21/27: regin espionage surveillance...\n"
     ]
    },
    {
     "name": "stderr",
     "output_type": "stream",
     "text": [
      "The following generation flags are not valid and may be ignored: ['temperature', 'top_p', 'top_k']. Set `TRANSFORMERS_VERBOSITY=info` for more details.\n"
     ]
    },
    {
     "name": "stdout",
     "output_type": "stream",
     "text": [
      "🔍 Raw model output: Named Entities: (Regin, Malware), (Backdoor.Regin, Malware)\n",
      "Relationships: (Regin, uses, Backdoor.Regin) ```...\n",
      "\n",
      "Processing 22/27: turla espionage diplomats...\n"
     ]
    },
    {
     "name": "stderr",
     "output_type": "stream",
     "text": [
      "The following generation flags are not valid and may be ignored: ['temperature', 'top_p', 'top_k']. Set `TRANSFORMERS_VERBOSITY=info` for more details.\n"
     ]
    },
    {
     "name": "stdout",
     "output_type": "stream",
     "text": [
      "🔍 Raw model output: Named Entities: (Wipbot, Malware), (Turla, Malware), (Spear phishing, Technique), (Watering hole, Technique), (IP address, IP), (Legitimate website, Domain), (Compromised website, Domain), (Malware, F...\n",
      "\n",
      "Processing 23/27: dragonfly energy companies sabotage...\n"
     ]
    },
    {
     "name": "stderr",
     "output_type": "stream",
     "text": [
      "The following generation flags are not valid and may be ignored: ['temperature', 'top_p', 'top_k']. Set `TRANSFORMERS_VERBOSITY=info` for more details.\n"
     ]
    },
    {
     "name": "stdout",
     "output_type": "stream",
     "text": [
      "🔍 Raw model output: Named Entities: (Dragonfly, Attacker), (Stuxnet, Malware), (remote access type Trojan, Malware), (ICS equipment providers, Target), (software, File), (ICS equipment, File), (ICS computers, Target), (S...\n",
      "\n",
      "Processing 24/27: hidden lynx professional hackers hire...\n"
     ]
    },
    {
     "name": "stderr",
     "output_type": "stream",
     "text": [
      "The following generation flags are not valid and may be ignored: ['temperature', 'top_p', 'top_k']. Set `TRANSFORMERS_VERBOSITY=info` for more details.\n"
     ]
    },
    {
     "name": "stdout",
     "output_type": "stream",
     "text": [
      "🔍 Raw model output: Named Entities: (Hidden Lynx, Attacker), (Advanced Persistent Threats, Threat Type), (Watering hole, Technique), (zero-day vulnerabilities, Vulnerability), (supply chain, Tool), (intelligent hunter, A...\n",
      "\n",
      "Processing 25/27: darkseoul cyberattacks south korea...\n"
     ]
    },
    {
     "name": "stderr",
     "output_type": "stream",
     "text": [
      "The following generation flags are not valid and may be ignored: ['temperature', 'top_p', 'top_k']. Set `TRANSFORMERS_VERBOSITY=info` for more details.\n"
     ]
    },
    {
     "name": "stdout",
     "output_type": "stream",
     "text": [
      "🔍 Raw model output: Named Entities: (DarkSeoul gang, Attacker), (DDoS, Technique), (Trojan.Castov, Malware), (Jokra attacks, Threat Type), (United States Independence Day, Event), (South Korean independence day, Event), ...\n",
      "  ✅ Processed 25/27 articles\n",
      "\n",
      "Processing 26/27: duqu next stuxnet...\n"
     ]
    },
    {
     "name": "stderr",
     "output_type": "stream",
     "text": [
      "The following generation flags are not valid and may be ignored: ['temperature', 'top_p', 'top_k']. Set `TRANSFORMERS_VERBOSITY=info` for more details.\n"
     ]
    },
    {
     "name": "stdout",
     "output_type": "stream",
     "text": [
      "🔍 Raw model output: Named Entities: (Stuxnet, Malware), (Duqu, Malware), (Industrial Control System, Vulnerability), (remote access trojan, Tool), (telemetry, Data)\n",
      "Relationships: (Stuxnet, contains, Duqu), (Duqu, uses, ...\n",
      "\n",
      "Processing 27/27: stuxnet dossier espionage...\n",
      "🔍 Raw model output: Named Entities: (Stuxnet, Malware), (VirusBlokada, Attacker), (unpatched vulnerability, Vulnerability), (removable drive, Device), (industrial control systems, Target)\n",
      "Relationships: (Stuxnet, uses, u...\n",
      "💾 Saving to: /Users/huynguyen/Documents/UIT/2nd/NLP/LLM-TKIG/data/entity-extraction/entity_extraction_results_Qwen/Qwen2.5-1.5B-Instruct_test_2025-08-04_18-31-25_400_427.json\n",
      "\n",
      "💾 SAVED EXTRACTION RESULTS to ../data/entity-extraction/entity_extraction_results_Qwen/Qwen2.5-1.5B-Instruct_test_2025-08-04_18-31-25_400_427.json\n"
     ]
    }
   ],
   "execution_count": 21
  }
 ],
 "metadata": {
  "language_info": {
   "name": "python"
  }
 },
 "nbformat": 4,
 "nbformat_minor": 2
}
