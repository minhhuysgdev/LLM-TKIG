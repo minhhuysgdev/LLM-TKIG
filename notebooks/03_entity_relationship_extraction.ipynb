{
 "cells": [
  {
   "cell_type": "markdown",
   "metadata": {},
   "source": [
    "# Entity and Relationship Extraction for Threat Intelligence\n",
    "\n",
    "## Overview\n",
    "This notebook implements entity and relationship extraction from threat intelligence text using LLM-based approach.\n",
    "\n",
    "### Task Description\n",
    "- **Input**: Threat intelligence text content\n",
    "- **Output**: Named entities and relationships in structured format\n",
    "- **Entity Types**: malware, threat type, attacker, vulnerability, tool, etc.\n",
    "- **Relationship Types**: use, target, exploit, etc.\n",
    "\n",
    "### Example\n",
    "**Input**: A hitherto unknown attack group has been observed targeting a materials research organization in Asia. The group, which Symantec calls Clasiopa, is characterized by a distinct toolset, which includes one piece of custom malware (Backdoor.Atharvan).\n",
    "\n",
    "**Output**:\n",
    "- Named Entities: (Clasiopa, attacker), (custom malware, malware), (Backdoor.Atharvan, malware)\n",
    "- Relationships: (Clasiopa, use, custom malware), (custom malware, name, Backdoor.Atharvan)\n"
   ]
  },
  {
   "cell_type": "code",
   "execution_count": 1,
   "metadata": {
    "ExecuteTime": {
     "end_time": "2025-08-17T09:39:27.844031Z",
     "start_time": "2025-08-17T09:39:15.377951Z"
    }
   },
   "outputs": [
    {
     "name": "stdout",
     "output_type": "stream",
     "text": [
      "🔧 Setting up Entity & Relationship Extraction Pipeline\n",
      "============================================================\n"
     ]
    }
   ],
   "source": [
    "import json\n",
    "import os\n",
    "import re\n",
    "from pathlib import Path\n",
    "from typing import Dict, List, Tuple, Any\n",
    "from collections import defaultdict\n",
    "import datetime\n",
    "\n",
    "# Load environment and model setup\n",
    "from dotenv import load_dotenv\n",
    "import torch\n",
    "from transformers import AutoTokenizer, AutoModelForCausalLM, pipeline\n",
    "\n",
    "# Load environment variables\n",
    "load_dotenv()\n",
    "\n",
    "print(\"🔧 Setting up Entity & Relationship Extraction Pipeline\")\n",
    "print(\"=\" * 60)\n"
   ]
  },
  {
   "cell_type": "code",
   "execution_count": 2,
   "metadata": {
    "ExecuteTime": {
     "end_time": "2025-08-17T09:39:30.364462Z",
     "start_time": "2025-08-17T09:39:30.326470Z"
    }
   },
   "outputs": [
    {
     "name": "stdout",
     "output_type": "stream",
     "text": [
      "✅ Loaded 427 records from ../data/processed/merged_threat_intelligence.json\n",
      "📊 Sample data structure:\n",
      "   Keys: ['title', 'content', 'link']\n",
      "   Title: FortiGuard Labs Threat Research...\n"
     ]
    }
   ],
   "source": [
    "def load_data(input_file: str) -> list:\n",
    "    \"\"\"\n",
    "    Load threat intelligence data from JSON file.\n",
    "    \"\"\"\n",
    "    try:\n",
    "        with open(input_file, 'r', encoding='utf-8') as f:\n",
    "            data = json.load(f)\n",
    "        print(f\"✅ Loaded {len(data)} records from {input_file}\")\n",
    "        return data\n",
    "    except Exception as e:\n",
    "        print(f\"❌ Error loading {input_file}: {e}\")\n",
    "        return []\n",
    "\n",
    "# Load threat intelligence data\n",
    "data_path = '../data/processed/merged_threat_intelligence.json'\n",
    "data = load_data(data_path)\n",
    "\n",
    "if data:\n",
    "    print(f\"📊 Sample data structure:\")\n",
    "    print(f\"   Keys: {list(data[0].keys())}\")\n",
    "    print(f\"   Title: {data[0]['title'][:100]}...\")\n"
   ]
  },
  {
   "cell_type": "code",
   "execution_count": 3,
   "metadata": {
    "ExecuteTime": {
     "end_time": "2025-08-17T09:39:33.656874Z",
     "start_time": "2025-08-17T09:39:33.608773Z"
    }
   },
   "outputs": [
    {
     "name": "stdout",
     "output_type": "stream",
     "text": [
      "🖥️  Using device: CUDA\n",
      "🔧 PyTorch version: 2.7.1+cu128\n"
     ]
    }
   ],
   "source": [
    "# Device setup\n",
    "device = (\n",
    "    \"cuda\" if torch.cuda.is_available()\n",
    "    else \"mps\" if torch.backends.mps.is_available()\n",
    "    else \"cpu\"\n",
    ")\n",
    "\n",
    "print(f\"🖥️  Using device: {device.upper()}\")\n",
    "print(f\"🔧 PyTorch version: {torch.__version__}\")\n",
    "\n",
    "# Memory cleanup\n",
    "if device == \"cuda\":\n",
    "    torch.cuda.empty_cache()\n",
    "elif device == \"mps\":\n",
    "    import gc\n",
    "    gc.collect()\n",
    "    if hasattr(torch.mps, 'empty_cache'):\n",
    "        torch.mps.empty_cache()\n"
   ]
  },
  {
   "cell_type": "code",
   "execution_count": 4,
   "metadata": {
    "ExecuteTime": {
     "end_time": "2025-08-17T09:39:43.429675Z",
     "start_time": "2025-08-17T09:39:36.371178Z"
    }
   },
   "outputs": [
    {
     "name": "stdout",
     "output_type": "stream",
     "text": [
      "🤖 Đang tải mô hình: Qwen/Qwen2.5-1.5B-Instruct\n",
      "📱 Thiết bị: CUDA\n",
      "🔑 Token: ✅ Found\n"
     ]
    },
    {
     "name": "stderr",
     "output_type": "stream",
     "text": [
      "Device set to use cuda:0\n"
     ]
    },
    {
     "name": "stdout",
     "output_type": "stream",
     "text": [
      "✅ Đã tải thành công Qwen/Qwen2.5-1.5B-Instruct trên CUDA\n"
     ]
    }
   ],
   "source": [
    "# Get configuration from environment\n",
    "HF_TOKEN = os.getenv('HF_TOKEN')\n",
    "DEFAULT_MODEL = os.getenv('DEFAULT_MODEL', 'Qwen/Qwen2.5-1.5B-Instruct')\n",
    "FALLBACK_MODEL = os.getenv('FALLBACK_MODEL', 'gpt2')\n",
    "\n",
    "def setup_model_for_extraction(model_name: str = None, hf_token: str = None):\n",
    "    \"\"\"\n",
    "    Tải model từ Hugging Face với token từ environment variables.\n",
    "    \"\"\"\n",
    "    model_name = model_name or DEFAULT_MODEL\n",
    "    hf_token = hf_token or HF_TOKEN\n",
    "\n",
    "    print(f\"🤖 Đang tải mô hình: {model_name}\")\n",
    "    print(f\"📱 Thiết bị: {device.upper()}\")\n",
    "    print(f\"🔑 Token: {'✅ Found' if hf_token else '❌ Missing'}\")\n",
    "\n",
    "    try:\n",
    "        # Load tokenizer\n",
    "        tokenizer = AutoTokenizer.from_pretrained(\n",
    "            model_name,\n",
    "            token=hf_token,\n",
    "            trust_remote_code=True\n",
    "        )\n",
    "        tokenizer.pad_token = tokenizer.pad_token or tokenizer.eos_token\n",
    "\n",
    "        # Thiết lập kiểu dữ liệu và bản đồ thiết bị\n",
    "        torch_dtype = torch.float16 if device == \"cuda\" else torch.float32\n",
    "        device_map = \"auto\" if device == \"cuda\" else None\n",
    "\n",
    "        # Load model\n",
    "        model = AutoModelForCausalLM.from_pretrained(\n",
    "            model_name,\n",
    "            token=hf_token,\n",
    "            trust_remote_code=True,\n",
    "            torch_dtype=torch_dtype,\n",
    "            device_map=device_map,\n",
    "            use_cache=False\n",
    "        )\n",
    "\n",
    "        if device_map is None and device in [\"mps\", \"cuda\"]:\n",
    "            model.to(device)\n",
    "\n",
    "        if device_map is None:\n",
    "            # Nếu không sử dụng device_map=\"auto\", có thể chỉ định device\n",
    "            pipe = pipeline(\n",
    "                \"text-generation\",\n",
    "                model=model,\n",
    "                tokenizer=tokenizer,\n",
    "                device=0 if device != \"cpu\" else -1,\n",
    "                torch_dtype=torch_dtype,\n",
    "                model_kwargs={\"use_cache\": False}\n",
    "            )\n",
    "        else:\n",
    "            # Nếu sử dụng device_map=\"auto\", không chỉ định device\n",
    "            pipe = pipeline(\n",
    "                \"text-generation\",\n",
    "                model=model,\n",
    "                tokenizer=tokenizer,\n",
    "                torch_dtype=torch_dtype,\n",
    "                model_kwargs={\"use_cache\": False}\n",
    "            )\n",
    "\n",
    "        print(f\"✅ Đã tải thành công {model_name} trên {device.upper()}\")\n",
    "        return pipe\n",
    "\n",
    "    except Exception as e:\n",
    "        print(f\"❌ Lỗi khi tải {model_name}: {e}\")\n",
    "        return setup_fallback_model(hf_token)\n",
    "\n",
    "def setup_fallback_model(hf_token: str = None):\n",
    "    \"\"\"\n",
    "    Tải fallback model nếu model chính lỗi.\n",
    "    \"\"\"\n",
    "    fallback_name = FALLBACK_MODEL\n",
    "    hf_token = hf_token or HF_TOKEN\n",
    "    print(f\"🔄 Đang tải mô hình dự phòng: {fallback_name}\")\n",
    "\n",
    "    try:\n",
    "        tokenizer = AutoTokenizer.from_pretrained(fallback_name, token=hf_token)\n",
    "        tokenizer.pad_token = tokenizer.pad_token or tokenizer.eos_token\n",
    "\n",
    "        model = AutoModelForCausalLM.from_pretrained(\n",
    "            fallback_name,\n",
    "            token=hf_token,\n",
    "            torch_dtype=torch.float32,\n",
    "            use_cache=False\n",
    "        )\n",
    "\n",
    "        if device in [\"cuda\", \"mps\"]:\n",
    "            model.to(device)\n",
    "\n",
    "        pipe = pipeline(\n",
    "            \"text-generation\",\n",
    "            model=model,\n",
    "            tokenizer=tokenizer,\n",
    "            device=0 if device != \"cpu\" else -1,\n",
    "            model_kwargs={\"use_cache\": False}\n",
    "        )\n",
    "\n",
    "        print(f\"✅ {FALLBACK_MODEL} đã sẵn sàng trên {device.upper()}\")\n",
    "        return pipe\n",
    "\n",
    "    except Exception as e:\n",
    "        print(f\"❌ Lỗi khi tải {FALLBACK_MODEL} fallback: {e}\")\n",
    "        return None\n",
    "\n",
    "# Load model\n",
    "extraction_model = setup_model_for_extraction()\n"
   ]
  },
  {
   "cell_type": "code",
   "execution_count": 5,
   "metadata": {
    "ExecuteTime": {
     "end_time": "2025-08-17T09:39:45.429568Z",
     "start_time": "2025-08-17T09:39:45.418562Z"
    }
   },
   "outputs": [
    {
     "name": "stdout",
     "output_type": "stream",
     "text": [
      "📝 Sample prompt (first 500 chars):\n",
      "Instruction: Please identify the following types of entities and then extract the relationships between these extracted entities:\n",
      "\n",
      "Entity Types (focus on these only):\n",
      "- Malware: Malicious software (e.g., 'Stuxnet', 'Emotet', 'Backdoor.Atharvan')\n",
      "- Threat Type: Category of threats (e.g., 'Ransomware', 'APT', 'Botnet')\n",
      "- Attacker: Threat actors/groups (e.g., 'APT28', 'Lazarus Group', 'Shuckworm')\n",
      "- Technique: Attack techniques/TTPs (e.g., 'T1057: Process Discovery', 'Privilege Escalation', 'Phishi...\n"
     ]
    }
   ],
   "source": [
    "def create_entity_extraction_prompt(text: str) -> str:\n",
    "    \"\"\"\n",
    "    Create prompt for entity and relationship extraction focusing on core cybersecurity entity types.\n",
    "    \"\"\"\n",
    "    # Truncate text to avoid token limits\n",
    "    text_truncated = (text[:1500] if text else \"\").replace('\\n', ' ').strip()\n",
    "    \n",
    "    prompt = f\"\"\"Instruction: Please identify the following types of entities and then extract the relationships between these extracted entities:\n",
    "\n",
    "Entity Types (focus on these only):\n",
    "- Malware: Malicious software (e.g., 'Stuxnet', 'Emotet', 'Backdoor.Atharvan')\n",
    "- Threat Type: Category of threats (e.g., 'Ransomware', 'APT', 'Botnet')\n",
    "- Attacker: Threat actors/groups (e.g., 'APT28', 'Lazarus Group', 'Shuckworm')\n",
    "- Technique: Attack techniques/TTPs (e.g., 'T1057: Process Discovery', 'Privilege Escalation', 'Phishing')\n",
    "- Tool: Security tools or attack tools (e.g., 'PowerShell', 'Cobalt Strike', 'EHole')\n",
    "- Vulnerability: Security weaknesses (e.g., 'CVE-2020-1472', 'CVE-2021-44228')\n",
    "- IP: IP addresses (e.g., '45.153.243.93', '192.168.1.100')\n",
    "- Domain: Domain names (e.g., 'malicious-domain[.]com', 'evil[.]example[.]com')\n",
    "- URL: URLs (e.g., 'hxxp://178.73.192[.]15/cal.exe')\n",
    "- File: File names (e.g., 'rtk.lnk', 'payload.exe', 'shtasks.exe')\n",
    "- Hash: File hashes (e.g., '2aee8bb2a953124803bc42e5c42935c9', MD5/SHA1/SHA256)\n",
    "\n",
    "Relationship Types:\n",
    "- use, hash, aka, execute, used by, download, resolved to, IP, drop, associated with, deploy, communicate with, connect to, install, exploit, contain, run, launch, target, linked to\n",
    "\n",
    "If there are no entities and relationships pertaining to the specified types, please state 'No related entities and relations'. Make sure to follow the output format shown in the following examples.\n",
    "\n",
    "Example 1:\n",
    "Input: A hitherto unknown attack group has been observed targeting a materials research organization in Asia. The group, which Symantec calls Clasiopa, is characterized by a distinct toolset, which includes one piece of custom malware (Backdoor.Atharvan).\n",
    "Output: Named Entities: (Clasiopa, Attacker), (Backdoor.Atharvan, Malware)\\\\nRelationships: (Clasiopa, uses, Backdoor.Atharvan)\n",
    "\n",
    "Example 2:\n",
    "Input: The Emotet malware has been observed using new phishing techniques to target banking institutions. The malware exploits CVE-2021-1234 vulnerability in Microsoft Office.\n",
    "Output: Named Entities: (Emotet, Malware), (phishing, Technique), (CVE-2021-1234, Vulnerability), (Microsoft Office, Tool)\\\\nRelationships: (Emotet, uses, phishing), (Emotet, exploits, CVE-2021-1234)\n",
    "\n",
    "Example 3:\n",
    "Input: The threat actor downloaded malicious payload from hxxp://malicious-domain[.]com/payload.exe and used hash 2aee8bb2a953124803bc42e5c42935c9 to verify file integrity. The attack targeted IP address 192.168.1.100.\n",
    "Output: Named Entities: (threat actor, Attacker), (malicious payload, File), (hxxp://malicious-domain[.]com/payload.exe, URL), (2aee8bb2a953124803bc42e5c42935c9, Hash), (192.168.1.100, IP)\\\\nRelationships: (threat actor, uses, hxxp://malicious-domain[.]com/payload.exe), (threat actor, targets, 192.168.1.100)\n",
    "\n",
    "Example 4:\n",
    "Input: H2Miner botnet uses Kinsing malware and Cobalt Strike to deploy XMRig miners. The campaign communicates with C2 server at evil[.]domain[.]com and is attributed to APT group.\n",
    "Output: Named Entities: (H2Miner, Threat Type), (Kinsing, Malware), (Cobalt Strike, Tool), (XMRig, Tool), (evil[.]domain[.]com, Domain), (APT group, Attacker)\\\\nRelationships: (H2Miner, uses, Kinsing), (H2Miner, uses, Cobalt Strike), (H2Miner, uses, XMRig), (Kinsing, communicatesWith, evil[.]domain[.]com), (H2Miner, attributedTo, APT group)\n",
    "\n",
    "Example 5:\n",
    "Input: The weather forecast shows sunny skies and moderate temperatures for the weekend.\n",
    "Output: No related entities and relations\n",
    "\n",
    "Now extract entities and relationships from the following text:\n",
    "Input: {text_truncated}\n",
    "Output:\"\"\"\n",
    "    \n",
    "    return prompt\n",
    "\n",
    "# Test the prompt creation\n",
    "if data:\n",
    "    sample_prompt = create_entity_extraction_prompt(data[0]['content'])\n",
    "    print(\"📝 Sample prompt (first 500 chars):\")\n",
    "    print(sample_prompt[:500] + \"...\")\n"
   ]
  },
  {
   "cell_type": "code",
   "execution_count": 6,
   "metadata": {
    "ExecuteTime": {
     "end_time": "2025-08-17T09:39:49.728045Z",
     "start_time": "2025-08-17T09:39:49.708789Z"
    }
   },
   "outputs": [],
   "source": [
    "def extract_entities_and_relationships(pipe, text: str) -> Dict[str, Any]:\n",
    "    \"\"\"\n",
    "    Extract entities and relationships from text using the LLM.\n",
    "    \"\"\"\n",
    "    try:\n",
    "        prompt = create_entity_extraction_prompt(text)\n",
    "        \n",
    "        # Generate response\n",
    "        response = pipe(\n",
    "            prompt,\n",
    "            max_new_tokens=300,\n",
    "            do_sample=False,\n",
    "            temperature=0.1,\n",
    "            pad_token_id=pipe.tokenizer.eos_token_id,\n",
    "        )\n",
    "        \n",
    "        # Extract generated text\n",
    "        generated_text = response[0]['generated_text']\n",
    "        answer = generated_text[len(prompt):].strip()\n",
    "        \n",
    "        print(f\"🔍 Raw model output: {answer[:200]}...\")\n",
    "        \n",
    "        # Parse the response\n",
    "        entities, relationships = parse_extraction_output(answer)\n",
    "        \n",
    "        return {\n",
    "            \"raw_output\": answer,\n",
    "            \"entities\": entities,\n",
    "            \"relationships\": relationships,\n",
    "            \"has_entities\": len(entities) > 0\n",
    "        }\n",
    "        \n",
    "    except Exception as e:\n",
    "        print(f\"❌ Error in extraction: {e}\")\n",
    "        return {\n",
    "            \"raw_output\": \"\",\n",
    "            \"entities\": [],\n",
    "            \"relationships\": [],\n",
    "            \"has_entities\": False,\n",
    "            \"error\": str(e)\n",
    "        }\n",
    "\n",
    "def parse_extraction_output(output: str) -> Tuple[List[Tuple], List[Tuple]]:\n",
    "    \"\"\"\n",
    "    Parse the model output to extract entities and relationships.\n",
    "    \"\"\"\n",
    "    entities = []\n",
    "    relationships = []\n",
    "    \n",
    "    # Check for \"No related entities\" case\n",
    "    if \"no related entities\" in output.lower():\n",
    "        return entities, relationships\n",
    "    \n",
    "    try:\n",
    "        # Split output into lines\n",
    "        lines = [line.strip() for line in output.split('\\n') if line.strip()]\n",
    "        \n",
    "        current_section = None\n",
    "        for line in lines:\n",
    "            line_lower = line.lower()\n",
    "            \n",
    "            if \"named entities:\" in line_lower:\n",
    "                current_section = \"entities\"\n",
    "                # Extract entities from the same line\n",
    "                entity_part = line.split(\":\", 1)[1] if \":\" in line else \"\"\n",
    "                entities.extend(extract_tuples_from_text(entity_part))\n",
    "                \n",
    "            elif \"relationships:\" in line_lower:\n",
    "                current_section = \"relationships\"\n",
    "                # Extract relationships from the same line\n",
    "                rel_part = line.split(\":\", 1)[1] if \":\" in line else \"\"\n",
    "                relationships.extend(extract_tuples_from_text(rel_part))\n",
    "                \n",
    "            elif current_section == \"entities\":\n",
    "                entities.extend(extract_tuples_from_text(line))\n",
    "                \n",
    "            elif current_section == \"relationships\":\n",
    "                relationships.extend(extract_tuples_from_text(line))\n",
    "    \n",
    "    except Exception as e:\n",
    "        print(f\"⚠️  Error parsing output: {e}\")\n",
    "    \n",
    "    return entities, relationships\n",
    "\n",
    "def extract_tuples_from_text(text: str) -> List[Tuple]:\n",
    "    \"\"\"\n",
    "    Extract tuples from text using regex pattern matching.\n",
    "    \"\"\"\n",
    "    tuples = []\n",
    "    \n",
    "    # Pattern to match (item1, item2) or (item1, item2, item3)\n",
    "    pattern = r'\\(([^)]+)\\)'\n",
    "    matches = re.findall(pattern, text)\n",
    "    \n",
    "    for match in matches:\n",
    "        # Split by comma and clean up\n",
    "        parts = [part.strip() for part in match.split(',')]\n",
    "        if len(parts) >= 2:\n",
    "            tuples.append(tuple(parts))\n",
    "    \n",
    "    return tuples\n",
    "\n"
   ]
  },
  {
   "cell_type": "code",
   "execution_count": null,
   "metadata": {},
   "outputs": [],
   "source": [
    "\n",
    "# Test the extraction function\n",
    "if extraction_model and data:\n",
    "    print(\"\\n🧪 Testing entity extraction on sample data...\")\n",
    "    test_result = extract_entities_and_relationships(extraction_model, data[0]['content'])\n",
    "\n",
    "    print(f\"\\n📊 Extraction Results:\")\n",
    "    print(f\"   Entities found: {len(test_result['entities'])}\")\n",
    "    print(f\"   Relationships found: {len(test_result['relationships'])}\")\n",
    "\n",
    "    if test_result['entities']:\n",
    "        print(\"\\n🏷️  Sample Entities:\")\n",
    "        for entity in test_result['entities'][:5]:\n",
    "            print(f\"     {entity}\")\n",
    "\n",
    "    if test_result['relationships']:\n",
    "        print(\"\\n🔗 Sample Relationships:\")\n",
    "        for rel in test_result['relationships'][:5]:\n",
    "            print(f\"     {rel}\")"
   ]
  },
  {
   "cell_type": "code",
   "execution_count": 7,
   "metadata": {
    "ExecuteTime": {
     "end_time": "2025-08-17T09:39:55.823838Z",
     "start_time": "2025-08-17T09:39:55.808613Z"
    }
   },
   "outputs": [],
   "source": [
    "def process_articles_for_extraction(data: List[Dict], pipe, start: int = 0, offset:int=5) -> List[Dict]:\n",
    "    \"\"\"\n",
    "    Process multiple articles for entity and relationship extraction.\n",
    "    \"\"\"\n",
    "    end = min(start + offset, len(data))\n",
    "    articles_to_process = data[start:end]\n",
    "    results = []\n",
    "\n",
    "    print(f\"🔍 Processing {len(articles_to_process)} articles for entity extraction...\")\n",
    "\n",
    "    for i, article in enumerate(articles_to_process):\n",
    "        print(f\"\\nProcessing {i+1}/{len(articles_to_process)}: {article.get('title', 'Unknown')[:60]}...\")\n",
    "\n",
    "        # Extract entities and relationships\n",
    "        extraction_result = extract_entities_and_relationships(pipe, article.get('content', ''))\n",
    "\n",
    "        # Combine with original article data\n",
    "        result = {\n",
    "            \"title\": article.get('title', ''),\n",
    "            \"link\": article.get('link', ''),\n",
    "            \"content\": article.get('content', ''),\n",
    "            \"extraction\": extraction_result,\n",
    "            \"entity_count\": len(extraction_result['entities']),\n",
    "            \"relationship_count\": len(extraction_result['relationships'])\n",
    "        }\n",
    "\n",
    "        results.append(result)\n",
    "        \n",
    "        # Progress update\n",
    "        if (i + 1) % 5 == 0:\n",
    "            print(f\"  ✅ Processed {i+1}/{len(articles_to_process)} articles\")\n",
    "\n",
    "    return results\n",
    "\n",
    "# # Process a small batch first for testing\n",
    "# print(\"\\n🚀 Processing first 5 articles for entity extraction...\")\n",
    "# extraction_results = process_articles_for_extraction(data, extraction_model, start=0, offset = 2)\n"
   ]
  },
  {
   "cell_type": "code",
   "execution_count": 8,
   "metadata": {
    "ExecuteTime": {
     "end_time": "2025-08-17T09:39:59.224504Z",
     "start_time": "2025-08-17T09:39:59.214908Z"
    }
   },
   "outputs": [],
   "source": [
    "def save_extraction_results(results: List[Dict], output_file: str = \"entity-extraction.json\"):\n",
    "    \"\"\"\n",
    "    Save extraction results to files.\n",
    "    \"\"\"\n",
    "    try:\n",
    "        # Create output directory\n",
    "        output_path = Path(output_file)\n",
    "        output_path.parent.mkdir(parents=True, exist_ok=True)\n",
    "        \n",
    "        # Convert to an absolute path to avoid relative path issues\n",
    "        absolute_path = output_path.resolve()\n",
    "        print(f\"💾 Saving to: {absolute_path}\")\n",
    "        \n",
    "        with open(absolute_path, 'w', encoding='utf-8') as f:\n",
    "            json.dump(results, f, ensure_ascii=False, indent=2)\n",
    "        \n",
    "        print(f\"\\n💾 SAVED EXTRACTION RESULTS to {output_file}\")\n",
    "\n",
    "        \n",
    "    except Exception as e:\n",
    "        print(f\"❌ Error saving results: {e}\")\n",
    "        print(f\"   Attempted path: {output_path}\")\n",
    "        print(f\"   Current working directory: {os.getcwd()}\")\n",
    "        print(f\"   Absolute path would be: {Path(output_path).resolve()}\")\n"
   ]
  },
  {
   "cell_type": "code",
   "execution_count": 10,
   "metadata": {
    "ExecuteTime": {
     "end_time": "2025-08-04T11:31:25.311286Z",
     "start_time": "2025-08-04T11:30:40.105056Z"
    }
   },
   "outputs": [
    {
     "name": "stderr",
     "output_type": "stream",
     "text": [
      "The following generation flags are not valid and may be ignored: ['temperature', 'top_p', 'top_k']. Set `TRANSFORMERS_VERBOSITY=info` for more details.\n"
     ]
    },
    {
     "name": "stdout",
     "output_type": "stream",
     "text": [
      "🔍 Processing 2 articles for entity extraction...\n",
      "\n",
      "Processing 1/2: FortiGuard Labs Threat Research...\n"
     ]
    },
    {
     "name": "stderr",
     "output_type": "stream",
     "text": [
      "The following generation flags are not valid and may be ignored: ['temperature', 'top_p', 'top_k']. Set `TRANSFORMERS_VERBOSITY=info` for more details.\n"
     ]
    },
    {
     "name": "stdout",
     "output_type": "stream",
     "text": [
      "🔍 Raw model output: Named Entities: (NailaoLocker, Malware), (SM2, Technique), (Lcrypt0rx, Malware), (Dark 101, Malware), (FortiCNAPP Composite Alerts, Tool), (Lcrypt0rx, Malware), (FortiCNAPP Labs, Tool), (FortiSandbox ...\n",
      "\n",
      "Processing 2/2: NailaoLocker Ransomware’s “Cheese”...\n",
      "🔍 Raw model output: Named Entities: (FortiGuard Labs Threat Research, Entity), (NailaoLocker, Malware), (AES-256-CBC, Technique), (SM2 cryptographic key, Vulnerability), (Windows, Platform), (user files, File), (high sev...\n"
     ]
    }
   ],
   "source": [
    "# test save results\n",
    "import datetime\n",
    "today = datetime.datetime.now().strftime(\"%Y-%m-%d_%H-%M-%S\")\n",
    "offset = 2\n",
    "start = 0\n",
    "end = min(len(data), start+offset)\n",
    "\n",
    "results = process_articles_for_extraction(data, extraction_model,start=start,offset=offset)\n"
   ]
  },
  {
   "cell_type": "code",
   "execution_count": 11,
   "metadata": {
    "ExecuteTime": {
     "end_time": "2025-08-04T11:31:25.380370Z",
     "start_time": "2025-08-04T11:31:25.365140Z"
    }
   },
   "outputs": [
    {
     "name": "stdout",
     "output_type": "stream",
     "text": [
      "💾 Saving to: /Users/huynguyen/Documents/UIT/2nd/NLP/LLM-TKIG/data/entity-extraction/entity-extraction_2025-08-04_18-30-40_0_2.json\n",
      "\n",
      "💾 SAVED EXTRACTION RESULTS to ../data/entity-extraction/entity-extraction_2025-08-04_18-30-40_0_2.json\n"
     ]
    }
   ],
   "source": [
    "output_path = f\"../data/entity-extraction/entity-extraction_{today}_{start}_{end}.json\"\n",
    "save_extraction_results(results, output_path)"
   ]
  },
  {
   "cell_type": "code",
   "execution_count": 9,
   "metadata": {
    "ExecuteTime": {
     "end_time": "2025-08-17T09:40:06.859463Z",
     "start_time": "2025-08-17T09:40:06.841520Z"
    }
   },
   "outputs": [],
   "source": [
    "import datetime\n",
    "today = datetime.datetime.now().strftime(\"%Y-%m-%d_%H-%M-%S\")\n",
    "offset = 50\n"
   ]
  },
  {
   "cell_type": "code",
   "execution_count": 13,
   "metadata": {
    "ExecuteTime": {
     "end_time": "2025-08-17T07:03:13.800969Z",
     "start_time": "2025-08-17T06:24:13.810821Z"
    }
   },
   "outputs": [
    {
     "name": "stderr",
     "output_type": "stream",
     "text": [
      "The following generation flags are not valid and may be ignored: ['temperature', 'top_p', 'top_k']. Set `TRANSFORMERS_VERBOSITY=info` for more details.\n"
     ]
    },
    {
     "name": "stdout",
     "output_type": "stream",
     "text": [
      "🔍 Processing 50 articles for entity extraction...\n",
      "\n",
      "Processing 1/50: FortiGuard Labs Threat Research...\n"
     ]
    },
    {
     "name": "stderr",
     "output_type": "stream",
     "text": [
      "The following generation flags are not valid and may be ignored: ['temperature', 'top_p', 'top_k']. Set `TRANSFORMERS_VERBOSITY=info` for more details.\n"
     ]
    },
    {
     "name": "stdout",
     "output_type": "stream",
     "text": [
      "🔍 Raw model output: Named Entities: (NailaoLocker, Malware), (SM2, Technique), (Lcrypt0rx, Malware), (Dark 101, Malware), (FortiCNAPP Composite Alerts, Tool), (Lcrypt0rx, Malware), (FortiCNAPP Labs, Tool), (FortiSandbox ...\n",
      "\n",
      "Processing 2/50: NailaoLocker Ransomware’s “Cheese”...\n"
     ]
    },
    {
     "name": "stderr",
     "output_type": "stream",
     "text": [
      "The following generation flags are not valid and may be ignored: ['temperature', 'top_p', 'top_k']. Set `TRANSFORMERS_VERBOSITY=info` for more details.\n"
     ]
    },
    {
     "name": "stdout",
     "output_type": "stream",
     "text": [
      "🔍 Raw model output: Named Entities: (FortiGuard Labs Threat Research, Entity), (NailaoLocker, Malware), (AES-256-CBC, Technique), (SM2 cryptographic key, Vulnerability), (Windows, Platform), (user files, File), (high sev...\n",
      "\n",
      "Processing 3/50: Improving Cloud Intrusion Detection and Triage with FortiCNA...\n"
     ]
    },
    {
     "name": "stderr",
     "output_type": "stream",
     "text": [
      "The following generation flags are not valid and may be ignored: ['temperature', 'top_p', 'top_k']. Set `TRANSFORMERS_VERBOSITY=info` for more details.\n"
     ]
    },
    {
     "name": "stdout",
     "output_type": "stream",
     "text": [
      "🔍 Raw model output: Named Entities: (FortiGuard Labs Threat Research, Entity), (Cloud, Entity), (Multi-stage technique, Technique), (Authentication abuse, Technique), (Privilege escalation, Technique), (Command execution...\n",
      "\n",
      "Processing 4/50: Old Miner, New Tricks...\n"
     ]
    },
    {
     "name": "stderr",
     "output_type": "stream",
     "text": [
      "The following generation flags are not valid and may be ignored: ['temperature', 'top_p', 'top_k']. Set `TRANSFORMERS_VERBOSITY=info` for more details.\n"
     ]
    },
    {
     "name": "stdout",
     "output_type": "stream",
     "text": [
      "🔍 Raw model output: Named Entities: (FortiCNAPP team, Attacker), (H2miner, Threat Type), (Lcrypt0rx, Malware), (Linux, OS), (Windows, OS), (Containers, OS), (KinSing, Tool), (Xmrig miners, Tool), (Lcrypt0rx, Malware), (L...\n",
      "\n",
      "Processing 5/50: How FortiSandbox 5.0 Detects Dark 101 Ransomware Despite Eva...\n"
     ]
    },
    {
     "name": "stderr",
     "output_type": "stream",
     "text": [
      "You seem to be using the pipelines sequentially on GPU. In order to maximize efficiency please use a dataset\n",
      "The following generation flags are not valid and may be ignored: ['temperature', 'top_p', 'top_k']. Set `TRANSFORMERS_VERBOSITY=info` for more details.\n"
     ]
    },
    {
     "name": "stdout",
     "output_type": "stream",
     "text": [
      "🔍 Raw model output: Named Entities: (FortiGuard Labs, Organization), (Dark 101, Malware Family), (ransomware, Threat Type), (ransomnote, Threat Type), (Bitcoin, Currency), (Task Manager, Tool), (backupcatalog, Object), (...\n",
      "  ✅ Processed 5/50 articles\n",
      "\n",
      "Processing 6/50: Catching Smarter Mice with Even Smarter Cats...\n"
     ]
    },
    {
     "name": "stderr",
     "output_type": "stream",
     "text": [
      "The following generation flags are not valid and may be ignored: ['temperature', 'top_p', 'top_k']. Set `TRANSFORMERS_VERBOSITY=info` for more details.\n"
     ]
    },
    {
     "name": "stdout",
     "output_type": "stream",
     "text": [
      "🔍 Raw model output: Named Entities: (FortiGuard Labs Threat Research, Organization), (AI, Technique), (Malware, Malware), (IDA Pro, Tool), (Ghidra, Tool), (Linux/Prometei botnet, Threat Type), (February 2025, Date), (Lin...\n",
      "\n",
      "Processing 7/50: NordDragonScan: Quiet Data-Harvester on Windows...\n"
     ]
    },
    {
     "name": "stderr",
     "output_type": "stream",
     "text": [
      "The following generation flags are not valid and may be ignored: ['temperature', 'top_p', 'top_k']. Set `TRANSFORMERS_VERBOSITY=info` for more details.\n"
     ]
    },
    {
     "name": "stdout",
     "output_type": "stream",
     "text": [
      "🔍 Raw model output: Named Entities: (FortiGuard Labs Threat Research, Entity), (Microsoft Windows, Tool), (NordDragonScan, Malware), (kpuszkiev.com, Domain), (hxxps://cutt[.]ly/4rnmskDe, URL), (hxxps://secfileshare[.]com...\n",
      "\n",
      "Processing 8/50: RondoDox Unveiled: Breaking Down a New Botnet Threat...\n"
     ]
    },
    {
     "name": "stderr",
     "output_type": "stream",
     "text": [
      "The following generation flags are not valid and may be ignored: ['temperature', 'top_p', 'top_k']. Set `TRANSFORMERS_VERBOSITY=info` for more details.\n"
     ]
    },
    {
     "name": "stdout",
     "output_type": "stream",
     "text": [
      "🔍 Raw model output: Named Entities: (FortiGuard Labs, Organization), (botnet, Threat Type), (TBK DVR-4104, Platform), (TBK DVR-4216, Platform), (Four-Faith router model, Device), (F3x24, Device), (F3x36, Device), (RondoD...\n",
      "\n",
      "Processing 9/50: DCRAT Impersonating the Colombian Government...\n"
     ]
    },
    {
     "name": "stderr",
     "output_type": "stream",
     "text": [
      "The following generation flags are not valid and may be ignored: ['temperature', 'top_p', 'top_k']. Set `TRANSFORMERS_VERBOSITY=info` for more details.\n"
     ]
    },
    {
     "name": "stdout",
     "output_type": "stream",
     "text": [
      "🔍 Raw model output: Named Entities: (FortiGuard Labs Threat Research, Attacker), (Remote Access Trojan, Malware), (DCRAT, Malware), (Modular Architecture, Technique), (Comprehensive Surveillance Capabilities, Technique),...\n",
      "\n",
      "Processing 10/50: Dissecting a Malicious Havoc Sample...\n"
     ]
    },
    {
     "name": "stderr",
     "output_type": "stream",
     "text": [
      "The following generation flags are not valid and may be ignored: ['temperature', 'top_p', 'top_k']. Set `TRANSFORMERS_VERBOSITY=info` for more details.\n"
     ]
    },
    {
     "name": "stdout",
     "output_type": "stream",
     "text": [
      "🔍 Raw model output: Named Entities: (FortiGuard Labs Threat Research, Entity), (Intrusion into Middle East Critical National Infrastructure, Threat Type), (Windows, Platform), (Windows Users, Target), (High, Severity Lev...\n",
      "  ✅ Processed 10/50 articles\n",
      "\n",
      "Processing 11/50: Threat Group Targets Companies in Taiwan...\n"
     ]
    },
    {
     "name": "stderr",
     "output_type": "stream",
     "text": [
      "The following generation flags are not valid and may be ignored: ['temperature', 'top_p', 'top_k']. Set `TRANSFORMERS_VERBOSITY=info` for more details.\n"
     ]
    },
    {
     "name": "stdout",
     "output_type": "stream",
     "text": [
      "🔍 Raw model output: Named Entities: (FortiGuard Labs, Organization), (winos 4.0, Malware), (Taiwan, Country), (twszz[.]xin, Domain), (Gh0stBins, Malware), (holdinghands rat, Threat Type), (tax inspection, Technique), (ac...\n",
      "\n",
      "Processing 12/50: RolandSkimmer: Silent Credit Card Thief Uncovered...\n"
     ]
    },
    {
     "name": "stderr",
     "output_type": "stream",
     "text": [
      "The following generation flags are not valid and may be ignored: ['temperature', 'top_p', 'top_k']. Set `TRANSFORMERS_VERBOSITY=info` for more details.\n"
     ]
    },
    {
     "name": "stdout",
     "output_type": "stream",
     "text": [
      "🔍 Raw model output: Named Entities: (FortiGuard Labs, Organization), (Threat Research, Activity), (Windows, Platform), (RolandSkimmer, Malware), (Bulgaria, Country), (Chrome, Browser), (Edge, Browser), (Firefox, Browser)...\n",
      "\n",
      "Processing 13/50: How a Malicious Excel File (CVE-2017-0199) Delivers the Form...\n"
     ]
    },
    {
     "name": "stderr",
     "output_type": "stream",
     "text": [
      "The following generation flags are not valid and may be ignored: ['temperature', 'top_p', 'top_k']. Set `TRANSFORMERS_VERBOSITY=info` for more details.\n"
     ]
    },
    {
     "name": "stdout",
     "output_type": "stream",
     "text": [
      "🔍 Raw model output: Named Entities: (FortiGuard Labs Threat Research, Entity), (Microsoft Windows, Platform), (Windows Users, Targeted Party), (FormBook, Malware), (CVE-2017-0199, Vulnerability), (Figure 1, Image), (Fort...\n",
      "\n",
      "Processing 14/50: Deep Dive into a Dumped Malware without a PE Header...\n"
     ]
    },
    {
     "name": "stderr",
     "output_type": "stream",
     "text": [
      "The following generation flags are not valid and may be ignored: ['temperature', 'top_p', 'top_k']. Set `TRANSFORMERS_VERBOSITY=info` for more details.\n"
     ]
    },
    {
     "name": "stdout",
     "output_type": "stream",
     "text": [
      "🔍 Raw model output: Named Entities: (FortiGuard Labs Threat Research, Entity), (incident investigation, Activity), (FortiGuard Incident Response Team, Attacker), (malware, Malware), (dllhost.exe, Process), (pid.8200.vad....\n",
      "\n",
      "Processing 15/50: Infostealer Malware FormBook Spread via Phishing Campaign – ...\n"
     ]
    },
    {
     "name": "stderr",
     "output_type": "stream",
     "text": [
      "The following generation flags are not valid and may be ignored: ['temperature', 'top_p', 'top_k']. Set `TRANSFORMERS_VERBOSITY=info` for more details.\n"
     ]
    },
    {
     "name": "stdout",
     "output_type": "stream",
     "text": [
      "🔍 Raw model output: Named Entities: (FortiGuard Labs Threat Research, Entity), (Microsoft Windows, Platform), (Windows Users, Impact), (fully remotely control the victim’s computer, Severity level), (FormBook, Threat Typ...\n",
      "  ✅ Processed 15/50 articles\n",
      "\n",
      "Processing 16/50: Ransomware Roundup – VanHelsing...\n"
     ]
    },
    {
     "name": "stderr",
     "output_type": "stream",
     "text": [
      "The following generation flags are not valid and may be ignored: ['temperature', 'top_p', 'top_k']. Set `TRANSFORMERS_VERBOSITY=info` for more details.\n"
     ]
    },
    {
     "name": "stdout",
     "output_type": "stream",
     "text": [
      "🔍 Raw model output: Named Entities: (FortiGuard Labs, Organization), (Threat Research, Topic), (VanHelsing ransomware, Malware), (Windows, Platform), (Microsoft Windows, Platform), (SHA2, Hash), (99959C5141F62D4FBB60EFDC...\n",
      "\n",
      "Processing 17/50: Horabot Unleashed: A Stealthy Phishing Threat...\n"
     ]
    },
    {
     "name": "stderr",
     "output_type": "stream",
     "text": [
      "The following generation flags are not valid and may be ignored: ['temperature', 'top_p', 'top_k']. Set `TRANSFORMERS_VERBOSITY=info` for more details.\n"
     ]
    },
    {
     "name": "stdout",
     "output_type": "stream",
     "text": [
      "🔍 Raw model output: Named Entities: (FortiGuard Labs, Organization), (Horabot, Malware), (VBScript, Tool), (AutoIt, Tool), (PowerShell, Tool), (Outlook COM Automation, TTP), (Latin America, Region), (Mexico, Country), (G...\n",
      "\n",
      "Processing 18/50: Multilayered Email Attack: How a PDF Invoice and Geo-Fencing...\n"
     ]
    },
    {
     "name": "stderr",
     "output_type": "stream",
     "text": [
      "The following generation flags are not valid and may be ignored: ['temperature', 'top_p', 'top_k']. Set `TRANSFORMERS_VERBOSITY=info` for more details.\n"
     ]
    },
    {
     "name": "stdout",
     "output_type": "stream",
     "text": [
      "🔍 Raw model output: Named Entities: (FortiGuard Labs Threat Research, Entity), (Windows, Platform), (Linux & macOS, Platform), (Java, Tool), (users, Party), (system, Party), (Java Runtime Environment (JRE), Party), (atta...\n",
      "\n",
      "Processing 19/50: FortiGuard Incident Response Team Detects Intrusion into Mid...\n"
     ]
    },
    {
     "name": "stderr",
     "output_type": "stream",
     "text": [
      "The following generation flags are not valid and may be ignored: ['temperature', 'top_p', 'top_k']. Set `TRANSFORMERS_VERBOSITY=info` for more details.\n"
     ]
    },
    {
     "name": "stdout",
     "output_type": "stream",
     "text": [
      "🔍 Raw model output: Named Entities: (FortiGuard Labs Threat Research, Entity), (FGIR, Attacker), (Iranian state-sponsored threat group, Attacker), (Novel malware, Malware), (plink, Tool), (Ngrok, Tool), (glider proxy, To...\n",
      "\n",
      "Processing 20/50: Key Takeaways from the 2025 Global Threat Landscape Report...\n"
     ]
    },
    {
     "name": "stderr",
     "output_type": "stream",
     "text": [
      "The following generation flags are not valid and may be ignored: ['temperature', 'top_p', 'top_k']. Set `TRANSFORMERS_VERBOSITY=info` for more details.\n"
     ]
    },
    {
     "name": "stdout",
     "output_type": "stream",
     "text": [
      "🔍 Raw model output: Named Entities: (FortiGuard Labs, Company), (Threat Research, Topic), (2024, Year), (Global Threat Landscape Report, Document), (SIP-based VoIP system, Device), (RDP server, Device), (Industrial proto...\n",
      "  ✅ Processed 20/50 articles\n",
      "\n",
      "Processing 21/50: IngressNightmare: Understanding CVE‑2025‑1974 in Kubernetes ...\n"
     ]
    },
    {
     "name": "stderr",
     "output_type": "stream",
     "text": [
      "The following generation flags are not valid and may be ignored: ['temperature', 'top_p', 'top_k']. Set `TRANSFORMERS_VERBOSITY=info` for more details.\n"
     ]
    },
    {
     "name": "stdout",
     "output_type": "stream",
     "text": [
      "🔍 Raw model output: Named Entities: (FortiGuard Labs Threat Research, Entity Type), (Ingress-NGINX Containers v1.11.0-4, Malware), (v1.12.0, Malware), (<v1.11.0, Malware), (Impacted Users, Entity Type), (Any Organization...\n",
      "\n",
      "Processing 22/50: Infostealer Malware FormBook Spread via Phishing Campaign – ...\n"
     ]
    },
    {
     "name": "stderr",
     "output_type": "stream",
     "text": [
      "The following generation flags are not valid and may be ignored: ['temperature', 'top_p', 'top_k']. Set `TRANSFORMERS_VERBOSITY=info` for more details.\n"
     ]
    },
    {
     "name": "stdout",
     "output_type": "stream",
     "text": [
      "🔍 Raw model output: Named Entities: (FortiGuard Labs, Organization), (Threat Research, Topic), (Fortinet, Company), (FortiGuard Labs, Malware), (Formbook, Malware), (CVE-2017-11882, Vulnerability), (Figure 1, Image)\n",
      "Rela...\n",
      "\n",
      "Processing 23/50: New Rust Botnet \"RustoBot\" is Routed via Routers...\n"
     ]
    },
    {
     "name": "stderr",
     "output_type": "stream",
     "text": [
      "The following generation flags are not valid and may be ignored: ['temperature', 'top_p', 'top_k']. Set `TRANSFORMERS_VERBOSITY=info` for more details.\n"
     ]
    },
    {
     "name": "stdout",
     "output_type": "stream",
     "text": [
      "🔍 Raw model output: Named Entities: (FortiGuard Labs, Organization), (TOTOLINK N600R V4.3.0cu.7570_B20200620, Device), (TOTOLINK A830R V5.9c.4729_B20191112, Device), (A3100R V4.1.2cu.5050_B20200504, Device), (A950RG V4.1...\n",
      "\n",
      "Processing 24/50: Malicious NPM Packages Targeting PayPal Users...\n"
     ]
    },
    {
     "name": "stderr",
     "output_type": "stream",
     "text": [
      "The following generation flags are not valid and may be ignored: ['temperature', 'top_p', 'top_k']. Set `TRANSFORMERS_VERBOSITY=info` for more details.\n"
     ]
    },
    {
     "name": "stdout",
     "output_type": "stream",
     "text": [
      "🔍 Raw model output: Named Entities: (FortiGuard Labs, Company), (OSS malware detection system, Tool), (NPM packages, File), (stolen sensitive information, Exploit), (PayPal users, Target), (PayPal, Organization), (PayPal...\n",
      "\n",
      "Processing 25/50: Real-Time Anti-Phishing: Essential Defense Against Evolving ...\n"
     ]
    },
    {
     "name": "stderr",
     "output_type": "stream",
     "text": [
      "The following generation flags are not valid and may be ignored: ['temperature', 'top_p', 'top_k']. Set `TRANSFORMERS_VERBOSITY=info` for more details.\n"
     ]
    },
    {
     "name": "stdout",
     "output_type": "stream",
     "text": [
      "🔍 Raw model output: Named Entities: (FortiGuard Labs Threat Research Phishing, Threat Type), (AI, Technique), (email filter, Tool), (blacklist, Tool), (real-time anti-phishing (RTAP), Tool), (Verizon DBIR report, Documen...\n",
      "  ✅ Processed 25/50 articles\n",
      "\n",
      "Processing 26/50: Fortinet Identifies Malicious Packages in the Wild: Insights...\n"
     ]
    },
    {
     "name": "stderr",
     "output_type": "stream",
     "text": [
      "The following generation flags are not valid and may be ignored: ['temperature', 'top_p', 'top_k']. Set `TRANSFORMERS_VERBOSITY=info` for more details.\n"
     ]
    },
    {
     "name": "stdout",
     "output_type": "stream",
     "text": [
      "🔍 Raw model output: Named Entities: (FortiGuard Labs, Organization), (Malicious Software Packages, File), (November 2024, Date), (OSS malware detection system, Tool), (Automated threat detection platform, Tool), (2025 Gl...\n",
      "\n",
      "Processing 27/50: Havoc: SharePoint with Microsoft Graph API turns into FUD C2...\n"
     ]
    },
    {
     "name": "stderr",
     "output_type": "stream",
     "text": [
      "The following generation flags are not valid and may be ignored: ['temperature', 'top_p', 'top_k']. Set `TRANSFORMERS_VERBOSITY=info` for more details.\n"
     ]
    },
    {
     "name": "stdout",
     "output_type": "stream",
     "text": [
      "🔍 Raw model output: Named Entities: (FortiGuard Labs, Company), (Threat Research, Topic), (Microsoft Windows, Platform), (Any organization, Target), (Attackers, Actor), (Havoc, Malware), (ClickFix, Tool), (multi-stage ma...\n",
      "\n",
      "Processing 28/50: Winos 4.0 Spreads via Impersonation of Official Email to Tar...\n"
     ]
    },
    {
     "name": "stderr",
     "output_type": "stream",
     "text": [
      "The following generation flags are not valid and may be ignored: ['temperature', 'top_p', 'top_k']. Set `TRANSFORMERS_VERBOSITY=info` for more details.\n"
     ]
    },
    {
     "name": "stdout",
     "output_type": "stream",
     "text": [
      "🔍 Raw model output: Named Entities: (FortiGuard Labs, Organization), (Winos4.0, Malware), (Taiwan, Country), (gaming-related applications, Tool), (email, Communication medium), (National Taxation Bureau, Organization), (...\n",
      "\n",
      "Processing 29/50: FortiSandbox 5.0 Detects Evolving Snake Keylogger Variant...\n"
     ]
    },
    {
     "name": "stderr",
     "output_type": "stream",
     "text": [
      "The following generation flags are not valid and may be ignored: ['temperature', 'top_p', 'top_k']. Set `TRANSFORMERS_VERBOSITY=info` for more details.\n"
     ]
    },
    {
     "name": "stdout",
     "output_type": "stream",
     "text": [
      "🔍 Raw model output: Named Entities: (FortiGuard Labs, Organization), (Snake Keylogger, Malware), (AutoIt/Injector.GTY!tr, Malware), (SMTP, Protocol), (Telegram, Service), (China, Region), (Turkey, Region), (Indonesia, Re...\n",
      "\n",
      "Processing 30/50: Ransomware Roundup – Lynx...\n"
     ]
    },
    {
     "name": "stderr",
     "output_type": "stream",
     "text": [
      "The following generation flags are not valid and may be ignored: ['temperature', 'top_p', 'top_k']. Set `TRANSFORMERS_VERBOSITY=info` for more details.\n"
     ]
    },
    {
     "name": "stdout",
     "output_type": "stream",
     "text": [
      "🔍 Raw model output: Named Entities: (FortiGuard Labs, Organization), (Threat Research, Topic), (Ransomware Roundup, Publication), (Lynx ransomware, Malware), (INC ransomware, Malware), (Windows, Platform), (ESXi, Platfor...\n",
      "  ✅ Processed 30/50 articles\n",
      "\n",
      "Processing 31/50: Analyzing ELF/Sshdinjector. A!tr with a Human and Artificial...\n"
     ]
    },
    {
     "name": "stderr",
     "output_type": "stream",
     "text": [
      "The following generation flags are not valid and may be ignored: ['temperature', 'top_p', 'top_k']. Set `TRANSFORMERS_VERBOSITY=info` for more details.\n"
     ]
    },
    {
     "name": "stdout",
     "output_type": "stream",
     "text": [
      "🔍 Raw model output: Named Entities: (FortiGuard Labs Threat Research, Entity), (LinuxImpacted, Threat Type), (Linux-based network appliances or IoT, Device), (Data exfiltration, Impact), (Medium, Severity Level), (ELF/Ss...\n",
      "\n",
      "Processing 32/50: Coyote Banking Trojan: A Stealthy Attack via LNK Files...\n"
     ]
    },
    {
     "name": "stderr",
     "output_type": "stream",
     "text": [
      "The following generation flags are not valid and may be ignored: ['temperature', 'top_p', 'top_k']. Set `TRANSFORMERS_VERBOSITY=info` for more details.\n"
     ]
    },
    {
     "name": "stdout",
     "output_type": "stream",
     "text": [
      "🔍 Raw model output: Named Entities: (FortiGuard Labs, Organization), (Windows, Operating System), (Coyote Banking Trojan, Malware), (Brazil, Country), (keylogging, Technique), (capturing screenshots, Technique), (display...\n",
      "\n",
      "Processing 33/50: Deep Dive Into a Linux Rootkit Malware...\n"
     ]
    },
    {
     "name": "stderr",
     "output_type": "stream",
     "text": [
      "The following generation flags are not valid and may be ignored: ['temperature', 'top_p', 'top_k']. Set `TRANSFORMERS_VERBOSITY=info` for more details.\n"
     ]
    },
    {
     "name": "stdout",
     "output_type": "stream",
     "text": [
      "🔍 Raw model output: Named Entities: (FortiGuard Labs Threat Research, Entity), (CentOS Linux, OS), (CentOS Users, Target), (Linux, OS), (Azero Day Exploit, Threat Type), (Threat Actor, Attacker), (rootkit, Malware), (sys...\n",
      "\n",
      "Processing 34/50: Phish-free PayPal Phishing...\n"
     ]
    },
    {
     "name": "stderr",
     "output_type": "stream",
     "text": [
      "The following generation flags are not valid and may be ignored: ['temperature', 'top_p', 'top_k']. Set `TRANSFORMERS_VERBOSITY=info` for more details.\n"
     ]
    },
    {
     "name": "stdout",
     "output_type": "stream",
     "text": [
      "🔍 Raw model output: Named Entities: (FortiGuard Labs Threat Research, Entity), (CISO, Attacker), (Phishing attempt, Threat Type), (PayPal, Tool), (billingdepartments1[@]gkjyryfjy876.onmicrosoft.com, Domain), (MS365 test ...\n",
      "\n",
      "Processing 35/50: Catching \"EC2 Grouper\"- no indicators required!...\n"
     ]
    },
    {
     "name": "stderr",
     "output_type": "stream",
     "text": [
      "The following generation flags are not valid and may be ignored: ['temperature', 'top_p', 'top_k']. Set `TRANSFORMERS_VERBOSITY=info` for more details.\n"
     ]
    },
    {
     "name": "stdout",
     "output_type": "stream",
     "text": [
      "🔍 Raw model output: Named Entities: (FortiGuard Labs Threat Research, Organization), (EC2 Grouper, Attacker), (AWS tools, Tool), (AWSPowerShell.Common/4.1.90.0, Tool), (NET_Core/6.0.5, Tool), (OS/Microsoft_Windows_10.0.1...\n",
      "  ✅ Processed 35/50 articles\n",
      "\n",
      "Processing 36/50: Botnets Continue to Target Aging D-Link Vulnerabilities...\n"
     ]
    },
    {
     "name": "stderr",
     "output_type": "stream",
     "text": [
      "The following generation flags are not valid and may be ignored: ['temperature', 'top_p', 'top_k']. Set `TRANSFORMERS_VERBOSITY=info` for more details.\n"
     ]
    },
    {
     "name": "stdout",
     "output_type": "stream",
     "text": [
      "🔍 Raw model output: Named Entities: (FortiGuard Labs, Organization), (Mirai, Malware), (Kaiten, Malware), (HNAP, Tool), (CVE-2015-2051, Vulnerability), (CVE-2019-10891, Vulnerability), (CVE-2022-37056, Vulnerability), (C...\n",
      "\n",
      "Processing 37/50: Analyzing Malicious Intent in Python Code: A Case Study...\n"
     ]
    },
    {
     "name": "stderr",
     "output_type": "stream",
     "text": [
      "The following generation flags are not valid and may be ignored: ['temperature', 'top_p', 'top_k']. Set `TRANSFORMERS_VERBOSITY=info` for more details.\n"
     ]
    },
    {
     "name": "stdout",
     "output_type": "stream",
     "text": [
      "🔍 Raw model output: Named Entities: (FortiGuard Labs Threat Research, Entity), (Zebo-0.1.0, Malware), (Cometlogger-0.1, Malware), (pynput, Tool), (ImageGrab, Tool), (Obfuscation, Technique), (Keylogging, Technique), (Scr...\n",
      "\n",
      "Processing 38/50: Fortinet Contributes to Major Cybercrime Operation Arrests...\n"
     ]
    },
    {
     "name": "stderr",
     "output_type": "stream",
     "text": [
      "The following generation flags are not valid and may be ignored: ['temperature', 'top_p', 'top_k']. Set `TRANSFORMERS_VERBOSITY=info` for more details.\n"
     ]
    },
    {
     "name": "stdout",
     "output_type": "stream",
     "text": [
      "🔍 Raw model output: Named Entities: (FortiGuard Labs Threat Research, Entity Type), (International Criminal Police Organization, Attacker), (African Union Mechanism for Police Cooperation, Attacker), (cybercrime groups, ...\n",
      "\n",
      "Processing 39/50: SmokeLoader Attack Targets Companies in Taiwan...\n"
     ]
    },
    {
     "name": "stderr",
     "output_type": "stream",
     "text": [
      "The following generation flags are not valid and may be ignored: ['temperature', 'top_p', 'top_k']. Set `TRANSFORMERS_VERBOSITY=info` for more details.\n"
     ]
    },
    {
     "name": "stdout",
     "output_type": "stream",
     "text": [
      "🔍 Raw model output: Named Entities: (FortiGuard Labs, Organization), (SmokeLoader, Malware), (Taiwan, Location), (VBS file, File), (AndeLoader, Malware), (idem, File)\\nRelationships: (FortiGuard Labs, observes, attack), ...\n",
      "\n",
      "Processing 40/50: Ransomware Roundup - Interlock...\n"
     ]
    },
    {
     "name": "stderr",
     "output_type": "stream",
     "text": [
      "The following generation flags are not valid and may be ignored: ['temperature', 'top_p', 'top_k']. Set `TRANSFORMERS_VERBOSITY=info` for more details.\n"
     ]
    },
    {
     "name": "stdout",
     "output_type": "stream",
     "text": [
      "🔍 Raw model output: Named Entities: (FortiGuard Labs, Organization), (ransomware, Threat Type), (Interlock ransomware, Malware), (Windows, Platform), (FreeBSD, Platform), (Sina Kheirkhah, Attacker), (backdoor, Technique)...\n",
      "  ✅ Processed 40/50 articles\n",
      "\n",
      "Processing 41/50: Advanced Cyberthreats Targeting Holiday Shoppers...\n"
     ]
    },
    {
     "name": "stderr",
     "output_type": "stream",
     "text": [
      "The following generation flags are not valid and may be ignored: ['temperature', 'top_p', 'top_k']. Set `TRANSFORMERS_VERBOSITY=info` for more details.\n"
     ]
    },
    {
     "name": "stdout",
     "output_type": "stream",
     "text": [
      "🔍 Raw model output: Named Entities: (FortiGuard Labs, Company), (Black Friday, Event), (Cyber Monday, Event), (holiday sales, Event), (AI-powered phishing lures, Technique), (website cloning tools, Tool), (remote code ex...\n",
      "\n",
      "Processing 42/50: Threat Predictions for 2025: Get Ready for Bigger, Bolder At...\n"
     ]
    },
    {
     "name": "stderr",
     "output_type": "stream",
     "text": [
      "The following generation flags are not valid and may be ignored: ['temperature', 'top_p', 'top_k']. Set `TRANSFORMERS_VERBOSITY=info` for more details.\n"
     ]
    },
    {
     "name": "stdout",
     "output_type": "stream",
     "text": [
      "🔍 Raw model output: Named Entities: (FortiGuard Labs, Company), (Threat Research, Topic), (Cybercrime-as-a-Service, Threat Type), (CaaS, Threat Type), (adversaries, Attacker), (Sophisticated Playbook, Technique), (digita...\n",
      "\n",
      "Processing 43/50: New Campaign Uses Remcos RAT to Exploit Victims...\n"
     ]
    },
    {
     "name": "stderr",
     "output_type": "stream",
     "text": [
      "The following generation flags are not valid and may be ignored: ['temperature', 'top_p', 'top_k']. Set `TRANSFORMERS_VERBOSITY=info` for more details.\n"
     ]
    },
    {
     "name": "stdout",
     "output_type": "stream",
     "text": [
      "🔍 Raw model output: Named Entities: (FortiGuard Labs, Organization), (Remcos, Malware), (Microsoft Office, Tool), (WordPad, Tool), (CVE-2017-0199, Vulnerability), (Figure 1, Image), (Figure 2, Image)\\nRelationships: (For...\n",
      "\n",
      "Processing 44/50: Threat Campaign Spreads Winos4.0 Through Game Application...\n"
     ]
    },
    {
     "name": "stderr",
     "output_type": "stream",
     "text": [
      "The following generation flags are not valid and may be ignored: ['temperature', 'top_p', 'top_k']. Set `TRANSFORMERS_VERBOSITY=info` for more details.\n"
     ]
    },
    {
     "name": "stdout",
     "output_type": "stream",
     "text": [
      "🔍 Raw model output: Named Entities: (FortiGuard Labs, Organization), (Winos4.0, Malware), (ad59t82g[.]com, Domain), (you.dll, File), (you, Function)\\nRelationships: (FortiGuard Labs, affectedPlatforms, Microsoft Windows)...\n",
      "\n",
      "Processing 45/50: Burning Zero Days: Suspected Nation-State Adversary Targets ...\n"
     ]
    },
    {
     "name": "stderr",
     "output_type": "stream",
     "text": [
      "The following generation flags are not valid and may be ignored: ['temperature', 'top_p', 'top_k']. Set `TRANSFORMERS_VERBOSITY=info` for more details.\n"
     ]
    },
    {
     "name": "stdout",
     "output_type": "stream",
     "text": [
      "🔍 Raw model output: Named Entities: (FortiGuard Labs Threat Research, Entity), (Ivanti Cloud Services Appliance, Malware), (CVE-2024-8190, Vulnerability), (PHP, Tool), (IP address, IP), (206[.]189[.]156[.]69, IP)\\nRelati...\n",
      "  ✅ Processed 45/50 articles\n",
      "\n",
      "Processing 46/50: Threat Actors Exploit GeoServer Vulnerability CVE-2024-36401...\n"
     ]
    },
    {
     "name": "stderr",
     "output_type": "stream",
     "text": [
      "The following generation flags are not valid and may be ignored: ['temperature', 'top_p', 'top_k']. Set `TRANSFORMERS_VERBOSITY=info` for more details.\n"
     ]
    },
    {
     "name": "stdout",
     "output_type": "stream",
     "text": [
      "🔍 Raw model output: Named Entities: (FortiGuard Labs, Organization), (GeoServer, Tool), (GeoServer, Vulnerability), (GeoServer, Threat Type), (GeoServer, Associated With), (GeoServer, Deployed By), (GeoServer, Targeted B...\n",
      "\n",
      "Processing 47/50: Emansrepo Stealer: Multi-Vector Attack Chains...\n"
     ]
    },
    {
     "name": "stderr",
     "output_type": "stream",
     "text": [
      "The following generation flags are not valid and may be ignored: ['temperature', 'top_p', 'top_k']. Set `TRANSFORMERS_VERBOSITY=info` for more details.\n"
     ]
    },
    {
     "name": "stdout",
     "output_type": "stream",
     "text": [
      "🔍 Raw model output: Named Entities: (FortiGuard Labs, Organization), (Threat Research, Threat Type), (Emansrepo, Malware), (Purchase-Order.7z, File), (Purchase-Order.exe, File), (HTML file, File), (emailed, Method), (PyI...\n",
      "\n",
      "Processing 48/50: Ransomware Roundup - Underground...\n"
     ]
    },
    {
     "name": "stderr",
     "output_type": "stream",
     "text": [
      "The following generation flags are not valid and may be ignored: ['temperature', 'top_p', 'top_k']. Set `TRANSFORMERS_VERBOSITY=info` for more details.\n"
     ]
    },
    {
     "name": "stdout",
     "output_type": "stream",
     "text": [
      "🔍 Raw model output: Named Entities: (FortiGuard Labs, Organization), (Ransomware Roundup, Report), (Underground ransomware, Threat Type), (Windows, Platform), (RomCom group, Attacker), (CVE-2023-36884, Vulnerability), (e...\n",
      "\n",
      "Processing 49/50: Deep Analysis of Snake Keylogger’s New Variant...\n"
     ]
    },
    {
     "name": "stderr",
     "output_type": "stream",
     "text": [
      "The following generation flags are not valid and may be ignored: ['temperature', 'top_p', 'top_k']. Set `TRANSFORMERS_VERBOSITY=info` for more details.\n"
     ]
    },
    {
     "name": "stdout",
     "output_type": "stream",
     "text": [
      "🔍 Raw model output: Named Entities: (FortiGuard Labs, Attacker), (Malicious Excel document, File), (snake keylogger, Malware), (Fortinet's FortiGuard Labs, Tool), (swift copy.xls, File), (virus detected, Hash)\n",
      "Relationsh...\n",
      "\n",
      "Processing 50/50: A Deep Dive into a New ValleyRAT Campaign Targeting Chinese ...\n",
      "🔍 Raw model output: Named Entities: (FortiGuard Labs, Organization), (ValleyRAT, Malware), (Chinese speakers, Target), (Microsoft Office, Tool), (Temp\\%, File), (Test, Mutex), (Registry, Registry), (Temp\\%, Directory), (...\n",
      "  ✅ Processed 50/50 articles\n",
      "💾 Saving to: C:\\Users\\KietVu\\Testplace\\LLM_TKIG\\data\\entity-extraction\\entity_extraction_results_Qwen\\Qwen2.5-1.5B-Instruct_test_2025-08-17_13-24-10_0_50.json\n",
      "\n",
      "💾 SAVED EXTRACTION RESULTS to ../data/entity-extraction/entity_extraction_results_Qwen/Qwen2.5-1.5B-Instruct_test_2025-08-17_13-24-10_0_50.json\n"
     ]
    }
   ],
   "source": [
    "start = 0\n",
    "end = min(len(data), start+offset)\n",
    "output_path = f\"../data/entity-extraction/entity_extraction_results_{os.getenv('DEFAULT_MODEL', 'Qwen/Qwen2.5-1.5B-Instruct')}_test_{today}_{start}_{end}.json\"\n",
    "\n",
    "results = process_articles_for_extraction(data, extraction_model,start=start,offset=offset)\n",
    "save_extraction_results(results, output_path)"
   ]
  },
  {
   "cell_type": "code",
   "execution_count": 14,
   "metadata": {
    "ExecuteTime": {
     "end_time": "2025-08-17T07:45:15.373062Z",
     "start_time": "2025-08-17T07:05:33.831218Z"
    }
   },
   "outputs": [
    {
     "name": "stderr",
     "output_type": "stream",
     "text": [
      "The following generation flags are not valid and may be ignored: ['temperature', 'top_p', 'top_k']. Set `TRANSFORMERS_VERBOSITY=info` for more details.\n"
     ]
    },
    {
     "name": "stdout",
     "output_type": "stream",
     "text": [
      "🔍 Processing 50 articles for entity extraction...\n",
      "\n",
      "Processing 1/50: PureHVNC Deployed via Python Multi-stage Loader...\n"
     ]
    },
    {
     "name": "stderr",
     "output_type": "stream",
     "text": [
      "The following generation flags are not valid and may be ignored: ['temperature', 'top_p', 'top_k']. Set `TRANSFORMERS_VERBOSITY=info` for more details.\n"
     ]
    },
    {
     "name": "stdout",
     "output_type": "stream",
     "text": [
      "🔍 Raw model output: Named Entities: (FortiGuard Labs, Organization), (VenomRAT, Malware), (ScrubCrypt, Tool), (Python obfuscator, Tool), ('Kramer', Tool), ('donut', Tool), ('laZzzy', Tool), (XWorm, Malware), (Venom RAT, ...\n",
      "\n",
      "Processing 2/50: Malicious Packages Hidden in PyPI...\n"
     ]
    },
    {
     "name": "stderr",
     "output_type": "stream",
     "text": [
      "The following generation flags are not valid and may be ignored: ['temperature', 'top_p', 'top_k']. Set `TRANSFORMERS_VERBOSITY=info` for more details.\n"
     ]
    },
    {
     "name": "stdout",
     "output_type": "stream",
     "text": [
      "🔍 Raw model output: Named Entities: (FortiGuard Labs, Organization), (PyPI, Tool), (zlibxjson, Malware), (Discord_token_grabber.pyget_cookies.pypassword_grabber.py, File), (discord, Domain), (python, Tool), (dll, File), ...\n",
      "\n",
      "Processing 3/50: Phishing Campaign Targeting Mobile Users in India Using Indi...\n"
     ]
    },
    {
     "name": "stderr",
     "output_type": "stream",
     "text": [
      "The following generation flags are not valid and may be ignored: ['temperature', 'top_p', 'top_k']. Set `TRANSFORMERS_VERBOSITY=info` for more details.\n"
     ]
    },
    {
     "name": "stdout",
     "output_type": "stream",
     "text": [
      "🔍 Raw model output: Named Entities: (FortiGuard Labs Threat Research, Organization), (iPhone users, User), (India Post, Organization), (smishing, Technique), (China-based threat actor, Attacker), (Apple, Tool), (Hotmail,...\n",
      "\n",
      "Processing 4/50: Dark Web Shows Cybercriminals Ready for Olympics. Are You?...\n"
     ]
    },
    {
     "name": "stderr",
     "output_type": "stream",
     "text": [
      "The following generation flags are not valid and may be ignored: ['temperature', 'top_p', 'top_k']. Set `TRANSFORMERS_VERBOSITY=info` for more details.\n"
     ]
    },
    {
     "name": "stdout",
     "output_type": "stream",
     "text": [
      "🔍 Raw model output: Named Entities: (FortiGuard Labs, Company), (Threat Research, Topic), (World Cup, Event), (Super Bowl, Event), (Wimbledon, Event), (Qatar 2022 World Cup, Event), (Olympics, Event), (Tokyo 2020 Games, ...\n",
      "\n",
      "Processing 5/50: MerkSpy: Exploiting CVE-2021-40444 to Infiltrate Systems...\n"
     ]
    },
    {
     "name": "stderr",
     "output_type": "stream",
     "text": [
      "The following generation flags are not valid and may be ignored: ['temperature', 'top_p', 'top_k']. Set `TRANSFORMERS_VERBOSITY=info` for more details.\n"
     ]
    },
    {
     "name": "stdout",
     "output_type": "stream",
     "text": [
      "🔍 Raw model output: Named Entities: (FortiGuard Labs Threat Research, Entity), (Microsoft Windows, Platform), (Spyware, Malware), (CVE-2021-40444, Vulnerability), (MerkSpy, Malware), (MSHTML, Tool), (Internet Explorer, T...\n",
      "  ✅ Processed 5/50 articles\n",
      "\n",
      "Processing 6/50: The Growing Threat of Malware Concealed Behind Cloud Service...\n"
     ]
    },
    {
     "name": "stderr",
     "output_type": "stream",
     "text": [
      "The following generation flags are not valid and may be ignored: ['temperature', 'top_p', 'top_k']. Set `TRANSFORMERS_VERBOSITY=info` for more details.\n"
     ]
    },
    {
     "name": "stdout",
     "output_type": "stream",
     "text": [
      "🔍 Raw model output: Named Entities: (FortiGuard Labs, Organization), (Linux Distributions, Platform), (UNSTABLE, Malware), (JAWS, Website), (Dasan GPON home router, Device), (Huawei HG532 router, Device), (TP-Link Archer...\n",
      "\n",
      "Processing 7/50: Fickle Stealer Distributed via Multiple Attack Chain...\n"
     ]
    },
    {
     "name": "stderr",
     "output_type": "stream",
     "text": [
      "The following generation flags are not valid and may be ignored: ['temperature', 'top_p', 'top_k']. Set `TRANSFORMERS_VERBOSITY=info` for more details.\n"
     ]
    },
    {
     "name": "stdout",
     "output_type": "stream",
     "text": [
      "🔍 Raw model output: Named Entities: (FortiGuard Labs, Organization), (Windows, Operating System), (VBA dropper, Technique), (VBA downloader, Technique), (link downloader, Technique), (executable downloader, Technique), (...\n",
      "\n",
      "Processing 8/50: Ransomware Roundup – Shinra and Limpopo Ransomware...\n"
     ]
    },
    {
     "name": "stderr",
     "output_type": "stream",
     "text": [
      "The following generation flags are not valid and may be ignored: ['temperature', 'top_p', 'top_k']. Set `TRANSFORMERS_VERBOSITY=info` for more details.\n"
     ]
    },
    {
     "name": "stdout",
     "output_type": "stream",
     "text": [
      "🔍 Raw model output: Named Entities: (FortiGuard Labs, Organization), (Threat Research, Topic), (ransomware variants, Threat Type), (FortiGuard Labs, Organization), (OSINT, Topic), (Ransomware Roundup, Report), (Microsoft...\n",
      "\n",
      "Processing 9/50: New Agent Tesla Campaign Targeting Spanish-Speaking People...\n"
     ]
    },
    {
     "name": "stderr",
     "output_type": "stream",
     "text": [
      "The following generation flags are not valid and may be ignored: ['temperature', 'top_p', 'top_k']. Set `TRANSFORMERS_VERBOSITY=info` for more details.\n"
     ]
    },
    {
     "name": "stdout",
     "output_type": "stream",
     "text": [
      "🔍 Raw model output: Named Entities: (FortiGuard Labs, Organization), (Agent Tesla, Malware), (Spanish, Language), (JavaScript code, Technique), (PowerShell code, Technique), (fileless modules, Technique), (attacker, Atta...\n",
      "\n",
      "Processing 10/50: Menace Unleashed: Excel File Deploys Cobalt Strike at Ukrain...\n"
     ]
    },
    {
     "name": "stderr",
     "output_type": "stream",
     "text": [
      "The following generation flags are not valid and may be ignored: ['temperature', 'top_p', 'top_k']. Set `TRANSFORMERS_VERBOSITY=info` for more details.\n"
     ]
    },
    {
     "name": "stdout",
     "output_type": "stream",
     "text": [
      "🔍 Raw model output: Named Entities: (FortiGuard Labs, Organization), (Malware, Malware), (VBA macro, Technique), (DLL file, File), (Cobalt Strike, Tool), (Excel document, File), (Ukraine, Country), (CERT-UA, Organization...\n",
      "  ✅ Processed 10/50 articles\n",
      "\n",
      "Processing 11/50: zEus Stealer Distributed via Crafted Minecraft Source Pack...\n"
     ]
    },
    {
     "name": "stderr",
     "output_type": "stream",
     "text": [
      "The following generation flags are not valid and may be ignored: ['temperature', 'top_p', 'top_k']. Set `TRANSFORMERS_VERBOSITY=info` for more details.\n"
     ]
    },
    {
     "name": "stdout",
     "output_type": "stream",
     "text": [
      "🔍 Raw model output: Named Entities: (FortiGuard Labs Threat Research, Organization), (Microsoft Windows, Platform), (zEus stealer, Malware), (Discord webhook, Tool), (WinRAR, Tool), (zEus, Malware), (zEus, Variant), (zEu...\n",
      "\n",
      "Processing 12/50: Key Findings from the 2H 2023 FortiGuard Labs Threat Report...\n"
     ]
    },
    {
     "name": "stderr",
     "output_type": "stream",
     "text": [
      "The following generation flags are not valid and may be ignored: ['temperature', 'top_p', 'top_k']. Set `TRANSFORMERS_VERBOSITY=info` for more details.\n"
     ]
    },
    {
     "name": "stdout",
     "output_type": "stream",
     "text": [
      "🔍 Raw model output: Named Entities: (FortiGuard Labs, Company), (Threat Research, Function), (second half of 2023, Time Period), (APT groups, Attacker), (ransomware, Threat Type), (botnets, Threat Type), (IoT, Technology...\n",
      "\n",
      "Processing 13/50: New “Goldoon” Botnet Targeting D-Link Devices...\n"
     ]
    },
    {
     "name": "stderr",
     "output_type": "stream",
     "text": [
      "The following generation flags are not valid and may be ignored: ['temperature', 'top_p', 'top_k']. Set `TRANSFORMERS_VERBOSITY=info` for more details.\n"
     ]
    },
    {
     "name": "stdout",
     "output_type": "stream",
     "text": [
      "🔍 Raw model output: Named Entities: (FortiGuard Labs, Organization), (D-Link, Manufacturer), (DIR-645 Wired/Wireless Router Rev. Ax, Device), (CVE-2015-2051, Vulnerability), (hxxp://94[.]228[.]168[.]60:8080, URL), (94[.]...\n",
      "\n",
      "Processing 14/50: Ransomware Roundup - KageNoHitobito and DoNex...\n"
     ]
    },
    {
     "name": "stderr",
     "output_type": "stream",
     "text": [
      "The following generation flags are not valid and may be ignored: ['temperature', 'top_p', 'top_k']. Set `TRANSFORMERS_VERBOSITY=info` for more details.\n"
     ]
    },
    {
     "name": "stdout",
     "output_type": "stream",
     "text": [
      "🔍 Raw model output: Named Entities: (FortiGuard Labs, Organization), (ransomware, Threat Type), (KageNoHitobito, Malware), (DoNex, Malware), (TOR, Tool), (file sharing, Technique), (Chile, Country), (China, Country), (Cu...\n",
      "\n",
      "Processing 15/50: Unraveling Cyber Threats: Insights from Code Analysis...\n"
     ]
    },
    {
     "name": "stderr",
     "output_type": "stream",
     "text": [
      "The following generation flags are not valid and may be ignored: ['temperature', 'top_p', 'top_k']. Set `TRANSFORMERS_VERBOSITY=info` for more details.\n"
     ]
    },
    {
     "name": "stdout",
     "output_type": "stream",
     "text": [
      "🔍 Raw model output: Named Entities: (FortiGuard Labs, Organization), (discordpy_bypass-1.7, Malware), (discordpy_bypass, Malware), (PyPI, Tool), (March 10, 2024, Date), (March 12, 2024, Date), (aos, Author), (authored by...\n",
      "  ✅ Processed 15/50 articles\n",
      "\n",
      "Processing 16/50: Botnets Continue Exploiting CVE-2023-1389 for Wide-Scale Spr...\n"
     ]
    },
    {
     "name": "stderr",
     "output_type": "stream",
     "text": [
      "The following generation flags are not valid and may be ignored: ['temperature', 'top_p', 'top_k']. Set `TRANSFORMERS_VERBOSITY=info` for more details.\n"
     ]
    },
    {
     "name": "stdout",
     "output_type": "stream",
     "text": [
      "🔍 Raw model output: Named Entities: (FortiGuard Labs, Organization), (TP-Link Archer AX21 (AX1800), Device), (AX1800, Model), (Golang, Tool), (hxxp://5[.]10[.]249[.]153, URL), (AGoent, Tool), (Moobot, Botnet), (Miori, Bo...\n",
      "\n",
      "Processing 17/50: ScrubCrypt Deploys VenomRAT with an Arsenal of Plugins...\n"
     ]
    },
    {
     "name": "stderr",
     "output_type": "stream",
     "text": [
      "The following generation flags are not valid and may be ignored: ['temperature', 'top_p', 'top_k']. Set `TRANSFORMERS_VERBOSITY=info` for more details.\n"
     ]
    },
    {
     "name": "stdout",
     "output_type": "stream",
     "text": [
      "🔍 Raw model output: Named Entities: (FortiGuard Labs Threat Research, Entity), (Microsoft Windows, Platform), (ScrubCrypt, Malware), (Oracle WebLogic Servers, Targeted Systems), (VenomRAT, Malware), (BatCloak, Tool), (C2...\n",
      "\n",
      "Processing 18/50: Byakugan – The Malware Behind a Phishing Attack...\n"
     ]
    },
    {
     "name": "stderr",
     "output_type": "stream",
     "text": [
      "The following generation flags are not valid and may be ignored: ['temperature', 'top_p', 'top_k']. Set `TRANSFORMERS_VERBOSITY=info` for more details.\n"
     ]
    },
    {
     "name": "stdout",
     "output_type": "stream",
     "text": [
      "🔍 Raw model output: Named Entities: (FortiGuard Labs, Organization), (Threat Research, Threat Type), (Byakugan, Malware), (PDF, File), (thinkforce[.]com[.]br, Domain), (Port 8080, Port)\\nRelationships: (FortiGuard Labs, ...\n",
      "\n",
      "Processing 19/50: Ransomware Roundup – RA World...\n"
     ]
    },
    {
     "name": "stderr",
     "output_type": "stream",
     "text": [
      "The following generation flags are not valid and may be ignored: ['temperature', 'top_p', 'top_k']. Set `TRANSFORMERS_VERBOSITY=info` for more details.\n"
     ]
    },
    {
     "name": "stdout",
     "output_type": "stream",
     "text": [
      "🔍 Raw model output: Named Entities: (RA World ransomware, Malware), (Microsoft Windows, Platform), (Victims, Target), (Volume Shadow Copies, Vulnerability), (System backups, Vulnerability)\n",
      "Relationships: (RA World ransom...\n",
      "\n",
      "Processing 20/50: VCURMS: A Simple and Functional Weapon...\n"
     ]
    },
    {
     "name": "stderr",
     "output_type": "stream",
     "text": [
      "The following generation flags are not valid and may be ignored: ['temperature', 'top_p', 'top_k']. Set `TRANSFORMERS_VERBOSITY=info` for more details.\n"
     ]
    },
    {
     "name": "stdout",
     "output_type": "stream",
     "text": [
      "🔍 Raw model output: Named Entities: (FortiGuard Labs, Organization), (Java, Tool), (VCURMS, Threat Type), (STRRAT, Threat Type), (RAT, Threat Type), (Amazon Web Services, Commercial Protector), (GitHub, Commercial Protec...\n",
      "  ✅ Processed 20/50 articles\n",
      "\n",
      "Processing 21/50: New Banking Trojan “CHAVECLOAK” Targets Brazil...\n"
     ]
    },
    {
     "name": "stderr",
     "output_type": "stream",
     "text": [
      "The following generation flags are not valid and may be ignored: ['temperature', 'top_p', 'top_k']. Set `TRANSFORMERS_VERBOSITY=info` for more details.\n"
     ]
    },
    {
     "name": "stdout",
     "output_type": "stream",
     "text": [
      "🔍 Raw model output: Named Entities: (FortiGuard Labs Threat Research, Organization), (Microsoft Windows, Platform), (CHAVECLOAK, Malware), (PDF, File), (ZIP file, File), (DLL, Tool), (Brazil, Country), (Casbaneiro, Banki...\n",
      "\n",
      "Processing 22/50: FortiGuard Labs Outbreak Alerts Annual Report 2023: A Glimps...\n"
     ]
    },
    {
     "name": "stderr",
     "output_type": "stream",
     "text": [
      "The following generation flags are not valid and may be ignored: ['temperature', 'top_p', 'top_k']. Set `TRANSFORMERS_VERBOSITY=info` for more details.\n"
     ]
    },
    {
     "name": "stdout",
     "output_type": "stream",
     "text": [
      "🔍 Raw model output: Named Entities: (FortiGuard Labs, Company), (Outbreak Alerts, Threat Type), (Annual Report, Document), (2023, Year), (Cybersecurity, Topic), (Subscriptions, Action), (FortiGuard Labs, Company), (Repor...\n",
      "\n",
      "Processing 23/50: Ransomware Roundup – Abyss Locker...\n"
     ]
    },
    {
     "name": "stderr",
     "output_type": "stream",
     "text": [
      "The following generation flags are not valid and may be ignored: ['temperature', 'top_p', 'top_k']. Set `TRANSFORMERS_VERBOSITY=info` for more details.\n"
     ]
    },
    {
     "name": "stdout",
     "output_type": "stream",
     "text": [
      "🔍 Raw model output: Named Entities: (FortiGuard Labs, Organization), (ransomware, Threat Type), (Abyss Locker, Malware), (Linux, Platform), (Windows, Platform), (users, Target), (high severity, Severity Level), (HelloKit...\n",
      "\n",
      "Processing 24/50: Android/SpyNote Moves to Crypto Currencies...\n"
     ]
    },
    {
     "name": "stderr",
     "output_type": "stream",
     "text": [
      "The following generation flags are not valid and may be ignored: ['temperature', 'top_p', 'top_k']. Set `TRANSFORMERS_VERBOSITY=info` for more details.\n"
     ]
    },
    {
     "name": "stdout",
     "output_type": "stream",
     "text": [
      "🔍 Raw model output: Named Entities: (FortiGuard Labs Threat Research, Entity Type), (Android Impacted Users, Entity Type), (Android users, Entity Type), (mobile crypto wallet, Entity Type), (banking applications, Entity ...\n",
      "\n",
      "Processing 25/50: TicTacToe Dropper...\n"
     ]
    },
    {
     "name": "stderr",
     "output_type": "stream",
     "text": [
      "The following generation flags are not valid and may be ignored: ['temperature', 'top_p', 'top_k']. Set `TRANSFORMERS_VERBOSITY=info` for more details.\n"
     ]
    },
    {
     "name": "stdout",
     "output_type": "stream",
     "text": [
      "🔍 Raw model output: Named Entities: (FortiGuard Labs Threat Research, Organization), (Malware dropper, Malware), (Leonem, File), (AgentTesla, File), (SnakeLogger, File), (RemLoader, File), (Sabsik, File), (LokiBot, File)...\n",
      "  ✅ Processed 25/50 articles\n",
      "\n",
      "Processing 26/50: Python Info-stealer Distributed by Malicious Excel Document...\n"
     ]
    },
    {
     "name": "stderr",
     "output_type": "stream",
     "text": [
      "The following generation flags are not valid and may be ignored: ['temperature', 'top_p', 'top_k']. Set `TRANSFORMERS_VERBOSITY=info` for more details.\n"
     ]
    },
    {
     "name": "stdout",
     "output_type": "stream",
     "text": [
      "🔍 Raw model output: Named Entities: (FortiGuard Labs, Organization), (Excel document, File), (info-stealer, Malware), (Windows Update.bat, File), (filebin.net, URL), (Abobus, Tool), (test.vbs, File), (script.py, File), (...\n",
      "\n",
      "Processing 27/50: Ransomware Roundup - Albabat...\n"
     ]
    },
    {
     "name": "stderr",
     "output_type": "stream",
     "text": [
      "The following generation flags are not valid and may be ignored: ['temperature', 'top_p', 'top_k']. Set `TRANSFORMERS_VERBOSITY=info` for more details.\n"
     ]
    },
    {
     "name": "stdout",
     "output_type": "stream",
     "text": [
      "🔍 Raw model output: Named Entities: (FortiGuard Labs, Organization), (Albabat ransomware, Malware), (White Bat, AKA), (Counter-Strike 2, Game), (Windows 10, Operating System), (Argentine, Country), (Brazilian, Country), ...\n",
      "\n",
      "Processing 28/50: Another Phobos Ransomware Variant Launches Attack – FAUST...\n"
     ]
    },
    {
     "name": "stderr",
     "output_type": "stream",
     "text": [
      "The following generation flags are not valid and may be ignored: ['temperature', 'top_p', 'top_k']. Set `TRANSFORMERS_VERBOSITY=info` for more details.\n"
     ]
    },
    {
     "name": "stdout",
     "output_type": "stream",
     "text": [
      "🔍 Raw model output: Named Entities: (FortiGuard Labs, Organization), (Threat Research, Topic), (Phobos ransomware, Malware), (EKING, Malware), (8Base, Malware), (FAUST ransomware, Malware), (Gitea, Tool), (XLAM document,...\n",
      "\n",
      "Processing 29/50: Info Stealing Packages Hidden in PyPI...\n"
     ]
    },
    {
     "name": "stderr",
     "output_type": "stream",
     "text": [
      "The following generation flags are not valid and may be ignored: ['temperature', 'top_p', 'top_k']. Set `TRANSFORMERS_VERBOSITY=info` for more details.\n"
     ]
    },
    {
     "name": "stdout",
     "output_type": "stream",
     "text": [
      "🔍 Raw model output: Named Entities: (FortiGuard Labs Threat Research, Entity), (PyPI, Tool), (Malware, Malware), (Checkmarx blog, Website), (PE, File), (base64, Hash), (setup.py, File), (TestLibs111, File), (telerer, Fil...\n",
      "\n",
      "Processing 30/50: Deceptive Cracked Software Spreads Lumma Variant on YouTube...\n"
     ]
    },
    {
     "name": "stderr",
     "output_type": "stream",
     "text": [
      "The following generation flags are not valid and may be ignored: ['temperature', 'top_p', 'top_k']. Set `TRANSFORMERS_VERBOSITY=info` for more details.\n"
     ]
    },
    {
     "name": "stdout",
     "output_type": "stream",
     "text": [
      "🔍 Raw model output: Named Entities: (FortiGuard Labs Threat Research, Entity Type), (YouTube, Tool), (GitHub, Tool), (MediaFire, Tool), (Telegram, Tool), (dark web, Domain), (Lumma Stealer, Malware), (private.NET loader,...\n",
      "  ✅ Processed 30/50 articles\n",
      "\n",
      "Processing 31/50: Three New Malicious PyPI Packages Deploy CoinMiner on Linux ...\n"
     ]
    },
    {
     "name": "stderr",
     "output_type": "stream",
     "text": [
      "The following generation flags are not valid and may be ignored: ['temperature', 'top_p', 'top_k']. Set `TRANSFORMERS_VERBOSITY=info` for more details.\n"
     ]
    },
    {
     "name": "stdout",
     "output_type": "stream",
     "text": [
      "🔍 Raw model output: Named Entities: (FortiGuard Labs Threat Research, Organization), (Linux, Platform), (PyPI, Tool), (CoinMiner, Malware), (modularseven-1.0, File), (driftme-1.0, File), (catme-1.0, File), (sastra, Attac...\n",
      "\n",
      "Processing 32/50: Ransomware Roundup - 8base...\n"
     ]
    },
    {
     "name": "stderr",
     "output_type": "stream",
     "text": [
      "The following generation flags are not valid and may be ignored: ['temperature', 'top_p', 'top_k']. Set `TRANSFORMERS_VERBOSITY=info` for more details.\n"
     ]
    },
    {
     "name": "stdout",
     "output_type": "stream",
     "text": [
      "🔍 Raw model output: Named Entities: (FortiGuard Labs, Organization), (Ransomware Roundup, Report), (8base ransomware, Malware), (SmokeLoader, Tool), (bab3c87cac6db1700f0a0babaa31f5cd544961d1b9ec03fd8bcdeff837fc9755, File...\n",
      "\n",
      "Processing 33/50: Bandook - A Persistent Threat That Keeps Evolving...\n"
     ]
    },
    {
     "name": "stderr",
     "output_type": "stream",
     "text": [
      "The following generation flags are not valid and may be ignored: ['temperature', 'top_p', 'top_k']. Set `TRANSFORMERS_VERBOSITY=info` for more details.\n"
     ]
    },
    {
     "name": "stdout",
     "output_type": "stream",
     "text": [
      "🔍 Raw model output: Named Entities: (Bandook, Malware), (msinfo32.exe, File), (PDF file, File), (password-protected.7z file, File), (registry key, Hash), (PID, Hash), (control code, Hash), (msinfo32.exe, File)\\nRelations...\n",
      "\n",
      "Processing 34/50: MrAnon Stealer Spreads via Email with Fake Hotel Booking PDF...\n"
     ]
    },
    {
     "name": "stderr",
     "output_type": "stream",
     "text": [
      "The following generation flags are not valid and may be ignored: ['temperature', 'top_p', 'top_k']. Set `TRANSFORMERS_VERBOSITY=info` for more details.\n"
     ]
    },
    {
     "name": "stdout",
     "output_type": "stream",
     "text": [
      "🔍 Raw model output: Named Entities: (FortiGuard Labs, Organization), (Malware, Malware), (MrAnon Stealer, Malware), (PowerShell, Tool), (cx-Freeze, Tool), (Germany, Country), (November 2023, Month), (Hotel room reservati...\n",
      "\n",
      "Processing 35/50: GoTitan Botnet - Ongoing Exploitation on Apache ActiveMQ...\n"
     ]
    },
    {
     "name": "stderr",
     "output_type": "stream",
     "text": [
      "The following generation flags are not valid and may be ignored: ['temperature', 'top_p', 'top_k']. Set `TRANSFORMERS_VERBOSITY=info` for more details.\n"
     ]
    },
    {
     "name": "stdout",
     "output_type": "stream",
     "text": [
      "🔍 Raw model output: Named Entities: (Apache Active MQ, Software), (FortiGuard Labs, Organization), (CVE-2023-46604, Vulnerability), (Golang, Language), (Sliver, Tool), (PrCtrl Rat, Tool)\n",
      "Relationships: (Apache Active MQ,...\n",
      "  ✅ Processed 35/50 articles\n",
      "\n",
      "Processing 36/50: Konni Campaign Distributed Via Malicious Document...\n"
     ]
    },
    {
     "name": "stderr",
     "output_type": "stream",
     "text": [
      "The following generation flags are not valid and may be ignored: ['temperature', 'top_p', 'top_k']. Set `TRANSFORMERS_VERBOSITY=info` for more details.\n"
     ]
    },
    {
     "name": "stdout",
     "output_type": "stream",
     "text": [
      "🔍 Raw model output: Named Entities: (FortiGuard Labs, Organization), (Konni campaign, Campaign), (Russian-language Word document, File), (VBA script, File), (temp.zip, File), (check.bat, File), (vbHide, Parameter), (oleF...\n",
      "\n",
      "Processing 37/50: Investigating the New Rhysida Ransomware...\n"
     ]
    },
    {
     "name": "stderr",
     "output_type": "stream",
     "text": [
      "The following generation flags are not valid and may be ignored: ['temperature', 'top_p', 'top_k']. Set `TRANSFORMERS_VERBOSITY=info` for more details.\n"
     ]
    },
    {
     "name": "stdout",
     "output_type": "stream",
     "text": [
      "🔍 Raw model output: Named Entities: (FortiGuard Labs Threat Research, Entity), (Rhysida ransomware group, Malware), (ESXi-based ransomware, Technique), (PSExec, Tool), (AnyDesk, Tool), (WinSCP, Tool), (FortiGuard IR team...\n",
      "\n",
      "Processing 38/50: Ransomware Roundup – NoEscape...\n"
     ]
    },
    {
     "name": "stderr",
     "output_type": "stream",
     "text": [
      "The following generation flags are not valid and may be ignored: ['temperature', 'top_p', 'top_k']. Set `TRANSFORMERS_VERBOSITY=info` for more details.\n"
     ]
    },
    {
     "name": "stdout",
     "output_type": "stream",
     "text": [
      "🔍 Raw model output: Named Entities: (FortiGuard Labs, Organization), (FortiGuard Labs Threat Research, Function), (ransomware variants, Threat Type), (NoEscape ransomware, Malware), (Microsoft Windows, Platform), (Linux,...\n",
      "\n",
      "Processing 39/50: Threat Predictions for 2024: Chained AI and CaaS Operations ...\n"
     ]
    },
    {
     "name": "stderr",
     "output_type": "stream",
     "text": [
      "The following generation flags are not valid and may be ignored: ['temperature', 'top_p', 'top_k']. Set `TRANSFORMERS_VERBOSITY=info` for more details.\n"
     ]
    },
    {
     "name": "stdout",
     "output_type": "stream",
     "text": [
      "🔍 Raw model output: Named Entities: (FortiGuard Labs, Company), (Threat Research, Topic), (Cybercrime-as-a-Service, Threat Type), (generative AI, Technology), (advanced persistent cybercrime, Threat Type), (APT groups, A...\n",
      "\n",
      "Processing 40/50: Ransomware Roundup - Knight...\n"
     ]
    },
    {
     "name": "stderr",
     "output_type": "stream",
     "text": [
      "The following generation flags are not valid and may be ignored: ['temperature', 'top_p', 'top_k']. Set `TRANSFORMERS_VERBOSITY=info` for more details.\n"
     ]
    },
    {
     "name": "stdout",
     "output_type": "stream",
     "text": [
      "🔍 Raw model output: Named Entities: (Knight ransomware, Malware), (CERT Italy, Organization), (Italian organizations, Target), (Remcos, Tool), (Qakbot, Tool)\n",
      "Relationships: (Knight ransomware, uses, phishing), (Knight ra...\n",
      "  ✅ Processed 40/50 articles\n",
      "\n",
      "Processing 41/50: Another InfoStealer Enters the Field, ExelaStealer...\n"
     ]
    },
    {
     "name": "stderr",
     "output_type": "stream",
     "text": [
      "The following generation flags are not valid and may be ignored: ['temperature', 'top_p', 'top_k']. Set `TRANSFORMERS_VERBOSITY=info` for more details.\n"
     ]
    },
    {
     "name": "stdout",
     "output_type": "stream",
     "text": [
      "🔍 Raw model output: Named Entities: (FortiGuard Labs, Company), (InfoStealer, Malware), (RedLine, Attacker), (Raccoon, Attacker), (Vidar, Attacker), (SaphireStealer, Attacker), (ExelaStealer, Malware), (quicaxd, Attacker...\n",
      "\n",
      "Processing 42/50: Ransomware Roundup - Akira...\n"
     ]
    },
    {
     "name": "stderr",
     "output_type": "stream",
     "text": [
      "The following generation flags are not valid and may be ignored: ['temperature', 'top_p', 'top_k']. Set `TRANSFORMERS_VERBOSITY=info` for more details.\n"
     ]
    },
    {
     "name": "stdout",
     "output_type": "stream",
     "text": [
      "🔍 Raw model output: Named Entities: (Akira Ransomware, Malware), (CERT India, Organization), (VPN, Service), (multi-factor authentication, Vulnerability), (network access, Tool)\n",
      "Relationships: (Akira Ransomware, contains...\n",
      "\n",
      "Processing 43/50: IZ1H9 Campaign Enhances Its Arsenal with Scores of Exploits...\n"
     ]
    },
    {
     "name": "stderr",
     "output_type": "stream",
     "text": [
      "The following generation flags are not valid and may be ignored: ['temperature', 'top_p', 'top_k']. Set `TRANSFORMERS_VERBOSITY=info` for more details.\n"
     ]
    },
    {
     "name": "stdout",
     "output_type": "stream",
     "text": [
      "🔍 Raw model output: Named Entities: (FortiGuard Labs, Organization), (Mirai-based DDoS campaign, Threat Type), (IZ1H9, Malware), (D-Link, Vulnerability), (Netis wireless router, Vulnerability), (Sunhillo SureLine, Vulner...\n",
      "\n",
      "Processing 44/50: Malicious Packages Hidden in NPM...\n"
     ]
    },
    {
     "name": "stderr",
     "output_type": "stream",
     "text": [
      "The following generation flags are not valid and may be ignored: ['temperature', 'top_p', 'top_k']. Set `TRANSFORMERS_VERBOSITY=info` for more details.\n"
     ]
    },
    {
     "name": "stdout",
     "output_type": "stream",
     "text": [
      "🔍 Raw model output: Named Entities: (FortiGuard Labs, Organization), (NPM, Tool), (PyPI, Domain), (Node Package Manager, Tool), (webhook, Technique), (file-sharing link, Technique), (system, Vulnerability), (user, Vulner...\n",
      "\n",
      "Processing 45/50: Threat Actors Exploit the Tensions Between Azerbaijan and Ar...\n"
     ]
    },
    {
     "name": "stderr",
     "output_type": "stream",
     "text": [
      "The following generation flags are not valid and may be ignored: ['temperature', 'top_p', 'top_k']. Set `TRANSFORMERS_VERBOSITY=info` for more details.\n"
     ]
    },
    {
     "name": "stdout",
     "output_type": "stream",
     "text": [
      "🔍 Raw model output: Named Entities: (FortiGuard Labs, Company), (Nagorno-Karabakh Autonomous Oblast, Territory), (Azerbaijan, Country), (Armenia, Country), (Balkans, Region), (Soviet Union, Country), (Ukraine, Country), ...\n",
      "  ✅ Processed 45/50 articles\n",
      "\n",
      "Processing 46/50: Ransomware Roundup - Retch and S. H. O....\n"
     ]
    },
    {
     "name": "stderr",
     "output_type": "stream",
     "text": [
      "The following generation flags are not valid and may be ignored: ['temperature', 'top_p', 'top_k']. Set `TRANSFORMERS_VERBOSITY=info` for more details.\n"
     ]
    },
    {
     "name": "stdout",
     "output_type": "stream",
     "text": [
      "🔍 Raw model output: Named Entities: (Retch, Malware), (S.H.O, Malware), (FortiGuard Labs, Organization), (Ransomware Roundup, Report), (Windows, Platform), (Microsoft Windows, Platform), (High, Severity Level)\n",
      "Relationsh...\n",
      "\n",
      "Processing 47/50: New MidgeDropper Variant...\n"
     ]
    },
    {
     "name": "stderr",
     "output_type": "stream",
     "text": [
      "The following generation flags are not valid and may be ignored: ['temperature', 'top_p', 'top_k']. Set `TRANSFORMERS_VERBOSITY=info` for more details.\n"
     ]
    },
    {
     "name": "stdout",
     "output_type": "stream",
     "text": [
      "🔍 Raw model output: Named Entities: (FortiGuard Labs, Organization), (MidgeDropper, Malware), (RAR archive, File), (!PENTING_LIST OF OFFICERS.rar, Archive), (\"Notice to Work-From-Home groups.pdf\", File), (\"062023_PENTING...\n",
      "\n",
      "Processing 48/50: OriginBotnet Spreads via Malicious Word Document...\n"
     ]
    },
    {
     "name": "stderr",
     "output_type": "stream",
     "text": [
      "The following generation flags are not valid and may be ignored: ['temperature', 'top_p', 'top_k']. Set `TRANSFORMERS_VERBOSITY=info` for more details.\n"
     ]
    },
    {
     "name": "stdout",
     "output_type": "stream",
     "text": [
      "🔍 Raw model output: Named Entities: (FortiGuard Labs, Organization), (Word document, File), (malicious URL, URL), (https://bankslip[.]info/document/scancop20233108[.]exe, File), (Aphishing email, Email), (XOR operation, ...\n",
      "\n",
      "Processing 49/50: New Agent Tesla Variant Being Spread by Crafted Excel Docume...\n"
     ]
    },
    {
     "name": "stderr",
     "output_type": "stream",
     "text": [
      "The following generation flags are not valid and may be ignored: ['temperature', 'top_p', 'top_k']. Set `TRANSFORMERS_VERBOSITY=info` for more details.\n"
     ]
    },
    {
     "name": "stdout",
     "output_type": "stream",
     "text": [
      "🔍 Raw model output: Named Entities: (FortiGuard Labs, Organization), (Threat Research, Topic), (Agent Tesla, Malware), (CVE-2017-11882, Vulnerability), (CVE-2018-0802, Vulnerability), (Microsoft, Company), (IPS, Tool), (...\n",
      "\n",
      "Processing 50/50: Ransomware Roundup - Rhysida...\n",
      "🔍 Raw model output: Named Entities: (FortiGuard Labs, Organization), (Rhysida ransomware, Malware), (Health Sector Cybersecurity Coordination Center, Organization), (Cobalt Strike, Tool), (HC3, Organization), (August 4, ...\n",
      "  ✅ Processed 50/50 articles\n",
      "💾 Saving to: C:\\Users\\KietVu\\Testplace\\LLM_TKIG\\data\\entity-extraction\\entity_extraction_results_Qwen\\Qwen2.5-1.5B-Instruct_test_2025-08-17_13-24-10_51_101.json\n",
      "\n",
      "💾 SAVED EXTRACTION RESULTS to ../data/entity-extraction/entity_extraction_results_Qwen/Qwen2.5-1.5B-Instruct_test_2025-08-17_13-24-10_51_101.json\n"
     ]
    }
   ],
   "source": [
    "start = 51\n",
    "end = min(len(data), start+offset)\n",
    "output_path = f\"../data/entity-extraction/entity_extraction_results_{os.getenv('DEFAULT_MODEL', 'Qwen/Qwen2.5-1.5B-Instruct')}_test_{today}_{start}_{end}.json\"\n",
    "\n",
    "results = process_articles_for_extraction(data, extraction_model,start=start,offset=offset)\n",
    "save_extraction_results(results, output_path)"
   ]
  },
  {
   "cell_type": "code",
   "execution_count": null,
   "metadata": {
    "ExecuteTime": {
     "start_time": "2025-08-17T07:46:06.505311Z"
    },
    "jupyter": {
     "is_executing": true
    }
   },
   "outputs": [
    {
     "name": "stderr",
     "output_type": "stream",
     "text": [
      "The following generation flags are not valid and may be ignored: ['temperature', 'top_p', 'top_k']. Set `TRANSFORMERS_VERBOSITY=info` for more details.\n"
     ]
    },
    {
     "name": "stdout",
     "output_type": "stream",
     "text": [
      "🔍 Processing 50 articles for entity extraction...\n",
      "\n",
      "Processing 1/50: Ransomware Roundup – Trash Panda and A New Minor Variant of ...\n"
     ]
    },
    {
     "name": "stderr",
     "output_type": "stream",
     "text": [
      "The following generation flags are not valid and may be ignored: ['temperature', 'top_p', 'top_k']. Set `TRANSFORMERS_VERBOSITY=info` for more details.\n"
     ]
    },
    {
     "name": "stdout",
     "output_type": "stream",
     "text": [
      "🔍 Raw model output: Named Entities: (Trash Panda, Malware), (NoCry ransomware, Malware), (Windows, Platform), (Fortinet, Tool), (file extension, File), (Command Prompt, Tool), (public file scanning service, Tool), (diagc...\n",
      "\n",
      "Processing 2/50: FortiGuard AI Detects Malicious Packages Hidden in the Pytho...\n"
     ]
    },
    {
     "name": "stderr",
     "output_type": "stream",
     "text": [
      "The following generation flags are not valid and may be ignored: ['temperature', 'top_p', 'top_k']. Set `TRANSFORMERS_VERBOSITY=info` for more details.\n"
     ]
    },
    {
     "name": "stdout",
     "output_type": "stream",
     "text": [
      "🔍 Raw model output: Named Entities: (FortiGuard Labs Threat Research Python Package Index (PyPI), Tool), (Malware, Malware), (FortiGuard Labs team, Attacker), (AI engine, Tool), (OSS supply chain threats hunting system, ...\n",
      "\n",
      "Processing 3/50: Attackers Distribute Malware via Freeze.rs And SYK Crypter...\n"
     ]
    },
    {
     "name": "stderr",
     "output_type": "stream",
     "text": [
      "The following generation flags are not valid and may be ignored: ['temperature', 'top_p', 'top_k']. Set `TRANSFORMERS_VERBOSITY=info` for more details.\n"
     ]
    },
    {
     "name": "stdout",
     "output_type": "stream",
     "text": [
      "🔍 Raw model output: Named Entities: (FortiGuard Labs, Organization), (injector, Malware), (Rust, Language), (shellcode, Payload), (XWorm, Threat Type), (Windows, Platform), (SYK Crypter, Tool), (Remcos, Threat Type), (nj...\n",
      "\n",
      "Processing 4/50: Key Findings from the 1H 2023 FortiGuard Labs Threat Report...\n"
     ]
    },
    {
     "name": "stderr",
     "output_type": "stream",
     "text": [
      "The following generation flags are not valid and may be ignored: ['temperature', 'top_p', 'top_k']. Set `TRANSFORMERS_VERBOSITY=info` for more details.\n"
     ]
    },
    {
     "name": "stdout",
     "output_type": "stream",
     "text": [
      "🔍 Raw model output: Named Entities: (FortiGuard Labs, Company), (Threat Research, Department), (Fortinet, Company), (billions of threat events, Quantity), (worldwide, Location), (APT groups, Threat Type), (ransomware, Th...\n",
      "\n",
      "Processing 5/50: Ransomware Roundup - DoDo and Proton...\n"
     ]
    },
    {
     "name": "stderr",
     "output_type": "stream",
     "text": [
      "The following generation flags are not valid and may be ignored: ['temperature', 'top_p', 'top_k']. Set `TRANSFORMERS_VERBOSITY=info` for more details.\n"
     ]
    },
    {
     "name": "stdout",
     "output_type": "stream",
     "text": [
      "🔍 Raw model output: Named Entities: (FortiGuard Labs, Organization), (ransomware, Threat Type), (DoDo, Malware), (Proton, Malware), (Mercurial Grabber, Tool), (GitHub, Tool), (June 3, 2021, Date), (discord tokens, Vulner...\n",
      "  ✅ Processed 5/50 articles\n",
      "\n",
      "Processing 6/50: FortiGuard Labs Discovers Multiple Vulnerabilities in Micros...\n"
     ]
    },
    {
     "name": "stderr",
     "output_type": "stream",
     "text": [
      "The following generation flags are not valid and may be ignored: ['temperature', 'top_p', 'top_k']. Set `TRANSFORMERS_VERBOSITY=info` for more details.\n"
     ]
    },
    {
     "name": "stdout",
     "output_type": "stream",
     "text": [
      "🔍 Raw model output: Named Entities: (FortiGuard Labs, Organization), (Microsoft Message Queuing (MSMQ), Service), (MQSVC.EXE, Executable), (MQQM.DLL, DLL), (MQAC.SYS, System), (RabbitMQ, Tool), (Table 1, Document)\n",
      "Relati...\n",
      "\n",
      "Processing 7/50: Ransomware Roundup - Cl0p...\n"
     ]
    },
    {
     "name": "stderr",
     "output_type": "stream",
     "text": [
      "The following generation flags are not valid and may be ignored: ['temperature', 'top_p', 'top_k']. Set `TRANSFORMERS_VERBOSITY=info` for more details.\n"
     ]
    },
    {
     "name": "stdout",
     "output_type": "stream",
     "text": [
      "🔍 Raw model output: Named Entities: (FortiGuard Labs, Organization), (Ransomware Roundup, Report), (Cl0p ransomware, Malware), (MOVEit Transfer, Tool), (CVE-2023-34362, Vulnerability), (Linux, Platform), (Windows, Platfo...\n",
      "\n",
      "Processing 8/50: DDoS Botnets Target Zyxel Vulnerability CVE-2023-28771...\n"
     ]
    },
    {
     "name": "stderr",
     "output_type": "stream",
     "text": [
      "The following generation flags are not valid and may be ignored: ['temperature', 'top_p', 'top_k']. Set `TRANSFORMERS_VERBOSITY=info` for more details.\n"
     ]
    },
    {
     "name": "stdout",
     "output_type": "stream",
     "text": [
      "🔍 Raw model output: Named Entities: (FortiGuard Labs, Organization), (Linux, OS), (DDoS botnets, Threat Type), (Zyxel, Malware), (CVE-2023-28771, Vulnerability), (command injection, Technique), (TRAPA Security, Organizat...\n",
      "\n",
      "Processing 9/50: FortiGuard Labs Discovers Multiple Vulnerabilities in Adobe ...\n"
     ]
    },
    {
     "name": "stderr",
     "output_type": "stream",
     "text": [
      "The following generation flags are not valid and may be ignored: ['temperature', 'top_p', 'top_k']. Set `TRANSFORMERS_VERBOSITY=info` for more details.\n"
     ]
    },
    {
     "name": "stdout",
     "output_type": "stream",
     "text": [
      "🔍 Raw model output: Named Entities: (FortiGuard Labs Threat Research, Entity), (Adobe InDesign, Tool), (CVE-2023-29308, Vulnerability), (CVE-2023-29309, Vulnerability), (CVE-2023-29310, Vulnerability), (CVE-2023-29311, V...\n",
      "\n",
      "Processing 10/50: LokiBot Campaign Targets Microsoft Office Document Using Vul...\n"
     ]
    },
    {
     "name": "stderr",
     "output_type": "stream",
     "text": [
      "The following generation flags are not valid and may be ignored: ['temperature', 'top_p', 'top_k']. Set `TRANSFORMERS_VERBOSITY=info` for more details.\n"
     ]
    },
    {
     "name": "stdout",
     "output_type": "stream",
     "text": [
      "🔍 Raw model output: Named Entities: (FortiGuard Labs, Organization), (Threat Research, Topic), (Microsoft Windows, Platform), (Windows users, Targeted Party), (Control and collect sensitive information from a victim’s de...\n",
      "  ✅ Processed 10/50 articles\n",
      "\n",
      "Processing 11/50: Meet LockBit: The Most Prevalent Ransomware in 2022...\n"
     ]
    },
    {
     "name": "stderr",
     "output_type": "stream",
     "text": [
      "The following generation flags are not valid and may be ignored: ['temperature', 'top_p', 'top_k']. Set `TRANSFORMERS_VERBOSITY=info` for more details.\n"
     ]
    },
    {
     "name": "stdout",
     "output_type": "stream",
     "text": [
      "🔍 Raw model output: Named Entities: (FortiGuard Labs Threat Research, Entity Type), (Microsoft Windows, Platform), (Linux, Platform), (ESXi, Platform), (MacOS, Platform), (LockBit ransomware, Malware), (LockBit Group, At...\n",
      "\n",
      "Processing 12/50: Ransomware Roundup - Rancoz...\n"
     ]
    },
    {
     "name": "stderr",
     "output_type": "stream",
     "text": [
      "The following generation flags are not valid and may be ignored: ['temperature', 'top_p', 'top_k']. Set `TRANSFORMERS_VERBOSITY=info` for more details.\n"
     ]
    },
    {
     "name": "stdout",
     "output_type": "stream",
     "text": [
      "🔍 Raw model output: Named Entities: (FortiGuard Labs, Organization), (Ransomware Roundup, Report), (Rancoz ransomware, Malware), (Microsoft Windows, Platform), (Tor, Domain), (November 2022, Date)\n",
      "Relationships: (FortiGu...\n",
      "\n",
      "Processing 13/50: New Fast-Developing ThirdEye Infostealer Pries Open System I...\n"
     ]
    },
    {
     "name": "stderr",
     "output_type": "stream",
     "text": [
      "The following generation flags are not valid and may be ignored: ['temperature', 'top_p', 'top_k']. Set `TRANSFORMERS_VERBOSITY=info` for more details.\n"
     ]
    },
    {
     "name": "stdout",
     "output_type": "stream",
     "text": [
      "🔍 Raw model output: Named Entities: (FortiGuard Labs, Organization), (Windows, Platform), (ThirdEye, Malware), (time sheet, File), (CMK Правила оформления больничных листов.pdf, File), (f6e6d44137cb5fcee20bcde0a162768dad...\n",
      "\n",
      "Processing 14/50: Ransomware Roundup - Black Basta...\n"
     ]
    },
    {
     "name": "stderr",
     "output_type": "stream",
     "text": [
      "The following generation flags are not valid and may be ignored: ['temperature', 'top_p', 'top_k']. Set `TRANSFORMERS_VERBOSITY=info` for more details.\n"
     ]
    },
    {
     "name": "stdout",
     "output_type": "stream",
     "text": [
      "🔍 Raw model output: Named Entities: (Black Basta, Threat Type), (Conti ransomware, Malware), (FortiGuard Labs, Organization), (Fortinet, Tool), (VMWare ESXi servers, Device), (US government contractor, Impacted Party), (...\n",
      "\n",
      "Processing 15/50: Fortinet Reverses Flutter-based Android Malware “Fluhorse”...\n"
     ]
    },
    {
     "name": "stderr",
     "output_type": "stream",
     "text": [
      "The following generation flags are not valid and may be ignored: ['temperature', 'top_p', 'top_k']. Set `TRANSFORMERS_VERBOSITY=info` for more details.\n"
     ]
    },
    {
     "name": "stdout",
     "output_type": "stream",
     "text": [
      "🔍 Raw model output: Named Entities: (FortiGuard Labs Threat Research, Entity), (Android/Fluhorseis, Malware), (Flutter, Tool), (previous instances, Threat Type), (MoneyMonger, Malware), (reverse engineering, Technique), ...\n",
      "  ✅ Processed 15/50 articles\n",
      "\n",
      "Processing 16/50: Condi DDoS Botnet Spreads via TP-Link's CVE-2023-1389...\n"
     ]
    },
    {
     "name": "stderr",
     "output_type": "stream",
     "text": [
      "The following generation flags are not valid and may be ignored: ['temperature', 'top_p', 'top_k']. Set `TRANSFORMERS_VERBOSITY=info` for more details.\n"
     ]
    },
    {
     "name": "stdout",
     "output_type": "stream",
     "text": [
      "🔍 Raw model output: Named Entities: (FortiGuard Labs, Organization), (Linux, OS), (Condi, Malware), (TP-Link Archer AX21 (AX1800), Device), (CVE-2023-1389, Vulnerability), (CDN2[.]duc3k[.]com, Domain), (admin[.]duc3k[.]c...\n",
      "\n",
      "Processing 17/50: Ransomware Roundup - Big Head...\n"
     ]
    },
    {
     "name": "stderr",
     "output_type": "stream",
     "text": [
      "The following generation flags are not valid and may be ignored: ['temperature', 'top_p', 'top_k']. Set `TRANSFORMERS_VERBOSITY=info` for more details.\n"
     ]
    },
    {
     "name": "stdout",
     "output_type": "stream",
     "text": [
      "🔍 Raw model output: Named Entities: (FortiGuard Labs, Organization), (Big Head, Malware), (ransomware, Threat Type), (May 2023, Date), (Microsoft Word, Tool), (counterfeit software, Tool), (variant A, Malware Variant)\\nR...\n",
      "\n",
      "Processing 18/50: MOVEit Transfer Critical Vulnerability (CVE-2023-34362) Expl...\n"
     ]
    },
    {
     "name": "stderr",
     "output_type": "stream",
     "text": [
      "The following generation flags are not valid and may be ignored: ['temperature', 'top_p', 'top_k']. Set `TRANSFORMERS_VERBOSITY=info` for more details.\n"
     ]
    },
    {
     "name": "stdout",
     "output_type": "stream",
     "text": [
      "🔍 Raw model output: Named Entities: (MOVEit Transfer, Software), (SQL database, Vulnerability), (Cl0p ransomware, Attacker), (CVE-2023-34362, Vulnerability), (CISA, Organization)\n",
      "Relationships: (MOVEit Transfer, uses, SQ...\n",
      "\n",
      "Processing 19/50: YouTube Pirated Software Videos Deliver Triple Threat: Vidar...\n"
     ]
    },
    {
     "name": "stderr",
     "output_type": "stream",
     "text": [
      "The following generation flags are not valid and may be ignored: ['temperature', 'top_p', 'top_k']. Set `TRANSFORMERS_VERBOSITY=info` for more details.\n"
     ]
    },
    {
     "name": "stdout",
     "output_type": "stream",
     "text": [
      "🔍 Raw model output: Named Entities: (FortiGuard Labs, Organization), (Threat Research, Service), (YouTube, Platform), (pirated software, Product), (cracked, AKA), (malicious binaries, File), (multiple malware, Malware), ...\n",
      "\n",
      "Processing 20/50: WINTAPIX: A New Kernel Driver Targeting Countries in The Mid...\n"
     ]
    },
    {
     "name": "stderr",
     "output_type": "stream",
     "text": [
      "The following generation flags are not valid and may be ignored: ['temperature', 'top_p', 'top_k']. Set `TRANSFORMERS_VERBOSITY=info` for more details.\n"
     ]
    },
    {
     "name": "stdout",
     "output_type": "stream",
     "text": [
      "🔍 Raw model output: Named Entities: (FortiGuard Labs Threat Research, Organization), (WindowsImpacted parties, User), (WinTapix.sys, File), (WINTAPIX, File), (Donutproject, Tool), (kernel driver, Device), (Virus Total, S...\n",
      "  ✅ Processed 20/50 articles\n",
      "\n",
      "Processing 21/50: More Supply Chain Attacks via Malicious Python Packages...\n"
     ]
    },
    {
     "name": "stderr",
     "output_type": "stream",
     "text": [
      "The following generation flags are not valid and may be ignored: ['temperature', 'top_p', 'top_k']. Set `TRANSFORMERS_VERBOSITY=info` for more details.\n"
     ]
    },
    {
     "name": "stdout",
     "output_type": "stream",
     "text": [
      "🔍 Raw model output: Named Entities: (FortiGuard Labs, Organization), (PyPI, Tool), (setup.py, File), (URL, Domain), (Python, Tool), (Discord, Tool), (zip file, File), (script, File), (encoded data, File), (Figure 5, Imag...\n",
      "\n",
      "Processing 22/50: Ransomware Roundup - Maori...\n"
     ]
    },
    {
     "name": "stderr",
     "output_type": "stream",
     "text": [
      "The following generation flags are not valid and may be ignored: ['temperature', 'top_p', 'top_k']. Set `TRANSFORMERS_VERBOSITY=info` for more details.\n"
     ]
    },
    {
     "name": "stdout",
     "output_type": "stream",
     "text": [
      "🔍 Raw model output: Named Entities: (Maori, Malware), (Linux, Platform), (Linux Users, Impact), (Go, Tool), (FortiGuard Labs, Organization), (Linux, Platform), (Linux Users, Impact)\n",
      "Relationships: (Maori, uses, Linux), (...\n",
      "\n",
      "Processing 23/50: RapperBot DDoS Botnet Expands into Cryptojacking...\n"
     ]
    },
    {
     "name": "stderr",
     "output_type": "stream",
     "text": [
      "The following generation flags are not valid and may be ignored: ['temperature', 'top_p', 'top_k']. Set `TRANSFORMERS_VERBOSITY=info` for more details.\n"
     ]
    },
    {
     "name": "stdout",
     "output_type": "stream",
     "text": [
      "🔍 Raw model output: Named Entities: (FortiGuard Labs, Organization), (Linux, Platform), (RapperBot, Malware), (Intel x64, Vulnerability), (YouTube, Domain), (January 2023, Date), (late January 2023, Date)\n",
      "Relationships: ...\n",
      "\n",
      "Processing 24/50: AndoryuBot – New Botnet Campaign Targets Ruckus Wireless Adm...\n"
     ]
    }
   ],
   "source": [
    "start = 102\n",
    "end = min(len(data), start+offset)\n",
    "output_path = f\"../data/entity-extraction/entity_extraction_results_{os.getenv('DEFAULT_MODEL', 'Qwen/Qwen2.5-1.5B-Instruct')}_test_{today}_{start}_{end}.json\"\n",
    "\n",
    "results = process_articles_for_extraction(data, extraction_model,start=start,offset=offset)\n",
    "save_extraction_results(results, output_path)"
   ]
  },
  {
   "cell_type": "code",
   "execution_count": null,
   "metadata": {
    "ExecuteTime": {
     "start_time": "2025-08-17T08:52:49.225301Z"
    },
    "jupyter": {
     "is_executing": true
    }
   },
   "outputs": [
    {
     "name": "stderr",
     "output_type": "stream",
     "text": [
      "The following generation flags are not valid and may be ignored: ['temperature', 'top_p', 'top_k']. Set `TRANSFORMERS_VERBOSITY=info` for more details.\n"
     ]
    },
    {
     "name": "stdout",
     "output_type": "stream",
     "text": [
      "🔍 Processing 50 articles for entity extraction...\n",
      "\n",
      "Processing 1/50: Analyzing Malware Code that Cryptojacks System to Mine for M...\n"
     ]
    }
   ],
   "source": [
    "start = 153\n",
    "end = min(len(data), start+offset)\n",
    "output_path = f\"../data/entity-extraction/entity_extraction_results_{os.getenv('DEFAULT_MODEL', 'Qwen/Qwen2.5-1.5B-Instruct')}_test_{today}_{start}_{end}.json\"\n",
    "\n",
    "results = process_articles_for_extraction(data, extraction_model,start=start,offset=offset)\n",
    "save_extraction_results(results, output_path)"
   ]
  },
  {
   "cell_type": "code",
   "execution_count": 10,
   "metadata": {
    "ExecuteTime": {
     "end_time": "2025-08-17T10:13:29.710705Z",
     "start_time": "2025-08-17T09:40:37.322909Z"
    }
   },
   "outputs": [
    {
     "name": "stderr",
     "output_type": "stream",
     "text": [
      "The following generation flags are not valid and may be ignored: ['temperature', 'top_p', 'top_k']. Set `TRANSFORMERS_VERBOSITY=info` for more details.\n"
     ]
    },
    {
     "name": "stdout",
     "output_type": "stream",
     "text": [
      "🔍 Processing 46 articles for entity extraction...\n",
      "\n",
      "Processing 1/46: spyware obfuscation static analysis...\n"
     ]
    },
    {
     "name": "stderr",
     "output_type": "stream",
     "text": [
      "The following generation flags are not valid and may be ignored: ['temperature', 'top_p', 'top_k']. Set `TRANSFORMERS_VERBOSITY=info` for more details.\n"
     ]
    },
    {
     "name": "stdout",
     "output_type": "stream",
     "text": [
      "🔍 Raw model output: Named Entities: (Spyware, Malware), (code obfuscation, Technique), (Jadx, Tool), (Android applications, File)\n",
      "Relationships: (Spyware, employs, code obfuscation), (Spyware, uses, Jadx)...\n",
      "\n",
      "Processing 2/46: crambus middle east government...\n"
     ]
    },
    {
     "name": "stderr",
     "output_type": "stream",
     "text": [
      "The following generation flags are not valid and may be ignored: ['temperature', 'top_p', 'top_k']. Set `TRANSFORMERS_VERBOSITY=info` for more details.\n"
     ]
    },
    {
     "name": "stdout",
     "output_type": "stream",
     "text": [
      "🔍 Raw model output: Named Entities: (Iranian Crambus espionage group, Attacker), (OilRig, Threat Type), (APT34, Attacker), (PowerShell backdoor, Malware), (Plink, Tool), (Windows firewall rule modification, Technique), (...\n",
      "\n",
      "Processing 3/46: grayling taiwan cyber attacks...\n"
     ]
    },
    {
     "name": "stderr",
     "output_type": "stream",
     "text": [
      "The following generation flags are not valid and may be ignored: ['temperature', 'top_p', 'top_k']. Set `TRANSFORMERS_VERBOSITY=info` for more details.\n"
     ]
    },
    {
     "name": "stdout",
     "output_type": "stream",
     "text": [
      "🔍 Raw model output: Named Entities: (Grayling, Attacker), (custom malware, Malware), (publicly available tools, Tool), (DLL sideloading, Technique), (web shell, File), (Cobalt Strike, Tool), (NetSpy, Tool), (Havoc framew...\n",
      "\n",
      "Processing 4/46: budworm tool update telecoms govt...\n"
     ]
    },
    {
     "name": "stderr",
     "output_type": "stream",
     "text": [
      "The following generation flags are not valid and may be ignored: ['temperature', 'top_p', 'top_k']. Set `TRANSFORMERS_VERBOSITY=info` for more details.\n"
     ]
    },
    {
     "name": "stdout",
     "output_type": "stream",
     "text": [
      "🔍 Raw model output: Named Entities: (Budworm, Attacker), (SysUpdate, Malware), (INISafeWebSSO, Tool), (DLL sideloading, Technique)\n",
      "Relationships: (Budworm, uses, SysUpdate), (Budworm, uses, INISafeWebSSO), (Budworm, empl...\n",
      "\n",
      "Processing 5/46: 3am ransomware lockbit...\n"
     ]
    },
    {
     "name": "stderr",
     "output_type": "stream",
     "text": [
      "The following generation flags are not valid and may be ignored: ['temperature', 'top_p', 'top_k']. Set `TRANSFORMERS_VERBOSITY=info` for more details.\n"
     ]
    },
    {
     "name": "stdout",
     "output_type": "stream",
     "text": [
      "🔍 Raw model output: Named Entities: (ransomware, Threat Type), (LockBit, Malware), (3AM, Malware), (Cobalt Strike, Tool), (Wput, Tool), (FTP server, Domain), (Windows PowerShell, Tool), (whoami, Command), (netstat, Comma...\n",
      "  ✅ Processed 5/46 articles\n",
      "\n",
      "Processing 6/46: critical infrastructure attacks...\n"
     ]
    },
    {
     "name": "stderr",
     "output_type": "stream",
     "text": [
      "The following generation flags are not valid and may be ignored: ['temperature', 'top_p', 'top_k']. Set `TRANSFORMERS_VERBOSITY=info` for more details.\n"
     ]
    },
    {
     "name": "stdout",
     "output_type": "stream",
     "text": [
      "🔍 Raw model output: Named Entities: (Espionage actors, Attacker), (Redfly, Attacker), (ShadowPad, Malware), (national grid, Target), (credentials, Exploit), (computers, Target), (U.S., UK, Australian, Canadian, New Zeala...\n",
      "\n",
      "Processing 7/46: qakbot takedown disruption...\n"
     ]
    },
    {
     "name": "stderr",
     "output_type": "stream",
     "text": [
      "The following generation flags are not valid and may be ignored: ['temperature', 'top_p', 'top_k']. Set `TRANSFORMERS_VERBOSITY=info` for more details.\n"
     ]
    },
    {
     "name": "stdout",
     "output_type": "stream",
     "text": [
      "🔍 Raw model output: Named Entities: (Qakbot, Malware), (Batbug, Attacker), (Emotet, Threat Type), (SMB, Technique), (Active Directory, Vulnerability), (networks, Environment), (email, Method)\n",
      "Relationships: (Qakbot, uses...\n",
      "\n",
      "Processing 8/46: carderbee software supply chain certificate abuse...\n"
     ]
    },
    {
     "name": "stderr",
     "output_type": "stream",
     "text": [
      "The following generation flags are not valid and may be ignored: ['temperature', 'top_p', 'top_k']. Set `TRANSFORMERS_VERBOSITY=info` for more details.\n"
     ]
    },
    {
     "name": "stdout",
     "output_type": "stream",
     "text": [
      "🔍 Raw model output: Named Entities: (APT group, Attacker), (Korplug, Malware), (PlugX, Malware), (Carderbee, Attacker), (Cobra DocGuard, Tool), (Cobra DocGuard Client, Tool), (Esfanet, Tool), (NSFOCUS, Tool), (Budworm, A...\n",
      "\n",
      "Processing 9/46: syssphinx fin8 backdoor...\n"
     ]
    },
    {
     "name": "stderr",
     "output_type": "stream",
     "text": [
      "The following generation flags are not valid and may be ignored: ['temperature', 'top_p', 'top_k']. Set `TRANSFORMERS_VERBOSITY=info` for more details.\n"
     ]
    },
    {
     "name": "stdout",
     "output_type": "stream",
     "text": [
      "🔍 Raw model output: Named Entities: (Symantec's Threat Hunter Team, Attacker), (Syrinx, Malware), (FIN8, Attacker), (Sardonic, Malware), (Noberus, Malware), (living-off-the-land, Technique), (POSS, Technique), (ragnar lo...\n",
      "\n",
      "Processing 10/46: microsoft zeroday exploit...\n"
     ]
    },
    {
     "name": "stderr",
     "output_type": "stream",
     "text": [
      "You seem to be using the pipelines sequentially on GPU. In order to maximize efficiency please use a dataset\n",
      "The following generation flags are not valid and may be ignored: ['temperature', 'top_p', 'top_k']. Set `TRANSFORMERS_VERBOSITY=info` for more details.\n"
     ]
    },
    {
     "name": "stdout",
     "output_type": "stream",
     "text": [
      "🔍 Raw model output: Named Entities: (CVE-2023-36884, Vulnerability), (Microsoft, Tool), (Storm-0978, Attacker), (RomCom, Attacker), (NATO Summit, Event)\n",
      "Relationships: (CVE-2023-36884, contains, Microsoft), (Storm-0978, ...\n",
      "  ✅ Processed 10/46 articles\n",
      "\n",
      "Processing 11/46: flea backdoor microsoft graph apt15...\n"
     ]
    },
    {
     "name": "stderr",
     "output_type": "stream",
     "text": [
      "The following generation flags are not valid and may be ignored: ['temperature', 'top_p', 'top_k']. Set `TRANSFORMERS_VERBOSITY=info` for more details.\n"
     ]
    },
    {
     "name": "stdout",
     "output_type": "stream",
     "text": [
      "🔍 Raw model output: Named Entities: (Flea, Attacker), (backdoor.Graphican, Malware), (BS2005, Malware), (Ketrican, Malware)\n",
      "Relationships: (Flea, uses, backdoor.Graphican), (Flea, uses, BS2005), (Flea, uses, Ketrican)...\n",
      "\n",
      "Processing 12/46: shuckworm russia ukraine military...\n"
     ]
    },
    {
     "name": "stderr",
     "output_type": "stream",
     "text": [
      "The following generation flags are not valid and may be ignored: ['temperature', 'top_p', 'top_k']. Set `TRANSFORMERS_VERBOSITY=info` for more details.\n"
     ]
    },
    {
     "name": "stdout",
     "output_type": "stream",
     "text": [
      "🔍 Raw model output: Named Entities: (Shuckworm, Attacker), (Ukraine, Target), (Gamaredon, aka), (armageddon, aka), (Russia, Country), (FSB, Organization), (armed conflicts, Threat Type), (criminal proceedings, Threat Typ...\n",
      "\n",
      "Processing 13/46: moveit vulnerabilities exploits...\n"
     ]
    },
    {
     "name": "stderr",
     "output_type": "stream",
     "text": [
      "The following generation flags are not valid and may be ignored: ['temperature', 'top_p', 'top_k']. Set `TRANSFORMERS_VERBOSITY=info` for more details.\n"
     ]
    },
    {
     "name": "stdout",
     "output_type": "stream",
     "text": [
      "🔍 Raw model output: Named Entities: (Extortion actors, Attacker), (MOVEit Transfer, Tool), (CVE-2023-34362, Vulnerability), (Progress Software, Company), (Clop ransomware, Threat Actor), (SQL, Technology)\n",
      "Relationships: ...\n",
      "\n",
      "Processing 14/46: buhti ransomware...\n"
     ]
    },
    {
     "name": "stderr",
     "output_type": "stream",
     "text": [
      "The following generation flags are not valid and may be ignored: ['temperature', 'top_p', 'top_k']. Set `TRANSFORMERS_VERBOSITY=info` for more details.\n"
     ]
    },
    {
     "name": "stdout",
     "output_type": "stream",
     "text": [
      "🔍 Raw model output: Named Entities: (Buhti, Threat Type), (LockBit, Malware), (Babuk, Malware), (PaperCut, Vulnerability), (Windows, OS), (Linux, OS), (Blacktail, Attacker), (LockBit Black, Malware), (LockBit, Malware), ...\n",
      "\n",
      "Processing 15/46: lancefly merdoor zxshell custom backdoor...\n"
     ]
    },
    {
     "name": "stderr",
     "output_type": "stream",
     "text": [
      "The following generation flags are not valid and may be ignored: ['temperature', 'top_p', 'top_k']. Set `TRANSFORMERS_VERBOSITY=info` for more details.\n"
     ]
    },
    {
     "name": "stdout",
     "output_type": "stream",
     "text": [
      "🔍 Raw model output: Named Entities: (Lancefly APT, Attacker), (backdoor, Malware), (Merdoor, Malware), (ZXShell rootkit, Tool), (South and Southeast Asia, Region), (government, Sector), (aviation, Sector), (education, Se...\n",
      "  ✅ Processed 15/46 articles\n",
      "\n",
      "Processing 16/46: xtrader 3cx supply chain...\n"
     ]
    },
    {
     "name": "stderr",
     "output_type": "stream",
     "text": [
      "The following generation flags are not valid and may be ignored: ['temperature', 'top_p', 'top_k']. Set `TRANSFORMERS_VERBOSITY=info` for more details.\n"
     ]
    },
    {
     "name": "stdout",
     "output_type": "stream",
     "text": [
      "🔍 Raw model output: Named Entities: (X_Trader, Tool), (Trojanized X_Trader software, Malware), (3CX, Attacker), (Trading Technologies, Tool), (energy futures, Vulnerability), (North Korea, Attacker)\\nRelationships: (X_Tr...\n",
      "\n",
      "Processing 17/46: apt attacks telecoms africa mgbot...\n"
     ]
    },
    {
     "name": "stderr",
     "output_type": "stream",
     "text": [
      "The following generation flags are not valid and may be ignored: ['temperature', 'top_p', 'top_k']. Set `TRANSFORMERS_VERBOSITY=info` for more details.\n"
     ]
    },
    {
     "name": "stdout",
     "output_type": "stream",
     "text": [
      "🔍 Raw model output: Named Entities: (Daggerfly, Attacker), (MgBot, Malware), (PlugX, Tool), (AnyDesk, Tool), (DLL, File), (Exchange, Domain), (Malwarebytes, Tool), (Evasive Panda, Attacker), (China, Country), (Symantec, ...\n",
      "\n",
      "Processing 18/46: play ransomware volume shadow copy...\n"
     ]
    },
    {
     "name": "stderr",
     "output_type": "stream",
     "text": [
      "The following generation flags are not valid and may be ignored: ['temperature', 'top_p', 'top_k']. Set `TRANSFORMERS_VERBOSITY=info` for more details.\n"
     ]
    },
    {
     "name": "stdout",
     "output_type": "stream",
     "text": [
      "🔍 Raw model output: Named Entities: (Play ransomware group, Attacker), (Grixba, Malware), (.NET infostealer, Tool), (Volume Shadow Copy Service, Tool), (Symantec, Organization), (Costura, Tool), (costura.commandline.dll,...\n",
      "\n",
      "Processing 19/46: mantis palestinian attacks...\n"
     ]
    },
    {
     "name": "stderr",
     "output_type": "stream",
     "text": [
      "The following generation flags are not valid and may be ignored: ['temperature', 'top_p', 'top_k']. Set `TRANSFORMERS_VERBOSITY=info` for more details.\n"
     ]
    },
    {
     "name": "stdout",
     "output_type": "stream",
     "text": [
      "🔍 Raw model output: Named Entities: (Mantis cyber-espionage group, Attacker), (Arid Viper, aka), (Desert Falcon, aka), (APT-C-23, Attacker), (Spear-phishing, Technique), (fake social media profile, Technique), (Israel, T...\n",
      "\n",
      "Processing 20/46: 3cx supply chain attack...\n"
     ]
    },
    {
     "name": "stderr",
     "output_type": "stream",
     "text": [
      "The following generation flags are not valid and may be ignored: ['temperature', 'top_p', 'top_k']. Set `TRANSFORMERS_VERBOSITY=info` for more details.\n"
     ]
    },
    {
     "name": "stdout",
     "output_type": "stream",
     "text": [
      "🔍 Raw model output: Named Entities: (Yara rule, Tool), (Trojan, Malware), (3CX's DesktopApp, Tool), (Windows, OS), (MacOS, OS), (SolarWinds, Threat Type), (North Korea, Attacker), (information-stealing malware, Malware),...\n",
      "  ✅ Processed 20/46 articles\n",
      "\n",
      "Processing 21/46: blackfly espionage materials...\n"
     ]
    },
    {
     "name": "stderr",
     "output_type": "stream",
     "text": [
      "The following generation flags are not valid and may be ignored: ['temperature', 'top_p', 'top_k']. Set `TRANSFORMERS_VERBOSITY=info` for more details.\n"
     ]
    },
    {
     "name": "stdout",
     "output_type": "stream",
     "text": [
      "🔍 Raw model output: Named Entities: (Blackfly, Attacker), (PlugX/Fast, Malware), (Winnti/Pasteboy, Malware), (Shadowpad, Malware), (Grayfly, Attacker), (APT41, Attacker), (Apt41.A, Indictment)\n",
      "Relationships: (Blackfly, u...\n",
      "\n",
      "Processing 22/46: clasiopa materials research...\n"
     ]
    },
    {
     "name": "stderr",
     "output_type": "stream",
     "text": [
      "The following generation flags are not valid and may be ignored: ['temperature', 'top_p', 'top_k']. Set `TRANSFORMERS_VERBOSITY=info` for more details.\n"
     ]
    },
    {
     "name": "stdout",
     "output_type": "stream",
     "text": [
      "🔍 Raw model output: Named Entities: (Clasiopa, Attacker), (Backdoor.Atharvan, Malware), (Agile DGS, Tool), (Agile FD, Tool), (HCL Domino, Tool), (IBM Domino, Tool), (mutex, Hash)\n",
      "Relationships: (Clasiopa, uses, Backdoor....\n",
      "\n",
      "Processing 23/46: hydrochasma asia medical shipping intelligence gathering...\n"
     ]
    },
    {
     "name": "stderr",
     "output_type": "stream",
     "text": [
      "The following generation flags are not valid and may be ignored: ['temperature', 'top_p', 'top_k']. Set `TRANSFORMERS_VERBOSITY=info` for more details.\n"
     ]
    },
    {
     "name": "stdout",
     "output_type": "stream",
     "text": [
      "🔍 Raw model output: Named Entities: (Shipping companies, Entity), (medical laboratories, Entity), (intelligence-gathering campaign, Threat Type), (Hydrochasma, Attacker), (living-off-the-land tools, Tool), (Symantec, Too...\n",
      "\n",
      "Processing 24/46: frebniis malware iis...\n"
     ]
    },
    {
     "name": "stderr",
     "output_type": "stream",
     "text": [
      "The following generation flags are not valid and may be ignored: ['temperature', 'top_p', 'top_k']. Set `TRANSFORMERS_VERBOSITY=info` for more details.\n"
     ]
    },
    {
     "name": "stdout",
     "output_type": "stream",
     "text": [
      "🔍 Raw model output: Named Entities: (Symantec, Company), (Broadcom Software, Tool), (Frebniis, Malware), (Backdoor.Frebniis, Malware), (Failed Request Event Buffering, Technique), (Windows System, Tool), (IIS, Tool), (HT...\n",
      "\n",
      "Processing 25/46: nodaria ukraine infostealer...\n"
     ]
    },
    {
     "name": "stderr",
     "output_type": "stream",
     "text": [
      "The following generation flags are not valid and may be ignored: ['temperature', 'top_p', 'top_k']. Set `TRANSFORMERS_VERBOSITY=info` for more details.\n"
     ]
    },
    {
     "name": "stdout",
     "output_type": "stream",
     "text": [
      "🔍 Raw model output: Named Entities: (Nodaria, Attacker), (UAC-0056, Attacker), (Infostealer.Graphiron, Malware), (Downloader.Graphiron, Tool), (Infostealer.Graphiron, Tool), (AES, Technique), (Table 1, Hash), (OfficeTemp...\n",
      "  ✅ Processed 25/46 articles\n",
      "\n",
      "Processing 26/46: bluebottle banks targeted africa...\n"
     ]
    },
    {
     "name": "stderr",
     "output_type": "stream",
     "text": [
      "The following generation flags are not valid and may be ignored: ['temperature', 'top_p', 'top_k']. Set `TRANSFORMERS_VERBOSITY=info` for more details.\n"
     ]
    },
    {
     "name": "stdout",
     "output_type": "stream",
     "text": [
      "🔍 Raw model output: Named Entities: (Bluebottle, Attacker), (living off the land, Technique), (dual-use tools, Tool), (commodity malware, Malware), (operated by, employs), (Symantec, Tool), (Group-IB, Report), (OPERA1ER,...\n",
      "\n",
      "Processing 27/46: espionage asia governments cert authority...\n"
     ]
    },
    {
     "name": "stderr",
     "output_type": "stream",
     "text": [
      "The following generation flags are not valid and may be ignored: ['temperature', 'top_p', 'top_k']. Set `TRANSFORMERS_VERBOSITY=info` for more details.\n"
     ]
    },
    {
     "name": "stdout",
     "output_type": "stream",
     "text": [
      "🔍 Raw model output: Named Entities: (Symantec, Company), (Billbug, Attacker), (Thrip, Attacker), (Lotus Blossom, Attacker), (Hannotog, Malware), (Sagerunex, Malware), (certificate authority, Victim), (government agency, ...\n",
      "\n",
      "Processing 28/46: cranefly new tools technique geppei danfuan...\n"
     ]
    },
    {
     "name": "stderr",
     "output_type": "stream",
     "text": [
      "The following generation flags are not valid and may be ignored: ['temperature', 'top_p', 'top_k']. Set `TRANSFORMERS_VERBOSITY=info` for more details.\n"
     ]
    },
    {
     "name": "stdout",
     "output_type": "stream",
     "text": [
      "🔍 Raw model output: Named Entities: (UNC3524, Attacker), (Trojan.Geppei, Malware), (Trojan.Danfuan, Malware), (Regeorg webshell, Tool), (PyInstaller, Tool), (IIS, Tool), (webpages, File), (apps, File)\n",
      "Relationships: (UNC...\n",
      "\n",
      "Processing 29/46: blackbyte exbyte ransomware...\n"
     ]
    },
    {
     "name": "stderr",
     "output_type": "stream",
     "text": [
      "The following generation flags are not valid and may be ignored: ['temperature', 'top_p', 'top_k']. Set `TRANSFORMERS_VERBOSITY=info` for more details.\n"
     ]
    },
    {
     "name": "stdout",
     "output_type": "stream",
     "text": [
      "🔍 Raw model output: Named Entities: (BlackByte, Threat Type), (Infostealer.Exbyte, Malware), (Exbyte, Tool), (Mega.co.nz, Domain), (IsDebuggerPresent, Technique), (CheckRemoteDebuggerPresent, Technique), (anti-virus, Vul...\n",
      "\n",
      "Processing 30/46: spyder loader cuckoobees hong kong...\n"
     ]
    },
    {
     "name": "stderr",
     "output_type": "stream",
     "text": [
      "The following generation flags are not valid and may be ignored: ['temperature', 'top_p', 'top_k']. Set `TRANSFORMERS_VERBOSITY=info` for more details.\n"
     ]
    },
    {
     "name": "stdout",
     "output_type": "stream",
     "text": [
      "🔍 Raw model output: Named Entities: (Operation CuckooBees, Threat Type), (Spyder Loader, Malware), (Cybereason, Attacker), (SonicWall, Tool), (March 2021, Date), (May 2022, Date), (Hong Kong, Location), (information stor...\n",
      "  ✅ Processed 30/46 articles\n",
      "\n",
      "Processing 31/46: budworm espionage us state...\n"
     ]
    },
    {
     "name": "stderr",
     "output_type": "stream",
     "text": [
      "The following generation flags are not valid and may be ignored: ['temperature', 'top_p', 'top_k']. Set `TRANSFORMERS_VERBOSITY=info` for more details.\n"
     ]
    },
    {
     "name": "stdout",
     "output_type": "stream",
     "text": [
      "🔍 Raw model output: Named Entities: (Budworm, Attacker), (Log4j vulnerabilities, Vulnerability), (Apache Tomcat, Tool), (HyperBro malware family, Malware), (CyberArk Viewfinity, Tool), (vf_host.exe, File), (Telstra, IP),...\n",
      "\n",
      "Processing 32/46: witchetty steganography espionage...\n"
     ]
    },
    {
     "name": "stderr",
     "output_type": "stream",
     "text": [
      "The following generation flags are not valid and may be ignored: ['temperature', 'top_p', 'top_k']. Set `TRANSFORMERS_VERBOSITY=info` for more details.\n"
     ]
    },
    {
     "name": "stdout",
     "output_type": "stream",
     "text": [
      "🔍 Raw model output: Named Entities: (Witchetty, Attacker), (LookingFrog, aka), (Backdoor.Stegmap, Malware), (ProxyShell, Vulnerability), (CVE-2021-34473, Vulnerability), (CVE-2021-34523, Vulnerability), (CVE-2021-31207, ...\n",
      "\n",
      "Processing 33/46: noberus blackcat ransomware ttps...\n"
     ]
    },
    {
     "name": "stderr",
     "output_type": "stream",
     "text": [
      "The following generation flags are not valid and may be ignored: ['temperature', 'top_p', 'top_k']. Set `TRANSFORMERS_VERBOSITY=info` for more details.\n"
     ]
    },
    {
     "name": "stdout",
     "output_type": "stream",
     "text": [
      "🔍 Raw model output: Named Entities: (Noberus, Malware), (BlackCat, Malware), (Exmatter, Tool), (Eamfo, Malware), (Darkside, Malware), (Coreid, Attacker), (FIN7, Attacker), (Carbon Spider, Attacker), (Colonial Pipeline, T...\n",
      "\n",
      "Processing 34/46: webworm espionage rats...\n"
     ]
    },
    {
     "name": "stderr",
     "output_type": "stream",
     "text": [
      "The following generation flags are not valid and may be ignored: ['temperature', 'top_p', 'top_k']. Set `TRANSFORMERS_VERBOSITY=info` for more details.\n"
     ]
    },
    {
     "name": "stdout",
     "output_type": "stream",
     "text": [
      "🔍 Raw model output: Named Entities: (Symantec, Company), (Webworm, Attacker), (Trochilus, Malware), (GitHub, Tool), (Space Pirates, Attacker), (Positive Technologies, Company), (May 2022, Date), (IT service provider, Vic...\n",
      "\n",
      "Processing 35/46: espionage asia governments...\n"
     ]
    },
    {
     "name": "stderr",
     "output_type": "stream",
     "text": [
      "The following generation flags are not valid and may be ignored: ['temperature', 'top_p', 'top_k']. Set `TRANSFORMERS_VERBOSITY=info` for more details.\n"
     ]
    },
    {
     "name": "stdout",
     "output_type": "stream",
     "text": [
      "🔍 Raw model output: Named Entities: (espionage attackers, Attacker), (ShadowPad RAT, Malware), (DLL side-loading, Technique)\n",
      "Relationships: (espionage attackers, uses, ShadowPad RAT), (espionage attackers, employs, DLL s...\n",
      "  ✅ Processed 35/46 articles\n",
      "\n",
      "Processing 36/46: russia ukraine shuckworm...\n"
     ]
    },
    {
     "name": "stderr",
     "output_type": "stream",
     "text": [
      "The following generation flags are not valid and may be ignored: ['temperature', 'top_p', 'top_k']. Set `TRANSFORMERS_VERBOSITY=info` for more details.\n"
     ]
    },
    {
     "name": "stdout",
     "output_type": "stream",
     "text": [
      "🔍 Raw model output: Named Entities: (UPDATE, Event), (17.40 BST, Time), (August 15, 2022, Date), (UPDATE, Event), (17.50 BST, Time), (August 17, 2022, Date), (additional IOCs, Indicator), (ASC, Tool), (H264, Tool), (VCD,...\n",
      "\n",
      "Processing 37/46: lockbit targets servers...\n"
     ]
    },
    {
     "name": "stderr",
     "output_type": "stream",
     "text": [
      "The following generation flags are not valid and may be ignored: ['temperature', 'top_p', 'top_k']. Set `TRANSFORMERS_VERBOSITY=info` for more details.\n"
     ]
    },
    {
     "name": "stdout",
     "output_type": "stream",
     "text": [
      "🔍 Raw model output: Named Entities: (Symantec, Company), (LockBit, Malware), (Syrphid, Attacker), (AnyDesk, Tool), (Windows RDP, Tool), (bug bounty program, Campaign), (Group Policy, Technique), (domain controller, Syste...\n",
      "\n",
      "Processing 38/46: bumblebee loader cybercrime...\n"
     ]
    },
    {
     "name": "stderr",
     "output_type": "stream",
     "text": [
      "The following generation flags are not valid and may be ignored: ['temperature', 'top_p', 'top_k']. Set `TRANSFORMERS_VERBOSITY=info` for more details.\n"
     ]
    },
    {
     "name": "stdout",
     "output_type": "stream",
     "text": [
      "🔍 Raw model output: Named Entities: (Bumblebee, Malware), (Trickbot, Malware), (BazarLoader, Malware), (Conti, Threat Type), (Quantum, Threat Type), (Mountlocker, Threat Type), (Spear-phishing, Technique), (ISO file, Fil...\n",
      "\n",
      "Processing 39/46: follina msdt exploit malware...\n"
     ]
    },
    {
     "name": "stderr",
     "output_type": "stream",
     "text": [
      "The following generation flags are not valid and may be ignored: ['temperature', 'top_p', 'top_k']. Set `TRANSFORMERS_VERBOSITY=info` for more details.\n"
     ]
    },
    {
     "name": "stdout",
     "output_type": "stream",
     "text": [
      "🔍 Raw model output: Named Entities: (Symantec, Company), (Broadcom Software, Company), (Threat actors, Attacker), (Follina, Malware), (CVE-2022-30190, Vulnerability), (ms-msdt, Tool), (RTF, File), (WinWord, Tool), (msdt....\n",
      "\n",
      "Processing 40/46: clipminer bitcoin mining hijacking...\n"
     ]
    },
    {
     "name": "stderr",
     "output_type": "stream",
     "text": [
      "The following generation flags are not valid and may be ignored: ['temperature', 'top_p', 'top_k']. Set `TRANSFORMERS_VERBOSITY=info` for more details.\n"
     ]
    },
    {
     "name": "stdout",
     "output_type": "stream",
     "text": [
      "🔍 Raw model output: Named Entities: (Symantec's Threat Hunter Team, Attacker), (Trojan.Clipminer, Malware), (KryptoCibule, Malware), (Clipminer, Malware), (WinRAR, Tool), (Packed Portable Executable DLL, File), (CPL, Fil...\n",
      "  ✅ Processed 40/46 articles\n",
      "\n",
      "Processing 41/46: ransomware hive conti avoslocker...\n"
     ]
    },
    {
     "name": "stderr",
     "output_type": "stream",
     "text": [
      "The following generation flags are not valid and may be ignored: ['temperature', 'top_p', 'top_k']. Set `TRANSFORMERS_VERBOSITY=info` for more details.\n"
     ]
    },
    {
     "name": "stdout",
     "output_type": "stream",
     "text": [
      "🔍 Raw model output: Named Entities: (ransomware, Threat Type), (Hive, Malware), (Conti, Malware), (Avoslocker, Malware), (Symantec, Company), (Broadcom Software, Company), (ransomware-as-a-service, Business Model), (affi...\n",
      "\n",
      "Processing 42/46: stonefly north korea espionage...\n"
     ]
    },
    {
     "name": "stderr",
     "output_type": "stream",
     "text": [
      "The following generation flags are not valid and may be ignored: ['temperature', 'top_p', 'top_k']. Set `TRANSFORMERS_VERBOSITY=info` for more details.\n"
     ]
    },
    {
     "name": "stdout",
     "output_type": "stream",
     "text": [
      "🔍 Raw model output: Named Entities: (Stonefly, Attacker), (Backdoor.Prioxer, Malware), (Jokra, Threat Type), (DDoS, Technique), (South Korean, Country), (U.S. government, Organization), (financial website, Website), (ban...\n",
      "\n",
      "Processing 43/46: shuckworm intense campaign ukraine...\n"
     ]
    },
    {
     "name": "stderr",
     "output_type": "stream",
     "text": [
      "The following generation flags are not valid and may be ignored: ['temperature', 'top_p', 'top_k']. Set `TRANSFORMERS_VERBOSITY=info` for more details.\n"
     ]
    },
    {
     "name": "stdout",
     "output_type": "stream",
     "text": [
      "🔍 Raw model output: Named Entities: (Shuckworm, Attacker), (Backdoor.Pterodo, Malware), (Visual Basic Script, Tool), (Scheduled Tasks, Tool), (C&C server, Domain), (Symantec's Threat Hunter Team, Tool), (Broadcom Softwar...\n",
      "\n",
      "Processing 44/46: lazarus dream job chemical...\n"
     ]
    },
    {
     "name": "stderr",
     "output_type": "stream",
     "text": [
      "The following generation flags are not valid and may be ignored: ['temperature', 'top_p', 'top_k']. Set `TRANSFORMERS_VERBOSITY=info` for more details.\n"
     ]
    },
    {
     "name": "stdout",
     "output_type": "stream",
     "text": [
      "🔍 Raw model output: Named Entities: (Symantec, Company), (Broadcom Software, Company), (North Korea, Country), (Advanced Persistent Threat, Threat Type), (Lazarus, Attacker), (Operation Dream Job, Campaign), (fake job of...\n",
      "\n",
      "Processing 45/46: cicada apt10 china ngo government attacks...\n"
     ]
    },
    {
     "name": "stderr",
     "output_type": "stream",
     "text": [
      "The following generation flags are not valid and may be ignored: ['temperature', 'top_p', 'top_k']. Set `TRANSFORMERS_VERBOSITY=info` for more details.\n"
     ]
    },
    {
     "name": "stdout",
     "output_type": "stream",
     "text": [
      "🔍 Raw model output: Named Entities: (Cicada, Attacker), (Apt10, Threat Type), (custom loader, Tool), (custom malware, Malware), (mid-2021, Date), (February 2022, Date)\n",
      "Relationships: (Cicada, uses, custom loader), (Cicad...\n",
      "  ✅ Processed 45/46 articles\n",
      "\n",
      "Processing 46/46: spring4shell rce vuln java...\n",
      "🔍 Raw model output: Named Entities: (Spring Core Java framework, Tool), (unauthenticated remote code execution (RCE), Technique), (CVE-2022-22965, CVE), (Symantec products, Tool), (Data Center Security (DCS) Intrusion Pr...\n",
      "💾 Saving to: C:\\Users\\KietVu\\Testplace\\LLM_TKIG\\data\\entity-extraction\\entity_extraction_results_Qwen\\Qwen2.5-1.5B-Instruct_test_2025-08-17_16-40-06_204_254.json\n",
      "\n",
      "💾 SAVED EXTRACTION RESULTS to ../data/entity-extraction/entity_extraction_results_Qwen/Qwen2.5-1.5B-Instruct_test_2025-08-17_16-40-06_204_254.json\n"
     ]
    }
   ],
   "source": [
    "start = 204\n",
    "end = min(len(data), start+offset)\n",
    "output_path = f\"../data/entity-extraction/entity_extraction_results_{os.getenv('DEFAULT_MODEL', 'Qwen/Qwen2.5-1.5B-Instruct')}_test_{today}_{start}_{end}.json\"\n",
    "\n",
    "results = process_articles_for_extraction(data, extraction_model,start=start,offset=46)\n",
    "save_extraction_results(results, output_path)"
   ]
  },
  {
   "cell_type": "code",
   "execution_count": 18,
   "metadata": {
    "ExecuteTime": {
     "end_time": "2025-08-04T11:31:25.581213Z",
     "start_time": "2025-08-04T11:31:25.579627Z"
    }
   },
   "outputs": [],
   "source": [
    "start = 250\n",
    "end = min(len(data), start+offset)\n",
    "output_path = f\"../data/entity-extraction/entity_extraction_results_{os.getenv('DEFAULT_MODEL', 'Qwen/Qwen2.5-1.5B-Instruct')}_test_{today}_{start}_{end}.json\"\n",
    "\n",
    "results = process_articles_for_extraction(data, extraction_model,start=start,offset=offset)\n",
    "save_extraction_results(results, output_path)"
   ]
  },
  {
   "cell_type": "code",
   "execution_count": 19,
   "metadata": {
    "ExecuteTime": {
     "end_time": "2025-08-04T11:31:25.841922Z",
     "start_time": "2025-08-04T11:31:25.840383Z"
    }
   },
   "outputs": [],
   "source": [
    "start = 300\n",
    "end = min(len(data), start+offset)\n",
    "output_path = f\"../data/entity-extraction/entity_extraction_results_{os.getenv('DEFAULT_MODEL', 'Qwen/Qwen2.5-1.5B-Instruct')}_test_{today}_{start}_{end}.json\"\n",
    "\n",
    "results = process_articles_for_extraction(data, extraction_model,start=start,offset=offset)\n",
    "save_extraction_results(results, output_path)"
   ]
  },
  {
   "cell_type": "code",
   "execution_count": 20,
   "metadata": {
    "ExecuteTime": {
     "end_time": "2025-08-04T11:50:21.030783Z",
     "start_time": "2025-08-04T11:31:25.865929Z"
    }
   },
   "outputs": [
    {
     "name": "stderr",
     "output_type": "stream",
     "text": [
      "The following generation flags are not valid and may be ignored: ['temperature', 'top_p', 'top_k']. Set `TRANSFORMERS_VERBOSITY=info` for more details.\n"
     ]
    },
    {
     "name": "stdout",
     "output_type": "stream",
     "text": [
      "🔍 Processing 50 articles for entity extraction...\n",
      "\n",
      "Processing 1/50: symantec latest intelligence refresh...\n"
     ]
    },
    {
     "name": "stderr",
     "output_type": "stream",
     "text": [
      "The following generation flags are not valid and may be ignored: ['temperature', 'top_p', 'top_k']. Set `TRANSFORMERS_VERBOSITY=info` for more details.\n"
     ]
    },
    {
     "name": "stdout",
     "output_type": "stream",
     "text": [
      "🔍 Raw model output: Named Entities: (Symantec, Company), (PDF report, Document), (financial Trojan, Threat Type), (Ramnit, Malware), (September, Month), (August, Month), (IoT device, Device)\n",
      "Relationships: (Symantec, pub...\n",
      "\n",
      "Processing 2/50: formjacking attacks retailers...\n"
     ]
    },
    {
     "name": "stderr",
     "output_type": "stream",
     "text": [
      "The following generation flags are not valid and may be ignored: ['temperature', 'top_p', 'top_k']. Set `TRANSFORMERS_VERBOSITY=info` for more details.\n"
     ]
    },
    {
     "name": "stdout",
     "output_type": "stream",
     "text": [
      "🔍 Raw model output: Named Entities: (Magecart, Attacker), (Ticketmaster, Domain), (British Airways, Domain), (Feedify, Domain), (Newegg, Domain), (formjacking, Threat Type), (Malicious JavaScript, Tool), (payment card de...\n",
      "\n",
      "Processing 3/50: microsoft patch tuesday september 2018...\n"
     ]
    },
    {
     "name": "stderr",
     "output_type": "stream",
     "text": [
      "The following generation flags are not valid and may be ignored: ['temperature', 'top_p', 'top_k']. Set `TRANSFORMERS_VERBOSITY=info` for more details.\n"
     ]
    },
    {
     "name": "stdout",
     "output_type": "stream",
     "text": [
      "🔍 Raw model output: Named Entities: (Microsoft, Tool), (Chakra Scripting Engine, Tool), (Memory Corruption Vulnerability, Vulnerability), (Internet Explorer, Tool), (PDF Remote Code Execution Vulnerability, Vulnerability...\n",
      "\n",
      "Processing 4/50: wmic download malware...\n"
     ]
    },
    {
     "name": "stderr",
     "output_type": "stream",
     "text": [
      "The following generation flags are not valid and may be ignored: ['temperature', 'top_p', 'top_k']. Set `TRANSFORMERS_VERBOSITY=info` for more details.\n"
     ]
    },
    {
     "name": "stdout",
     "output_type": "stream",
     "text": [
      "🔍 Raw model output: Named Entities: (Windows Management Instrumentation Command-line, Tool), (eXtensible Stylesheet Language, Tool), (WMIC, Tool), (XSL, Tool), (Malware, Malware), (XML, File), (WMI, Technique), (eXtensib...\n",
      "\n",
      "Processing 5/50: mirai cross platform infection...\n"
     ]
    },
    {
     "name": "stderr",
     "output_type": "stream",
     "text": [
      "The following generation flags are not valid and may be ignored: ['temperature', 'top_p', 'top_k']. Set `TRANSFORMERS_VERBOSITY=info` for more details.\n"
     ]
    },
    {
     "name": "stdout",
     "output_type": "stream",
     "text": [
      "🔍 Raw model output: Named Entities: (Mirai botnet, Threat Type), (Linux.Mirai, Malware), (Mirai, Attacker), (shell script, Tool), (vulnerable device, Target), (executables, File), (remote server, Host), (July, Date)\n",
      "Rela...\n",
      "  ✅ Processed 5/50 articles\n",
      "\n",
      "Processing 6/50: jrat new anti parsing techniques...\n"
     ]
    },
    {
     "name": "stderr",
     "output_type": "stream",
     "text": [
      "The following generation flags are not valid and may be ignored: ['temperature', 'top_p', 'top_k']. Set `TRANSFORMERS_VERBOSITY=info` for more details.\n"
     ]
    },
    {
     "name": "stdout",
     "output_type": "stream",
     "text": [
      "🔍 Raw model output: Named Entities: (jRAT, Malware), (Trojan.Maljava, Malware), (MZ, Tool), (JAR file, File), (spam email, Threat Type), (social engineering, Technique)\n",
      "Relationships: (jRAT, uses, Trojan.Maljava), (jRAT,...\n",
      "\n",
      "Processing 7/50: microsoft patch tuesday august 2018...\n"
     ]
    },
    {
     "name": "stderr",
     "output_type": "stream",
     "text": [
      "The following generation flags are not valid and may be ignored: ['temperature', 'top_p', 'top_k']. Set `TRANSFORMERS_VERBOSITY=info` for more details.\n"
     ]
    },
    {
     "name": "stdout",
     "output_type": "stream",
     "text": [
      "🔍 Raw model output: Named Entities: (Microsoft, Tool), (Browsers, Tool), (Chakra, Tool), (Scripting Engine, Tool), (Memory Corruption Vulnerability, Vulnerability), (Information Disclosure Vulnerability, Vulnerability), ...\n",
      "\n",
      "Processing 8/50: hacked mikrotik router...\n"
     ]
    },
    {
     "name": "stderr",
     "output_type": "stream",
     "text": [
      "The following generation flags are not valid and may be ignored: ['temperature', 'top_p', 'top_k']. Set `TRANSFORMERS_VERBOSITY=info` for more details.\n"
     ]
    },
    {
     "name": "stdout",
     "output_type": "stream",
     "text": [
      "🔍 Raw model output: Named Entities: (Cryptocurrency coinminers, Malware), (ransomware, Threat Type), (Symantec, Attacker), (MikroTik routers, Tool), (Brazil, Country), (August 2018, Time Period), (Figure 2, Image), (Figu...\n",
      "\n",
      "Processing 9/50: leafminer espionage middle east...\n"
     ]
    },
    {
     "name": "stderr",
     "output_type": "stream",
     "text": [
      "The following generation flags are not valid and may be ignored: ['temperature', 'top_p', 'top_k']. Set `TRANSFORMERS_VERBOSITY=info` for more details.\n"
     ]
    },
    {
     "name": "stdout",
     "output_type": "stream",
     "text": [
      "🔍 Raw model output: Named Entities: (Leafminer, Attacker), (Malware, Malware), (e-qht.az, Domain), (publicly accessible, Linked To)\n",
      "Relationships: (Leafminer, uses, Malware), (Leafminer, downloads, e-qht.az), (e-qht.az, ...\n",
      "\n",
      "Processing 10/50: evolution emotet trojan distributor...\n"
     ]
    },
    {
     "name": "stderr",
     "output_type": "stream",
     "text": [
      "The following generation flags are not valid and may be ignored: ['temperature', 'top_p', 'top_k']. Set `TRANSFORMERS_VERBOSITY=info` for more details.\n"
     ]
    },
    {
     "name": "stdout",
     "output_type": "stream",
     "text": [
      "🔍 Raw model output: Named Entities: (Mealybug, Attacker), (Trojan.Emotet, Malware), (WannaCry, Threat Type), (Petya/NotPetya, Threat Type), (Conficker, Threat Type), (W32.Downadup, Threat Type)\n",
      "Relationships: (Mealybug, ...\n",
      "  ✅ Processed 10/50 articles\n",
      "\n",
      "Processing 11/50: powershell threats grow further and operate plain sight...\n"
     ]
    },
    {
     "name": "stderr",
     "output_type": "stream",
     "text": [
      "The following generation flags are not valid and may be ignored: ['temperature', 'top_p', 'top_k']. Set `TRANSFORMERS_VERBOSITY=info` for more details.\n"
     ]
    },
    {
     "name": "stdout",
     "output_type": "stream",
     "text": [
      "🔍 Raw model output: Named Entities: (Windows PowerShell, Tool), (WMI, Tool), (PsExec, Tool), (PowerSploit, Tool), (Empire, Tool), (living off the land, Technique), (fileless, Technique), (PowerShell, Tool), (PowerShell s...\n",
      "\n",
      "Processing 12/50: microsoft patch tuesday july 2018...\n"
     ]
    },
    {
     "name": "stderr",
     "output_type": "stream",
     "text": [
      "The following generation flags are not valid and may be ignored: ['temperature', 'top_p', 'top_k']. Set `TRANSFORMERS_VERBOSITY=info` for more details.\n"
     ]
    },
    {
     "name": "stdout",
     "output_type": "stream",
     "text": [
      "🔍 Raw model output: Named Entities: (Cumulative Security Update for Microsoft Browsers Scripting Engine Memory Corruption Vulnerability(CVE-2018-8242), Technique), (Scripting Engine Memory Corruption Vulnerability(CVE-20...\n",
      "\n",
      "Processing 13/50: thrip hits satellite telecoms defense targets...\n"
     ]
    },
    {
     "name": "stderr",
     "output_type": "stream",
     "text": [
      "The following generation flags are not valid and may be ignored: ['temperature', 'top_p', 'top_k']. Set `TRANSFORMERS_VERBOSITY=info` for more details.\n"
     ]
    },
    {
     "name": "stdout",
     "output_type": "stream",
     "text": [
      "🔍 Raw model output: Named Entities: (Living off the land, Technique), (operating system features, Tool), (legitimate network administration tools, Tool), (victim's network, Target), (Sunny skies, Weather), (moderate temp...\n",
      "\n",
      "Processing 14/50: microsoft patch tuesday june 2018...\n"
     ]
    },
    {
     "name": "stderr",
     "output_type": "stream",
     "text": [
      "The following generation flags are not valid and may be ignored: ['temperature', 'top_p', 'top_k']. Set `TRANSFORMERS_VERBOSITY=info` for more details.\n"
     ]
    },
    {
     "name": "stdout",
     "output_type": "stream",
     "text": [
      "🔍 Raw model output: Named Entities: (Cumulative Security Update for Microsoft Browsers, Tool), (Internet Explorer Memory Corruption Vulnerability, Vulnerability), (Chakra Scripting Engine Memory Corruption Vulnerability,...\n",
      "\n",
      "Processing 15/50: industry and law enforcement cooperation bears fruit fight a...\n"
     ]
    },
    {
     "name": "stderr",
     "output_type": "stream",
     "text": [
      "The following generation flags are not valid and may be ignored: ['temperature', 'top_p', 'top_k']. Set `TRANSFORMERS_VERBOSITY=info` for more details.\n"
     ]
    },
    {
     "name": "stdout",
     "output_type": "stream",
     "text": [
      "🔍 Raw model output: Named Entities: (Business email attacks, Threat Type), (419 scams, Threat Type), (FBI, Organization), (Symantec, Company), (Operation Wire-Wire, Name), (BEC attackers, Attacker), (private sector compa...\n",
      "  ✅ Processed 15/50 articles\n",
      "\n",
      "Processing 16/50: vpnfilter iot malware...\n"
     ]
    },
    {
     "name": "stderr",
     "output_type": "stream",
     "text": [
      "The following generation flags are not valid and may be ignored: ['temperature', 'top_p', 'top_k']. Set `TRANSFORMERS_VERBOSITY=info` for more details.\n"
     ]
    },
    {
     "name": "stdout",
     "output_type": "stream",
     "text": [
      "🔍 Raw model output: Named Entities: (Cisco Talos, Attacker), (Stage 3 module, Malware), (ssler, Malware), (VPNFilter, Malware), (Modbus SCADA, Vulnerability), (SCADA industrial control systems, Vulnerability), (Ukraine, ...\n",
      "\n",
      "Processing 17/50: scan4you masterminds guilty...\n"
     ]
    },
    {
     "name": "stderr",
     "output_type": "stream",
     "text": [
      "The following generation flags are not valid and may be ignored: ['temperature', 'top_p', 'top_k']. Set `TRANSFORMERS_VERBOSITY=info` for more details.\n"
     ]
    },
    {
     "name": "stdout",
     "output_type": "stream",
     "text": [
      "🔍 Raw model output: Named Entities: (Scan4You, Threat Type), (Jurijs Martisevs, Attacker), (Ruslans Bondars, Attacker), (Malware, Malware), (credit and debit card numbers, Vulnerable Data), (FBI, Organization), (undergro...\n",
      "\n",
      "Processing 18/50: latest intelligence march 2018...\n"
     ]
    },
    {
     "name": "stderr",
     "output_type": "stream",
     "text": [
      "The following generation flags are not valid and may be ignored: ['temperature', 'top_p', 'top_k']. Set `TRANSFORMERS_VERBOSITY=info` for more details.\n"
     ]
    },
    {
     "name": "stdout",
     "output_type": "stream",
     "text": [
      "🔍 Raw model output: Named Entities: (Inception Framework, Attacker), (email malware, Threat Type), (Trojan.Coinminer, Malware), (browser-based cryptocurrency mining, Technique), (Agriculture, Sector), (1 in 1,394, Vulner...\n",
      "\n",
      "Processing 19/50: coin mining without browser...\n"
     ]
    },
    {
     "name": "stderr",
     "output_type": "stream",
     "text": [
      "The following generation flags are not valid and may be ignored: ['temperature', 'top_p', 'top_k']. Set `TRANSFORMERS_VERBOSITY=info` for more details.\n"
     ]
    },
    {
     "name": "stdout",
     "output_type": "stream",
     "text": [
      "🔍 Raw model output: Named Entities: (browser-based cryptocurrency mining, Threat Type), (JavaScript, Tool), (WebAssembly (WASM), Tool), (Portable Executable file (.NET), Tool), (Coinhive, Tool), (Form1, File), (script ta...\n",
      "\n",
      "Processing 20/50: istr 23 cyber security threat landscape...\n"
     ]
    },
    {
     "name": "stderr",
     "output_type": "stream",
     "text": [
      "The following generation flags are not valid and may be ignored: ['temperature', 'top_p', 'top_k']. Set `TRANSFORMERS_VERBOSITY=info` for more details.\n"
     ]
    },
    {
     "name": "stdout",
     "output_type": "stream",
     "text": [
      "🔍 Raw model output: Named Entities: (Coin mining, Threat Type), (ransomware, Threat Type), (targeted attacks, Threat Type), (mobile security, Threat Type), (software supply chain, Threat Type)\\nRelationships: (Coin minin...\n",
      "  ✅ Processed 20/50 articles\n",
      "\n",
      "Processing 21/50: fakebank intercepts calls banks...\n"
     ]
    },
    {
     "name": "stderr",
     "output_type": "stream",
     "text": [
      "The following generation flags are not valid and may be ignored: ['temperature', 'top_p', 'top_k']. Set `TRANSFORMERS_VERBOSITY=info` for more details.\n"
     ]
    },
    {
     "name": "stdout",
     "output_type": "stream",
     "text": [
      "🔍 Raw model output: Named Entities: (Fakebank, Threat Type), (Android, Platform), (command and control (C&C), Technique), (phone number, Vulnerability), (fake UI, File), (system alert window, Permission), (scammer, Attac...\n",
      "\n",
      "Processing 22/50: inception framework hiding behind proxies...\n"
     ]
    },
    {
     "name": "stderr",
     "output_type": "stream",
     "text": [
      "The following generation flags are not valid and may be ignored: ['temperature', 'top_p', 'top_k']. Set `TRANSFORMERS_VERBOSITY=info` for more details.\n"
     ]
    },
    {
     "name": "stdout",
     "output_type": "stream",
     "text": [
      "🔍 Raw model output: Named Entities: (Inception Framework, Attacker), (stealthy new tools, Technique), (cloud, Tool), (Internet of Things (IoT), Tool), (advanced, Technique), (automated framework, Tool), (spear-phishing e...\n",
      "\n",
      "Processing 23/50: microsoft patch tuesday march 2018...\n"
     ]
    },
    {
     "name": "stderr",
     "output_type": "stream",
     "text": [
      "The following generation flags are not valid and may be ignored: ['temperature', 'top_p', 'top_k']. Set `TRANSFORMERS_VERBOSITY=info` for more details.\n"
     ]
    },
    {
     "name": "stdout",
     "output_type": "stream",
     "text": [
      "🔍 Raw model output: No related entities and relations\n",
      "\n",
      "Explanation: The input text does not contain any named entities or relationships that match the provided entity types and relationship types. It appears to be a list...\n",
      "\n",
      "Processing 24/50: latest intelligence february 2018...\n"
     ]
    },
    {
     "name": "stderr",
     "output_type": "stream",
     "text": [
      "The following generation flags are not valid and may be ignored: ['temperature', 'top_p', 'top_k']. Set `TRANSFORMERS_VERBOSITY=info` for more details.\n"
     ]
    },
    {
     "name": "stdout",
     "output_type": "stream",
     "text": [
      "🔍 Raw model output: Named Entities: (Chafer attack group, Attacker), (email malware, Threat Type), (Necurs botnet, Tool), (Facebook account, Target), (Finance, Industry), (Mining, Industry), (Ne, Domain)\n",
      "Relationships: (...\n",
      "\n",
      "Processing 25/50: chafer latest attacks reveal heightened ambitions...\n"
     ]
    },
    {
     "name": "stderr",
     "output_type": "stream",
     "text": [
      "The following generation flags are not valid and may be ignored: ['temperature', 'top_p', 'top_k']. Set `TRANSFORMERS_VERBOSITY=info` for more details.\n"
     ]
    },
    {
     "name": "stdout",
     "output_type": "stream",
     "text": [
      "🔍 Raw model output: Named Entities: (Chafer, Attacker), (Iran, Country), (targeted attack group, Entity Type), (seven new tools, Technique), (nine new target organizations, Target), (Israel, Country), (Jordan, Country), ...\n",
      "  ✅ Processed 25/50 articles\n",
      "\n",
      "Processing 26/50: android malware harvests facebook details...\n"
     ]
    },
    {
     "name": "stderr",
     "output_type": "stream",
     "text": [
      "The following generation flags are not valid and may be ignored: ['temperature', 'top_p', 'top_k']. Set `TRANSFORMERS_VERBOSITY=info` for more details.\n"
     ]
    },
    {
     "name": "stdout",
     "output_type": "stream",
     "text": [
      "🔍 Raw model output: Named Entities: (Facebook, Website), (Android.Fakeapp, Malware), (third-party markets, Tool), (English speakers, Target), (C&C server, IP)\n",
      "Relationships: (Facebook, contains, Android.Fakeapp), (Facebo...\n",
      "\n",
      "Processing 27/50: microsoft patch tuesday february 2018...\n"
     ]
    },
    {
     "name": "stderr",
     "output_type": "stream",
     "text": [
      "The following generation flags are not valid and may be ignored: ['temperature', 'top_p', 'top_k']. Set `TRANSFORMERS_VERBOSITY=info` for more details.\n"
     ]
    },
    {
     "name": "stdout",
     "output_type": "stream",
     "text": [
      "🔍 Raw model output: Named Entities: (Microsoft, Tool), (Browsers, Vulnerability), (Edge, Tool), (CVE-2018-0763, Vulnerability), (Critical, MS Rating), (Scripting Engine, Tool), (Memory Corruption, Vulnerability), (CVE-20...\n",
      "\n",
      "Processing 28/50: meltdown spectre cpu bugs...\n"
     ]
    },
    {
     "name": "stderr",
     "output_type": "stream",
     "text": [
      "The following generation flags are not valid and may be ignored: ['temperature', 'top_p', 'top_k']. Set `TRANSFORMERS_VERBOSITY=info` for more details.\n"
     ]
    },
    {
     "name": "stdout",
     "output_type": "stream",
     "text": [
      "🔍 Raw model output: Named Entities: (Meltdown, Vulnerability), (Spectre, Vulnerability), (kernel, File), (JavaScript, Tool), (operating system, Tool), (Symantec, Company), (personal computer, Device), (virtual machine, D...\n",
      "\n",
      "Processing 29/50: android malware uber credentials deep links...\n"
     ]
    },
    {
     "name": "stderr",
     "output_type": "stream",
     "text": [
      "The following generation flags are not valid and may be ignored: ['temperature', 'top_p', 'top_k']. Set `TRANSFORMERS_VERBOSITY=info` for more details.\n"
     ]
    },
    {
     "name": "stdout",
     "output_type": "stream",
     "text": [
      "🔍 Raw model output: Named Entities: (Android.Fakeappmalware, Malware), (Uber, Threat Type), (deep link URI, Technique), (current location, Vulnerability), (Ride Request activity, Technique), (victim, Target)\n",
      "Relationship...\n",
      "\n",
      "Processing 30/50: browser mining cryptocurrency...\n"
     ]
    },
    {
     "name": "stderr",
     "output_type": "stream",
     "text": [
      "The following generation flags are not valid and may be ignored: ['temperature', 'top_p', 'top_k']. Set `TRANSFORMERS_VERBOSITY=info` for more details.\n"
     ]
    },
    {
     "name": "stdout",
     "output_type": "stream",
     "text": [
      "🔍 Raw model output: Named Entities: (Browser-based cryptocurrency mining, Threat Type), (Coinhive, Malware), (JavaScript, Tool), (BitcoinPlus.com, Domain), (Monero, Vulnerable Software), (ASIC mining, Technique)\n",
      "Relation...\n",
      "  ✅ Processed 30/50 articles\n",
      "\n",
      "Processing 31/50: triton malware ics...\n"
     ]
    },
    {
     "name": "stderr",
     "output_type": "stream",
     "text": [
      "The following generation flags are not valid and may be ignored: ['temperature', 'top_p', 'top_k']. Set `TRANSFORMERS_VERBOSITY=info` for more details.\n"
     ]
    },
    {
     "name": "stdout",
     "output_type": "stream",
     "text": [
      "🔍 Raw model output: Named Entities: (Symantec, Company), (Trojan, Malware), (Triton, Malware), (Trojan.Trisis, Malware), (Safety Instrumented Systems, Vulnerability), (Windows, Tool), (Industrial Control System, Threat T...\n",
      "\n",
      "Processing 32/50: microsoft patch tuesday december...\n"
     ]
    },
    {
     "name": "stderr",
     "output_type": "stream",
     "text": [
      "The following generation flags are not valid and may be ignored: ['temperature', 'top_p', 'top_k']. Set `TRANSFORMERS_VERBOSITY=info` for more details.\n"
     ]
    },
    {
     "name": "stdout",
     "output_type": "stream",
     "text": [
      "🔍 Raw model output: Named Entities: (Cumulative Security Update for Microsoft Browsers, Tool), (CVE-2017-11888, Vulnerability), (Critical, Severity), (Scripting Engine Memory Corruption Vulnerability, Malware), (CVE-2017...\n",
      "\n",
      "Processing 33/50: mailsploit email exploit spoofing...\n"
     ]
    },
    {
     "name": "stderr",
     "output_type": "stream",
     "text": [
      "The following generation flags are not valid and may be ignored: ['temperature', 'top_p', 'top_k']. Set `TRANSFORMERS_VERBOSITY=info` for more details.\n"
     ]
    },
    {
     "name": "stdout",
     "output_type": "stream",
     "text": [
      "🔍 Raw model output: Named Entities: (Mailsploit, Malware), (RFC-1342, Vulnerability), (Yahoo Mail for iOS and Android, Tool), (Sabri Haddouche, Attacker), (Domain-based Message Authentication, Reporting and Conformance (...\n",
      "\n",
      "Processing 34/50: surge adwind distribution emails...\n"
     ]
    },
    {
     "name": "stderr",
     "output_type": "stream",
     "text": [
      "The following generation flags are not valid and may be ignored: ['temperature', 'top_p', 'top_k']. Set `TRANSFORMERS_VERBOSITY=info` for more details.\n"
     ]
    },
    {
     "name": "stdout",
     "output_type": "stream",
     "text": [
      "🔍 Raw model output: Named Entities: (Adwind, Malware), (JAR, File), (ZIP, File), (Symantec, Tool), (August 2017, Month), (October 2017, Month), (November 2017, Month), (Holiday/Shopping Season, Event)\n",
      "Relationships: (Adw...\n",
      "\n",
      "Processing 35/50: latest intel november 2017...\n"
     ]
    },
    {
     "name": "stderr",
     "output_type": "stream",
     "text": [
      "The following generation flags are not valid and may be ignored: ['temperature', 'top_p', 'top_k']. Set `TRANSFORMERS_VERBOSITY=info` for more details.\n"
     ]
    },
    {
     "name": "stdout",
     "output_type": "stream",
     "text": [
      "🔍 Raw model output: Named Entities: (spam, Threat Type), (Black Friday, Event), (Cyber Monday, Event), (Necurs, Malware), (SMS, Tool), (legitimate company, Victim), (personal information, Target), (Malware, Malware), (SM...\n",
      "  ✅ Processed 35/50 articles\n",
      "\n",
      "Processing 36/50: doublehidden android malware google play...\n"
     ]
    },
    {
     "name": "stderr",
     "output_type": "stream",
     "text": [
      "The following generation flags are not valid and may be ignored: ['temperature', 'top_p', 'top_k']. Set `TRANSFORMERS_VERBOSITY=info` for more details.\n"
     ]
    },
    {
     "name": "stdout",
     "output_type": "stream",
     "text": [
      "🔍 Raw model output: Named Entities: (Android.Trojan, Malware), (Google Play Store, Tool), (photograph by fiery, File), (i.r.r developer, Attacker), (com.aseee.apptec.treeapp, File), (Device Administrator, Vulnerability),...\n",
      "\n",
      "Processing 37/50: android malware porn apps chinese...\n"
     ]
    },
    {
     "name": "stderr",
     "output_type": "stream",
     "text": [
      "The following generation flags are not valid and may be ignored: ['temperature', 'top_p', 'top_k']. Set `TRANSFORMERS_VERBOSITY=info` for more details.\n"
     ]
    },
    {
     "name": "stdout",
     "output_type": "stream",
     "text": [
      "🔍 Raw model output: Named Entities: (Android.Rootnik.B, Malware), (Android.Reputation.1, Malware), (app-centric websites, Technique), (forums, Technique), (torrent sites, Technique), (social messaging networks, Technique...\n",
      "\n",
      "Processing 38/50: ms patch tuesday november 2017...\n"
     ]
    },
    {
     "name": "stderr",
     "output_type": "stream",
     "text": [
      "The following generation flags are not valid and may be ignored: ['temperature', 'top_p', 'top_k']. Set `TRANSFORMERS_VERBOSITY=info` for more details.\n"
     ]
    },
    {
     "name": "stdout",
     "output_type": "stream",
     "text": [
      "🔍 Raw model output: Named Entities: (Cumulative Security Update for Microsoft Browsers Scripting Engine Memory Corruption Vulnerability(CVE-2017-11858), Tool), (Scripting Engine Memory Corruption Vulnerability(CVE-2017-1...\n",
      "\n",
      "Processing 39/50: tech support scams aes...\n"
     ]
    },
    {
     "name": "stderr",
     "output_type": "stream",
     "text": [
      "The following generation flags are not valid and may be ignored: ['temperature', 'top_p', 'top_k']. Set `TRANSFORMERS_VERBOSITY=info` for more details.\n"
     ]
    },
    {
     "name": "stdout",
     "output_type": "stream",
     "text": [
      "🔍 Raw model output: Named Entities: (tech support scam, Threat Type), (code obfuscation, Technique), (string-based detection engines, Tool), (JavaScript, Language), (SMB, Protocol), (ransomware, Malware), (Microsoft, Org...\n",
      "\n",
      "Processing 40/50: sowbug cyber espionage south america asia...\n"
     ]
    },
    {
     "name": "stderr",
     "output_type": "stream",
     "text": [
      "The following generation flags are not valid and may be ignored: ['temperature', 'top_p', 'top_k']. Set `TRANSFORMERS_VERBOSITY=info` for more details.\n"
     ]
    },
    {
     "name": "stdout",
     "output_type": "stream",
     "text": [
      "🔍 Raw model output: Named Entities: (Sowbug, Attacker), (Felismus, Malware), (South America, Region), (Southeast Asia, Region), (Argentina, Country), (Brazil, Country), (Ecuador, Country), (Peru, Country), (Brunei, Count...\n",
      "  ✅ Processed 40/50 articles\n",
      "\n",
      "Processing 41/50: ransomeware risks 2017...\n"
     ]
    },
    {
     "name": "stderr",
     "output_type": "stream",
     "text": [
      "The following generation flags are not valid and may be ignored: ['temperature', 'top_p', 'top_k']. Set `TRANSFORMERS_VERBOSITY=info` for more details.\n"
     ]
    },
    {
     "name": "stdout",
     "output_type": "stream",
     "text": [
      "🔍 Raw model output: Named Entities: (ransomware, Threat Type), (WannaCry, Malware), (Petya, Malware), (EternalBlue, Vulnerability), (Windows SMB protocol, Tool), (SMB protocol, Tool)\n",
      "Relationships: (ransomware, contains,...\n",
      "\n",
      "Processing 42/50: petya ransomware wiper...\n"
     ]
    },
    {
     "name": "stderr",
     "output_type": "stream",
     "text": [
      "The following generation flags are not valid and may be ignored: ['temperature', 'top_p', 'top_k']. Set `TRANSFORMERS_VERBOSITY=info` for more details.\n"
     ]
    },
    {
     "name": "stdout",
     "output_type": "stream",
     "text": [
      "🔍 Raw model output: Named Entities: (Petya, Malware), (EternalBlue, Technique), (MEDoc, Tool), (Norton products, Tool), (Symantec Endpoint Protection, Tool)\n",
      "Relationships: (Petya, uses, EternalBlue), (Petya, spreadsAcros...\n",
      "\n",
      "Processing 43/50: wannacry ransomware attack...\n"
     ]
    },
    {
     "name": "stderr",
     "output_type": "stream",
     "text": [
      "The following generation flags are not valid and may be ignored: ['temperature', 'top_p', 'top_k']. Set `TRANSFORMERS_VERBOSITY=info` for more details.\n"
     ]
    },
    {
     "name": "stdout",
     "output_type": "stream",
     "text": [
      "🔍 Raw model output: Named Entities: (Symantec, Company), (WannaCry, Malware), (Lazarus group, Attacker), (Eternal Blue, Technique), (Shadow Brokers, Threat Actor), (Equation cyber espionage group, Threat Actor), (SEP, To...\n",
      "\n",
      "Processing 44/50: dragonfly energy sector cyber attacks...\n"
     ]
    },
    {
     "name": "stderr",
     "output_type": "stream",
     "text": [
      "The following generation flags are not valid and may be ignored: ['temperature', 'top_p', 'top_k']. Set `TRANSFORMERS_VERBOSITY=info` for more details.\n"
     ]
    },
    {
     "name": "stdout",
     "output_type": "stream",
     "text": [
      "🔍 Raw model output: Named Entities: (Cyber attack, Threat Type), (Dragonfly, Attacker), (Ukraine's power system, Target), (operational systems, Target), (Nuclear facility, Target), (Symantec, Tool), (energy sector, Targe...\n",
      "\n",
      "Processing 45/50: bachosens cyber crime investigation...\n"
     ]
    },
    {
     "name": "stderr",
     "output_type": "stream",
     "text": [
      "The following generation flags are not valid and may be ignored: ['temperature', 'top_p', 'top_k']. Set `TRANSFORMERS_VERBOSITY=info` for more details.\n"
     ]
    },
    {
     "name": "stdout",
     "output_type": "stream",
     "text": [
      "🔍 Raw model output: Named Entities: (Trojan.Bachosens, Malware), (Igor, Attacker), (international airline, Target), (Chinese auto-tech company, Target), (car diagnostics software, Vulnerability), (underground forums and ...\n",
      "  ✅ Processed 45/50 articles\n",
      "\n",
      "Processing 46/50: longhorn cyberespionage vault7...\n"
     ]
    },
    {
     "name": "stderr",
     "output_type": "stream",
     "text": [
      "The following generation flags are not valid and may be ignored: ['temperature', 'top_p', 'top_k']. Set `TRANSFORMERS_VERBOSITY=info` for more details.\n"
     ]
    },
    {
     "name": "stdout",
     "output_type": "stream",
     "text": [
      "🔍 Raw model output: Named Entities: (Longhorn, Attacker), (Vault 7, Document), (back door Trojans, Tool), (zero-day vulnerabilities, Vulnerability), (United States, Country)\n",
      "Relationships: (Longhorn, uses, back door Troj...\n",
      "\n",
      "Processing 47/50: bayrob suspects extradited...\n"
     ]
    },
    {
     "name": "stderr",
     "output_type": "stream",
     "text": [
      "The following generation flags are not valid and may be ignored: ['temperature', 'top_p', 'top_k']. Set `TRANSFORMERS_VERBOSITY=info` for more details.\n"
     ]
    },
    {
     "name": "stdout",
     "output_type": "stream",
     "text": [
      "🔍 Raw model output: Named Entities: (Bayrob, Threat Type), (Bogdan Nicolescu, Attacker), (Danet Tiberiu, Attacker), (Radu Miclaus, Attacker), (Masterfraud, Attacker), (Amy, Attacker), (Minolta, Attacker), (Amightysa, Att...\n",
      "\n",
      "Processing 48/50: shamoon back destructive...\n"
     ]
    },
    {
     "name": "stderr",
     "output_type": "stream",
     "text": [
      "The following generation flags are not valid and may be ignored: ['temperature', 'top_p', 'top_k']. Set `TRANSFORMERS_VERBOSITY=info` for more details.\n"
     ]
    },
    {
     "name": "stdout",
     "output_type": "stream",
     "text": [
      "🔍 Raw model output: Named Entities: (Shamoon, Malware), (W32.Disttrack, Malware), (W32.Disttrack.B, Malware), (Alan Kurdi, Victim), (Saudi Arabian, Location), (working week, Time Period), (Thursday, Day)\n",
      "Relationships: (...\n",
      "\n",
      "Processing 49/50: gatak healthcare...\n"
     ]
    },
    {
     "name": "stderr",
     "output_type": "stream",
     "text": [
      "The following generation flags are not valid and may be ignored: ['temperature', 'top_p', 'top_k']. Set `TRANSFORMERS_VERBOSITY=info` for more details.\n"
     ]
    },
    {
     "name": "stdout",
     "output_type": "stream",
     "text": [
      "🔍 Raw model output: Named Entities: (Gatak Trojan, Malware), (healthcare sector, Target), (insurance sector, Target), (enterprise computers, Device), (product key generator, File), (software, Software), (website, Website...\n",
      "\n",
      "Processing 50/50: odinaff trojan financial attacks...\n",
      "🔍 Raw model output: Named Entities: (Trojan.Odinaff, Malware), (Odinaff, Malware), (Carbanak, Threat Type), (Backdoor.Batel, Malware), (Carbanak, Threat Type)\n",
      "Relationships: (Trojan.Odinaff, uses, Backdoor.Batel), (Carba...\n",
      "  ✅ Processed 50/50 articles\n",
      "💾 Saving to: /Users/huynguyen/Documents/UIT/2nd/NLP/LLM-TKIG/data/entity-extraction/entity_extraction_results_Qwen/Qwen2.5-1.5B-Instruct_test_2025-08-04_18-31-25_350_400.json\n",
      "\n",
      "💾 SAVED EXTRACTION RESULTS to ../data/entity-extraction/entity_extraction_results_Qwen/Qwen2.5-1.5B-Instruct_test_2025-08-04_18-31-25_350_400.json\n"
     ]
    }
   ],
   "source": [
    "start = 350\n",
    "end = min(len(data), start+offset)\n",
    "output_path = f\"../data/entity-extraction/entity_extraction_results_{os.getenv('DEFAULT_MODEL', 'Qwen/Qwen2.5-1.5B-Instruct')}_test_{today}_{start}_{end}.json\"\n",
    "\n",
    "results = process_articles_for_extraction(data, extraction_model,start=start,offset=offset)\n",
    "save_extraction_results(results, output_path)"
   ]
  },
  {
   "cell_type": "code",
   "execution_count": 21,
   "metadata": {
    "ExecuteTime": {
     "end_time": "2025-08-04T11:59:29.666969Z",
     "start_time": "2025-08-04T11:50:21.334660Z"
    }
   },
   "outputs": [
    {
     "name": "stderr",
     "output_type": "stream",
     "text": [
      "The following generation flags are not valid and may be ignored: ['temperature', 'top_p', 'top_k']. Set `TRANSFORMERS_VERBOSITY=info` for more details.\n"
     ]
    },
    {
     "name": "stdout",
     "output_type": "stream",
     "text": [
      "🔍 Processing 27 articles for entity extraction...\n",
      "\n",
      "Processing 1/27: buckeye cyberespionage hong kong...\n"
     ]
    },
    {
     "name": "stderr",
     "output_type": "stream",
     "text": [
      "The following generation flags are not valid and may be ignored: ['temperature', 'top_p', 'top_k']. Set `TRANSFORMERS_VERBOSITY=info` for more details.\n"
     ]
    },
    {
     "name": "stdout",
     "output_type": "stream",
     "text": [
      "🔍 Raw model output: Named Entities: (Buckeye, Attacker), (APT3, Attacker), (Gothic Panda, Attacker), (UPS Team, Attacker), (TG-0110, Attacker), (Hong Kong, Location), (US, Location), (backdoor.pirpi, Malware), (spear-phi...\n",
      "\n",
      "Processing 2/27: equation cyberespionage group breached...\n"
     ]
    },
    {
     "name": "stderr",
     "output_type": "stream",
     "text": [
      "The following generation flags are not valid and may be ignored: ['temperature', 'top_p', 'top_k']. Set `TRANSFORMERS_VERBOSITY=info` for more details.\n"
     ]
    },
    {
     "name": "stdout",
     "output_type": "stream",
     "text": [
      "🔍 Raw model output: Named Entities: (Shadow Brokers, Attacker), (Equation, Threat Type), (Malware, Tool), (router, Device), (firewall appliance, Device), (exploit, Technique)\n",
      "Relationships: (Shadow Brokers, uses, Equatio...\n",
      "\n",
      "Processing 3/27: strider cyberespionage sauron...\n"
     ]
    },
    {
     "name": "stderr",
     "output_type": "stream",
     "text": [
      "The following generation flags are not valid and may be ignored: ['temperature', 'top_p', 'top_k']. Set `TRANSFORMERS_VERBOSITY=info` for more details.\n"
     ]
    },
    {
     "name": "stdout",
     "output_type": "stream",
     "text": [
      "🔍 Raw model output: Named Entities: (Strider, Attacker), (Remsec, Malware), (Sauron, Threat Type), (Regin, Threat Type), (Flamer, Threat Type), (Lua, Technique)\n",
      "Relationships: (Strider, uses, Remsec), (Strider, linkedTo,...\n",
      "\n",
      "Processing 4/27: swift malware financial attacks...\n"
     ]
    },
    {
     "name": "stderr",
     "output_type": "stream",
     "text": [
      "The following generation flags are not valid and may be ignored: ['temperature', 'top_p', 'top_k']. Set `TRANSFORMERS_VERBOSITY=info` for more details.\n"
     ]
    },
    {
     "name": "stdout",
     "output_type": "stream",
     "text": [
      "🔍 Raw model output: Named Entities: (bank in the Philippines, Target), (Bangladesh central bank, Target), (Tien Phong Bank, Target), (Vietnam's Tien Phong Bank, Target), (Banco del Austro, Target), (Ecuador's Banco del A...\n",
      "\n",
      "Processing 5/27: tick cyberespionage japan...\n"
     ]
    },
    {
     "name": "stderr",
     "output_type": "stream",
     "text": [
      "The following generation flags are not valid and may be ignored: ['temperature', 'top_p', 'top_k']. Set `TRANSFORMERS_VERBOSITY=info` for more details.\n"
     ]
    },
    {
     "name": "stdout",
     "output_type": "stream",
     "text": [
      "🔍 Raw model output: Named Entities: (Tick, Attacker), (Backdoor.Daserf, Malware), (Gofarer, Tool), (Flash(.swf), Vulnerability), (Japanese, Location), (technology, Sector), (aquatic engineering, Sector), (broadcasting, S...\n",
      "  ✅ Processed 5/27 articles\n",
      "\n",
      "Processing 6/27: taiwan cyberespionage backdoor trojan...\n"
     ]
    },
    {
     "name": "stderr",
     "output_type": "stream",
     "text": [
      "The following generation flags are not valid and may be ignored: ['temperature', 'top_p', 'top_k']. Set `TRANSFORMERS_VERBOSITY=info` for more details.\n"
     ]
    },
    {
     "name": "stdout",
     "output_type": "stream",
     "text": [
      "🔍 Raw model output: Named Entities: (Backdoor.Dripion, Malware), (Budminer, Attacker), (Trojan.Taidoor, Malware), (file hashes, Hash), (Taiwan, Location), (Brazil, Location), (United States, Location), (command and contr...\n",
      "\n",
      "Processing 7/27: operation blockbuster lazarus...\n"
     ]
    },
    {
     "name": "stderr",
     "output_type": "stream",
     "text": [
      "The following generation flags are not valid and may be ignored: ['temperature', 'top_p', 'top_k']. Set `TRANSFORMERS_VERBOSITY=info` for more details.\n"
     ]
    },
    {
     "name": "stdout",
     "output_type": "stream",
     "text": [
      "🔍 Raw model output: Named Entities: (Operation Blockbuster, Initiative), (Lazarus, Attacker), (Novetta, Company), (Symantec, Company), (u, Technique)\n",
      "Relationships: (Operation Blockbuster, launchedBy, Novetta), (Operatio...\n",
      "\n",
      "Processing 8/27: dridex financial trojan spam...\n"
     ]
    },
    {
     "name": "stderr",
     "output_type": "stream",
     "text": [
      "The following generation flags are not valid and may be ignored: ['temperature', 'top_p', 'top_k']. Set `TRANSFORMERS_VERBOSITY=info` for more details.\n"
     ]
    },
    {
     "name": "stdout",
     "output_type": "stream",
     "text": [
      "🔍 Raw model output: Named Entities: (Dridex, Malware), (Symantec, Company), (W32.Cridex, Malware), (English, Language), (financial, Threat Type), (banking, Target), (Symantec, Company), (whitepaper, Document), (Symantec,...\n",
      "\n",
      "Processing 9/27: dyre bank fraud group takedown...\n"
     ]
    },
    {
     "name": "stderr",
     "output_type": "stream",
     "text": [
      "The following generation flags are not valid and may be ignored: ['temperature', 'top_p', 'top_k']. Set `TRANSFORMERS_VERBOSITY=info` for more details.\n"
     ]
    },
    {
     "name": "stdout",
     "output_type": "stream",
     "text": [
      "🔍 Raw model output: Named Entities: (Dyre, Malware), (Upatre, Malware), (Downloader.Upatre, Tool), (email spam campaigns, Technique), (November, Date), (November 18, Date), (Downloader.Upatre, usedBy, Dyre), (Updater.Upa...\n",
      "\n",
      "Processing 10/27: destructive disakil malware ukraine...\n"
     ]
    },
    {
     "name": "stderr",
     "output_type": "stream",
     "text": [
      "The following generation flags are not valid and may be ignored: ['temperature', 'top_p', 'top_k']. Set `TRANSFORMERS_VERBOSITY=info` for more details.\n"
     ]
    },
    {
     "name": "stdout",
     "output_type": "stream",
     "text": [
      "🔍 Raw model output: Named Entities: (Disakil, Malware), (BlackEnergy, Malware), (Sandworm, Attacker), (Apress, Organization), (SBU, Organization), (Ukraine, Location), (energy sector, Threat Type)\n",
      "Relationships: (Disakil...\n",
      "  ✅ Processed 10/27 articles\n",
      "\n",
      "Processing 11/27: dridex takedown...\n"
     ]
    },
    {
     "name": "stderr",
     "output_type": "stream",
     "text": [
      "The following generation flags are not valid and may be ignored: ['temperature', 'top_p', 'top_k']. Set `TRANSFORMERS_VERBOSITY=info` for more details.\n"
     ]
    },
    {
     "name": "stdout",
     "output_type": "stream",
     "text": [
      "🔍 Raw model output: Named Entities: (Dridex, Threat Type), (W32.Cridex, Malware), (Bugat, Malware), (financial threat, Threat Type), (malicious macros, Technique), (Microsoft Office, Tool), (Symantec, Company), (State of...\n",
      "\n",
      "Processing 12/27: regin mysteries cyberespionage...\n"
     ]
    },
    {
     "name": "stderr",
     "output_type": "stream",
     "text": [
      "The following generation flags are not valid and may be ignored: ['temperature', 'top_p', 'top_k']. Set `TRANSFORMERS_VERBOSITY=info` for more details.\n"
     ]
    },
    {
     "name": "stdout",
     "output_type": "stream",
     "text": [
      "🔍 Raw model output: Named Entities: (Regin, Malware), (Symantec, Attacker), (technical whitepaper, Document), (command-and-control (C&C) infrastructure, Infrastructure)\n",
      "Relationships: (Regin, uses, technical whitepaper),...\n",
      "\n",
      "Processing 13/27: black vine cyberespionage aerospace healthcare...\n"
     ]
    },
    {
     "name": "stderr",
     "output_type": "stream",
     "text": [
      "The following generation flags are not valid and may be ignored: ['temperature', 'top_p', 'top_k']. Set `TRANSFORMERS_VERBOSITY=info` for more details.\n"
     ]
    },
    {
     "name": "stdout",
     "output_type": "stream",
     "text": [
      "🔍 Raw model output: Named Entities: (Anthem, Threat Type), (Black Vine, Attacker), (zero-day vulnerability, Vulnerability), (watering-hole attack, Technique), (custom malware, Malware), (legitimate website, Domain), (rem...\n",
      "\n",
      "Processing 14/27: forkmeiamfamous seaduke duke...\n"
     ]
    },
    {
     "name": "stderr",
     "output_type": "stream",
     "text": [
      "The following generation flags are not valid and may be ignored: ['temperature', 'top_p', 'top_k']. Set `TRANSFORMERS_VERBOSITY=info` for more details.\n"
     ]
    },
    {
     "name": "stdout",
     "output_type": "stream",
     "text": [
      "🔍 Raw model output: Named Entities: (Seaduke, Malware), (Cozyduke, Malware), (Cyberespionage group, Attacker), (United States, Country), (Europe, Continent)\n",
      "Relationships: (Seaduke, uses, Cozyduke), (Cyberespionage group...\n",
      "\n",
      "Processing 15/27: butterfly corporate attacks...\n"
     ]
    },
    {
     "name": "stderr",
     "output_type": "stream",
     "text": [
      "The following generation flags are not valid and may be ignored: ['temperature', 'top_p', 'top_k']. Set `TRANSFORMERS_VERBOSITY=info` for more details.\n"
     ]
    },
    {
     "name": "stdout",
     "output_type": "stream",
     "text": [
      "🔍 Raw model output: Named Entities: (Butterfly, Attacker), (Windows, OS), (Apple, OS), (zero-day vulnerability, Vulnerability), (Twitter, Domain), (Facebook, Domain), (Apple, Company), (Microsoft, Company)\n",
      "Relationships:...\n",
      "  ✅ Processed 15/27 articles\n",
      "\n",
      "Processing 16/27: dyre financial trojan...\n"
     ]
    },
    {
     "name": "stderr",
     "output_type": "stream",
     "text": [
      "The following generation flags are not valid and may be ignored: ['temperature', 'top_p', 'top_k']. Set `TRANSFORMERS_VERBOSITY=info` for more details.\n"
     ]
    },
    {
     "name": "stdout",
     "output_type": "stream",
     "text": [
      "🔍 Raw model output: Named Entities: (Dyre, Malware), (Symantec, Tool), (Infostealer.Dyre, Hash), (spam emails, Technique), (Malicious website, URL)\n",
      "Relationships: (Dyre, uses, Infostealer.Dyre), (Dyre, spreadsUsing, spam...\n",
      "\n",
      "Processing 17/27: duqu 20 cyberespionage...\n"
     ]
    },
    {
     "name": "stderr",
     "output_type": "stream",
     "text": [
      "The following generation flags are not valid and may be ignored: ['temperature', 'top_p', 'top_k']. Set `TRANSFORMERS_VERBOSITY=info` for more details.\n"
     ]
    },
    {
     "name": "stdout",
     "output_type": "stream",
     "text": [
      "🔍 Raw model output: Named Entities: (Duqu 2.0, Malware), (Kaspersky Lab, Attacker), (Stuxnet, Malware), (Iranian nuclear development program, Target), (European telecoms operator, Target), (North African telecoms operato...\n",
      "\n",
      "Processing 18/27: equation cyberespionage group...\n"
     ]
    },
    {
     "name": "stderr",
     "output_type": "stream",
     "text": [
      "The following generation flags are not valid and may be ignored: ['temperature', 'top_p', 'top_k']. Set `TRANSFORMERS_VERBOSITY=info` for more details.\n"
     ]
    },
    {
     "name": "stdout",
     "output_type": "stream",
     "text": [
      "🔍 Raw model output: Named Entities: (Equation, Attacker), (Malware, Malware), (Wipbot, Malware), (Trojan Turla, Malware), (Infostealer.Micstus, Malware), (Trojan.Tripfant, Malware), (Grayphish, Malware), (GrayFish, Malwa...\n",
      "\n",
      "Processing 19/27: carbanak cybercrime gang...\n"
     ]
    },
    {
     "name": "stderr",
     "output_type": "stream",
     "text": [
      "The following generation flags are not valid and may be ignored: ['temperature', 'top_p', 'top_k']. Set `TRANSFORMERS_VERBOSITY=info` for more details.\n"
     ]
    },
    {
     "name": "stdout",
     "output_type": "stream",
     "text": [
      "🔍 Raw model output: Named Entities: (Carbanak, Threat Type), (Trojan.Carberp.B, Malware), (Trojan.Carberp, Malware), (Silicon, Attacker), (Anunak, Attacker), (ATM, Object), (money mule, Object)\n",
      "Relationships: (Carbanak, ...\n",
      "\n",
      "Processing 20/27: destover destructive malware south korea...\n"
     ]
    },
    {
     "name": "stderr",
     "output_type": "stream",
     "text": [
      "The following generation flags are not valid and may be ignored: ['temperature', 'top_p', 'top_k']. Set `TRANSFORMERS_VERBOSITY=info` for more details.\n"
     ]
    },
    {
     "name": "stdout",
     "output_type": "stream",
     "text": [
      "🔍 Raw model output: Named Entities: (Backdoor.Destover, Malware), (FBI, Attacker), (Trojan.Volgmer, Malware), (Volgmer, Malware), (Jokra, Malware), (Shamoon, Malware), (commercially available drivers, Tool), (Destover, M...\n",
      "  ✅ Processed 20/27 articles\n",
      "\n",
      "Processing 21/27: regin espionage surveillance...\n"
     ]
    },
    {
     "name": "stderr",
     "output_type": "stream",
     "text": [
      "The following generation flags are not valid and may be ignored: ['temperature', 'top_p', 'top_k']. Set `TRANSFORMERS_VERBOSITY=info` for more details.\n"
     ]
    },
    {
     "name": "stdout",
     "output_type": "stream",
     "text": [
      "🔍 Raw model output: Named Entities: (Regin, Malware), (Backdoor.Regin, Malware)\n",
      "Relationships: (Regin, uses, Backdoor.Regin) ```...\n",
      "\n",
      "Processing 22/27: turla espionage diplomats...\n"
     ]
    },
    {
     "name": "stderr",
     "output_type": "stream",
     "text": [
      "The following generation flags are not valid and may be ignored: ['temperature', 'top_p', 'top_k']. Set `TRANSFORMERS_VERBOSITY=info` for more details.\n"
     ]
    },
    {
     "name": "stdout",
     "output_type": "stream",
     "text": [
      "🔍 Raw model output: Named Entities: (Wipbot, Malware), (Turla, Malware), (Spear phishing, Technique), (Watering hole, Technique), (IP address, IP), (Legitimate website, Domain), (Compromised website, Domain), (Malware, F...\n",
      "\n",
      "Processing 23/27: dragonfly energy companies sabotage...\n"
     ]
    },
    {
     "name": "stderr",
     "output_type": "stream",
     "text": [
      "The following generation flags are not valid and may be ignored: ['temperature', 'top_p', 'top_k']. Set `TRANSFORMERS_VERBOSITY=info` for more details.\n"
     ]
    },
    {
     "name": "stdout",
     "output_type": "stream",
     "text": [
      "🔍 Raw model output: Named Entities: (Dragonfly, Attacker), (Stuxnet, Malware), (remote access type Trojan, Malware), (ICS equipment providers, Target), (software, File), (ICS equipment, File), (ICS computers, Target), (S...\n",
      "\n",
      "Processing 24/27: hidden lynx professional hackers hire...\n"
     ]
    },
    {
     "name": "stderr",
     "output_type": "stream",
     "text": [
      "The following generation flags are not valid and may be ignored: ['temperature', 'top_p', 'top_k']. Set `TRANSFORMERS_VERBOSITY=info` for more details.\n"
     ]
    },
    {
     "name": "stdout",
     "output_type": "stream",
     "text": [
      "🔍 Raw model output: Named Entities: (Hidden Lynx, Attacker), (Advanced Persistent Threats, Threat Type), (Watering hole, Technique), (zero-day vulnerabilities, Vulnerability), (supply chain, Tool), (intelligent hunter, A...\n",
      "\n",
      "Processing 25/27: darkseoul cyberattacks south korea...\n"
     ]
    },
    {
     "name": "stderr",
     "output_type": "stream",
     "text": [
      "The following generation flags are not valid and may be ignored: ['temperature', 'top_p', 'top_k']. Set `TRANSFORMERS_VERBOSITY=info` for more details.\n"
     ]
    },
    {
     "name": "stdout",
     "output_type": "stream",
     "text": [
      "🔍 Raw model output: Named Entities: (DarkSeoul gang, Attacker), (DDoS, Technique), (Trojan.Castov, Malware), (Jokra attacks, Threat Type), (United States Independence Day, Event), (South Korean independence day, Event), ...\n",
      "  ✅ Processed 25/27 articles\n",
      "\n",
      "Processing 26/27: duqu next stuxnet...\n"
     ]
    },
    {
     "name": "stderr",
     "output_type": "stream",
     "text": [
      "The following generation flags are not valid and may be ignored: ['temperature', 'top_p', 'top_k']. Set `TRANSFORMERS_VERBOSITY=info` for more details.\n"
     ]
    },
    {
     "name": "stdout",
     "output_type": "stream",
     "text": [
      "🔍 Raw model output: Named Entities: (Stuxnet, Malware), (Duqu, Malware), (Industrial Control System, Vulnerability), (remote access trojan, Tool), (telemetry, Data)\n",
      "Relationships: (Stuxnet, contains, Duqu), (Duqu, uses, ...\n",
      "\n",
      "Processing 27/27: stuxnet dossier espionage...\n",
      "🔍 Raw model output: Named Entities: (Stuxnet, Malware), (VirusBlokada, Attacker), (unpatched vulnerability, Vulnerability), (removable drive, Device), (industrial control systems, Target)\n",
      "Relationships: (Stuxnet, uses, u...\n",
      "💾 Saving to: /Users/huynguyen/Documents/UIT/2nd/NLP/LLM-TKIG/data/entity-extraction/entity_extraction_results_Qwen/Qwen2.5-1.5B-Instruct_test_2025-08-04_18-31-25_400_427.json\n",
      "\n",
      "💾 SAVED EXTRACTION RESULTS to ../data/entity-extraction/entity_extraction_results_Qwen/Qwen2.5-1.5B-Instruct_test_2025-08-04_18-31-25_400_427.json\n"
     ]
    }
   ],
   "source": [
    "start = 400\n",
    "end = min(len(data), start+offset)\n",
    "output_path = f\"../data/entity-extraction/entity_extraction_results_{os.getenv('DEFAULT_MODEL', 'Qwen/Qwen2.5-1.5B-Instruct')}_test_{today}_{start}_{end}.json\"\n",
    "\n",
    "results = process_articles_for_extraction(data, extraction_model,start=start,offset=offset)\n",
    "save_extraction_results(results, output_path)"
   ]
  },
  {
   "cell_type": "code",
   "execution_count": 21,
   "metadata": {},
   "outputs": [],
   "source": [
    "from typing import List, Dict, Any\n",
    "\n",
    "def load_json_file(file_path: str) -> List[Dict[str, Any]]:\n",
    "    try:\n",
    "        with open(file_path, 'r', encoding='utf-8') as f:\n",
    "            data = json.load(f)\n",
    "        \n",
    "        if not isinstance(data, list):\n",
    "            return []\n",
    "        return data\n",
    "        \n",
    "    except Exception as e:\n",
    "        return []"
   ]
  },
  {
   "cell_type": "code",
   "execution_count": 22,
   "metadata": {},
   "outputs": [],
   "source": [
    "def get_unique_records(records: List[Dict[str, Any]]) -> List[Dict[str, Any]]:\n",
    "    seen = set()\n",
    "    unique_records = []\n",
    "    duplicates_count = 0\n",
    "    \n",
    "    for record in records:\n",
    "        # Create a unique identifier based on title and link\n",
    "        if isinstance(record, dict) and 'title' in record and 'link' in record:\n",
    "            identifier = (record['title'], record['link'])\n",
    "        else:\n",
    "            # If record doesn't have expected structure, use the entire record as identifier\n",
    "            identifier = str(record)\n",
    "        \n",
    "        if identifier not in seen:\n",
    "            seen.add(identifier)\n",
    "            unique_records.append(record)\n",
    "        else:\n",
    "            duplicates_count += 1\n",
    "    \n",
    "    return unique_records"
   ]
  },
  {
   "cell_type": "code",
   "execution_count": 23,
   "metadata": {},
   "outputs": [],
   "source": [
    "import glob\n",
    "import os\n",
    "import json\n",
    "\n",
    "def merge_entity_extraction_files(input_dir: str, output_file: str) -> None:\n",
    "    \"\"\"\n",
    "    Merge all entity extraction result files into a single file.\n",
    "    \"\"\"\n",
    "    # Get all JSON files in the input directory\n",
    "    json_files = glob.glob(os.path.join(input_dir, \"*.json\"))\n",
    "    \n",
    "    if not json_files:\n",
    "        print(f\"❌ No JSON files found in {input_dir}\")\n",
    "        return\n",
    "    \n",
    "    print(f\"📁 Found {len(json_files)} JSON files to merge\")\n",
    "    \n",
    "    # Load all records from all files\n",
    "    all_records = []\n",
    "    total_files_processed = 0\n",
    "    \n",
    "    for file_path in sorted(json_files):\n",
    "        file_name = os.path.basename(file_path)\n",
    "        print(f\"📄 Processing {file_name}...\")\n",
    "        \n",
    "        records = load_json_file(file_path)\n",
    "        if records:\n",
    "            all_records.extend(records)\n",
    "            total_files_processed += 1\n",
    "    \n",
    "    if not all_records:\n",
    "        print(\"❌ No records found in any files\")\n",
    "        return\n",
    "    \n",
    "    print(f\"📊 Total records loaded: {len(all_records)}\")\n",
    "    print(f\"�� Files successfully processed: {total_files_processed}\")\n",
    "    \n",
    "    # Remove duplicates\n",
    "    unique_records = get_unique_records(all_records)\n",
    "    \n",
    "    # Create output directory if it doesn't exist\n",
    "    output_dir = os.path.dirname(output_file)\n",
    "    if output_dir and not os.path.exists(output_dir):\n",
    "        os.makedirs(output_dir)\n",
    "        print(f\"📁 Created output directory: {output_dir}\")\n",
    "    \n",
    "    # Save merged data\n",
    "    try:\n",
    "        with open(output_file, 'w', encoding='utf-8') as f:\n",
    "            json.dump(unique_records, f, indent=2, ensure_ascii=False)\n",
    "        \n",
    "        print(f\"💾 Successfully merged data to {output_file}\")\n",
    "        print(f\"�� Final record count: {len(unique_records)}\")\n",
    "        \n",
    "        # Print summary statistics\n",
    "        print(\"\\n\" + \"=\"*60)\n",
    "        print(\"MERGE SUMMARY\")\n",
    "        print(\"=\"*60)\n",
    "        print(f\"Input files processed: {total_files_processed}\")\n",
    "        print(f\"Total records loaded: {len(all_records)}\")\n",
    "        print(f\"Duplicate records removed: {len(all_records) - len(unique_records)}\")\n",
    "        print(f\"Final unique records: {len(unique_records)}\")\n",
    "        print(f\"Output file: {output_file}\")\n",
    "        print(\"=\"*60)\n",
    "        \n",
    "    except Exception as e:\n",
    "        print(f\"❌ Error saving merged file: {e}\")\n",
    "        raise"
   ]
  },
  {
   "cell_type": "code",
   "execution_count": 24,
   "metadata": {},
   "outputs": [],
   "source": [
    "def convert_to_instruction_format(records: list) -> list:\n",
    "    \"\"\"\n",
    "    Convert records to instruction format.\n",
    "    \"\"\"\n",
    "    instruction_records = []\n",
    "    processed_count = 0\n",
    "    skipped_count = 0\n",
    "    \n",
    "    for record in records:\n",
    "        try:\n",
    "            # Check if record has required fields\n",
    "            if not isinstance(record, dict):\n",
    "                skipped_count += 1\n",
    "                continue\n",
    "                \n",
    "            if 'content' not in record or 'extraction' not in record:\n",
    "                skipped_count += 1\n",
    "                continue\n",
    "                \n",
    "            extraction = record['extraction']\n",
    "            if not isinstance(extraction, dict) or 'raw_output' not in extraction:\n",
    "                skipped_count += 1\n",
    "                continue\n",
    "            \n",
    "            # Create instruction format record\n",
    "            instruction_record = {\n",
    "                \"instruction\": record['content'],\n",
    "                \"input\": None,\n",
    "                \"output\": extraction['raw_output']\n",
    "            }\n",
    "            \n",
    "            instruction_records.append(instruction_record)\n",
    "            processed_count += 1\n",
    "            \n",
    "        except Exception as e:\n",
    "            print(f\"⚠️  Error processing record: {e}\")\n",
    "            skipped_count += 1\n",
    "            continue\n",
    "    \n",
    "    print(f\"✅ Successfully processed {processed_count} records\")\n",
    "    if skipped_count > 0:\n",
    "        print(f\"⚠️  Skipped {skipped_count} records due to missing fields\")\n",
    "    \n",
    "    return instruction_records\n",
    "\n",
    "def create_entity_extraction_instructions(input_file: str, output_file: str) -> None:\n",
    "    \"\"\"\n",
    "    Create entity extraction instruction file from merged entity extraction results.\n",
    "    \"\"\"\n",
    "    print(f\"🚀 Starting conversion process...\")\n",
    "    print(f\"�� Input file: {input_file}\")\n",
    "    print(f\"📤 Output file: {output_file}\")\n",
    "    \n",
    "    try:\n",
    "        # Load merged data\n",
    "        records = load_json_file(input_file)\n",
    "        \n",
    "        # Convert to instruction format\n",
    "        instructions = convert_to_instruction_format(records)\n",
    "        \n",
    "        if not instructions:\n",
    "            print(\"❌ No valid instructions created\")\n",
    "            return\n",
    "        \n",
    "        # Save instruction file\n",
    "        with open(output_file, 'w', encoding='utf-8') as f:\n",
    "            json.dump(instructions, f, indent=2, ensure_ascii=False)\n",
    "        \n",
    "        print(f\"�� Successfully saved {len(instructions)} instructions to {output_file}\")\n",
    "        \n",
    "        # Print summary\n",
    "        print(\"\\n\" + \"=\"*60)\n",
    "        print(\"CONVERSION SUMMARY\")\n",
    "        print(\"=\"*60)\n",
    "        print(f\"Input records: {len(records)}\")\n",
    "        print(f\"Valid instructions created: {len(instructions)}\")\n",
    "        print(f\"Output file: {output_file}\")\n",
    "        print(\"=\"*60)\n",
    "        \n",
    "        print(\"✅ Conversion process completed successfully!\")\n",
    "        \n",
    "    except Exception as e:\n",
    "        print(f\"❌ Conversion process failed: {e}\")\n",
    "        raise"
   ]
  },
  {
   "cell_type": "code",
   "execution_count": 26,
   "metadata": {},
   "outputs": [
    {
     "name": "stdout",
     "output_type": "stream",
     "text": [
      "🚀 Starting complete entity extraction pipeline...\n",
      "\n",
      "📁 Step 1: Merging entity extraction files...\n",
      "📁 Found 9 JSON files to merge\n",
      "📄 Processing Qwen2.5-1.5B-Instruct_test_2025-08-04_09-45-09_250_300.json...\n",
      "📄 Processing Qwen2.5-1.5B-Instruct_test_2025-08-04_09-45-09_300_350.json...\n",
      "📄 Processing Qwen2.5-1.5B-Instruct_test_2025-08-04_18-31-25_350_400.json...\n",
      "📄 Processing Qwen2.5-1.5B-Instruct_test_2025-08-04_18-31-25_400_427.json...\n",
      "📄 Processing Qwen2.5-1.5B-Instruct_test_2025-08-17_13-24-10_0_50.json...\n",
      "📄 Processing Qwen2.5-1.5B-Instruct_test_2025-08-17_13-24-10_102_152.json...\n",
      "📄 Processing Qwen2.5-1.5B-Instruct_test_2025-08-17_13-24-10_51_101.json...\n",
      "📄 Processing Qwen2.5-1.5B-Instruct_test_2025-08-17_15-52-40_153_203.json...\n",
      "📄 Processing Qwen2.5-1.5B-Instruct_test_2025-08-17_16-40-06_204_254.json...\n",
      "📊 Total records loaded: 423\n",
      "�� Files successfully processed: 9\n",
      "💾 Successfully merged data to ../data/entity-extraction/Qwen2.5-1.5B-Instruct-entity-extraction.json\n",
      "�� Final record count: 423\n",
      "\n",
      "============================================================\n",
      "MERGE SUMMARY\n",
      "============================================================\n",
      "Input files processed: 9\n",
      "Total records loaded: 423\n",
      "Duplicate records removed: 0\n",
      "Final unique records: 423\n",
      "Output file: ../data/entity-extraction/Qwen2.5-1.5B-Instruct-entity-extraction.json\n",
      "============================================================\n",
      "\n",
      "📝 Step 2: Creating entity extraction instructions...\n",
      "🚀 Starting conversion process...\n",
      "�� Input file: ../data/entity-extraction/Qwen2.5-1.5B-Instruct-entity-extraction.json\n",
      "📤 Output file: ../data/entity-extraction/entity_extraction_instruction.json\n",
      "✅ Successfully processed 423 records\n",
      "�� Successfully saved 423 instructions to ../data/entity-extraction/entity_extraction_instruction.json\n",
      "\n",
      "============================================================\n",
      "CONVERSION SUMMARY\n",
      "============================================================\n",
      "Input records: 423\n",
      "Valid instructions created: 423\n",
      "Output file: ../data/entity-extraction/entity_extraction_instruction.json\n",
      "============================================================\n",
      "✅ Conversion process completed successfully!\n",
      "\n",
      "🎉 Complete pipeline finished successfully!\n"
     ]
    }
   ],
   "source": [
    "def run_complete_pipeline():\n",
    "    \"\"\"\n",
    "    Run the complete pipeline: merge files and create instructions\n",
    "    \"\"\"\n",
    "    print(\"🚀 Starting complete entity extraction pipeline...\")\n",
    "    \n",
    "    # Step 1: Merge files\n",
    "    input_dir = \"../data/entity-extraction/entity_extraction_results_Qwen\"\n",
    "    merged_file = \"../data/entity-extraction/Qwen2.5-1.5B-Instruct-entity-extraction.json\"\n",
    "    \n",
    "    print(\"\\n📁 Step 1: Merging entity extraction files...\")\n",
    "    merge_entity_extraction_files(input_dir, merged_file)\n",
    "    \n",
    "    # Step 2: Create instructions\n",
    "    instruction_file = \"../data/entity-extraction/entity_extraction_instruction.json\"\n",
    "    \n",
    "    print(\"\\n📝 Step 2: Creating entity extraction instructions...\")\n",
    "    create_entity_extraction_instructions(merged_file, instruction_file)\n",
    "    \n",
    "    print(\"\\n🎉 Complete pipeline finished successfully!\")\n",
    "\n",
    "# Uncomment to run the complete pipeline\n",
    "run_complete_pipeline()"
   ]
  }
 ],
 "metadata": {
  "kernelspec": {
   "display_name": ".venv",
   "language": "python",
   "name": "python3"
  },
  "language_info": {
   "codemirror_mode": {
    "name": "ipython",
    "version": 3
   },
   "file_extension": ".py",
   "mimetype": "text/x-python",
   "name": "python",
   "nbconvert_exporter": "python",
   "pygments_lexer": "ipython3",
   "version": "3.10.15"
  }
 },
 "nbformat": 4,
 "nbformat_minor": 2
}
