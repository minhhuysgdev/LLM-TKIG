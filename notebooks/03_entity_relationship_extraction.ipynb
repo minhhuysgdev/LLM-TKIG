{
  "cells": [
    {
      "metadata": {
        "id": "65TaAr-E0zVV"
      },
      "cell_type": "markdown",
      "source": [
        "# Entity and Relationship Extraction for Threat Intelligence\n",
        "\n",
        "## Overview\n",
        "This notebook implements entity and relationship extraction from threat intelligence text using LLM-based approach.\n",
        "\n",
        "### Task Description\n",
        "- **Input**: Threat intelligence text content\n",
        "- **Output**: Named entities and relationships in structured format\n",
        "- **Entity Types**: malware, threat type, attacker, vulnerability, tool, etc.\n",
        "- **Relationship Types**: use, target, exploit, etc.\n",
        "\n",
        "### Example\n",
        "**Input**: A hitherto unknown attack group has been observed targeting a materials research organization in Asia. The group, which Symantec calls Clasiopa, is characterized by a distinct toolset, which includes one piece of custom malware (Backdoor.Atharvan).\n",
        "\n",
        "**Output**:\n",
        "- Named Entities: (Clasiopa, attacker), (custom malware, malware), (Backdoor.Atharvan, malware)\n",
        "- Relationships: (Clasiopa, use, custom malware), (custom malware, name, Backdoor.Atharvan)\n"
      ]
    },
    {
      "cell_type": "code",
      "metadata": {
        "ExecuteTime": {
          "end_time": "2025-08-04T11:30:07.308229Z",
          "start_time": "2025-08-04T11:30:04.661621Z"
        },
        "colab": {
          "base_uri": "https://localhost:8080/"
        },
        "id": "Vj0a2Bq10zVa",
        "outputId": "19a3c54a-e7a3-45e0-e94e-f290b30e9bdc"
      },
      "source": [
        "import json\n",
        "import os\n",
        "import re\n",
        "from pathlib import Path\n",
        "from typing import Dict, List, Tuple, Any\n",
        "from collections import defaultdict\n",
        "import datetime\n",
        "\n",
        "# Load environment and model setup\n",
        "from dotenv import load_dotenv\n",
        "import torch\n",
        "from transformers import AutoTokenizer, AutoModelForCausalLM, pipeline\n",
        "\n",
        "# Load environment variables\n",
        "load_dotenv()\n",
        "\n",
        "print(\"🔧 Setting up Entity & Relationship Extraction Pipeline\")\n",
        "print(\"=\" * 60)\n"
      ],
      "outputs": [
        {
          "output_type": "stream",
          "name": "stdout",
          "text": [
            "🔧 Setting up Entity & Relationship Extraction Pipeline\n",
            "============================================================\n"
          ]
        }
      ],
      "execution_count": 1
    },
    {
      "cell_type": "code",
      "source": [
        "from google.colab import drive\n",
        "drive.mount('/content/drive')"
      ],
      "metadata": {
        "colab": {
          "base_uri": "https://localhost:8080/"
        },
        "id": "wnEnVTW11ytK",
        "outputId": "8f4f6551-c2dc-42ea-fc72-e70ea4540d9e"
      },
      "execution_count": 2,
      "outputs": [
        {
          "output_type": "stream",
          "name": "stdout",
          "text": [
            "Mounted at /content/drive\n"
          ]
        }
      ]
    },
    {
      "cell_type": "code",
      "metadata": {
        "ExecuteTime": {
          "end_time": "2025-08-04T11:30:07.330403Z",
          "start_time": "2025-08-04T11:30:07.318190Z"
        },
        "colab": {
          "base_uri": "https://localhost:8080/"
        },
        "id": "SaGb3j300zVd",
        "outputId": "95d556ca-3b65-4815-8f66-285e679d2f16"
      },
      "source": [
        "def load_data(input_file: str) -> list:\n",
        "    \"\"\"\n",
        "    Load threat intelligence data from JSON file.\n",
        "    \"\"\"\n",
        "    try:\n",
        "        with open(input_file, 'r', encoding='utf-8') as f:\n",
        "            data = json.load(f)\n",
        "        print(f\"✅ Loaded {len(data)} records from {input_file}\")\n",
        "        return data\n",
        "    except Exception as e:\n",
        "        print(f\"❌ Error loading {input_file}: {e}\")\n",
        "        return []\n",
        "\n",
        "# Load threat intelligence data\n",
        "data_path = '/content/drive/MyDrive/LLM_TKIG/data/processed/merged_threat_intelligence.json'\n",
        "data = load_data(data_path)\n",
        "\n",
        "if data:\n",
        "    print(f\"📊 Sample data structure:\")\n",
        "    print(f\"   Keys: {list(data[0].keys())}\")\n",
        "    print(f\"   Title: {data[0]['title'][:100]}...\")\n"
      ],
      "outputs": [
        {
          "output_type": "stream",
          "name": "stdout",
          "text": [
            "✅ Loaded 427 records from /content/drive/MyDrive/LLM_TKIG/data/processed/merged_threat_intelligence.json\n",
            "📊 Sample data structure:\n",
            "   Keys: ['title', 'content', 'link']\n",
            "   Title: FortiGuard Labs Threat Research...\n"
          ]
        }
      ],
      "execution_count": 4
    },
    {
      "cell_type": "code",
      "metadata": {
        "ExecuteTime": {
          "end_time": "2025-08-04T11:30:07.423797Z",
          "start_time": "2025-08-04T11:30:07.339321Z"
        },
        "colab": {
          "base_uri": "https://localhost:8080/"
        },
        "id": "6XkR3a9o0zVe",
        "outputId": "d6e81bb5-37e3-48ff-c0d8-4598ee835603"
      },
      "source": [
        "# Device setup\n",
        "device = (\n",
        "    \"cuda\" if torch.cuda.is_available()\n",
        "    else \"mps\" if torch.backends.mps.is_available()\n",
        "    else \"cpu\"\n",
        ")\n",
        "\n",
        "print(f\"🖥️  Using device: {device.upper()}\")\n",
        "print(f\"🔧 PyTorch version: {torch.__version__}\")\n",
        "\n",
        "# Memory cleanup\n",
        "if device == \"cuda\":\n",
        "    torch.cuda.empty_cache()\n",
        "elif device == \"mps\":\n",
        "    import gc\n",
        "    gc.collect()\n",
        "    if hasattr(torch.mps, 'empty_cache'):\n",
        "        torch.mps.empty_cache()\n"
      ],
      "outputs": [
        {
          "output_type": "stream",
          "name": "stdout",
          "text": [
            "🖥️  Using device: CUDA\n",
            "🔧 PyTorch version: 2.8.0+cu126\n"
          ]
        }
      ],
      "execution_count": 5
    },
    {
      "cell_type": "code",
      "source": [
        "from google.colab import userdata\n",
        "HF_TOKEN = userdata.get('HF_TOKEN')\n",
        "DEFAULT_MODEL = userdata.get('DEFAULT_MODEL')\n",
        "FALLBACK_MODEL = userdata.get('FALLBACK_MODEL')\n",
        "\n",
        "print(f'Default model: {DEFAULT_MODEL}')\n",
        "print(f'Fallback model: {FALLBACK_MODEL}')"
      ],
      "metadata": {
        "id": "BGkfKGYCADsa",
        "outputId": "b279378b-39e3-4fef-c7a7-4a21a16a6765",
        "colab": {
          "base_uri": "https://localhost:8080/"
        }
      },
      "execution_count": 6,
      "outputs": [
        {
          "output_type": "stream",
          "name": "stdout",
          "text": [
            "Default model: unsloth/Qwen3-14B\n",
            "Fallback model: unsloth/Qwen3-8B\n"
          ]
        }
      ]
    },
    {
      "cell_type": "code",
      "metadata": {
        "ExecuteTime": {
          "end_time": "2025-08-04T11:30:15.690417Z",
          "start_time": "2025-08-04T11:30:07.431728Z"
        },
        "colab": {
          "base_uri": "https://localhost:8080/",
          "height": 684,
          "referenced_widgets": [
            "f2e56ae9d3bd49ffb5e21ea0c5f40926",
            "de3191f1a2fa45ccae2909b33e7eb880",
            "1a0cf63a088a4928b2fdb50c1c89e614",
            "7f45361a968344ea91f1cab79b216016",
            "4d68e1f01b6b4c24a1e80aabfe72af03",
            "82bb21813aad402d8862a132d933b757",
            "d6da486f9cd948b1ba53f50566fb1cd3",
            "bad5ed30202b4c1abc42b5cce8ef8ce3",
            "8289778b1af84123b1f4b25db06495bd",
            "b0d226075ac1469f85e68fcb97993cdf",
            "5229ac660ffb4f3680f10bf96ec8d3b5",
            "6e22db36a1934f99a2836ef1ddc8a883",
            "01a68e16674b4c818a9dea26b5cd30a6",
            "c79fe1b4c1944176b6f31814660f03aa",
            "ba00723cdc754a078f32455e0933dc04",
            "bbb36756ef5948d2ad221d535d197564",
            "11c29ee5589b4f5c976cf8a054f4643d",
            "6dcc598b36364eb683f49982e1d76f76",
            "12954995a47d463da9ad49be1801a477",
            "64722add23ea4e7696078dee16e3cdf8",
            "28c60d866ff34765b8cf8989465828ed",
            "8716017560414993bfbad96de3eaf40d",
            "f3f15fe72d3a40af8bf6121da9d8ce28",
            "5f200cc13e274b449aef5f260f0875b1",
            "53631f8b26ae4bd1ba7263b6e73313aa",
            "a328f693b9404905b57c34194c9c9b05",
            "80d9073b0ab6447db3154198ba2c0726",
            "73bc24ab8a80460da234ae348ccabfb2",
            "f22667a5fef44005a5087b1af8521cac",
            "120ab0ae4fe64b4db42fb7eece0d2c39",
            "543260edd37c47859f7c981a5786dc73",
            "6657b5bfca2e4c598b1b94d9f10ffbfd",
            "833d80e9af8041c58cb96415c5763f59",
            "355509c0fc184bd3b1d77e87c2d19855",
            "6706271bf7e84b598232332cb4f5d103",
            "5c147d5e0d954bc2a8110b6d92179919",
            "52d1a4e44a084782973e01c7624accb9",
            "d92b0d368df649cd89df920476d74cfc",
            "85c20460130e48299c60268f0abdd7a4",
            "31ece7edca014ec5b74a65fbc085c006",
            "1636807973004c0eba939f53bd17746d",
            "08924e1c1ac740fe8e7f54320b52e41e",
            "c27859fc7f76400eb98b4f1e7c454ef7",
            "7b27ba591caf43949343947c42bffcfa",
            "814d056ad163449aab44b6ca447957b3",
            "22988d9aac30424b9c3c36f45b144043",
            "8bc2d638ab084e548d8ce6ef1595210d",
            "e8753a4e68414e299ca2fc703aa3ea98",
            "b23bbfed05334b869a65ddb95a572b0e",
            "aa20f7e9db724970892e08c2b293035c",
            "eabd06bb2d6a402d9270461ce4a36574",
            "f3071111b60045a1a99281b7a139d05a",
            "f43156bd5f834a5d8e07d8e7d37ca0e2",
            "61d0865d502946f0bedab0a90a5b148e",
            "3d3711b78db24c699cd7ce143c43df86",
            "a30a0a6bd90241a89d65247bfcd3d8b2",
            "21e5b233d77e4b26886bec368062a1b6",
            "6625bbe2c5094f41b7364823f62fc9f0",
            "125e7b7e39b34fc2b065642b63c68c48",
            "e0c4cca654264fa59a56c205c8a2014c",
            "c308d45e98d54da2a30e1e083c0a869d",
            "0a73dfafb4034aa6b0cfa16f6b52f837",
            "e4691f0f676247f9aebed9866c52da81",
            "30703027e20c4927a7f376a05c83bad2",
            "743d0ac80b6a42eba061b8c76138d829",
            "c96fff87be644026bbcc59ee52e3f4cd",
            "99b0d7ccc0fc489e8c2c0937ca7df914",
            "3dbd03010d5f462684af1c07b8f9cae3",
            "7b14c6cea3f44a9eb34d639453244321",
            "c0791b20116f466dbf910507780e2f52",
            "7b8aa023f79943fd9c5ec1f3f0cee580",
            "feaafb3ef2574b35942ebb6484eae458",
            "40116f790b6144b99d1c28ea5bc8f783",
            "3b989d841d5545f0bbddebfc6c99ae84",
            "29d962374215460f98dbd227823bd6f8",
            "671aa5d6706342858f1457b5fb16a658",
            "1b18079f47dd43428b1ac21d09510bee",
            "af284b6613a948a9a51f167f9b9796ba",
            "6be167be44654f10999f25bfa7e04ba4",
            "1900c35761964413aca6ac493837761d",
            "322a9fc46aac4ae985b4f21f0f48dad8",
            "8bc286fbd1fd4e618fb2d63d649318f0",
            "36e68638b40043e28f223b0c8cb452ba",
            "fb1f94d8170946318affd2918350f9d1",
            "8daf4deba0914640be353ac7279da72c",
            "61b2d57641e347369b0c15b7be5e6344",
            "d37f8a91f9cc4480aedb292fe4901d34",
            "5c625aa2c6734c6494e9662ecd343747",
            "f2ea27a0a7e440be993c3b6dc2a4dbbf",
            "362628a4e41f4d6687a32db6806c8631",
            "20db48cd8d73496490b42d5377e431ab",
            "5f0ae0efc1f047f1b74f1936f95ea8da",
            "3124509ed93c454186bfb0a80ac7951d",
            "3c519152664e486da9fbb6d1a96b3458",
            "05080dafe1aa4441b29b2b5bf867f409",
            "f8a74e0c657b4b8ba5f1732f7bf7825e",
            "fee3f6b5d8734d9086fd54486598b706",
            "71f215a56f014170848c2556d8f3fd52",
            "586218bce3224be4896881112b82e1c0",
            "0c0ceed2ad804dd2800dfed2b0f36120",
            "3e848dffc6da4b52911276873e20ddbd",
            "4c8aee787b1248eeb0934dd35f0c9230",
            "b90788ca7c624e6ba56dcbb30adf22d5",
            "d2eb047222c044fbb9e12999060040a9",
            "a3a68cd376994c89818014643bec478b",
            "417a3723e6fe4a47ba7673dead5040fe",
            "2a271452cc3e441cb61b6adc5bfbec2b",
            "f73a90c7e6bb46e8ae7e542ba582dbab",
            "cd4d64a688b942fa9c00a15df6ef120d",
            "72a8fceae547436789fb7a9265ee74fe",
            "abfec99257a04d669befe54f31c4efde",
            "05499306a5ba48abad2521a410efe5fd",
            "3b436ce58f3a416384d1351aa6910f4a",
            "61221c3e0e354bacae87742a77b9b752",
            "d0b5f2364d99433f80abde7e2d361fe6",
            "fbe82315be8a4f9ab3f4038076d7db51",
            "3008196dff544eb98b515246ae439f4e",
            "da8c046fa50f458886e2f32c16579cf3",
            "0caeaf1390cb4dc3b95d1d2755956086",
            "afdf3784f4c94c2a8c440a74e019e37c",
            "ce2ef1a0e29e4fe5a2b2fa10a1b6e1bb",
            "7514e3f27d2640c382bec321b15e0480",
            "2de1777a9aa34b47bdaa4b44835473e1",
            "2a36da6fafa249978b6067ec748723b9",
            "836a58a252d041b1a660dffee838cb1a",
            "9e80eb1ee66746b0a4e226b1afb62322",
            "f4e5c184e61e4d36a7dd0f3f358846c7",
            "40b74b64b21747cc9f23705847ae6b3b",
            "ef785986d53e418389f0d42e91f1d746",
            "bbdf8b9a470549739ec77ff489121af1",
            "694d1ea88531467da6e4c22a3d2e0077",
            "07694086cc2d42039e377acf0756f140",
            "67077ef30e2243a09c4bc780617a94e7",
            "d977d32ba62f4e7484d7c37b88d39d1e",
            "2de8aa1e23d341b18d973d40e1123a37",
            "03012a8ffa0142859e1e6d423eefc7b3",
            "8f6f0c7a39d8407486920cc6e8e1a7bd",
            "6f935d4e39b84122b190018a7ba17087",
            "ca38b4b8709841229e82d0f34faa3adb",
            "deb53f9492964c459fac5dec59eb3660",
            "fefbe08e252f435ab9d3ca475cd40f54",
            "24fec9d0a21f46a6ada65a57dc70316f",
            "e14c4c00ba7845c999e92920aa4bf331",
            "cce5afec12324d98ad862ea8d32c196b",
            "bcb9d1a215914cf4be0bb3b0649d570b",
            "12cc5e25d5194a94a1decde91d359fca",
            "d83c97a7540c40f4aeb0647acf4d7e23",
            "4b4b859abf14468babc7297538dd3587",
            "311a9f93e10d4db4a1951df2a1c0e99d",
            "1659520865eb4cbfb0eb0dcd55148964",
            "e419114feb074830ba7376c6b3321afb",
            "700a4571682d4caf8c87cbe259480311",
            "7f956f866bc3477cb762c0a4dba8d0d7",
            "2a845fc26f8a4f10941c94002f295f4b",
            "c1364173b97249f4a2a04491e23bd006",
            "89bf4f94696a443984edca7764e5551f",
            "78e7846d0d854d43a6de530a012e4099",
            "b11e856d803840eb939ef331b13525a6",
            "45754af76fed401cb36b685a809e2390",
            "0ee4edb58b8349f3a3f534f31ebb523c",
            "7cd46a5f6bbb4884b7e7235a64efdd35",
            "0871a1c5ab3546e097e0a4811ee328f2",
            "b9ac1dd328414be5a1253e4fd75bacaf",
            "a1d100254c2647e0a3d9c0ddb3e24b3e",
            "9ded1b644b924651b7c05cb207ffe892",
            "d4620985d3324ce4ad8023e59320f9f6",
            "f35fe076f0f947ac9d9260d9a4a742ee",
            "fcf9dd25665f44358decf3f510b006a8",
            "35d4fa6f463247a68a083c5296227212",
            "9094faf3d77e4b02a58a88b86ce9c0d8",
            "4499e3bcf5584bc59792b164a6488c0a",
            "a13993f673fb407a931c2fd68e9c83ff",
            "3e8e130d0da74aa19b230ab5fa11681a",
            "0ff4be3f53de4a38b82e6319d18c1f45",
            "6a2ae10f295c4a10b59a297d3cacda7c",
            "6fd5d314c4fd41a083a24e5854c4c7e9",
            "cf17298ef13f4cf5ad970abe333f27ec",
            "41b71fc1affb4187a6aea844eab07a4d",
            "2f085404c54f4b738766b0dbbd744000",
            "faa9b0ad93b8476c8506dcf3ef5aa8b6",
            "22172f37b34241b4a03f6572cd11a806",
            "b97ed405b5ac4cd9810fea25ef71c759",
            "30cee34a65904fe7a51fc49231de1438",
            "b15ce160fc55488d93bc6b5b145120c4",
            "a4f599184bcc4445adcf0794472b697b",
            "0323b2edeec94a8199ff1f07ccc50fba",
            "02691407f1544dbaac8723a15e8dc90a",
            "e5166d9f04954759bd29e37ee8e638b7",
            "99f3576882364fe2bd457739e6902824",
            "a4e1fde55b0847919f9268a89edd9d60",
            "b54495a5c2ac4d1384d84c0093e811d5",
            "b64be09827e74f0cb0136d0fd48d1359",
            "46f6e84ff69d46efafefe9d95a02171a",
            "54e0b745a4714de295c86dad0a311eef",
            "d3cdf4c4047040e1bcb217dabe0bc32a",
            "537d138ed31745f2b4c62a68d96b95f3",
            "0da994a8c9504826b50f16bb9fa23d55",
            "e87f2d4fb8484a528efb869bf2a673ba"
          ]
        },
        "id": "_VFZZ-XB0zVf",
        "outputId": "ea5f42ac-c9a6-4a6d-9c75-f99783b7950a"
      },
      "source": [
        "# Get configuration from environment\n",
        "# DEFAULT_MODEL = os.getenv('DEFAULT_MODEL', 'unsloth/Qwen3-14B')\n",
        "# FALLBACK_MODEL = os.getenv('FALLBACK_MODEL', 'unsloth/Qwen3-8B')\n",
        "\n",
        "def setup_model_for_extraction(model_name: str = None, hf_token: str = None):\n",
        "    \"\"\"\n",
        "    Tải model từ Hugging Face với token từ environment variables.\n",
        "    \"\"\"\n",
        "    model_name = model_name or DEFAULT_MODEL\n",
        "    hf_token = hf_token or HF_TOKEN\n",
        "\n",
        "    print(f\"🤖 Đang tải mô hình: {model_name}\")\n",
        "    print(f\"📱 Thiết bị: {device.upper()}\")\n",
        "    print(f\"🔑 Token: {'✅ Found' if hf_token else '❌ Missing'}\")\n",
        "\n",
        "    try:\n",
        "        # Load tokenizer\n",
        "        tokenizer = AutoTokenizer.from_pretrained(\n",
        "            model_name,\n",
        "            token=hf_token,\n",
        "            trust_remote_code=True\n",
        "        )\n",
        "        tokenizer.pad_token = tokenizer.pad_token or tokenizer.eos_token\n",
        "\n",
        "        # Thiết lập kiểu dữ liệu và bản đồ thiết bị\n",
        "        torch_dtype = torch.float16 if device == \"cuda\" else torch.float32\n",
        "        device_map = \"auto\" if device == \"cuda\" else None\n",
        "\n",
        "        # Load model\n",
        "        model = AutoModelForCausalLM.from_pretrained(\n",
        "            model_name,\n",
        "            token=hf_token,\n",
        "            trust_remote_code=True,\n",
        "            torch_dtype=torch_dtype,\n",
        "            device_map=device_map,\n",
        "            use_cache=False\n",
        "        )\n",
        "\n",
        "        if device_map is None and device in [\"mps\", \"cuda\"]:\n",
        "            model.to(device)\n",
        "\n",
        "        if device_map is None:\n",
        "            # Nếu không sử dụng device_map=\"auto\", có thể chỉ định device\n",
        "            pipe = pipeline(\n",
        "                \"text-generation\",\n",
        "                model=model,\n",
        "                tokenizer=tokenizer,\n",
        "                device=0 if device != \"cpu\" else -1,\n",
        "                torch_dtype=torch_dtype,\n",
        "                model_kwargs={\"use_cache\": False}\n",
        "            )\n",
        "        else:\n",
        "            # Nếu sử dụng device_map=\"auto\", không chỉ định device\n",
        "            pipe = pipeline(\n",
        "                \"text-generation\",\n",
        "                model=model,\n",
        "                tokenizer=tokenizer,\n",
        "                torch_dtype=torch_dtype,\n",
        "                model_kwargs={\"use_cache\": False}\n",
        "            )\n",
        "\n",
        "        print(f\"✅ Đã tải thành công {model_name} trên {device.upper()}\")\n",
        "        return pipe\n",
        "\n",
        "    except Exception as e:\n",
        "        print(f\"❌ Lỗi khi tải {model_name}: {e}\")\n",
        "        return setup_fallback_model(hf_token)\n",
        "\n",
        "def setup_fallback_model(hf_token: str = None):\n",
        "    \"\"\"\n",
        "    Tải fallback model nếu model chính lỗi.\n",
        "    \"\"\"\n",
        "    fallback_name = FALLBACK_MODEL\n",
        "    hf_token = hf_token or HF_TOKEN\n",
        "    print(f\"🔄 Đang tải mô hình dự phòng: {fallback_name}\")\n",
        "\n",
        "    try:\n",
        "        tokenizer = AutoTokenizer.from_pretrained(fallback_name, token=hf_token)\n",
        "        tokenizer.pad_token = tokenizer.pad_token or tokenizer.eos_token\n",
        "\n",
        "        model = AutoModelForCausalLM.from_pretrained(\n",
        "            fallback_name,\n",
        "            token=hf_token,\n",
        "            torch_dtype=torch.float32,\n",
        "            use_cache=False\n",
        "        )\n",
        "\n",
        "        if device in [\"cuda\", \"mps\"]:\n",
        "            model.to(device)\n",
        "\n",
        "        pipe = pipeline(\n",
        "            \"text-generation\",\n",
        "            model=model,\n",
        "            tokenizer=tokenizer,\n",
        "            device=0 if device != \"cpu\" else -1,\n",
        "            model_kwargs={\"use_cache\": False}\n",
        "        )\n",
        "\n",
        "        print(f\"✅ {FALLBACK_MODEL} đã sẵn sàng trên {device.upper()}\")\n",
        "        return pipe\n",
        "\n",
        "    except Exception as e:\n",
        "        print(f\"❌ Lỗi khi tải {FALLBACK_MODEL} fallback: {e}\")\n",
        "        return None\n",
        "\n",
        "# Load model\n",
        "extraction_model = setup_model_for_extraction()\n"
      ],
      "outputs": [
        {
          "output_type": "stream",
          "name": "stdout",
          "text": [
            "🤖 Đang tải mô hình: unsloth/Qwen3-14B\n",
            "📱 Thiết bị: CUDA\n",
            "🔑 Token: ✅ Found\n"
          ]
        },
        {
          "output_type": "display_data",
          "data": {
            "text/plain": [
              "tokenizer_config.json: 0.00B [00:00, ?B/s]"
            ],
            "application/vnd.jupyter.widget-view+json": {
              "version_major": 2,
              "version_minor": 0,
              "model_id": "f2e56ae9d3bd49ffb5e21ea0c5f40926"
            }
          },
          "metadata": {}
        },
        {
          "output_type": "display_data",
          "data": {
            "text/plain": [
              "vocab.json: 0.00B [00:00, ?B/s]"
            ],
            "application/vnd.jupyter.widget-view+json": {
              "version_major": 2,
              "version_minor": 0,
              "model_id": "6e22db36a1934f99a2836ef1ddc8a883"
            }
          },
          "metadata": {}
        },
        {
          "output_type": "display_data",
          "data": {
            "text/plain": [
              "merges.txt: 0.00B [00:00, ?B/s]"
            ],
            "application/vnd.jupyter.widget-view+json": {
              "version_major": 2,
              "version_minor": 0,
              "model_id": "f3f15fe72d3a40af8bf6121da9d8ce28"
            }
          },
          "metadata": {}
        },
        {
          "output_type": "display_data",
          "data": {
            "text/plain": [
              "tokenizer.json:   0%|          | 0.00/11.4M [00:00<?, ?B/s]"
            ],
            "application/vnd.jupyter.widget-view+json": {
              "version_major": 2,
              "version_minor": 0,
              "model_id": "355509c0fc184bd3b1d77e87c2d19855"
            }
          },
          "metadata": {}
        },
        {
          "output_type": "display_data",
          "data": {
            "text/plain": [
              "added_tokens.json:   0%|          | 0.00/707 [00:00<?, ?B/s]"
            ],
            "application/vnd.jupyter.widget-view+json": {
              "version_major": 2,
              "version_minor": 0,
              "model_id": "814d056ad163449aab44b6ca447957b3"
            }
          },
          "metadata": {}
        },
        {
          "output_type": "display_data",
          "data": {
            "text/plain": [
              "special_tokens_map.json:   0%|          | 0.00/614 [00:00<?, ?B/s]"
            ],
            "application/vnd.jupyter.widget-view+json": {
              "version_major": 2,
              "version_minor": 0,
              "model_id": "a30a0a6bd90241a89d65247bfcd3d8b2"
            }
          },
          "metadata": {}
        },
        {
          "output_type": "display_data",
          "data": {
            "text/plain": [
              "chat_template.jinja: 0.00B [00:00, ?B/s]"
            ],
            "application/vnd.jupyter.widget-view+json": {
              "version_major": 2,
              "version_minor": 0,
              "model_id": "99b0d7ccc0fc489e8c2c0937ca7df914"
            }
          },
          "metadata": {}
        },
        {
          "output_type": "display_data",
          "data": {
            "text/plain": [
              "config.json:   0%|          | 0.00/754 [00:00<?, ?B/s]"
            ],
            "application/vnd.jupyter.widget-view+json": {
              "version_major": 2,
              "version_minor": 0,
              "model_id": "af284b6613a948a9a51f167f9b9796ba"
            }
          },
          "metadata": {}
        },
        {
          "output_type": "display_data",
          "data": {
            "text/plain": [
              "model.safetensors.index.json: 0.00B [00:00, ?B/s]"
            ],
            "application/vnd.jupyter.widget-view+json": {
              "version_major": 2,
              "version_minor": 0,
              "model_id": "f2ea27a0a7e440be993c3b6dc2a4dbbf"
            }
          },
          "metadata": {}
        },
        {
          "output_type": "display_data",
          "data": {
            "text/plain": [
              "Fetching 6 files:   0%|          | 0/6 [00:00<?, ?it/s]"
            ],
            "application/vnd.jupyter.widget-view+json": {
              "version_major": 2,
              "version_minor": 0,
              "model_id": "0c0ceed2ad804dd2800dfed2b0f36120"
            }
          },
          "metadata": {}
        },
        {
          "output_type": "display_data",
          "data": {
            "text/plain": [
              "model-00001-of-00006.safetensors:   0%|          | 0.00/4.98G [00:00<?, ?B/s]"
            ],
            "application/vnd.jupyter.widget-view+json": {
              "version_major": 2,
              "version_minor": 0,
              "model_id": "abfec99257a04d669befe54f31c4efde"
            }
          },
          "metadata": {}
        },
        {
          "output_type": "display_data",
          "data": {
            "text/plain": [
              "model-00006-of-00006.safetensors:   0%|          | 0.00/4.73G [00:00<?, ?B/s]"
            ],
            "application/vnd.jupyter.widget-view+json": {
              "version_major": 2,
              "version_minor": 0,
              "model_id": "7514e3f27d2640c382bec321b15e0480"
            }
          },
          "metadata": {}
        },
        {
          "output_type": "display_data",
          "data": {
            "text/plain": [
              "model-00004-of-00006.safetensors:   0%|          | 0.00/4.98G [00:00<?, ?B/s]"
            ],
            "application/vnd.jupyter.widget-view+json": {
              "version_major": 2,
              "version_minor": 0,
              "model_id": "67077ef30e2243a09c4bc780617a94e7"
            }
          },
          "metadata": {}
        },
        {
          "output_type": "display_data",
          "data": {
            "text/plain": [
              "model-00005-of-00006.safetensors:   0%|          | 0.00/4.93G [00:00<?, ?B/s]"
            ],
            "application/vnd.jupyter.widget-view+json": {
              "version_major": 2,
              "version_minor": 0,
              "model_id": "cce5afec12324d98ad862ea8d32c196b"
            }
          },
          "metadata": {}
        },
        {
          "output_type": "display_data",
          "data": {
            "text/plain": [
              "model-00003-of-00006.safetensors:   0%|          | 0.00/4.93G [00:00<?, ?B/s]"
            ],
            "application/vnd.jupyter.widget-view+json": {
              "version_major": 2,
              "version_minor": 0,
              "model_id": "c1364173b97249f4a2a04491e23bd006"
            }
          },
          "metadata": {}
        },
        {
          "output_type": "display_data",
          "data": {
            "text/plain": [
              "model-00002-of-00006.safetensors:   0%|          | 0.00/4.98G [00:00<?, ?B/s]"
            ],
            "application/vnd.jupyter.widget-view+json": {
              "version_major": 2,
              "version_minor": 0,
              "model_id": "d4620985d3324ce4ad8023e59320f9f6"
            }
          },
          "metadata": {}
        },
        {
          "output_type": "display_data",
          "data": {
            "text/plain": [
              "Loading checkpoint shards:   0%|          | 0/6 [00:00<?, ?it/s]"
            ],
            "application/vnd.jupyter.widget-view+json": {
              "version_major": 2,
              "version_minor": 0,
              "model_id": "cf17298ef13f4cf5ad970abe333f27ec"
            }
          },
          "metadata": {}
        },
        {
          "output_type": "display_data",
          "data": {
            "text/plain": [
              "generation_config.json:   0%|          | 0.00/237 [00:00<?, ?B/s]"
            ],
            "application/vnd.jupyter.widget-view+json": {
              "version_major": 2,
              "version_minor": 0,
              "model_id": "e5166d9f04954759bd29e37ee8e638b7"
            }
          },
          "metadata": {}
        },
        {
          "output_type": "stream",
          "name": "stderr",
          "text": [
            "Device set to use cuda:0\n"
          ]
        },
        {
          "output_type": "stream",
          "name": "stdout",
          "text": [
            "✅ Đã tải thành công unsloth/Qwen3-14B trên CUDA\n"
          ]
        }
      ],
      "execution_count": 7
    },
    {
      "cell_type": "code",
      "metadata": {
        "ExecuteTime": {
          "end_time": "2025-08-04T11:30:15.716646Z",
          "start_time": "2025-08-04T11:30:15.711689Z"
        },
        "colab": {
          "base_uri": "https://localhost:8080/"
        },
        "id": "MoxFZCyi0zVg",
        "outputId": "3740cf9f-a585-4dc9-808f-a011a3dabd70"
      },
      "source": [
        "def create_entity_extraction_prompt(text: str) -> str:\n",
        "    \"\"\"\n",
        "    Create prompt for entity and relationship extraction focusing on core cybersecurity entity types.\n",
        "    \"\"\"\n",
        "    # Truncate text to avoid token limits\n",
        "    text_truncated = (text[:1500] if text else \"\").replace('\\n', ' ').strip()\n",
        "\n",
        "    prompt = f\"\"\"Instruction: Please identify the following types of entities and then extract the relationships between these extracted entities:\n",
        "\n",
        "Entity Types (focus on these only):\n",
        "- Malware: Malicious software (e.g., 'Stuxnet', 'Emotet', 'Backdoor.Atharvan')\n",
        "- Threat Type: Category of threats (e.g., 'Ransomware', 'APT', 'Botnet')\n",
        "- Attacker: Threat actors/groups (e.g., 'APT28', 'Lazarus Group', 'Shuckworm')\n",
        "- Technique: Attack techniques/TTPs (e.g., 'T1057: Process Discovery', 'Privilege Escalation', 'Phishing')\n",
        "- Tool: Security tools or attack tools (e.g., 'PowerShell', 'Cobalt Strike', 'EHole')\n",
        "- Vulnerability: Security weaknesses (e.g., 'CVE-2020-1472', 'CVE-2021-44228')\n",
        "- IP: IP addresses (e.g., '45.153.243.93', '192.168.1.100')\n",
        "- Domain: Domain names (e.g., 'malicious-domain[.]com', 'evil[.]example[.]com')\n",
        "- URL: URLs (e.g., 'hxxp://178.73.192[.]15/cal.exe')\n",
        "- File: File names (e.g., 'rtk.lnk', 'payload.exe', 'shtasks.exe')\n",
        "- Hash: File hashes (e.g., '2aee8bb2a953124803bc42e5c42935c9', MD5/SHA1/SHA256)\n",
        "\n",
        "Relationship Types:\n",
        "- use, hash, aka, execute, used by, download, resolved to, IP, drop, associated with, deploy, communicate with, connect to, install, exploit, contain, run, launch, target, linked to\n",
        "\n",
        "If there are no entities and relationships pertaining to the specified types, please state 'No related entities and relations'. Make sure to follow the output format shown in the following examples.\n",
        "\n",
        "Example 1:\n",
        "Input: A hitherto unknown attack group has been observed targeting a materials research organization in Asia. The group, which Symantec calls Clasiopa, is characterized by a distinct toolset, which includes one piece of custom malware (Backdoor.Atharvan).\n",
        "Output: Named Entities: (Clasiopa, Attacker), (Backdoor.Atharvan, Malware)\\nRelationships: (Clasiopa, uses, Backdoor.Atharvan)\n",
        "\n",
        "Example 2:\n",
        "Input: The Emotet malware has been observed using new phishing techniques to target banking institutions. The malware exploits CVE-2021-1234 vulnerability in Microsoft Office.\n",
        "Output: Named Entities: (Emotet, Malware), (phishing, Technique), (CVE-2021-1234, Vulnerability), (Microsoft Office, Tool)\\nRelationships: (Emotet, uses, phishing), (Emotet, exploits, CVE-2021-1234)\n",
        "\n",
        "Example 3:\n",
        "Input: The threat actor downloaded malicious payload from hxxp://malicious-domain[.]com/payload.exe and used hash 2aee8bb2a953124803bc42e5c42935c9 to verify file integrity. The attack targeted IP address 192.168.1.100.\n",
        "Output: Named Entities: (threat actor, Attacker), (malicious payload, File), (hxxp://malicious-domain[.]com/payload.exe, URL), (2aee8bb2a953124803bc42e5c42935c9, Hash), (192.168.1.100, IP)\\nRelationships: (threat actor, uses, hxxp://malicious-domain[.]com/payload.exe), (threat actor, targets, 192.168.1.100)\n",
        "\n",
        "Example 4:\n",
        "Input: H2Miner botnet uses Kinsing malware and Cobalt Strike to deploy XMRig miners. The campaign communicates with C2 server at evil[.]domain[.]com and is attributed to APT group.\n",
        "Output: Named Entities: (H2Miner, Threat Type), (Kinsing, Malware), (Cobalt Strike, Tool), (XMRig, Tool), (evil[.]domain[.]com, Domain), (APT group, Attacker)\\nRelationships: (H2Miner, uses, Kinsing), (H2Miner, uses, Cobalt Strike), (H2Miner, uses, XMRig), (Kinsing, communicatesWith, evil[.]domain[.]com), (H2Miner, attributedTo, APT group)\n",
        "\n",
        "Example 5:\n",
        "Input: The weather forecast shows sunny skies and moderate temperatures for the weekend.\n",
        "Output: No related entities and relations\n",
        "\n",
        "Now extract entities and relationships from the following text:\n",
        "Input: {text_truncated}\n",
        "Output:\"\"\"\n",
        "\n",
        "    return prompt\n",
        "\n",
        "# Test the prompt creation\n",
        "if data:\n",
        "    sample_prompt = create_entity_extraction_prompt(data[0]['content'])\n",
        "    print(\"📝 Sample prompt (first 500 chars):\")\n",
        "    print(sample_prompt[:500] + \"...\")\n"
      ],
      "outputs": [
        {
          "output_type": "stream",
          "name": "stdout",
          "text": [
            "📝 Sample prompt (first 500 chars):\n",
            "Instruction: Please identify the following types of entities and then extract the relationships between these extracted entities:\n",
            "\n",
            "Entity Types (focus on these only):\n",
            "- Malware: Malicious software (e.g., 'Stuxnet', 'Emotet', 'Backdoor.Atharvan')\n",
            "- Threat Type: Category of threats (e.g., 'Ransomware', 'APT', 'Botnet')\n",
            "- Attacker: Threat actors/groups (e.g., 'APT28', 'Lazarus Group', 'Shuckworm')\n",
            "- Technique: Attack techniques/TTPs (e.g., 'T1057: Process Discovery', 'Privilege Escalation', 'Phishi...\n"
          ]
        }
      ],
      "execution_count": 8
    },
    {
      "cell_type": "code",
      "metadata": {
        "ExecuteTime": {
          "end_time": "2025-08-04T11:30:39.853317Z",
          "start_time": "2025-08-04T11:30:15.742845Z"
        },
        "colab": {
          "base_uri": "https://localhost:8080/"
        },
        "id": "loudmXKd0zVg",
        "outputId": "7e72996d-9817-40d7-fe73-f6f3fc05722a"
      },
      "source": [
        "def extract_entities_and_relationships(pipe, text: str) -> Dict[str, Any]:\n",
        "    \"\"\"\n",
        "    Extract entities and relationships from text using the LLM.\n",
        "    \"\"\"\n",
        "    try:\n",
        "        prompt = create_entity_extraction_prompt(text)\n",
        "\n",
        "        # Generate response\n",
        "        response = pipe(\n",
        "            prompt,\n",
        "            max_new_tokens=300,\n",
        "            do_sample=False,\n",
        "            temperature=0.1,\n",
        "            pad_token_id=pipe.tokenizer.eos_token_id,\n",
        "        )\n",
        "\n",
        "        # Extract generated text\n",
        "        generated_text = response[0]['generated_text']\n",
        "        answer = generated_text[len(prompt):].strip()\n",
        "\n",
        "        print(f\"🔍 Raw model output: {answer[:200]}...\")\n",
        "\n",
        "        # Parse the response\n",
        "        entities, relationships = parse_extraction_output(answer)\n",
        "\n",
        "        return {\n",
        "            \"raw_output\": answer,\n",
        "            \"entities\": entities,\n",
        "            \"relationships\": relationships,\n",
        "            \"has_entities\": len(entities) > 0\n",
        "        }\n",
        "\n",
        "    except Exception as e:\n",
        "        print(f\"❌ Error in extraction: {e}\")\n",
        "        return {\n",
        "            \"raw_output\": \"\",\n",
        "            \"entities\": [],\n",
        "            \"relationships\": [],\n",
        "            \"has_entities\": False,\n",
        "            \"error\": str(e)\n",
        "        }\n",
        "\n",
        "def parse_extraction_output(output: str) -> Tuple[List[Tuple], List[Tuple]]:\n",
        "    \"\"\"\n",
        "    Parse the model output to extract entities and relationships.\n",
        "    \"\"\"\n",
        "    entities = []\n",
        "    relationships = []\n",
        "\n",
        "    # Check for \"No related entities\" case\n",
        "    if \"no related entities\" in output.lower():\n",
        "        return entities, relationships\n",
        "\n",
        "    try:\n",
        "        # Split output into lines\n",
        "        lines = [line.strip() for line in output.split('\\n') if line.strip()]\n",
        "\n",
        "        current_section = None\n",
        "        for line in lines:\n",
        "            line_lower = line.lower()\n",
        "\n",
        "            if \"named entities:\" in line_lower:\n",
        "                current_section = \"entities\"\n",
        "                # Extract entities from the same line\n",
        "                entity_part = line.split(\":\", 1)[1] if \":\" in line else \"\"\n",
        "                entities.extend(extract_tuples_from_text(entity_part))\n",
        "\n",
        "            elif \"relationships:\" in line_lower:\n",
        "                current_section = \"relationships\"\n",
        "                # Extract relationships from the same line\n",
        "                rel_part = line.split(\":\", 1)[1] if \":\" in line else \"\"\n",
        "                relationships.extend(extract_tuples_from_text(rel_part))\n",
        "\n",
        "            elif current_section == \"entities\":\n",
        "                entities.extend(extract_tuples_from_text(line))\n",
        "\n",
        "            elif current_section == \"relationships\":\n",
        "                relationships.extend(extract_tuples_from_text(line))\n",
        "\n",
        "    except Exception as e:\n",
        "        print(f\"⚠️  Error parsing output: {e}\")\n",
        "\n",
        "    return entities, relationships\n",
        "\n",
        "def extract_tuples_from_text(text: str) -> List[Tuple]:\n",
        "    \"\"\"\n",
        "    Extract tuples from text using regex pattern matching.\n",
        "    \"\"\"\n",
        "    tuples = []\n",
        "\n",
        "    # Pattern to match (item1, item2) or (item1, item2, item3)\n",
        "    pattern = r'\\(([^)]+)\\)'\n",
        "    matches = re.findall(pattern, text)\n",
        "\n",
        "    for match in matches:\n",
        "        # Split by comma and clean up\n",
        "        parts = [part.strip() for part in match.split(',')]\n",
        "        if len(parts) >= 2:\n",
        "            tuples.append(tuple(parts))\n",
        "\n",
        "    return tuples\n",
        "\n",
        "# Test the extraction function\n",
        "if extraction_model and data:\n",
        "    print(\"\\n🧪 Testing entity extraction on sample data...\")\n",
        "    test_result = extract_entities_and_relationships(extraction_model, data[0]['content'])\n",
        "\n",
        "    print(f\"\\n📊 Extraction Results:\")\n",
        "    print(f\"   Entities found: {len(test_result['entities'])}\")\n",
        "    print(f\"   Relationships found: {len(test_result['relationships'])}\")\n",
        "\n",
        "    if test_result['entities']:\n",
        "        print(\"\\n🏷️  Sample Entities:\")\n",
        "        for entity in test_result['entities'][:5]:\n",
        "            print(f\"     {entity}\")\n",
        "\n",
        "    if test_result['relationships']:\n",
        "        print(\"\\n🔗 Sample Relationships:\")\n",
        "        for rel in test_result['relationships'][:5]:\n",
        "            print(f\"     {rel}\")\n"
      ],
      "outputs": [
        {
          "output_type": "stream",
          "name": "stderr",
          "text": [
            "The following generation flags are not valid and may be ignored: ['temperature', 'top_p', 'top_k']. Set `TRANSFORMERS_VERBOSITY=info` for more details.\n"
          ]
        },
        {
          "output_type": "stream",
          "name": "stdout",
          "text": [
            "\n",
            "🧪 Testing entity extraction on sample data...\n",
            "🔍 Raw model output: Named Entities: (NailaoLocker, Malware), (SM2, Technique), (FortiCNAPP Composite Alerts, Tool), (Lcrypt0rx, Malware), (H2Miner, Threat Type), (Dark 101, Malware), (FortiSandbox 5.0, Tool), (AI, Techni...\n",
            "\n",
            "📊 Extraction Results:\n",
            "   Entities found: 15\n",
            "   Relationships found: 10\n",
            "\n",
            "🏷️  Sample Entities:\n",
            "     ('NailaoLocker', 'Malware')\n",
            "     ('SM2', 'Technique')\n",
            "     ('FortiCNAPP Composite Alerts', 'Tool')\n",
            "     ('Lcrypt0rx', 'Malware')\n",
            "     ('H2Miner', 'Threat Type')\n",
            "\n",
            "🔗 Sample Relationships:\n",
            "     ('NailaoLocker', 'uses', 'SM2')\n",
            "     ('FortiCNAPP Composite Alerts', 'used by', 'Lcrypt0rx')\n",
            "     ('Lcrypt0rx', 'used by', 'H2Miner')\n",
            "     ('Dark 101', 'target', 'FortiSandbox 5.0')\n",
            "     ('AI', 'used by', 'Lcrypt0rx')\n"
          ]
        }
      ],
      "execution_count": 9
    },
    {
      "cell_type": "code",
      "metadata": {
        "ExecuteTime": {
          "end_time": "2025-08-04T11:30:40.011215Z",
          "start_time": "2025-08-04T11:30:40.003745Z"
        },
        "id": "h4-MN_7P0zVh"
      },
      "source": [
        "def _load_existing_records(output_path: Path) -> List[Dict]:\n",
        "    \"\"\"Load existing JSON array from file; return [] if file doesn't exist/invalid.\"\"\"\n",
        "    if not output_path.exists():\n",
        "        return []\n",
        "    try:\n",
        "        with output_path.open(\"r\", encoding=\"utf-8\") as f:\n",
        "            data = json.load(f)\n",
        "            if isinstance(data, list):\n",
        "                return data\n",
        "    except Exception:\n",
        "        pass\n",
        "    return []\n",
        "\n",
        "def _persist_records(output_path: Path, all_records: List[Dict]) -> None:\n",
        "    \"\"\"Atomically write JSON array to file (UTF-8, pretty, no ASCII escaping).\"\"\"\n",
        "    tmp_path = output_path.with_suffix(output_path.suffix + \".tmp\")\n",
        "    with tmp_path.open(\"w\", encoding=\"utf-8\") as f:\n",
        "        json.dump(all_records, f, ensure_ascii=False, indent=2)\n",
        "        f.write(\"\\n\")\n",
        "    tmp_path.replace(output_path)\n",
        "\n",
        "\n",
        "\n",
        "def process_articles_for_extraction(data: List[Dict], pipe, start: int = 0, offset:int=5, output_path: Path=None) -> List[Dict]:\n",
        "    \"\"\"\n",
        "    Process multiple articles for entity and relationship extraction.\n",
        "    \"\"\"\n",
        "    end = min(start + offset, len(data))\n",
        "    articles_to_process = data[start:end]\n",
        "    results = []\n",
        "\n",
        "    print(f\"🔍 Processing {len(articles_to_process)} articles for entity extraction...\")\n",
        "\n",
        "\n",
        "    # Chuẩn bị output_path\n",
        "    if output_path is None:\n",
        "      raise ValueError(\"Output path is required\")\n",
        "    output_path = Path(output_path)\n",
        "    output_path.parent.mkdir(parents=True, exist_ok=True)\n",
        "\n",
        "    # Tải dữ liệu hiện có & xây set tiêu đề để kiểm tra trùng\n",
        "    existing_records = _load_existing_records(output_path)\n",
        "    existing_titles = {(rec.get(\"title\") or \"\").strip() for rec in existing_records}\n",
        "\n",
        "    # tránh trùng trong batch hiện tại\n",
        "    batch_titles_seen = set()\n",
        "\n",
        "\n",
        "    for i, article in enumerate(articles_to_process):\n",
        "        print(f\"\\nProcessing {i+1}/{len(articles_to_process)}: {article.get('title', 'Unknown')[:60]}...\")\n",
        "\n",
        "        title = (article.get('title', '') or '').strip()\n",
        "        link  = article.get('link', '')\n",
        "        content = article.get('content', '')\n",
        "\n",
        "        if title in existing_titles:\n",
        "            print(f\"  ⏭️  Skip (duplicate title in file): {title[:60] or 'Untitled'}\")\n",
        "            continue\n",
        "        if title in batch_titles_seen:\n",
        "            print(f\"  ⏭️  Skip (duplicate title in batch): {title[:60] or 'Untitled'}\")\n",
        "            continue\n",
        "\n",
        "\n",
        "        # Extract entities and relationships\n",
        "        extraction_result = extract_entities_and_relationships(pipe, content)\n",
        "        entities = extraction_result.get('entities', []) if isinstance(extraction_result, dict) else []\n",
        "        relationships = extraction_result.get('relationships', []) if isinstance(extraction_result, dict) else []\n",
        "\n",
        "        # Combine with original article data\n",
        "        result = {\n",
        "            \"title\": title,\n",
        "            \"link\": link,\n",
        "            \"content\": content,\n",
        "            \"extraction\": extraction_result,\n",
        "            \"entity_count\": len(entities),\n",
        "            \"relationship_count\": len(relationships)\n",
        "        }\n",
        "\n",
        "        results.append(result)\n",
        "\n",
        "        # Ghi nối vào file (thông qua mảng tổng rồi ghi atomically)\n",
        "        existing_records.append(result)\n",
        "        _persist_records(output_path, existing_records)\n",
        "\n",
        "        # Đánh dấu đã thấy\n",
        "        batch_titles_seen.add(title)\n",
        "        existing_titles.add(title)\n",
        "\n",
        "        # Progress update\n",
        "        if (i + 1) % 5 == 0:\n",
        "            print(f\"  ✅ Processed {i+1}/{len(articles_to_process)} articles\")\n",
        "\n",
        "    print(f\"\\n💾 Saved {len(results)} new records to {str(output_path)}\")\n",
        "    return results\n",
        "\n",
        "\n"
      ],
      "outputs": [],
      "execution_count": 10
    },
    {
      "metadata": {
        "ExecuteTime": {
          "end_time": "2025-08-04T11:31:25.396928Z",
          "start_time": "2025-08-04T11:31:25.394040Z"
        },
        "id": "loxn_PW70zVj"
      },
      "cell_type": "code",
      "source": [
        "import datetime\n",
        "today = datetime.datetime.now().strftime(\"%Y-%m-%d_%H-%M-%S\")\n",
        "offset = 427\n"
      ],
      "outputs": [],
      "execution_count": 11
    },
    {
      "metadata": {
        "ExecuteTime": {
          "end_time": "2025-08-04T11:31:25.428313Z",
          "start_time": "2025-08-04T11:31:25.426439Z"
        },
        "colab": {
          "base_uri": "https://localhost:8080/"
        },
        "id": "c9nol3T80zVj",
        "outputId": "19ae3f99-1be0-4fce-a6b0-e15238870546"
      },
      "cell_type": "code",
      "source": [
        "start = 0\n",
        "end = min(len(data), start+offset)\n",
        "output_path = Path(f\"/content/drive/MyDrive/LLM-TKIG/data/entity-extraction/{DEFAULT_MODEL}_{today}_{start}_{end}.json\")\n",
        "\n",
        "results = process_articles_for_extraction(data, extraction_model,start=start,offset=offset, output_path=output_path)"
      ],
      "outputs": [
        {
          "output_type": "stream",
          "name": "stderr",
          "text": [
            "The following generation flags are not valid and may be ignored: ['temperature', 'top_p', 'top_k']. Set `TRANSFORMERS_VERBOSITY=info` for more details.\n"
          ]
        },
        {
          "output_type": "stream",
          "name": "stdout",
          "text": [
            "🔍 Processing 427 articles for entity extraction...\n",
            "\n",
            "Processing 1/427: FortiGuard Labs Threat Research...\n"
          ]
        },
        {
          "output_type": "stream",
          "name": "stderr",
          "text": [
            "The following generation flags are not valid and may be ignored: ['temperature', 'top_p', 'top_k']. Set `TRANSFORMERS_VERBOSITY=info` for more details.\n"
          ]
        },
        {
          "output_type": "stream",
          "name": "stdout",
          "text": [
            "🔍 Raw model output: Named Entities: (NailaoLocker, Malware), (SM2, Technique), (FortiCNAPP Composite Alerts, Tool), (Lcrypt0rx, Malware), (H2Miner, Threat Type), (Dark 101, Malware), (FortiSandbox 5.0, Tool), (AI, Techni...\n",
            "\n",
            "Processing 2/427: NailaoLocker Ransomware’s “Cheese”...\n"
          ]
        },
        {
          "output_type": "stream",
          "name": "stderr",
          "text": [
            "The following generation flags are not valid and may be ignored: ['temperature', 'top_p', 'top_k']. Set `TRANSFORMERS_VERBOSITY=info` for more details.\n"
          ]
        },
        {
          "output_type": "stream",
          "name": "stdout",
          "text": [
            "🔍 Raw model output: Named Entities: (NailaoLocker, Malware), (ransomware, Threat Type), (Microsoft Windows, Platform), (AES-256-CBC, Technique), (SM2, Technique), (2025 Global Threat Landscape Report, Report), (cheese, A...\n",
            "\n",
            "Processing 3/427: Improving Cloud Intrusion Detection and Triage with FortiCNA...\n"
          ]
        },
        {
          "output_type": "stream",
          "name": "stderr",
          "text": [
            "The following generation flags are not valid and may be ignored: ['temperature', 'top_p', 'top_k']. Set `TRANSFORMERS_VERBOSITY=info` for more details.\n"
          ]
        },
        {
          "output_type": "stream",
          "name": "stdout",
          "text": [
            "🔍 Raw model output: Named Entities: \n",
            "Relationships:\n",
            "\n",
            "Okay, let's tackle this query. The user wants me to extract entities and relationships from the given text based on specific types. First, I need to read through the i...\n",
            "\n",
            "Processing 4/427: Old Miner, New Tricks...\n"
          ]
        },
        {
          "output_type": "stream",
          "name": "stderr",
          "text": [
            "The following generation flags are not valid and may be ignored: ['temperature', 'top_p', 'top_k']. Set `TRANSFORMERS_VERBOSITY=info` for more details.\n"
          ]
        },
        {
          "output_type": "stream",
          "name": "stdout",
          "text": [
            "🔍 Raw model output: Named Entities: (H2miner, Threat Type), (Lcrypt0rx, Malware), (Lcryx, Malware), (Ransomware, Threat Type), (Linux, Platform), (Windows, Platform), (Containers, Platform), (KinSing, Tool), (Xmrig miner...\n",
            "\n",
            "Processing 5/427: How FortiSandbox 5.0 Detects Dark 101 Ransomware Despite Eva...\n"
          ]
        },
        {
          "output_type": "stream",
          "name": "stderr",
          "text": [
            "The following generation flags are not valid and may be ignored: ['temperature', 'top_p', 'top_k']. Set `TRANSFORMERS_VERBOSITY=info` for more details.\n"
          ]
        },
        {
          "output_type": "stream",
          "name": "stdout",
          "text": [
            "🔍 Raw model output: Named Entities: (FortiGuard Labs, Attacker), (Dark 101, Malware), (ransomware, Threat Type), (Bitcoin, Currency), (FortiSandbox, Tool)\n",
            "Relationships: (FortiGuard Labs, analyze, Dark 101), (Dark 101, i...\n",
            "  ✅ Processed 5/427 articles\n",
            "\n",
            "Processing 6/427: Catching Smarter Mice with Even Smarter Cats...\n"
          ]
        },
        {
          "output_type": "stream",
          "name": "stderr",
          "text": [
            "The following generation flags are not valid and may be ignored: ['temperature', 'top_p', 'top_k']. Set `TRANSFORMERS_VERBOSITY=info` for more details.\n"
          ]
        },
        {
          "output_type": "stream",
          "name": "stdout",
          "text": [
            "🔍 Raw model output: Named Entities: \n",
            "Relationships:\n",
            "\n",
            "Okay, let's tackle this query. The user wants me to extract entities and relationships from the given text based on specific types. First, I need to go through the inp...\n",
            "\n",
            "Processing 7/427: NordDragonScan: Quiet Data-Harvester on Windows...\n"
          ]
        },
        {
          "output_type": "stream",
          "name": "stderr",
          "text": [
            "The following generation flags are not valid and may be ignored: ['temperature', 'top_p', 'top_k']. Set `TRANSFORMERS_VERBOSITY=info` for more details.\n"
          ]
        },
        {
          "output_type": "stream",
          "name": "stdout",
          "text": [
            "🔍 Raw model output: Named Entities: (NordDragonScan, Malware), (kpuszkiev.com, Domain), (hxxps://cutt[.]ly/4rnmskDe, URL), (hxxps://secfileshare[.]com, URL), (Укрспецзв_Акт_30_05_25_ДР25_2313_13 від 26_02_2025.rar, File)...\n",
            "\n",
            "Processing 8/427: RondoDox Unveiled: Breaking Down a New Botnet Threat...\n"
          ]
        },
        {
          "output_type": "stream",
          "name": "stderr",
          "text": [
            "The following generation flags are not valid and may be ignored: ['temperature', 'top_p', 'top_k']. Set `TRANSFORMERS_VERBOSITY=info` for more details.\n"
          ]
        },
        {
          "output_type": "stream",
          "name": "stdout",
          "text": [
            "🔍 Raw model output: Named Entities: (RondoDox, Botnet), (CVE-2024-3721, Vulnerability), (CVE-2024-12856, Vulnerability), (TBK DVR-4104, Device), (TBK DVR-4216, Device), (Four-Faith router models F3x24, Device), (Four-Fai...\n",
            "\n",
            "Processing 9/427: DCRAT Impersonating the Colombian Government...\n"
          ]
        },
        {
          "output_type": "stream",
          "name": "stderr",
          "text": [
            "You seem to be using the pipelines sequentially on GPU. In order to maximize efficiency please use a dataset\n",
            "The following generation flags are not valid and may be ignored: ['temperature', 'top_p', 'top_k']. Set `TRANSFORMERS_VERBOSITY=info` for more details.\n"
          ]
        },
        {
          "output_type": "stream",
          "name": "stdout",
          "text": [
            "🔍 Raw model output: Named Entities: (DCRAT, Malware), (Remote Access Trojan, Threat Type), (Columbia, IP), (FortiMail IR team, Attacker), (password protected archive, Technique), (obfuscation, Technique), (steganography,...\n",
            "\n",
            "Processing 10/427: Dissecting a Malicious Havoc Sample...\n"
          ]
        },
        {
          "output_type": "stream",
          "name": "stderr",
          "text": [
            "The following generation flags are not valid and may be ignored: ['temperature', 'top_p', 'top_k']. Set `TRANSFORMERS_VERBOSITY=info` for more details.\n"
          ]
        },
        {
          "output_type": "stream",
          "name": "stdout",
          "text": [
            "🔍 Raw model output: Named Entities: (Havoc, Malware), (C2, Technique), (conhost.exe, File), (cmd.exe, File), (C2 server, Domain), (conhost.dll, File), (Task Scheduler, Tool)\n",
            "Relationships: (Havoc, uses, C2), (Havoc, depl...\n",
            "  ✅ Processed 10/427 articles\n",
            "\n",
            "Processing 11/427: Threat Group Targets Companies in Taiwan...\n"
          ]
        },
        {
          "output_type": "stream",
          "name": "stderr",
          "text": [
            "The following generation flags are not valid and may be ignored: ['temperature', 'top_p', 'top_k']. Set `TRANSFORMERS_VERBOSITY=info` for more details.\n"
          ]
        },
        {
          "output_type": "stream",
          "name": "stdout",
          "text": [
            "🔍 Raw model output: Named Entities: (FortiGuard Labs, Attacker), (Microsoft Windows, Platform), (winos 4.0, Malware), (Taiwan's National Taxation Bureau, Attacker), (twszz[.]xin, Domain), (tax inspection, File), (account...\n",
            "\n",
            "Processing 12/427: RolandSkimmer: Silent Credit Card Thief Uncovered...\n"
          ]
        },
        {
          "output_type": "stream",
          "name": "stderr",
          "text": [
            "The following generation flags are not valid and may be ignored: ['temperature', 'top_p', 'top_k']. Set `TRANSFORMERS_VERBOSITY=info` for more details.\n"
          ]
        },
        {
          "output_type": "stream",
          "name": "stdout",
          "text": [
            "🔍 Raw model output: Named Entities: (RolandSkimmer, Malware), (Microsoft Windows, Platform), (Bulgaria, Country), (2025 Global Threat Landscape Report, Report), (LNK file, File), (faktura_3716804.zip, File), (faktura_106...\n",
            "\n",
            "Processing 13/427: How a Malicious Excel File (CVE-2017-0199) Delivers the Form...\n"
          ]
        },
        {
          "output_type": "stream",
          "name": "stderr",
          "text": [
            "The following generation flags are not valid and may be ignored: ['temperature', 'top_p', 'top_k']. Set `TRANSFORMERS_VERBOSITY=info` for more details.\n"
          ]
        },
        {
          "output_type": "stream",
          "name": "stdout",
          "text": [
            "🔍 Raw model output: Named Entities: (Microsoft Windows, Platform), (Windows Users, Impacted Party), (Control and Collect Sensitive Information from a Victim’s Device, Impact), (Critical, Severity Level), (phishing, Threa...\n",
            "\n",
            "Processing 14/427: Deep Dive into a Dumped Malware without a PE Header...\n"
          ]
        },
        {
          "output_type": "stream",
          "name": "stderr",
          "text": [
            "The following generation flags are not valid and may be ignored: ['temperature', 'top_p', 'top_k']. Set `TRANSFORMERS_VERBOSITY=info` for more details.\n"
          ]
        },
        {
          "output_type": "stream",
          "name": "stdout",
          "text": [
            "🔍 Raw model output: Named Entities: (FortiGuard Incident Response Team, Attacker), (malware, Malware), (batch of scripts, File), (PowerShell, Tool), (fullout, File), (2025 Global Threat Landscape Report, File), (dllhost....\n",
            "\n",
            "Processing 15/427: Infostealer Malware FormBook Spread via Phishing Campaign – ...\n"
          ]
        },
        {
          "output_type": "stream",
          "name": "stderr",
          "text": [
            "The following generation flags are not valid and may be ignored: ['temperature', 'top_p', 'top_k']. Set `TRANSFORMERS_VERBOSITY=info` for more details.\n"
          ]
        },
        {
          "output_type": "stream",
          "name": "stdout",
          "text": [
            "🔍 Raw model output: Named Entities: (FormBook, Malware), (CVE-2017-11882, Vulnerability), (ImagingDevices.exe, File), (Heaven's Gate, Technique), (C2 server, Domain), (32-bit, Technique)\n",
            "Relationships: (FormBook, exploit...\n",
            "  ✅ Processed 15/427 articles\n",
            "\n",
            "Processing 16/427: Ransomware Roundup – VanHelsing...\n"
          ]
        },
        {
          "output_type": "stream",
          "name": "stderr",
          "text": [
            "The following generation flags are not valid and may be ignored: ['temperature', 'top_p', 'top_k']. Set `TRANSFORMERS_VERBOSITY=info` for more details.\n"
          ]
        },
        {
          "output_type": "stream",
          "name": "stdout",
          "text": [
            "🔍 Raw model output: Named Entities: (VanHelsing, Malware), (ransomware, Threat Type), (Microsoft Windows, Platform), (SHA2: 99959C5141F62D4FBB60EFDC05260B6E956651963D29C36845F435815062FD98, Hash), (2025 Global Threat Lan...\n",
            "\n",
            "Processing 17/427: Horabot Unleashed: A Stealthy Phishing Threat...\n"
          ]
        },
        {
          "output_type": "stream",
          "name": "stderr",
          "text": [
            "The following generation flags are not valid and may be ignored: ['temperature', 'top_p', 'top_k']. Set `TRANSFORMERS_VERBOSITY=info` for more details.\n"
          ]
        },
        {
          "output_type": "stream",
          "name": "stdout",
          "text": [
            "🔍 Raw model output: Named Entities: (Horabot, Malware), (phishing, Technique), (Outlook COM automation, Technique), (VBScript, Tool), (AutoIt, Tool), (PowerShell, Tool), (email credentials, File), (contact lists, File), ...\n",
            "\n",
            "Processing 18/427: Multilayered Email Attack: How a PDF Invoice and Geo-Fencing...\n"
          ]
        },
        {
          "output_type": "stream",
          "name": "stderr",
          "text": [
            "The following generation flags are not valid and may be ignored: ['temperature', 'top_p', 'top_k']. Set `TRANSFORMERS_VERBOSITY=info` for more details.\n"
          ]
        },
        {
          "output_type": "stream",
          "name": "stdout",
          "text": [
            "🔍 Raw model output: Named Entities: (FortiGuard Labs, Attacker), (Windows, Platform), (Linux, Platform), (macOS, Platform), (Java Runtime Environment, Tool), (Remote Access Trojan, Threat Type), (RAT, Malware), (Spain, C...\n",
            "\n",
            "Processing 19/427: FortiGuard Incident Response Team Detects Intrusion into Mid...\n"
          ]
        },
        {
          "output_type": "stream",
          "name": "stderr",
          "text": [
            "The following generation flags are not valid and may be ignored: ['temperature', 'top_p', 'top_k']. Set `TRANSFORMERS_VERBOSITY=info` for more details.\n"
          ]
        },
        {
          "output_type": "stream",
          "name": "stdout",
          "text": [
            "🔍 Raw model output: Named Entities: (FortiGuard Incident Response, Attacker), (critical national infrastructure, Target), (Iranian state-sponsored threat group, Attacker), (Havoc, Malware), (HanifNet, Malware), (HXLibrar...\n",
            "\n",
            "Processing 20/427: Key Takeaways from the 2025 Global Threat Landscape Report...\n"
          ]
        },
        {
          "output_type": "stream",
          "name": "stderr",
          "text": [
            "The following generation flags are not valid and may be ignored: ['temperature', 'top_p', 'top_k']. Set `TRANSFORMERS_VERBOSITY=info` for more details.\n"
          ]
        },
        {
          "output_type": "stream",
          "name": "stdout",
          "text": [
            "🔍 Raw model output: Named Entities: \n",
            "Relationships:\n",
            "\n",
            "Okay, let's tackle this query. The user wants me to extract entities and relationships from the given text based on specific types. First, I need to go through the inp...\n",
            "  ✅ Processed 20/427 articles\n",
            "\n",
            "Processing 21/427: IngressNightmare: Understanding CVE‑2025‑1974 in Kubernetes ...\n"
          ]
        },
        {
          "output_type": "stream",
          "name": "stderr",
          "text": [
            "The following generation flags are not valid and may be ignored: ['temperature', 'top_p', 'top_k']. Set `TRANSFORMERS_VERBOSITY=info` for more details.\n"
          ]
        },
        {
          "output_type": "stream",
          "name": "stdout",
          "text": [
            "🔍 Raw model output: Named Entities: (Ingress-NGINX, Tool), (CVE‑2025‑1974, Vulnerability), (RCE, Technique), (Wiz, Inc., Attacker), (Lacework FortiCNAPP, Tool), (Fortinet Security Fabric, Tool)\n",
            "Relationships: (Ingress-NG...\n",
            "\n",
            "Processing 22/427: Infostealer Malware FormBook Spread via Phishing Campaign – ...\n"
          ]
        },
        {
          "output_type": "stream",
          "name": "stderr",
          "text": [
            "The following generation flags are not valid and may be ignored: ['temperature', 'top_p', 'top_k']. Set `TRANSFORMERS_VERBOSITY=info` for more details.\n"
          ]
        },
        {
          "output_type": "stream",
          "name": "stdout",
          "text": [
            "🔍 Raw model output: Named Entities: (phishing, Technique), (malicious Word document, File), (CVE-2017-11882, Vulnerability), (Formbook, Malware), (Windows, OS), (2025 Global Threat Landscape Report, Report), (FortiGuard ...\n",
            "\n",
            "Processing 23/427: New Rust Botnet \"RustoBot\" is Routed via Routers...\n"
          ]
        },
        {
          "output_type": "stream",
          "name": "stderr",
          "text": [
            "The following generation flags are not valid and may be ignored: ['temperature', 'top_p', 'top_k']. Set `TRANSFORMERS_VERBOSITY=info` for more details.\n"
          ]
        },
        {
          "output_type": "stream",
          "name": "stdout",
          "text": [
            "🔍 Raw model output: Named Entities: (RustoBot, Malware), (Botnet, Threat Type), (TOTOLINK N600R V4.3.0cu.7570_B20200620, Device), (TOTOLINK A830R V5.9c.4729_B20191112, Device), (A3100R V4.1.2cu.5050_B20200504, Device), (...\n",
            "\n",
            "Processing 24/427: Malicious NPM Packages Targeting PayPal Users...\n"
          ]
        },
        {
          "output_type": "stream",
          "name": "stderr",
          "text": [
            "The following generation flags are not valid and may be ignored: ['temperature', 'top_p', 'top_k']. Set `TRANSFORMERS_VERBOSITY=info` for more details.\n"
          ]
        },
        {
          "output_type": "stream",
          "name": "stdout",
          "text": [
            "🔍 Raw model output: Named Entities: (FortiGuard Labs, Organization), (NPM, Tool), (tommyboy_h1, Attacker), (tommyboy_h2, Attacker), (PayPal, Organization), (oauth2-paypal, File), (buttonfactoryserv-paypal, File), (2025 G...\n",
            "\n",
            "Processing 25/427: Real-Time Anti-Phishing: Essential Defense Against Evolving ...\n"
          ]
        },
        {
          "output_type": "stream",
          "name": "stderr",
          "text": [
            "The following generation flags are not valid and may be ignored: ['temperature', 'top_p', 'top_k']. Set `TRANSFORMERS_VERBOSITY=info` for more details.\n"
          ]
        },
        {
          "output_type": "stream",
          "name": "stdout",
          "text": [
            "🔍 Raw model output: Named Entities: (Phishing, Threat Type)\n",
            "Relationships: (Phishing, target, various platforms and services), (Phishing, use, AI), (Phishing, use, personalized messages), (Phishing, use, convincing fake ...\n",
            "  ✅ Processed 25/427 articles\n",
            "\n",
            "Processing 26/427: Fortinet Identifies Malicious Packages in the Wild: Insights...\n"
          ]
        },
        {
          "output_type": "stream",
          "name": "stderr",
          "text": [
            "The following generation flags are not valid and may be ignored: ['temperature', 'top_p', 'top_k']. Set `TRANSFORMERS_VERBOSITY=info` for more details.\n"
          ]
        },
        {
          "output_type": "stream",
          "name": "stdout",
          "text": [
            "🔍 Raw model output: Named Entities: \n",
            "Relationships:\n",
            "\n",
            "Okay, let's tackle this query. The user wants me to extract entities and relationships from the given text based on specific types. First, I need to go through the inp...\n",
            "\n",
            "Processing 27/427: Havoc: SharePoint with Microsoft Graph API turns into FUD C2...\n"
          ]
        },
        {
          "output_type": "stream",
          "name": "stderr",
          "text": [
            "The following generation flags are not valid and may be ignored: ['temperature', 'top_p', 'top_k']. Set `TRANSFORMERS_VERBOSITY=info` for more details.\n"
          ]
        },
        {
          "output_type": "stream",
          "name": "stdout",
          "text": [
            "🔍 Raw model output: Named Entities: (Havoc, Threat Type), (Cobalt Strike, Tool), (Silver, Tool), (Winos4.0, Tool), (Havoc Demon Agent, Malware), (phishing, Technique), (ClickFix, Tool), (SharePoint, Tool), (Microsoft Gra...\n",
            "\n",
            "Processing 28/427: Winos 4.0 Spreads via Impersonation of Official Email to Tar...\n"
          ]
        },
        {
          "output_type": "stream",
          "name": "stderr",
          "text": [
            "The following generation flags are not valid and may be ignored: ['temperature', 'top_p', 'top_k']. Set `TRANSFORMERS_VERBOSITY=info` for more details.\n"
          ]
        },
        {
          "output_type": "stream",
          "name": "stdout",
          "text": [
            "🔍 Raw model output: Named Entities: (Winos4.0, Malware), (Microsoft Windows, Platform), (Taiwan, Location), (C2 server, Domain), (National Taxation Bureau, Organization), (Ministry of Finance, Organization), (ZIP file, F...\n",
            "\n",
            "Processing 29/427: FortiSandbox 5.0 Detects Evolving Snake Keylogger Variant...\n"
          ]
        },
        {
          "output_type": "stream",
          "name": "stderr",
          "text": [
            "The following generation flags are not valid and may be ignored: ['temperature', 'top_p', 'top_k']. Set `TRANSFORMERS_VERBOSITY=info` for more details.\n"
          ]
        },
        {
          "output_type": "stream",
          "name": "stdout",
          "text": [
            "🔍 Raw model output: Named Entities: (FortiGuard Labs, Attacker), (Microsoft Windows, Platform), (Windows users, Impacted party), (Snake Keylogger, Malware), (404 Keylogger, Malware), (AutoIt/Injector.GTY!tr, Malware), (C...\n",
            "\n",
            "Processing 30/427: Ransomware Roundup – Lynx...\n"
          ]
        },
        {
          "output_type": "stream",
          "name": "stderr",
          "text": [
            "The following generation flags are not valid and may be ignored: ['temperature', 'top_p', 'top_k']. Set `TRANSFORMERS_VERBOSITY=info` for more details.\n"
          ]
        },
        {
          "output_type": "stream",
          "name": "stdout",
          "text": [
            "🔍 Raw model output: Named Entities: (Lynx, Malware), (Ransomware, Threat Type), (INC, Malware), (Microsoft Windows, Platform), (ESXi, Platform), (2025 Global Threat Landscape Report, Report)\n",
            "Relationships: (Lynx, is a, R...\n",
            "  ✅ Processed 30/427 articles\n",
            "\n",
            "Processing 31/427: Analyzing ELF/Sshdinjector. A!tr with a Human and Artificial...\n"
          ]
        },
        {
          "output_type": "stream",
          "name": "stderr",
          "text": [
            "The following generation flags are not valid and may be ignored: ['temperature', 'top_p', 'top_k']. Set `TRANSFORMERS_VERBOSITY=info` for more details.\n"
          ]
        },
        {
          "output_type": "stream",
          "name": "stdout",
          "text": [
            "🔍 Raw model output: Named Entities: (ELF/Sshdinjector.A!tris, Malware), (DaggerFly, Attacker), (Data exfiltration, Threat Type), (Linux, Platform), (libsshd.so, File), (haha, Function), (heihei, Function), (xixi, Functio...\n",
            "\n",
            "Processing 32/427: Coyote Banking Trojan: A Stealthy Attack via LNK Files...\n"
          ]
        },
        {
          "output_type": "stream",
          "name": "stderr",
          "text": [
            "The following generation flags are not valid and may be ignored: ['temperature', 'top_p', 'top_k']. Set `TRANSFORMERS_VERBOSITY=info` for more details.\n"
          ]
        },
        {
          "output_type": "stream",
          "name": "stdout",
          "text": [
            "🔍 Raw model output: Named Entities: (Coyote Banking Trojan, Malware), (PowerShell, Tool), (hxxps://tbet[.]geontrigame[.]com/zxchzzmism, URL), (Machine ID, File), (Brazil, Country), (2025 Global Threat Landscape Report, D...\n",
            "\n",
            "Processing 33/427: Deep Dive Into a Linux Rootkit Malware...\n"
          ]
        },
        {
          "output_type": "stream",
          "name": "stderr",
          "text": [
            "The following generation flags are not valid and may be ignored: ['temperature', 'top_p', 'top_k']. Set `TRANSFORMERS_VERBOSITY=info` for more details.\n"
          ]
        },
        {
          "output_type": "stream",
          "name": "stdout",
          "text": [
            "🔍 Raw model output: Named Entities: (FortiGuard Labs Threat Research, Attacker), (CentOS Linux, Platform), (CentOS Users, Impacted Party), (Critical, Severity Level), (azero day exploit, Vulnerability), (FortiGuard Incid...\n",
            "\n",
            "Processing 34/427: Phish-free PayPal Phishing...\n"
          ]
        },
        {
          "output_type": "stream",
          "name": "stderr",
          "text": [
            "The following generation flags are not valid and may be ignored: ['temperature', 'top_p', 'top_k']. Set `TRANSFORMERS_VERBOSITY=info` for more details.\n"
          ]
        },
        {
          "output_type": "stream",
          "name": "stdout",
          "text": [
            "🔍 Raw model output: Named Entities: (phishing, Technique), (PayPal, Tool), (Billingdepartments1[@]gkjyryfjy876.onmicrosoft.com, Domain), (hxxp://PayPal[.]com, URL)\n",
            "Relationships: (phishing, uses, hxxp://PayPal[.]com), (p...\n",
            "\n",
            "Processing 35/427: Catching \"EC2 Grouper\"- no indicators required!...\n"
          ]
        },
        {
          "output_type": "stream",
          "name": "stderr",
          "text": [
            "The following generation flags are not valid and may be ignored: ['temperature', 'top_p', 'top_k']. Set `TRANSFORMERS_VERBOSITY=info` for more details.\n"
          ]
        },
        {
          "output_type": "stream",
          "name": "stdout",
          "text": [
            "🔍 Raw model output: Named Entities: (EC2 Grouper, Attacker), (Lacework FortiCNAPP, Tool), (AWS tools, Tool), (PowerShell, Tool), (AWSPowerShell.Common/4.1.90.0.NET_Core/6.0.5 OS/Microsoft_Windows_10.0.17763 PowerShellCor...\n",
            "  ✅ Processed 35/427 articles\n",
            "\n",
            "Processing 36/427: Botnets Continue to Target Aging D-Link Vulnerabilities...\n"
          ]
        },
        {
          "output_type": "stream",
          "name": "stderr",
          "text": [
            "The following generation flags are not valid and may be ignored: ['temperature', 'top_p', 'top_k']. Set `TRANSFORMERS_VERBOSITY=info` for more details.\n"
          ]
        },
        {
          "output_type": "stream",
          "name": "stdout",
          "text": [
            "🔍 Raw model output: Named Entities: (FortiGuard Labs, Attacker), (D-Link DIR-645, Device), (D-Link DIR-806, Device), (D-Link GO-RT-AC750 GORTAC750_revA_v101b03, Device), (D-Link GO-RT-AC750_revB_FWv200b02, Device), (D-Li...\n",
            "\n",
            "Processing 37/427: Analyzing Malicious Intent in Python Code: A Case Study...\n"
          ]
        },
        {
          "output_type": "stream",
          "name": "stderr",
          "text": [
            "The following generation flags are not valid and may be ignored: ['temperature', 'top_p', 'top_k']. Set `TRANSFORMERS_VERBOSITY=info` for more details.\n"
          ]
        },
        {
          "output_type": "stream",
          "name": "stdout",
          "text": [
            "🔍 Raw model output: Named Entities: (FortiGuard Labs Threat Research, Attacker), (Zebo-0.1.0, Malware), (Cometlogger-0.1, Malware), (pynput, Tool), (ImageGrab, Tool), (webhook injection, Technique), (Keylogging, Techniqu...\n",
            "\n",
            "Processing 38/427: Fortinet Contributes to Major Cybercrime Operation Arrests...\n"
          ]
        },
        {
          "output_type": "stream",
          "name": "stderr",
          "text": [
            "The following generation flags are not valid and may be ignored: ['temperature', 'top_p', 'top_k']. Set `TRANSFORMERS_VERBOSITY=info` for more details.\n"
          ]
        },
        {
          "output_type": "stream",
          "name": "stdout",
          "text": [
            "🔍 Raw model output: Named Entities: (INTERPOL, Attacker), (AFRIPOL, Attacker), (ransomware, Threat Type), (digital extortion, Threat Type), (online scams, Threat Type), (business email compromise, Threat Type), (Operatio...\n",
            "\n",
            "Processing 39/427: SmokeLoader Attack Targets Companies in Taiwan...\n"
          ]
        },
        {
          "output_type": "stream",
          "name": "stderr",
          "text": [
            "The following generation flags are not valid and may be ignored: ['temperature', 'top_p', 'top_k']. Set `TRANSFORMERS_VERBOSITY=info` for more details.\n"
          ]
        },
        {
          "output_type": "stream",
          "name": "stdout",
          "text": [
            "🔍 Raw model output: Named Entities: (SmokeLoader, Malware), (Microsoft Windows, Platform), (Taiwan, Location), (phishing, Technique), (C2 server, Tool), (VBS file, File), (AndeLoader, Malware)\n",
            "Relationships: (SmokeLoader...\n",
            "\n",
            "Processing 40/427: Ransomware Roundup - Interlock...\n"
          ]
        },
        {
          "output_type": "stream",
          "name": "stderr",
          "text": [
            "The following generation flags are not valid and may be ignored: ['temperature', 'top_p', 'top_k']. Set `TRANSFORMERS_VERBOSITY=info` for more details.\n"
          ]
        },
        {
          "output_type": "stream",
          "name": "stdout",
          "text": [
            "🔍 Raw model output: Named Entities: (Interlock, Malware), (Ransomware, Threat Type), (Microsoft Windows, OS), (FreeBSD, OS), (Sina Kheirkhah, Person), (SinSinology, Handle), (Windows, OS)\n",
            "Relationships: (Interlock, is, R...\n",
            "  ✅ Processed 40/427 articles\n",
            "\n",
            "Processing 41/427: Advanced Cyberthreats Targeting Holiday Shoppers...\n"
          ]
        },
        {
          "output_type": "stream",
          "name": "stderr",
          "text": [
            "The following generation flags are not valid and may be ignored: ['temperature', 'top_p', 'top_k']. Set `TRANSFORMERS_VERBOSITY=info` for more details.\n"
          ]
        },
        {
          "output_type": "stream",
          "name": "stdout",
          "text": [
            "🔍 Raw model output: Named Entities: (FortiGuard Labs, Organization), (Black Friday, Event), (Cyber Monday, Event), (darknet, Tool), (AI-powered phishing lures, Technique), (sophisticated website cloning tools, Tool), (re...\n",
            "\n",
            "Processing 42/427: Threat Predictions for 2025: Get Ready for Bigger, Bolder At...\n"
          ]
        },
        {
          "output_type": "stream",
          "name": "stderr",
          "text": [
            "The following generation flags are not valid and may be ignored: ['temperature', 'top_p', 'top_k']. Set `TRANSFORMERS_VERBOSITY=info` for more details.\n"
          ]
        },
        {
          "output_type": "stream",
          "name": "stdout",
          "text": [
            "🔍 Raw model output: Named Entities: \n",
            "Relationships:\n",
            "\n",
            "Okay, let's tackle this query. The user wants me to extract entities and relationships from the given text based on specific types. First, I need to read through the i...\n",
            "\n",
            "Processing 43/427: New Campaign Uses Remcos RAT to Exploit Victims...\n"
          ]
        },
        {
          "output_type": "stream",
          "name": "stderr",
          "text": [
            "The following generation flags are not valid and may be ignored: ['temperature', 'top_p', 'top_k']. Set `TRANSFORMERS_VERBOSITY=info` for more details.\n"
          ]
        },
        {
          "output_type": "stream",
          "name": "stdout",
          "text": [
            "🔍 Raw model output: Named Entities: (FortiGuard Labs, Attacker), (Microsoft Windows, Platform), (Windows Users, Impacted Party), (Remcos RAT, Malware), (phishing, Technique), (CVE-2017-0199, Vulnerability), (Excel, Tool)...\n",
            "\n",
            "Processing 44/427: Threat Campaign Spreads Winos4.0 Through Game Application...\n"
          ]
        },
        {
          "output_type": "stream",
          "name": "stderr",
          "text": [
            "The following generation flags are not valid and may be ignored: ['temperature', 'top_p', 'top_k']. Set `TRANSFORMERS_VERBOSITY=info` for more details.\n"
          ]
        },
        {
          "output_type": "stream",
          "name": "stdout",
          "text": [
            "🔍 Raw model output: Named Entities: (Winos4.0, Malware), (Gh0strat, Malware), (Silver Fox, Threat Type), (Microsoft Windows, Platform), (ad59t82g[.]com, Domain), (you.dll, File), (校园政务, File)\n",
            "Relationships: (Winos4.0, de...\n",
            "\n",
            "Processing 45/427: Burning Zero Days: Suspected Nation-State Adversary Targets ...\n"
          ]
        },
        {
          "output_type": "stream",
          "name": "stderr",
          "text": [
            "The following generation flags are not valid and may be ignored: ['temperature', 'top_p', 'top_k']. Set `TRANSFORMERS_VERBOSITY=info` for more details.\n"
          ]
        },
        {
          "output_type": "stream",
          "name": "stdout",
          "text": [
            "🔍 Raw model output: Named Entities: (FortiGuard Labs, Attacker), (Ivanti Cloud Services Appliance, Tool), (Ivanti Cloud Services Appliance, Vulnerability), (CVE-2024-8190, Vulnerability), (206[.]189[.]156[.]69, IP)\n",
            "Relat...\n",
            "  ✅ Processed 45/427 articles\n",
            "\n",
            "Processing 46/427: Threat Actors Exploit GeoServer Vulnerability CVE-2024-36401...\n"
          ]
        },
        {
          "output_type": "stream",
          "name": "stderr",
          "text": [
            "The following generation flags are not valid and may be ignored: ['temperature', 'top_p', 'top_k']. Set `TRANSFORMERS_VERBOSITY=info` for more details.\n"
          ]
        },
        {
          "output_type": "stream",
          "name": "stdout",
          "text": [
            "🔍 Raw model output: Named Entities: (GeoServer, Tool), (CVE-2024-36401, Vulnerability), (CISA, Attacker), (IPS, Tool), (botnet, Threat Type), (GOREVERSE, Malware), (command and control server, Domain)\n",
            "Relationships: (Geo...\n",
            "\n",
            "Processing 47/427: Emansrepo Stealer: Multi-Vector Attack Chains...\n"
          ]
        },
        {
          "output_type": "stream",
          "name": "stderr",
          "text": [
            "The following generation flags are not valid and may be ignored: ['temperature', 'top_p', 'top_k']. Set `TRANSFORMERS_VERBOSITY=info` for more details.\n"
          ]
        },
        {
          "output_type": "stream",
          "name": "stdout",
          "text": [
            "🔍 Raw model output: Named Entities: (Emansrepo, Malware), (phishing, Technique), (Purchase-Order.7z, File), (Purchase-Order.exe, File), (Python, Tool), (PyInstaller, Tool)\n",
            "Relationships: (Emansrepo, uses, phishing), (Ema...\n",
            "\n",
            "Processing 48/427: Ransomware Roundup - Underground...\n"
          ]
        },
        {
          "output_type": "stream",
          "name": "stderr",
          "text": [
            "The following generation flags are not valid and may be ignored: ['temperature', 'top_p', 'top_k']. Set `TRANSFORMERS_VERBOSITY=info` for more details.\n"
          ]
        },
        {
          "output_type": "stream",
          "name": "stdout",
          "text": [
            "🔍 Raw model output: Named Entities: (Underground, Malware), (Ransomware, Threat Type), (Microsoft Windows, Platform), (Microsoft Office, Tool), (CVE-2023-36884, Vulnerability), (RomCom group, Attacker), (Storm-0978, Atta...\n",
            "\n",
            "Processing 49/427: Deep Analysis of Snake Keylogger’s New Variant...\n"
          ]
        },
        {
          "output_type": "stream",
          "name": "stderr",
          "text": [
            "The following generation flags are not valid and may be ignored: ['temperature', 'top_p', 'top_k']. Set `TRANSFORMERS_VERBOSITY=info` for more details.\n"
          ]
        },
        {
          "output_type": "stream",
          "name": "stdout",
          "text": [
            "🔍 Raw model output: Named Entities: (Snake Keylogger, Malware), (404 Keylogger, Aka), (KrakenKeylogger, Aka), (Microsoft Windows, Platform), (Windows Users, Impacted Party), (High, Severity Level), (phishing, Threat Type...\n",
            "\n",
            "Processing 50/427: A Deep Dive into a New ValleyRAT Campaign Targeting Chinese ...\n"
          ]
        },
        {
          "output_type": "stream",
          "name": "stderr",
          "text": [
            "The following generation flags are not valid and may be ignored: ['temperature', 'top_p', 'top_k']. Set `TRANSFORMERS_VERBOSITY=info` for more details.\n"
          ]
        },
        {
          "output_type": "stream",
          "name": "stdout",
          "text": [
            "🔍 Raw model output: Named Entities: (ValleyRAT, Malware), (Microsoft Windows, Platform), (Chinese speakers, Target), (e-commerce, Threat Type), (finance, Threat Type), (sales, Threat Type), (management enterprises, Threa...\n",
            "  ✅ Processed 50/427 articles\n",
            "\n",
            "Processing 51/427: Preparation Is Not Optional: 10 Incident Response Readiness ...\n"
          ]
        },
        {
          "output_type": "stream",
          "name": "stderr",
          "text": [
            "The following generation flags are not valid and may be ignored: ['temperature', 'top_p', 'top_k']. Set `TRANSFORMERS_VERBOSITY=info` for more details.\n"
          ]
        },
        {
          "output_type": "stream",
          "name": "stdout",
          "text": [
            "🔍 Raw model output: No related entities and relations\n",
            "\n",
            "Okay, let's see. The user provided a text about FortiGuard Labs discussing cyberthreats and the importance of preparation. The task is to extract entities and relati...\n",
            "\n",
            "Processing 52/427: PureHVNC Deployed via Python Multi-stage Loader...\n"
          ]
        },
        {
          "output_type": "stream",
          "name": "stderr",
          "text": [
            "The following generation flags are not valid and may be ignored: ['temperature', 'top_p', 'top_k']. Set `TRANSFORMERS_VERBOSITY=info` for more details.\n"
          ]
        },
        {
          "output_type": "stream",
          "name": "stdout",
          "text": [
            "🔍 Raw model output: Named Entities: (FortiGuard Labs, Attacker), (Microsoft Windows, Platform), (VenomRAT, Malware), (ScrubCrypt, Tool), (phishing, Technique), (XWorm, Malware), (AsyncRAT, Malware), (PureHVNC, Malware), ...\n",
            "\n",
            "Processing 53/427: Malicious Packages Hidden in PyPI...\n"
          ]
        },
        {
          "output_type": "stream",
          "name": "stderr",
          "text": [
            "The following generation flags are not valid and may be ignored: ['temperature', 'top_p', 'top_k']. Set `TRANSFORMERS_VERBOSITY=info` for more details.\n"
          ]
        },
        {
          "output_type": "stream",
          "name": "stdout",
          "text": [
            "🔍 Raw model output: Named Entities: (FortiGuard Labs, Attacker), (PyPI, Tool), (zlibxjson, File), (8.2, Version), (malicious URL, URL), (Discord_token_grabber.py, File), (get_cookies.py, File), (password_grabber.py, File...\n",
            "\n",
            "Processing 54/427: Phishing Campaign Targeting Mobile Users in India Using Indi...\n"
          ]
        },
        {
          "output_type": "stream",
          "name": "stderr",
          "text": [
            "The following generation flags are not valid and may be ignored: ['temperature', 'top_p', 'top_k']. Set `TRANSFORMERS_VERBOSITY=info` for more details.\n"
          ]
        },
        {
          "output_type": "stream",
          "name": "stdout",
          "text": [
            "🔍 Raw model output: Named Entities: (India Post, Organization), (iPhone, Device), (iMessage, Tool), (Smishing Triad, Attacker), (Hotmail, Email Service), (Gmail, Email Service), (Yahoo, Email Service), (Apple ID, Account...\n",
            "\n",
            "Processing 55/427: Dark Web Shows Cybercriminals Ready for Olympics. Are You?...\n"
          ]
        },
        {
          "output_type": "stream",
          "name": "stderr",
          "text": [
            "The following generation flags are not valid and may be ignored: ['temperature', 'top_p', 'top_k']. Set `TRANSFORMERS_VERBOSITY=info` for more details.\n"
          ]
        },
        {
          "output_type": "stream",
          "name": "stdout",
          "text": [
            "🔍 Raw model output: Named Entities: \n",
            "Relationships:\n",
            "\n",
            "Okay, let's see. The user provided a text about cyberattacks during major sporting events and wants me to extract entities and relationships based on the specified typ...\n",
            "  ✅ Processed 55/427 articles\n",
            "\n",
            "Processing 56/427: MerkSpy: Exploiting CVE-2021-40444 to Infiltrate Systems...\n"
          ]
        },
        {
          "output_type": "stream",
          "name": "stderr",
          "text": [
            "The following generation flags are not valid and may be ignored: ['temperature', 'top_p', 'top_k']. Set `TRANSFORMERS_VERBOSITY=info` for more details.\n"
          ]
        },
        {
          "output_type": "stream",
          "name": "stdout",
          "text": [
            "🔍 Raw model output: Named Entities: (Spyware, Threat Type), (Microsoft Windows, Platform), (MerkSpy, Malware), (CVE-2021-40444, Vulnerability), (Microsoft Office, Tool), (Microsoft Word, File), (MSHTML, Tool)\n",
            "Relationshi...\n",
            "\n",
            "Processing 57/427: The Growing Threat of Malware Concealed Behind Cloud Service...\n"
          ]
        },
        {
          "output_type": "stream",
          "name": "stderr",
          "text": [
            "The following generation flags are not valid and may be ignored: ['temperature', 'top_p', 'top_k']. Set `TRANSFORMERS_VERBOSITY=info` for more details.\n"
          ]
        },
        {
          "output_type": "stream",
          "name": "stdout",
          "text": [
            "🔍 Raw model output: Named Entities: (FortiGuard Labs, Attacker), (Linux, Platform), (UNSTABLE, Botnet), (Condi, Botnet), (VCRUMS, Malware), (SYK Crypto, Malware), (AWS, Cloud Service), (DriveHQ, Cloud Service), (JAWS web...\n",
            "\n",
            "Processing 58/427: Fickle Stealer Distributed via Multiple Attack Chain...\n"
          ]
        },
        {
          "output_type": "stream",
          "name": "stderr",
          "text": [
            "The following generation flags are not valid and may be ignored: ['temperature', 'top_p', 'top_k']. Set `TRANSFORMERS_VERBOSITY=info` for more details.\n"
          ]
        },
        {
          "output_type": "stream",
          "name": "stdout",
          "text": [
            "🔍 Raw model output: Named Entities: (Fickle Stealer, Malware), (Rust, Tool), (VBA dropper, Tool), (VBA downloader, Tool), (link downloader, Tool), (executable downloader, Tool), (PowerShell, Tool), (u.ps1, File), (bypass...\n",
            "\n",
            "Processing 59/427: Ransomware Roundup – Shinra and Limpopo Ransomware...\n"
          ]
        },
        {
          "output_type": "stream",
          "name": "stderr",
          "text": [
            "The following generation flags are not valid and may be ignored: ['temperature', 'top_p', 'top_k']. Set `TRANSFORMERS_VERBOSITY=info` for more details.\n"
          ]
        },
        {
          "output_type": "stream",
          "name": "stdout",
          "text": [
            "🔍 Raw model output: Named Entities: (Shinra, Malware), (Limpopo, Malware), (Ransomware, Threat Type), (Microsoft Windows, Tool), (VMWare ESXi, Tool), (High, Severity level), (Final Fantasy 7, File)\n",
            "Relationships: (Shinra...\n",
            "\n",
            "Processing 60/427: New Agent Tesla Campaign Targeting Spanish-Speaking People...\n"
          ]
        },
        {
          "output_type": "stream",
          "name": "stderr",
          "text": [
            "The following generation flags are not valid and may be ignored: ['temperature', 'top_p', 'top_k']. Set `TRANSFORMERS_VERBOSITY=info` for more details.\n"
          ]
        },
        {
          "output_type": "stream",
          "name": "stdout",
          "text": [
            "🔍 Raw model output: Named Entities: (Agent Tesla, Malware), (phishing, Technique), (Remote Access Trojan, Threat Type), (RAT, Threat Type), (MS Office, Tool), (JavaScript, Tool), (PowerShell, Tool), (fileless modules, Te...\n",
            "  ✅ Processed 60/427 articles\n",
            "\n",
            "Processing 61/427: Menace Unleashed: Excel File Deploys Cobalt Strike at Ukrain...\n"
          ]
        },
        {
          "output_type": "stream",
          "name": "stderr",
          "text": [
            "The following generation flags are not valid and may be ignored: ['temperature', 'top_p', 'top_k']. Set `TRANSFORMERS_VERBOSITY=info` for more details.\n"
          ]
        },
        {
          "output_type": "stream",
          "name": "stdout",
          "text": [
            "🔍 Raw model output: Named Entities: (FortiGuard Labs, Attacker), (Microsoft Windows, Platform), (Cobalt Strike, Tool), (command and control (C2) server, Domain), (Ukraine, Country), (UAC-0057, Attacker), (PicassoLoader, ...\n",
            "\n",
            "Processing 62/427: zEus Stealer Distributed via Crafted Minecraft Source Pack...\n"
          ]
        },
        {
          "output_type": "stream",
          "name": "stderr",
          "text": [
            "The following generation flags are not valid and may be ignored: ['temperature', 'top_p', 'top_k']. Set `TRANSFORMERS_VERBOSITY=info` for more details.\n"
          ]
        },
        {
          "output_type": "stream",
          "name": "stdout",
          "text": [
            "🔍 Raw model output: Named Entities: (zEus, Malware), (Minecraft, Game), (YouTube, Platform), (WinRAR, Tool), (Windows, OS), (Discord, Platform), (C:\\ProgramData, Directory), (d9d394cc2a743c0147f7c536cbb11d6ea070f2618a12e...\n",
            "\n",
            "Processing 63/427: Key Findings from the 2H 2023 FortiGuard Labs Threat Report...\n"
          ]
        },
        {
          "output_type": "stream",
          "name": "stderr",
          "text": [
            "The following generation flags are not valid and may be ignored: ['temperature', 'top_p', 'top_k']. Set `TRANSFORMERS_VERBOSITY=info` for more details.\n"
          ]
        },
        {
          "output_type": "stream",
          "name": "stdout",
          "text": [
            "🔍 Raw model output: Named Entities: \n",
            "Relationships:\n",
            "\n",
            "Okay, let's tackle this query. The user wants me to extract entities and relationships from the given text based on specific types. First, I need to read through the i...\n",
            "\n",
            "Processing 64/427: New “Goldoon” Botnet Targeting D-Link Devices...\n"
          ]
        },
        {
          "output_type": "stream",
          "name": "stderr",
          "text": [
            "The following generation flags are not valid and may be ignored: ['temperature', 'top_p', 'top_k']. Set `TRANSFORMERS_VERBOSITY=info` for more details.\n"
          ]
        },
        {
          "output_type": "stream",
          "name": "stdout",
          "text": [
            "🔍 Raw model output: Named Entities: (Goldoon, Botnet), (CVE-2015-2051, Vulnerability), (D-Link DIR-645, Device), (D-Link, Company), (94[.]228[.]168[.]60, IP), (dropper, File), (hxxp://94[.]228[.]168[.]60:8080, URL), (DDo...\n",
            "\n",
            "Processing 65/427: Ransomware Roundup - KageNoHitobito and DoNex...\n"
          ]
        },
        {
          "output_type": "stream",
          "name": "stderr",
          "text": [
            "The following generation flags are not valid and may be ignored: ['temperature', 'top_p', 'top_k']. Set `TRANSFORMERS_VERBOSITY=info` for more details.\n"
          ]
        },
        {
          "output_type": "stream",
          "name": "stdout",
          "text": [
            "🔍 Raw model output: Named Entities: (KageNoHitobito, Malware), (DoNex, Malware), (Microsoft Windows, Platform), (Microsoft Windows Users, Impacted Party), (Ransomware, Threat Type), (TOR, Tool), (Chile, Country), (China,...\n",
            "  ✅ Processed 65/427 articles\n",
            "\n",
            "Processing 66/427: Unraveling Cyber Threats: Insights from Code Analysis...\n"
          ]
        },
        {
          "output_type": "stream",
          "name": "stderr",
          "text": [
            "The following generation flags are not valid and may be ignored: ['temperature', 'top_p', 'top_k']. Set `TRANSFORMERS_VERBOSITY=info` for more details.\n"
          ]
        },
        {
          "output_type": "stream",
          "name": "stdout",
          "text": [
            "🔍 Raw model output: Named Entities: (FortiGuard Labs, Attacker), (PyPI, Tool), (discordpy_bypass-1.7, Malware), (March 10, 2024, Date), (March 12, 2024, Date), (theaos, Attacker), (upgrade-colored_0.0.1, Malware)\n",
            "Relatio...\n",
            "\n",
            "Processing 67/427: Botnets Continue Exploiting CVE-2023-1389 for Wide-Scale Spr...\n"
          ]
        },
        {
          "output_type": "stream",
          "name": "stderr",
          "text": [
            "The following generation flags are not valid and may be ignored: ['temperature', 'top_p', 'top_k']. Set `TRANSFORMERS_VERBOSITY=info` for more details.\n"
          ]
        },
        {
          "output_type": "stream",
          "name": "stdout",
          "text": [
            "🔍 Raw model output: Named Entities: (TP-Link Archer AX21 (AX1800), File), (CVE-2023-1389, Vulnerability), (Moobot, Botnet), (Miori, Botnet), (AGoent, Malware), (Gafgyt Variant, Botnet), (hxxp://5[.]10[.]249[.]153, URL), ...\n",
            "\n",
            "Processing 68/427: ScrubCrypt Deploys VenomRAT with an Arsenal of Plugins...\n"
          ]
        },
        {
          "output_type": "stream",
          "name": "stderr",
          "text": [
            "The following generation flags are not valid and may be ignored: ['temperature', 'top_p', 'top_k']. Set `TRANSFORMERS_VERBOSITY=info` for more details.\n"
          ]
        },
        {
          "output_type": "stream",
          "name": "stdout",
          "text": [
            "🔍 Raw model output: Named Entities: (FortiGuard Labs, Attacker), (Microsoft Windows, Platform), (Oracle WebLogic Servers, Vulnerability), (ScrubCrypt, Tool), (phishing, Technique), (malicious Scalable Vector Graphics (SV...\n",
            "\n",
            "Processing 69/427: Byakugan – The Malware Behind a Phishing Attack...\n"
          ]
        },
        {
          "output_type": "stream",
          "name": "stderr",
          "text": [
            "The following generation flags are not valid and may be ignored: ['temperature', 'top_p', 'top_k']. Set `TRANSFORMERS_VERBOSITY=info` for more details.\n"
          ]
        },
        {
          "output_type": "stream",
          "name": "stdout",
          "text": [
            "🔍 Raw model output: Named Entities: (Byakugan, Malware), (require.exe, File), (Reader_Install_Setup.exe, File), (chrome.exe, File), (thinkforce[.]com[.]br, Domain), (port 8080, Port)\n",
            "Relationships: (Byakugan, drop, requi...\n",
            "\n",
            "Processing 70/427: Ransomware Roundup – RA World...\n"
          ]
        },
        {
          "output_type": "stream",
          "name": "stderr",
          "text": [
            "The following generation flags are not valid and may be ignored: ['temperature', 'top_p', 'top_k']. Set `TRANSFORMERS_VERBOSITY=info` for more details.\n"
          ]
        },
        {
          "output_type": "stream",
          "name": "stdout",
          "text": [
            "🔍 Raw model output: Named Entities: (RA World, Malware), (Ransomware, Threat Type), (Microsoft Windows, Platform), (Microsoft Windows Users, Impacted Party), (High, Severity Level), (December 2023, Date), (Netherlands, C...\n",
            "  ✅ Processed 70/427 articles\n",
            "\n",
            "Processing 71/427: VCURMS: A Simple and Functional Weapon...\n"
          ]
        },
        {
          "output_type": "stream",
          "name": "stderr",
          "text": [
            "The following generation flags are not valid and may be ignored: ['temperature', 'top_p', 'top_k']. Set `TRANSFORMERS_VERBOSITY=info` for more details.\n"
          ]
        },
        {
          "output_type": "stream",
          "name": "stdout",
          "text": [
            "🔍 Raw model output: Named Entities: (FortiGuard Labs, Attacker), (VCURMS, Malware), (STRRAT, Malware), (Amazon Web Services, Tool), (GitHub, Tool), (Proton Mail, Tool), (AWS, Domain), (JAR, File)\n",
            "Relationships: (FortiGua...\n",
            "\n",
            "Processing 72/427: New Banking Trojan “CHAVECLOAK” Targets Brazil...\n"
          ]
        },
        {
          "output_type": "stream",
          "name": "stderr",
          "text": [
            "The following generation flags are not valid and may be ignored: ['temperature', 'top_p', 'top_k']. Set `TRANSFORMERS_VERBOSITY=info` for more details.\n"
          ]
        },
        {
          "output_type": "stream",
          "name": "stdout",
          "text": [
            "🔍 Raw model output: Named Entities: (FortiGuard Labs, Attacker), (Microsoft Windows, Platform), (CHAVECLOAK, Malware), (PDF, File), (ZIP, File), (DLL side-loading, Technique), (Brazil, Country), (Casbaneiro, Malware), (M...\n",
            "\n",
            "Processing 73/427: FortiGuard Labs Outbreak Alerts Annual Report 2023: A Glimps...\n"
          ]
        },
        {
          "output_type": "stream",
          "name": "stderr",
          "text": [
            "The following generation flags are not valid and may be ignored: ['temperature', 'top_p', 'top_k']. Set `TRANSFORMERS_VERBOSITY=info` for more details.\n"
          ]
        },
        {
          "output_type": "stream",
          "name": "stdout",
          "text": [
            "🔍 Raw model output: No related entities and relations\n",
            "Okay, let's see. The user provided a text about the FortiGuard Labs Outbreak Alerts Annual Report 2023. They want me to extract entities and relationships based on th...\n",
            "\n",
            "Processing 74/427: Ransomware Roundup – Abyss Locker...\n"
          ]
        },
        {
          "output_type": "stream",
          "name": "stderr",
          "text": [
            "The following generation flags are not valid and may be ignored: ['temperature', 'top_p', 'top_k']. Set `TRANSFORMERS_VERBOSITY=info` for more details.\n"
          ]
        },
        {
          "output_type": "stream",
          "name": "stdout",
          "text": [
            "🔍 Raw model output: Named Entities: (Abyss Locker, Malware), (AbyssLocker, Malware), (Microsoft Windows, OS), (Linux, OS), (High, Severity level), (HelloKitty, Malware), (Volume Shadow Copies, Technique), (system backups...\n",
            "\n",
            "Processing 75/427: Android/SpyNote Moves to Crypto Currencies...\n"
          ]
        },
        {
          "output_type": "stream",
          "name": "stderr",
          "text": [
            "The following generation flags are not valid and may be ignored: ['temperature', 'top_p', 'top_k']. Set `TRANSFORMERS_VERBOSITY=info` for more details.\n"
          ]
        },
        {
          "output_type": "stream",
          "name": "stdout",
          "text": [
            "🔍 Raw model output: Named Entities: (Spynote, Malware), (Remote Access Trojan, Threat Type), (Android, Platform), (SpyNote RAT, Malware), (CypherRat, Malware), (Accessibility API, Tool), (WebView, Tool), (HTML, Tool), (B...\n",
            "  ✅ Processed 75/427 articles\n",
            "\n",
            "Processing 76/427: TicTacToe Dropper...\n"
          ]
        },
        {
          "output_type": "stream",
          "name": "stderr",
          "text": [
            "The following generation flags are not valid and may be ignored: ['temperature', 'top_p', 'top_k']. Set `TRANSFORMERS_VERBOSITY=info` for more details.\n"
          ]
        },
        {
          "output_type": "stream",
          "name": "stdout",
          "text": [
            "🔍 Raw model output: Named Entities: (TicTacToe dropper, Malware), (Leonem, Malware), (AgentTesla, Malware), (SnakeLogger, Malware), (RemLoader, Malware), (Sabsik, Malware), (LokiBot, Malware), (Taskun, Malware), (Androm,...\n",
            "\n",
            "Processing 77/427: Python Info-stealer Distributed by Malicious Excel Document...\n"
          ]
        },
        {
          "output_type": "stream",
          "name": "stderr",
          "text": [
            "The following generation flags are not valid and may be ignored: ['temperature', 'top_p', 'top_k']. Set `TRANSFORMERS_VERBOSITY=info` for more details.\n"
          ]
        },
        {
          "output_type": "stream",
          "name": "stdout",
          "text": [
            "🔍 Raw model output: Named Entities: (FortiGuard Labs, Attacker), (Microsoft Windows, Platform), (info-stealer, Malware), (Vietnamese-based group, Attacker), (Excel document, File), (VBA script, Tool), (PowerShell, Tool),...\n",
            "\n",
            "Processing 78/427: Ransomware Roundup - Albabat...\n"
          ]
        },
        {
          "output_type": "stream",
          "name": "stderr",
          "text": [
            "The following generation flags are not valid and may be ignored: ['temperature', 'top_p', 'top_k']. Set `TRANSFORMERS_VERBOSITY=info` for more details.\n"
          ]
        },
        {
          "output_type": "stream",
          "name": "stdout",
          "text": [
            "🔍 Raw model output: Named Entities: (Albabat, Malware), (White Bat, Malware), (Rust, Tool), (Albabat, Threat Type), (Ransomware, Threat Type), (Microsoft Windows, Platform), (Microsoft Windows Users, Impacted Party), (En...\n",
            "\n",
            "Processing 79/427: Another Phobos Ransomware Variant Launches Attack – FAUST...\n"
          ]
        },
        {
          "output_type": "stream",
          "name": "stderr",
          "text": [
            "The following generation flags are not valid and may be ignored: ['temperature', 'top_p', 'top_k']. Set `TRANSFORMERS_VERBOSITY=info` for more details.\n"
          ]
        },
        {
          "output_type": "stream",
          "name": "stdout",
          "text": [
            "🔍 Raw model output: Named Entities: (Phobos, Threat Type), (EKING, Malware), (8Base, Malware), (FAUST, Malware), (Gitea, Tool), (VBA script, Tool), (PowerShell, Tool), (XLSX file, File), (XLAM document, File), (TEMP fold...\n",
            "\n",
            "Processing 80/427: Info Stealing Packages Hidden in PyPI...\n"
          ]
        },
        {
          "output_type": "stream",
          "name": "stderr",
          "text": [
            "The following generation flags are not valid and may be ignored: ['temperature', 'top_p', 'top_k']. Set `TRANSFORMERS_VERBOSITY=info` for more details.\n"
          ]
        },
        {
          "output_type": "stream",
          "name": "stdout",
          "text": [
            "🔍 Raw model output: Named Entities: (FortiGuard Labs, Attacker), (PyPI, Tool), (nigpal, File), (figflix, File), (telerer, File), (seGMM, File), (fbdebug, File), (sGMM, File), (myGens, File), (NewGends, File), (TestLibs11...\n",
            "  ✅ Processed 80/427 articles\n",
            "\n",
            "Processing 81/427: Deceptive Cracked Software Spreads Lumma Variant on YouTube...\n"
          ]
        },
        {
          "output_type": "stream",
          "name": "stderr",
          "text": [
            "The following generation flags are not valid and may be ignored: ['temperature', 'top_p', 'top_k']. Set `TRANSFORMERS_VERBOSITY=info` for more details.\n"
          ]
        },
        {
          "output_type": "stream",
          "name": "stdout",
          "text": [
            "🔍 Raw model output: Named Entities: (FortiGuard Labs, Attacker), (Lumma Stealer, Malware), (YouTube, Tool), (TinyURL, Tool), (Cuttly, Tool), (GitHub, Tool), (MediaFire, Tool), (C2 server, Domain), (Telegram channel, Doma...\n",
            "\n",
            "Processing 82/427: Three New Malicious PyPI Packages Deploy CoinMiner on Linux ...\n"
          ]
        },
        {
          "output_type": "stream",
          "name": "stderr",
          "text": [
            "The following generation flags are not valid and may be ignored: ['temperature', 'top_p', 'top_k']. Set `TRANSFORMERS_VERBOSITY=info` for more details.\n"
          ]
        },
        {
          "output_type": "stream",
          "name": "stdout",
          "text": [
            "🔍 Raw model output: Named Entities: (FortiGuard Labs, Attacker), (CoinMiner, Malware), (modularseven-1.0, File), (driftme-1.0, File), (catme-1.0, File), (sastra, Attacker), (culturestreak, File), (Checkmarxblog, Tool), (...\n",
            "\n",
            "Processing 83/427: Ransomware Roundup - 8base...\n"
          ]
        },
        {
          "output_type": "stream",
          "name": "stderr",
          "text": [
            "The following generation flags are not valid and may be ignored: ['temperature', 'top_p', 'top_k']. Set `TRANSFORMERS_VERBOSITY=info` for more details.\n"
          ]
        },
        {
          "output_type": "stream",
          "name": "stdout",
          "text": [
            "🔍 Raw model output: Named Entities: (8base, Malware), (Ransomware, Threat Type), (SmokeLoader, Malware), (bab3c87cac6db1700f0a0babaa31f5cd544961d1b9ec03fd8bcdeff837fc9755, Hash), (ea6adefdd2be00d0c7072a9abe188ba9b0c9a75f...\n",
            "\n",
            "Processing 84/427: Bandook - A Persistent Threat That Keeps Evolving...\n"
          ]
        },
        {
          "output_type": "stream",
          "name": "stderr",
          "text": [
            "The following generation flags are not valid and may be ignored: ['temperature', 'top_p', 'top_k']. Set `TRANSFORMERS_VERBOSITY=info` for more details.\n"
          ]
        },
        {
          "output_type": "stream",
          "name": "stdout",
          "text": [
            "🔍 Raw model output: Named Entities: (Bandook, Malware), (Microsoft Windows, Platform), (PDF file, File), (shortened URL, URL), (.7z file, File), (msinfo32.exe, File), (registry key, Technique), (PID of msinfo32.exe, Tech...\n",
            "\n",
            "Processing 85/427: MrAnon Stealer Spreads via Email with Fake Hotel Booking PDF...\n"
          ]
        },
        {
          "output_type": "stream",
          "name": "stderr",
          "text": [
            "The following generation flags are not valid and may be ignored: ['temperature', 'top_p', 'top_k']. Set `TRANSFORMERS_VERBOSITY=info` for more details.\n"
          ]
        },
        {
          "output_type": "stream",
          "name": "stdout",
          "text": [
            "🔍 Raw model output: Named Entities: (FortiGuard Labs, Attacker), (Microsoft Windows, Platform), (email phishing, Threat Type), (malicious PDF file, File), (.NET executable file, File), (PowerGUI, Tool), (PowerShell, Tool...\n",
            "  ✅ Processed 85/427 articles\n",
            "\n",
            "Processing 86/427: GoTitan Botnet - Ongoing Exploitation on Apache ActiveMQ...\n"
          ]
        },
        {
          "output_type": "stream",
          "name": "stderr",
          "text": [
            "The following generation flags are not valid and may be ignored: ['temperature', 'top_p', 'top_k']. Set `TRANSFORMERS_VERBOSITY=info` for more details.\n"
          ]
        },
        {
          "output_type": "stream",
          "name": "stdout",
          "text": [
            "🔍 Raw model output: Named Entities: (Apache Active MQ, Tool), (CVE-2023-46604, Vulnerability), (CISA, Attacker), (Fortiguard Labs, Attacker), (GoTitan, Malware), (PrCtrl Rat, Malware), (Sliver, Tool)\n",
            "Relationships: (Apac...\n",
            "\n",
            "Processing 87/427: Konni Campaign Distributed Via Malicious Document...\n"
          ]
        },
        {
          "output_type": "stream",
          "name": "stderr",
          "text": [
            "The following generation flags are not valid and may be ignored: ['temperature', 'top_p', 'top_k']. Set `TRANSFORMERS_VERBOSITY=info` for more details.\n"
          ]
        },
        {
          "output_type": "stream",
          "name": "stdout",
          "text": [
            "🔍 Raw model output: Named Entities: (Konni, Attacker), (RAT, Threat Type), (Microsoft Windows, Platform), (OLEFormat.IconLabel, Tool), (temp.zip, File), (check.bat, File), (VBA script, Tool)\n",
            "Relationships: (Konni, uses, ...\n",
            "\n",
            "Processing 88/427: Investigating the New Rhysida Ransomware...\n"
          ]
        },
        {
          "output_type": "stream",
          "name": "stderr",
          "text": [
            "The following generation flags are not valid and may be ignored: ['temperature', 'top_p', 'top_k']. Set `TRANSFORMERS_VERBOSITY=info` for more details.\n"
          ]
        },
        {
          "output_type": "stream",
          "name": "stdout",
          "text": [
            "🔍 Raw model output: Named Entities: (Rhysida, Attacker), (Rhysida ransomware, Malware), (RaaS, Threat Type), (ESXi-based ransomware, Malware), (PowerShell, Tool), (PSExec, Tool), (AnyDesk, Tool), (WinSCP, Tool)\n",
            "Relations...\n",
            "\n",
            "Processing 89/427: Ransomware Roundup – NoEscape...\n"
          ]
        },
        {
          "output_type": "stream",
          "name": "stderr",
          "text": [
            "The following generation flags are not valid and may be ignored: ['temperature', 'top_p', 'top_k']. Set `TRANSFORMERS_VERBOSITY=info` for more details.\n"
          ]
        },
        {
          "output_type": "stream",
          "name": "stdout",
          "text": [
            "🔍 Raw model output: Named Entities: (NoEscape, Malware), (Ransomware-as-a-Service, Threat Type), (Avaddon, Malware), (Microsoft Windows, OS), (Linux, OS), (ESXi, OS), (government, Sector), (energy, Sector), (hospitals, S...\n",
            "\n",
            "Processing 90/427: Threat Predictions for 2024: Chained AI and CaaS Operations ...\n"
          ]
        },
        {
          "output_type": "stream",
          "name": "stderr",
          "text": [
            "The following generation flags are not valid and may be ignored: ['temperature', 'top_p', 'top_k']. Set `TRANSFORMERS_VERBOSITY=info` for more details.\n"
          ]
        },
        {
          "output_type": "stream",
          "name": "stdout",
          "text": [
            "🔍 Raw model output: Named Entities: (FortiGuard Labs, Attacker), (Cybercrime-as-a-Service, Threat Type), (generative AI, Tool), (CaaS, Threat Type), (APT, Threat Type)\n",
            "Relationships: (FortiGuard Labs, uses, Cybercrime-as...\n",
            "  ✅ Processed 90/427 articles\n",
            "\n",
            "Processing 91/427: Ransomware Roundup - Knight...\n"
          ]
        },
        {
          "output_type": "stream",
          "name": "stderr",
          "text": [
            "The following generation flags are not valid and may be ignored: ['temperature', 'top_p', 'top_k']. Set `TRANSFORMERS_VERBOSITY=info` for more details.\n"
          ]
        },
        {
          "output_type": "stream",
          "name": "stdout",
          "text": [
            "🔍 Raw model output: Named Entities: (Knight, Malware), (Ransomware, Threat Type), (Microsoft Windows, Platform), (Cyclops, Malware), (Remcos, Malware), (Qakbot, Malware), (CERT Italy, Attacker), (phishing, Technique), (a...\n",
            "\n",
            "Processing 92/427: Another InfoStealer Enters the Field, ExelaStealer...\n"
          ]
        },
        {
          "output_type": "stream",
          "name": "stderr",
          "text": [
            "The following generation flags are not valid and may be ignored: ['temperature', 'top_p', 'top_k']. Set `TRANSFORMERS_VERBOSITY=info` for more details.\n"
          ]
        },
        {
          "output_type": "stream",
          "name": "stdout",
          "text": [
            "🔍 Raw model output: Named Entities: (ExelaStealer, Malware), (RedLine, Malware), (Raccoon, Malware), (Vidar, Malware), (SaphireStealer, Malware), (quicaxd, Attacker), (Windows, Platform), (Python, Tool), (JavaScript, Too...\n",
            "\n",
            "Processing 93/427: Ransomware Roundup - Akira...\n"
          ]
        },
        {
          "output_type": "stream",
          "name": "stderr",
          "text": [
            "The following generation flags are not valid and may be ignored: ['temperature', 'top_p', 'top_k']. Set `TRANSFORMERS_VERBOSITY=info` for more details.\n"
          ]
        },
        {
          "output_type": "stream",
          "name": "stdout",
          "text": [
            "🔍 Raw model output: Named Entities: (Akira, Malware), (Ransomware, Threat Type), (Microsoft Windows, OS), (Linux, OS), (CERT India, Organization), (CISA, Organization), (FortiGuard Labs, Organization), (Fortinet, Organiz...\n",
            "\n",
            "Processing 94/427: IZ1H9 Campaign Enhances Its Arsenal with Scores of Exploits...\n"
          ]
        },
        {
          "output_type": "stream",
          "name": "stderr",
          "text": [
            "The following generation flags are not valid and may be ignored: ['temperature', 'top_p', 'top_k']. Set `TRANSFORMERS_VERBOSITY=info` for more details.\n"
          ]
        },
        {
          "output_type": "stream",
          "name": "stdout",
          "text": [
            "🔍 Raw model output: Named Entities: (IZ1H9, Malware), (Mirai, Malware), (D-Link, Tool), (Netis wireless router, Tool), (Sunhillo SureLine, Tool), (Geutebruck IP camera, Tool), (Yealink Device Management, Tool), (Zyxel, T...\n",
            "\n",
            "Processing 95/427: Malicious Packages Hidden in NPM...\n"
          ]
        },
        {
          "output_type": "stream",
          "name": "stderr",
          "text": [
            "The following generation flags are not valid and may be ignored: ['temperature', 'top_p', 'top_k']. Set `TRANSFORMERS_VERBOSITY=info` for more details.\n"
          ]
        },
        {
          "output_type": "stream",
          "name": "stdout",
          "text": [
            "🔍 Raw model output: Named Entities: (FortiGuard Labs, Attacker), (NPM, Tool), (JavaScript, Tool), (PyPI, Tool), (index.js, File)\n",
            "Relationships: (FortiGuard Labs, uses, NPM), (FortiGuard Labs, uses, JavaScript), (FortiGua...\n",
            "  ✅ Processed 95/427 articles\n",
            "\n",
            "Processing 96/427: Threat Actors Exploit the Tensions Between Azerbaijan and Ar...\n"
          ]
        },
        {
          "output_type": "stream",
          "name": "stderr",
          "text": [
            "The following generation flags are not valid and may be ignored: ['temperature', 'top_p', 'top_k']. Set `TRANSFORMERS_VERBOSITY=info` for more details.\n"
          ]
        },
        {
          "output_type": "stream",
          "name": "stdout",
          "text": [
            "🔍 Raw model output: Named Entities: (FortiGuard Labs, Organization), (Nagorno-Karabakh Autonomous Oblast, Location), (Azerbaijan Soviet Socialist Republic, Location), (Armenia, Location), (USSR, Location), (Microsoft Win...\n",
            "\n",
            "Processing 97/427: Ransomware Roundup - Retch and S. H. O....\n"
          ]
        },
        {
          "output_type": "stream",
          "name": "stderr",
          "text": [
            "The following generation flags are not valid and may be ignored: ['temperature', 'top_p', 'top_k']. Set `TRANSFORMERS_VERBOSITY=info` for more details.\n"
          ]
        },
        {
          "output_type": "stream",
          "name": "stdout",
          "text": [
            "🔍 Raw model output: Named Entities: (Retch, Malware), (S.H.O, Malware), (Ransomware, Threat Type), (Microsoft Windows, Platform), (Microsoft Windows Users, Impacted Party), (Encrypts and exfiltrates victims’ files and de...\n",
            "\n",
            "Processing 98/427: New MidgeDropper Variant...\n"
          ]
        },
        {
          "output_type": "stream",
          "name": "stderr",
          "text": [
            "The following generation flags are not valid and may be ignored: ['temperature', 'top_p', 'top_k']. Set `TRANSFORMERS_VERBOSITY=info` for more details.\n"
          ]
        },
        {
          "output_type": "stream",
          "name": "stdout",
          "text": [
            "🔍 Raw model output: Named Entities: (MidgeDropper, Malware), (RAR, Tool), (!PENTING_LIST OF OFFICERS.rar, File), (Notice to Work-From-Home groups.pdf, File), (062023_PENTING_LIST OF SUPERVISORY OFFICERS WHO STILL HAVE NO...\n",
            "\n",
            "Processing 99/427: OriginBotnet Spreads via Malicious Word Document...\n"
          ]
        },
        {
          "output_type": "stream",
          "name": "stderr",
          "text": [
            "The following generation flags are not valid and may be ignored: ['temperature', 'top_p', 'top_k']. Set `TRANSFORMERS_VERBOSITY=info` for more details.\n"
          ]
        },
        {
          "output_type": "stream",
          "name": "stdout",
          "text": [
            "🔍 Raw model output: Named Entities: (FortiGuard Labs, Attacker), (Windows, Platform), (OriginBotnet, Malware), (RedLine Clipper, Malware), (AgentTesla, Malware), (Aphishingemail, Attacker), (Word document, File), (malici...\n",
            "\n",
            "Processing 100/427: New Agent Tesla Variant Being Spread by Crafted Excel Docume...\n"
          ]
        },
        {
          "output_type": "stream",
          "name": "stderr",
          "text": [
            "The following generation flags are not valid and may be ignored: ['temperature', 'top_p', 'top_k']. Set `TRANSFORMERS_VERBOSITY=info` for more details.\n"
          ]
        },
        {
          "output_type": "stream",
          "name": "stdout",
          "text": [
            "🔍 Raw model output: Named Entities: (Agent Tesla, Malware), (phishing, Technique), (Remote Access Trojan, Tool), (data stealer, Tool), (Malware-as-a-Service, Threat Type), (CVE-2017-11882, Vulnerability), (CVE-2018-0802,...\n",
            "  ✅ Processed 100/427 articles\n",
            "\n",
            "Processing 101/427: Ransomware Roundup - Rhysida...\n"
          ]
        },
        {
          "output_type": "stream",
          "name": "stderr",
          "text": [
            "The following generation flags are not valid and may be ignored: ['temperature', 'top_p', 'top_k']. Set `TRANSFORMERS_VERBOSITY=info` for more details.\n"
          ]
        },
        {
          "output_type": "stream",
          "name": "stdout",
          "text": [
            "🔍 Raw model output: Named Entities: (Rhysida, Malware), (Ransomware, Threat Type), (Microsoft Windows, Platform), (Microsoft Windows Users, Impacted Party), (Encrypts and exfiltrates victims’ files and demands ransom for...\n",
            "\n",
            "Processing 102/427: Multiple Threats Target Adobe ColdFusion Vulnerabilities...\n"
          ]
        },
        {
          "output_type": "stream",
          "name": "stderr",
          "text": [
            "The following generation flags are not valid and may be ignored: ['temperature', 'top_p', 'top_k']. Set `TRANSFORMERS_VERBOSITY=info` for more details.\n"
          ]
        },
        {
          "output_type": "stream",
          "name": "stdout",
          "text": [
            "🔍 Raw model output: Named Entities: (Adobe ColdFusion, Tool), (RCE, Vulnerability), (APSB23-40, Vulnerability), (APSB23-41, Vulnerability), (APSB23-47, Vulnerability), (WDDX deserialization, Vulnerability), (Adobe ColdFu...\n",
            "\n",
            "Processing 103/427: Ransomware Roundup – Trash Panda and A New Minor Variant of ...\n"
          ]
        },
        {
          "output_type": "stream",
          "name": "stderr",
          "text": [
            "The following generation flags are not valid and may be ignored: ['temperature', 'top_p', 'top_k']. Set `TRANSFORMERS_VERBOSITY=info` for more details.\n"
          ]
        },
        {
          "output_type": "stream",
          "name": "stdout",
          "text": [
            "🔍 Raw model output: Named Entities: (Trash Panda, Malware), (NoCry, Malware), (Ransomware, Threat Type), (Microsoft Windows, Platform), (Microsoft Windows Users, Impacted parties), (Encrypts and exfiltrates victims’ file...\n",
            "\n",
            "Processing 104/427: FortiGuard AI Detects Malicious Packages Hidden in the Pytho...\n"
          ]
        },
        {
          "output_type": "stream",
          "name": "stderr",
          "text": [
            "The following generation flags are not valid and may be ignored: ['temperature', 'top_p', 'top_k']. Set `TRANSFORMERS_VERBOSITY=info` for more details.\n"
          ]
        },
        {
          "output_type": "stream",
          "name": "stdout",
          "text": [
            "🔍 Raw model output: Named Entities: (FortiGuard Labs, Attacker), (Threat Research, Attacker), (Python Package Index, Tool), (PyPI, Tool), (malicious packages, Malware), (AI engine, Tool), (OSS supply chain threats huntin...\n",
            "\n",
            "Processing 105/427: Attackers Distribute Malware via Freeze.rs And SYK Crypter...\n"
          ]
        },
        {
          "output_type": "stream",
          "name": "stderr",
          "text": [
            "The following generation flags are not valid and may be ignored: ['temperature', 'top_p', 'top_k']. Set `TRANSFORMERS_VERBOSITY=info` for more details.\n"
          ]
        },
        {
          "output_type": "stream",
          "name": "stdout",
          "text": [
            "🔍 Raw model output: Named Entities: (FortiGuard Labs, Attacker), (XWorm, Malware), (Rust, Tool), (Buer loader, Malware), (Hive, Malware), (RansomExx, Malware), (Base64, Tool), (AES, Tool), (RC4, Tool), (LZMA, Tool), (Fre...\n",
            "  ✅ Processed 105/427 articles\n",
            "\n",
            "Processing 106/427: Key Findings from the 1H 2023 FortiGuard Labs Threat Report...\n"
          ]
        },
        {
          "output_type": "stream",
          "name": "stderr",
          "text": [
            "The following generation flags are not valid and may be ignored: ['temperature', 'top_p', 'top_k']. Set `TRANSFORMERS_VERBOSITY=info` for more details.\n"
          ]
        },
        {
          "output_type": "stream",
          "name": "stdout",
          "text": [
            "🔍 Raw model output: Named Entities: (APT, Threat Type), (Ransomware, Threat Type), (Ransomware-as-a-Service, Threat Type)\n",
            "Relationships: (Ransomware, target, APT), (Ransomware, use, Ransomware-as-a-Service)\n",
            "\n",
            "Okay, let's ...\n",
            "\n",
            "Processing 107/427: Ransomware Roundup - DoDo and Proton...\n"
          ]
        },
        {
          "output_type": "stream",
          "name": "stderr",
          "text": [
            "The following generation flags are not valid and may be ignored: ['temperature', 'top_p', 'top_k']. Set `TRANSFORMERS_VERBOSITY=info` for more details.\n"
          ]
        },
        {
          "output_type": "stream",
          "name": "stdout",
          "text": [
            "🔍 Raw model output: Named Entities: (FortiGuard Labs, Attacker), (Ransomware Roundup, Report), (DoDo, Malware), (Proton, Malware), (Microsoft Windows, Platform), (Microsoft Windows Users, Party), (Encrypts and exfiltrate...\n",
            "\n",
            "Processing 108/427: FortiGuard Labs Discovers Multiple Vulnerabilities in Micros...\n"
          ]
        },
        {
          "output_type": "stream",
          "name": "stderr",
          "text": [
            "The following generation flags are not valid and may be ignored: ['temperature', 'top_p', 'top_k']. Set `TRANSFORMERS_VERBOSITY=info` for more details.\n"
          ]
        },
        {
          "output_type": "stream",
          "name": "stdout",
          "text": [
            "🔍 Raw model output: Named Entities: (Microsoft Message Queuing, Tool), (MSMQ, Tool), (RabbitMQ, Tool), (MQSVC.EXE, File), (MQQM.DLL, File), (MQAC.SYS, File)\n",
            "Relationships: (Microsoft Message Queuing, aka, MSMQ), (MSMQ, c...\n",
            "\n",
            "Processing 109/427: Ransomware Roundup - Cl0p...\n"
          ]
        },
        {
          "output_type": "stream",
          "name": "stderr",
          "text": [
            "The following generation flags are not valid and may be ignored: ['temperature', 'top_p', 'top_k']. Set `TRANSFORMERS_VERBOSITY=info` for more details.\n"
          ]
        },
        {
          "output_type": "stream",
          "name": "stdout",
          "text": [
            "🔍 Raw model output: Named Entities: (Cl0p, Malware), (Ransomware, Threat Type), (Microsoft Windows, OS), (Linux, OS), (CVE-2023-34362, Vulnerability), (MOVEit Transfer, Tool)\n",
            "Relationships: (Cl0p, is, Ransomware), (Cl0p,...\n",
            "\n",
            "Processing 110/427: DDoS Botnets Target Zyxel Vulnerability CVE-2023-28771...\n"
          ]
        },
        {
          "output_type": "stream",
          "name": "stderr",
          "text": [
            "The following generation flags are not valid and may be ignored: ['temperature', 'top_p', 'top_k']. Set `TRANSFORMERS_VERBOSITY=info` for more details.\n"
          ]
        },
        {
          "output_type": "stream",
          "name": "stdout",
          "text": [
            "🔍 Raw model output: Named Entities: (FortiGuard Labs, Attacker), (DDoS, Threat Type), (Zyxel, Vulnerability), (CVE-2023-28771, Vulnerability), (TRAPA Security, Attacker), (CISA, Attacker), (Known Exploited Vulnerabilitie...\n",
            "  ✅ Processed 110/427 articles\n",
            "\n",
            "Processing 111/427: FortiGuard Labs Discovers Multiple Vulnerabilities in Adobe ...\n"
          ]
        },
        {
          "output_type": "stream",
          "name": "stderr",
          "text": [
            "The following generation flags are not valid and may be ignored: ['temperature', 'top_p', 'top_k']. Set `TRANSFORMERS_VERBOSITY=info` for more details.\n"
          ]
        },
        {
          "output_type": "stream",
          "name": "stdout",
          "text": [
            "🔍 Raw model output: Named Entities: (CVE-2023-29308, Vulnerability), (CVE-2023-29309, Vulnerability), (CVE-2023-29310, Vulnerability), (CVE-2023-29311, Vulnerability), (CVE-2023-29312, Vulnerability), (CVE-2023-29313, Vu...\n",
            "\n",
            "Processing 112/427: LokiBot Campaign Targets Microsoft Office Document Using Vul...\n"
          ]
        },
        {
          "output_type": "stream",
          "name": "stderr",
          "text": [
            "The following generation flags are not valid and may be ignored: ['temperature', 'top_p', 'top_k']. Set `TRANSFORMERS_VERBOSITY=info` for more details.\n"
          ]
        },
        {
          "output_type": "stream",
          "name": "stdout",
          "text": [
            "🔍 Raw model output: Named Entities: (Microsoft Windows, Platform), (Windows users, Impacted party), (Critical, Severity level), (CVE-2021-40444, Vulnerability), (CVE-2022-30190, Vulnerability), (LokiBot, Malware), (Loki ...\n",
            "\n",
            "Processing 113/427: Meet LockBit: The Most Prevalent Ransomware in 2022...\n"
          ]
        },
        {
          "output_type": "stream",
          "name": "stderr",
          "text": [
            "The following generation flags are not valid and may be ignored: ['temperature', 'top_p', 'top_k']. Set `TRANSFORMERS_VERBOSITY=info` for more details.\n"
          ]
        },
        {
          "output_type": "stream",
          "name": "stdout",
          "text": [
            "🔍 Raw model output: Named Entities: (LockBit, Malware), (LockBit ransomware, Malware), (LockBit 2.0, Malware), (LockBit Red, Malware), (LockBit 3.0, Malware), (LockBit Black, Malware), (LockBit Green, Malware), (Ransomwa...\n",
            "\n",
            "Processing 114/427: Ransomware Roundup - Rancoz...\n"
          ]
        },
        {
          "output_type": "stream",
          "name": "stderr",
          "text": [
            "The following generation flags are not valid and may be ignored: ['temperature', 'top_p', 'top_k']. Set `TRANSFORMERS_VERBOSITY=info` for more details.\n"
          ]
        },
        {
          "output_type": "stream",
          "name": "stdout",
          "text": [
            "🔍 Raw model output: Named Entities: (Rancoz, Malware), (Ransomware, Threat Type), (Microsoft Windows, Platform), (Microsoft Windows Users, Impacted Party), (Encrypts files on the compromised machine and demands ransom fo...\n",
            "\n",
            "Processing 115/427: New Fast-Developing ThirdEye Infostealer Pries Open System I...\n"
          ]
        },
        {
          "output_type": "stream",
          "name": "stderr",
          "text": [
            "The following generation flags are not valid and may be ignored: ['temperature', 'top_p', 'top_k']. Set `TRANSFORMERS_VERBOSITY=info` for more details.\n"
          ]
        },
        {
          "output_type": "stream",
          "name": "stdout",
          "text": [
            "🔍 Raw model output: Named Entities: (FortiGuard Labs, Attacker), (ThirdEye, Malware), (Windows, Platform), (f6e6d44137cb5fcee20bcde0a162768dadbb84a09cc680732d9e23ccd2e79494, Hash), (BIOS, File), (hardware data, File)\n",
            "Rel...\n",
            "  ✅ Processed 115/427 articles\n",
            "\n",
            "Processing 116/427: Ransomware Roundup - Black Basta...\n"
          ]
        },
        {
          "output_type": "stream",
          "name": "stderr",
          "text": [
            "The following generation flags are not valid and may be ignored: ['temperature', 'top_p', 'top_k']. Set `TRANSFORMERS_VERBOSITY=info` for more details.\n"
          ]
        },
        {
          "output_type": "stream",
          "name": "stdout",
          "text": [
            "🔍 Raw model output: Named Entities: (Black Basta, Malware), (Ransomware, Threat Type), (Microsoft Windows, OS), (VMWare ESXi, OS), (Conti, Malware)\n",
            "Relationships: (Black Basta, is a, Ransomware), (Black Basta, targets, M...\n",
            "\n",
            "Processing 117/427: Fortinet Reverses Flutter-based Android Malware “Fluhorse”...\n"
          ]
        },
        {
          "output_type": "stream",
          "name": "stderr",
          "text": [
            "The following generation flags are not valid and may be ignored: ['temperature', 'top_p', 'top_k']. Set `TRANSFORMERS_VERBOSITY=info` for more details.\n"
          ]
        },
        {
          "output_type": "stream",
          "name": "stdout",
          "text": [
            "🔍 Raw model output: Named Entities: (Android/Fluhorse, Malware), (Flutter, Tool), (MoneyMonger, Malware), (re-Flutter, Tool), (re-flutter-demo, Tool)\n",
            "Relationships: (Android/Fluhorse, uses, Flutter), (MoneyMonger, uses, ...\n",
            "\n",
            "Processing 118/427: Condi DDoS Botnet Spreads via TP-Link's CVE-2023-1389...\n"
          ]
        },
        {
          "output_type": "stream",
          "name": "stderr",
          "text": [
            "The following generation flags are not valid and may be ignored: ['temperature', 'top_p', 'top_k']. Set `TRANSFORMERS_VERBOSITY=info` for more details.\n"
          ]
        },
        {
          "output_type": "stream",
          "name": "stdout",
          "text": [
            "🔍 Raw model output: Named Entities: (Condi, Malware), (DDoS-as-a-service, Threat Type), (TP-Link Archer AX21 (AX1800), Tool), (CVE-2023-1389, Vulnerability), (cdn2[.]duc3k[.]com, Domain), (admin[.]duc3k[.]com, Domain), (...\n",
            "\n",
            "Processing 119/427: Ransomware Roundup - Big Head...\n"
          ]
        },
        {
          "output_type": "stream",
          "name": "stderr",
          "text": [
            "The following generation flags are not valid and may be ignored: ['temperature', 'top_p', 'top_k']. Set `TRANSFORMERS_VERBOSITY=info` for more details.\n"
          ]
        },
        {
          "output_type": "stream",
          "name": "stdout",
          "text": [
            "🔍 Raw model output: Named Entities: (Big Head, Malware), (Ransomware, Threat Type), (Microsoft Windows, Tool), (Microsoft Windows Users, IP), (FortiGuard Labs, Attacker), (Windows Update, Technique), (Microsoft Word, Too...\n",
            "\n",
            "Processing 120/427: MOVEit Transfer Critical Vulnerability (CVE-2023-34362) Expl...\n"
          ]
        },
        {
          "output_type": "stream",
          "name": "stderr",
          "text": [
            "The following generation flags are not valid and may be ignored: ['temperature', 'top_p', 'top_k']. Set `TRANSFORMERS_VERBOSITY=info` for more details.\n"
          ]
        },
        {
          "output_type": "stream",
          "name": "stdout",
          "text": [
            "🔍 Raw model output: Named Entities: (Cl0p, Attacker), (CVE-2023-34362, Vulnerability), (MOVEit Transfer, Tool), (SQL injection, Technique), (FortiGuard Labs, Attacker), (CISA, Attacker), (ransomware, Threat Type)\n",
            "Relatio...\n",
            "  ✅ Processed 120/427 articles\n",
            "\n",
            "Processing 121/427: YouTube Pirated Software Videos Deliver Triple Threat: Vidar...\n"
          ]
        },
        {
          "output_type": "stream",
          "name": "stderr",
          "text": [
            "The following generation flags are not valid and may be ignored: ['temperature', 'top_p', 'top_k']. Set `TRANSFORMERS_VERBOSITY=info` for more details.\n"
          ]
        },
        {
          "output_type": "stream",
          "name": "stdout",
          "text": [
            "🔍 Raw model output: Named Entities: (FortiGuard Labs, Attacker), (YouTube, Domain), (Adobe Acrobat Pro dc Crack 2023 free full version / Adobe Acrobat Free Download, File), (malicious binaries, Malware), (cryptojacking, ...\n",
            "\n",
            "Processing 122/427: WINTAPIX: A New Kernel Driver Targeting Countries in The Mid...\n"
          ]
        },
        {
          "output_type": "stream",
          "name": "stderr",
          "text": [
            "The following generation flags are not valid and may be ignored: ['temperature', 'top_p', 'top_k']. Set `TRANSFORMERS_VERBOSITY=info` for more details.\n"
          ]
        },
        {
          "output_type": "stream",
          "name": "stdout",
          "text": [
            "🔍 Raw model output: Named Entities: (FortiGuard Labs Threat Research, Attacker), (Windows, Platform), (Windows Users, Impacted Party), (remote code execution, Technique), (backdoor, Threat Type), (proxy, Technique), (For...\n",
            "\n",
            "Processing 123/427: More Supply Chain Attacks via Malicious Python Packages...\n"
          ]
        },
        {
          "output_type": "stream",
          "name": "stderr",
          "text": [
            "The following generation flags are not valid and may be ignored: ['temperature', 'top_p', 'top_k']. Set `TRANSFORMERS_VERBOSITY=info` for more details.\n"
          ]
        },
        {
          "output_type": "stream",
          "name": "stdout",
          "text": [
            "🔍 Raw model output: Named Entities: \n",
            "Relationships:\n",
            "\n",
            "Okay, let's tackle this input. The user wants me to extract entities and relationships based on the specified types. First, I need to read through the provided text ca...\n",
            "\n",
            "Processing 124/427: Ransomware Roundup - Maori...\n"
          ]
        },
        {
          "output_type": "stream",
          "name": "stderr",
          "text": [
            "The following generation flags are not valid and may be ignored: ['temperature', 'top_p', 'top_k']. Set `TRANSFORMERS_VERBOSITY=info` for more details.\n"
          ]
        },
        {
          "output_type": "stream",
          "name": "stdout",
          "text": [
            "🔍 Raw model output: Named Entities: (Maori, Malware), (Ransomware, Threat Type), (Linux, OS), (Linux Users, Target), (High, Severity)\n",
            "Relationships: (Maori, is, Ransomware), (Maori, targets, Linux Users), (Maori, severit...\n",
            "\n",
            "Processing 125/427: RapperBot DDoS Botnet Expands into Cryptojacking...\n"
          ]
        },
        {
          "output_type": "stream",
          "name": "stderr",
          "text": [
            "The following generation flags are not valid and may be ignored: ['temperature', 'top_p', 'top_k']. Set `TRANSFORMERS_VERBOSITY=info` for more details.\n"
          ]
        },
        {
          "output_type": "stream",
          "name": "stdout",
          "text": [
            "🔍 Raw model output: Named Entities: (RapperBot, Malware), (IoT devices, Target), (Distributed Denial of Service, Threat Type), (DDoS, Threat Type), (cryptojacking, Threat Type), (Monero, Tool), (Intel x64 machines, Targe...\n",
            "  ✅ Processed 125/427 articles\n",
            "\n",
            "Processing 126/427: AndoryuBot – New Botnet Campaign Targets Ruckus Wireless Adm...\n"
          ]
        },
        {
          "output_type": "stream",
          "name": "stderr",
          "text": [
            "The following generation flags are not valid and may be ignored: ['temperature', 'top_p', 'top_k']. Set `TRANSFORMERS_VERBOSITY=info` for more details.\n"
          ]
        },
        {
          "output_type": "stream",
          "name": "stdout",
          "text": [
            "🔍 Raw model output: Named Entities: (AndoryuBot, Malware), (SOCKS, Protocol), (Ruckus, Vulnerability), (CVE-2023-25717, Vulnerability), (DDoS, Technique), (arm, Architecture), (m68k, Architecture), (mips, Architecture), ...\n",
            "\n",
            "Processing 127/427: Clean Rooms, Nuclear Missiles, and SideCopy, Oh My!...\n"
          ]
        },
        {
          "output_type": "stream",
          "name": "stderr",
          "text": [
            "The following generation flags are not valid and may be ignored: ['temperature', 'top_p', 'top_k']. Set `TRANSFORMERS_VERBOSITY=info` for more details.\n"
          ]
        },
        {
          "output_type": "stream",
          "name": "stdout",
          "text": [
            "🔍 Raw model output: Named Entities: (FortiGuard Labs, Attacker), (Windows, Platform), (Windows users, User), (SideCopy, Attacker), (APT group, Threat Type), (Transparent Tribe, Attacker), (SideWinder, Attacker), (Mac, Pl...\n",
            "\n",
            "Processing 128/427: Ransomware Roundup - UNIZA...\n"
          ]
        },
        {
          "output_type": "stream",
          "name": "stderr",
          "text": [
            "The following generation flags are not valid and may be ignored: ['temperature', 'top_p', 'top_k']. Set `TRANSFORMERS_VERBOSITY=info` for more details.\n"
          ]
        },
        {
          "output_type": "stream",
          "name": "stdout",
          "text": [
            "🔍 Raw model output: Named Entities: (UNIZA, Malware), (Ransomware, Threat Type), (Microsoft Windows, Platform), (cmd.exe, Tool), (email, Technique)\n",
            "Relationships: (UNIZA, is a, Ransomware), (UNIZA, targets, Microsoft Win...\n",
            "\n",
            "Processing 129/427: EvilExtractor – All-in-One Stealer...\n"
          ]
        },
        {
          "output_type": "stream",
          "name": "stderr",
          "text": [
            "The following generation flags are not valid and may be ignored: ['temperature', 'top_p', 'top_k']. Set `TRANSFORMERS_VERBOSITY=info` for more details.\n"
          ]
        },
        {
          "output_type": "stream",
          "name": "stdout",
          "text": [
            "🔍 Raw model output: Named Entities: (EvilExtractor, Tool), (Windows, Platform), (Kodex, Attacker), (evilextractor[.]com, Domain), (phishing, Technique), (PowerShell, Tool), (FTP, Tool), (browser data, File), (Europe, Loc...\n",
            "\n",
            "Processing 130/427: Ransomware Roundup – Kadavro Vector Ransomware...\n"
          ]
        },
        {
          "output_type": "stream",
          "name": "stderr",
          "text": [
            "The following generation flags are not valid and may be ignored: ['temperature', 'top_p', 'top_k']. Set `TRANSFORMERS_VERBOSITY=info` for more details.\n"
          ]
        },
        {
          "output_type": "stream",
          "name": "stdout",
          "text": [
            "🔍 Raw model output: Named Entities: (Kadavro Vector, Malware), (Ransomware, Threat Type), (Microsoft Windows, Platform), (Monero, Currency), (torbrowser-install-win64-12.0.4_ALL.exe, File), (XMR, Currency), (English, Lan...\n",
            "  ✅ Processed 130/427 articles\n",
            "\n",
            "Processing 131/427: Deja Vu All Over Again: Tax Scammers at Large...\n"
          ]
        },
        {
          "output_type": "stream",
          "name": "stderr",
          "text": [
            "The following generation flags are not valid and may be ignored: ['temperature', 'top_p', 'top_k']. Set `TRANSFORMERS_VERBOSITY=info` for more details.\n"
          ]
        },
        {
          "output_type": "stream",
          "name": "stdout",
          "text": [
            "🔍 Raw model output: Named Entities: (FortiGuard Labs, Attacker), (Windows, Platform), (tax season, Threat Type), (www[.]farmaciasmv[.]com/citrix/2022%20tax_documents[.]zip, URL), (tax_docs.pdf, File), (LNK, File), (SyncA...\n",
            "\n",
            "Processing 132/427: Exploring a Recent Microsoft Outlook Vulnerability: CVE-2023...\n"
          ]
        },
        {
          "output_type": "stream",
          "name": "stderr",
          "text": [
            "The following generation flags are not valid and may be ignored: ['temperature', 'top_p', 'top_k']. Set `TRANSFORMERS_VERBOSITY=info` for more details.\n"
          ]
        },
        {
          "output_type": "stream",
          "name": "stdout",
          "text": [
            "🔍 Raw model output: Named Entities: (Microsoft Outlook, Tool), (NTLMv2, Hash), (PidLidReminderFileParameter, Vulnerability), (UNC path, File), (Outlook AppointmentItem, Tool), (SMB, Technique), (MitM, Technique), (NTLM, ...\n",
            "\n",
            "Processing 133/427: Are Internet Macros Dead or Alive?...\n"
          ]
        },
        {
          "output_type": "stream",
          "name": "stderr",
          "text": [
            "The following generation flags are not valid and may be ignored: ['temperature', 'top_p', 'top_k']. Set `TRANSFORMERS_VERBOSITY=info` for more details.\n"
          ]
        },
        {
          "output_type": "stream",
          "name": "stdout",
          "text": [
            "🔍 Raw model output: Named Entities: (FortiGuard Labs, Attacker), (Windows, Platform), (Microsoft Office, Tool), (Mark of the Web, Technique), (hta, File), (lnk, File), (chm, File), (Equation Editor, Vulnerability), (Foll...\n",
            "\n",
            "Processing 134/427: Malware Disguised as Document from Ukraine's Energoatom Deli...\n"
          ]
        },
        {
          "output_type": "stream",
          "name": "stderr",
          "text": [
            "The following generation flags are not valid and may be ignored: ['temperature', 'top_p', 'top_k']. Set `TRANSFORMERS_VERBOSITY=info` for more details.\n"
          ]
        },
        {
          "output_type": "stream",
          "name": "stdout",
          "text": [
            "🔍 Raw model output: Named Entities: (FortiGuard Labs, Attacker), (Microsoft Windows, Platform), (Energoatom, Organization), (INDUSTROYER2, Malware), (CADDYWIPER, Malware), (NikoWiper, Malware), (zatverdzhenniy_spisok_osi...\n",
            "\n",
            "Processing 135/427: 3CX Desktop App Compromised (CVE-2023-29059)...\n"
          ]
        },
        {
          "output_type": "stream",
          "name": "stderr",
          "text": [
            "The following generation flags are not valid and may be ignored: ['temperature', 'top_p', 'top_k']. Set `TRANSFORMERS_VERBOSITY=info` for more details.\n"
          ]
        },
        {
          "output_type": "stream",
          "name": "stdout",
          "text": [
            "🔍 Raw model output: Named Entities: (FortiGuard Labs, Attacker), (3CXDesktop App, File), (SolarWinds, Attacker), (Kaseya, Attacker), (CVE-2023-29059, Vulnerability), (Electron framework, Tool), (3CX, Attacker)\n",
            "Relationsh...\n",
            "  ✅ Processed 135/427 articles\n",
            "\n",
            "Processing 136/427: Ransomware Roundup – Dark Power and PayMe100USD Ransomware...\n"
          ]
        },
        {
          "output_type": "stream",
          "name": "stderr",
          "text": [
            "The following generation flags are not valid and may be ignored: ['temperature', 'top_p', 'top_k']. Set `TRANSFORMERS_VERBOSITY=info` for more details.\n"
          ]
        },
        {
          "output_type": "stream",
          "name": "stdout",
          "text": [
            "🔍 Raw model output: Named Entities: (Dark Power, Malware), (PayME100USD, Malware), (Ransomware, Threat Type), (Microsoft Windows, Platform), (Microsoft Windows Users, Impacted Party), (Encrypts files on the compromised m...\n",
            "\n",
            "Processing 137/427: Moobot Strikes Again - Targeting Cacti And RealTek Vulnerabi...\n"
          ]
        },
        {
          "output_type": "stream",
          "name": "stderr",
          "text": [
            "The following generation flags are not valid and may be ignored: ['temperature', 'top_p', 'top_k']. Set `TRANSFORMERS_VERBOSITY=info` for more details.\n"
          ]
        },
        {
          "output_type": "stream",
          "name": "stdout",
          "text": [
            "🔍 Raw model output: Named Entities: (FortiGuard Labs, Attacker), (Cacti, Vulnerability), (Realtek, Vulnerability), (ShellBot, Malware), (Moobot, Malware), (CVE-2021-35394, Vulnerability), (CVE-2022-46169, Vulnerability),...\n",
            "\n",
            "Processing 138/427: Supply Chain Attack via New Malicious Python Packages...\n"
          ]
        },
        {
          "output_type": "stream",
          "name": "stderr",
          "text": [
            "The following generation flags are not valid and may be ignored: ['temperature', 'top_p', 'top_k']. Set `TRANSFORMERS_VERBOSITY=info` for more details.\n"
          ]
        },
        {
          "output_type": "stream",
          "name": "stdout",
          "text": [
            "🔍 Raw model output: Named Entities: (FortiGuard Labs, Attacker), (PyPI, Tool), (PowerShell, Tool), (setup.py, File), (Discord, Tool), (Empyrean, Tool)\n",
            "Relationships: (FortiGuard Labs, monitor, open-source ecosystem), (se...\n",
            "\n",
            "Processing 139/427: The Latest Intel on Wipers...\n"
          ]
        },
        {
          "output_type": "stream",
          "name": "stderr",
          "text": [
            "The following generation flags are not valid and may be ignored: ['temperature', 'top_p', 'top_k']. Set `TRANSFORMERS_VERBOSITY=info` for more details.\n"
          ]
        },
        {
          "output_type": "stream",
          "name": "stdout",
          "text": [
            "🔍 Raw model output: Named Entities: (wiper malware, Malware), (wiper, Threat Type), (Russia, Attacker), (Cybercrime-as-a-Service, Technique), (CaaS, Technique), (2012, Vulnerability), (2022, Vulnerability)\n",
            "Relationships:...\n",
            "\n",
            "Processing 140/427: Ransomware Roundup — HardBit 2.0...\n"
          ]
        },
        {
          "output_type": "stream",
          "name": "stderr",
          "text": [
            "The following generation flags are not valid and may be ignored: ['temperature', 'top_p', 'top_k']. Set `TRANSFORMERS_VERBOSITY=info` for more details.\n"
          ]
        },
        {
          "output_type": "stream",
          "name": "stdout",
          "text": [
            "🔍 Raw model output: Named Entities: (HardBit 2.0, Malware), (Ransomware, Threat Type), (Microsoft Windows, Platform), (Microsoft Windows Users, Impacted Party), (Encrypts files on the compromised machine and demands rans...\n",
            "  ✅ Processed 140/427 articles\n",
            "\n",
            "Processing 141/427: Microsoft OneNote File Being Leveraged by Phishing Campaigns...\n"
          ]
        },
        {
          "output_type": "stream",
          "name": "stderr",
          "text": [
            "The following generation flags are not valid and may be ignored: ['temperature', 'top_p', 'top_k']. Set `TRANSFORMERS_VERBOSITY=info` for more details.\n"
          ]
        },
        {
          "output_type": "stream",
          "name": "stdout",
          "text": [
            "🔍 Raw model output: Named Entities: (AsyncRAT, Malware), (phishing, Technique), (Microsoft OneNote, Tool), (malicious files, File), (C2 server, Domain), (FortiGuard Labs, Attacker)\n",
            "Relationships: (AsyncRAT, uses, phishin...\n",
            "\n",
            "Processing 142/427: Reduce, Reuse, Recycle: Bad Actors Practicing the Three Rs...\n"
          ]
        },
        {
          "output_type": "stream",
          "name": "stderr",
          "text": [
            "The following generation flags are not valid and may be ignored: ['temperature', 'top_p', 'top_k']. Set `TRANSFORMERS_VERBOSITY=info` for more details.\n"
          ]
        },
        {
          "output_type": "stream",
          "name": "stdout",
          "text": [
            "🔍 Raw model output: Named Entities: (FortiGuard Labs, Organization), (wipers, Malware), (Ukrainian organizations, Organization), (Russia, Country), (ransomware, Threat Type), (InfoStealers, Malware), (2022, Date), (cyber...\n",
            "\n",
            "Processing 143/427: Old Cyber Gang Uses New Crypter – ScrubCrypt...\n"
          ]
        },
        {
          "output_type": "stream",
          "name": "stderr",
          "text": [
            "The following generation flags are not valid and may be ignored: ['temperature', 'top_p', 'top_k']. Set `TRANSFORMERS_VERBOSITY=info` for more details.\n"
          ]
        },
        {
          "output_type": "stream",
          "name": "stdout",
          "text": [
            "🔍 Raw model output: Named Entities: (ScrubCrypt, Malware), (8220 Gang, Attacker), (163[.]123[.]142[.]210, IP), (185[.]17[.]0[.]19, IP), (wls-wsat/CoordinatorPortType, URI), (bypass.ps1, File), (PowerShell, Tool), (Oracle...\n",
            "\n",
            "Processing 144/427: Ransomware Roundup – Sirattacker and ALC...\n"
          ]
        },
        {
          "output_type": "stream",
          "name": "stderr",
          "text": [
            "The following generation flags are not valid and may be ignored: ['temperature', 'top_p', 'top_k']. Set `TRANSFORMERS_VERBOSITY=info` for more details.\n"
          ]
        },
        {
          "output_type": "stream",
          "name": "stdout",
          "text": [
            "🔍 Raw model output: Named Entities: (Sirattacker, Malware), (ALC, Malware), (Ransomware, Threat Type), (Microsoft Windows, Platform), (Microsoft Windows Users, Impacted Party), (Chaos, Malware), (Dark Web, Platform), (Et...\n",
            "\n",
            "Processing 145/427: Just Because It’s Old Doesn’t Mean You Throw It Away (Includ...\n"
          ]
        },
        {
          "output_type": "stream",
          "name": "stderr",
          "text": [
            "The following generation flags are not valid and may be ignored: ['temperature', 'top_p', 'top_k']. Set `TRANSFORMERS_VERBOSITY=info` for more details.\n"
          ]
        },
        {
          "output_type": "stream",
          "name": "stdout",
          "text": [
            "🔍 Raw model output: Named Entities: (MyDoom, Malware), (Novarg, Malware), (Mimail, Malware), (Windows, Platform), (Windows users, User), (delivery error, Technique), (testing, Technique), (Content-Type, Technique), (.cmd...\n",
            "  ✅ Processed 145/427 articles\n",
            "\n",
            "Processing 146/427: Can You See It Now? An Emerging LockBit Campaign...\n"
          ]
        },
        {
          "output_type": "stream",
          "name": "stderr",
          "text": [
            "The following generation flags are not valid and may be ignored: ['temperature', 'top_p', 'top_k']. Set `TRANSFORMERS_VERBOSITY=info` for more details.\n"
          ]
        },
        {
          "output_type": "stream",
          "name": "stdout",
          "text": [
            "🔍 Raw model output: Named Entities: (LockBit, Malware), (ransomware, Threat Type), (TTPs, Technique), (.img container, File), (social engineering, Technique), (python script, File), (BAT script, File), (UAC bypass, Techn...\n",
            "\n",
            "Processing 147/427: Key Findings from the 2H 2022 FortiGuard Labs Threat Report...\n"
          ]
        },
        {
          "output_type": "stream",
          "name": "stderr",
          "text": [
            "The following generation flags are not valid and may be ignored: ['temperature', 'top_p', 'top_k']. Set `TRANSFORMERS_VERBOSITY=info` for more details.\n"
          ]
        },
        {
          "output_type": "stream",
          "name": "stdout",
          "text": [
            "🔍 Raw model output: Named Entities: (FortiGuard Labs, Attacker), (wipermalware, Malware), (Mirai, Malware)\n",
            "Relationships: (FortiGuard Labs, uses, wipermalware), (FortiGuard Labs, uses, Mirai)\n",
            "\n",
            "Okay, let's tackle this que...\n",
            "\n",
            "Processing 148/427: Royal Ransomware Targets Linux ESXi Servers...\n"
          ]
        },
        {
          "output_type": "stream",
          "name": "stderr",
          "text": [
            "The following generation flags are not valid and may be ignored: ['temperature', 'top_p', 'top_k']. Set `TRANSFORMERS_VERBOSITY=info` for more details.\n"
          ]
        },
        {
          "output_type": "stream",
          "name": "stdout",
          "text": [
            "🔍 Raw model output: Named Entities: (Royal Ransomware, Malware), (Linux, Platform), (Unix, Platform), (ESXi, Platform), (Virtual Machine, Platform), (32 character string, File), (percentage, File), (5,245,000 bytes, File...\n",
            "\n",
            "Processing 149/427: More Supply Chain Attacks via New Malicious Python Packages ...\n"
          ]
        },
        {
          "output_type": "stream",
          "name": "stderr",
          "text": [
            "The following generation flags are not valid and may be ignored: ['temperature', 'top_p', 'top_k']. Set `TRANSFORMERS_VERBOSITY=info` for more details.\n"
          ]
        },
        {
          "output_type": "stream",
          "name": "stdout",
          "text": [
            "🔍 Raw model output: Named Entities: (FortiGuard Labs, Attacker), (Portugal, Attacker), (Brazil, Attacker), (xhttpsp, File), (httpssp, File), (January 31, 2023, Date), (January 27, 2023, Date), (setup.py, File), (Base64, ...\n",
            "\n",
            "Processing 150/427: Ransomware Roundup – CatB...\n"
          ]
        },
        {
          "output_type": "stream",
          "name": "stderr",
          "text": [
            "The following generation flags are not valid and may be ignored: ['temperature', 'top_p', 'top_k']. Set `TRANSFORMERS_VERBOSITY=info` for more details.\n"
          ]
        },
        {
          "output_type": "stream",
          "name": "stdout",
          "text": [
            "🔍 Raw model output: Named Entities: (CatB, Malware), (Ransomware, Threat Type), (Microsoft Windows, Platform), (Bitcoinwallet, Tool), (TOR, Domain), (e-mail, Technique), (Ransomware-as-a-Service, Technique), (Microsoft W...\n",
            "  ✅ Processed 150/427 articles\n",
            "\n",
            "Processing 151/427: Supply Chain Attack via New Malicious Python Packages by Mal...\n"
          ]
        },
        {
          "output_type": "stream",
          "name": "stderr",
          "text": [
            "The following generation flags are not valid and may be ignored: ['temperature', 'top_p', 'top_k']. Set `TRANSFORMERS_VERBOSITY=info` for more details.\n"
          ]
        },
        {
          "output_type": "stream",
          "name": "stdout",
          "text": [
            "🔍 Raw model output: Named Entities: (Core1337, Attacker), (3m-promo-gen-api, File), (Ai-Solver-gen, File), (hypixel-coins, File), (httpxrequesterv2, File), (httpxrequester, File), (hxxps://discord[.]com/api/webhooks/1069...\n",
            "\n",
            "Processing 152/427: Supply Chain Attack by New Malicious Python Package, “web3-e...\n"
          ]
        },
        {
          "output_type": "stream",
          "name": "stderr",
          "text": [
            "The following generation flags are not valid and may be ignored: ['temperature', 'top_p', 'top_k']. Set `TRANSFORMERS_VERBOSITY=info` for more details.\n"
          ]
        },
        {
          "output_type": "stream",
          "name": "stdout",
          "text": [
            "🔍 Raw model output: Named Entities: (FortiGuard Labs, Attacker), (web3-essential, File), (Trexon, Attacker), (1.0.4b0, File), (setup.py, File), (hxxps://cdn[.]discordapp[.]com/attachments/1068100530498449468/106823948561...\n",
            "\n",
            "Processing 153/427: Ransomware Roundup – Trigona...\n"
          ]
        },
        {
          "output_type": "stream",
          "name": "stderr",
          "text": [
            "The following generation flags are not valid and may be ignored: ['temperature', 'top_p', 'top_k']. Set `TRANSFORMERS_VERBOSITY=info` for more details.\n"
          ]
        },
        {
          "output_type": "stream",
          "name": "stdout",
          "text": [
            "🔍 Raw model output: Named Entities: (Trigona, Malware), (Ransomware, Threat Type), (Microsoft Windows, Platform), (Microsoft Windows Users, Impacted Party), (Encrypts files on the compromised machine and demands ransom f...\n",
            "\n",
            "Processing 154/427: Analyzing Malware Code that Cryptojacks System to Mine for M...\n"
          ]
        },
        {
          "output_type": "stream",
          "name": "stderr",
          "text": [
            "The following generation flags are not valid and may be ignored: ['temperature', 'top_p', 'top_k']. Set `TRANSFORMERS_VERBOSITY=info` for more details.\n"
          ]
        },
        {
          "output_type": "stream",
          "name": "stdout",
          "text": [
            "🔍 Raw model output: Named Entities: (Pago_detalles.xls, File), (makbuzu.xls, File), (Pago.xls, File), (Monero (XMR), Currency), (Microsoft Windows, Platform), (Windows Users, Victim), (Cryptojack, Threat Type), (Microsof...\n",
            "\n",
            "Processing 155/427: FortiGuard Outbreak Alerts - 2022 Annual Report...\n"
          ]
        },
        {
          "output_type": "stream",
          "name": "stderr",
          "text": [
            "The following generation flags are not valid and may be ignored: ['temperature', 'top_p', 'top_k']. Set `TRANSFORMERS_VERBOSITY=info` for more details.\n"
          ]
        },
        {
          "output_type": "stream",
          "name": "stdout",
          "text": [
            "🔍 Raw model output: Named Entities: (FortiGuard Outbreak Alerts, Tool), (FortiGuard Outbreak Detection Service, Tool), (SolarWinds Orion, Tool), (FortiGuard IPS, Tool), (FortiGuard AV/Sandbox, Tool), (cross-site scriptin...\n",
            "  ✅ Processed 155/427 articles\n",
            "\n",
            "Processing 156/427: The Year of the Wiper...\n"
          ]
        },
        {
          "output_type": "stream",
          "name": "stderr",
          "text": [
            "The following generation flags are not valid and may be ignored: ['temperature', 'top_p', 'top_k']. Set `TRANSFORMERS_VERBOSITY=info` for more details.\n"
          ]
        },
        {
          "output_type": "stream",
          "name": "stdout",
          "text": [
            "🔍 Raw model output: Named Entities: (FortiGuard Labs, Attacker), (wiper malware, Malware), (Ukrainian organizations, Organization), (HermeticWiper, Malware), (CaddyWiper, Malware), (IsaacWiper, Malware), (WhisperGate, Ma...\n",
            "\n",
            "Processing 157/427: QR Code Phishing Attempts to Steal Credentials from Chinese ...\n"
          ]
        },
        {
          "output_type": "stream",
          "name": "stderr",
          "text": [
            "The following generation flags are not valid and may be ignored: ['temperature', 'top_p', 'top_k']. Set `TRANSFORMERS_VERBOSITY=info` for more details.\n"
          ]
        },
        {
          "output_type": "stream",
          "name": "stdout",
          "text": [
            "🔍 Raw model output: Named Entities: (phishing, Technique), (QR codes, Technique), (Chinese language users, Target), (Microsoft Word, Tool), (Chinese Ministry of Finance, Attacker), (phishing website, Tool)\n",
            "Relationships:...\n",
            "\n",
            "Processing 158/427: Ransomware Roundup – Playing Whack-a-Mole with New CrySIS/Dh...\n"
          ]
        },
        {
          "output_type": "stream",
          "name": "stderr",
          "text": [
            "The following generation flags are not valid and may be ignored: ['temperature', 'top_p', 'top_k']. Set `TRANSFORMERS_VERBOSITY=info` for more details.\n"
          ]
        },
        {
          "output_type": "stream",
          "name": "stdout",
          "text": [
            "🔍 Raw model output: Named Entities: (CrySIS/Dharma, Malware), (Ransomware, Threat Type), (Microsoft Windows, Platform), (Microsoft Windows Users, Impacted Party), (Encrypts files on the compromised machine and demands ra...\n",
            "\n",
            "Processing 159/427: Supply Chain Attack Using Identical PyPI Packages, “colorsli...\n"
          ]
        },
        {
          "output_type": "stream",
          "name": "stderr",
          "text": [
            "The following generation flags are not valid and may be ignored: ['temperature', 'top_p', 'top_k']. Set `TRANSFORMERS_VERBOSITY=info` for more details.\n"
          ]
        },
        {
          "output_type": "stream",
          "name": "stdout",
          "text": [
            "🔍 Raw model output: Named Entities: (FortiGuard Labs, Attacker), (colorslib, File), (httpslib, File), (libhttps, File), (Lolip0p, Attacker), (PowerShell, Tool), (https://dl[.]dropbox[.]com/s/mkd3enun97s8zag/Oxzy[.]exe?dl...\n",
            "\n",
            "Processing 160/427: 2022 IoT Threat Review...\n"
          ]
        },
        {
          "output_type": "stream",
          "name": "stderr",
          "text": [
            "The following generation flags are not valid and may be ignored: ['temperature', 'top_p', 'top_k']. Set `TRANSFORMERS_VERBOSITY=info` for more details.\n"
          ]
        },
        {
          "output_type": "stream",
          "name": "stdout",
          "text": [
            "🔍 Raw model output: Named Entities: (FortiGuard Labs, Attacker), (IoT botnet, Threat Type), (Linux, Platform), (Remote attackers, Attacker), (Distributed Denial of Service, Technique), (Telnet, Tool), (SSH, Tool), (20 mi...\n",
            "  ✅ Processed 160/427 articles\n",
            "\n",
            "Processing 161/427: Ransomware Roundup – Monti, BlackHunt, and Putin...\n"
          ]
        },
        {
          "output_type": "stream",
          "name": "stderr",
          "text": [
            "The following generation flags are not valid and may be ignored: ['temperature', 'top_p', 'top_k']. Set `TRANSFORMERS_VERBOSITY=info` for more details.\n"
          ]
        },
        {
          "output_type": "stream",
          "name": "stdout",
          "text": [
            "🔍 Raw model output: Named Entities: (Monti, Malware), (BlackHunt, Malware), (Putin, Malware), (Microsoft Windows, Platform), (Microsoft Windows Users, Impacted Party), (Encrypts files on the compromised machine and deman...\n",
            "\n",
            "Processing 162/427: Trying to Steal Christmas (Again!)...\n"
          ]
        },
        {
          "output_type": "stream",
          "name": "stderr",
          "text": [
            "The following generation flags are not valid and may be ignored: ['temperature', 'top_p', 'top_k']. Set `TRANSFORMERS_VERBOSITY=info` for more details.\n"
          ]
        },
        {
          "output_type": "stream",
          "name": "stdout",
          "text": [
            "🔍 Raw model output: Named Entities: (AgentTesla, Attacker), (new designs.exe, File), (Inquiry lists.exe, File), (c94eac21e05336aa64ccbc1726d0a2961880627973dae4c5483aaed33150eec5, Hash), (Windows, Platform), (phishing, Te...\n",
            "\n",
            "Processing 163/427: Ransomware Roundup – Play...\n"
          ]
        },
        {
          "output_type": "stream",
          "name": "stderr",
          "text": [
            "The following generation flags are not valid and may be ignored: ['temperature', 'top_p', 'top_k']. Set `TRANSFORMERS_VERBOSITY=info` for more details.\n"
          ]
        },
        {
          "output_type": "stream",
          "name": "stdout",
          "text": [
            "🔍 Raw model output: Named Entities: (Play, Malware), (Ransomware, Threat Type), (Microsoft Windows, Platform), (Microsoft Windows Users, Impacted Party), (Encrypts files on the compromised machine and demands ransom for ...\n",
            "\n",
            "Processing 164/427: The Taxman Never Sleeps...\n"
          ]
        },
        {
          "output_type": "stream",
          "name": "stderr",
          "text": [
            "The following generation flags are not valid and may be ignored: ['temperature', 'top_p', 'top_k']. Set `TRANSFORMERS_VERBOSITY=info` for more details.\n"
          ]
        },
        {
          "output_type": "stream",
          "name": "stdout",
          "text": [
            "🔍 Raw model output: Named Entities: (Emotet, Malware), (Emotet, Attacker), (IRS, Organization), (Geodo, Malware), (Heodo, Malware), (K-1, File), (Zip, File), (0440, Password), (IRS.gov, Domain)\n",
            "Relationships: (Emotet, ak...\n",
            "\n",
            "Processing 165/427: New Supply Chain Attack Uses Python Package Index “aioconsol...\n"
          ]
        },
        {
          "output_type": "stream",
          "name": "stderr",
          "text": [
            "The following generation flags are not valid and may be ignored: ['temperature', 'top_p', 'top_k']. Set `TRANSFORMERS_VERBOSITY=info` for more details.\n"
          ]
        },
        {
          "output_type": "stream",
          "name": "stdout",
          "text": [
            "🔍 Raw model output: Named Entities: (aioconsol, Malware), (test.exe, File), (stub.exe, File), (52e6efbbfb1fdeb976e2464c542bc17747d213d67f28dff4d7df0879df23fd7e, Hash), (8124cec491e0249bc4a9f3f9d3755201b0e8c28068ce8c4b528...\n",
            "  ✅ Processed 165/427 articles\n",
            "\n",
            "Processing 166/427: Supply Chain Attack via New Malicious Python Package, “shade...\n"
          ]
        },
        {
          "output_type": "stream",
          "name": "stderr",
          "text": [
            "The following generation flags are not valid and may be ignored: ['temperature', 'top_p', 'top_k']. Set `TRANSFORMERS_VERBOSITY=info` for more details.\n"
          ]
        },
        {
          "output_type": "stream",
          "name": "stdout",
          "text": [
            "🔍 Raw model output: Named Entities: (Shaderz, Threat Type), (stub.exe, File), (main.exe, File), (hxxps://cdn[.]discordapp[.]com/attachments/1045000289708687390/1045158219024171169/main[.]exe, URL), (d1f0583169acde756793d...\n",
            "\n",
            "Processing 167/427: Want to Know What’s in That Online Mystery Box? NOTHING AT A...\n"
          ]
        },
        {
          "output_type": "stream",
          "name": "stderr",
          "text": [
            "The following generation flags are not valid and may be ignored: ['temperature', 'top_p', 'top_k']. Set `TRANSFORMERS_VERBOSITY=info` for more details.\n"
          ]
        },
        {
          "output_type": "stream",
          "name": "stdout",
          "text": [
            "🔍 Raw model output: No related entities and relations\n",
            "Okay, let's see. The user provided a text about FortiGuard Labs Threat Research related to the holiday season and online returns. I need to check if there are any ent...\n",
            "\n",
            "Processing 168/427: GoTrim: Go-based Botnet Actively Brute Forces WordPress Webs...\n"
          ]
        },
        {
          "output_type": "stream",
          "name": "stderr",
          "text": [
            "The following generation flags are not valid and may be ignored: ['temperature', 'top_p', 'top_k']. Set `TRANSFORMERS_VERBOSITY=info` for more details.\n"
          ]
        },
        {
          "output_type": "stream",
          "name": "stdout",
          "text": [
            "🔍 Raw model output: Named Entities: (FortiGuard Labs, Organization), (GoTrim, Malware), (StealthWorker, Malware), (bot network, Tool), (WordPress, Tool), (OpenCart, Tool), (C2 server, Tool), (Go, Programming Language), (...\n",
            "\n",
            "Processing 169/427: Supply Chain Attack via New Malicious Python Package, “shade...\n"
          ]
        },
        {
          "output_type": "stream",
          "name": "stderr",
          "text": [
            "The following generation flags are not valid and may be ignored: ['temperature', 'top_p', 'top_k']. Set `TRANSFORMERS_VERBOSITY=info` for more details.\n"
          ]
        },
        {
          "output_type": "stream",
          "name": "stdout",
          "text": [
            "🔍 Raw model output: Named Entities: (FortiGuard Labs Threat Research, Organization), (Fortinet Advanced Research Team, Organization), (shaderz, File), (December 6, 2022, Date), (PyPI, Tool), (setup.py, File), (https://cd...\n",
            "\n",
            "Processing 170/427: Ransomware Roundup – New Vohuk, ScareCrow, and AERST Variant...\n"
          ]
        },
        {
          "output_type": "stream",
          "name": "stderr",
          "text": [
            "The following generation flags are not valid and may be ignored: ['temperature', 'top_p', 'top_k']. Set `TRANSFORMERS_VERBOSITY=info` for more details.\n"
          ]
        },
        {
          "output_type": "stream",
          "name": "stdout",
          "text": [
            "🔍 Raw model output: Named Entities: (FortiGuard Labs, Attacker), (Ransomware Roundup, Report), (Vohuk, Malware), (ScareCrow, Malware), (AERST, Malware), (Microsoft Windows, Platform), (Microsoft Windows Users, Impacted P...\n",
            "  ✅ Processed 170/427 articles\n",
            "\n",
            "Processing 171/427: cyber war middle east...\n"
          ]
        },
        {
          "output_type": "stream",
          "name": "stderr",
          "text": [
            "The following generation flags are not valid and may be ignored: ['temperature', 'top_p', 'top_k']. Set `TRANSFORMERS_VERBOSITY=info` for more details.\n"
          ]
        },
        {
          "output_type": "stream",
          "name": "stdout",
          "text": [
            "🔍 Raw model output: Named Entities: (Stuxnet, Malware)\n",
            "Relationships: (Stuxnet, target, Natanz facility)\n",
            "\n",
            "Okay, let's tackle this query. The user wants me to extract entities and relationships from the given text based o...\n",
            "\n",
            "Processing 172/427: toolshell zero day sharepoint cve 2025 53770...\n"
          ]
        },
        {
          "output_type": "stream",
          "name": "stderr",
          "text": [
            "The following generation flags are not valid and may be ignored: ['temperature', 'top_p', 'top_k']. Set `TRANSFORMERS_VERBOSITY=info` for more details.\n"
          ]
        },
        {
          "output_type": "stream",
          "name": "stdout",
          "text": [
            "🔍 Raw model output: Named Entities: (CVE-2025-53770, Vulnerability), (SharePoint, Tool), (CVE-2025-49704, Vulnerability), (Symantec, Attacker), (CVE-2025-53771, Vulnerability)\n",
            "Relationships: (CVE-2025-53770, exploit, Sha...\n",
            "\n",
            "Processing 173/427: fog ransomware attack...\n"
          ]
        },
        {
          "output_type": "stream",
          "name": "stderr",
          "text": [
            "The following generation flags are not valid and may be ignored: ['temperature', 'top_p', 'top_k']. Set `TRANSFORMERS_VERBOSITY=info` for more details.\n"
          ]
        },
        {
          "output_type": "stream",
          "name": "stdout",
          "text": [
            "🔍 Raw model output: Named Entities: (Fog, Malware), (Ransomware, Threat Type), (Syteca, Tool), (Ekran, Tool), (GC2, Tool), (Adaptix, Tool), (Stowaway, Tool), (CVE-2024-40711, Vulnerability), (Veeam Backup, Tool)\n",
            "Relation...\n",
            "\n",
            "Processing 174/427: chrome extension leaks...\n"
          ]
        },
        {
          "output_type": "stream",
          "name": "stderr",
          "text": [
            "The following generation flags are not valid and may be ignored: ['temperature', 'top_p', 'top_k']. Set `TRANSFORMERS_VERBOSITY=info` for more details.\n"
          ]
        },
        {
          "output_type": "stream",
          "name": "stdout",
          "text": [
            "🔍 Raw model output: Named Entities: (SEMRush Rank, File), (PI Rank, File), (MSN New Tab/Homepage, File), (DualSafe Password Manager, File), (Browsec VPN, File), (rank.trellian.com, Domain), (MITM, Attacker), (idbhoeaiokc...\n",
            "\n",
            "Processing 175/427: chrome extension credentials...\n"
          ]
        },
        {
          "output_type": "stream",
          "name": "stderr",
          "text": [
            "The following generation flags are not valid and may be ignored: ['temperature', 'top_p', 'top_k']. Set `TRANSFORMERS_VERBOSITY=info` for more details.\n"
          ]
        },
        {
          "output_type": "stream",
          "name": "stdout",
          "text": [
            "🔍 Raw model output: Named Entities: (TheAvast Online Security & Privacyextension, File), (AVG Online Security, File), (GA4_API_SECRET, Secret), (Equatio – Math Made Digital, File), (Azure API key, Secret)\n",
            "Relationships: ...\n",
            "  ✅ Processed 175/427 articles\n",
            "\n",
            "Processing 176/427: play ransomware zero day...\n"
          ]
        },
        {
          "output_type": "stream",
          "name": "stderr",
          "text": [
            "The following generation flags are not valid and may be ignored: ['temperature', 'top_p', 'top_k']. Set `TRANSFORMERS_VERBOSITY=info` for more details.\n"
          ]
        },
        {
          "output_type": "stream",
          "name": "stdout",
          "text": [
            "🔍 Raw model output: Named Entities: (Play ransomware, Malware), (PlayCrypt, Malware), (Balloonfly, Attacker), (theGrixba infostealer, Tool), (CVE-2025-29824, Vulnerability), (clfs.sys, File), (Cisco ASA firewall, Tool), ...\n",
            "\n",
            "Processing 177/427: billbug china espionage...\n"
          ]
        },
        {
          "output_type": "stream",
          "name": "stderr",
          "text": [
            "The following generation flags are not valid and may be ignored: ['temperature', 'top_p', 'top_k']. Set `TRANSFORMERS_VERBOSITY=info` for more details.\n"
          ]
        },
        {
          "output_type": "stream",
          "name": "stdout",
          "text": [
            "🔍 Raw model output: Named Entities: (Billbug, Attacker), (Lotus Blossom, Aka), (Lotus Panda, Aka), (Bronze Elgin, Aka), (government ministry, Target), (air traffic control organization, Target), (telecoms operator, Targe...\n",
            "\n",
            "Processing 178/427: shuckworm ukraine gammasteel...\n"
          ]
        },
        {
          "output_type": "stream",
          "name": "stderr",
          "text": [
            "The following generation flags are not valid and may be ignored: ['temperature', 'top_p', 'top_k']. Set `TRANSFORMERS_VERBOSITY=info` for more details.\n"
          ]
        },
        {
          "output_type": "stream",
          "name": "stdout",
          "text": [
            "🔍 Raw model output: Named Entities: (Shuckworm, Attacker), (Ukraine, Country), (Western country, Country), (Eastern European nation, Country), (February 2025, Date), (March, Date), (infected removable drive, Technique), ...\n",
            "\n",
            "Processing 179/427: ransomhub betruger backdoor...\n"
          ]
        },
        {
          "output_type": "stream",
          "name": "stderr",
          "text": [
            "The following generation flags are not valid and may be ignored: ['temperature', 'top_p', 'top_k']. Set `TRANSFORMERS_VERBOSITY=info` for more details.\n"
          ]
        },
        {
          "output_type": "stream",
          "name": "stdout",
          "text": [
            "🔍 Raw model output: Named Entities: (RansomHub, Threat Type), (Ransomware, Threat Type), (Backdoor.Betruger, Malware), (encrypting payloads, Malware), (Mimikatz, Tool), (Cobalt Strike, Tool), (theCoreid group, Attacker),...\n",
            "\n",
            "Processing 180/427: ai agent attacks...\n"
          ]
        },
        {
          "output_type": "stream",
          "name": "stderr",
          "text": [
            "The following generation flags are not valid and may be ignored: ['temperature', 'top_p', 'top_k']. Set `TRANSFORMERS_VERBOSITY=info` for more details.\n"
          ]
        },
        {
          "output_type": "stream",
          "name": "stdout",
          "text": [
            "🔍 Raw model output: Named Entities: (Operator, Tool), (Dick O'Brien, Attacker)\n",
            "Relationships: (Operator, used by, Dick O'Brien)\n",
            "\n",
            "Okay, let's tackle this query. The user wants me to extract entities and relationships from...\n",
            "  ✅ Processed 180/427 articles\n",
            "\n",
            "Processing 181/427: medusa ransomware attacks...\n"
          ]
        },
        {
          "output_type": "stream",
          "name": "stderr",
          "text": [
            "The following generation flags are not valid and may be ignored: ['temperature', 'top_p', 'top_k']. Set `TRANSFORMERS_VERBOSITY=info` for more details.\n"
          ]
        },
        {
          "output_type": "stream",
          "name": "stdout",
          "text": [
            "🔍 Raw model output: Named Entities: (Medusa, Malware), (Ransomware, Threat Type), (Spearwing, Attacker), (double extortion, Technique), (data leaks site, Domain), (400, File), (100,000, File), (15 million, File), (Noberu...\n",
            "\n",
            "Processing 182/427: ransomware trends 2025...\n"
          ]
        },
        {
          "output_type": "stream",
          "name": "stderr",
          "text": [
            "The following generation flags are not valid and may be ignored: ['temperature', 'top_p', 'top_k']. Set `TRANSFORMERS_VERBOSITY=info` for more details.\n"
          ]
        },
        {
          "output_type": "stream",
          "name": "stdout",
          "text": [
            "🔍 Raw model output: Named Entities: (Ransomware, Threat Type), (LockBit, Malware), (Noberus, Malware), (living-off-the-land, Technique), (dual-use tools, Tool), (Exfiltrating data, Technique), (double extortion attacks, ...\n",
            "\n",
            "Processing 183/427: chinese espionage ransomware...\n"
          ]
        },
        {
          "output_type": "stream",
          "name": "stderr",
          "text": [
            "The following generation flags are not valid and may be ignored: ['temperature', 'top_p', 'top_k']. Set `TRANSFORMERS_VERBOSITY=info` for more details.\n"
          ]
        },
        {
          "output_type": "stream",
          "name": "stdout",
          "text": [
            "🔍 Raw model output: Named Entities: (RA World, Malware), (China-based, Attacker), (Toshiba, Tool), (toshtdpdb.exe, File), (toshtdpapi.dll, File), (TosHdp.dat, File), (RC4, Technique), (PlugX, Malware), (Korplug, Malware)...\n",
            "\n",
            "Processing 184/427: china southeast asia espionage...\n"
          ]
        },
        {
          "output_type": "stream",
          "name": "stderr",
          "text": [
            "The following generation flags are not valid and may be ignored: ['temperature', 'top_p', 'top_k']. Set `TRANSFORMERS_VERBOSITY=info` for more details.\n"
          ]
        },
        {
          "output_type": "stream",
          "name": "stdout",
          "text": [
            "🔍 Raw model output: Named Entities: (China-based APT groups, Attacker), (Southeast Asia, Region), (government ministries, Organization), (air traffic control organization, Organization), (telecoms company, Organization),...\n",
            "\n",
            "Processing 185/427: us china espionage...\n"
          ]
        },
        {
          "output_type": "stream",
          "name": "stderr",
          "text": [
            "The following generation flags are not valid and may be ignored: ['temperature', 'top_p', 'top_k']. Set `TRANSFORMERS_VERBOSITY=info` for more details.\n"
          ]
        },
        {
          "output_type": "stream",
          "name": "stdout",
          "text": [
            "🔍 Raw model output: Named Entities: (China-based threat actor, Attacker), (Exchange Servers, Tool), (DLL-sideloading, Technique), (GoogleToolbarNotifier.exe, File), (iTunesHelper.exe, File), (Impacket, Tool)\n",
            "Relationship...\n",
            "  ✅ Processed 185/427 articles\n",
            "\n",
            "Processing 186/427: exposing danger within hardcoded cloud credentials popular m...\n"
          ]
        },
        {
          "output_type": "stream",
          "name": "stderr",
          "text": [
            "The following generation flags are not valid and may be ignored: ['temperature', 'top_p', 'top_k']. Set `TRANSFORMERS_VERBOSITY=info` for more details.\n"
          ]
        },
        {
          "output_type": "stream",
          "name": "stdout",
          "text": [
            "🔍 Raw model output: Named Entities: (Pic Stitch: Collage Maker, File), (AWS, Tool), (Amazon S3, Tool), (Microsoft Azure Blob Storage, Tool), (Google Play Store, Domain), (Jadx, Tool)\n",
            "Relationships: (Pic Stitch: Collage M...\n",
            "\n",
            "Processing 187/427: ransomware threat level remains high...\n"
          ]
        },
        {
          "output_type": "stream",
          "name": "stderr",
          "text": [
            "The following generation flags are not valid and may be ignored: ['temperature', 'top_p', 'top_k']. Set `TRANSFORMERS_VERBOSITY=info` for more details.\n"
          ]
        },
        {
          "output_type": "stream",
          "name": "stdout",
          "text": [
            "🔍 Raw model output: Named Entities: (Ransomware, Threat Type), (RansomHub, Attacker), (LockBit, Attacker), (Qilin, Attacker), (1,255, File), (1,325, File), (188, File), (353, File), (75, File), (February 2024, Date), (in...\n",
            "\n",
            "Processing 188/427: stonefly north korea extortion...\n"
          ]
        },
        {
          "output_type": "stream",
          "name": "stderr",
          "text": [
            "The following generation flags are not valid and may be ignored: ['temperature', 'top_p', 'top_k']. Set `TRANSFORMERS_VERBOSITY=info` for more details.\n"
          ]
        },
        {
          "output_type": "stream",
          "name": "stdout",
          "text": [
            "🔍 Raw model output: Named Entities: (North Korean Stonefly group, Attacker), (Andariel, Attacker), (APT45, Attacker), (Silent Chollima, Attacker), (Onyx Sleet, Attacker), (Symantec, Tool), (Broadcom, Tool), (United State...\n",
            "\n",
            "Processing 189/427: ransomware attacks rebound...\n"
          ]
        },
        {
          "output_type": "stream",
          "name": "stderr",
          "text": [
            "The following generation flags are not valid and may be ignored: ['temperature', 'top_p', 'top_k']. Set `TRANSFORMERS_VERBOSITY=info` for more details.\n"
          ]
        },
        {
          "output_type": "stream",
          "name": "stdout",
          "text": [
            "🔍 Raw model output: Named Entities: (Ransomware, Threat Type), (LockBit, Malware), (Syrphid, Attacker), (LockBit, Malware), (Noberus, Malware), (Qilin, Attacker), (Agenda, Attacker)\n",
            "Relationships: (LockBit, operated by, ...\n",
            "\n",
            "Processing 190/427: taiwan malware dns...\n"
          ]
        },
        {
          "output_type": "stream",
          "name": "stderr",
          "text": [
            "The following generation flags are not valid and may be ignored: ['temperature', 'top_p', 'top_k']. Set `TRANSFORMERS_VERBOSITY=info` for more details.\n"
          ]
        },
        {
          "output_type": "stream",
          "name": "stdout",
          "text": [
            "🔍 Raw model output: Named Entities: (Backdoor.Msupedge, Malware), (DNS tunneling, Technique), (dnscat2tool, Tool), (ctl.msedeapi[.]net, Domain)\n",
            "Relationships: (Backdoor.Msupedge, uses, DNS tunneling), (Backdoor.Msupedge,...\n",
            "  ✅ Processed 190/427 articles\n",
            "\n",
            "Processing 191/427: cloud espionage attacks...\n"
          ]
        },
        {
          "output_type": "stream",
          "name": "stderr",
          "text": [
            "The following generation flags are not valid and may be ignored: ['temperature', 'top_p', 'top_k']. Set `TRANSFORMERS_VERBOSITY=info` for more details.\n"
          ]
        },
        {
          "output_type": "stream",
          "name": "stdout",
          "text": [
            "🔍 Raw model output: Named Entities: (GoGra, Malware), (Trojan.Gogra, Malware), (Microsoft Graph API, Tool), (Microsoft mail services, Domain), (Outlook, Tool), (AES-256, Technique), (b14ca5898a4e4133bbce2ea2315a1916, Has...\n",
            "\n",
            "Processing 192/427: malware ai llm...\n"
          ]
        },
        {
          "output_type": "stream",
          "name": "stderr",
          "text": [
            "The following generation flags are not valid and may be ignored: ['temperature', 'top_p', 'top_k']. Set `TRANSFORMERS_VERBOSITY=info` for more details.\n"
          ]
        },
        {
          "output_type": "stream",
          "name": "stdout",
          "text": [
            "🔍 Raw model output: Named Entities: (Large Language Models, Technique), (Rhadamanthys, Malware), (NetSupport, Malware), (CleanUpLoader, Malware), (Broomstick, Malware), (Oyster, Malware), (ModiLoader, Malware), (DBatLoad...\n",
            "\n",
            "Processing 193/427: daggerfly espionage updated toolset...\n"
          ]
        },
        {
          "output_type": "stream",
          "name": "stderr",
          "text": [
            "The following generation flags are not valid and may be ignored: ['temperature', 'top_p', 'top_k']. Set `TRANSFORMERS_VERBOSITY=info` for more details.\n"
          ]
        },
        {
          "output_type": "stream",
          "name": "stdout",
          "text": [
            "🔍 Raw model output: Named Entities: (Daggerfly, Attacker), (Evasive Panda, Attacker), (Bronze Highland, Attacker), (MgBot, Malware), (Macma, Malware), (Apache HTTP server, Tool), (Symantec, Attacker), (Threat Hunter Team...\n",
            "\n",
            "Processing 194/427: ransomware q2 2024...\n"
          ]
        },
        {
          "output_type": "stream",
          "name": "stderr",
          "text": [
            "The following generation flags are not valid and may be ignored: ['temperature', 'top_p', 'top_k']. Set `TRANSFORMERS_VERBOSITY=info` for more details.\n"
          ]
        },
        {
          "output_type": "stream",
          "name": "stdout",
          "text": [
            "🔍 Raw model output: Named Entities: (Ransomware, Threat Type), (LockBit, Attacker), (Noberus, Attacker), (ALPHV, Attacker), (BlackCat, Attacker), (U.S.-led law enforcement operation, Attacker), (international law enforce...\n",
            "\n",
            "Processing 195/427: telecoms espionage asia...\n"
          ]
        },
        {
          "output_type": "stream",
          "name": "stderr",
          "text": [
            "The following generation flags are not valid and may be ignored: ['temperature', 'top_p', 'top_k']. Set `TRANSFORMERS_VERBOSITY=info` for more details.\n"
          ]
        },
        {
          "output_type": "stream",
          "name": "stdout",
          "text": [
            "🔍 Raw model output: Named Entities: (Chinese espionage groups, Attacker), (telecom operators, Target), (Coolclient, Malware), (Fireant group, Attacker), (Mustang Panda, Attacker), (Earth Preta, Attacker), (C&C server, To...\n",
            "  ✅ Processed 195/427 articles\n",
            "\n",
            "Processing 196/427: black basta ransomware zero day...\n"
          ]
        },
        {
          "output_type": "stream",
          "name": "stderr",
          "text": [
            "The following generation flags are not valid and may be ignored: ['temperature', 'top_p', 'top_k']. Set `TRANSFORMERS_VERBOSITY=info` for more details.\n"
          ]
        },
        {
          "output_type": "stream",
          "name": "stdout",
          "text": [
            "🔍 Raw model output: Named Entities: (Cardinal cybercrime group, Attacker), (Storm-1811, Attacker), (UNC4393, Attacker), (Black Basta, Malware), (Windows privilege escalation, Vulnerability), (CVE-2024-26169, Vulnerabilit...\n",
            "\n",
            "Processing 197/427: ransomhub knight ransomware...\n"
          ]
        },
        {
          "output_type": "stream",
          "name": "stderr",
          "text": [
            "The following generation flags are not valid and may be ignored: ['temperature', 'top_p', 'top_k']. Set `TRANSFORMERS_VERBOSITY=info` for more details.\n"
          ]
        },
        {
          "output_type": "stream",
          "name": "stdout",
          "text": [
            "🔍 Raw model output: Named Entities: (RansomHub, Malware), (Ransomware-as-a-Service, Threat Type), (Knight, Malware), (Symantec, Tool), (Broadcom, Tool), (Cyclops, Malware), (Gobfuscate, Tool), (cmd.exe, Tool), (iisreset....\n",
            "\n",
            "Processing 198/427: springtail kimsuky backdoor espionage...\n"
          ]
        },
        {
          "output_type": "stream",
          "name": "stderr",
          "text": [
            "The following generation flags are not valid and may be ignored: ['temperature', 'top_p', 'top_k']. Set `TRANSFORMERS_VERBOSITY=info` for more details.\n"
          ]
        },
        {
          "output_type": "stream",
          "name": "stdout",
          "text": [
            "🔍 Raw model output: Named Entities: (Springtail, Attacker), (Kimsuky, Attacker), (Linux.Gomir, Malware), (GoBear, Malware), (South Korea, IP), (Korea Hydro and Nuclear Power (KHNP), IP), (RGB, Attacker), (DNS Domain-base...\n",
            "\n",
            "Processing 199/427: graph api threats...\n"
          ]
        },
        {
          "output_type": "stream",
          "name": "stderr",
          "text": [
            "The following generation flags are not valid and may be ignored: ['temperature', 'top_p', 'top_k']. Set `TRANSFORMERS_VERBOSITY=info` for more details.\n"
          ]
        },
        {
          "output_type": "stream",
          "name": "stdout",
          "text": [
            "🔍 Raw model output: Named Entities: (Microsoft Graph API, Tool), (command-and-control (C&C), Technique), (Ukraine, IP), (BirdyClient, Malware), (OneDriveBirdyClient, Malware), (vxdiff.dll, File), (Apoint, Tool), (apoint....\n",
            "\n",
            "Processing 200/427: ransomware attacks exploits...\n"
          ]
        },
        {
          "output_type": "stream",
          "name": "stderr",
          "text": [
            "The following generation flags are not valid and may be ignored: ['temperature', 'top_p', 'top_k']. Set `TRANSFORMERS_VERBOSITY=info` for more details.\n"
          ]
        },
        {
          "output_type": "stream",
          "name": "stdout",
          "text": [
            "🔍 Raw model output: Named Entities: (Ransomware, Threat Type), (Qakbot, Malware), (LockBit, Malware), (Syrphid, Attacker), (Bitwise Spider, Attacker), (Noberus, Malware), (BlackCat, Malware), (ALPHV, Malware), (Clop, Mal...\n",
            "  ✅ Processed 200/427 articles\n",
            "\n",
            "Processing 201/427: ransomware data exfiltration...\n"
          ]
        },
        {
          "output_type": "stream",
          "name": "stderr",
          "text": [
            "The following generation flags are not valid and may be ignored: ['temperature', 'top_p', 'top_k']. Set `TRANSFORMERS_VERBOSITY=info` for more details.\n"
          ]
        },
        {
          "output_type": "stream",
          "name": "stdout",
          "text": [
            "🔍 Raw model output: Named Entities: (Ransomware, Threat Type), (data-exfiltration, Technique), (Symantec, Attacker), (Double extortion, Technique), (Rclone, Tool), (AnyDesk, Tool), (ScreenConnect, Tool), (Atera, Tool)\n",
            "Re...\n",
            "\n",
            "Processing 202/427: alpha netwalker ransomware...\n"
          ]
        },
        {
          "output_type": "stream",
          "name": "stderr",
          "text": [
            "The following generation flags are not valid and may be ignored: ['temperature', 'top_p', 'top_k']. Set `TRANSFORMERS_VERBOSITY=info` for more details.\n"
          ]
        },
        {
          "output_type": "stream",
          "name": "stdout",
          "text": [
            "🔍 Raw model output: Named Entities: (Alpha, Malware), (NetWalker, Malware), (ransomware, Threat Type), (PowerShell, Tool), (data leak site, File), (living-off-the-land, Technique), (NetWalker, Malware)\n",
            "Relationships: (Al...\n",
            "\n",
            "Processing 203/427: ransomware threat landscape 2024...\n"
          ]
        },
        {
          "output_type": "stream",
          "name": "stderr",
          "text": [
            "The following generation flags are not valid and may be ignored: ['temperature', 'top_p', 'top_k']. Set `TRANSFORMERS_VERBOSITY=info` for more details.\n"
          ]
        },
        {
          "output_type": "stream",
          "name": "stdout",
          "text": [
            "🔍 Raw model output: Named Entities: (ransomware, Threat Type)\n",
            "Relationships: (ransomware, target, organizations)\n",
            "\n",
            "Okay, let's tackle this query. The user wants me to extract entities and relationships from the given text...\n",
            "\n",
            "Processing 204/427: iran apt seedworm africa telecoms...\n"
          ]
        },
        {
          "output_type": "stream",
          "name": "stderr",
          "text": [
            "The following generation flags are not valid and may be ignored: ['temperature', 'top_p', 'top_k']. Set `TRANSFORMERS_VERBOSITY=info` for more details.\n"
          ]
        },
        {
          "output_type": "stream",
          "name": "stdout",
          "text": [
            "🔍 Raw model output: Named Entities: (Seedworm, Attacker), (Muddywater, Attacker), (telecommunications, Sector), (Egypt, Country), (Sudan, Country), (Tanzania, Country), (2017, Date), (Middle East, Region), (Iran, Country...\n",
            "\n",
            "Processing 205/427: spyware obfuscation static analysis...\n"
          ]
        },
        {
          "output_type": "stream",
          "name": "stderr",
          "text": [
            "The following generation flags are not valid and may be ignored: ['temperature', 'top_p', 'top_k']. Set `TRANSFORMERS_VERBOSITY=info` for more details.\n"
          ]
        },
        {
          "output_type": "stream",
          "name": "stdout",
          "text": [
            "🔍 Raw model output: Named Entities: \n",
            "Relationships: \n",
            "\n",
            "Okay, let's tackle this. The user wants me to extract entities and relationships from the given text based on the specified types. First, I need to read through the i...\n",
            "  ✅ Processed 205/427 articles\n",
            "\n",
            "Processing 206/427: crambus middle east government...\n"
          ]
        },
        {
          "output_type": "stream",
          "name": "stderr",
          "text": [
            "The following generation flags are not valid and may be ignored: ['temperature', 'top_p', 'top_k']. Set `TRANSFORMERS_VERBOSITY=info` for more details.\n"
          ]
        },
        {
          "output_type": "stream",
          "name": "stdout",
          "text": [
            "🔍 Raw model output: Named Entities: (Iranian Crambus, Attacker), (OilRig, Attacker), (APT34, Attacker), (PowerExchange, Malware), (Exchange Server, Tool), (Plink, Tool), (Remote Desktop Protocol, Tool), (Windows firewall...\n",
            "\n",
            "Processing 207/427: grayling taiwan cyber attacks...\n"
          ]
        },
        {
          "output_type": "stream",
          "name": "stderr",
          "text": [
            "The following generation flags are not valid and may be ignored: ['temperature', 'top_p', 'top_k']. Set `TRANSFORMERS_VERBOSITY=info` for more details.\n"
          ]
        },
        {
          "output_type": "stream",
          "name": "stdout",
          "text": [
            "🔍 Raw model output: Named Entities: (APT, Threat Type), (Grayling, Attacker), (DLL sideloading, Technique), (Cobalt Strike, Tool), (NetSpy, Tool), (Havoc, Tool), (privilege escalation, Technique), (network scanning, Tech...\n",
            "\n",
            "Processing 208/427: budworm tool update telecoms govt...\n"
          ]
        },
        {
          "output_type": "stream",
          "name": "stderr",
          "text": [
            "The following generation flags are not valid and may be ignored: ['temperature', 'top_p', 'top_k']. Set `TRANSFORMERS_VERBOSITY=info` for more details.\n"
          ]
        },
        {
          "output_type": "stream",
          "name": "stdout",
          "text": [
            "🔍 Raw model output: Named Entities: (Budworm, Attacker), (APT, Threat Type), (LuckyMouse, Attacker), (Emissary Panda, Attacker), (APT27, Attacker), (SysUpdate, Malware), (SysUpdate DLL inicore_v2.3.30.dll, File), (Middle...\n",
            "\n",
            "Processing 209/427: 3am ransomware lockbit...\n"
          ]
        },
        {
          "output_type": "stream",
          "name": "stderr",
          "text": [
            "The following generation flags are not valid and may be ignored: ['temperature', 'top_p', 'top_k']. Set `TRANSFORMERS_VERBOSITY=info` for more details.\n"
          ]
        },
        {
          "output_type": "stream",
          "name": "stdout",
          "text": [
            "🔍 Raw model output: Named Entities: (3AM, Malware), (LockBit, Malware), (Rust, Tool), (Volume Shadow (VSS), Technique), (gpresult, Tool), (Cobalt Strike, Tool), (PsExec, Tool), (whoami, Technique), (netstat, Technique), ...\n",
            "\n",
            "Processing 210/427: critical infrastructure attacks...\n"
          ]
        },
        {
          "output_type": "stream",
          "name": "stderr",
          "text": [
            "The following generation flags are not valid and may be ignored: ['temperature', 'top_p', 'top_k']. Set `TRANSFORMERS_VERBOSITY=info` for more details.\n"
          ]
        },
        {
          "output_type": "stream",
          "name": "stdout",
          "text": [
            "🔍 Raw model output: Named Entities: (Espionage actors, Attacker), (critical national infrastructure, Target), (Redfly, Attacker), (ShadowPad, Malware), (national grid, Target), (Asian country, Location), (U.S., Location)...\n",
            "  ✅ Processed 210/427 articles\n",
            "\n",
            "Processing 211/427: qakbot takedown disruption...\n"
          ]
        },
        {
          "output_type": "stream",
          "name": "stderr",
          "text": [
            "The following generation flags are not valid and may be ignored: ['temperature', 'top_p', 'top_k']. Set `TRANSFORMERS_VERBOSITY=info` for more details.\n"
          ]
        },
        {
          "output_type": "stream",
          "name": "stdout",
          "text": [
            "🔍 Raw model output: Named Entities: (Qakbot, Malware), (Qakbot botnet, Threat Type), (FBI, Attacker), (Justice Department, Attacker), (France, Attacker), (Germany, Attacker), (Netherlands, Attacker), (UK, Attacker), (Rom...\n",
            "\n",
            "Processing 212/427: carderbee software supply chain certificate abuse...\n"
          ]
        },
        {
          "output_type": "stream",
          "name": "stderr",
          "text": [
            "The following generation flags are not valid and may be ignored: ['temperature', 'top_p', 'top_k']. Set `TRANSFORMERS_VERBOSITY=info` for more details.\n"
          ]
        },
        {
          "output_type": "stream",
          "name": "stdout",
          "text": [
            "🔍 Raw model output: Named Entities: (APT, Threat Type), (Cobra DocGuard, Tool), (Korplug, Malware), (PlugX, Malware), (Microsoft certificate, Tool), (Hong Kong, IP), (Carderbee, Attacker), (Cobra DocGuard Client, Tool), ...\n",
            "\n",
            "Processing 213/427: syssphinx fin8 backdoor...\n"
          ]
        },
        {
          "output_type": "stream",
          "name": "stderr",
          "text": [
            "The following generation flags are not valid and may be ignored: ['temperature', 'top_p', 'top_k']. Set `TRANSFORMERS_VERBOSITY=info` for more details.\n"
          ]
        },
        {
          "output_type": "stream",
          "name": "stdout",
          "text": [
            "🔍 Raw model output: Named Entities: (Syssphinx, Attacker), (FIN8, Attacker), (Sardonic, Malware), (Noberus, Malware), (Ragnar Locker, Malware), (PowerShell, Tool), (WMI, Tool), (POS, Technique), (spear-phishing, Techniqu...\n",
            "\n",
            "Processing 214/427: microsoft zeroday exploit...\n"
          ]
        },
        {
          "output_type": "stream",
          "name": "stderr",
          "text": [
            "The following generation flags are not valid and may be ignored: ['temperature', 'top_p', 'top_k']. Set `TRANSFORMERS_VERBOSITY=info` for more details.\n"
          ]
        },
        {
          "output_type": "stream",
          "name": "stdout",
          "text": [
            "🔍 Raw model output: Named Entities: (CVE-2023-36884, Vulnerability), (Microsoft Windows, Tool), (Microsoft Office, Tool), (Storm-0978, Attacker), (RomCom, Attacker), (Microsoft Word, Tool), (Ukrainian World Congress, Fil...\n",
            "\n",
            "Processing 215/427: flea backdoor microsoft graph apt15...\n"
          ]
        },
        {
          "output_type": "stream",
          "name": "stderr",
          "text": [
            "The following generation flags are not valid and may be ignored: ['temperature', 'top_p', 'top_k']. Set `TRANSFORMERS_VERBOSITY=info` for more details.\n"
          ]
        },
        {
          "output_type": "stream",
          "name": "stdout",
          "text": [
            "🔍 Raw model output: Named Entities: (Flea, Attacker), (APT15, Attacker), (Nickel, Attacker), (APT, Threat Type), (Backdoor.Graphican, Malware), (Ketrican, Malware), (BS2005, Malware), (foreign ministries, Target), (forei...\n",
            "  ✅ Processed 215/427 articles\n",
            "\n",
            "Processing 216/427: shuckworm russia ukraine military...\n"
          ]
        },
        {
          "output_type": "stream",
          "name": "stderr",
          "text": [
            "The following generation flags are not valid and may be ignored: ['temperature', 'top_p', 'top_k']. Set `TRANSFORMERS_VERBOSITY=info` for more details.\n"
          ]
        },
        {
          "output_type": "stream",
          "name": "stdout",
          "text": [
            "🔍 Raw model output: Named Entities: (Shuckworm, Attacker), (Gamaredon, Attacker), (Armageddon, Attacker), (Russia, Attacker), (Ukraine, IP), (FSB, Attacker), (phishing emails, Technique), (malicious attachments, File)\n",
            "Re...\n",
            "\n",
            "Processing 217/427: moveit vulnerabilities exploits...\n"
          ]
        },
        {
          "output_type": "stream",
          "name": "stderr",
          "text": [
            "The following generation flags are not valid and may be ignored: ['temperature', 'top_p', 'top_k']. Set `TRANSFORMERS_VERBOSITY=info` for more details.\n"
          ]
        },
        {
          "output_type": "stream",
          "name": "stdout",
          "text": [
            "🔍 Raw model output: Named Entities: (Extortion actors, Attacker), (MOVEit Transfer, Tool), (CVE-2023-34362, Vulnerability), (Clop ransomware, Malware), (Progress Software, Attacker), (2021.0.6 (13.0.6), Version), (2021.1...\n",
            "\n",
            "Processing 218/427: buhti ransomware...\n"
          ]
        },
        {
          "output_type": "stream",
          "name": "stderr",
          "text": [
            "The following generation flags are not valid and may be ignored: ['temperature', 'top_p', 'top_k']. Set `TRANSFORMERS_VERBOSITY=info` for more details.\n"
          ]
        },
        {
          "output_type": "stream",
          "name": "stdout",
          "text": [
            "🔍 Raw model output: Named Entities: (Buhti, Attacker), (ransomware, Threat Type), (LockBit, Malware), (Babuk, Malware), (Windows, OS), (Linux, OS), (information stealer, Tool), (Blacktail, Attacker), (PaperCut, Vulnerabi...\n",
            "\n",
            "Processing 219/427: lancefly merdoor zxshell custom backdoor...\n"
          ]
        },
        {
          "output_type": "stream",
          "name": "stderr",
          "text": [
            "The following generation flags are not valid and may be ignored: ['temperature', 'top_p', 'top_k']. Set `TRANSFORMERS_VERBOSITY=info` for more details.\n"
          ]
        },
        {
          "output_type": "stream",
          "name": "stdout",
          "text": [
            "🔍 Raw model output: Named Entities: (Lancefly, Attacker), (APT, Threat Type), (Merdoor, Malware), (ZXShell, Tool), (South and Southeast Asia, Region), (government, Sector), (aviation, Sector), (education, Sector), (telec...\n",
            "\n",
            "Processing 220/427: xtrader 3cx supply chain...\n"
          ]
        },
        {
          "output_type": "stream",
          "name": "stderr",
          "text": [
            "The following generation flags are not valid and may be ignored: ['temperature', 'top_p', 'top_k']. Set `TRANSFORMERS_VERBOSITY=info` for more details.\n"
          ]
        },
        {
          "output_type": "stream",
          "name": "stdout",
          "text": [
            "🔍 Raw model output: Named Entities: (X_Trader, Malware), (3CX, Organization), (Symantec’s Threat Hunter Team, Attacker), (critical infrastructure organizations, Organization), (energy sector, Sector), (financial trading ...\n",
            "  ✅ Processed 220/427 articles\n",
            "\n",
            "Processing 221/427: apt attacks telecoms africa mgbot...\n"
          ]
        },
        {
          "output_type": "stream",
          "name": "stderr",
          "text": [
            "The following generation flags are not valid and may be ignored: ['temperature', 'top_p', 'top_k']. Set `TRANSFORMERS_VERBOSITY=info` for more details.\n"
          ]
        },
        {
          "output_type": "stream",
          "name": "stdout",
          "text": [
            "🔍 Raw model output: Named Entities: (Daggerfly, Attacker), (Evasive Panda, Attacker), (Bronze Highland, Attacker), (MgBot, Malware), (PlugX, Tool), (AnyDesk, Tool), (China-linked APTs, Threat Type), (Malwarebytes, Attack...\n",
            "\n",
            "Processing 222/427: play ransomware volume shadow copy...\n"
          ]
        },
        {
          "output_type": "stream",
          "name": "stderr",
          "text": [
            "The following generation flags are not valid and may be ignored: ['temperature', 'top_p', 'top_k']. Set `TRANSFORMERS_VERBOSITY=info` for more details.\n"
          ]
        },
        {
          "output_type": "stream",
          "name": "stdout",
          "text": [
            "🔍 Raw model output: Named Entities: (Play, Attacker), (Play ransomware, Threat Type), (Grixba, Malware), (Infostealer.Grixba, Malware), (Costura, Tool), (DLL file costura.commandline.dll, File), (Scanall, Technique), (WM...\n",
            "\n",
            "Processing 223/427: mantis palestinian attacks...\n"
          ]
        },
        {
          "output_type": "stream",
          "name": "stderr",
          "text": [
            "The following generation flags are not valid and may be ignored: ['temperature', 'top_p', 'top_k']. Set `TRANSFORMERS_VERBOSITY=info` for more details.\n"
          ]
        },
        {
          "output_type": "stream",
          "name": "stdout",
          "text": [
            "🔍 Raw model output: Named Entities: (Mantis, Attacker), (Arid Viper, Attacker), (Desert Falcon, Attacker), (APT-C-23, Attacker), (Palestinian territories, IP), (Middle East, IP), (Symantec, Tool), (Broadcom Software, Too...\n",
            "\n",
            "Processing 224/427: 3cx supply chain attack...\n"
          ]
        },
        {
          "output_type": "stream",
          "name": "stderr",
          "text": [
            "The following generation flags are not valid and may be ignored: ['temperature', 'top_p', 'top_k']. Set `TRANSFORMERS_VERBOSITY=info` for more details.\n"
          ]
        },
        {
          "output_type": "stream",
          "name": "stdout",
          "text": [
            "🔍 Raw model output: Named Entities: (North Korea, Attacker), (3CX's DesktopApp, File), (SolarWinds, Threat Type), (Windows, Tool), (Mac, Tool), (18.12.407, File), (18.12.416, File), (8.11.1213, File), (latest, File), (ma...\n",
            "\n",
            "Processing 225/427: blackfly espionage materials...\n"
          ]
        },
        {
          "output_type": "stream",
          "name": "stderr",
          "text": [
            "The following generation flags are not valid and may be ignored: ['temperature', 'top_p', 'top_k']. Set `TRANSFORMERS_VERBOSITY=info` for more details.\n"
          ]
        },
        {
          "output_type": "stream",
          "name": "stdout",
          "text": [
            "🔍 Raw model output: Named Entities: (Blackfly, Attacker), (APT41, Threat Type), (Winnti Group, Attacker), (Bronze Atlas, Attacker), (PlugX/Fast, Malware), (Backdoor.Korplug, Malware), (Winnti/Pasteboy, Malware), (Backdoo...\n",
            "  ✅ Processed 225/427 articles\n",
            "\n",
            "Processing 226/427: clasiopa materials research...\n"
          ]
        },
        {
          "output_type": "stream",
          "name": "stderr",
          "text": [
            "The following generation flags are not valid and may be ignored: ['temperature', 'top_p', 'top_k']. Set `TRANSFORMERS_VERBOSITY=info` for more details.\n"
          ]
        },
        {
          "output_type": "stream",
          "name": "stdout",
          "text": [
            "🔍 Raw model output: Named Entities: (Clasiopa, Attacker), (Backdoor.Atharvan, Malware), (Agile DGS, Tool), (Agile FD, Tool), (Jiangsu, Attacker), (atharvan.exe, File), (agile_update.exe, File), (HCL Domino, Tool), (IBM D...\n",
            "\n",
            "Processing 227/427: hydrochasma asia medical shipping intelligence gathering...\n"
          ]
        },
        {
          "output_type": "stream",
          "name": "stderr",
          "text": [
            "The following generation flags are not valid and may be ignored: ['temperature', 'top_p', 'top_k']. Set `TRANSFORMERS_VERBOSITY=info` for more details.\n"
          ]
        },
        {
          "output_type": "stream",
          "name": "stdout",
          "text": [
            "🔍 Raw model output: Named Entities: (Hydrochasma, Attacker), (phishing, Technique), (Fast Reverse Proxy, Tool), (Microsoft Edge, Tool), (Product Specification-Freight-Company Qualification Information wps-pdf Export.pdf....\n",
            "\n",
            "Processing 228/427: frebniis malware iis...\n"
          ]
        },
        {
          "output_type": "stream",
          "name": "stderr",
          "text": [
            "The following generation flags are not valid and may be ignored: ['temperature', 'top_p', 'top_k']. Set `TRANSFORMERS_VERBOSITY=info` for more details.\n"
          ]
        },
        {
          "output_type": "stream",
          "name": "stdout",
          "text": [
            "🔍 Raw model output: Named Entities: (Frebniis, Malware), (Backdoor.Frebniis, Malware), (Microsoft’s Internet Information Services (IIS), Tool), (IIS, Tool), (Taiwan, IP), (iisfreb.dll, File), (IIS server, Tool), (Windows...\n",
            "\n",
            "Processing 229/427: nodaria ukraine infostealer...\n"
          ]
        },
        {
          "output_type": "stream",
          "name": "stderr",
          "text": [
            "The following generation flags are not valid and may be ignored: ['temperature', 'top_p', 'top_k']. Set `TRANSFORMERS_VERBOSITY=info` for more details.\n"
          ]
        },
        {
          "output_type": "stream",
          "name": "stdout",
          "text": [
            "🔍 Raw model output: Named Entities: (Nodaria, Attacker), (UAC-0056, Attacker), (Infostealer.Graphiron, Malware), (Downloader.Graphiron, Malware), (AES, Technique), (OfficeTemplate.exe, File), (MicrosoftOfficeDashboard.ex...\n",
            "\n",
            "Processing 230/427: bluebottle banks targeted africa...\n"
          ]
        },
        {
          "output_type": "stream",
          "name": "stderr",
          "text": [
            "The following generation flags are not valid and may be ignored: ['temperature', 'top_p', 'top_k']. Set `TRANSFORMERS_VERBOSITY=info` for more details.\n"
          ]
        },
        {
          "output_type": "stream",
          "name": "stdout",
          "text": [
            "🔍 Raw model output: Named Entities: (Bluebottle, Attacker), (financial sector, Target), (living off the land, Technique), (dual-use tools, Tool), (commodity malware, Malware), (Symantec, Tool), (Broadcom Software, Tool),...\n",
            "  ✅ Processed 230/427 articles\n",
            "\n",
            "Processing 231/427: espionage asia governments cert authority...\n"
          ]
        },
        {
          "output_type": "stream",
          "name": "stderr",
          "text": [
            "The following generation flags are not valid and may be ignored: ['temperature', 'top_p', 'top_k']. Set `TRANSFORMERS_VERBOSITY=info` for more details.\n"
          ]
        },
        {
          "output_type": "stream",
          "name": "stdout",
          "text": [
            "🔍 Raw model output: Named Entities: (State-sponsored actors, Attacker), (digital certificate authority, Organization), (Symantec, Organization), (Billbug, Attacker), (Lotus Blossom, Attacker), (Thrip, Attacker), (APT, Th...\n",
            "\n",
            "Processing 232/427: cranefly new tools technique geppei danfuan...\n"
          ]
        },
        {
          "output_type": "stream",
          "name": "stderr",
          "text": [
            "The following generation flags are not valid and may be ignored: ['temperature', 'top_p', 'top_k']. Set `TRANSFORMERS_VERBOSITY=info` for more details.\n"
          ]
        },
        {
          "output_type": "stream",
          "name": "stdout",
          "text": [
            "🔍 Raw model output: Named Entities: (November 2, 2022, Date), (Symantec, Organization), (Broadcom Software, Organization), (Trojan.Geppei, Malware), (Cranefly, Attacker), (Trojan.Danfuan, Malware), (UNC3524, Attacker), (...\n",
            "\n",
            "Processing 233/427: blackbyte exbyte ransomware...\n"
          ]
        },
        {
          "output_type": "stream",
          "name": "stderr",
          "text": [
            "The following generation flags are not valid and may be ignored: ['temperature', 'top_p', 'top_k']. Set `TRANSFORMERS_VERBOSITY=info` for more details.\n"
          ]
        },
        {
          "output_type": "stream",
          "name": "stdout",
          "text": [
            "🔍 Raw model output: Named Entities: (BlackByte, Malware), (Ransom.Blackbyte, Threat Type), (Infostealer.Exbyte, Malware), (Hecamede, Attacker), (Mega.co.nz, Domain), (IsDebuggerPresent, Tool), (CheckRemoteDebuggerPresent...\n",
            "\n",
            "Processing 234/427: spyder loader cuckoobees hong kong...\n"
          ]
        },
        {
          "output_type": "stream",
          "name": "stderr",
          "text": [
            "The following generation flags are not valid and may be ignored: ['temperature', 'top_p', 'top_k']. Set `TRANSFORMERS_VERBOSITY=info` for more details.\n"
          ]
        },
        {
          "output_type": "stream",
          "name": "stdout",
          "text": [
            "🔍 Raw model output: Named Entities: (Operation CuckooBees, Threat Type), (Hong Kong, IP), (Spyder Loader, Malware), (Trojan.Spyload, Malware), (Symantec, Attacker), (Cybereason, Attacker), (SonicWall, Attacker), (informa...\n",
            "\n",
            "Processing 235/427: budworm espionage us state...\n"
          ]
        },
        {
          "output_type": "stream",
          "name": "stderr",
          "text": [
            "The following generation flags are not valid and may be ignored: ['temperature', 'top_p', 'top_k']. Set `TRANSFORMERS_VERBOSITY=info` for more details.\n"
          ]
        },
        {
          "output_type": "stream",
          "name": "stdout",
          "text": [
            "🔍 Raw model output: Named Entities: (Budworm, Attacker), (government of a Middle Eastern country, Target), (multinational electronics manufacturer, Target), (U.S. state legislature, Target), (hospital in South East Asia,...\n",
            "  ✅ Processed 235/427 articles\n",
            "\n",
            "Processing 236/427: witchetty steganography espionage...\n"
          ]
        },
        {
          "output_type": "stream",
          "name": "stderr",
          "text": [
            "The following generation flags are not valid and may be ignored: ['temperature', 'top_p', 'top_k']. Set `TRANSFORMERS_VERBOSITY=info` for more details.\n"
          ]
        },
        {
          "output_type": "stream",
          "name": "stdout",
          "text": [
            "🔍 Raw model output: Named Entities: (Witchetty, Attacker), (LookingFrog, Attacker), (Backdoor.Stegmap, Malware), (steganography, Technique), (Middle East, Region), (Africa, Region), (February, Date), (September 2022, Dat...\n",
            "\n",
            "Processing 237/427: noberus blackcat ransomware ttps...\n"
          ]
        },
        {
          "output_type": "stream",
          "name": "stderr",
          "text": [
            "The following generation flags are not valid and may be ignored: ['temperature', 'top_p', 'top_k']. Set `TRANSFORMERS_VERBOSITY=info` for more details.\n"
          ]
        },
        {
          "output_type": "stream",
          "name": "stdout",
          "text": [
            "🔍 Raw model output: Named Entities: (Noberus, Malware), (BlackCat, Malware), (ALPHV, Malware), (Exmatter, Tool), (Eamfo, Malware), (Veeam, Tool), (Darkside, Malware), (BlackMatter, Malware), (Coreid, Attacker), (FIN7, At...\n",
            "\n",
            "Processing 238/427: webworm espionage rats...\n"
          ]
        },
        {
          "output_type": "stream",
          "name": "stderr",
          "text": [
            "The following generation flags are not valid and may be ignored: ['temperature', 'top_p', 'top_k']. Set `TRANSFORMERS_VERBOSITY=info` for more details.\n"
          ]
        },
        {
          "output_type": "stream",
          "name": "stdout",
          "text": [
            "🔍 Raw model output: Named Entities: (Webworm, Attacker), (Trochilus, Malware), (Gh0st RAT, Malware), (9002 RAT, Malware), (Space Pirates, Attacker), (Symantec, Organization), (Positive Technologies, Organization), (Russi...\n",
            "\n",
            "Processing 239/427: espionage asia governments...\n"
          ]
        },
        {
          "output_type": "stream",
          "name": "stderr",
          "text": [
            "The following generation flags are not valid and may be ignored: ['temperature', 'top_p', 'top_k']. Set `TRANSFORMERS_VERBOSITY=info` for more details.\n"
          ]
        },
        {
          "output_type": "stream",
          "name": "stdout",
          "text": [
            "🔍 Raw model output: Named Entities: (ShadowPad, Malware), (DLL side-loading, Technique)\n",
            "Relationships: (ShadowPad, associated with, DLL side-loading)\n",
            "\n",
            "Okay, let's tackle this. The user wants me to extract entities and re...\n",
            "\n",
            "Processing 240/427: russia ukraine shuckworm...\n"
          ]
        },
        {
          "output_type": "stream",
          "name": "stderr",
          "text": [
            "The following generation flags are not valid and may be ignored: ['temperature', 'top_p', 'top_k']. Set `TRANSFORMERS_VERBOSITY=info` for more details.\n"
          ]
        },
        {
          "output_type": "stream",
          "name": "stdout",
          "text": [
            "🔍 Raw model output: Named Entities: (Shuckworm, Attacker), (Gamaredon, Attacker), (Armageddon, Attacker), (Ukraine, Target), (Symantec, Organization), (Broadcom Software, Organization), (CERT-UA, Organization), (7-Zip, T...\n",
            "  ✅ Processed 240/427 articles\n",
            "\n",
            "Processing 241/427: lockbit targets servers...\n"
          ]
        },
        {
          "output_type": "stream",
          "name": "stderr",
          "text": [
            "The following generation flags are not valid and may be ignored: ['temperature', 'top_p', 'top_k']. Set `TRANSFORMERS_VERBOSITY=info` for more details.\n"
          ]
        },
        {
          "output_type": "stream",
          "name": "stdout",
          "text": [
            "🔍 Raw model output: Named Entities: (LockBit, Malware), (LockBit, Threat Type), (Syrphid, Attacker), (RaaS, Threat Type), (Ransomware, Threat Type), (version 3.0, File), (gpupdate /force, Technique), (RDP, Technique), (A...\n",
            "\n",
            "Processing 242/427: bumblebee loader cybercrime...\n"
          ]
        },
        {
          "output_type": "stream",
          "name": "stderr",
          "text": [
            "The following generation flags are not valid and may be ignored: ['temperature', 'top_p', 'top_k']. Set `TRANSFORMERS_VERBOSITY=info` for more details.\n"
          ]
        },
        {
          "output_type": "stream",
          "name": "stdout",
          "text": [
            "🔍 Raw model output: Named Entities: (Bumblebee, Malware), (Conti, Threat Type), (Quantum, Threat Type), (Mountlocker, Threat Type), (Trickbot, Malware), (BazarLoader, Malware), (spear-phishing, Technique), (ISO, File), (...\n",
            "\n",
            "Processing 243/427: follina msdt exploit malware...\n"
          ]
        },
        {
          "output_type": "stream",
          "name": "stderr",
          "text": [
            "The following generation flags are not valid and may be ignored: ['temperature', 'top_p', 'top_k']. Set `TRANSFORMERS_VERBOSITY=info` for more details.\n"
          ]
        },
        {
          "output_type": "stream",
          "name": "stdout",
          "text": [
            "🔍 Raw model output: Named Entities: (Symantec, Organization), (Broadcom Software, Organization), (threat actors, Attacker), (RCE, Threat Type), (Follina, Vulnerability), (CVE-2022-30190, Vulnerability), (Microsoft Suppor...\n",
            "\n",
            "Processing 244/427: clipminer bitcoin mining hijacking...\n"
          ]
        },
        {
          "output_type": "stream",
          "name": "stderr",
          "text": [
            "The following generation flags are not valid and may be ignored: ['temperature', 'top_p', 'top_k']. Set `TRANSFORMERS_VERBOSITY=info` for more details.\n"
          ]
        },
        {
          "output_type": "stream",
          "name": "stdout",
          "text": [
            "🔍 Raw model output: Named Entities: (Symantec’s Threat Hunter Team, Attacker), (Trojan.Clipminer, Malware), (KryptoCibule, Malware), (WinRAR, Tool), (CPL file extension, File), (Tor network, Domain), (clipboard, Techniqu...\n",
            "\n",
            "Processing 245/427: ransomware hive conti avoslocker...\n"
          ]
        },
        {
          "output_type": "stream",
          "name": "stderr",
          "text": [
            "The following generation flags are not valid and may be ignored: ['temperature', 'top_p', 'top_k']. Set `TRANSFORMERS_VERBOSITY=info` for more details.\n"
          ]
        },
        {
          "output_type": "stream",
          "name": "stdout",
          "text": [
            "🔍 Raw model output: Named Entities: (ransomware, Threat Type), (Hive, Malware), (Conti, Malware), (Avoslocker, Malware), (RaaS, Threat Type), (Microsoft Word, Tool)\n",
            "Relationships: (Hive, associated with, RaaS), (Conti, a...\n",
            "  ✅ Processed 245/427 articles\n",
            "\n",
            "Processing 246/427: stonefly north korea espionage...\n"
          ]
        },
        {
          "output_type": "stream",
          "name": "stderr",
          "text": [
            "The following generation flags are not valid and may be ignored: ['temperature', 'top_p', 'top_k']. Set `TRANSFORMERS_VERBOSITY=info` for more details.\n"
          ]
        },
        {
          "output_type": "stream",
          "name": "stdout",
          "text": [
            "🔍 Raw model output: Named Entities: (Stonefly, Attacker), (DarkSeoul, Attacker), (BlackMine, Attacker), (Operation Troy, Attacker), (Silent Chollima, Attacker), (DDoS, Technique), (Backdoor.Prioxer, Malware), (Jokra, Mal...\n",
            "\n",
            "Processing 247/427: shuckworm intense campaign ukraine...\n"
          ]
        },
        {
          "output_type": "stream",
          "name": "stderr",
          "text": [
            "The following generation flags are not valid and may be ignored: ['temperature', 'top_p', 'top_k']. Set `TRANSFORMERS_VERBOSITY=info` for more details.\n"
          ]
        },
        {
          "output_type": "stream",
          "name": "stdout",
          "text": [
            "🔍 Raw model output: Named Entities: (Shuckworm, Attacker), (Gamaredon, Attacker), (Armageddon, Attacker), (Ukraine, Country), (Backdoor.Pterodo, Malware), (C&C server, Domain), (Symantec’s Threat Hunter Team, Organizatio...\n",
            "\n",
            "Processing 248/427: lazarus dream job chemical...\n"
          ]
        },
        {
          "output_type": "stream",
          "name": "stderr",
          "text": [
            "The following generation flags are not valid and may be ignored: ['temperature', 'top_p', 'top_k']. Set `TRANSFORMERS_VERBOSITY=info` for more details.\n"
          ]
        },
        {
          "output_type": "stream",
          "name": "stdout",
          "text": [
            "🔍 Raw model output: Named Entities: (Symantec, Organization), (Broadcom Software, Organization), (North Korea, Country), (Lazarus, Attacker), (APT, Threat Type), (Operation Dream Job, Campaign), (Pompilus, Campaign), (es...\n",
            "\n",
            "Processing 249/427: cicada apt10 china ngo government attacks...\n"
          ]
        },
        {
          "output_type": "stream",
          "name": "stderr",
          "text": [
            "The following generation flags are not valid and may be ignored: ['temperature', 'top_p', 'top_k']. Set `TRANSFORMERS_VERBOSITY=info` for more details.\n"
          ]
        },
        {
          "output_type": "stream",
          "name": "stdout",
          "text": [
            "🔍 Raw model output: Named Entities: (Cicada, Attacker), (APT10, Attacker), (Cicada, APT), (Microsoft Exchange Servers, Tool), (Microsoft Exchan, Tool)\n",
            "Relationships: (Cicada, aka, APT10), (Cicada, target, government), (C...\n",
            "\n",
            "Processing 250/427: spring4shell rce vuln java...\n"
          ]
        },
        {
          "output_type": "stream",
          "name": "stderr",
          "text": [
            "The following generation flags are not valid and may be ignored: ['temperature', 'top_p', 'top_k']. Set `TRANSFORMERS_VERBOSITY=info` for more details.\n"
          ]
        },
        {
          "output_type": "stream",
          "name": "stdout",
          "text": [
            "🔍 Raw model output: Named Entities: (Spring4Shell, Vulnerability), (CVE-2022-22965, Vulnerability), (Spring Core, Tool), (Spring Framework 5.3.18, Tool), (Spring Boot 2.6.6, Tool), (Spring Framework 5.2.20, Tool), (Sprin...\n",
            "  ✅ Processed 250/427 articles\n",
            "\n",
            "Processing 251/427: verblecon sophisticated malware cryptocurrency mining discor...\n"
          ]
        },
        {
          "output_type": "stream",
          "name": "stderr",
          "text": [
            "The following generation flags are not valid and may be ignored: ['temperature', 'top_p', 'top_k']. Set `TRANSFORMERS_VERBOSITY=info` for more details.\n"
          ]
        },
        {
          "output_type": "stream",
          "name": "stdout",
          "text": [
            "🔍 Raw model output: Named Entities: (unknown attacker, Attacker), (Trojan.Verblecon, Malware), (cryptocurrency miners, Tool), (Discord, Tool), (Symantec, Tool), (Broadcom Software, Tool), (JAR file, File), (CSIDL_SYSTEM_...\n",
            "\n",
            "Processing 252/427: daxin backdoor espionage analysis...\n"
          ]
        },
        {
          "output_type": "stream",
          "name": "stderr",
          "text": [
            "The following generation flags are not valid and may be ignored: ['temperature', 'top_p', 'top_k']. Set `TRANSFORMERS_VERBOSITY=info` for more details.\n"
          ]
        },
        {
          "output_type": "stream",
          "name": "stdout",
          "text": [
            "🔍 Raw model output: Named Entities: (Backdoor, Malware), (Daxin, Malware), (China-linked espionage group, Attacker), (Alice-PC, Host), (Bob-PC, Host), (Dave-PC, Host), (Charlie-PC, Host), (Wireshark, Tool)\n",
            "Relationships:...\n",
            "\n",
            "Processing 253/427: ransomware threat landscape what expect 2022...\n"
          ]
        },
        {
          "output_type": "stream",
          "name": "stderr",
          "text": [
            "The following generation flags are not valid and may be ignored: ['temperature', 'top_p', 'top_k']. Set `TRANSFORMERS_VERBOSITY=info` for more details.\n"
          ]
        },
        {
          "output_type": "stream",
          "name": "stdout",
          "text": [
            "🔍 Raw model output: Named Entities: (Ransomware, Threat Type), (Conti, Attacker), (Leafroller, Attacker), (Sodinokibi, Attacker), (REvil, Attacker), (Coreid, Attacker), (Darkside, Attacker), (Blackmatter, Attacker), (Ava...\n",
            "\n",
            "Processing 254/427: daxin malware espionage analysis...\n"
          ]
        },
        {
          "output_type": "stream",
          "name": "stderr",
          "text": [
            "The following generation flags are not valid and may be ignored: ['temperature', 'top_p', 'top_k']. Set `TRANSFORMERS_VERBOSITY=info` for more details.\n"
          ]
        },
        {
          "output_type": "stream",
          "name": "stdout",
          "text": [
            "🔍 Raw model output: Named Entities: (Backdoor.Daxin, Malware), (China-linked espionage group, Attacker), (ea3d773438c04274545d26cc19a33f9f1dbbff2a518e4302addc1279f9950cef, Hash), (November 2021, Date), (VMProtect, Tool)\n",
            "...\n",
            "\n",
            "Processing 255/427: covid passport risks...\n"
          ]
        },
        {
          "output_type": "stream",
          "name": "stderr",
          "text": [
            "The following generation flags are not valid and may be ignored: ['temperature', 'top_p', 'top_k']. Set `TRANSFORMERS_VERBOSITY=info` for more details.\n"
          ]
        },
        {
          "output_type": "stream",
          "name": "stdout",
          "text": [
            "🔍 Raw model output: No related entities and relations\n",
            "Okay, let's see. The user wants me to extract entities and relationships from the given text based on specific types. The input is about digital vaccine passports and...\n",
            "  ✅ Processed 255/427 articles\n",
            "\n",
            "Processing 256/427: daxin backdoor espionage...\n"
          ]
        },
        {
          "output_type": "stream",
          "name": "stderr",
          "text": [
            "The following generation flags are not valid and may be ignored: ['temperature', 'top_p', 'top_k']. Set `TRANSFORMERS_VERBOSITY=info` for more details.\n"
          ]
        },
        {
          "output_type": "stream",
          "name": "stdout",
          "text": [
            "🔍 Raw model output: Named Entities: (Symantec Threat Hunter team, Attacker), (Broadcom Software, Organization), (China-linked threat actors, Attacker), (Backdoor.Daxin, Malware), (November 2021, Date), (CISA, Organizatio...\n",
            "\n",
            "Processing 257/427: ukraine wiper malware russia...\n"
          ]
        },
        {
          "output_type": "stream",
          "name": "stderr",
          "text": [
            "The following generation flags are not valid and may be ignored: ['temperature', 'top_p', 'top_k']. Set `TRANSFORMERS_VERBOSITY=info` for more details.\n"
          ]
        },
        {
          "output_type": "stream",
          "name": "stdout",
          "text": [
            "🔍 Raw model output: Named Entities: (ransomware, Threat Type), (decoy, Technique), (wiper, Threat Type), (CVE-2021-1636, Vulnerability), (Microsoft SQL Server, Tool), (Trojan.Killdisk, Malware), (Ukraine, IP), (Symantec,...\n",
            "\n",
            "Processing 258/427: china apt antlion taiwan financial attacks...\n"
          ]
        },
        {
          "output_type": "stream",
          "name": "stderr",
          "text": [
            "The following generation flags are not valid and may be ignored: ['temperature', 'top_p', 'top_k']. Set `TRANSFORMERS_VERBOSITY=info` for more details.\n"
          ]
        },
        {
          "output_type": "stream",
          "name": "stdout",
          "text": [
            "🔍 Raw model output: Named Entities: (Antlion, Attacker), (xPack, Malware), (WMI, Tool), (EternalBlue, Vulnerability), (SMB, Tool), (IP address, IP), (data, File), (financial institution, Target), (manufacturing company, ...\n",
            "\n",
            "Processing 259/427: shuckworm gamaredon espionage ukraine...\n"
          ]
        },
        {
          "output_type": "stream",
          "name": "stderr",
          "text": [
            "The following generation flags are not valid and may be ignored: ['temperature', 'top_p', 'top_k']. Set `TRANSFORMERS_VERBOSITY=info` for more details.\n"
          ]
        },
        {
          "output_type": "stream",
          "name": "stdout",
          "text": [
            "🔍 Raw model output: Named Entities: (Shuckworm, Attacker), (Gamaredon, Attacker), (Armageddon, Attacker), (cyber-espionage, Threat Type), (Symantec’s Threat Hunter Team, Tool), (Broadcom Software, Tool), (Ukraine, Target...\n",
            "\n",
            "Processing 260/427: threat landscape 2021...\n"
          ]
        },
        {
          "output_type": "stream",
          "name": "stderr",
          "text": [
            "The following generation flags are not valid and may be ignored: ['temperature', 'top_p', 'top_k']. Set `TRANSFORMERS_VERBOSITY=info` for more details.\n"
          ]
        },
        {
          "output_type": "stream",
          "name": "stdout",
          "text": [
            "🔍 Raw model output: Named Entities: (ransomware, Threat Type), (Symantec, Attacker), (Broadcom Software, Tool), (targeted ransomware, Threat Type), (supply chain attacks, Threat Type), (public-facing applications, Tool),...\n",
            "  ✅ Processed 260/427 articles\n",
            "\n",
            "Processing 261/427: log4j vulnerabilities attacks...\n"
          ]
        },
        {
          "output_type": "stream",
          "name": "stderr",
          "text": [
            "The following generation flags are not valid and may be ignored: ['temperature', 'top_p', 'top_k']. Set `TRANSFORMERS_VERBOSITY=info` for more details.\n"
          ]
        },
        {
          "output_type": "stream",
          "name": "stdout",
          "text": [
            "🔍 Raw model output: Named Entities: (Apache Log4j, Tool), (CVE-2021-44228, Vulnerability), (CVE-2021-45046, Vulnerability), (CVE-2021-45105, Vulnerability), (Log4Shell, Vulnerability), (coin miners, Malware), (Dridex, Ma...\n",
            "\n",
            "Processing 262/427: noberus blackcat alphv rust ransomware...\n"
          ]
        },
        {
          "output_type": "stream",
          "name": "stderr",
          "text": [
            "The following generation flags are not valid and may be ignored: ['temperature', 'top_p', 'top_k']. Set `TRANSFORMERS_VERBOSITY=info` for more details.\n"
          ]
        },
        {
          "output_type": "stream",
          "name": "stdout",
          "text": [
            "🔍 Raw model output: Named Entities: (ALPHV/BlackCat, Threat Type), (Ransom.Noberus, Malware), (November 18, 2021, Date), (November 3, Date), (MalwareHunterTeam, Attacker), (BleepingComputer, Domain), (Rust, Tool), (doubl...\n",
            "\n",
            "Processing 263/427: espionage campaign telecoms asia middle east...\n"
          ]
        },
        {
          "output_type": "stream",
          "name": "stderr",
          "text": [
            "The following generation flags are not valid and may be ignored: ['temperature', 'top_p', 'top_k']. Set `TRANSFORMERS_VERBOSITY=info` for more details.\n"
          ]
        },
        {
          "output_type": "stream",
          "name": "stdout",
          "text": [
            "🔍 Raw model output: Named Entities: (Iran, Country), (telecoms operators, Organization), (Middle East, Region), (Asia, Region), (IT services organizations, Organization), (utility company, Organization), (Israel, Country...\n",
            "\n",
            "Processing 264/427: apache log4j zero day...\n"
          ]
        },
        {
          "output_type": "stream",
          "name": "stderr",
          "text": [
            "The following generation flags are not valid and may be ignored: ['temperature', 'top_p', 'top_k']. Set `TRANSFORMERS_VERBOSITY=info` for more details.\n"
          ]
        },
        {
          "output_type": "stream",
          "name": "stdout",
          "text": [
            "🔍 Raw model output: Named Entities: (Log4j, Tool), (CVE-2021-45105, Vulnerability), (CVE-2021-45046, Vulnerability), (CVE-2021-44228, Vulnerability), (Log4Shell, Vulnerability), (Symantec, Attacker)\n",
            "Relationships: (Log4j...\n",
            "\n",
            "Processing 265/427: yanluowang ransomware attacks continue...\n"
          ]
        },
        {
          "output_type": "stream",
          "name": "stderr",
          "text": [
            "The following generation flags are not valid and may be ignored: ['temperature', 'top_p', 'top_k']. Set `TRANSFORMERS_VERBOSITY=info` for more details.\n"
          ]
        },
        {
          "output_type": "stream",
          "name": "stdout",
          "text": [
            "🔍 Raw model output: Named Entities: (Yanluowang, Malware), (Symantec, Attacker), (Broadcom Software, Tool), (Thieflock, Malware), (Ransomware, Threat Type), (PowerShell, Tool), (BazarLoader, Malware), (RDP, Technique), (...\n",
            "  ✅ Processed 265/427 articles\n",
            "\n",
            "Processing 266/427: blackmatter data exfiltration...\n"
          ]
        },
        {
          "output_type": "stream",
          "name": "stderr",
          "text": [
            "The following generation flags are not valid and may be ignored: ['temperature', 'top_p', 'top_k']. Set `TRANSFORMERS_VERBOSITY=info` for more details.\n"
          ]
        },
        {
          "output_type": "stream",
          "name": "stdout",
          "text": [
            "🔍 Raw model output: Named Entities: (BlackMatter, Threat Type), (Exmatter, Malware), (Ryuk Stealer, Malware), (StealBit, Malware), (LockBit, Threat Type), (.NET, Tool), (SFTP, Tool), (SOCKS5, Tool)\n",
            "Relationships: (BlackM...\n",
            "\n",
            "Processing 267/427: banking trojan latam brazil...\n"
          ]
        },
        {
          "output_type": "stream",
          "name": "stderr",
          "text": [
            "The following generation flags are not valid and may be ignored: ['temperature', 'top_p', 'top_k']. Set `TRANSFORMERS_VERBOSITY=info` for more details.\n"
          ]
        },
        {
          "output_type": "stream",
          "name": "stdout",
          "text": [
            "🔍 Raw model output: Named Entities: (Brazil, Country), (banking Trojan, Threat Type), (ESET, Attacker), (Symantec, Tool), (Cloud Analytics, Tool), (mpr.dll, File), (Msiexec.exe, Tool), (suspicious URL, URL), (588 MB, Siz...\n",
            "\n",
            "Processing 268/427: espionage campaign south east asia...\n"
          ]
        },
        {
          "output_type": "stream",
          "name": "stderr",
          "text": [
            "The following generation flags are not valid and may be ignored: ['temperature', 'top_p', 'top_k']. Set `TRANSFORMERS_VERBOSITY=info` for more details.\n"
          ]
        },
        {
          "output_type": "stream",
          "name": "stdout",
          "text": [
            "🔍 Raw model output: Named Entities: (espionage campaign, Threat Type), (South East Asia, Region), (defense, Sector), (healthcare, Sector), (information and communications technology, Sector), (September 2020, Date), (May...\n",
            "\n",
            "Processing 269/427: harvester new apt attacks asia...\n"
          ]
        },
        {
          "output_type": "stream",
          "name": "stderr",
          "text": [
            "The following generation flags are not valid and may be ignored: ['temperature', 'top_p', 'top_k']. Set `TRANSFORMERS_VERBOSITY=info` for more details.\n"
          ]
        },
        {
          "output_type": "stream",
          "name": "stdout",
          "text": [
            "🔍 Raw model output: Named Entities: (Harvester, Attacker), (Backdoor.Graphon, Malware), (malicious URL, URL), (CloudFront, Tool), (Microsoft, Tool), (C&C, Technique)\n",
            "Relationships: (Harvester, uses, Backdoor.Graphon), (H...\n",
            "\n",
            "Processing 270/427: yanluowang targeted ransomware...\n"
          ]
        },
        {
          "output_type": "stream",
          "name": "stderr",
          "text": [
            "The following generation flags are not valid and may be ignored: ['temperature', 'top_p', 'top_k']. Set `TRANSFORMERS_VERBOSITY=info` for more details.\n"
          ]
        },
        {
          "output_type": "stream",
          "name": "stdout",
          "text": [
            "🔍 Raw model output: Named Entities: (Symantec Threat Hunter Team, Attacker), (Yanluowang, Malware), (Ransomware, Threat Type), (AdFind, Tool), (DDoS, Technique)\n",
            "Relationships: (Symantec Threat Hunter Team, uses, AdFind),...\n",
            "  ✅ Processed 270/427 articles\n",
            "\n",
            "Processing 271/427: ransomware targeted 2021...\n"
          ]
        },
        {
          "output_type": "stream",
          "name": "stderr",
          "text": [
            "The following generation flags are not valid and may be ignored: ['temperature', 'top_p', 'top_k']. Set `TRANSFORMERS_VERBOSITY=info` for more details.\n"
          ]
        },
        {
          "output_type": "stream",
          "name": "stdout",
          "text": [
            "🔍 Raw model output: Named Entities: (ransomware, Threat Type), (Symantec Threat Hunter Team, Attacker), (Broadcom Software, Tool), (Colonial Pipeline, Target), (May 2021, Time), (Health Service Executive, Target), (Irela...\n",
            "\n",
            "Processing 272/427: pegasus forcedentry protection...\n"
          ]
        },
        {
          "output_type": "stream",
          "name": "stderr",
          "text": [
            "The following generation flags are not valid and may be ignored: ['temperature', 'top_p', 'top_k']. Set `TRANSFORMERS_VERBOSITY=info` for more details.\n"
          ]
        },
        {
          "output_type": "stream",
          "name": "stdout",
          "text": [
            "🔍 Raw model output: Named Entities: (iOS 14.8, Tool), (FORCEDENTRY, Vulnerability), (CVE-2021-30860, Vulnerability), (iMessage, Tool), (The Citizen Lab, Attacker), (NSO Group, Attacker), (Pegasus, Malware), (Symantec, To...\n",
            "\n",
            "Processing 273/427: grayfly china sidewalk malware...\n"
          ]
        },
        {
          "output_type": "stream",
          "name": "stderr",
          "text": [
            "The following generation flags are not valid and may be ignored: ['temperature', 'top_p', 'top_k']. Set `TRANSFORMERS_VERBOSITY=info` for more details.\n"
          ]
        },
        {
          "output_type": "stream",
          "name": "stdout",
          "text": [
            "🔍 Raw model output: Named Entities: (Sidewalk, Malware), (Grayfly, Attacker), (China, Country), (Crosswalk, Malware), (Backdoor.Motnug, Malware), (Taiwan, Country), (Vietnam, Country), (United States, Country), (Mexico, ...\n",
            "\n",
            "Processing 274/427: lockfile ransomware new petitpotam windows...\n"
          ]
        },
        {
          "output_type": "stream",
          "name": "stderr",
          "text": [
            "The following generation flags are not valid and may be ignored: ['temperature', 'top_p', 'top_k']. Set `TRANSFORMERS_VERBOSITY=info` for more details.\n"
          ]
        },
        {
          "output_type": "stream",
          "name": "stdout",
          "text": [
            "🔍 Raw model output: Named Entities: (ProxyShell, Vulnerability), (PowerShell, Tool), (209.14.0[.]234, IP), (LockFile, Malware), (ransomware, Threat Type), (U.S., Location), (Asia, Location), (Microsoft Exchange Servers, ...\n",
            "\n",
            "Processing 275/427: ransomware trends lockbit sodinokibi...\n"
          ]
        },
        {
          "output_type": "stream",
          "name": "stderr",
          "text": [
            "The following generation flags are not valid and may be ignored: ['temperature', 'top_p', 'top_k']. Set `TRANSFORMERS_VERBOSITY=info` for more details.\n"
          ]
        },
        {
          "output_type": "stream",
          "name": "stdout",
          "text": [
            "🔍 Raw model output: Named Entities: (Leafroller, Malware), (Sodinokibi, Malware), (REvil, Malware), (LockBit, Malware), (Symantec, Attacker), (Broadcom Software, Tool), (ransomware, Threat Type), (Kaseya VSA, Tool), (zer...\n",
            "  ✅ Processed 275/427 articles\n",
            "\n",
            "Processing 276/427: critical infrastructure south east asia espionage...\n"
          ]
        },
        {
          "output_type": "stream",
          "name": "stderr",
          "text": [
            "The following generation flags are not valid and may be ignored: ['temperature', 'top_p', 'top_k']. Set `TRANSFORMERS_VERBOSITY=info` for more details.\n"
          ]
        },
        {
          "output_type": "stream",
          "name": "stdout",
          "text": [
            "🔍 Raw model output: Named Entities: (SCADA systems, Tool), (November 2020, Date), (March 2021, Date), (Colonial Pipeline, Organization), (China, Country), (Credential theft, Technique), (lateral movement, Technique), (li...\n",
            "\n",
            "Processing 277/427: kaseya ransomware supply chain...\n"
          ]
        },
        {
          "output_type": "stream",
          "name": "stderr",
          "text": [
            "The following generation flags are not valid and may be ignored: ['temperature', 'top_p', 'top_k']. Set `TRANSFORMERS_VERBOSITY=info` for more details.\n"
          ]
        },
        {
          "output_type": "stream",
          "name": "stdout",
          "text": [
            "🔍 Raw model output: Named Entities: (REvil, Malware), (Sodinokibi, Malware), (Kaseya VSA, Tool), (Managed Service Providers, Attacker), (Kaseya, Attacker), (Symantec Endpoint, Tool), (40, Number), (agent.crt, File), (cer...\n",
            "\n",
            "Processing 278/427: ransomware virtual machines...\n"
          ]
        },
        {
          "output_type": "stream",
          "name": "stderr",
          "text": [
            "The following generation flags are not valid and may be ignored: ['temperature', 'top_p', 'top_k']. Set `TRANSFORMERS_VERBOSITY=info` for more details.\n"
          ]
        },
        {
          "output_type": "stream",
          "name": "stdout",
          "text": [
            "🔍 Raw model output: Named Entities: (ransomware, Threat Type), (VirtualBox, Tool), (Oracle VirtualBox, Tool), (Windows XP, File), (Windows 7, File), (runner.exe, File), (Golang, Tool), (thego-ps, Tool), (four-byte XOR ke...\n",
            "\n",
            "Processing 279/427: targeted ransomware ecosystem...\n"
          ]
        },
        {
          "output_type": "stream",
          "name": "stderr",
          "text": [
            "The following generation flags are not valid and may be ignored: ['temperature', 'top_p', 'top_k']. Set `TRANSFORMERS_VERBOSITY=info` for more details.\n"
          ]
        },
        {
          "output_type": "stream",
          "name": "stdout",
          "text": [
            "🔍 Raw model output: Named Entities: (ransomware, Threat Type), (hospitals, Target), (schools, Target), (local government, Target), (water treatment, Target), (fuel pipelines, Target), (Conti, Malware), (Health Service Ex...\n",
            "\n",
            "Processing 280/427: multi factor authentication new attacks...\n"
          ]
        },
        {
          "output_type": "stream",
          "name": "stderr",
          "text": [
            "The following generation flags are not valid and may be ignored: ['temperature', 'top_p', 'top_k']. Set `TRANSFORMERS_VERBOSITY=info` for more details.\n"
          ]
        },
        {
          "output_type": "stream",
          "name": "stdout",
          "text": [
            "🔍 Raw model output: Named Entities: \n",
            "Relationships:\n",
            "\n",
            "Okay, let's tackle this input. The user wants me to extract entities and relationships based on the specified types. First, I need to read through the text carefully.\n",
            "...\n",
            "  ✅ Processed 280/427 articles\n",
            "\n",
            "Processing 281/427: spectre bypass linux vulnerabilities...\n"
          ]
        },
        {
          "output_type": "stream",
          "name": "stderr",
          "text": [
            "The following generation flags are not valid and may be ignored: ['temperature', 'top_p', 'top_k']. Set `TRANSFORMERS_VERBOSITY=info` for more details.\n"
          ]
        },
        {
          "output_type": "stream",
          "name": "stdout",
          "text": [
            "🔍 Raw model output: Named Entities: (Spectre, Vulnerability), (Meltdown, Vulnerability), (RAT, Malware), (Linux kernel, Tool)\n",
            "Relationships: (Spectre, exploit, Linux kernel), (Meltdown, exploit, Linux kernel), (RAT, used...\n",
            "\n",
            "Processing 282/427: security privacy covid tracing apps...\n"
          ]
        },
        {
          "output_type": "stream",
          "name": "stderr",
          "text": [
            "The following generation flags are not valid and may be ignored: ['temperature', 'top_p', 'top_k']. Set `TRANSFORMERS_VERBOSITY=info` for more details.\n"
          ]
        },
        {
          "output_type": "stream",
          "name": "stdout",
          "text": [
            "🔍 Raw model output: No related entities and relations\n",
            "Okay, let's see. The user provided a text about COVID-19 contact tracing apps and wants me to extract entities and relationships based on the specified types. First, ...\n",
            "\n",
            "Processing 283/427: microsoft exchange server protection...\n"
          ]
        },
        {
          "output_type": "stream",
          "name": "stderr",
          "text": [
            "The following generation flags are not valid and may be ignored: ['temperature', 'top_p', 'top_k']. Set `TRANSFORMERS_VERBOSITY=info` for more details.\n"
          ]
        },
        {
          "output_type": "stream",
          "name": "stdout",
          "text": [
            "🔍 Raw model output: Named Entities: (Hafnium, Attacker), (Ant, Attacker), (APT, Threat Type), (CVE-2021-26855, Vulnerability), (CVE-2021-27065, Vulnerability), (ProxyLogon, Technique), (Microsoft Exchange Server, Tool), ...\n",
            "\n",
            "Processing 284/427: lazarus north korea indictment...\n"
          ]
        },
        {
          "output_type": "stream",
          "name": "stderr",
          "text": [
            "The following generation flags are not valid and may be ignored: ['temperature', 'top_p', 'top_k']. Set `TRANSFORMERS_VERBOSITY=info` for more details.\n"
          ]
        },
        {
          "output_type": "stream",
          "name": "stdout",
          "text": [
            "🔍 Raw model output: Named Entities: (Lazarus, Attacker), (Lazarus (aka Appleworm), Attacker), (Trojan.Banswift, Malware), (Backdoor.Contopee, Malware), (Backdoor.Fimlis, Malware), (Backdoor.Fimlis.B, Malware), (SWIFT, To...\n",
            "\n",
            "Processing 285/427: solarwinds sunburst sending data...\n"
          ]
        },
        {
          "output_type": "stream",
          "name": "stderr",
          "text": [
            "The following generation flags are not valid and may be ignored: ['temperature', 'top_p', 'top_k']. Set `TRANSFORMERS_VERBOSITY=info` for more details.\n"
          ]
        },
        {
          "output_type": "stream",
          "name": "stdout",
          "text": [
            "🔍 Raw model output: Named Entities: (Sunburst, Malware), (HTTP(S) GET, Technique), (HTTP(S) POST, Technique), (application/octet-stream, Tool), (URL, File), (JSON, Tool)\n",
            "Relationships: (Sunburst, uses, HTTP(S) POST), (Su...\n",
            "  ✅ Processed 285/427 articles\n",
            "\n",
            "Processing 286/427: solarwinds raindrop malware...\n"
          ]
        },
        {
          "output_type": "stream",
          "name": "stderr",
          "text": [
            "The following generation flags are not valid and may be ignored: ['temperature', 'top_p', 'top_k']. Set `TRANSFORMERS_VERBOSITY=info` for more details.\n"
          ]
        },
        {
          "output_type": "stream",
          "name": "stdout",
          "text": [
            "🔍 Raw model output: Named Entities: (Symantec, Attacker), (SolarWinds, Attacker), (Raindrop, Malware), (Backdoor.Raindrop, Malware), (Cobalt Strike, Tool), (Teardrop, Malware), (Backdoor.Sunburst, Malware), (Sunburst, Ma...\n",
            "\n",
            "Processing 287/427: solarwinds sunburst command control...\n"
          ]
        },
        {
          "output_type": "stream",
          "name": "stderr",
          "text": [
            "The following generation flags are not valid and may be ignored: ['temperature', 'top_p', 'top_k']. Set `TRANSFORMERS_VERBOSITY=info` for more details.\n"
          ]
        },
        {
          "output_type": "stream",
          "name": "stdout",
          "text": [
            "🔍 Raw model output: Named Entities: (SolarWinds, Attacker), (Sunburst, Malware), (DNS, Technique), (A records, Technique), (CNAME, Technique), (C&C, Technique), (Google, Domain), (Amazon, Domain), (Microsoft, Domain)\n",
            "Rel...\n",
            "\n",
            "Processing 288/427: solarwinds unique dga...\n"
          ]
        },
        {
          "output_type": "stream",
          "name": "stderr",
          "text": [
            "The following generation flags are not valid and may be ignored: ['temperature', 'top_p', 'top_k']. Set `TRANSFORMERS_VERBOSITY=info` for more details.\n"
          ]
        },
        {
          "output_type": "stream",
          "name": "stdout",
          "text": [
            "🔍 Raw model output: Named Entities: (SolarWinds, Attacker), (C&C server, Technique), (DNS communications, Technique), (Crambus, Attacker), (Oilrig, Attacker), (Sunburst, Malware), (Backdoor.Sunburst, Malware), (domain ge...\n",
            "\n",
            "Processing 289/427: solarwinds attacks stealthy attackers attempted evade detect...\n"
          ]
        },
        {
          "output_type": "stream",
          "name": "stderr",
          "text": [
            "The following generation flags are not valid and may be ignored: ['temperature', 'top_p', 'top_k']. Set `TRANSFORMERS_VERBOSITY=info` for more details.\n"
          ]
        },
        {
          "output_type": "stream",
          "name": "stdout",
          "text": [
            "🔍 Raw model output: Named Entities: (SolarWinds, Attacker), (Sunburst, Malware), (Backdoor.Sunburst, Malware), (Trojanized update, Tool), (SolarWinds Orion, Tool), (Windows domain, Tool), (test, Domain), (swdev.local, Do...\n",
            "\n",
            "Processing 290/427: threat landscape trends q3 2020...\n"
          ]
        },
        {
          "output_type": "stream",
          "name": "stderr",
          "text": [
            "The following generation flags are not valid and may be ignored: ['temperature', 'top_p', 'top_k']. Set `TRANSFORMERS_VERBOSITY=info` for more details.\n"
          ]
        },
        {
          "output_type": "stream",
          "name": "stdout",
          "text": [
            "🔍 Raw model output: Named Entities: (Emotet, Malware), (Cobalt Strike, Tool), (Backdoor.Cobalt, Malware), (Symantec, Attacker)\n",
            "Relationships: (Emotet, use, Cobalt Strike), (Cobalt Strike, use, Backdoor.Cobalt), (Symantec...\n",
            "  ✅ Processed 290/427 articles\n",
            "\n",
            "Processing 291/427: sunburst supply chain attack solarwinds...\n"
          ]
        },
        {
          "output_type": "stream",
          "name": "stderr",
          "text": [
            "The following generation flags are not valid and may be ignored: ['temperature', 'top_p', 'top_k']. Set `TRANSFORMERS_VERBOSITY=info` for more details.\n"
          ]
        },
        {
          "output_type": "stream",
          "name": "stdout",
          "text": [
            "🔍 Raw model output: Named Entities: (Teardrop, Malware), (Symantec, Attacker), (SolarWinds, Attacker), (Sunburst, Malware), (Backdoor.Sunburst, Malware), (Solorigate, Malware), (FireEye, Attacker), (SolarWinds, Attacker)...\n",
            "\n",
            "Processing 292/427: cicada apt10 japan espionage...\n"
          ]
        },
        {
          "output_type": "stream",
          "name": "stderr",
          "text": [
            "The following generation flags are not valid and may be ignored: ['temperature', 'top_p', 'top_k']. Set `TRANSFORMERS_VERBOSITY=info` for more details.\n"
          ]
        },
        {
          "output_type": "stream",
          "name": "stdout",
          "text": [
            "🔍 Raw model output: Named Entities: (Cicada, Attacker), (APT10, Attacker), (Stone Panda, Attacker), (Cloud Hopper, Attacker), (Backdoor.Hartip, Malware), (domain controllers, File), (file servers, File), (DLL side-loadin...\n",
            "\n",
            "Processing 293/427: sms phishing presidential election...\n"
          ]
        },
        {
          "output_type": "stream",
          "name": "stderr",
          "text": [
            "The following generation flags are not valid and may be ignored: ['temperature', 'top_p', 'top_k']. Set `TRANSFORMERS_VERBOSITY=info` for more details.\n"
          ]
        },
        {
          "output_type": "stream",
          "name": "stdout",
          "text": [
            "🔍 Raw model output: No related entities and relations\n",
            "Okay, let's see. The user wants me to extract entities and relationships from the given text based on the specified types. The input text is about SMS phishing during...\n",
            "\n",
            "Processing 294/427: seedworm apt iran middle east...\n"
          ]
        },
        {
          "output_type": "stream",
          "name": "stderr",
          "text": [
            "The following generation flags are not valid and may be ignored: ['temperature', 'top_p', 'top_k']. Set `TRANSFORMERS_VERBOSITY=info` for more details.\n"
          ]
        },
        {
          "output_type": "stream",
          "name": "stdout",
          "text": [
            "🔍 Raw model output: Named Entities: (Seedworm, Attacker), (MuddyWater, Attacker), (PowGoop, Malware), (Downloader.Covic, Malware), (Symantec, Tool), (Broadcom, Company), (NASDAQ: AVGO, Stock), (Targeted Attack Cloud Anal...\n",
            "\n",
            "Processing 295/427: trickbot botnet ransomware disruption...\n"
          ]
        },
        {
          "output_type": "stream",
          "name": "stderr",
          "text": [
            "The following generation flags are not valid and may be ignored: ['temperature', 'top_p', 'top_k']. Set `TRANSFORMERS_VERBOSITY=info` for more details.\n"
          ]
        },
        {
          "output_type": "stream",
          "name": "stdout",
          "text": [
            "🔍 Raw model output: Named Entities: (Trickbot, Malware), (Trickbot botnet, Threat Type), (Microsoft, Attacker), (FS-ISAC, Attacker), (Symantec, Tool), (Broadcom (NASDAQ: AVGO), Tool), (Ryuk, Malware)\n",
            "Relationships: (Tric...\n",
            "  ✅ Processed 295/427 articles\n",
            "\n",
            "Processing 296/427: palmerworm blacktech espionage apt...\n"
          ]
        },
        {
          "output_type": "stream",
          "name": "stderr",
          "text": [
            "The following generation flags are not valid and may be ignored: ['temperature', 'top_p', 'top_k']. Set `TRANSFORMERS_VERBOSITY=info` for more details.\n"
          ]
        },
        {
          "output_type": "stream",
          "name": "stdout",
          "text": [
            "🔍 Raw model output: Named Entities: (Threat Hunter Team, Attacker), (Symantec, Attacker), (Broadcom, Attacker), (NASDAQ: AVGO, IP), (Palmerworm, Attacker), (BlackTech, Attacker), (Japan, IP), (Taiwan, IP), (U.S., IP), (C...\n",
            "\n",
            "Processing 297/427: elfin indictments iran espionage...\n"
          ]
        },
        {
          "output_type": "stream",
          "name": "stderr",
          "text": [
            "The following generation flags are not valid and may be ignored: ['temperature', 'top_p', 'top_k']. Set `TRANSFORMERS_VERBOSITY=info` for more details.\n"
          ]
        },
        {
          "output_type": "stream",
          "name": "stdout",
          "text": [
            "🔍 Raw model output: Named Entities: (Elfin group, Attacker), (Iranian nationals, Attacker), (Said Pourkarim Arabi, Attacker), (Mohammad Reza Espargham, Attacker), (Mohammad Bayati, Attacker), (Iran’s Islamic Revolutionar...\n",
            "\n",
            "Processing 298/427: apt41 indictments china espionage...\n"
          ]
        },
        {
          "output_type": "stream",
          "name": "stderr",
          "text": [
            "The following generation flags are not valid and may be ignored: ['temperature', 'top_p', 'top_k']. Set `TRANSFORMERS_VERBOSITY=info` for more details.\n"
          ]
        },
        {
          "output_type": "stream",
          "name": "stdout",
          "text": [
            "🔍 Raw model output: Named Entities: (APT41, Attacker), (Grayfly, Attacker), (Blackfly, Attacker), (Barlaiy/POISONPLUG, Malware), (Crosswalk/ProxIP, Malware), (Backdoor.Motnug, Malware), (Cobalt Strike, Tool), (public fac...\n",
            "\n",
            "Processing 299/427: threat landscape trends q2 2020...\n"
          ]
        },
        {
          "output_type": "stream",
          "name": "stderr",
          "text": [
            "The following generation flags are not valid and may be ignored: ['temperature', 'top_p', 'top_k']. Set `TRANSFORMERS_VERBOSITY=info` for more details.\n"
          ]
        },
        {
          "output_type": "stream",
          "name": "stdout",
          "text": [
            "🔍 Raw model output: Named Entities: (Emotet, Malware), (Trojan.Emotet, Malware), (CoinHive, Tool), (Symantec, Tool), (Broadcom, Tool), (NASDAQ: AVGO, Tool), (Bitcoin, Currency), (Monero, Currency), (Cryptojacking, Threat...\n",
            "\n",
            "Processing 300/427: wastedlocker ransomware us...\n"
          ]
        },
        {
          "output_type": "stream",
          "name": "stderr",
          "text": [
            "The following generation flags are not valid and may be ignored: ['temperature', 'top_p', 'top_k']. Set `TRANSFORMERS_VERBOSITY=info` for more details.\n"
          ]
        },
        {
          "output_type": "stream",
          "name": "stdout",
          "text": [
            "🔍 Raw model output: Named Entities: (SocGholish, Malware), (WastedLocker, Malware), (Ransom.WastedLocker, Malware), (Evil Corp, Attacker), (theDridex, Malware), (BitPaymer, Malware), (Symantec, Attacker), (Broadcom, Comp...\n",
            "  ✅ Processed 300/427 articles\n",
            "\n",
            "Processing 301/427: sodinokibi ransomware cobalt strike pos...\n"
          ]
        },
        {
          "output_type": "stream",
          "name": "stderr",
          "text": [
            "The following generation flags are not valid and may be ignored: ['temperature', 'top_p', 'top_k']. Set `TRANSFORMERS_VERBOSITY=info` for more details.\n"
          ]
        },
        {
          "output_type": "stream",
          "name": "stdout",
          "text": [
            "🔍 Raw model output: Named Entities: (Sodinokibi, Malware), (ransomware, Threat Type), (Cobalt Strike, Tool), (NetSupport Ltd, Tool), (Monero, Currency), (services, Sector), (food, Sector), (healthcare, Sector), (Broadcom...\n",
            "\n",
            "Processing 302/427: threat landscape q1 2020...\n"
          ]
        },
        {
          "output_type": "stream",
          "name": "stderr",
          "text": [
            "The following generation flags are not valid and may be ignored: ['temperature', 'top_p', 'top_k']. Set `TRANSFORMERS_VERBOSITY=info` for more details.\n"
          ]
        },
        {
          "output_type": "stream",
          "name": "stdout",
          "text": [
            "🔍 Raw model output: No related entities and relations\n",
            "Okay, let's see. The user wants me to extract entities and relationships from the given text based on specific types. The input text is about cybersecurity trends in ...\n",
            "\n",
            "Processing 303/427: sms phishing coronavirus...\n"
          ]
        },
        {
          "output_type": "stream",
          "name": "stderr",
          "text": [
            "The following generation flags are not valid and may be ignored: ['temperature', 'top_p', 'top_k']. Set `TRANSFORMERS_VERBOSITY=info` for more details.\n"
          ]
        },
        {
          "output_type": "stream",
          "name": "stdout",
          "text": [
            "🔍 Raw model output: Named Entities: (Symantec, Organization), (Broadcom, Organization), (NASDAQ: AVGO, Stock), (SEP Mobile, Tool), (Symantec WebPulse, Tool), (Symantec Global Intelligence Network (GIN), Tool), (Symantec ...\n",
            "\n",
            "Processing 304/427: greenbug espionage telco south asia...\n"
          ]
        },
        {
          "output_type": "stream",
          "name": "stderr",
          "text": [
            "The following generation flags are not valid and may be ignored: ['temperature', 'top_p', 'top_k']. Set `TRANSFORMERS_VERBOSITY=info` for more details.\n"
          ]
        },
        {
          "output_type": "stream",
          "name": "stdout",
          "text": [
            "🔍 Raw model output: Named Entities: (Greenbug, Attacker), (Shamoon group, Attacker), (W32.Disttrack.B, Malware), (email, Technique), (database servers, Target), (Iran, Country), (Broadcom, Organization), (Symantec, Organ...\n",
            "\n",
            "Processing 305/427: covid 19 text scam...\n"
          ]
        },
        {
          "output_type": "stream",
          "name": "stderr",
          "text": [
            "The following generation flags are not valid and may be ignored: ['temperature', 'top_p', 'top_k']. Set `TRANSFORMERS_VERBOSITY=info` for more details.\n"
          ]
        },
        {
          "output_type": "stream",
          "name": "stdout",
          "text": [
            "🔍 Raw model output: No related entities and relations\n",
            "Okay, let's see. The user wants me to extract entities and relationships from the given text based on the specified types. The input text is about Symantec's blog on ...\n",
            "  ✅ Processed 305/427 articles\n",
            "\n",
            "Processing 306/427: microsoft patch tuesday april 2020...\n"
          ]
        },
        {
          "output_type": "stream",
          "name": "stderr",
          "text": [
            "The following generation flags are not valid and may be ignored: ['temperature', 'top_p', 'top_k']. Set `TRANSFORMERS_VERBOSITY=info` for more details.\n"
          ]
        },
        {
          "output_type": "stream",
          "name": "stdout",
          "text": [
            "🔍 Raw model output: Named Entities: (CVE-2020-0969, Vulnerability), (CVE-2020-0968, Vulnerability), (CVE-2020-0970, Vulnerability), (CVE-2020-0967, Vulnerability), (Microsoft Edge (HTML-based), Tool), (Internet Explorer,...\n",
            "\n",
            "Processing 307/427: covid 19 outbreak prompts opportunistic wave malicious email...\n"
          ]
        },
        {
          "output_type": "stream",
          "name": "stderr",
          "text": [
            "The following generation flags are not valid and may be ignored: ['temperature', 'top_p', 'top_k']. Set `TRANSFORMERS_VERBOSITY=info` for more details.\n"
          ]
        },
        {
          "output_type": "stream",
          "name": "stdout",
          "text": [
            "🔍 Raw model output: Named Entities: (Cyber criminals, Attacker), (Symantec, Tool), (phishing, Threat Type), (malspam, Threat Type), (snowshoe spam, Threat Type), (scams, Threat Type), (face masks, File), (medical equipme...\n",
            "\n",
            "Processing 308/427: android apps coronavirus covid19 malicious...\n"
          ]
        },
        {
          "output_type": "stream",
          "name": "stderr",
          "text": [
            "The following generation flags are not valid and may be ignored: ['temperature', 'top_p', 'top_k']. Set `TRANSFORMERS_VERBOSITY=info` for more details.\n"
          ]
        },
        {
          "output_type": "stream",
          "name": "stdout",
          "text": [
            "🔍 Raw model output: Named Entities: (Symantec, Attacker), (Android, Platform), (Covid-19, Event), (Italy, Country), (Spain, Country), (U.S., Country), (France, Country), (SM_Covid19, App), (Metasploit, Tool)\n",
            "Relationship...\n",
            "\n",
            "Processing 309/427: microsoft patch tuesday march 2020...\n"
          ]
        },
        {
          "output_type": "stream",
          "name": "stderr",
          "text": [
            "The following generation flags are not valid and may be ignored: ['temperature', 'top_p', 'top_k']. Set `TRANSFORMERS_VERBOSITY=info` for more details.\n"
          ]
        },
        {
          "output_type": "stream",
          "name": "stdout",
          "text": [
            "🔍 Raw model output: Named Entities: (CVE-2020-0768, Vulnerability), (CVE-2020-0811, Vulnerability), (CVE-2020-0812, Vulnerability), (CVE-2020-0816, Vulnerability), (Microsoft Edge, Tool), (Microsoft browsers, Tool), (Cha...\n",
            "\n",
            "Processing 310/427: microsoft patch tuesday february 2020...\n"
          ]
        },
        {
          "output_type": "stream",
          "name": "stderr",
          "text": [
            "The following generation flags are not valid and may be ignored: ['temperature', 'top_p', 'top_k']. Set `TRANSFORMERS_VERBOSITY=info` for more details.\n"
          ]
        },
        {
          "output_type": "stream",
          "name": "stdout",
          "text": [
            "🔍 Raw model output: Named Entities: (Microsoft, Tool), (February 2020, Date), (https://portal.msrc.microsoft.com/en-us/security-guidance, URL), (Microsoft Browsers, Tool), (Microsoft Office, Tool), (Microsoft Windows, To...\n",
            "  ✅ Processed 310/427 articles\n",
            "\n",
            "Processing 311/427: tensions iran destructive attacks...\n"
          ]
        },
        {
          "output_type": "stream",
          "name": "stderr",
          "text": [
            "The following generation flags are not valid and may be ignored: ['temperature', 'top_p', 'top_k']. Set `TRANSFORMERS_VERBOSITY=info` for more details.\n"
          ]
        },
        {
          "output_type": "stream",
          "name": "stdout",
          "text": [
            "🔍 Raw model output: Named Entities: (Shamoon, Malware), (W32.Disttrack, Malware), (DDoS, Technique), (Shamoon, Malware), (W32.Disttrack.B, Malware)\n",
            "Relationships: (Shamoon, aka, W32.Disttrack), (W32.Disttrack.B, aka, Sha...\n",
            "\n",
            "Processing 312/427: increase emotet spam observed blocked symantec...\n"
          ]
        },
        {
          "output_type": "stream",
          "name": "stderr",
          "text": [
            "The following generation flags are not valid and may be ignored: ['temperature', 'top_p', 'top_k']. Set `TRANSFORMERS_VERBOSITY=info` for more details.\n"
          ]
        },
        {
          "output_type": "stream",
          "name": "stdout",
          "text": [
            "🔍 Raw model output: Named Entities: (Emotet, Malware), (Trojan.Emotet, Malware), (C&C, Technique), (Symantec, Tool), (Symantec Messaging Gateway, Tool), (Email Security.cloud, Tool), (Symantec SMG, Tool), (Email Security...\n",
            "\n",
            "Processing 313/427: microsoft patch tuesday january 2020...\n"
          ]
        },
        {
          "output_type": "stream",
          "name": "stderr",
          "text": [
            "The following generation flags are not valid and may be ignored: ['temperature', 'top_p', 'top_k']. Set `TRANSFORMERS_VERBOSITY=info` for more details.\n"
          ]
        },
        {
          "output_type": "stream",
          "name": "stdout",
          "text": [
            "🔍 Raw model output: Named Entities: (CVE-2020-0640, Vulnerability), (CVE-2020-0647, Vulnerability), (CVE-2020-0650, Vulnerability), (CVE-2020-0651, Vulnerability), (CVE-2020-0652, Vulnerability), (CVE-2020-0653, Vulnerab...\n",
            "\n",
            "Processing 314/427: living land legitimate tools malicious...\n"
          ]
        },
        {
          "output_type": "stream",
          "name": "stderr",
          "text": [
            "The following generation flags are not valid and may be ignored: ['temperature', 'top_p', 'top_k']. Set `TRANSFORMERS_VERBOSITY=info` for more details.\n"
          ]
        },
        {
          "output_type": "stream",
          "name": "stdout",
          "text": [
            "🔍 Raw model output: Named Entities: (PowerShell, Tool), (Windows Management Instrumentation, Tool), (net.exe, Tool), (certification utility, Tool), (task scheduler, Tool), (WMI command line, Tool), (WMIC, Tool), (Targete...\n",
            "\n",
            "Processing 315/427: microsoft patch tuesday december 2019...\n"
          ]
        },
        {
          "output_type": "stream",
          "name": "stderr",
          "text": [
            "The following generation flags are not valid and may be ignored: ['temperature', 'top_p', 'top_k']. Set `TRANSFORMERS_VERBOSITY=info` for more details.\n"
          ]
        },
        {
          "output_type": "stream",
          "name": "stdout",
          "text": [
            "🔍 Raw model output: Named Entities: (CVE-2019-1485, Vulnerability), (CVE-2019-1461, Vulnerability), (CVE-2019-1462, Vulnerability), (CVE-2019-1463, Vulnerability), (CVE-2019-1464, Vulnerability), (CVE-2019-1400, Vulnerab...\n",
            "  ✅ Processed 315/427 articles\n",
            "\n",
            "Processing 316/427: microsoft patch tuesday november 2019...\n"
          ]
        },
        {
          "output_type": "stream",
          "name": "stderr",
          "text": [
            "The following generation flags are not valid and may be ignored: ['temperature', 'top_p', 'top_k']. Set `TRANSFORMERS_VERBOSITY=info` for more details.\n"
          ]
        },
        {
          "output_type": "stream",
          "name": "stdout",
          "text": [
            "🔍 Raw model output: Named Entities: (CVE-2019-1426, Vulnerability), (CVE-2019-1427, Vulnerability), (CVE-2019-1428, Vulnerability), (CVE-2019-1429, Vulnerability), (CVE-2019-1390, Vulnerability), (CVE-2019-1413, Vulnerab...\n",
            "\n",
            "Processing 317/427: nemty ransomware trik botnet...\n"
          ]
        },
        {
          "output_type": "stream",
          "name": "stderr",
          "text": [
            "The following generation flags are not valid and may be ignored: ['temperature', 'top_p', 'top_k']. Set `TRANSFORMERS_VERBOSITY=info` for more details.\n"
          ]
        },
        {
          "output_type": "stream",
          "name": "stdout",
          "text": [
            "🔍 Raw model output: Named Entities: (Nemty, Malware), (Ransom.Nemty, Malware), (Trik botnet, Attacker), (Trojan.Wortrik, Malware), (Phorpiex, Attacker), (removable USB drives, Tool), (Windows Live Messenger, Tool), (Skyp...\n",
            "\n",
            "Processing 318/427: thrip apt south east asia...\n"
          ]
        },
        {
          "output_type": "stream",
          "name": "stderr",
          "text": [
            "The following generation flags are not valid and may be ignored: ['temperature', 'top_p', 'top_k']. Set `TRANSFORMERS_VERBOSITY=info` for more details.\n"
          ]
        },
        {
          "output_type": "stream",
          "name": "stdout",
          "text": [
            "🔍 Raw model output: Named Entities: (Thrip, Attacker), (Hannotog, Malware), (Backdoor.Hannotog, Malware), (Sagerunex, Malware), (Backdoor.Sagerunex, Malware), (Billbug, Attacker), (Lotus Blossom, Attacker), (Hong Kong, L...\n",
            "\n",
            "Processing 319/427: microsoft patch tuesday august 2019...\n"
          ]
        },
        {
          "output_type": "stream",
          "name": "stderr",
          "text": [
            "The following generation flags are not valid and may be ignored: ['temperature', 'top_p', 'top_k']. Set `TRANSFORMERS_VERBOSITY=info` for more details.\n"
          ]
        },
        {
          "output_type": "stream",
          "name": "stdout",
          "text": [
            "🔍 Raw model output: Named Entities: (Microsoft, Tool), (93, Vulnerability), (27, Vulnerability), (Critical, Threat Type), (August 2019, Date), (https://portal.msrc.microsoft.com/en-us/security-guidance, URL), (Chakra Scr...\n",
            "\n",
            "Processing 320/427: email extortion scams...\n"
          ]
        },
        {
          "output_type": "stream",
          "name": "stderr",
          "text": [
            "The following generation flags are not valid and may be ignored: ['temperature', 'top_p', 'top_k']. Set `TRANSFORMERS_VERBOSITY=info` for more details.\n"
          ]
        },
        {
          "output_type": "stream",
          "name": "stdout",
          "text": [
            "🔍 Raw model output: Named Entities: \n",
            "Relationships:\n",
            "\n",
            "Okay, let's tackle this. The user provided a text about email extortion scams, specifically sextortion. I need to extract entities and relationships based on the speci...\n",
            "  ✅ Processed 320/427 articles\n",
            "\n",
            "Processing 321/427: bec scams trends and themes 2019...\n"
          ]
        },
        {
          "output_type": "stream",
          "name": "stderr",
          "text": [
            "The following generation flags are not valid and may be ignored: ['temperature', 'top_p', 'top_k']. Set `TRANSFORMERS_VERBOSITY=info` for more details.\n"
          ]
        },
        {
          "output_type": "stream",
          "name": "stdout",
          "text": [
            "🔍 Raw model output: Named Entities: (BEC scams, Threat Type), (email account compromise (EAC), Threat Type), (CEO fraud, Threat Type), (whaling, Threat Type), (FBI, Attacker), (ICR, Tool), (IC3, Tool), (RAT, Tool), (Chin...\n",
            "\n",
            "Processing 322/427: cryptojacking extensions chrome web store...\n"
          ]
        },
        {
          "output_type": "stream",
          "name": "stderr",
          "text": [
            "The following generation flags are not valid and may be ignored: ['temperature', 'top_p', 'top_k']. Set `TRANSFORMERS_VERBOSITY=info` for more details.\n"
          ]
        },
        {
          "output_type": "stream",
          "name": "stdout",
          "text": [
            "🔍 Raw model output: Named Entities: (2048, File), (Mp3 Songs Download, File), (Monero, Currency), (5bdd3443937ebe08d3e3c99e9524afc13702eba28340, Hash), (http://www.madafak[DOT]in/landing, URL), (www.madafak[DOT]in, Domai...\n",
            "\n",
            "Processing 323/427: microsoft patch tuesday june 2019...\n"
          ]
        },
        {
          "output_type": "stream",
          "name": "stderr",
          "text": [
            "The following generation flags are not valid and may be ignored: ['temperature', 'top_p', 'top_k']. Set `TRANSFORMERS_VERBOSITY=info` for more details.\n"
          ]
        },
        {
          "output_type": "stream",
          "name": "stdout",
          "text": [
            "🔍 Raw model output: Named Entities: (CVE-2019-1054, Vulnerability), (CVE-2019-1038, Vulnerability), (CVE-2019-0989, Vulnerability), (CVE-2019-0991, Vulnerability), (CVE-2019-0992, Vulnerability), (CVE-2019-0993, Vulnerab...\n",
            "\n",
            "Processing 324/427: twitterbots propaganda disinformation...\n"
          ]
        },
        {
          "output_type": "stream",
          "name": "stderr",
          "text": [
            "The following generation flags are not valid and may be ignored: ['temperature', 'top_p', 'top_k']. Set `TRANSFORMERS_VERBOSITY=info` for more details.\n"
          ]
        },
        {
          "output_type": "stream",
          "name": "stdout",
          "text": [
            "🔍 Raw model output: Named Entities: (Internet Research Agency, Attacker), (IRA, Attacker)\n",
            "Relationships: (Internet Research Agency, aka, IRA)\n",
            "\n",
            "Okay, let's tackle this. The user wants me to extract entities and relationsh...\n",
            "\n",
            "Processing 325/427: microsoft patch tuesday may 2019...\n"
          ]
        },
        {
          "output_type": "stream",
          "name": "stderr",
          "text": [
            "The following generation flags are not valid and may be ignored: ['temperature', 'top_p', 'top_k']. Set `TRANSFORMERS_VERBOSITY=info` for more details.\n"
          ]
        },
        {
          "output_type": "stream",
          "name": "stdout",
          "text": [
            "🔍 Raw model output: Named Entities: (CVE-2019-0708, Vulnerability), (CVE-2019-0911, Vulnerability), (CVE-2019-0912, Vulnerability), (CVE-2019-0913, Vulnerability), (CVE-2019-0914, Vulnerability), (CVE-2019-0915, Vulnerab...\n",
            "  ✅ Processed 325/427 articles\n",
            "\n",
            "Processing 326/427: buckeye windows zero day exploit...\n"
          ]
        },
        {
          "output_type": "stream",
          "name": "stderr",
          "text": [
            "The following generation flags are not valid and may be ignored: ['temperature', 'top_p', 'top_k']. Set `TRANSFORMERS_VERBOSITY=info` for more details.\n"
          ]
        },
        {
          "output_type": "stream",
          "name": "stdout",
          "text": [
            "🔍 Raw model output: Named Entities: (Equation Group, Attacker), (Shadow Brokers, Attacker), (WannaCry, Malware), (EternalBlue, Vulnerability), (Buckeye, Attacker), (APT3, Attacker), (Gothic Panda, Attacker), (DoublePulsa...\n",
            "\n",
            "Processing 327/427: elfin apt33 espionage...\n"
          ]
        },
        {
          "output_type": "stream",
          "name": "stderr",
          "text": [
            "The following generation flags are not valid and may be ignored: ['temperature', 'top_p', 'top_k']. Set `TRANSFORMERS_VERBOSITY=info` for more details.\n"
          ]
        },
        {
          "output_type": "stream",
          "name": "stdout",
          "text": [
            "🔍 Raw model output: Named Entities: (Elfin, Attacker), (APT33, Attacker), (Saudi Arabia, Country), (United States, Country), (C&C, Technique), (governments, Target), (research, Target), (chemical, Target), (engineering, ...\n",
            "\n",
            "Processing 328/427: asus supply chain attack...\n"
          ]
        },
        {
          "output_type": "stream",
          "name": "stderr",
          "text": [
            "The following generation flags are not valid and may be ignored: ['temperature', 'top_p', 'top_k']. Set `TRANSFORMERS_VERBOSITY=info` for more details.\n"
          ]
        },
        {
          "output_type": "stream",
          "name": "stdout",
          "text": [
            "🔍 Raw model output: Named Entities: (ASUS, Company), (Trojan.Susafone, Malware), (Trojan.Susafone!gen1, Malware), (Trojan.Susafone!gen2, Malware), (Trojan.Susafone!gen3, Malware), (asushotfix[.]com, Domain)\n",
            "Relationships...\n",
            "\n",
            "Processing 329/427: detecting credential dumping...\n"
          ]
        },
        {
          "output_type": "stream",
          "name": "stderr",
          "text": [
            "The following generation flags are not valid and may be ignored: ['temperature', 'top_p', 'top_k']. Set `TRANSFORMERS_VERBOSITY=info` for more details.\n"
          ]
        },
        {
          "output_type": "stream",
          "name": "stdout",
          "text": [
            "🔍 Raw model output: Named Entities: (Credential dumping, Technique), (privilege escalation, Technique), (T1003, Technique)\n",
            "Relationships: (Credential dumping, is listed as, T1003), (privilege escalation, is a precursor t...\n",
            "\n",
            "Processing 330/427: microsoft patch tuesday march 2019...\n"
          ]
        },
        {
          "output_type": "stream",
          "name": "stderr",
          "text": [
            "The following generation flags are not valid and may be ignored: ['temperature', 'top_p', 'top_k']. Set `TRANSFORMERS_VERBOSITY=info` for more details.\n"
          ]
        },
        {
          "output_type": "stream",
          "name": "stdout",
          "text": [
            "🔍 Raw model output: Named Entities: (CVE-2019-0592, Vulnerability), (CVE-2019-0609, Vulnerability), (CVE-2019-0639, Vulnerability), (CVE-2019-0666, Vulnerability), (CVE-2019-0667, Vulnerability), (CVE-2019-0680, Vulnerab...\n",
            "  ✅ Processed 330/427 articles\n",
            "\n",
            "Processing 331/427: whitefly espionage singapore...\n"
          ]
        },
        {
          "output_type": "stream",
          "name": "stderr",
          "text": [
            "The following generation flags are not valid and may be ignored: ['temperature', 'top_p', 'top_k']. Set `TRANSFORMERS_VERBOSITY=info` for more details.\n"
          ]
        },
        {
          "output_type": "stream",
          "name": "stdout",
          "text": [
            "🔍 Raw model output: Named Entities: (Whitefly, Attacker), (SingHealth, Organization), (Singapore, Location), (1.5 million, Quantity), (2017, Date), (2018, Date), (healthcare, Sector), (media, Sector), (telecommunications...\n",
            "\n",
            "Processing 332/427: istr 24 cyber security threat landscape...\n"
          ]
        },
        {
          "output_type": "stream",
          "name": "stderr",
          "text": [
            "The following generation flags are not valid and may be ignored: ['temperature', 'top_p', 'top_k']. Set `TRANSFORMERS_VERBOSITY=info` for more details.\n"
          ]
        },
        {
          "output_type": "stream",
          "name": "stdout",
          "text": [
            "🔍 Raw model output: Named Entities: (Ransomware, Threat Type), (cryptojacking, Threat Type), (formjacking, Threat Type), (Internet Security Threat Report (ISTR) Volume 24, File), (2018, Date), (2019, Date)\n",
            "Relationships:...\n",
            "\n",
            "Processing 333/427: cryptojacking apps microsoft store...\n"
          ]
        },
        {
          "output_type": "stream",
          "name": "stderr",
          "text": [
            "The following generation flags are not valid and may be ignored: ['temperature', 'top_p', 'top_k']. Set `TRANSFORMERS_VERBOSITY=info` for more details.\n"
          ]
        },
        {
          "output_type": "stream",
          "name": "stdout",
          "text": [
            "🔍 Raw model output: Named Entities: (PUAs, Threat Type), (Microsoft Store, Tool), (DigiDream, Attacker), (1clean, Attacker), (Findoo, Attacker), (Windows 10, OS), (Windows 10 S Mode, OS), (Google Tag Manager (GTM), Tool)...\n",
            "\n",
            "Processing 334/427: microsoft patch tuesday february 2019...\n"
          ]
        },
        {
          "output_type": "stream",
          "name": "stderr",
          "text": [
            "The following generation flags are not valid and may be ignored: ['temperature', 'top_p', 'top_k']. Set `TRANSFORMERS_VERBOSITY=info` for more details.\n"
          ]
        },
        {
          "output_type": "stream",
          "name": "stdout",
          "text": [
            "🔍 Raw model output: Named Entities: (https://portal.msrc.microsoft.com/en-us/security-guidance, URL), (CVE-2019-0590, Vulnerability), (CVE-2019-0591, Vulnerability), (CVE-2019-0593, Vulnerability), (CVE-2019-0605, Vulner...\n",
            "\n",
            "Processing 335/427: tech support scams install puas...\n"
          ]
        },
        {
          "output_type": "stream",
          "name": "stderr",
          "text": [
            "The following generation flags are not valid and may be ignored: ['temperature', 'top_p', 'top_k']. Set `TRANSFORMERS_VERBOSITY=info` for more details.\n"
          ]
        },
        {
          "output_type": "stream",
          "name": "stdout",
          "text": [
            "🔍 Raw model output: Named Entities: \n",
            "Relationships: \n",
            "\n",
            "Okay, let's tackle this input. The user wants me to extract entities and relationships based on the specified types. First, I need to read through the provided text c...\n",
            "  ✅ Processed 335/427 articles\n",
            "\n",
            "Processing 336/427: african financial attacks...\n"
          ]
        },
        {
          "output_type": "stream",
          "name": "stderr",
          "text": [
            "The following generation flags are not valid and may be ignored: ['temperature', 'top_p', 'top_k']. Set `TRANSFORMERS_VERBOSITY=info` for more details.\n"
          ]
        },
        {
          "output_type": "stream",
          "name": "stdout",
          "text": [
            "🔍 Raw model output: Named Entities: (NanoCore, Malware), (Trojan.Nancrat, Malware), (PsExec, Tool), (Microsoft Sysinternals, Tool), (West African bank, Organization), (SWIFT, Organization), (PowerShell, Tool), (Mimikatz,...\n",
            "\n",
            "Processing 337/427: microsoft patch tuesday january 2019...\n"
          ]
        },
        {
          "output_type": "stream",
          "name": "stderr",
          "text": [
            "The following generation flags are not valid and may be ignored: ['temperature', 'top_p', 'top_k']. Set `TRANSFORMERS_VERBOSITY=info` for more details.\n"
          ]
        },
        {
          "output_type": "stream",
          "name": "stdout",
          "text": [
            "🔍 Raw model output: Named Entities: (CVE-2019-0539, Vulnerability), (CVE-2019-0567, Vulnerability), (CVE-2019-0568, Vulnerability), (CVE-2019-0565, Vulnerability), (CVE-2019-0566, Vulnerability), (CVE-2019-0541, Vulnerab...\n",
            "\n",
            "Processing 338/427: leaky christmas lights hijacked...\n"
          ]
        },
        {
          "output_type": "stream",
          "name": "stderr",
          "text": [
            "The following generation flags are not valid and may be ignored: ['temperature', 'top_p', 'top_k']. Set `TRANSFORMERS_VERBOSITY=info` for more details.\n"
          ]
        },
        {
          "output_type": "stream",
          "name": "stdout",
          "text": [
            "🔍 Raw model output: Named Entities: (IoT, Threat Type), (Symantec, Attacker), (LED light bulb, Device), (HTTP, Tool), (HTTPS, Tool), (MD5, Tool)\n",
            "Relationships: (Symantec, analyzes, IoT), (Symantec, targets, LED light bul...\n",
            "\n",
            "Processing 339/427: shamoon destructive threat re emerges new sting its tail...\n"
          ]
        },
        {
          "output_type": "stream",
          "name": "stderr",
          "text": [
            "The following generation flags are not valid and may be ignored: ['temperature', 'top_p', 'top_k']. Set `TRANSFORMERS_VERBOSITY=info` for more details.\n"
          ]
        },
        {
          "output_type": "stream",
          "name": "stdout",
          "text": [
            "🔍 Raw model output: Named Entities: (Shamoon, Malware), (W32.Disttrack.B, Malware), (Trojan.Filerase, Malware), (Saipem, Attacker), (Symantec, Tool), (Saudi Arabia, IP), (United Arab Emirates, IP), (oil and gas industry,...\n",
            "\n",
            "Processing 340/427: microsoft patch tuesday december 2018...\n"
          ]
        },
        {
          "output_type": "stream",
          "name": "stderr",
          "text": [
            "The following generation flags are not valid and may be ignored: ['temperature', 'top_p', 'top_k']. Set `TRANSFORMERS_VERBOSITY=info` for more details.\n"
          ]
        },
        {
          "output_type": "stream",
          "name": "stdout",
          "text": [
            "🔍 Raw model output: Named Entities: (CVE-2018-8583, Vulnerability), (CVE-2018-8617, Vulnerability), (CVE-2018-8618, Vulnerability), (CVE-2018-8629, Vulnerability), (CVE-2018-8631, Vulnerability), (CVE-2018-8624, Vulnerab...\n",
            "  ✅ Processed 340/427 articles\n",
            "\n",
            "Processing 341/427: seedworm espionage group...\n"
          ]
        },
        {
          "output_type": "stream",
          "name": "stderr",
          "text": [
            "The following generation flags are not valid and may be ignored: ['temperature', 'top_p', 'top_k']. Set `TRANSFORMERS_VERBOSITY=info` for more details.\n"
          ]
        },
        {
          "output_type": "stream",
          "name": "stdout",
          "text": [
            "🔍 Raw model output: Named Entities: (Seedworm, Attacker), (MuddyWater, Attacker), (Backdoor.Powemuddy, Malware), (Powermud, Malware), (POWERSTATS, Malware), (GitHub repository, Tool), (APT28, Attacker), (Swallowtail, Att...\n",
            "\n",
            "Processing 342/427: formjacking targeting popular stores...\n"
          ]
        },
        {
          "output_type": "stream",
          "name": "stderr",
          "text": [
            "The following generation flags are not valid and may be ignored: ['temperature', 'top_p', 'top_k']. Set `TRANSFORMERS_VERBOSITY=info` for more details.\n"
          ]
        },
        {
          "output_type": "stream",
          "name": "stdout",
          "text": [
            "🔍 Raw model output: Named Entities: (Formjacking, Threat Type), (domaingoogle-analyitics.org, Domain), (google-analytics.com, Domain)\n",
            "Relationships: (Formjacking, communicate with, domaingoogle-analyitics.org), (domaingo...\n",
            "\n",
            "Processing 343/427: tech support scams part 3...\n"
          ]
        },
        {
          "output_type": "stream",
          "name": "stderr",
          "text": [
            "The following generation flags are not valid and may be ignored: ['temperature', 'top_p', 'top_k']. Set `TRANSFORMERS_VERBOSITY=info` for more details.\n"
          ]
        },
        {
          "output_type": "stream",
          "name": "stdout",
          "text": [
            "🔍 Raw model output: Named Entities: \n",
            "Relationships: \n",
            "\n",
            "Okay, let's tackle this input. The user wants me to extract entities and relationships based on the specified types. First, I need to read through the text carefully....\n",
            "\n",
            "Processing 344/427: eversion 3ve arrests takedown...\n"
          ]
        },
        {
          "output_type": "stream",
          "name": "stderr",
          "text": [
            "The following generation flags are not valid and may be ignored: ['temperature', 'top_p', 'top_k']. Set `TRANSFORMERS_VERBOSITY=info` for more details.\n"
          ]
        },
        {
          "output_type": "stream",
          "name": "stdout",
          "text": [
            "🔍 Raw model output: Named Entities: (Operation Eversion, Operation), (FBI, Organization), (3ve, Attacker), (Symantec, Organization), (ad-fraud, Threat Type), (fake versions of legitimate websites, Technique), (infected c...\n",
            "\n",
            "Processing 345/427: retail threats formjacking pos...\n"
          ]
        },
        {
          "output_type": "stream",
          "name": "stderr",
          "text": [
            "The following generation flags are not valid and may be ignored: ['temperature', 'top_p', 'top_k']. Set `TRANSFORMERS_VERBOSITY=info` for more details.\n"
          ]
        },
        {
          "output_type": "stream",
          "name": "stdout",
          "text": [
            "🔍 Raw model output: Named Entities: (Formjacking, Threat Type), (Magecart, Attacker), (PoS, Threat Type), (Symantec, Tool), (DeepsightManaged Adversary and Threat Intelligence (MATI), Tool), (MATI report, File), (How Cyb...\n",
            "  ✅ Processed 345/427 articles\n",
            "\n",
            "Processing 346/427: microsoft patch tuesday november 2018...\n"
          ]
        },
        {
          "output_type": "stream",
          "name": "stderr",
          "text": [
            "The following generation flags are not valid and may be ignored: ['temperature', 'top_p', 'top_k']. Set `TRANSFORMERS_VERBOSITY=info` for more details.\n"
          ]
        },
        {
          "output_type": "stream",
          "name": "stdout",
          "text": [
            "🔍 Raw model output: Named Entities: (CVE-2018-8541, Vulnerability), (CVE-2018-8542, Vulnerability), (CVE-2018-8543, Vulnerability), (CVE-2018-8551, Vulnerability), (CVE-2018-8555, Vulnerability), (CVE-2018-8556, Vulnerab...\n",
            "\n",
            "Processing 347/427: fastcash lazarus atm malware...\n"
          ]
        },
        {
          "output_type": "stream",
          "name": "stderr",
          "text": [
            "The following generation flags are not valid and may be ignored: ['temperature', 'top_p', 'top_k']. Set `TRANSFORMERS_VERBOSITY=info` for more details.\n"
          ]
        },
        {
          "output_type": "stream",
          "name": "stdout",
          "text": [
            "🔍 Raw model output: Named Entities: (Hidden Cobra, Attacker), (Lazarus, Attacker), (FASTCash, Technique), (ATM, Tool), (Department of Homeland Security, Attacker), (Department of the Treasury, Attacker), (FBI, Attacker),...\n",
            "\n",
            "Processing 348/427: samsam targeted ransomware attacks...\n"
          ]
        },
        {
          "output_type": "stream",
          "name": "stderr",
          "text": [
            "The following generation flags are not valid and may be ignored: ['temperature', 'top_p', 'top_k']. Set `TRANSFORMERS_VERBOSITY=info` for more details.\n"
          ]
        },
        {
          "output_type": "stream",
          "name": "stdout",
          "text": [
            "🔍 Raw model output: Named Entities: (Iranian nationals, Attacker), (SamSam, Malware), (Ransom.SamSam, Malware), (SamSam group, Attacker), (Atlanta, IP), (Colorado Department of Transportation, IP), (Symantec, Tool), (hea...\n",
            "\n",
            "Processing 349/427: gallmaker attack group...\n"
          ]
        },
        {
          "output_type": "stream",
          "name": "stderr",
          "text": [
            "The following generation flags are not valid and may be ignored: ['temperature', 'top_p', 'top_k']. Set `TRANSFORMERS_VERBOSITY=info` for more details.\n"
          ]
        },
        {
          "output_type": "stream",
          "name": "stdout",
          "text": [
            "🔍 Raw model output: Named Entities: (Gallmaker, Attacker), (DDE protocol, Tool)\n",
            "Relationships: (Gallmaker, uses, DDE protocol)\n",
            "\n",
            "Okay, let's tackle this. The user wants me to extract entities and relationships from the gi...\n",
            "\n",
            "Processing 350/427: microsoft patch tuesday october 2018...\n"
          ]
        },
        {
          "output_type": "stream",
          "name": "stderr",
          "text": [
            "The following generation flags are not valid and may be ignored: ['temperature', 'top_p', 'top_k']. Set `TRANSFORMERS_VERBOSITY=info` for more details.\n"
          ]
        },
        {
          "output_type": "stream",
          "name": "stdout",
          "text": [
            "🔍 Raw model output: Named Entities: (https://portal.msrc.microsoft.com/en-us/security-guidance, URL), (CVE-2018-8473, Vulnerability), (CVE-2018-8491, Vulnerability), (CVE-2018-8500, Vulnerability), (CVE-2018-8505, Vulner...\n",
            "  ✅ Processed 350/427 articles\n",
            "\n",
            "Processing 351/427: symantec latest intelligence refresh...\n"
          ]
        },
        {
          "output_type": "stream",
          "name": "stderr",
          "text": [
            "The following generation flags are not valid and may be ignored: ['temperature', 'top_p', 'top_k']. Set `TRANSFORMERS_VERBOSITY=info` for more details.\n"
          ]
        },
        {
          "output_type": "stream",
          "name": "stdout",
          "text": [
            "🔍 Raw model output: Named Entities: (Symantec, Attacker), (botnets, Threat Type), (ransomware, Threat Type), (cryptojacking, Threat Type), (IoT devices, Threat Type), (Ramnit, Malware)\n",
            "Relationships: (Symantec, targets, ...\n",
            "\n",
            "Processing 352/427: formjacking attacks retailers...\n"
          ]
        },
        {
          "output_type": "stream",
          "name": "stderr",
          "text": [
            "The following generation flags are not valid and may be ignored: ['temperature', 'top_p', 'top_k']. Set `TRANSFORMERS_VERBOSITY=info` for more details.\n"
          ]
        },
        {
          "output_type": "stream",
          "name": "stdout",
          "text": [
            "🔍 Raw model output: Named Entities: (formjacking, Technique), (Magecart, Attacker), (JavaScript, Tool), (Symantec, Attacker), (Intrusions Prevention System, Tool), (Ticketmaster, Organization), (British Airways, Organiza...\n",
            "\n",
            "Processing 353/427: microsoft patch tuesday september 2018...\n"
          ]
        },
        {
          "output_type": "stream",
          "name": "stderr",
          "text": [
            "The following generation flags are not valid and may be ignored: ['temperature', 'top_p', 'top_k']. Set `TRANSFORMERS_VERBOSITY=info` for more details.\n"
          ]
        },
        {
          "output_type": "stream",
          "name": "stdout",
          "text": [
            "🔍 Raw model output: Named Entities: (CVE-2018-8367, Vulnerability), (CVE-2018-8391, Vulnerability), (CVE-2018-8447, Vulnerability), (CVE-2018-8456, Vulnerability), (CVE-2018-8457, Vulnerability), (CVE-2018-8459, Vulnerab...\n",
            "\n",
            "Processing 354/427: wmic download malware...\n"
          ]
        },
        {
          "output_type": "stream",
          "name": "stderr",
          "text": [
            "The following generation flags are not valid and may be ignored: ['temperature', 'top_p', 'top_k']. Set `TRANSFORMERS_VERBOSITY=info` for more details.\n"
          ]
        },
        {
          "output_type": "stream",
          "name": "stdout",
          "text": [
            "🔍 Raw model output: Named Entities: (WMIC, Tool), (XSL, File), (modular information-stealing threat, Malware), (PowerShell, Tool)\n",
            "Relationships: (modular information-stealing threat, uses, WMIC), (modular information-ste...\n",
            "\n",
            "Processing 355/427: mirai cross platform infection...\n"
          ]
        },
        {
          "output_type": "stream",
          "name": "stderr",
          "text": [
            "The following generation flags are not valid and may be ignored: ['temperature', 'top_p', 'top_k']. Set `TRANSFORMERS_VERBOSITY=info` for more details.\n"
          ]
        },
        {
          "output_type": "stream",
          "name": "stdout",
          "text": [
            "🔍 Raw model output: Named Entities: (Mirai, Threat Type), (Linux.Mirai, Malware), (DDoS, Threat Type), (botnet, Threat Type), (IoT, Threat Type)\n",
            "Relationships: (Mirai, uses, Linux.Mirai), (Mirai, target, IoT), (Linux.Mir...\n",
            "  ✅ Processed 355/427 articles\n",
            "\n",
            "Processing 356/427: jrat new anti parsing techniques...\n"
          ]
        },
        {
          "output_type": "stream",
          "name": "stderr",
          "text": [
            "The following generation flags are not valid and may be ignored: ['temperature', 'top_p', 'top_k']. Set `TRANSFORMERS_VERBOSITY=info` for more details.\n"
          ]
        },
        {
          "output_type": "stream",
          "name": "stdout",
          "text": [
            "🔍 Raw model output: Named Entities: (jRAT, Malware), (Trojan.Maljava, Malware), (RAT, Threat Type), (MZ, File), (JAR, File), (November 2017, Date), (April 2018, Date), (financial sector, Sector), (service, Sector), (comm...\n",
            "\n",
            "Processing 357/427: microsoft patch tuesday august 2018...\n"
          ]
        },
        {
          "output_type": "stream",
          "name": "stderr",
          "text": [
            "The following generation flags are not valid and may be ignored: ['temperature', 'top_p', 'top_k']. Set `TRANSFORMERS_VERBOSITY=info` for more details.\n"
          ]
        },
        {
          "output_type": "stream",
          "name": "stdout",
          "text": [
            "🔍 Raw model output: Named Entities: (CVE-2018-8266, Vulnerability), (CVE-2018-8371, Vulnerability), (CVE-2018-8372, Vulnerability), (CVE-2018-8373, Vulnerability), (CVE-2018-8355, Vulnerability), (CVE-2018-8359, Vulnerab...\n",
            "\n",
            "Processing 358/427: hacked mikrotik router...\n"
          ]
        },
        {
          "output_type": "stream",
          "name": "stderr",
          "text": [
            "The following generation flags are not valid and may be ignored: ['temperature', 'top_p', 'top_k']. Set `TRANSFORMERS_VERBOSITY=info` for more details.\n"
          ]
        },
        {
          "output_type": "stream",
          "name": "stdout",
          "text": [
            "🔍 Raw model output: Named Entities: (Coinhive, Tool), (MikroTik, Tool), (NAT, Technique), (error.html, File)\n",
            "Relationships: (MikroTik, infected by, Coinhive), (MikroTik, run, NAT), (MikroTik, run, error.html), (error.htm...\n",
            "\n",
            "Processing 359/427: leafminer espionage middle east...\n"
          ]
        },
        {
          "output_type": "stream",
          "name": "stderr",
          "text": [
            "The following generation flags are not valid and may be ignored: ['temperature', 'top_p', 'top_k']. Set `TRANSFORMERS_VERBOSITY=info` for more details.\n"
          ]
        },
        {
          "output_type": "stream",
          "name": "stdout",
          "text": [
            "🔍 Raw model output: Named Entities: (Leafminer, Attacker), (watering hole websites, Technique), (vulnerability scans, Technique), (brute-force/dictionary login attempts, Technique), (email data, File), (files, File), (da...\n",
            "\n",
            "Processing 360/427: evolution emotet trojan distributor...\n"
          ]
        },
        {
          "output_type": "stream",
          "name": "stderr",
          "text": [
            "The following generation flags are not valid and may be ignored: ['temperature', 'top_p', 'top_k']. Set `TRANSFORMERS_VERBOSITY=info` for more details.\n"
          ]
        },
        {
          "output_type": "stream",
          "name": "stdout",
          "text": [
            "🔍 Raw model output: Named Entities: (Mealybug, Attacker), (Trojan.Emotet, Malware), (Emotet, Malware), (WannaCry, Malware), (Ransom.Wannacry, Malware), (Petya/NotPetya, Malware), (Ransom.Petya, Malware), (Conficker, Malw...\n",
            "  ✅ Processed 360/427 articles\n",
            "\n",
            "Processing 361/427: powershell threats grow further and operate plain sight...\n"
          ]
        },
        {
          "output_type": "stream",
          "name": "stderr",
          "text": [
            "The following generation flags are not valid and may be ignored: ['temperature', 'top_p', 'top_k']. Set `TRANSFORMERS_VERBOSITY=info` for more details.\n"
          ]
        },
        {
          "output_type": "stream",
          "name": "stdout",
          "text": [
            "🔍 Raw model output: Named Entities: (Windows PowerShell, Tool), (PowerShell, Tool), (PowerShell, Technique), (PowerShell, Technique), (PowerShell, Technique), (PowerShell, Technique), (PowerShell, Technique), (PowerShell...\n",
            "\n",
            "Processing 362/427: microsoft patch tuesday july 2018...\n"
          ]
        },
        {
          "output_type": "stream",
          "name": "stderr",
          "text": [
            "The following generation flags are not valid and may be ignored: ['temperature', 'top_p', 'top_k']. Set `TRANSFORMERS_VERBOSITY=info` for more details.\n"
          ]
        },
        {
          "output_type": "stream",
          "name": "stdout",
          "text": [
            "🔍 Raw model output: Named Entities: (CVE-2018-8242, Vulnerability), (CVE-2018-8275, Vulnerability), (CVE-2018-8279, Vulnerability), (CVE-2018-8280, Vulnerability), (CVE-2018-8283, Vulnerability), (CVE-2018-8286, Vulnerab...\n",
            "\n",
            "Processing 363/427: thrip hits satellite telecoms defense targets...\n"
          ]
        },
        {
          "output_type": "stream",
          "name": "stderr",
          "text": [
            "The following generation flags are not valid and may be ignored: ['temperature', 'top_p', 'top_k']. Set `TRANSFORMERS_VERBOSITY=info` for more details.\n"
          ]
        },
        {
          "output_type": "stream",
          "name": "stdout",
          "text": [
            "🔍 Raw model output: Named Entities: \n",
            "Relationships:\n",
            "\n",
            "Okay, let's tackle this query. The user wants me to extract entities and relationships from the given text based on specific types. First, I need to read through the i...\n",
            "\n",
            "Processing 364/427: microsoft patch tuesday june 2018...\n"
          ]
        },
        {
          "output_type": "stream",
          "name": "stderr",
          "text": [
            "The following generation flags are not valid and may be ignored: ['temperature', 'top_p', 'top_k']. Set `TRANSFORMERS_VERBOSITY=info` for more details.\n"
          ]
        },
        {
          "output_type": "stream",
          "name": "stdout",
          "text": [
            "🔍 Raw model output: Named Entities: (CVE-2018-8236, Vulnerability), (CVE-2018-8243, Vulnerability), (CVE-2018-8249, Vulnerability), (CVE-2018-8267, Vulnerability), (CVE-2018-8110, Vulnerability), (CVE-2018-8111, Vulnerab...\n",
            "\n",
            "Processing 365/427: industry and law enforcement cooperation bears fruit fight a...\n"
          ]
        },
        {
          "output_type": "stream",
          "name": "stderr",
          "text": [
            "The following generation flags are not valid and may be ignored: ['temperature', 'top_p', 'top_k']. Set `TRANSFORMERS_VERBOSITY=info` for more details.\n"
          ]
        },
        {
          "output_type": "stream",
          "name": "stdout",
          "text": [
            "🔍 Raw model output: Named Entities: (Business email attacks, Threat Type), (419 scams, Threat Type), (FBI, Attacker), (Symantec, Attacker), (7,700, File), (4.9, File), (December of 2015, File), (Operation Wire-Wire, File...\n",
            "  ✅ Processed 365/427 articles\n",
            "\n",
            "Processing 366/427: vpnfilter iot malware...\n"
          ]
        },
        {
          "output_type": "stream",
          "name": "stderr",
          "text": [
            "The following generation flags are not valid and may be ignored: ['temperature', 'top_p', 'top_k']. Set `TRANSFORMERS_VERBOSITY=info` for more details.\n"
          ]
        },
        {
          "output_type": "stream",
          "name": "stdout",
          "text": [
            "🔍 Raw model output: Named Entities: (VPNFilter, Malware), (Cisco Talos, Attacker), (SCADA, Threat Type), (Modbus, Tool), (Ukraine, IP), (Symantec, Tool)\n",
            "Relationships: (Cisco Talos, uses, ssler), (Cisco Talos, uses, Modb...\n",
            "\n",
            "Processing 367/427: scan4you masterminds guilty...\n"
          ]
        },
        {
          "output_type": "stream",
          "name": "stderr",
          "text": [
            "The following generation flags are not valid and may be ignored: ['temperature', 'top_p', 'top_k']. Set `TRANSFORMERS_VERBOSITY=info` for more details.\n"
          ]
        },
        {
          "output_type": "stream",
          "name": "stdout",
          "text": [
            "🔍 Raw model output: Named Entities: (Scan4You, Tool), (Jurijs Martisevs, Attacker), (Ruslans Bondars, Attacker), (FBI, Attacker)\n",
            "Relationships: (Jurijs Martisevs, associated with, Scan4You), (Ruslans Bondars, associated ...\n",
            "\n",
            "Processing 368/427: latest intelligence march 2018...\n"
          ]
        },
        {
          "output_type": "stream",
          "name": "stderr",
          "text": [
            "The following generation flags are not valid and may be ignored: ['temperature', 'top_p', 'top_k']. Set `TRANSFORMERS_VERBOSITY=info` for more details.\n"
          ]
        },
        {
          "output_type": "stream",
          "name": "stdout",
          "text": [
            "🔍 Raw model output: Named Entities: (Inception Framework, Attacker), (Trojan.Coinminer, Malware), (phishing, Technique), (email malware, Malware), (Mining, Sector), (Agriculture, Forestry, & Fishing, Sector)\n",
            "Relationship...\n",
            "\n",
            "Processing 369/427: coin mining without browser...\n"
          ]
        },
        {
          "output_type": "stream",
          "name": "stderr",
          "text": [
            "The following generation flags are not valid and may be ignored: ['temperature', 'top_p', 'top_k']. Set `TRANSFORMERS_VERBOSITY=info` for more details.\n"
          ]
        },
        {
          "output_type": "stream",
          "name": "stdout",
          "text": [
            "🔍 Raw model output: Named Entities: (Browser-based cryptocurrency mining, Technique), (JavaScript, Tool), (WebAssembly (WASM), Tool), (Coinhive, Tool), (0x231a3fbbc025c659be407c316aba4392f8a13915f08580398bca21082723dbf8,...\n",
            "\n",
            "Processing 370/427: istr 23 cyber security threat landscape...\n"
          ]
        },
        {
          "output_type": "stream",
          "name": "stderr",
          "text": [
            "The following generation flags are not valid and may be ignored: ['temperature', 'top_p', 'top_k']. Set `TRANSFORMERS_VERBOSITY=info` for more details.\n"
          ]
        },
        {
          "output_type": "stream",
          "name": "stdout",
          "text": [
            "🔍 Raw model output: Named Entities: (Coin mining, Threat Type), (ransomware, Threat Type), (targeted attacks, Threat Type), (mobile security, Threat Type), (software supply chain, Vulnerability), (Monero, Tool), (coinmin...\n",
            "  ✅ Processed 370/427 articles\n",
            "\n",
            "Processing 371/427: fakebank intercepts calls banks...\n"
          ]
        },
        {
          "output_type": "stream",
          "name": "stderr",
          "text": [
            "The following generation flags are not valid and may be ignored: ['temperature', 'top_p', 'top_k']. Set `TRANSFORMERS_VERBOSITY=info` for more details.\n"
          ]
        },
        {
          "output_type": "stream",
          "name": "stdout",
          "text": [
            "🔍 Raw model output: Named Entities: (Android.Fakebank, Malware), (C&C server, Server), (SYSTEM_ALERT_WINDOW, Permission)\n",
            "Relationships: (Android.Fakebank, intercepts, phone calls), (Android.Fakebank, collects, user’s per...\n",
            "\n",
            "Processing 372/427: inception framework hiding behind proxies...\n"
          ]
        },
        {
          "output_type": "stream",
          "name": "stderr",
          "text": [
            "The following generation flags are not valid and may be ignored: ['temperature', 'top_p', 'top_k']. Set `TRANSFORMERS_VERBOSITY=info` for more details.\n"
          ]
        },
        {
          "output_type": "stream",
          "name": "stdout",
          "text": [
            "🔍 Raw model output: Named Entities: (Inception Framework, Attacker), (Blue Coat, Attacker), (Symantec, Attacker)\n",
            "Relationships: (Inception Framework, attributedTo, Symantec), (Inception Framework, attributedTo, Blue Coat...\n",
            "\n",
            "Processing 373/427: microsoft patch tuesday march 2018...\n"
          ]
        },
        {
          "output_type": "stream",
          "name": "stderr",
          "text": [
            "The following generation flags are not valid and may be ignored: ['temperature', 'top_p', 'top_k']. Set `TRANSFORMERS_VERBOSITY=info` for more details.\n"
          ]
        },
        {
          "output_type": "stream",
          "name": "stdout",
          "text": [
            "🔍 Raw model output: Named Entities: (CVE-2018-0872, Vulnerability), (CVE-2018-0874, Vulnerability), (CVE-2018-0876, Vulnerability), (CVE-2018-0930, Vulnerability), (CVE-2018-0931, Vulnerability), (CVE-2018-0932, Vulnerab...\n",
            "\n",
            "Processing 374/427: latest intelligence february 2018...\n"
          ]
        },
        {
          "output_type": "stream",
          "name": "stderr",
          "text": [
            "The following generation flags are not valid and may be ignored: ['temperature', 'top_p', 'top_k']. Set `TRANSFORMERS_VERBOSITY=info` for more details.\n"
          ]
        },
        {
          "output_type": "stream",
          "name": "stdout",
          "text": [
            "🔍 Raw model output: Named Entities: (Chafer, Attacker), (Necurs, Botnet), (Symantec, Attacker), (Finance, Insurance, & Real Estate, Sector), (Mining, Sector)\n",
            "Relationships: (Chafer, targets, Middle East), (Chafer, target...\n",
            "\n",
            "Processing 375/427: chafer latest attacks reveal heightened ambitions...\n"
          ]
        },
        {
          "output_type": "stream",
          "name": "stderr",
          "text": [
            "The following generation flags are not valid and may be ignored: ['temperature', 'top_p', 'top_k']. Set `TRANSFORMERS_VERBOSITY=info` for more details.\n"
          ]
        },
        {
          "output_type": "stream",
          "name": "stdout",
          "text": [
            "🔍 Raw model output: Named Entities: (Chafer, Attacker), (Iran, Country), (Middle East, Region), (telecoms services provider, Organization), (international travel reservations firm, Organization), (domestic and internatio...\n",
            "  ✅ Processed 375/427 articles\n",
            "\n",
            "Processing 376/427: android malware harvests facebook details...\n"
          ]
        },
        {
          "output_type": "stream",
          "name": "stderr",
          "text": [
            "The following generation flags are not valid and may be ignored: ['temperature', 'top_p', 'top_k']. Set `TRANSFORMERS_VERBOSITY=info` for more details.\n"
          ]
        },
        {
          "output_type": "stream",
          "name": "stdout",
          "text": [
            "🔍 Raw model output: Named Entities: (Android.Fakeapp, Malware), (Facebook, Tool), (Asia-Pacific, Region), (third-party markets, Tool), (JavaScript, Tool), (WebView, Tool), (C&C server, Domain), (Facebook, Tool)\n",
            "Relations...\n",
            "\n",
            "Processing 377/427: microsoft patch tuesday february 2018...\n"
          ]
        },
        {
          "output_type": "stream",
          "name": "stderr",
          "text": [
            "The following generation flags are not valid and may be ignored: ['temperature', 'top_p', 'top_k']. Set `TRANSFORMERS_VERBOSITY=info` for more details.\n"
          ]
        },
        {
          "output_type": "stream",
          "name": "stdout",
          "text": [
            "🔍 Raw model output: Named Entities: (CVE-2018-0763, Vulnerability), (CVE-2018-0834, Vulnerability), (CVE-2018-0835, Vulnerability), (CVE-2018-0837, Vulnerability), (CVE-2018-0838, Vulnerability), (CVE-2018-0840, Vulnerab...\n",
            "\n",
            "Processing 378/427: meltdown spectre cpu bugs...\n"
          ]
        },
        {
          "output_type": "stream",
          "name": "stderr",
          "text": [
            "The following generation flags are not valid and may be ignored: ['temperature', 'top_p', 'top_k']. Set `TRANSFORMERS_VERBOSITY=info` for more details.\n"
          ]
        },
        {
          "output_type": "stream",
          "name": "stdout",
          "text": [
            "🔍 Raw model output: Named Entities: (CVE-2017-5754, Vulnerability), (CVE-2017-5753, Vulnerability), (Meltdown, Vulnerability), (Spectre, Vulnerability), (Symantec, Attacker)\n",
            "Relationships: (Symantec, detect, CVE-2017-575...\n",
            "\n",
            "Processing 379/427: android malware uber credentials deep links...\n"
          ]
        },
        {
          "output_type": "stream",
          "name": "stderr",
          "text": [
            "The following generation flags are not valid and may be ignored: ['temperature', 'top_p', 'top_k']. Set `TRANSFORMERS_VERBOSITY=info` for more details.\n"
          ]
        },
        {
          "output_type": "stream",
          "name": "stdout",
          "text": [
            "🔍 Raw model output: Named Entities: (Android.Fakeapp, Malware), (Uber, Attacker), (Fakeapp, Malware), (Uber ID, File), (Next button, File), (remote server, IP), (Ride Request activity, Technique)\n",
            "Relationships: (Android....\n",
            "\n",
            "Processing 380/427: browser mining cryptocurrency...\n"
          ]
        },
        {
          "output_type": "stream",
          "name": "stderr",
          "text": [
            "The following generation flags are not valid and may be ignored: ['temperature', 'top_p', 'top_k']. Set `TRANSFORMERS_VERBOSITY=info` for more details.\n"
          ]
        },
        {
          "output_type": "stream",
          "name": "stdout",
          "text": [
            "🔍 Raw model output: No related entities and relations\n",
            "Okay, let's see. The user wants me to extract entities and relationships from the given text based on specific types. The input is about browser-based cryptocurrency ...\n",
            "  ✅ Processed 380/427 articles\n",
            "\n",
            "Processing 381/427: triton malware ics...\n"
          ]
        },
        {
          "output_type": "stream",
          "name": "stderr",
          "text": [
            "The following generation flags are not valid and may be ignored: ['temperature', 'top_p', 'top_k']. Set `TRANSFORMERS_VERBOSITY=info` for more details.\n"
          ]
        },
        {
          "output_type": "stream",
          "name": "stdout",
          "text": [
            "🔍 Raw model output: Named Entities: (Triton, Malware), (Trojan.Trisis, Malware), (Triton, Malware), (ICS, Threat Type), (SIS, Threat Type), (Middle East, Region), (Windows, Tool), (SIS, Tool), (SIS, Tool), (SIS, Tool)\n",
            "Re...\n",
            "\n",
            "Processing 382/427: microsoft patch tuesday december...\n"
          ]
        },
        {
          "output_type": "stream",
          "name": "stderr",
          "text": [
            "The following generation flags are not valid and may be ignored: ['temperature', 'top_p', 'top_k']. Set `TRANSFORMERS_VERBOSITY=info` for more details.\n"
          ]
        },
        {
          "output_type": "stream",
          "name": "stdout",
          "text": [
            "🔍 Raw model output: Named Entities: (Microsoft, Tool), (Critical, Threat Type), (CVE-2017-11888, Vulnerability), (CVE-2017-11889, Vulnerability), (CVE-2017-11893, Vulnerability), (CVE-2017-11886, Vulnerability), (CVE-201...\n",
            "\n",
            "Processing 383/427: mailsploit email exploit spoofing...\n"
          ]
        },
        {
          "output_type": "stream",
          "name": "stderr",
          "text": [
            "The following generation flags are not valid and may be ignored: ['temperature', 'top_p', 'top_k']. Set `TRANSFORMERS_VERBOSITY=info` for more details.\n"
          ]
        },
        {
          "output_type": "stream",
          "name": "stdout",
          "text": [
            "🔍 Raw model output: Named Entities: (Mailsploit, Vulnerability), (Microsoft Outlook 2016, Tool), (Mail for Windows 10, Tool), (Apple Mail, Tool), (Mozilla Thunderbird, Tool), (Yahoo Mail, Tool), (Sabri Haddouche, Attacke...\n",
            "\n",
            "Processing 384/427: surge adwind distribution emails...\n"
          ]
        },
        {
          "output_type": "stream",
          "name": "stderr",
          "text": [
            "The following generation flags are not valid and may be ignored: ['temperature', 'top_p', 'top_k']. Set `TRANSFORMERS_VERBOSITY=info` for more details.\n"
          ]
        },
        {
          "output_type": "stream",
          "name": "stdout",
          "text": [
            "🔍 Raw model output: Named Entities: (Adwind, Malware), (Adwind, Threat Type), (Backdoor.Adwind, Malware), (AlienSpy, Malware), (Frutas, Malware), (Unrecom, Malware), (Sockrat, Malware), (JSocket, Malware), (jRAT, Malware...\n",
            "\n",
            "Processing 385/427: latest intel november 2017...\n"
          ]
        },
        {
          "output_type": "stream",
          "name": "stderr",
          "text": [
            "The following generation flags are not valid and may be ignored: ['temperature', 'top_p', 'top_k']. Set `TRANSFORMERS_VERBOSITY=info` for more details.\n"
          ]
        },
        {
          "output_type": "stream",
          "name": "stdout",
          "text": [
            "🔍 Raw model output: Named Entities: (Necurs, Botnet), (ransomware, Threat Type)\n",
            "Relationships: (Necurs, uses, ransomware)\n",
            "\n",
            "Okay, let's tackle this. The user wants me to extract entities and relationships from the given t...\n",
            "  ✅ Processed 385/427 articles\n",
            "\n",
            "Processing 386/427: doublehidden android malware google play...\n"
          ]
        },
        {
          "output_type": "stream",
          "name": "stderr",
          "text": [
            "The following generation flags are not valid and may be ignored: ['temperature', 'top_p', 'top_k']. Set `TRANSFORMERS_VERBOSITY=info` for more details.\n"
          ]
        },
        {
          "output_type": "stream",
          "name": "stdout",
          "text": [
            "🔍 Raw model output: Named Entities: (Android Trojan, Malware), (Android.Doublehidden, Malware), (Persian, Language), (com.aseee.apptec.treeapp, File), (i.r.r developer, Attacker), (Device Administrator, Technique), (hxxp...\n",
            "\n",
            "Processing 387/427: android malware porn apps chinese...\n"
          ]
        },
        {
          "output_type": "stream",
          "name": "stderr",
          "text": [
            "The following generation flags are not valid and may be ignored: ['temperature', 'top_p', 'top_k']. Set `TRANSFORMERS_VERBOSITY=info` for more details.\n"
          ]
        },
        {
          "output_type": "stream",
          "name": "stdout",
          "text": [
            "🔍 Raw model output: Named Entities: (Android.Rootnik.B, Malware), (Android.Reputation.1, Malware), (debuggerd, Tool), (C&C, Technique), (rootkits, File)\n",
            "Relationships: (Android.Rootnik.B, uses, Android.Reputation.1), (An...\n",
            "\n",
            "Processing 388/427: ms patch tuesday november 2017...\n"
          ]
        },
        {
          "output_type": "stream",
          "name": "stderr",
          "text": [
            "The following generation flags are not valid and may be ignored: ['temperature', 'top_p', 'top_k']. Set `TRANSFORMERS_VERBOSITY=info` for more details.\n"
          ]
        },
        {
          "output_type": "stream",
          "name": "stdout",
          "text": [
            "🔍 Raw model output: Named Entities: (CVE-2017-11858, Vulnerability), (CVE-2017-11861, Vulnerability), (CVE-2017-11862, Vulnerability), (CVE-2017-11836, Vulnerability), (CVE-2017-11837, Vulnerability), (CVE-2017-11838, Vu...\n",
            "\n",
            "Processing 389/427: tech support scams aes...\n"
          ]
        },
        {
          "output_type": "stream",
          "name": "stderr",
          "text": [
            "The following generation flags are not valid and may be ignored: ['temperature', 'top_p', 'top_k']. Set `TRANSFORMERS_VERBOSITY=info` for more details.\n"
          ]
        },
        {
          "output_type": "stream",
          "name": "stdout",
          "text": [
            "🔍 Raw model output: Named Entities: \n",
            "Relationships: \n",
            "\n",
            "Okay, let's tackle this. The user provided a text about tech support scams and their evolution. I need to extract entities and relationships based on the specified ty...\n",
            "\n",
            "Processing 390/427: sowbug cyber espionage south america asia...\n"
          ]
        },
        {
          "output_type": "stream",
          "name": "stderr",
          "text": [
            "The following generation flags are not valid and may be ignored: ['temperature', 'top_p', 'top_k']. Set `TRANSFORMERS_VERBOSITY=info` for more details.\n"
          ]
        },
        {
          "output_type": "stream",
          "name": "stdout",
          "text": [
            "🔍 Raw model output: Named Entities: (Sowbug, Attacker), (Felismus, Malware), (Argentina, Country), (Brazil, Country), (Ecuador, Country), (Peru, Country), (Brunei, Country), (Malaysia, Country)\n",
            "Relationships: (Sowbug, ta...\n",
            "  ✅ Processed 390/427 articles\n",
            "\n",
            "Processing 391/427: ransomeware risks 2017...\n"
          ]
        },
        {
          "output_type": "stream",
          "name": "stderr",
          "text": [
            "The following generation flags are not valid and may be ignored: ['temperature', 'top_p', 'top_k']. Set `TRANSFORMERS_VERBOSITY=info` for more details.\n"
          ]
        },
        {
          "output_type": "stream",
          "name": "stdout",
          "text": [
            "🔍 Raw model output: Named Entities: (ransomware, Threat Type), (WannaCry, Malware), (Petya, Malware), (EternalBlue, Tool), (CVE-2017-0144, Vulnerability)\n",
            "Relationships: (WannaCry, uses, EternalBlue), (WannaCry, exploits,...\n",
            "\n",
            "Processing 392/427: petya ransomware wiper...\n"
          ]
        },
        {
          "output_type": "stream",
          "name": "stderr",
          "text": [
            "The following generation flags are not valid and may be ignored: ['temperature', 'top_p', 'top_k']. Set `TRANSFORMERS_VERBOSITY=info` for more details.\n"
          ]
        },
        {
          "output_type": "stream",
          "name": "stdout",
          "text": [
            "🔍 Raw model output: Named Entities: (Petya, Malware), (Ransomware, Threat Type), (EternalBlue, Vulnerability), (WannaCry, Malware), (SMB, Technique), (MEDoc, Tool), (Ukraine, IP), (LAN, IP), (Norton, Tool), (Symantec End...\n",
            "\n",
            "Processing 393/427: wannacry ransomware attack...\n"
          ]
        },
        {
          "output_type": "stream",
          "name": "stderr",
          "text": [
            "The following generation flags are not valid and may be ignored: ['temperature', 'top_p', 'top_k']. Set `TRANSFORMERS_VERBOSITY=info` for more details.\n"
          ]
        },
        {
          "output_type": "stream",
          "name": "stdout",
          "text": [
            "🔍 Raw model output: Named Entities: (WannaCry, Malware), (Lazarus group, Attacker), (Ransom.Wannacry, Malware), (Ransomware, Threat Type), (Eternal Blue, Vulnerability), (MS17-010, Vulnerability), (Shadow Brokers, Attack...\n",
            "\n",
            "Processing 394/427: dragonfly energy sector cyber attacks...\n"
          ]
        },
        {
          "output_type": "stream",
          "name": "stderr",
          "text": [
            "The following generation flags are not valid and may be ignored: ['temperature', 'top_p', 'top_k']. Set `TRANSFORMERS_VERBOSITY=info` for more details.\n"
          ]
        },
        {
          "output_type": "stream",
          "name": "stdout",
          "text": [
            "🔍 Raw model output: Named Entities: (Dragonfly, Attacker), (Dragonfly 2.0, Threat Type), (Ukraine’s power system, Target), (electricity grids, Target), (companies, Target), (nuclear facilities, Target), (Symantec, Tool)\n",
            "...\n",
            "\n",
            "Processing 395/427: bachosens cyber crime investigation...\n"
          ]
        },
        {
          "output_type": "stream",
          "name": "stderr",
          "text": [
            "The following generation flags are not valid and may be ignored: ['temperature', 'top_p', 'top_k']. Set `TRANSFORMERS_VERBOSITY=info` for more details.\n"
          ]
        },
        {
          "output_type": "stream",
          "name": "stdout",
          "text": [
            "🔍 Raw model output: Named Entities: (lone wolf threat actor, Attacker), (Trojan.Bachosens, Malware), (Symantec, Tool), (Igor, Attacker), (Bachosens, Malware), (spear-phishing emails, Technique), (international airline, O...\n",
            "  ✅ Processed 395/427 articles\n",
            "\n",
            "Processing 396/427: longhorn cyberespionage vault7...\n"
          ]
        },
        {
          "output_type": "stream",
          "name": "stderr",
          "text": [
            "The following generation flags are not valid and may be ignored: ['temperature', 'top_p', 'top_k']. Set `TRANSFORMERS_VERBOSITY=info` for more details.\n"
          ]
        },
        {
          "output_type": "stream",
          "name": "stdout",
          "text": [
            "🔍 Raw model output: Named Entities: (Vault 7, Tool), (Longhorn, Attacker), (Symantec, Tool), (WikiLeaks, Tool), (cryptographic protocols, Technique), (back door Trojans, Malware), (zero-day vulnerabilities, Vulnerability...\n",
            "\n",
            "Processing 397/427: bayrob suspects extradited...\n"
          ]
        },
        {
          "output_type": "stream",
          "name": "stderr",
          "text": [
            "The following generation flags are not valid and may be ignored: ['temperature', 'top_p', 'top_k']. Set `TRANSFORMERS_VERBOSITY=info` for more details.\n"
          ]
        },
        {
          "output_type": "stream",
          "name": "stdout",
          "text": [
            "🔍 Raw model output: Named Entities: (Bayrob, Threat Type), (Bogdan Nicolescu, Attacker), (Danet Tiberiu, Attacker), (Radu Miclaus, Attacker), (Masterfraud, Aka), (mf, Aka), (Amightysa, Aka), (amy, Aka), (Minolta, Aka), (...\n",
            "\n",
            "Processing 398/427: shamoon back destructive...\n"
          ]
        },
        {
          "output_type": "stream",
          "name": "stderr",
          "text": [
            "The following generation flags are not valid and may be ignored: ['temperature', 'top_p', 'top_k']. Set `TRANSFORMERS_VERBOSITY=info` for more details.\n"
          ]
        },
        {
          "output_type": "stream",
          "name": "stdout",
          "text": [
            "🔍 Raw model output: Named Entities: (Shamoon, Malware), (W32.Disttrack, Malware), (W32.Disttrack.B, Malware), (Saudi energy sector, Target), (2012, Time), (master boot records, File), (image of a burning US flag, File), ...\n",
            "\n",
            "Processing 399/427: gatak healthcare...\n"
          ]
        },
        {
          "output_type": "stream",
          "name": "stderr",
          "text": [
            "The following generation flags are not valid and may be ignored: ['temperature', 'top_p', 'top_k']. Set `TRANSFORMERS_VERBOSITY=info` for more details.\n"
          ]
        },
        {
          "output_type": "stream",
          "name": "stdout",
          "text": [
            "🔍 Raw model output: Named Entities: (Gatak, Malware), (healthcare sector, Sector), (enterprise computers, Device), (insurance sector, Sector), (product key generators, Tool), (keygens, Tool), (software, Tool)\n",
            "Relationshi...\n",
            "\n",
            "Processing 400/427: odinaff trojan financial attacks...\n"
          ]
        },
        {
          "output_type": "stream",
          "name": "stderr",
          "text": [
            "The following generation flags are not valid and may be ignored: ['temperature', 'top_p', 'top_k']. Set `TRANSFORMERS_VERBOSITY=info` for more details.\n"
          ]
        },
        {
          "output_type": "stream",
          "name": "stdout",
          "text": [
            "🔍 Raw model output: Named Entities: (Trojan.Odinaff, Malware), (Carbanak, Attacker), (Backdoor.Batel, Malware)\n",
            "Relationships: (Trojan.Odinaff, used by, Carbanak), (Carbanak, uses, Backdoor.Batel)\n",
            "\n",
            "Okay, let's tackle this...\n",
            "  ✅ Processed 400/427 articles\n",
            "\n",
            "Processing 401/427: buckeye cyberespionage hong kong...\n"
          ]
        },
        {
          "output_type": "stream",
          "name": "stderr",
          "text": [
            "The following generation flags are not valid and may be ignored: ['temperature', 'top_p', 'top_k']. Set `TRANSFORMERS_VERBOSITY=info` for more details.\n"
          ]
        },
        {
          "output_type": "stream",
          "name": "stdout",
          "text": [
            "🔍 Raw model output: Named Entities: (Buckeye, Attacker), (APT3, Attacker), (Gothic Panda, Attacker), (UPS Team, Attacker), (TG-0110, Attacker), (Backdoor.Pirpi, Malware), (spear-phishing, Technique), (CVE-2010-3962, Vuln...\n",
            "\n",
            "Processing 402/427: equation cyberespionage group breached...\n"
          ]
        },
        {
          "output_type": "stream",
          "name": "stderr",
          "text": [
            "The following generation flags are not valid and may be ignored: ['temperature', 'top_p', 'top_k']. Set `TRANSFORMERS_VERBOSITY=info` for more details.\n"
          ]
        },
        {
          "output_type": "stream",
          "name": "stdout",
          "text": [
            "🔍 Raw model output: Named Entities: (Shadow Brokers, Attacker), (Equation, Attacker), (Symantec Security Response, Tool), (256-megabyte, File), (4,000, File), (installation scripts, File), (configuration files, File), (r...\n",
            "\n",
            "Processing 403/427: strider cyberespionage sauron...\n"
          ]
        },
        {
          "output_type": "stream",
          "name": "stderr",
          "text": [
            "The following generation flags are not valid and may be ignored: ['temperature', 'top_p', 'top_k']. Set `TRANSFORMERS_VERBOSITY=info` for more details.\n"
          ]
        },
        {
          "output_type": "stream",
          "name": "stdout",
          "text": [
            "🔍 Raw model output: Named Entities: (Strider, Attacker), (Remsec, Malware), (Backdoor.Remsec, Malware), (Sauron, Technique), (Flamer, Attacker), (Regin, Malware), (Lua modules, Tool), (October 2011, Date), (Symantec, Org...\n",
            "\n",
            "Processing 404/427: swift malware financial attacks...\n"
          ]
        },
        {
          "output_type": "stream",
          "name": "stderr",
          "text": [
            "The following generation flags are not valid and may be ignored: ['temperature', 'top_p', 'top_k']. Set `TRANSFORMERS_VERBOSITY=info` for more details.\n"
          ]
        },
        {
          "output_type": "stream",
          "name": "stdout",
          "text": [
            "🔍 Raw model output: Named Entities: (Bangladesh central bank, Organization), (Tien Phong Bank, Organization), (Malware, Malware), (Lazarus, Attacker), (October 2015, Date), (Vietnam, Location), (SWIFT, Organization), (Ba...\n",
            "\n",
            "Processing 405/427: tick cyberespionage japan...\n"
          ]
        },
        {
          "output_type": "stream",
          "name": "stderr",
          "text": [
            "The following generation flags are not valid and may be ignored: ['temperature', 'top_p', 'top_k']. Set `TRANSFORMERS_VERBOSITY=info` for more details.\n"
          ]
        },
        {
          "output_type": "stream",
          "name": "stdout",
          "text": [
            "🔍 Raw model output: Named Entities: (Backdoor.Daserf, Malware), (Tick, Attacker), (spear-phishing, Technique), (Flash, Tool), (Downloader.Gofarer, Malware), (Gofarer, File), (Daserf, File), (watering hole, Technique), (t...\n",
            "  ✅ Processed 405/427 articles\n",
            "\n",
            "Processing 406/427: taiwan cyberespionage backdoor trojan...\n"
          ]
        },
        {
          "output_type": "stream",
          "name": "stderr",
          "text": [
            "The following generation flags are not valid and may be ignored: ['temperature', 'top_p', 'top_k']. Set `TRANSFORMERS_VERBOSITY=info` for more details.\n"
          ]
        },
        {
          "output_type": "stream",
          "name": "stdout",
          "text": [
            "🔍 Raw model output: Named Entities: (Backdoor.Dripion, Malware), (Taiwan, Location), (Brazil, Location), (United States, Location), (Dripion, Malware), (AV, Tool), (C&C, Technique), (Budminer, Attacker), (Trojan.Taidoor,...\n",
            "\n",
            "Processing 407/427: operation blockbuster lazarus...\n"
          ]
        },
        {
          "output_type": "stream",
          "name": "stderr",
          "text": [
            "The following generation flags are not valid and may be ignored: ['temperature', 'top_p', 'top_k']. Set `TRANSFORMERS_VERBOSITY=info` for more details.\n"
          ]
        },
        {
          "output_type": "stream",
          "name": "stdout",
          "text": [
            "🔍 Raw model output: Named Entities: (Lazarus, Attacker), (Operation Blockbuster, Threat Type), (Novetta, Attacker), (Symantec, Tool), (US, IP), (South Korea, IP)\n",
            "Relationships: (Operation Blockbuster, targets, Lazarus), ...\n",
            "\n",
            "Processing 408/427: dridex financial trojan spam...\n"
          ]
        },
        {
          "output_type": "stream",
          "name": "stderr",
          "text": [
            "The following generation flags are not valid and may be ignored: ['temperature', 'top_p', 'top_k']. Set `TRANSFORMERS_VERBOSITY=info` for more details.\n"
          ]
        },
        {
          "output_type": "stream",
          "name": "stdout",
          "text": [
            "🔍 Raw model output: Named Entities: (Dridex, Malware), (W32.Cridex, Malware), (Symantec, Attacker), (Dridex spam campaigns, Campaign), (145, Number), (10-week, Time Period), (271,019, Number), (74 percent, Percentage), (...\n",
            "\n",
            "Processing 409/427: dyre bank fraud group takedown...\n"
          ]
        },
        {
          "output_type": "stream",
          "name": "stderr",
          "text": [
            "The following generation flags are not valid and may be ignored: ['temperature', 'top_p', 'top_k']. Set `TRANSFORMERS_VERBOSITY=info` for more details.\n"
          ]
        },
        {
          "output_type": "stream",
          "name": "stdout",
          "text": [
            "🔍 Raw model output: Named Entities: (Dyre, Malware), (Infostealer.Dyre, Malware), (email spam campaigns, Technique), (Upatre, Malware), (Downloader.Upatre, Malware), (Dyre group, Attacker)\n",
            "Relationships: (Dyre, aka, Info...\n",
            "\n",
            "Processing 410/427: destructive disakil malware ukraine...\n"
          ]
        },
        {
          "output_type": "stream",
          "name": "stderr",
          "text": [
            "The following generation flags are not valid and may be ignored: ['temperature', 'top_p', 'top_k']. Set `TRANSFORMERS_VERBOSITY=info` for more details.\n"
          ]
        },
        {
          "output_type": "stream",
          "name": "stdout",
          "text": [
            "🔍 Raw model output: Named Entities: (Trojan.Disakil, Malware), (Ukrainian energy sector, Target), (Symantec, Organization), (Disakil, Malware), (BlackEnergy Trojan, Malware), (Backdoor.Lancafdo, Malware), (administrator ...\n",
            "  ✅ Processed 410/427 articles\n",
            "\n",
            "Processing 411/427: dridex takedown...\n"
          ]
        },
        {
          "output_type": "stream",
          "name": "stderr",
          "text": [
            "The following generation flags are not valid and may be ignored: ['temperature', 'top_p', 'top_k']. Set `TRANSFORMERS_VERBOSITY=info` for more details.\n"
          ]
        },
        {
          "output_type": "stream",
          "name": "stdout",
          "text": [
            "🔍 Raw model output: Named Entities: (Dridex, Malware), (W32.Cridex, Malware), (Bugat, Malware), (phishing, Technique), (Microsoft Office, Tool), (Dridex group, Attacker), (Symantec, Tool), (State of financial Trojans 201...\n",
            "\n",
            "Processing 412/427: regin mysteries cyberespionage...\n"
          ]
        },
        {
          "output_type": "stream",
          "name": "stderr",
          "text": [
            "The following generation flags are not valid and may be ignored: ['temperature', 'top_p', 'top_k']. Set `TRANSFORMERS_VERBOSITY=info` for more details.\n"
          ]
        },
        {
          "output_type": "stream",
          "name": "stdout",
          "text": [
            "🔍 Raw model output: Named Entities: (Regin, Malware), (Regin Trojan, Malware), (Symantec, Attacker), (C&C, Technique), (EVFS, Tool), (Regin modules, File)\n",
            "Relationships: (Regin, associated with, Symantec), (Regin, has, E...\n",
            "\n",
            "Processing 413/427: black vine cyberespionage aerospace healthcare...\n"
          ]
        },
        {
          "output_type": "stream",
          "name": "stderr",
          "text": [
            "The following generation flags are not valid and may be ignored: ['temperature', 'top_p', 'top_k']. Set `TRANSFORMERS_VERBOSITY=info` for more details.\n"
          ]
        },
        {
          "output_type": "stream",
          "name": "stdout",
          "text": [
            "🔍 Raw model output: Named Entities: (Anthem, Organization), (Black Vine, Attacker), (Elderwood, Tool), (zero-day, Vulnerability), (watering-hole, Technique)\n",
            "Relationships: (Black Vine, uses, Elderwood), (Black Vine, uses...\n",
            "\n",
            "Processing 414/427: forkmeiamfamous seaduke duke...\n"
          ]
        },
        {
          "output_type": "stream",
          "name": "stderr",
          "text": [
            "The following generation flags are not valid and may be ignored: ['temperature', 'top_p', 'top_k']. Set `TRANSFORMERS_VERBOSITY=info` for more details.\n"
          ]
        },
        {
          "output_type": "stream",
          "name": "stdout",
          "text": [
            "🔍 Raw model output: Named Entities: (Seaduke, Malware), (Trojan.Seaduke, Malware), (Cozyduke, Malware), (Duke, Threat Type), (cyberespionage group, Attacker), (government, Target), (United States, Target), (Europe, Targe...\n",
            "\n",
            "Processing 415/427: butterfly corporate attacks...\n"
          ]
        },
        {
          "output_type": "stream",
          "name": "stderr",
          "text": [
            "The following generation flags are not valid and may be ignored: ['temperature', 'top_p', 'top_k']. Set `TRANSFORMERS_VERBOSITY=info` for more details.\n"
          ]
        },
        {
          "output_type": "stream",
          "name": "stdout",
          "text": [
            "🔍 Raw model output: Named Entities: (Morpho, Attacker), (Butterfly, Attacker), (Butterfly, Attacker), (Butterfly, Attacker), (Butterfly, Attacker), (Butterfly, Attacker), (Butterfly, Attacker), (Butterfly, Attacker), (Bu...\n",
            "  ✅ Processed 415/427 articles\n",
            "\n",
            "Processing 416/427: dyre financial trojan...\n"
          ]
        },
        {
          "output_type": "stream",
          "name": "stderr",
          "text": [
            "The following generation flags are not valid and may be ignored: ['temperature', 'top_p', 'top_k']. Set `TRANSFORMERS_VERBOSITY=info` for more details.\n"
          ]
        },
        {
          "output_type": "stream",
          "name": "stdout",
          "text": [
            "🔍 Raw model output: Named Entities: (Dyre, Malware), (Infostealer.Dyre, Malware), (Gameover Zeus, Malware), (Shylock, Malware), (Ramnit, Malware), (Windows, Tool), (Internet Explorer, Tool), (Chrome, Tool), (Firefox, Too...\n",
            "\n",
            "Processing 417/427: duqu 20 cyberespionage...\n"
          ]
        },
        {
          "output_type": "stream",
          "name": "stderr",
          "text": [
            "The following generation flags are not valid and may be ignored: ['temperature', 'top_p', 'top_k']. Set `TRANSFORMERS_VERBOSITY=info` for more details.\n"
          ]
        },
        {
          "output_type": "stream",
          "name": "stdout",
          "text": [
            "🔍 Raw model output: Named Entities: (Duqu 2.0, Malware), (Kaspersky Lab, Attacker), (W32.Duqu.B, Malware), (Duqu worm, Malware), (Stuxnet worm, Malware), (European telecoms operator, Attacker), (North African telecoms op...\n",
            "\n",
            "Processing 418/427: equation cyberespionage group...\n"
          ]
        },
        {
          "output_type": "stream",
          "name": "stderr",
          "text": [
            "The following generation flags are not valid and may be ignored: ['temperature', 'top_p', 'top_k']. Set `TRANSFORMERS_VERBOSITY=info` for more details.\n"
          ]
        },
        {
          "output_type": "stream",
          "name": "stdout",
          "text": [
            "🔍 Raw model output: Named Entities: (Equation, Attacker), (Equation, Threat Type), (Infostealer.Micstus, Malware), (DoubleFantasy, Aka), (Trojan.Tripfant, Malware), (TripleFantasy, Aka), (Trojan.Grayphish, Malware), (Gra...\n",
            "\n",
            "Processing 419/427: carbanak cybercrime gang...\n"
          ]
        },
        {
          "output_type": "stream",
          "name": "stderr",
          "text": [
            "The following generation flags are not valid and may be ignored: ['temperature', 'top_p', 'top_k']. Set `TRANSFORMERS_VERBOSITY=info` for more details.\n"
          ]
        },
        {
          "output_type": "stream",
          "name": "stdout",
          "text": [
            "🔍 Raw model output: Named Entities: (Carbanak, Attacker), (Silicon, Attacker), (Anunak, Attacker), (Trojan.Carberp.B, Malware), (Trojan.Carberp, Malware), (spear-phishing emails, Technique), (ATMs, Tool)\n",
            "Relationships: (...\n",
            "\n",
            "Processing 420/427: destover destructive malware south korea...\n"
          ]
        },
        {
          "output_type": "stream",
          "name": "stderr",
          "text": [
            "The following generation flags are not valid and may be ignored: ['temperature', 'top_p', 'top_k']. Set `TRANSFORMERS_VERBOSITY=info` for more details.\n"
          ]
        },
        {
          "output_type": "stream",
          "name": "stdout",
          "text": [
            "🔍 Raw model output: Named Entities: (Backdoor.Destover, Malware), (Trojan.Volgmer, Malware), (theJokra, Attack), (Shamoon, Malware)\n",
            "Relationships: (Backdoor.Destover, shares, C&C server), (Backdoor.Destover, shares, tech...\n",
            "  ✅ Processed 420/427 articles\n",
            "\n",
            "Processing 421/427: regin espionage surveillance...\n"
          ]
        },
        {
          "output_type": "stream",
          "name": "stderr",
          "text": [
            "The following generation flags are not valid and may be ignored: ['temperature', 'top_p', 'top_k']. Set `TRANSFORMERS_VERBOSITY=info` for more details.\n"
          ]
        },
        {
          "output_type": "stream",
          "name": "stdout",
          "text": [
            "🔍 Raw model output: Named Entities: (Regin, Malware), (Backdoor.Regin, Malware)\n",
            "Relationships: (Regin, aka, Backdoor.Regin)\n",
            "\n",
            "Okay, let's tackle this. The input is about the malware called Regin. The first thing I need to...\n",
            "\n",
            "Processing 422/427: turla espionage diplomats...\n"
          ]
        },
        {
          "output_type": "stream",
          "name": "stderr",
          "text": [
            "The following generation flags are not valid and may be ignored: ['temperature', 'top_p', 'top_k']. Set `TRANSFORMERS_VERBOSITY=info` for more details.\n"
          ]
        },
        {
          "output_type": "stream",
          "name": "stdout",
          "text": [
            "🔍 Raw model output: Named Entities: (Wipbot, Malware), (Turla, Malware), (Trojan.Wipbot, Malware), (Tavdig, Malware), (Trojan.Turla, Malware), (Uroboros, Malware), (Snake, Malware), (Carbon, Malware), (state-sponsored gr...\n",
            "\n",
            "Processing 423/427: dragonfly energy companies sabotage...\n"
          ]
        },
        {
          "output_type": "stream",
          "name": "stderr",
          "text": [
            "The following generation flags are not valid and may be ignored: ['temperature', 'top_p', 'top_k']. Set `TRANSFORMERS_VERBOSITY=info` for more details.\n"
          ]
        },
        {
          "output_type": "stream",
          "name": "stdout",
          "text": [
            "🔍 Raw model output: Named Entities: (Dragonfly, Attacker), (energy sector, Sector), (United States, Country), (Spain, Country), (France, Country), (Italy, Country), (Germany, Country), (Turkey, Country), (Poland, Country...\n",
            "\n",
            "Processing 424/427: hidden lynx professional hackers hire...\n"
          ]
        },
        {
          "output_type": "stream",
          "name": "stderr",
          "text": [
            "The following generation flags are not valid and may be ignored: ['temperature', 'top_p', 'top_k']. Set `TRANSFORMERS_VERBOSITY=info` for more details.\n"
          ]
        },
        {
          "output_type": "stream",
          "name": "stdout",
          "text": [
            "🔍 Raw model output: Named Entities: (Hidden Lynx, Attacker), (APT, Threat Type), (watering hole, Technique)\n",
            "Relationships: (Hidden Lynx, uses, watering hole), (Hidden Lynx, associated with, APT)\n",
            "\n",
            "Okay, let's tackle this....\n",
            "\n",
            "Processing 425/427: darkseoul cyberattacks south korea...\n"
          ]
        },
        {
          "output_type": "stream",
          "name": "stderr",
          "text": [
            "The following generation flags are not valid and may be ignored: ['temperature', 'top_p', 'top_k']. Set `TRANSFORMERS_VERBOSITY=info` for more details.\n"
          ]
        },
        {
          "output_type": "stream",
          "name": "stdout",
          "text": [
            "🔍 Raw model output: Named Entities: (DarkSeoul, Attacker), (Trojan.Castov, Malware), (DDoS, Threat Type), (Jokra, Malware), (South Korean government websites, Target), (United States Independence Day, Date), (North Korea...\n",
            "  ✅ Processed 425/427 articles\n",
            "\n",
            "Processing 426/427: duqu next stuxnet...\n"
          ]
        },
        {
          "output_type": "stream",
          "name": "stderr",
          "text": [
            "The following generation flags are not valid and may be ignored: ['temperature', 'top_p', 'top_k']. Set `TRANSFORMERS_VERBOSITY=info` for more details.\n"
          ]
        },
        {
          "output_type": "stream",
          "name": "stdout",
          "text": [
            "🔍 Raw model output: Named Entities: (Duqu, Malware), (Stuxnet, Malware), (remote access Trojan, Threat Type), (RAT, Threat Type)\n",
            "Relationships: (Duqu, similar to, Stuxnet), (Duqu, is a, remote access Trojan), (Duqu, is a...\n",
            "\n",
            "Processing 427/427: stuxnet dossier espionage...\n",
            "🔍 Raw model output: Named Entities: (Stuxnet, Malware), (W32.Stuxnet Dossier, File), (Virus Bulletin 2010, Event), (Symantec Security Response, Organization), (VirusBlokada, Organization), (Belarus, Location), (removable...\n",
            "\n",
            "💾 Saved 427 new records to /content/drive/MyDrive/LLM-TKIG/data/entity-extraction/unsloth/Qwen3-14B_2025-08-23_10-14-28_0_427.json\n"
          ]
        }
      ],
      "execution_count": 12
    }
  ],
  "metadata": {
    "language_info": {
      "name": "python"
    },
    "colab": {
      "provenance": [],
      "gpuType": "A100"
    },
    "kernelspec": {
      "name": "python3",
      "display_name": "Python 3"
    },
    "accelerator": "GPU",
    "widgets": {
      "application/vnd.jupyter.widget-state+json": {
        "f2e56ae9d3bd49ffb5e21ea0c5f40926": {
          "model_module": "@jupyter-widgets/controls",
          "model_name": "HBoxModel",
          "model_module_version": "1.5.0",
          "state": {
            "_dom_classes": [],
            "_model_module": "@jupyter-widgets/controls",
            "_model_module_version": "1.5.0",
            "_model_name": "HBoxModel",
            "_view_count": null,
            "_view_module": "@jupyter-widgets/controls",
            "_view_module_version": "1.5.0",
            "_view_name": "HBoxView",
            "box_style": "",
            "children": [
              "IPY_MODEL_de3191f1a2fa45ccae2909b33e7eb880",
              "IPY_MODEL_1a0cf63a088a4928b2fdb50c1c89e614",
              "IPY_MODEL_7f45361a968344ea91f1cab79b216016"
            ],
            "layout": "IPY_MODEL_4d68e1f01b6b4c24a1e80aabfe72af03"
          }
        },
        "de3191f1a2fa45ccae2909b33e7eb880": {
          "model_module": "@jupyter-widgets/controls",
          "model_name": "HTMLModel",
          "model_module_version": "1.5.0",
          "state": {
            "_dom_classes": [],
            "_model_module": "@jupyter-widgets/controls",
            "_model_module_version": "1.5.0",
            "_model_name": "HTMLModel",
            "_view_count": null,
            "_view_module": "@jupyter-widgets/controls",
            "_view_module_version": "1.5.0",
            "_view_name": "HTMLView",
            "description": "",
            "description_tooltip": null,
            "layout": "IPY_MODEL_82bb21813aad402d8862a132d933b757",
            "placeholder": "​",
            "style": "IPY_MODEL_d6da486f9cd948b1ba53f50566fb1cd3",
            "value": "tokenizer_config.json: "
          }
        },
        "1a0cf63a088a4928b2fdb50c1c89e614": {
          "model_module": "@jupyter-widgets/controls",
          "model_name": "FloatProgressModel",
          "model_module_version": "1.5.0",
          "state": {
            "_dom_classes": [],
            "_model_module": "@jupyter-widgets/controls",
            "_model_module_version": "1.5.0",
            "_model_name": "FloatProgressModel",
            "_view_count": null,
            "_view_module": "@jupyter-widgets/controls",
            "_view_module_version": "1.5.0",
            "_view_name": "ProgressView",
            "bar_style": "success",
            "description": "",
            "description_tooltip": null,
            "layout": "IPY_MODEL_bad5ed30202b4c1abc42b5cce8ef8ce3",
            "max": 1,
            "min": 0,
            "orientation": "horizontal",
            "style": "IPY_MODEL_8289778b1af84123b1f4b25db06495bd",
            "value": 1
          }
        },
        "7f45361a968344ea91f1cab79b216016": {
          "model_module": "@jupyter-widgets/controls",
          "model_name": "HTMLModel",
          "model_module_version": "1.5.0",
          "state": {
            "_dom_classes": [],
            "_model_module": "@jupyter-widgets/controls",
            "_model_module_version": "1.5.0",
            "_model_name": "HTMLModel",
            "_view_count": null,
            "_view_module": "@jupyter-widgets/controls",
            "_view_module_version": "1.5.0",
            "_view_name": "HTMLView",
            "description": "",
            "description_tooltip": null,
            "layout": "IPY_MODEL_b0d226075ac1469f85e68fcb97993cdf",
            "placeholder": "​",
            "style": "IPY_MODEL_5229ac660ffb4f3680f10bf96ec8d3b5",
            "value": " 10.5k/? [00:00&lt;00:00, 1.04MB/s]"
          }
        },
        "4d68e1f01b6b4c24a1e80aabfe72af03": {
          "model_module": "@jupyter-widgets/base",
          "model_name": "LayoutModel",
          "model_module_version": "1.2.0",
          "state": {
            "_model_module": "@jupyter-widgets/base",
            "_model_module_version": "1.2.0",
            "_model_name": "LayoutModel",
            "_view_count": null,
            "_view_module": "@jupyter-widgets/base",
            "_view_module_version": "1.2.0",
            "_view_name": "LayoutView",
            "align_content": null,
            "align_items": null,
            "align_self": null,
            "border": null,
            "bottom": null,
            "display": null,
            "flex": null,
            "flex_flow": null,
            "grid_area": null,
            "grid_auto_columns": null,
            "grid_auto_flow": null,
            "grid_auto_rows": null,
            "grid_column": null,
            "grid_gap": null,
            "grid_row": null,
            "grid_template_areas": null,
            "grid_template_columns": null,
            "grid_template_rows": null,
            "height": null,
            "justify_content": null,
            "justify_items": null,
            "left": null,
            "margin": null,
            "max_height": null,
            "max_width": null,
            "min_height": null,
            "min_width": null,
            "object_fit": null,
            "object_position": null,
            "order": null,
            "overflow": null,
            "overflow_x": null,
            "overflow_y": null,
            "padding": null,
            "right": null,
            "top": null,
            "visibility": null,
            "width": null
          }
        },
        "82bb21813aad402d8862a132d933b757": {
          "model_module": "@jupyter-widgets/base",
          "model_name": "LayoutModel",
          "model_module_version": "1.2.0",
          "state": {
            "_model_module": "@jupyter-widgets/base",
            "_model_module_version": "1.2.0",
            "_model_name": "LayoutModel",
            "_view_count": null,
            "_view_module": "@jupyter-widgets/base",
            "_view_module_version": "1.2.0",
            "_view_name": "LayoutView",
            "align_content": null,
            "align_items": null,
            "align_self": null,
            "border": null,
            "bottom": null,
            "display": null,
            "flex": null,
            "flex_flow": null,
            "grid_area": null,
            "grid_auto_columns": null,
            "grid_auto_flow": null,
            "grid_auto_rows": null,
            "grid_column": null,
            "grid_gap": null,
            "grid_row": null,
            "grid_template_areas": null,
            "grid_template_columns": null,
            "grid_template_rows": null,
            "height": null,
            "justify_content": null,
            "justify_items": null,
            "left": null,
            "margin": null,
            "max_height": null,
            "max_width": null,
            "min_height": null,
            "min_width": null,
            "object_fit": null,
            "object_position": null,
            "order": null,
            "overflow": null,
            "overflow_x": null,
            "overflow_y": null,
            "padding": null,
            "right": null,
            "top": null,
            "visibility": null,
            "width": null
          }
        },
        "d6da486f9cd948b1ba53f50566fb1cd3": {
          "model_module": "@jupyter-widgets/controls",
          "model_name": "DescriptionStyleModel",
          "model_module_version": "1.5.0",
          "state": {
            "_model_module": "@jupyter-widgets/controls",
            "_model_module_version": "1.5.0",
            "_model_name": "DescriptionStyleModel",
            "_view_count": null,
            "_view_module": "@jupyter-widgets/base",
            "_view_module_version": "1.2.0",
            "_view_name": "StyleView",
            "description_width": ""
          }
        },
        "bad5ed30202b4c1abc42b5cce8ef8ce3": {
          "model_module": "@jupyter-widgets/base",
          "model_name": "LayoutModel",
          "model_module_version": "1.2.0",
          "state": {
            "_model_module": "@jupyter-widgets/base",
            "_model_module_version": "1.2.0",
            "_model_name": "LayoutModel",
            "_view_count": null,
            "_view_module": "@jupyter-widgets/base",
            "_view_module_version": "1.2.0",
            "_view_name": "LayoutView",
            "align_content": null,
            "align_items": null,
            "align_self": null,
            "border": null,
            "bottom": null,
            "display": null,
            "flex": null,
            "flex_flow": null,
            "grid_area": null,
            "grid_auto_columns": null,
            "grid_auto_flow": null,
            "grid_auto_rows": null,
            "grid_column": null,
            "grid_gap": null,
            "grid_row": null,
            "grid_template_areas": null,
            "grid_template_columns": null,
            "grid_template_rows": null,
            "height": null,
            "justify_content": null,
            "justify_items": null,
            "left": null,
            "margin": null,
            "max_height": null,
            "max_width": null,
            "min_height": null,
            "min_width": null,
            "object_fit": null,
            "object_position": null,
            "order": null,
            "overflow": null,
            "overflow_x": null,
            "overflow_y": null,
            "padding": null,
            "right": null,
            "top": null,
            "visibility": null,
            "width": "20px"
          }
        },
        "8289778b1af84123b1f4b25db06495bd": {
          "model_module": "@jupyter-widgets/controls",
          "model_name": "ProgressStyleModel",
          "model_module_version": "1.5.0",
          "state": {
            "_model_module": "@jupyter-widgets/controls",
            "_model_module_version": "1.5.0",
            "_model_name": "ProgressStyleModel",
            "_view_count": null,
            "_view_module": "@jupyter-widgets/base",
            "_view_module_version": "1.2.0",
            "_view_name": "StyleView",
            "bar_color": null,
            "description_width": ""
          }
        },
        "b0d226075ac1469f85e68fcb97993cdf": {
          "model_module": "@jupyter-widgets/base",
          "model_name": "LayoutModel",
          "model_module_version": "1.2.0",
          "state": {
            "_model_module": "@jupyter-widgets/base",
            "_model_module_version": "1.2.0",
            "_model_name": "LayoutModel",
            "_view_count": null,
            "_view_module": "@jupyter-widgets/base",
            "_view_module_version": "1.2.0",
            "_view_name": "LayoutView",
            "align_content": null,
            "align_items": null,
            "align_self": null,
            "border": null,
            "bottom": null,
            "display": null,
            "flex": null,
            "flex_flow": null,
            "grid_area": null,
            "grid_auto_columns": null,
            "grid_auto_flow": null,
            "grid_auto_rows": null,
            "grid_column": null,
            "grid_gap": null,
            "grid_row": null,
            "grid_template_areas": null,
            "grid_template_columns": null,
            "grid_template_rows": null,
            "height": null,
            "justify_content": null,
            "justify_items": null,
            "left": null,
            "margin": null,
            "max_height": null,
            "max_width": null,
            "min_height": null,
            "min_width": null,
            "object_fit": null,
            "object_position": null,
            "order": null,
            "overflow": null,
            "overflow_x": null,
            "overflow_y": null,
            "padding": null,
            "right": null,
            "top": null,
            "visibility": null,
            "width": null
          }
        },
        "5229ac660ffb4f3680f10bf96ec8d3b5": {
          "model_module": "@jupyter-widgets/controls",
          "model_name": "DescriptionStyleModel",
          "model_module_version": "1.5.0",
          "state": {
            "_model_module": "@jupyter-widgets/controls",
            "_model_module_version": "1.5.0",
            "_model_name": "DescriptionStyleModel",
            "_view_count": null,
            "_view_module": "@jupyter-widgets/base",
            "_view_module_version": "1.2.0",
            "_view_name": "StyleView",
            "description_width": ""
          }
        },
        "6e22db36a1934f99a2836ef1ddc8a883": {
          "model_module": "@jupyter-widgets/controls",
          "model_name": "HBoxModel",
          "model_module_version": "1.5.0",
          "state": {
            "_dom_classes": [],
            "_model_module": "@jupyter-widgets/controls",
            "_model_module_version": "1.5.0",
            "_model_name": "HBoxModel",
            "_view_count": null,
            "_view_module": "@jupyter-widgets/controls",
            "_view_module_version": "1.5.0",
            "_view_name": "HBoxView",
            "box_style": "",
            "children": [
              "IPY_MODEL_01a68e16674b4c818a9dea26b5cd30a6",
              "IPY_MODEL_c79fe1b4c1944176b6f31814660f03aa",
              "IPY_MODEL_ba00723cdc754a078f32455e0933dc04"
            ],
            "layout": "IPY_MODEL_bbb36756ef5948d2ad221d535d197564"
          }
        },
        "01a68e16674b4c818a9dea26b5cd30a6": {
          "model_module": "@jupyter-widgets/controls",
          "model_name": "HTMLModel",
          "model_module_version": "1.5.0",
          "state": {
            "_dom_classes": [],
            "_model_module": "@jupyter-widgets/controls",
            "_model_module_version": "1.5.0",
            "_model_name": "HTMLModel",
            "_view_count": null,
            "_view_module": "@jupyter-widgets/controls",
            "_view_module_version": "1.5.0",
            "_view_name": "HTMLView",
            "description": "",
            "description_tooltip": null,
            "layout": "IPY_MODEL_11c29ee5589b4f5c976cf8a054f4643d",
            "placeholder": "​",
            "style": "IPY_MODEL_6dcc598b36364eb683f49982e1d76f76",
            "value": "vocab.json: "
          }
        },
        "c79fe1b4c1944176b6f31814660f03aa": {
          "model_module": "@jupyter-widgets/controls",
          "model_name": "FloatProgressModel",
          "model_module_version": "1.5.0",
          "state": {
            "_dom_classes": [],
            "_model_module": "@jupyter-widgets/controls",
            "_model_module_version": "1.5.0",
            "_model_name": "FloatProgressModel",
            "_view_count": null,
            "_view_module": "@jupyter-widgets/controls",
            "_view_module_version": "1.5.0",
            "_view_name": "ProgressView",
            "bar_style": "success",
            "description": "",
            "description_tooltip": null,
            "layout": "IPY_MODEL_12954995a47d463da9ad49be1801a477",
            "max": 1,
            "min": 0,
            "orientation": "horizontal",
            "style": "IPY_MODEL_64722add23ea4e7696078dee16e3cdf8",
            "value": 1
          }
        },
        "ba00723cdc754a078f32455e0933dc04": {
          "model_module": "@jupyter-widgets/controls",
          "model_name": "HTMLModel",
          "model_module_version": "1.5.0",
          "state": {
            "_dom_classes": [],
            "_model_module": "@jupyter-widgets/controls",
            "_model_module_version": "1.5.0",
            "_model_name": "HTMLModel",
            "_view_count": null,
            "_view_module": "@jupyter-widgets/controls",
            "_view_module_version": "1.5.0",
            "_view_name": "HTMLView",
            "description": "",
            "description_tooltip": null,
            "layout": "IPY_MODEL_28c60d866ff34765b8cf8989465828ed",
            "placeholder": "​",
            "style": "IPY_MODEL_8716017560414993bfbad96de3eaf40d",
            "value": " 2.78M/? [00:00&lt;00:00, 4.94MB/s]"
          }
        },
        "bbb36756ef5948d2ad221d535d197564": {
          "model_module": "@jupyter-widgets/base",
          "model_name": "LayoutModel",
          "model_module_version": "1.2.0",
          "state": {
            "_model_module": "@jupyter-widgets/base",
            "_model_module_version": "1.2.0",
            "_model_name": "LayoutModel",
            "_view_count": null,
            "_view_module": "@jupyter-widgets/base",
            "_view_module_version": "1.2.0",
            "_view_name": "LayoutView",
            "align_content": null,
            "align_items": null,
            "align_self": null,
            "border": null,
            "bottom": null,
            "display": null,
            "flex": null,
            "flex_flow": null,
            "grid_area": null,
            "grid_auto_columns": null,
            "grid_auto_flow": null,
            "grid_auto_rows": null,
            "grid_column": null,
            "grid_gap": null,
            "grid_row": null,
            "grid_template_areas": null,
            "grid_template_columns": null,
            "grid_template_rows": null,
            "height": null,
            "justify_content": null,
            "justify_items": null,
            "left": null,
            "margin": null,
            "max_height": null,
            "max_width": null,
            "min_height": null,
            "min_width": null,
            "object_fit": null,
            "object_position": null,
            "order": null,
            "overflow": null,
            "overflow_x": null,
            "overflow_y": null,
            "padding": null,
            "right": null,
            "top": null,
            "visibility": null,
            "width": null
          }
        },
        "11c29ee5589b4f5c976cf8a054f4643d": {
          "model_module": "@jupyter-widgets/base",
          "model_name": "LayoutModel",
          "model_module_version": "1.2.0",
          "state": {
            "_model_module": "@jupyter-widgets/base",
            "_model_module_version": "1.2.0",
            "_model_name": "LayoutModel",
            "_view_count": null,
            "_view_module": "@jupyter-widgets/base",
            "_view_module_version": "1.2.0",
            "_view_name": "LayoutView",
            "align_content": null,
            "align_items": null,
            "align_self": null,
            "border": null,
            "bottom": null,
            "display": null,
            "flex": null,
            "flex_flow": null,
            "grid_area": null,
            "grid_auto_columns": null,
            "grid_auto_flow": null,
            "grid_auto_rows": null,
            "grid_column": null,
            "grid_gap": null,
            "grid_row": null,
            "grid_template_areas": null,
            "grid_template_columns": null,
            "grid_template_rows": null,
            "height": null,
            "justify_content": null,
            "justify_items": null,
            "left": null,
            "margin": null,
            "max_height": null,
            "max_width": null,
            "min_height": null,
            "min_width": null,
            "object_fit": null,
            "object_position": null,
            "order": null,
            "overflow": null,
            "overflow_x": null,
            "overflow_y": null,
            "padding": null,
            "right": null,
            "top": null,
            "visibility": null,
            "width": null
          }
        },
        "6dcc598b36364eb683f49982e1d76f76": {
          "model_module": "@jupyter-widgets/controls",
          "model_name": "DescriptionStyleModel",
          "model_module_version": "1.5.0",
          "state": {
            "_model_module": "@jupyter-widgets/controls",
            "_model_module_version": "1.5.0",
            "_model_name": "DescriptionStyleModel",
            "_view_count": null,
            "_view_module": "@jupyter-widgets/base",
            "_view_module_version": "1.2.0",
            "_view_name": "StyleView",
            "description_width": ""
          }
        },
        "12954995a47d463da9ad49be1801a477": {
          "model_module": "@jupyter-widgets/base",
          "model_name": "LayoutModel",
          "model_module_version": "1.2.0",
          "state": {
            "_model_module": "@jupyter-widgets/base",
            "_model_module_version": "1.2.0",
            "_model_name": "LayoutModel",
            "_view_count": null,
            "_view_module": "@jupyter-widgets/base",
            "_view_module_version": "1.2.0",
            "_view_name": "LayoutView",
            "align_content": null,
            "align_items": null,
            "align_self": null,
            "border": null,
            "bottom": null,
            "display": null,
            "flex": null,
            "flex_flow": null,
            "grid_area": null,
            "grid_auto_columns": null,
            "grid_auto_flow": null,
            "grid_auto_rows": null,
            "grid_column": null,
            "grid_gap": null,
            "grid_row": null,
            "grid_template_areas": null,
            "grid_template_columns": null,
            "grid_template_rows": null,
            "height": null,
            "justify_content": null,
            "justify_items": null,
            "left": null,
            "margin": null,
            "max_height": null,
            "max_width": null,
            "min_height": null,
            "min_width": null,
            "object_fit": null,
            "object_position": null,
            "order": null,
            "overflow": null,
            "overflow_x": null,
            "overflow_y": null,
            "padding": null,
            "right": null,
            "top": null,
            "visibility": null,
            "width": "20px"
          }
        },
        "64722add23ea4e7696078dee16e3cdf8": {
          "model_module": "@jupyter-widgets/controls",
          "model_name": "ProgressStyleModel",
          "model_module_version": "1.5.0",
          "state": {
            "_model_module": "@jupyter-widgets/controls",
            "_model_module_version": "1.5.0",
            "_model_name": "ProgressStyleModel",
            "_view_count": null,
            "_view_module": "@jupyter-widgets/base",
            "_view_module_version": "1.2.0",
            "_view_name": "StyleView",
            "bar_color": null,
            "description_width": ""
          }
        },
        "28c60d866ff34765b8cf8989465828ed": {
          "model_module": "@jupyter-widgets/base",
          "model_name": "LayoutModel",
          "model_module_version": "1.2.0",
          "state": {
            "_model_module": "@jupyter-widgets/base",
            "_model_module_version": "1.2.0",
            "_model_name": "LayoutModel",
            "_view_count": null,
            "_view_module": "@jupyter-widgets/base",
            "_view_module_version": "1.2.0",
            "_view_name": "LayoutView",
            "align_content": null,
            "align_items": null,
            "align_self": null,
            "border": null,
            "bottom": null,
            "display": null,
            "flex": null,
            "flex_flow": null,
            "grid_area": null,
            "grid_auto_columns": null,
            "grid_auto_flow": null,
            "grid_auto_rows": null,
            "grid_column": null,
            "grid_gap": null,
            "grid_row": null,
            "grid_template_areas": null,
            "grid_template_columns": null,
            "grid_template_rows": null,
            "height": null,
            "justify_content": null,
            "justify_items": null,
            "left": null,
            "margin": null,
            "max_height": null,
            "max_width": null,
            "min_height": null,
            "min_width": null,
            "object_fit": null,
            "object_position": null,
            "order": null,
            "overflow": null,
            "overflow_x": null,
            "overflow_y": null,
            "padding": null,
            "right": null,
            "top": null,
            "visibility": null,
            "width": null
          }
        },
        "8716017560414993bfbad96de3eaf40d": {
          "model_module": "@jupyter-widgets/controls",
          "model_name": "DescriptionStyleModel",
          "model_module_version": "1.5.0",
          "state": {
            "_model_module": "@jupyter-widgets/controls",
            "_model_module_version": "1.5.0",
            "_model_name": "DescriptionStyleModel",
            "_view_count": null,
            "_view_module": "@jupyter-widgets/base",
            "_view_module_version": "1.2.0",
            "_view_name": "StyleView",
            "description_width": ""
          }
        },
        "f3f15fe72d3a40af8bf6121da9d8ce28": {
          "model_module": "@jupyter-widgets/controls",
          "model_name": "HBoxModel",
          "model_module_version": "1.5.0",
          "state": {
            "_dom_classes": [],
            "_model_module": "@jupyter-widgets/controls",
            "_model_module_version": "1.5.0",
            "_model_name": "HBoxModel",
            "_view_count": null,
            "_view_module": "@jupyter-widgets/controls",
            "_view_module_version": "1.5.0",
            "_view_name": "HBoxView",
            "box_style": "",
            "children": [
              "IPY_MODEL_5f200cc13e274b449aef5f260f0875b1",
              "IPY_MODEL_53631f8b26ae4bd1ba7263b6e73313aa",
              "IPY_MODEL_a328f693b9404905b57c34194c9c9b05"
            ],
            "layout": "IPY_MODEL_80d9073b0ab6447db3154198ba2c0726"
          }
        },
        "5f200cc13e274b449aef5f260f0875b1": {
          "model_module": "@jupyter-widgets/controls",
          "model_name": "HTMLModel",
          "model_module_version": "1.5.0",
          "state": {
            "_dom_classes": [],
            "_model_module": "@jupyter-widgets/controls",
            "_model_module_version": "1.5.0",
            "_model_name": "HTMLModel",
            "_view_count": null,
            "_view_module": "@jupyter-widgets/controls",
            "_view_module_version": "1.5.0",
            "_view_name": "HTMLView",
            "description": "",
            "description_tooltip": null,
            "layout": "IPY_MODEL_73bc24ab8a80460da234ae348ccabfb2",
            "placeholder": "​",
            "style": "IPY_MODEL_f22667a5fef44005a5087b1af8521cac",
            "value": "merges.txt: "
          }
        },
        "53631f8b26ae4bd1ba7263b6e73313aa": {
          "model_module": "@jupyter-widgets/controls",
          "model_name": "FloatProgressModel",
          "model_module_version": "1.5.0",
          "state": {
            "_dom_classes": [],
            "_model_module": "@jupyter-widgets/controls",
            "_model_module_version": "1.5.0",
            "_model_name": "FloatProgressModel",
            "_view_count": null,
            "_view_module": "@jupyter-widgets/controls",
            "_view_module_version": "1.5.0",
            "_view_name": "ProgressView",
            "bar_style": "success",
            "description": "",
            "description_tooltip": null,
            "layout": "IPY_MODEL_120ab0ae4fe64b4db42fb7eece0d2c39",
            "max": 1,
            "min": 0,
            "orientation": "horizontal",
            "style": "IPY_MODEL_543260edd37c47859f7c981a5786dc73",
            "value": 1
          }
        },
        "a328f693b9404905b57c34194c9c9b05": {
          "model_module": "@jupyter-widgets/controls",
          "model_name": "HTMLModel",
          "model_module_version": "1.5.0",
          "state": {
            "_dom_classes": [],
            "_model_module": "@jupyter-widgets/controls",
            "_model_module_version": "1.5.0",
            "_model_name": "HTMLModel",
            "_view_count": null,
            "_view_module": "@jupyter-widgets/controls",
            "_view_module_version": "1.5.0",
            "_view_name": "HTMLView",
            "description": "",
            "description_tooltip": null,
            "layout": "IPY_MODEL_6657b5bfca2e4c598b1b94d9f10ffbfd",
            "placeholder": "​",
            "style": "IPY_MODEL_833d80e9af8041c58cb96415c5763f59",
            "value": " 1.67M/? [00:00&lt;00:00, 205kB/s]"
          }
        },
        "80d9073b0ab6447db3154198ba2c0726": {
          "model_module": "@jupyter-widgets/base",
          "model_name": "LayoutModel",
          "model_module_version": "1.2.0",
          "state": {
            "_model_module": "@jupyter-widgets/base",
            "_model_module_version": "1.2.0",
            "_model_name": "LayoutModel",
            "_view_count": null,
            "_view_module": "@jupyter-widgets/base",
            "_view_module_version": "1.2.0",
            "_view_name": "LayoutView",
            "align_content": null,
            "align_items": null,
            "align_self": null,
            "border": null,
            "bottom": null,
            "display": null,
            "flex": null,
            "flex_flow": null,
            "grid_area": null,
            "grid_auto_columns": null,
            "grid_auto_flow": null,
            "grid_auto_rows": null,
            "grid_column": null,
            "grid_gap": null,
            "grid_row": null,
            "grid_template_areas": null,
            "grid_template_columns": null,
            "grid_template_rows": null,
            "height": null,
            "justify_content": null,
            "justify_items": null,
            "left": null,
            "margin": null,
            "max_height": null,
            "max_width": null,
            "min_height": null,
            "min_width": null,
            "object_fit": null,
            "object_position": null,
            "order": null,
            "overflow": null,
            "overflow_x": null,
            "overflow_y": null,
            "padding": null,
            "right": null,
            "top": null,
            "visibility": null,
            "width": null
          }
        },
        "73bc24ab8a80460da234ae348ccabfb2": {
          "model_module": "@jupyter-widgets/base",
          "model_name": "LayoutModel",
          "model_module_version": "1.2.0",
          "state": {
            "_model_module": "@jupyter-widgets/base",
            "_model_module_version": "1.2.0",
            "_model_name": "LayoutModel",
            "_view_count": null,
            "_view_module": "@jupyter-widgets/base",
            "_view_module_version": "1.2.0",
            "_view_name": "LayoutView",
            "align_content": null,
            "align_items": null,
            "align_self": null,
            "border": null,
            "bottom": null,
            "display": null,
            "flex": null,
            "flex_flow": null,
            "grid_area": null,
            "grid_auto_columns": null,
            "grid_auto_flow": null,
            "grid_auto_rows": null,
            "grid_column": null,
            "grid_gap": null,
            "grid_row": null,
            "grid_template_areas": null,
            "grid_template_columns": null,
            "grid_template_rows": null,
            "height": null,
            "justify_content": null,
            "justify_items": null,
            "left": null,
            "margin": null,
            "max_height": null,
            "max_width": null,
            "min_height": null,
            "min_width": null,
            "object_fit": null,
            "object_position": null,
            "order": null,
            "overflow": null,
            "overflow_x": null,
            "overflow_y": null,
            "padding": null,
            "right": null,
            "top": null,
            "visibility": null,
            "width": null
          }
        },
        "f22667a5fef44005a5087b1af8521cac": {
          "model_module": "@jupyter-widgets/controls",
          "model_name": "DescriptionStyleModel",
          "model_module_version": "1.5.0",
          "state": {
            "_model_module": "@jupyter-widgets/controls",
            "_model_module_version": "1.5.0",
            "_model_name": "DescriptionStyleModel",
            "_view_count": null,
            "_view_module": "@jupyter-widgets/base",
            "_view_module_version": "1.2.0",
            "_view_name": "StyleView",
            "description_width": ""
          }
        },
        "120ab0ae4fe64b4db42fb7eece0d2c39": {
          "model_module": "@jupyter-widgets/base",
          "model_name": "LayoutModel",
          "model_module_version": "1.2.0",
          "state": {
            "_model_module": "@jupyter-widgets/base",
            "_model_module_version": "1.2.0",
            "_model_name": "LayoutModel",
            "_view_count": null,
            "_view_module": "@jupyter-widgets/base",
            "_view_module_version": "1.2.0",
            "_view_name": "LayoutView",
            "align_content": null,
            "align_items": null,
            "align_self": null,
            "border": null,
            "bottom": null,
            "display": null,
            "flex": null,
            "flex_flow": null,
            "grid_area": null,
            "grid_auto_columns": null,
            "grid_auto_flow": null,
            "grid_auto_rows": null,
            "grid_column": null,
            "grid_gap": null,
            "grid_row": null,
            "grid_template_areas": null,
            "grid_template_columns": null,
            "grid_template_rows": null,
            "height": null,
            "justify_content": null,
            "justify_items": null,
            "left": null,
            "margin": null,
            "max_height": null,
            "max_width": null,
            "min_height": null,
            "min_width": null,
            "object_fit": null,
            "object_position": null,
            "order": null,
            "overflow": null,
            "overflow_x": null,
            "overflow_y": null,
            "padding": null,
            "right": null,
            "top": null,
            "visibility": null,
            "width": "20px"
          }
        },
        "543260edd37c47859f7c981a5786dc73": {
          "model_module": "@jupyter-widgets/controls",
          "model_name": "ProgressStyleModel",
          "model_module_version": "1.5.0",
          "state": {
            "_model_module": "@jupyter-widgets/controls",
            "_model_module_version": "1.5.0",
            "_model_name": "ProgressStyleModel",
            "_view_count": null,
            "_view_module": "@jupyter-widgets/base",
            "_view_module_version": "1.2.0",
            "_view_name": "StyleView",
            "bar_color": null,
            "description_width": ""
          }
        },
        "6657b5bfca2e4c598b1b94d9f10ffbfd": {
          "model_module": "@jupyter-widgets/base",
          "model_name": "LayoutModel",
          "model_module_version": "1.2.0",
          "state": {
            "_model_module": "@jupyter-widgets/base",
            "_model_module_version": "1.2.0",
            "_model_name": "LayoutModel",
            "_view_count": null,
            "_view_module": "@jupyter-widgets/base",
            "_view_module_version": "1.2.0",
            "_view_name": "LayoutView",
            "align_content": null,
            "align_items": null,
            "align_self": null,
            "border": null,
            "bottom": null,
            "display": null,
            "flex": null,
            "flex_flow": null,
            "grid_area": null,
            "grid_auto_columns": null,
            "grid_auto_flow": null,
            "grid_auto_rows": null,
            "grid_column": null,
            "grid_gap": null,
            "grid_row": null,
            "grid_template_areas": null,
            "grid_template_columns": null,
            "grid_template_rows": null,
            "height": null,
            "justify_content": null,
            "justify_items": null,
            "left": null,
            "margin": null,
            "max_height": null,
            "max_width": null,
            "min_height": null,
            "min_width": null,
            "object_fit": null,
            "object_position": null,
            "order": null,
            "overflow": null,
            "overflow_x": null,
            "overflow_y": null,
            "padding": null,
            "right": null,
            "top": null,
            "visibility": null,
            "width": null
          }
        },
        "833d80e9af8041c58cb96415c5763f59": {
          "model_module": "@jupyter-widgets/controls",
          "model_name": "DescriptionStyleModel",
          "model_module_version": "1.5.0",
          "state": {
            "_model_module": "@jupyter-widgets/controls",
            "_model_module_version": "1.5.0",
            "_model_name": "DescriptionStyleModel",
            "_view_count": null,
            "_view_module": "@jupyter-widgets/base",
            "_view_module_version": "1.2.0",
            "_view_name": "StyleView",
            "description_width": ""
          }
        },
        "355509c0fc184bd3b1d77e87c2d19855": {
          "model_module": "@jupyter-widgets/controls",
          "model_name": "HBoxModel",
          "model_module_version": "1.5.0",
          "state": {
            "_dom_classes": [],
            "_model_module": "@jupyter-widgets/controls",
            "_model_module_version": "1.5.0",
            "_model_name": "HBoxModel",
            "_view_count": null,
            "_view_module": "@jupyter-widgets/controls",
            "_view_module_version": "1.5.0",
            "_view_name": "HBoxView",
            "box_style": "",
            "children": [
              "IPY_MODEL_6706271bf7e84b598232332cb4f5d103",
              "IPY_MODEL_5c147d5e0d954bc2a8110b6d92179919",
              "IPY_MODEL_52d1a4e44a084782973e01c7624accb9"
            ],
            "layout": "IPY_MODEL_d92b0d368df649cd89df920476d74cfc"
          }
        },
        "6706271bf7e84b598232332cb4f5d103": {
          "model_module": "@jupyter-widgets/controls",
          "model_name": "HTMLModel",
          "model_module_version": "1.5.0",
          "state": {
            "_dom_classes": [],
            "_model_module": "@jupyter-widgets/controls",
            "_model_module_version": "1.5.0",
            "_model_name": "HTMLModel",
            "_view_count": null,
            "_view_module": "@jupyter-widgets/controls",
            "_view_module_version": "1.5.0",
            "_view_name": "HTMLView",
            "description": "",
            "description_tooltip": null,
            "layout": "IPY_MODEL_85c20460130e48299c60268f0abdd7a4",
            "placeholder": "​",
            "style": "IPY_MODEL_31ece7edca014ec5b74a65fbc085c006",
            "value": "tokenizer.json: 100%"
          }
        },
        "5c147d5e0d954bc2a8110b6d92179919": {
          "model_module": "@jupyter-widgets/controls",
          "model_name": "FloatProgressModel",
          "model_module_version": "1.5.0",
          "state": {
            "_dom_classes": [],
            "_model_module": "@jupyter-widgets/controls",
            "_model_module_version": "1.5.0",
            "_model_name": "FloatProgressModel",
            "_view_count": null,
            "_view_module": "@jupyter-widgets/controls",
            "_view_module_version": "1.5.0",
            "_view_name": "ProgressView",
            "bar_style": "success",
            "description": "",
            "description_tooltip": null,
            "layout": "IPY_MODEL_1636807973004c0eba939f53bd17746d",
            "max": 11422654,
            "min": 0,
            "orientation": "horizontal",
            "style": "IPY_MODEL_08924e1c1ac740fe8e7f54320b52e41e",
            "value": 11422654
          }
        },
        "52d1a4e44a084782973e01c7624accb9": {
          "model_module": "@jupyter-widgets/controls",
          "model_name": "HTMLModel",
          "model_module_version": "1.5.0",
          "state": {
            "_dom_classes": [],
            "_model_module": "@jupyter-widgets/controls",
            "_model_module_version": "1.5.0",
            "_model_name": "HTMLModel",
            "_view_count": null,
            "_view_module": "@jupyter-widgets/controls",
            "_view_module_version": "1.5.0",
            "_view_name": "HTMLView",
            "description": "",
            "description_tooltip": null,
            "layout": "IPY_MODEL_c27859fc7f76400eb98b4f1e7c454ef7",
            "placeholder": "​",
            "style": "IPY_MODEL_7b27ba591caf43949343947c42bffcfa",
            "value": " 11.4M/11.4M [00:01&lt;00:00, 5.93MB/s]"
          }
        },
        "d92b0d368df649cd89df920476d74cfc": {
          "model_module": "@jupyter-widgets/base",
          "model_name": "LayoutModel",
          "model_module_version": "1.2.0",
          "state": {
            "_model_module": "@jupyter-widgets/base",
            "_model_module_version": "1.2.0",
            "_model_name": "LayoutModel",
            "_view_count": null,
            "_view_module": "@jupyter-widgets/base",
            "_view_module_version": "1.2.0",
            "_view_name": "LayoutView",
            "align_content": null,
            "align_items": null,
            "align_self": null,
            "border": null,
            "bottom": null,
            "display": null,
            "flex": null,
            "flex_flow": null,
            "grid_area": null,
            "grid_auto_columns": null,
            "grid_auto_flow": null,
            "grid_auto_rows": null,
            "grid_column": null,
            "grid_gap": null,
            "grid_row": null,
            "grid_template_areas": null,
            "grid_template_columns": null,
            "grid_template_rows": null,
            "height": null,
            "justify_content": null,
            "justify_items": null,
            "left": null,
            "margin": null,
            "max_height": null,
            "max_width": null,
            "min_height": null,
            "min_width": null,
            "object_fit": null,
            "object_position": null,
            "order": null,
            "overflow": null,
            "overflow_x": null,
            "overflow_y": null,
            "padding": null,
            "right": null,
            "top": null,
            "visibility": null,
            "width": null
          }
        },
        "85c20460130e48299c60268f0abdd7a4": {
          "model_module": "@jupyter-widgets/base",
          "model_name": "LayoutModel",
          "model_module_version": "1.2.0",
          "state": {
            "_model_module": "@jupyter-widgets/base",
            "_model_module_version": "1.2.0",
            "_model_name": "LayoutModel",
            "_view_count": null,
            "_view_module": "@jupyter-widgets/base",
            "_view_module_version": "1.2.0",
            "_view_name": "LayoutView",
            "align_content": null,
            "align_items": null,
            "align_self": null,
            "border": null,
            "bottom": null,
            "display": null,
            "flex": null,
            "flex_flow": null,
            "grid_area": null,
            "grid_auto_columns": null,
            "grid_auto_flow": null,
            "grid_auto_rows": null,
            "grid_column": null,
            "grid_gap": null,
            "grid_row": null,
            "grid_template_areas": null,
            "grid_template_columns": null,
            "grid_template_rows": null,
            "height": null,
            "justify_content": null,
            "justify_items": null,
            "left": null,
            "margin": null,
            "max_height": null,
            "max_width": null,
            "min_height": null,
            "min_width": null,
            "object_fit": null,
            "object_position": null,
            "order": null,
            "overflow": null,
            "overflow_x": null,
            "overflow_y": null,
            "padding": null,
            "right": null,
            "top": null,
            "visibility": null,
            "width": null
          }
        },
        "31ece7edca014ec5b74a65fbc085c006": {
          "model_module": "@jupyter-widgets/controls",
          "model_name": "DescriptionStyleModel",
          "model_module_version": "1.5.0",
          "state": {
            "_model_module": "@jupyter-widgets/controls",
            "_model_module_version": "1.5.0",
            "_model_name": "DescriptionStyleModel",
            "_view_count": null,
            "_view_module": "@jupyter-widgets/base",
            "_view_module_version": "1.2.0",
            "_view_name": "StyleView",
            "description_width": ""
          }
        },
        "1636807973004c0eba939f53bd17746d": {
          "model_module": "@jupyter-widgets/base",
          "model_name": "LayoutModel",
          "model_module_version": "1.2.0",
          "state": {
            "_model_module": "@jupyter-widgets/base",
            "_model_module_version": "1.2.0",
            "_model_name": "LayoutModel",
            "_view_count": null,
            "_view_module": "@jupyter-widgets/base",
            "_view_module_version": "1.2.0",
            "_view_name": "LayoutView",
            "align_content": null,
            "align_items": null,
            "align_self": null,
            "border": null,
            "bottom": null,
            "display": null,
            "flex": null,
            "flex_flow": null,
            "grid_area": null,
            "grid_auto_columns": null,
            "grid_auto_flow": null,
            "grid_auto_rows": null,
            "grid_column": null,
            "grid_gap": null,
            "grid_row": null,
            "grid_template_areas": null,
            "grid_template_columns": null,
            "grid_template_rows": null,
            "height": null,
            "justify_content": null,
            "justify_items": null,
            "left": null,
            "margin": null,
            "max_height": null,
            "max_width": null,
            "min_height": null,
            "min_width": null,
            "object_fit": null,
            "object_position": null,
            "order": null,
            "overflow": null,
            "overflow_x": null,
            "overflow_y": null,
            "padding": null,
            "right": null,
            "top": null,
            "visibility": null,
            "width": null
          }
        },
        "08924e1c1ac740fe8e7f54320b52e41e": {
          "model_module": "@jupyter-widgets/controls",
          "model_name": "ProgressStyleModel",
          "model_module_version": "1.5.0",
          "state": {
            "_model_module": "@jupyter-widgets/controls",
            "_model_module_version": "1.5.0",
            "_model_name": "ProgressStyleModel",
            "_view_count": null,
            "_view_module": "@jupyter-widgets/base",
            "_view_module_version": "1.2.0",
            "_view_name": "StyleView",
            "bar_color": null,
            "description_width": ""
          }
        },
        "c27859fc7f76400eb98b4f1e7c454ef7": {
          "model_module": "@jupyter-widgets/base",
          "model_name": "LayoutModel",
          "model_module_version": "1.2.0",
          "state": {
            "_model_module": "@jupyter-widgets/base",
            "_model_module_version": "1.2.0",
            "_model_name": "LayoutModel",
            "_view_count": null,
            "_view_module": "@jupyter-widgets/base",
            "_view_module_version": "1.2.0",
            "_view_name": "LayoutView",
            "align_content": null,
            "align_items": null,
            "align_self": null,
            "border": null,
            "bottom": null,
            "display": null,
            "flex": null,
            "flex_flow": null,
            "grid_area": null,
            "grid_auto_columns": null,
            "grid_auto_flow": null,
            "grid_auto_rows": null,
            "grid_column": null,
            "grid_gap": null,
            "grid_row": null,
            "grid_template_areas": null,
            "grid_template_columns": null,
            "grid_template_rows": null,
            "height": null,
            "justify_content": null,
            "justify_items": null,
            "left": null,
            "margin": null,
            "max_height": null,
            "max_width": null,
            "min_height": null,
            "min_width": null,
            "object_fit": null,
            "object_position": null,
            "order": null,
            "overflow": null,
            "overflow_x": null,
            "overflow_y": null,
            "padding": null,
            "right": null,
            "top": null,
            "visibility": null,
            "width": null
          }
        },
        "7b27ba591caf43949343947c42bffcfa": {
          "model_module": "@jupyter-widgets/controls",
          "model_name": "DescriptionStyleModel",
          "model_module_version": "1.5.0",
          "state": {
            "_model_module": "@jupyter-widgets/controls",
            "_model_module_version": "1.5.0",
            "_model_name": "DescriptionStyleModel",
            "_view_count": null,
            "_view_module": "@jupyter-widgets/base",
            "_view_module_version": "1.2.0",
            "_view_name": "StyleView",
            "description_width": ""
          }
        },
        "814d056ad163449aab44b6ca447957b3": {
          "model_module": "@jupyter-widgets/controls",
          "model_name": "HBoxModel",
          "model_module_version": "1.5.0",
          "state": {
            "_dom_classes": [],
            "_model_module": "@jupyter-widgets/controls",
            "_model_module_version": "1.5.0",
            "_model_name": "HBoxModel",
            "_view_count": null,
            "_view_module": "@jupyter-widgets/controls",
            "_view_module_version": "1.5.0",
            "_view_name": "HBoxView",
            "box_style": "",
            "children": [
              "IPY_MODEL_22988d9aac30424b9c3c36f45b144043",
              "IPY_MODEL_8bc2d638ab084e548d8ce6ef1595210d",
              "IPY_MODEL_e8753a4e68414e299ca2fc703aa3ea98"
            ],
            "layout": "IPY_MODEL_b23bbfed05334b869a65ddb95a572b0e"
          }
        },
        "22988d9aac30424b9c3c36f45b144043": {
          "model_module": "@jupyter-widgets/controls",
          "model_name": "HTMLModel",
          "model_module_version": "1.5.0",
          "state": {
            "_dom_classes": [],
            "_model_module": "@jupyter-widgets/controls",
            "_model_module_version": "1.5.0",
            "_model_name": "HTMLModel",
            "_view_count": null,
            "_view_module": "@jupyter-widgets/controls",
            "_view_module_version": "1.5.0",
            "_view_name": "HTMLView",
            "description": "",
            "description_tooltip": null,
            "layout": "IPY_MODEL_aa20f7e9db724970892e08c2b293035c",
            "placeholder": "​",
            "style": "IPY_MODEL_eabd06bb2d6a402d9270461ce4a36574",
            "value": "added_tokens.json: 100%"
          }
        },
        "8bc2d638ab084e548d8ce6ef1595210d": {
          "model_module": "@jupyter-widgets/controls",
          "model_name": "FloatProgressModel",
          "model_module_version": "1.5.0",
          "state": {
            "_dom_classes": [],
            "_model_module": "@jupyter-widgets/controls",
            "_model_module_version": "1.5.0",
            "_model_name": "FloatProgressModel",
            "_view_count": null,
            "_view_module": "@jupyter-widgets/controls",
            "_view_module_version": "1.5.0",
            "_view_name": "ProgressView",
            "bar_style": "success",
            "description": "",
            "description_tooltip": null,
            "layout": "IPY_MODEL_f3071111b60045a1a99281b7a139d05a",
            "max": 707,
            "min": 0,
            "orientation": "horizontal",
            "style": "IPY_MODEL_f43156bd5f834a5d8e07d8e7d37ca0e2",
            "value": 707
          }
        },
        "e8753a4e68414e299ca2fc703aa3ea98": {
          "model_module": "@jupyter-widgets/controls",
          "model_name": "HTMLModel",
          "model_module_version": "1.5.0",
          "state": {
            "_dom_classes": [],
            "_model_module": "@jupyter-widgets/controls",
            "_model_module_version": "1.5.0",
            "_model_name": "HTMLModel",
            "_view_count": null,
            "_view_module": "@jupyter-widgets/controls",
            "_view_module_version": "1.5.0",
            "_view_name": "HTMLView",
            "description": "",
            "description_tooltip": null,
            "layout": "IPY_MODEL_61d0865d502946f0bedab0a90a5b148e",
            "placeholder": "​",
            "style": "IPY_MODEL_3d3711b78db24c699cd7ce143c43df86",
            "value": " 707/707 [00:00&lt;00:00, 89.2kB/s]"
          }
        },
        "b23bbfed05334b869a65ddb95a572b0e": {
          "model_module": "@jupyter-widgets/base",
          "model_name": "LayoutModel",
          "model_module_version": "1.2.0",
          "state": {
            "_model_module": "@jupyter-widgets/base",
            "_model_module_version": "1.2.0",
            "_model_name": "LayoutModel",
            "_view_count": null,
            "_view_module": "@jupyter-widgets/base",
            "_view_module_version": "1.2.0",
            "_view_name": "LayoutView",
            "align_content": null,
            "align_items": null,
            "align_self": null,
            "border": null,
            "bottom": null,
            "display": null,
            "flex": null,
            "flex_flow": null,
            "grid_area": null,
            "grid_auto_columns": null,
            "grid_auto_flow": null,
            "grid_auto_rows": null,
            "grid_column": null,
            "grid_gap": null,
            "grid_row": null,
            "grid_template_areas": null,
            "grid_template_columns": null,
            "grid_template_rows": null,
            "height": null,
            "justify_content": null,
            "justify_items": null,
            "left": null,
            "margin": null,
            "max_height": null,
            "max_width": null,
            "min_height": null,
            "min_width": null,
            "object_fit": null,
            "object_position": null,
            "order": null,
            "overflow": null,
            "overflow_x": null,
            "overflow_y": null,
            "padding": null,
            "right": null,
            "top": null,
            "visibility": null,
            "width": null
          }
        },
        "aa20f7e9db724970892e08c2b293035c": {
          "model_module": "@jupyter-widgets/base",
          "model_name": "LayoutModel",
          "model_module_version": "1.2.0",
          "state": {
            "_model_module": "@jupyter-widgets/base",
            "_model_module_version": "1.2.0",
            "_model_name": "LayoutModel",
            "_view_count": null,
            "_view_module": "@jupyter-widgets/base",
            "_view_module_version": "1.2.0",
            "_view_name": "LayoutView",
            "align_content": null,
            "align_items": null,
            "align_self": null,
            "border": null,
            "bottom": null,
            "display": null,
            "flex": null,
            "flex_flow": null,
            "grid_area": null,
            "grid_auto_columns": null,
            "grid_auto_flow": null,
            "grid_auto_rows": null,
            "grid_column": null,
            "grid_gap": null,
            "grid_row": null,
            "grid_template_areas": null,
            "grid_template_columns": null,
            "grid_template_rows": null,
            "height": null,
            "justify_content": null,
            "justify_items": null,
            "left": null,
            "margin": null,
            "max_height": null,
            "max_width": null,
            "min_height": null,
            "min_width": null,
            "object_fit": null,
            "object_position": null,
            "order": null,
            "overflow": null,
            "overflow_x": null,
            "overflow_y": null,
            "padding": null,
            "right": null,
            "top": null,
            "visibility": null,
            "width": null
          }
        },
        "eabd06bb2d6a402d9270461ce4a36574": {
          "model_module": "@jupyter-widgets/controls",
          "model_name": "DescriptionStyleModel",
          "model_module_version": "1.5.0",
          "state": {
            "_model_module": "@jupyter-widgets/controls",
            "_model_module_version": "1.5.0",
            "_model_name": "DescriptionStyleModel",
            "_view_count": null,
            "_view_module": "@jupyter-widgets/base",
            "_view_module_version": "1.2.0",
            "_view_name": "StyleView",
            "description_width": ""
          }
        },
        "f3071111b60045a1a99281b7a139d05a": {
          "model_module": "@jupyter-widgets/base",
          "model_name": "LayoutModel",
          "model_module_version": "1.2.0",
          "state": {
            "_model_module": "@jupyter-widgets/base",
            "_model_module_version": "1.2.0",
            "_model_name": "LayoutModel",
            "_view_count": null,
            "_view_module": "@jupyter-widgets/base",
            "_view_module_version": "1.2.0",
            "_view_name": "LayoutView",
            "align_content": null,
            "align_items": null,
            "align_self": null,
            "border": null,
            "bottom": null,
            "display": null,
            "flex": null,
            "flex_flow": null,
            "grid_area": null,
            "grid_auto_columns": null,
            "grid_auto_flow": null,
            "grid_auto_rows": null,
            "grid_column": null,
            "grid_gap": null,
            "grid_row": null,
            "grid_template_areas": null,
            "grid_template_columns": null,
            "grid_template_rows": null,
            "height": null,
            "justify_content": null,
            "justify_items": null,
            "left": null,
            "margin": null,
            "max_height": null,
            "max_width": null,
            "min_height": null,
            "min_width": null,
            "object_fit": null,
            "object_position": null,
            "order": null,
            "overflow": null,
            "overflow_x": null,
            "overflow_y": null,
            "padding": null,
            "right": null,
            "top": null,
            "visibility": null,
            "width": null
          }
        },
        "f43156bd5f834a5d8e07d8e7d37ca0e2": {
          "model_module": "@jupyter-widgets/controls",
          "model_name": "ProgressStyleModel",
          "model_module_version": "1.5.0",
          "state": {
            "_model_module": "@jupyter-widgets/controls",
            "_model_module_version": "1.5.0",
            "_model_name": "ProgressStyleModel",
            "_view_count": null,
            "_view_module": "@jupyter-widgets/base",
            "_view_module_version": "1.2.0",
            "_view_name": "StyleView",
            "bar_color": null,
            "description_width": ""
          }
        },
        "61d0865d502946f0bedab0a90a5b148e": {
          "model_module": "@jupyter-widgets/base",
          "model_name": "LayoutModel",
          "model_module_version": "1.2.0",
          "state": {
            "_model_module": "@jupyter-widgets/base",
            "_model_module_version": "1.2.0",
            "_model_name": "LayoutModel",
            "_view_count": null,
            "_view_module": "@jupyter-widgets/base",
            "_view_module_version": "1.2.0",
            "_view_name": "LayoutView",
            "align_content": null,
            "align_items": null,
            "align_self": null,
            "border": null,
            "bottom": null,
            "display": null,
            "flex": null,
            "flex_flow": null,
            "grid_area": null,
            "grid_auto_columns": null,
            "grid_auto_flow": null,
            "grid_auto_rows": null,
            "grid_column": null,
            "grid_gap": null,
            "grid_row": null,
            "grid_template_areas": null,
            "grid_template_columns": null,
            "grid_template_rows": null,
            "height": null,
            "justify_content": null,
            "justify_items": null,
            "left": null,
            "margin": null,
            "max_height": null,
            "max_width": null,
            "min_height": null,
            "min_width": null,
            "object_fit": null,
            "object_position": null,
            "order": null,
            "overflow": null,
            "overflow_x": null,
            "overflow_y": null,
            "padding": null,
            "right": null,
            "top": null,
            "visibility": null,
            "width": null
          }
        },
        "3d3711b78db24c699cd7ce143c43df86": {
          "model_module": "@jupyter-widgets/controls",
          "model_name": "DescriptionStyleModel",
          "model_module_version": "1.5.0",
          "state": {
            "_model_module": "@jupyter-widgets/controls",
            "_model_module_version": "1.5.0",
            "_model_name": "DescriptionStyleModel",
            "_view_count": null,
            "_view_module": "@jupyter-widgets/base",
            "_view_module_version": "1.2.0",
            "_view_name": "StyleView",
            "description_width": ""
          }
        },
        "a30a0a6bd90241a89d65247bfcd3d8b2": {
          "model_module": "@jupyter-widgets/controls",
          "model_name": "HBoxModel",
          "model_module_version": "1.5.0",
          "state": {
            "_dom_classes": [],
            "_model_module": "@jupyter-widgets/controls",
            "_model_module_version": "1.5.0",
            "_model_name": "HBoxModel",
            "_view_count": null,
            "_view_module": "@jupyter-widgets/controls",
            "_view_module_version": "1.5.0",
            "_view_name": "HBoxView",
            "box_style": "",
            "children": [
              "IPY_MODEL_21e5b233d77e4b26886bec368062a1b6",
              "IPY_MODEL_6625bbe2c5094f41b7364823f62fc9f0",
              "IPY_MODEL_125e7b7e39b34fc2b065642b63c68c48"
            ],
            "layout": "IPY_MODEL_e0c4cca654264fa59a56c205c8a2014c"
          }
        },
        "21e5b233d77e4b26886bec368062a1b6": {
          "model_module": "@jupyter-widgets/controls",
          "model_name": "HTMLModel",
          "model_module_version": "1.5.0",
          "state": {
            "_dom_classes": [],
            "_model_module": "@jupyter-widgets/controls",
            "_model_module_version": "1.5.0",
            "_model_name": "HTMLModel",
            "_view_count": null,
            "_view_module": "@jupyter-widgets/controls",
            "_view_module_version": "1.5.0",
            "_view_name": "HTMLView",
            "description": "",
            "description_tooltip": null,
            "layout": "IPY_MODEL_c308d45e98d54da2a30e1e083c0a869d",
            "placeholder": "​",
            "style": "IPY_MODEL_0a73dfafb4034aa6b0cfa16f6b52f837",
            "value": "special_tokens_map.json: 100%"
          }
        },
        "6625bbe2c5094f41b7364823f62fc9f0": {
          "model_module": "@jupyter-widgets/controls",
          "model_name": "FloatProgressModel",
          "model_module_version": "1.5.0",
          "state": {
            "_dom_classes": [],
            "_model_module": "@jupyter-widgets/controls",
            "_model_module_version": "1.5.0",
            "_model_name": "FloatProgressModel",
            "_view_count": null,
            "_view_module": "@jupyter-widgets/controls",
            "_view_module_version": "1.5.0",
            "_view_name": "ProgressView",
            "bar_style": "success",
            "description": "",
            "description_tooltip": null,
            "layout": "IPY_MODEL_e4691f0f676247f9aebed9866c52da81",
            "max": 614,
            "min": 0,
            "orientation": "horizontal",
            "style": "IPY_MODEL_30703027e20c4927a7f376a05c83bad2",
            "value": 614
          }
        },
        "125e7b7e39b34fc2b065642b63c68c48": {
          "model_module": "@jupyter-widgets/controls",
          "model_name": "HTMLModel",
          "model_module_version": "1.5.0",
          "state": {
            "_dom_classes": [],
            "_model_module": "@jupyter-widgets/controls",
            "_model_module_version": "1.5.0",
            "_model_name": "HTMLModel",
            "_view_count": null,
            "_view_module": "@jupyter-widgets/controls",
            "_view_module_version": "1.5.0",
            "_view_name": "HTMLView",
            "description": "",
            "description_tooltip": null,
            "layout": "IPY_MODEL_743d0ac80b6a42eba061b8c76138d829",
            "placeholder": "​",
            "style": "IPY_MODEL_c96fff87be644026bbcc59ee52e3f4cd",
            "value": " 614/614 [00:00&lt;00:00, 71.0kB/s]"
          }
        },
        "e0c4cca654264fa59a56c205c8a2014c": {
          "model_module": "@jupyter-widgets/base",
          "model_name": "LayoutModel",
          "model_module_version": "1.2.0",
          "state": {
            "_model_module": "@jupyter-widgets/base",
            "_model_module_version": "1.2.0",
            "_model_name": "LayoutModel",
            "_view_count": null,
            "_view_module": "@jupyter-widgets/base",
            "_view_module_version": "1.2.0",
            "_view_name": "LayoutView",
            "align_content": null,
            "align_items": null,
            "align_self": null,
            "border": null,
            "bottom": null,
            "display": null,
            "flex": null,
            "flex_flow": null,
            "grid_area": null,
            "grid_auto_columns": null,
            "grid_auto_flow": null,
            "grid_auto_rows": null,
            "grid_column": null,
            "grid_gap": null,
            "grid_row": null,
            "grid_template_areas": null,
            "grid_template_columns": null,
            "grid_template_rows": null,
            "height": null,
            "justify_content": null,
            "justify_items": null,
            "left": null,
            "margin": null,
            "max_height": null,
            "max_width": null,
            "min_height": null,
            "min_width": null,
            "object_fit": null,
            "object_position": null,
            "order": null,
            "overflow": null,
            "overflow_x": null,
            "overflow_y": null,
            "padding": null,
            "right": null,
            "top": null,
            "visibility": null,
            "width": null
          }
        },
        "c308d45e98d54da2a30e1e083c0a869d": {
          "model_module": "@jupyter-widgets/base",
          "model_name": "LayoutModel",
          "model_module_version": "1.2.0",
          "state": {
            "_model_module": "@jupyter-widgets/base",
            "_model_module_version": "1.2.0",
            "_model_name": "LayoutModel",
            "_view_count": null,
            "_view_module": "@jupyter-widgets/base",
            "_view_module_version": "1.2.0",
            "_view_name": "LayoutView",
            "align_content": null,
            "align_items": null,
            "align_self": null,
            "border": null,
            "bottom": null,
            "display": null,
            "flex": null,
            "flex_flow": null,
            "grid_area": null,
            "grid_auto_columns": null,
            "grid_auto_flow": null,
            "grid_auto_rows": null,
            "grid_column": null,
            "grid_gap": null,
            "grid_row": null,
            "grid_template_areas": null,
            "grid_template_columns": null,
            "grid_template_rows": null,
            "height": null,
            "justify_content": null,
            "justify_items": null,
            "left": null,
            "margin": null,
            "max_height": null,
            "max_width": null,
            "min_height": null,
            "min_width": null,
            "object_fit": null,
            "object_position": null,
            "order": null,
            "overflow": null,
            "overflow_x": null,
            "overflow_y": null,
            "padding": null,
            "right": null,
            "top": null,
            "visibility": null,
            "width": null
          }
        },
        "0a73dfafb4034aa6b0cfa16f6b52f837": {
          "model_module": "@jupyter-widgets/controls",
          "model_name": "DescriptionStyleModel",
          "model_module_version": "1.5.0",
          "state": {
            "_model_module": "@jupyter-widgets/controls",
            "_model_module_version": "1.5.0",
            "_model_name": "DescriptionStyleModel",
            "_view_count": null,
            "_view_module": "@jupyter-widgets/base",
            "_view_module_version": "1.2.0",
            "_view_name": "StyleView",
            "description_width": ""
          }
        },
        "e4691f0f676247f9aebed9866c52da81": {
          "model_module": "@jupyter-widgets/base",
          "model_name": "LayoutModel",
          "model_module_version": "1.2.0",
          "state": {
            "_model_module": "@jupyter-widgets/base",
            "_model_module_version": "1.2.0",
            "_model_name": "LayoutModel",
            "_view_count": null,
            "_view_module": "@jupyter-widgets/base",
            "_view_module_version": "1.2.0",
            "_view_name": "LayoutView",
            "align_content": null,
            "align_items": null,
            "align_self": null,
            "border": null,
            "bottom": null,
            "display": null,
            "flex": null,
            "flex_flow": null,
            "grid_area": null,
            "grid_auto_columns": null,
            "grid_auto_flow": null,
            "grid_auto_rows": null,
            "grid_column": null,
            "grid_gap": null,
            "grid_row": null,
            "grid_template_areas": null,
            "grid_template_columns": null,
            "grid_template_rows": null,
            "height": null,
            "justify_content": null,
            "justify_items": null,
            "left": null,
            "margin": null,
            "max_height": null,
            "max_width": null,
            "min_height": null,
            "min_width": null,
            "object_fit": null,
            "object_position": null,
            "order": null,
            "overflow": null,
            "overflow_x": null,
            "overflow_y": null,
            "padding": null,
            "right": null,
            "top": null,
            "visibility": null,
            "width": null
          }
        },
        "30703027e20c4927a7f376a05c83bad2": {
          "model_module": "@jupyter-widgets/controls",
          "model_name": "ProgressStyleModel",
          "model_module_version": "1.5.0",
          "state": {
            "_model_module": "@jupyter-widgets/controls",
            "_model_module_version": "1.5.0",
            "_model_name": "ProgressStyleModel",
            "_view_count": null,
            "_view_module": "@jupyter-widgets/base",
            "_view_module_version": "1.2.0",
            "_view_name": "StyleView",
            "bar_color": null,
            "description_width": ""
          }
        },
        "743d0ac80b6a42eba061b8c76138d829": {
          "model_module": "@jupyter-widgets/base",
          "model_name": "LayoutModel",
          "model_module_version": "1.2.0",
          "state": {
            "_model_module": "@jupyter-widgets/base",
            "_model_module_version": "1.2.0",
            "_model_name": "LayoutModel",
            "_view_count": null,
            "_view_module": "@jupyter-widgets/base",
            "_view_module_version": "1.2.0",
            "_view_name": "LayoutView",
            "align_content": null,
            "align_items": null,
            "align_self": null,
            "border": null,
            "bottom": null,
            "display": null,
            "flex": null,
            "flex_flow": null,
            "grid_area": null,
            "grid_auto_columns": null,
            "grid_auto_flow": null,
            "grid_auto_rows": null,
            "grid_column": null,
            "grid_gap": null,
            "grid_row": null,
            "grid_template_areas": null,
            "grid_template_columns": null,
            "grid_template_rows": null,
            "height": null,
            "justify_content": null,
            "justify_items": null,
            "left": null,
            "margin": null,
            "max_height": null,
            "max_width": null,
            "min_height": null,
            "min_width": null,
            "object_fit": null,
            "object_position": null,
            "order": null,
            "overflow": null,
            "overflow_x": null,
            "overflow_y": null,
            "padding": null,
            "right": null,
            "top": null,
            "visibility": null,
            "width": null
          }
        },
        "c96fff87be644026bbcc59ee52e3f4cd": {
          "model_module": "@jupyter-widgets/controls",
          "model_name": "DescriptionStyleModel",
          "model_module_version": "1.5.0",
          "state": {
            "_model_module": "@jupyter-widgets/controls",
            "_model_module_version": "1.5.0",
            "_model_name": "DescriptionStyleModel",
            "_view_count": null,
            "_view_module": "@jupyter-widgets/base",
            "_view_module_version": "1.2.0",
            "_view_name": "StyleView",
            "description_width": ""
          }
        },
        "99b0d7ccc0fc489e8c2c0937ca7df914": {
          "model_module": "@jupyter-widgets/controls",
          "model_name": "HBoxModel",
          "model_module_version": "1.5.0",
          "state": {
            "_dom_classes": [],
            "_model_module": "@jupyter-widgets/controls",
            "_model_module_version": "1.5.0",
            "_model_name": "HBoxModel",
            "_view_count": null,
            "_view_module": "@jupyter-widgets/controls",
            "_view_module_version": "1.5.0",
            "_view_name": "HBoxView",
            "box_style": "",
            "children": [
              "IPY_MODEL_3dbd03010d5f462684af1c07b8f9cae3",
              "IPY_MODEL_7b14c6cea3f44a9eb34d639453244321",
              "IPY_MODEL_c0791b20116f466dbf910507780e2f52"
            ],
            "layout": "IPY_MODEL_7b8aa023f79943fd9c5ec1f3f0cee580"
          }
        },
        "3dbd03010d5f462684af1c07b8f9cae3": {
          "model_module": "@jupyter-widgets/controls",
          "model_name": "HTMLModel",
          "model_module_version": "1.5.0",
          "state": {
            "_dom_classes": [],
            "_model_module": "@jupyter-widgets/controls",
            "_model_module_version": "1.5.0",
            "_model_name": "HTMLModel",
            "_view_count": null,
            "_view_module": "@jupyter-widgets/controls",
            "_view_module_version": "1.5.0",
            "_view_name": "HTMLView",
            "description": "",
            "description_tooltip": null,
            "layout": "IPY_MODEL_feaafb3ef2574b35942ebb6484eae458",
            "placeholder": "​",
            "style": "IPY_MODEL_40116f790b6144b99d1c28ea5bc8f783",
            "value": "chat_template.jinja: "
          }
        },
        "7b14c6cea3f44a9eb34d639453244321": {
          "model_module": "@jupyter-widgets/controls",
          "model_name": "FloatProgressModel",
          "model_module_version": "1.5.0",
          "state": {
            "_dom_classes": [],
            "_model_module": "@jupyter-widgets/controls",
            "_model_module_version": "1.5.0",
            "_model_name": "FloatProgressModel",
            "_view_count": null,
            "_view_module": "@jupyter-widgets/controls",
            "_view_module_version": "1.5.0",
            "_view_name": "ProgressView",
            "bar_style": "success",
            "description": "",
            "description_tooltip": null,
            "layout": "IPY_MODEL_3b989d841d5545f0bbddebfc6c99ae84",
            "max": 1,
            "min": 0,
            "orientation": "horizontal",
            "style": "IPY_MODEL_29d962374215460f98dbd227823bd6f8",
            "value": 1
          }
        },
        "c0791b20116f466dbf910507780e2f52": {
          "model_module": "@jupyter-widgets/controls",
          "model_name": "HTMLModel",
          "model_module_version": "1.5.0",
          "state": {
            "_dom_classes": [],
            "_model_module": "@jupyter-widgets/controls",
            "_model_module_version": "1.5.0",
            "_model_name": "HTMLModel",
            "_view_count": null,
            "_view_module": "@jupyter-widgets/controls",
            "_view_module_version": "1.5.0",
            "_view_name": "HTMLView",
            "description": "",
            "description_tooltip": null,
            "layout": "IPY_MODEL_671aa5d6706342858f1457b5fb16a658",
            "placeholder": "​",
            "style": "IPY_MODEL_1b18079f47dd43428b1ac21d09510bee",
            "value": " 4.76k/? [00:00&lt;00:00, 514kB/s]"
          }
        },
        "7b8aa023f79943fd9c5ec1f3f0cee580": {
          "model_module": "@jupyter-widgets/base",
          "model_name": "LayoutModel",
          "model_module_version": "1.2.0",
          "state": {
            "_model_module": "@jupyter-widgets/base",
            "_model_module_version": "1.2.0",
            "_model_name": "LayoutModel",
            "_view_count": null,
            "_view_module": "@jupyter-widgets/base",
            "_view_module_version": "1.2.0",
            "_view_name": "LayoutView",
            "align_content": null,
            "align_items": null,
            "align_self": null,
            "border": null,
            "bottom": null,
            "display": null,
            "flex": null,
            "flex_flow": null,
            "grid_area": null,
            "grid_auto_columns": null,
            "grid_auto_flow": null,
            "grid_auto_rows": null,
            "grid_column": null,
            "grid_gap": null,
            "grid_row": null,
            "grid_template_areas": null,
            "grid_template_columns": null,
            "grid_template_rows": null,
            "height": null,
            "justify_content": null,
            "justify_items": null,
            "left": null,
            "margin": null,
            "max_height": null,
            "max_width": null,
            "min_height": null,
            "min_width": null,
            "object_fit": null,
            "object_position": null,
            "order": null,
            "overflow": null,
            "overflow_x": null,
            "overflow_y": null,
            "padding": null,
            "right": null,
            "top": null,
            "visibility": null,
            "width": null
          }
        },
        "feaafb3ef2574b35942ebb6484eae458": {
          "model_module": "@jupyter-widgets/base",
          "model_name": "LayoutModel",
          "model_module_version": "1.2.0",
          "state": {
            "_model_module": "@jupyter-widgets/base",
            "_model_module_version": "1.2.0",
            "_model_name": "LayoutModel",
            "_view_count": null,
            "_view_module": "@jupyter-widgets/base",
            "_view_module_version": "1.2.0",
            "_view_name": "LayoutView",
            "align_content": null,
            "align_items": null,
            "align_self": null,
            "border": null,
            "bottom": null,
            "display": null,
            "flex": null,
            "flex_flow": null,
            "grid_area": null,
            "grid_auto_columns": null,
            "grid_auto_flow": null,
            "grid_auto_rows": null,
            "grid_column": null,
            "grid_gap": null,
            "grid_row": null,
            "grid_template_areas": null,
            "grid_template_columns": null,
            "grid_template_rows": null,
            "height": null,
            "justify_content": null,
            "justify_items": null,
            "left": null,
            "margin": null,
            "max_height": null,
            "max_width": null,
            "min_height": null,
            "min_width": null,
            "object_fit": null,
            "object_position": null,
            "order": null,
            "overflow": null,
            "overflow_x": null,
            "overflow_y": null,
            "padding": null,
            "right": null,
            "top": null,
            "visibility": null,
            "width": null
          }
        },
        "40116f790b6144b99d1c28ea5bc8f783": {
          "model_module": "@jupyter-widgets/controls",
          "model_name": "DescriptionStyleModel",
          "model_module_version": "1.5.0",
          "state": {
            "_model_module": "@jupyter-widgets/controls",
            "_model_module_version": "1.5.0",
            "_model_name": "DescriptionStyleModel",
            "_view_count": null,
            "_view_module": "@jupyter-widgets/base",
            "_view_module_version": "1.2.0",
            "_view_name": "StyleView",
            "description_width": ""
          }
        },
        "3b989d841d5545f0bbddebfc6c99ae84": {
          "model_module": "@jupyter-widgets/base",
          "model_name": "LayoutModel",
          "model_module_version": "1.2.0",
          "state": {
            "_model_module": "@jupyter-widgets/base",
            "_model_module_version": "1.2.0",
            "_model_name": "LayoutModel",
            "_view_count": null,
            "_view_module": "@jupyter-widgets/base",
            "_view_module_version": "1.2.0",
            "_view_name": "LayoutView",
            "align_content": null,
            "align_items": null,
            "align_self": null,
            "border": null,
            "bottom": null,
            "display": null,
            "flex": null,
            "flex_flow": null,
            "grid_area": null,
            "grid_auto_columns": null,
            "grid_auto_flow": null,
            "grid_auto_rows": null,
            "grid_column": null,
            "grid_gap": null,
            "grid_row": null,
            "grid_template_areas": null,
            "grid_template_columns": null,
            "grid_template_rows": null,
            "height": null,
            "justify_content": null,
            "justify_items": null,
            "left": null,
            "margin": null,
            "max_height": null,
            "max_width": null,
            "min_height": null,
            "min_width": null,
            "object_fit": null,
            "object_position": null,
            "order": null,
            "overflow": null,
            "overflow_x": null,
            "overflow_y": null,
            "padding": null,
            "right": null,
            "top": null,
            "visibility": null,
            "width": "20px"
          }
        },
        "29d962374215460f98dbd227823bd6f8": {
          "model_module": "@jupyter-widgets/controls",
          "model_name": "ProgressStyleModel",
          "model_module_version": "1.5.0",
          "state": {
            "_model_module": "@jupyter-widgets/controls",
            "_model_module_version": "1.5.0",
            "_model_name": "ProgressStyleModel",
            "_view_count": null,
            "_view_module": "@jupyter-widgets/base",
            "_view_module_version": "1.2.0",
            "_view_name": "StyleView",
            "bar_color": null,
            "description_width": ""
          }
        },
        "671aa5d6706342858f1457b5fb16a658": {
          "model_module": "@jupyter-widgets/base",
          "model_name": "LayoutModel",
          "model_module_version": "1.2.0",
          "state": {
            "_model_module": "@jupyter-widgets/base",
            "_model_module_version": "1.2.0",
            "_model_name": "LayoutModel",
            "_view_count": null,
            "_view_module": "@jupyter-widgets/base",
            "_view_module_version": "1.2.0",
            "_view_name": "LayoutView",
            "align_content": null,
            "align_items": null,
            "align_self": null,
            "border": null,
            "bottom": null,
            "display": null,
            "flex": null,
            "flex_flow": null,
            "grid_area": null,
            "grid_auto_columns": null,
            "grid_auto_flow": null,
            "grid_auto_rows": null,
            "grid_column": null,
            "grid_gap": null,
            "grid_row": null,
            "grid_template_areas": null,
            "grid_template_columns": null,
            "grid_template_rows": null,
            "height": null,
            "justify_content": null,
            "justify_items": null,
            "left": null,
            "margin": null,
            "max_height": null,
            "max_width": null,
            "min_height": null,
            "min_width": null,
            "object_fit": null,
            "object_position": null,
            "order": null,
            "overflow": null,
            "overflow_x": null,
            "overflow_y": null,
            "padding": null,
            "right": null,
            "top": null,
            "visibility": null,
            "width": null
          }
        },
        "1b18079f47dd43428b1ac21d09510bee": {
          "model_module": "@jupyter-widgets/controls",
          "model_name": "DescriptionStyleModel",
          "model_module_version": "1.5.0",
          "state": {
            "_model_module": "@jupyter-widgets/controls",
            "_model_module_version": "1.5.0",
            "_model_name": "DescriptionStyleModel",
            "_view_count": null,
            "_view_module": "@jupyter-widgets/base",
            "_view_module_version": "1.2.0",
            "_view_name": "StyleView",
            "description_width": ""
          }
        },
        "af284b6613a948a9a51f167f9b9796ba": {
          "model_module": "@jupyter-widgets/controls",
          "model_name": "HBoxModel",
          "model_module_version": "1.5.0",
          "state": {
            "_dom_classes": [],
            "_model_module": "@jupyter-widgets/controls",
            "_model_module_version": "1.5.0",
            "_model_name": "HBoxModel",
            "_view_count": null,
            "_view_module": "@jupyter-widgets/controls",
            "_view_module_version": "1.5.0",
            "_view_name": "HBoxView",
            "box_style": "",
            "children": [
              "IPY_MODEL_6be167be44654f10999f25bfa7e04ba4",
              "IPY_MODEL_1900c35761964413aca6ac493837761d",
              "IPY_MODEL_322a9fc46aac4ae985b4f21f0f48dad8"
            ],
            "layout": "IPY_MODEL_8bc286fbd1fd4e618fb2d63d649318f0"
          }
        },
        "6be167be44654f10999f25bfa7e04ba4": {
          "model_module": "@jupyter-widgets/controls",
          "model_name": "HTMLModel",
          "model_module_version": "1.5.0",
          "state": {
            "_dom_classes": [],
            "_model_module": "@jupyter-widgets/controls",
            "_model_module_version": "1.5.0",
            "_model_name": "HTMLModel",
            "_view_count": null,
            "_view_module": "@jupyter-widgets/controls",
            "_view_module_version": "1.5.0",
            "_view_name": "HTMLView",
            "description": "",
            "description_tooltip": null,
            "layout": "IPY_MODEL_36e68638b40043e28f223b0c8cb452ba",
            "placeholder": "​",
            "style": "IPY_MODEL_fb1f94d8170946318affd2918350f9d1",
            "value": "config.json: 100%"
          }
        },
        "1900c35761964413aca6ac493837761d": {
          "model_module": "@jupyter-widgets/controls",
          "model_name": "FloatProgressModel",
          "model_module_version": "1.5.0",
          "state": {
            "_dom_classes": [],
            "_model_module": "@jupyter-widgets/controls",
            "_model_module_version": "1.5.0",
            "_model_name": "FloatProgressModel",
            "_view_count": null,
            "_view_module": "@jupyter-widgets/controls",
            "_view_module_version": "1.5.0",
            "_view_name": "ProgressView",
            "bar_style": "success",
            "description": "",
            "description_tooltip": null,
            "layout": "IPY_MODEL_8daf4deba0914640be353ac7279da72c",
            "max": 754,
            "min": 0,
            "orientation": "horizontal",
            "style": "IPY_MODEL_61b2d57641e347369b0c15b7be5e6344",
            "value": 754
          }
        },
        "322a9fc46aac4ae985b4f21f0f48dad8": {
          "model_module": "@jupyter-widgets/controls",
          "model_name": "HTMLModel",
          "model_module_version": "1.5.0",
          "state": {
            "_dom_classes": [],
            "_model_module": "@jupyter-widgets/controls",
            "_model_module_version": "1.5.0",
            "_model_name": "HTMLModel",
            "_view_count": null,
            "_view_module": "@jupyter-widgets/controls",
            "_view_module_version": "1.5.0",
            "_view_name": "HTMLView",
            "description": "",
            "description_tooltip": null,
            "layout": "IPY_MODEL_d37f8a91f9cc4480aedb292fe4901d34",
            "placeholder": "​",
            "style": "IPY_MODEL_5c625aa2c6734c6494e9662ecd343747",
            "value": " 754/754 [00:00&lt;00:00, 86.8kB/s]"
          }
        },
        "8bc286fbd1fd4e618fb2d63d649318f0": {
          "model_module": "@jupyter-widgets/base",
          "model_name": "LayoutModel",
          "model_module_version": "1.2.0",
          "state": {
            "_model_module": "@jupyter-widgets/base",
            "_model_module_version": "1.2.0",
            "_model_name": "LayoutModel",
            "_view_count": null,
            "_view_module": "@jupyter-widgets/base",
            "_view_module_version": "1.2.0",
            "_view_name": "LayoutView",
            "align_content": null,
            "align_items": null,
            "align_self": null,
            "border": null,
            "bottom": null,
            "display": null,
            "flex": null,
            "flex_flow": null,
            "grid_area": null,
            "grid_auto_columns": null,
            "grid_auto_flow": null,
            "grid_auto_rows": null,
            "grid_column": null,
            "grid_gap": null,
            "grid_row": null,
            "grid_template_areas": null,
            "grid_template_columns": null,
            "grid_template_rows": null,
            "height": null,
            "justify_content": null,
            "justify_items": null,
            "left": null,
            "margin": null,
            "max_height": null,
            "max_width": null,
            "min_height": null,
            "min_width": null,
            "object_fit": null,
            "object_position": null,
            "order": null,
            "overflow": null,
            "overflow_x": null,
            "overflow_y": null,
            "padding": null,
            "right": null,
            "top": null,
            "visibility": null,
            "width": null
          }
        },
        "36e68638b40043e28f223b0c8cb452ba": {
          "model_module": "@jupyter-widgets/base",
          "model_name": "LayoutModel",
          "model_module_version": "1.2.0",
          "state": {
            "_model_module": "@jupyter-widgets/base",
            "_model_module_version": "1.2.0",
            "_model_name": "LayoutModel",
            "_view_count": null,
            "_view_module": "@jupyter-widgets/base",
            "_view_module_version": "1.2.0",
            "_view_name": "LayoutView",
            "align_content": null,
            "align_items": null,
            "align_self": null,
            "border": null,
            "bottom": null,
            "display": null,
            "flex": null,
            "flex_flow": null,
            "grid_area": null,
            "grid_auto_columns": null,
            "grid_auto_flow": null,
            "grid_auto_rows": null,
            "grid_column": null,
            "grid_gap": null,
            "grid_row": null,
            "grid_template_areas": null,
            "grid_template_columns": null,
            "grid_template_rows": null,
            "height": null,
            "justify_content": null,
            "justify_items": null,
            "left": null,
            "margin": null,
            "max_height": null,
            "max_width": null,
            "min_height": null,
            "min_width": null,
            "object_fit": null,
            "object_position": null,
            "order": null,
            "overflow": null,
            "overflow_x": null,
            "overflow_y": null,
            "padding": null,
            "right": null,
            "top": null,
            "visibility": null,
            "width": null
          }
        },
        "fb1f94d8170946318affd2918350f9d1": {
          "model_module": "@jupyter-widgets/controls",
          "model_name": "DescriptionStyleModel",
          "model_module_version": "1.5.0",
          "state": {
            "_model_module": "@jupyter-widgets/controls",
            "_model_module_version": "1.5.0",
            "_model_name": "DescriptionStyleModel",
            "_view_count": null,
            "_view_module": "@jupyter-widgets/base",
            "_view_module_version": "1.2.0",
            "_view_name": "StyleView",
            "description_width": ""
          }
        },
        "8daf4deba0914640be353ac7279da72c": {
          "model_module": "@jupyter-widgets/base",
          "model_name": "LayoutModel",
          "model_module_version": "1.2.0",
          "state": {
            "_model_module": "@jupyter-widgets/base",
            "_model_module_version": "1.2.0",
            "_model_name": "LayoutModel",
            "_view_count": null,
            "_view_module": "@jupyter-widgets/base",
            "_view_module_version": "1.2.0",
            "_view_name": "LayoutView",
            "align_content": null,
            "align_items": null,
            "align_self": null,
            "border": null,
            "bottom": null,
            "display": null,
            "flex": null,
            "flex_flow": null,
            "grid_area": null,
            "grid_auto_columns": null,
            "grid_auto_flow": null,
            "grid_auto_rows": null,
            "grid_column": null,
            "grid_gap": null,
            "grid_row": null,
            "grid_template_areas": null,
            "grid_template_columns": null,
            "grid_template_rows": null,
            "height": null,
            "justify_content": null,
            "justify_items": null,
            "left": null,
            "margin": null,
            "max_height": null,
            "max_width": null,
            "min_height": null,
            "min_width": null,
            "object_fit": null,
            "object_position": null,
            "order": null,
            "overflow": null,
            "overflow_x": null,
            "overflow_y": null,
            "padding": null,
            "right": null,
            "top": null,
            "visibility": null,
            "width": null
          }
        },
        "61b2d57641e347369b0c15b7be5e6344": {
          "model_module": "@jupyter-widgets/controls",
          "model_name": "ProgressStyleModel",
          "model_module_version": "1.5.0",
          "state": {
            "_model_module": "@jupyter-widgets/controls",
            "_model_module_version": "1.5.0",
            "_model_name": "ProgressStyleModel",
            "_view_count": null,
            "_view_module": "@jupyter-widgets/base",
            "_view_module_version": "1.2.0",
            "_view_name": "StyleView",
            "bar_color": null,
            "description_width": ""
          }
        },
        "d37f8a91f9cc4480aedb292fe4901d34": {
          "model_module": "@jupyter-widgets/base",
          "model_name": "LayoutModel",
          "model_module_version": "1.2.0",
          "state": {
            "_model_module": "@jupyter-widgets/base",
            "_model_module_version": "1.2.0",
            "_model_name": "LayoutModel",
            "_view_count": null,
            "_view_module": "@jupyter-widgets/base",
            "_view_module_version": "1.2.0",
            "_view_name": "LayoutView",
            "align_content": null,
            "align_items": null,
            "align_self": null,
            "border": null,
            "bottom": null,
            "display": null,
            "flex": null,
            "flex_flow": null,
            "grid_area": null,
            "grid_auto_columns": null,
            "grid_auto_flow": null,
            "grid_auto_rows": null,
            "grid_column": null,
            "grid_gap": null,
            "grid_row": null,
            "grid_template_areas": null,
            "grid_template_columns": null,
            "grid_template_rows": null,
            "height": null,
            "justify_content": null,
            "justify_items": null,
            "left": null,
            "margin": null,
            "max_height": null,
            "max_width": null,
            "min_height": null,
            "min_width": null,
            "object_fit": null,
            "object_position": null,
            "order": null,
            "overflow": null,
            "overflow_x": null,
            "overflow_y": null,
            "padding": null,
            "right": null,
            "top": null,
            "visibility": null,
            "width": null
          }
        },
        "5c625aa2c6734c6494e9662ecd343747": {
          "model_module": "@jupyter-widgets/controls",
          "model_name": "DescriptionStyleModel",
          "model_module_version": "1.5.0",
          "state": {
            "_model_module": "@jupyter-widgets/controls",
            "_model_module_version": "1.5.0",
            "_model_name": "DescriptionStyleModel",
            "_view_count": null,
            "_view_module": "@jupyter-widgets/base",
            "_view_module_version": "1.2.0",
            "_view_name": "StyleView",
            "description_width": ""
          }
        },
        "f2ea27a0a7e440be993c3b6dc2a4dbbf": {
          "model_module": "@jupyter-widgets/controls",
          "model_name": "HBoxModel",
          "model_module_version": "1.5.0",
          "state": {
            "_dom_classes": [],
            "_model_module": "@jupyter-widgets/controls",
            "_model_module_version": "1.5.0",
            "_model_name": "HBoxModel",
            "_view_count": null,
            "_view_module": "@jupyter-widgets/controls",
            "_view_module_version": "1.5.0",
            "_view_name": "HBoxView",
            "box_style": "",
            "children": [
              "IPY_MODEL_362628a4e41f4d6687a32db6806c8631",
              "IPY_MODEL_20db48cd8d73496490b42d5377e431ab",
              "IPY_MODEL_5f0ae0efc1f047f1b74f1936f95ea8da"
            ],
            "layout": "IPY_MODEL_3124509ed93c454186bfb0a80ac7951d"
          }
        },
        "362628a4e41f4d6687a32db6806c8631": {
          "model_module": "@jupyter-widgets/controls",
          "model_name": "HTMLModel",
          "model_module_version": "1.5.0",
          "state": {
            "_dom_classes": [],
            "_model_module": "@jupyter-widgets/controls",
            "_model_module_version": "1.5.0",
            "_model_name": "HTMLModel",
            "_view_count": null,
            "_view_module": "@jupyter-widgets/controls",
            "_view_module_version": "1.5.0",
            "_view_name": "HTMLView",
            "description": "",
            "description_tooltip": null,
            "layout": "IPY_MODEL_3c519152664e486da9fbb6d1a96b3458",
            "placeholder": "​",
            "style": "IPY_MODEL_05080dafe1aa4441b29b2b5bf867f409",
            "value": "model.safetensors.index.json: "
          }
        },
        "20db48cd8d73496490b42d5377e431ab": {
          "model_module": "@jupyter-widgets/controls",
          "model_name": "FloatProgressModel",
          "model_module_version": "1.5.0",
          "state": {
            "_dom_classes": [],
            "_model_module": "@jupyter-widgets/controls",
            "_model_module_version": "1.5.0",
            "_model_name": "FloatProgressModel",
            "_view_count": null,
            "_view_module": "@jupyter-widgets/controls",
            "_view_module_version": "1.5.0",
            "_view_name": "ProgressView",
            "bar_style": "success",
            "description": "",
            "description_tooltip": null,
            "layout": "IPY_MODEL_f8a74e0c657b4b8ba5f1732f7bf7825e",
            "max": 1,
            "min": 0,
            "orientation": "horizontal",
            "style": "IPY_MODEL_fee3f6b5d8734d9086fd54486598b706",
            "value": 1
          }
        },
        "5f0ae0efc1f047f1b74f1936f95ea8da": {
          "model_module": "@jupyter-widgets/controls",
          "model_name": "HTMLModel",
          "model_module_version": "1.5.0",
          "state": {
            "_dom_classes": [],
            "_model_module": "@jupyter-widgets/controls",
            "_model_module_version": "1.5.0",
            "_model_name": "HTMLModel",
            "_view_count": null,
            "_view_module": "@jupyter-widgets/controls",
            "_view_module_version": "1.5.0",
            "_view_name": "HTMLView",
            "description": "",
            "description_tooltip": null,
            "layout": "IPY_MODEL_71f215a56f014170848c2556d8f3fd52",
            "placeholder": "​",
            "style": "IPY_MODEL_586218bce3224be4896881112b82e1c0",
            "value": " 36.5k/? [00:00&lt;00:00, 4.06MB/s]"
          }
        },
        "3124509ed93c454186bfb0a80ac7951d": {
          "model_module": "@jupyter-widgets/base",
          "model_name": "LayoutModel",
          "model_module_version": "1.2.0",
          "state": {
            "_model_module": "@jupyter-widgets/base",
            "_model_module_version": "1.2.0",
            "_model_name": "LayoutModel",
            "_view_count": null,
            "_view_module": "@jupyter-widgets/base",
            "_view_module_version": "1.2.0",
            "_view_name": "LayoutView",
            "align_content": null,
            "align_items": null,
            "align_self": null,
            "border": null,
            "bottom": null,
            "display": null,
            "flex": null,
            "flex_flow": null,
            "grid_area": null,
            "grid_auto_columns": null,
            "grid_auto_flow": null,
            "grid_auto_rows": null,
            "grid_column": null,
            "grid_gap": null,
            "grid_row": null,
            "grid_template_areas": null,
            "grid_template_columns": null,
            "grid_template_rows": null,
            "height": null,
            "justify_content": null,
            "justify_items": null,
            "left": null,
            "margin": null,
            "max_height": null,
            "max_width": null,
            "min_height": null,
            "min_width": null,
            "object_fit": null,
            "object_position": null,
            "order": null,
            "overflow": null,
            "overflow_x": null,
            "overflow_y": null,
            "padding": null,
            "right": null,
            "top": null,
            "visibility": null,
            "width": null
          }
        },
        "3c519152664e486da9fbb6d1a96b3458": {
          "model_module": "@jupyter-widgets/base",
          "model_name": "LayoutModel",
          "model_module_version": "1.2.0",
          "state": {
            "_model_module": "@jupyter-widgets/base",
            "_model_module_version": "1.2.0",
            "_model_name": "LayoutModel",
            "_view_count": null,
            "_view_module": "@jupyter-widgets/base",
            "_view_module_version": "1.2.0",
            "_view_name": "LayoutView",
            "align_content": null,
            "align_items": null,
            "align_self": null,
            "border": null,
            "bottom": null,
            "display": null,
            "flex": null,
            "flex_flow": null,
            "grid_area": null,
            "grid_auto_columns": null,
            "grid_auto_flow": null,
            "grid_auto_rows": null,
            "grid_column": null,
            "grid_gap": null,
            "grid_row": null,
            "grid_template_areas": null,
            "grid_template_columns": null,
            "grid_template_rows": null,
            "height": null,
            "justify_content": null,
            "justify_items": null,
            "left": null,
            "margin": null,
            "max_height": null,
            "max_width": null,
            "min_height": null,
            "min_width": null,
            "object_fit": null,
            "object_position": null,
            "order": null,
            "overflow": null,
            "overflow_x": null,
            "overflow_y": null,
            "padding": null,
            "right": null,
            "top": null,
            "visibility": null,
            "width": null
          }
        },
        "05080dafe1aa4441b29b2b5bf867f409": {
          "model_module": "@jupyter-widgets/controls",
          "model_name": "DescriptionStyleModel",
          "model_module_version": "1.5.0",
          "state": {
            "_model_module": "@jupyter-widgets/controls",
            "_model_module_version": "1.5.0",
            "_model_name": "DescriptionStyleModel",
            "_view_count": null,
            "_view_module": "@jupyter-widgets/base",
            "_view_module_version": "1.2.0",
            "_view_name": "StyleView",
            "description_width": ""
          }
        },
        "f8a74e0c657b4b8ba5f1732f7bf7825e": {
          "model_module": "@jupyter-widgets/base",
          "model_name": "LayoutModel",
          "model_module_version": "1.2.0",
          "state": {
            "_model_module": "@jupyter-widgets/base",
            "_model_module_version": "1.2.0",
            "_model_name": "LayoutModel",
            "_view_count": null,
            "_view_module": "@jupyter-widgets/base",
            "_view_module_version": "1.2.0",
            "_view_name": "LayoutView",
            "align_content": null,
            "align_items": null,
            "align_self": null,
            "border": null,
            "bottom": null,
            "display": null,
            "flex": null,
            "flex_flow": null,
            "grid_area": null,
            "grid_auto_columns": null,
            "grid_auto_flow": null,
            "grid_auto_rows": null,
            "grid_column": null,
            "grid_gap": null,
            "grid_row": null,
            "grid_template_areas": null,
            "grid_template_columns": null,
            "grid_template_rows": null,
            "height": null,
            "justify_content": null,
            "justify_items": null,
            "left": null,
            "margin": null,
            "max_height": null,
            "max_width": null,
            "min_height": null,
            "min_width": null,
            "object_fit": null,
            "object_position": null,
            "order": null,
            "overflow": null,
            "overflow_x": null,
            "overflow_y": null,
            "padding": null,
            "right": null,
            "top": null,
            "visibility": null,
            "width": "20px"
          }
        },
        "fee3f6b5d8734d9086fd54486598b706": {
          "model_module": "@jupyter-widgets/controls",
          "model_name": "ProgressStyleModel",
          "model_module_version": "1.5.0",
          "state": {
            "_model_module": "@jupyter-widgets/controls",
            "_model_module_version": "1.5.0",
            "_model_name": "ProgressStyleModel",
            "_view_count": null,
            "_view_module": "@jupyter-widgets/base",
            "_view_module_version": "1.2.0",
            "_view_name": "StyleView",
            "bar_color": null,
            "description_width": ""
          }
        },
        "71f215a56f014170848c2556d8f3fd52": {
          "model_module": "@jupyter-widgets/base",
          "model_name": "LayoutModel",
          "model_module_version": "1.2.0",
          "state": {
            "_model_module": "@jupyter-widgets/base",
            "_model_module_version": "1.2.0",
            "_model_name": "LayoutModel",
            "_view_count": null,
            "_view_module": "@jupyter-widgets/base",
            "_view_module_version": "1.2.0",
            "_view_name": "LayoutView",
            "align_content": null,
            "align_items": null,
            "align_self": null,
            "border": null,
            "bottom": null,
            "display": null,
            "flex": null,
            "flex_flow": null,
            "grid_area": null,
            "grid_auto_columns": null,
            "grid_auto_flow": null,
            "grid_auto_rows": null,
            "grid_column": null,
            "grid_gap": null,
            "grid_row": null,
            "grid_template_areas": null,
            "grid_template_columns": null,
            "grid_template_rows": null,
            "height": null,
            "justify_content": null,
            "justify_items": null,
            "left": null,
            "margin": null,
            "max_height": null,
            "max_width": null,
            "min_height": null,
            "min_width": null,
            "object_fit": null,
            "object_position": null,
            "order": null,
            "overflow": null,
            "overflow_x": null,
            "overflow_y": null,
            "padding": null,
            "right": null,
            "top": null,
            "visibility": null,
            "width": null
          }
        },
        "586218bce3224be4896881112b82e1c0": {
          "model_module": "@jupyter-widgets/controls",
          "model_name": "DescriptionStyleModel",
          "model_module_version": "1.5.0",
          "state": {
            "_model_module": "@jupyter-widgets/controls",
            "_model_module_version": "1.5.0",
            "_model_name": "DescriptionStyleModel",
            "_view_count": null,
            "_view_module": "@jupyter-widgets/base",
            "_view_module_version": "1.2.0",
            "_view_name": "StyleView",
            "description_width": ""
          }
        },
        "0c0ceed2ad804dd2800dfed2b0f36120": {
          "model_module": "@jupyter-widgets/controls",
          "model_name": "HBoxModel",
          "model_module_version": "1.5.0",
          "state": {
            "_dom_classes": [],
            "_model_module": "@jupyter-widgets/controls",
            "_model_module_version": "1.5.0",
            "_model_name": "HBoxModel",
            "_view_count": null,
            "_view_module": "@jupyter-widgets/controls",
            "_view_module_version": "1.5.0",
            "_view_name": "HBoxView",
            "box_style": "",
            "children": [
              "IPY_MODEL_3e848dffc6da4b52911276873e20ddbd",
              "IPY_MODEL_4c8aee787b1248eeb0934dd35f0c9230",
              "IPY_MODEL_b90788ca7c624e6ba56dcbb30adf22d5"
            ],
            "layout": "IPY_MODEL_d2eb047222c044fbb9e12999060040a9"
          }
        },
        "3e848dffc6da4b52911276873e20ddbd": {
          "model_module": "@jupyter-widgets/controls",
          "model_name": "HTMLModel",
          "model_module_version": "1.5.0",
          "state": {
            "_dom_classes": [],
            "_model_module": "@jupyter-widgets/controls",
            "_model_module_version": "1.5.0",
            "_model_name": "HTMLModel",
            "_view_count": null,
            "_view_module": "@jupyter-widgets/controls",
            "_view_module_version": "1.5.0",
            "_view_name": "HTMLView",
            "description": "",
            "description_tooltip": null,
            "layout": "IPY_MODEL_a3a68cd376994c89818014643bec478b",
            "placeholder": "​",
            "style": "IPY_MODEL_417a3723e6fe4a47ba7673dead5040fe",
            "value": "Fetching 6 files: 100%"
          }
        },
        "4c8aee787b1248eeb0934dd35f0c9230": {
          "model_module": "@jupyter-widgets/controls",
          "model_name": "FloatProgressModel",
          "model_module_version": "1.5.0",
          "state": {
            "_dom_classes": [],
            "_model_module": "@jupyter-widgets/controls",
            "_model_module_version": "1.5.0",
            "_model_name": "FloatProgressModel",
            "_view_count": null,
            "_view_module": "@jupyter-widgets/controls",
            "_view_module_version": "1.5.0",
            "_view_name": "ProgressView",
            "bar_style": "success",
            "description": "",
            "description_tooltip": null,
            "layout": "IPY_MODEL_2a271452cc3e441cb61b6adc5bfbec2b",
            "max": 6,
            "min": 0,
            "orientation": "horizontal",
            "style": "IPY_MODEL_f73a90c7e6bb46e8ae7e542ba582dbab",
            "value": 6
          }
        },
        "b90788ca7c624e6ba56dcbb30adf22d5": {
          "model_module": "@jupyter-widgets/controls",
          "model_name": "HTMLModel",
          "model_module_version": "1.5.0",
          "state": {
            "_dom_classes": [],
            "_model_module": "@jupyter-widgets/controls",
            "_model_module_version": "1.5.0",
            "_model_name": "HTMLModel",
            "_view_count": null,
            "_view_module": "@jupyter-widgets/controls",
            "_view_module_version": "1.5.0",
            "_view_name": "HTMLView",
            "description": "",
            "description_tooltip": null,
            "layout": "IPY_MODEL_cd4d64a688b942fa9c00a15df6ef120d",
            "placeholder": "​",
            "style": "IPY_MODEL_72a8fceae547436789fb7a9265ee74fe",
            "value": " 6/6 [03:16&lt;00:00, 51.98s/it]"
          }
        },
        "d2eb047222c044fbb9e12999060040a9": {
          "model_module": "@jupyter-widgets/base",
          "model_name": "LayoutModel",
          "model_module_version": "1.2.0",
          "state": {
            "_model_module": "@jupyter-widgets/base",
            "_model_module_version": "1.2.0",
            "_model_name": "LayoutModel",
            "_view_count": null,
            "_view_module": "@jupyter-widgets/base",
            "_view_module_version": "1.2.0",
            "_view_name": "LayoutView",
            "align_content": null,
            "align_items": null,
            "align_self": null,
            "border": null,
            "bottom": null,
            "display": null,
            "flex": null,
            "flex_flow": null,
            "grid_area": null,
            "grid_auto_columns": null,
            "grid_auto_flow": null,
            "grid_auto_rows": null,
            "grid_column": null,
            "grid_gap": null,
            "grid_row": null,
            "grid_template_areas": null,
            "grid_template_columns": null,
            "grid_template_rows": null,
            "height": null,
            "justify_content": null,
            "justify_items": null,
            "left": null,
            "margin": null,
            "max_height": null,
            "max_width": null,
            "min_height": null,
            "min_width": null,
            "object_fit": null,
            "object_position": null,
            "order": null,
            "overflow": null,
            "overflow_x": null,
            "overflow_y": null,
            "padding": null,
            "right": null,
            "top": null,
            "visibility": null,
            "width": null
          }
        },
        "a3a68cd376994c89818014643bec478b": {
          "model_module": "@jupyter-widgets/base",
          "model_name": "LayoutModel",
          "model_module_version": "1.2.0",
          "state": {
            "_model_module": "@jupyter-widgets/base",
            "_model_module_version": "1.2.0",
            "_model_name": "LayoutModel",
            "_view_count": null,
            "_view_module": "@jupyter-widgets/base",
            "_view_module_version": "1.2.0",
            "_view_name": "LayoutView",
            "align_content": null,
            "align_items": null,
            "align_self": null,
            "border": null,
            "bottom": null,
            "display": null,
            "flex": null,
            "flex_flow": null,
            "grid_area": null,
            "grid_auto_columns": null,
            "grid_auto_flow": null,
            "grid_auto_rows": null,
            "grid_column": null,
            "grid_gap": null,
            "grid_row": null,
            "grid_template_areas": null,
            "grid_template_columns": null,
            "grid_template_rows": null,
            "height": null,
            "justify_content": null,
            "justify_items": null,
            "left": null,
            "margin": null,
            "max_height": null,
            "max_width": null,
            "min_height": null,
            "min_width": null,
            "object_fit": null,
            "object_position": null,
            "order": null,
            "overflow": null,
            "overflow_x": null,
            "overflow_y": null,
            "padding": null,
            "right": null,
            "top": null,
            "visibility": null,
            "width": null
          }
        },
        "417a3723e6fe4a47ba7673dead5040fe": {
          "model_module": "@jupyter-widgets/controls",
          "model_name": "DescriptionStyleModel",
          "model_module_version": "1.5.0",
          "state": {
            "_model_module": "@jupyter-widgets/controls",
            "_model_module_version": "1.5.0",
            "_model_name": "DescriptionStyleModel",
            "_view_count": null,
            "_view_module": "@jupyter-widgets/base",
            "_view_module_version": "1.2.0",
            "_view_name": "StyleView",
            "description_width": ""
          }
        },
        "2a271452cc3e441cb61b6adc5bfbec2b": {
          "model_module": "@jupyter-widgets/base",
          "model_name": "LayoutModel",
          "model_module_version": "1.2.0",
          "state": {
            "_model_module": "@jupyter-widgets/base",
            "_model_module_version": "1.2.0",
            "_model_name": "LayoutModel",
            "_view_count": null,
            "_view_module": "@jupyter-widgets/base",
            "_view_module_version": "1.2.0",
            "_view_name": "LayoutView",
            "align_content": null,
            "align_items": null,
            "align_self": null,
            "border": null,
            "bottom": null,
            "display": null,
            "flex": null,
            "flex_flow": null,
            "grid_area": null,
            "grid_auto_columns": null,
            "grid_auto_flow": null,
            "grid_auto_rows": null,
            "grid_column": null,
            "grid_gap": null,
            "grid_row": null,
            "grid_template_areas": null,
            "grid_template_columns": null,
            "grid_template_rows": null,
            "height": null,
            "justify_content": null,
            "justify_items": null,
            "left": null,
            "margin": null,
            "max_height": null,
            "max_width": null,
            "min_height": null,
            "min_width": null,
            "object_fit": null,
            "object_position": null,
            "order": null,
            "overflow": null,
            "overflow_x": null,
            "overflow_y": null,
            "padding": null,
            "right": null,
            "top": null,
            "visibility": null,
            "width": null
          }
        },
        "f73a90c7e6bb46e8ae7e542ba582dbab": {
          "model_module": "@jupyter-widgets/controls",
          "model_name": "ProgressStyleModel",
          "model_module_version": "1.5.0",
          "state": {
            "_model_module": "@jupyter-widgets/controls",
            "_model_module_version": "1.5.0",
            "_model_name": "ProgressStyleModel",
            "_view_count": null,
            "_view_module": "@jupyter-widgets/base",
            "_view_module_version": "1.2.0",
            "_view_name": "StyleView",
            "bar_color": null,
            "description_width": ""
          }
        },
        "cd4d64a688b942fa9c00a15df6ef120d": {
          "model_module": "@jupyter-widgets/base",
          "model_name": "LayoutModel",
          "model_module_version": "1.2.0",
          "state": {
            "_model_module": "@jupyter-widgets/base",
            "_model_module_version": "1.2.0",
            "_model_name": "LayoutModel",
            "_view_count": null,
            "_view_module": "@jupyter-widgets/base",
            "_view_module_version": "1.2.0",
            "_view_name": "LayoutView",
            "align_content": null,
            "align_items": null,
            "align_self": null,
            "border": null,
            "bottom": null,
            "display": null,
            "flex": null,
            "flex_flow": null,
            "grid_area": null,
            "grid_auto_columns": null,
            "grid_auto_flow": null,
            "grid_auto_rows": null,
            "grid_column": null,
            "grid_gap": null,
            "grid_row": null,
            "grid_template_areas": null,
            "grid_template_columns": null,
            "grid_template_rows": null,
            "height": null,
            "justify_content": null,
            "justify_items": null,
            "left": null,
            "margin": null,
            "max_height": null,
            "max_width": null,
            "min_height": null,
            "min_width": null,
            "object_fit": null,
            "object_position": null,
            "order": null,
            "overflow": null,
            "overflow_x": null,
            "overflow_y": null,
            "padding": null,
            "right": null,
            "top": null,
            "visibility": null,
            "width": null
          }
        },
        "72a8fceae547436789fb7a9265ee74fe": {
          "model_module": "@jupyter-widgets/controls",
          "model_name": "DescriptionStyleModel",
          "model_module_version": "1.5.0",
          "state": {
            "_model_module": "@jupyter-widgets/controls",
            "_model_module_version": "1.5.0",
            "_model_name": "DescriptionStyleModel",
            "_view_count": null,
            "_view_module": "@jupyter-widgets/base",
            "_view_module_version": "1.2.0",
            "_view_name": "StyleView",
            "description_width": ""
          }
        },
        "abfec99257a04d669befe54f31c4efde": {
          "model_module": "@jupyter-widgets/controls",
          "model_name": "HBoxModel",
          "model_module_version": "1.5.0",
          "state": {
            "_dom_classes": [],
            "_model_module": "@jupyter-widgets/controls",
            "_model_module_version": "1.5.0",
            "_model_name": "HBoxModel",
            "_view_count": null,
            "_view_module": "@jupyter-widgets/controls",
            "_view_module_version": "1.5.0",
            "_view_name": "HBoxView",
            "box_style": "",
            "children": [
              "IPY_MODEL_05499306a5ba48abad2521a410efe5fd",
              "IPY_MODEL_3b436ce58f3a416384d1351aa6910f4a",
              "IPY_MODEL_61221c3e0e354bacae87742a77b9b752"
            ],
            "layout": "IPY_MODEL_d0b5f2364d99433f80abde7e2d361fe6"
          }
        },
        "05499306a5ba48abad2521a410efe5fd": {
          "model_module": "@jupyter-widgets/controls",
          "model_name": "HTMLModel",
          "model_module_version": "1.5.0",
          "state": {
            "_dom_classes": [],
            "_model_module": "@jupyter-widgets/controls",
            "_model_module_version": "1.5.0",
            "_model_name": "HTMLModel",
            "_view_count": null,
            "_view_module": "@jupyter-widgets/controls",
            "_view_module_version": "1.5.0",
            "_view_name": "HTMLView",
            "description": "",
            "description_tooltip": null,
            "layout": "IPY_MODEL_fbe82315be8a4f9ab3f4038076d7db51",
            "placeholder": "​",
            "style": "IPY_MODEL_3008196dff544eb98b515246ae439f4e",
            "value": "model-00001-of-00006.safetensors: 100%"
          }
        },
        "3b436ce58f3a416384d1351aa6910f4a": {
          "model_module": "@jupyter-widgets/controls",
          "model_name": "FloatProgressModel",
          "model_module_version": "1.5.0",
          "state": {
            "_dom_classes": [],
            "_model_module": "@jupyter-widgets/controls",
            "_model_module_version": "1.5.0",
            "_model_name": "FloatProgressModel",
            "_view_count": null,
            "_view_module": "@jupyter-widgets/controls",
            "_view_module_version": "1.5.0",
            "_view_name": "ProgressView",
            "bar_style": "success",
            "description": "",
            "description_tooltip": null,
            "layout": "IPY_MODEL_da8c046fa50f458886e2f32c16579cf3",
            "max": 4984780784,
            "min": 0,
            "orientation": "horizontal",
            "style": "IPY_MODEL_0caeaf1390cb4dc3b95d1d2755956086",
            "value": 4984780784
          }
        },
        "61221c3e0e354bacae87742a77b9b752": {
          "model_module": "@jupyter-widgets/controls",
          "model_name": "HTMLModel",
          "model_module_version": "1.5.0",
          "state": {
            "_dom_classes": [],
            "_model_module": "@jupyter-widgets/controls",
            "_model_module_version": "1.5.0",
            "_model_name": "HTMLModel",
            "_view_count": null,
            "_view_module": "@jupyter-widgets/controls",
            "_view_module_version": "1.5.0",
            "_view_name": "HTMLView",
            "description": "",
            "description_tooltip": null,
            "layout": "IPY_MODEL_afdf3784f4c94c2a8c440a74e019e37c",
            "placeholder": "​",
            "style": "IPY_MODEL_ce2ef1a0e29e4fe5a2b2fa10a1b6e1bb",
            "value": " 4.98G/4.98G [03:06&lt;00:00, 20.1MB/s]"
          }
        },
        "d0b5f2364d99433f80abde7e2d361fe6": {
          "model_module": "@jupyter-widgets/base",
          "model_name": "LayoutModel",
          "model_module_version": "1.2.0",
          "state": {
            "_model_module": "@jupyter-widgets/base",
            "_model_module_version": "1.2.0",
            "_model_name": "LayoutModel",
            "_view_count": null,
            "_view_module": "@jupyter-widgets/base",
            "_view_module_version": "1.2.0",
            "_view_name": "LayoutView",
            "align_content": null,
            "align_items": null,
            "align_self": null,
            "border": null,
            "bottom": null,
            "display": null,
            "flex": null,
            "flex_flow": null,
            "grid_area": null,
            "grid_auto_columns": null,
            "grid_auto_flow": null,
            "grid_auto_rows": null,
            "grid_column": null,
            "grid_gap": null,
            "grid_row": null,
            "grid_template_areas": null,
            "grid_template_columns": null,
            "grid_template_rows": null,
            "height": null,
            "justify_content": null,
            "justify_items": null,
            "left": null,
            "margin": null,
            "max_height": null,
            "max_width": null,
            "min_height": null,
            "min_width": null,
            "object_fit": null,
            "object_position": null,
            "order": null,
            "overflow": null,
            "overflow_x": null,
            "overflow_y": null,
            "padding": null,
            "right": null,
            "top": null,
            "visibility": null,
            "width": null
          }
        },
        "fbe82315be8a4f9ab3f4038076d7db51": {
          "model_module": "@jupyter-widgets/base",
          "model_name": "LayoutModel",
          "model_module_version": "1.2.0",
          "state": {
            "_model_module": "@jupyter-widgets/base",
            "_model_module_version": "1.2.0",
            "_model_name": "LayoutModel",
            "_view_count": null,
            "_view_module": "@jupyter-widgets/base",
            "_view_module_version": "1.2.0",
            "_view_name": "LayoutView",
            "align_content": null,
            "align_items": null,
            "align_self": null,
            "border": null,
            "bottom": null,
            "display": null,
            "flex": null,
            "flex_flow": null,
            "grid_area": null,
            "grid_auto_columns": null,
            "grid_auto_flow": null,
            "grid_auto_rows": null,
            "grid_column": null,
            "grid_gap": null,
            "grid_row": null,
            "grid_template_areas": null,
            "grid_template_columns": null,
            "grid_template_rows": null,
            "height": null,
            "justify_content": null,
            "justify_items": null,
            "left": null,
            "margin": null,
            "max_height": null,
            "max_width": null,
            "min_height": null,
            "min_width": null,
            "object_fit": null,
            "object_position": null,
            "order": null,
            "overflow": null,
            "overflow_x": null,
            "overflow_y": null,
            "padding": null,
            "right": null,
            "top": null,
            "visibility": null,
            "width": null
          }
        },
        "3008196dff544eb98b515246ae439f4e": {
          "model_module": "@jupyter-widgets/controls",
          "model_name": "DescriptionStyleModel",
          "model_module_version": "1.5.0",
          "state": {
            "_model_module": "@jupyter-widgets/controls",
            "_model_module_version": "1.5.0",
            "_model_name": "DescriptionStyleModel",
            "_view_count": null,
            "_view_module": "@jupyter-widgets/base",
            "_view_module_version": "1.2.0",
            "_view_name": "StyleView",
            "description_width": ""
          }
        },
        "da8c046fa50f458886e2f32c16579cf3": {
          "model_module": "@jupyter-widgets/base",
          "model_name": "LayoutModel",
          "model_module_version": "1.2.0",
          "state": {
            "_model_module": "@jupyter-widgets/base",
            "_model_module_version": "1.2.0",
            "_model_name": "LayoutModel",
            "_view_count": null,
            "_view_module": "@jupyter-widgets/base",
            "_view_module_version": "1.2.0",
            "_view_name": "LayoutView",
            "align_content": null,
            "align_items": null,
            "align_self": null,
            "border": null,
            "bottom": null,
            "display": null,
            "flex": null,
            "flex_flow": null,
            "grid_area": null,
            "grid_auto_columns": null,
            "grid_auto_flow": null,
            "grid_auto_rows": null,
            "grid_column": null,
            "grid_gap": null,
            "grid_row": null,
            "grid_template_areas": null,
            "grid_template_columns": null,
            "grid_template_rows": null,
            "height": null,
            "justify_content": null,
            "justify_items": null,
            "left": null,
            "margin": null,
            "max_height": null,
            "max_width": null,
            "min_height": null,
            "min_width": null,
            "object_fit": null,
            "object_position": null,
            "order": null,
            "overflow": null,
            "overflow_x": null,
            "overflow_y": null,
            "padding": null,
            "right": null,
            "top": null,
            "visibility": null,
            "width": null
          }
        },
        "0caeaf1390cb4dc3b95d1d2755956086": {
          "model_module": "@jupyter-widgets/controls",
          "model_name": "ProgressStyleModel",
          "model_module_version": "1.5.0",
          "state": {
            "_model_module": "@jupyter-widgets/controls",
            "_model_module_version": "1.5.0",
            "_model_name": "ProgressStyleModel",
            "_view_count": null,
            "_view_module": "@jupyter-widgets/base",
            "_view_module_version": "1.2.0",
            "_view_name": "StyleView",
            "bar_color": null,
            "description_width": ""
          }
        },
        "afdf3784f4c94c2a8c440a74e019e37c": {
          "model_module": "@jupyter-widgets/base",
          "model_name": "LayoutModel",
          "model_module_version": "1.2.0",
          "state": {
            "_model_module": "@jupyter-widgets/base",
            "_model_module_version": "1.2.0",
            "_model_name": "LayoutModel",
            "_view_count": null,
            "_view_module": "@jupyter-widgets/base",
            "_view_module_version": "1.2.0",
            "_view_name": "LayoutView",
            "align_content": null,
            "align_items": null,
            "align_self": null,
            "border": null,
            "bottom": null,
            "display": null,
            "flex": null,
            "flex_flow": null,
            "grid_area": null,
            "grid_auto_columns": null,
            "grid_auto_flow": null,
            "grid_auto_rows": null,
            "grid_column": null,
            "grid_gap": null,
            "grid_row": null,
            "grid_template_areas": null,
            "grid_template_columns": null,
            "grid_template_rows": null,
            "height": null,
            "justify_content": null,
            "justify_items": null,
            "left": null,
            "margin": null,
            "max_height": null,
            "max_width": null,
            "min_height": null,
            "min_width": null,
            "object_fit": null,
            "object_position": null,
            "order": null,
            "overflow": null,
            "overflow_x": null,
            "overflow_y": null,
            "padding": null,
            "right": null,
            "top": null,
            "visibility": null,
            "width": null
          }
        },
        "ce2ef1a0e29e4fe5a2b2fa10a1b6e1bb": {
          "model_module": "@jupyter-widgets/controls",
          "model_name": "DescriptionStyleModel",
          "model_module_version": "1.5.0",
          "state": {
            "_model_module": "@jupyter-widgets/controls",
            "_model_module_version": "1.5.0",
            "_model_name": "DescriptionStyleModel",
            "_view_count": null,
            "_view_module": "@jupyter-widgets/base",
            "_view_module_version": "1.2.0",
            "_view_name": "StyleView",
            "description_width": ""
          }
        },
        "7514e3f27d2640c382bec321b15e0480": {
          "model_module": "@jupyter-widgets/controls",
          "model_name": "HBoxModel",
          "model_module_version": "1.5.0",
          "state": {
            "_dom_classes": [],
            "_model_module": "@jupyter-widgets/controls",
            "_model_module_version": "1.5.0",
            "_model_name": "HBoxModel",
            "_view_count": null,
            "_view_module": "@jupyter-widgets/controls",
            "_view_module_version": "1.5.0",
            "_view_name": "HBoxView",
            "box_style": "",
            "children": [
              "IPY_MODEL_2de1777a9aa34b47bdaa4b44835473e1",
              "IPY_MODEL_2a36da6fafa249978b6067ec748723b9",
              "IPY_MODEL_836a58a252d041b1a660dffee838cb1a"
            ],
            "layout": "IPY_MODEL_9e80eb1ee66746b0a4e226b1afb62322"
          }
        },
        "2de1777a9aa34b47bdaa4b44835473e1": {
          "model_module": "@jupyter-widgets/controls",
          "model_name": "HTMLModel",
          "model_module_version": "1.5.0",
          "state": {
            "_dom_classes": [],
            "_model_module": "@jupyter-widgets/controls",
            "_model_module_version": "1.5.0",
            "_model_name": "HTMLModel",
            "_view_count": null,
            "_view_module": "@jupyter-widgets/controls",
            "_view_module_version": "1.5.0",
            "_view_name": "HTMLView",
            "description": "",
            "description_tooltip": null,
            "layout": "IPY_MODEL_f4e5c184e61e4d36a7dd0f3f358846c7",
            "placeholder": "​",
            "style": "IPY_MODEL_40b74b64b21747cc9f23705847ae6b3b",
            "value": "model-00006-of-00006.safetensors: 100%"
          }
        },
        "2a36da6fafa249978b6067ec748723b9": {
          "model_module": "@jupyter-widgets/controls",
          "model_name": "FloatProgressModel",
          "model_module_version": "1.5.0",
          "state": {
            "_dom_classes": [],
            "_model_module": "@jupyter-widgets/controls",
            "_model_module_version": "1.5.0",
            "_model_name": "FloatProgressModel",
            "_view_count": null,
            "_view_module": "@jupyter-widgets/controls",
            "_view_module_version": "1.5.0",
            "_view_name": "ProgressView",
            "bar_style": "success",
            "description": "",
            "description_tooltip": null,
            "layout": "IPY_MODEL_ef785986d53e418389f0d42e91f1d746",
            "max": 4733130504,
            "min": 0,
            "orientation": "horizontal",
            "style": "IPY_MODEL_bbdf8b9a470549739ec77ff489121af1",
            "value": 4733130504
          }
        },
        "836a58a252d041b1a660dffee838cb1a": {
          "model_module": "@jupyter-widgets/controls",
          "model_name": "HTMLModel",
          "model_module_version": "1.5.0",
          "state": {
            "_dom_classes": [],
            "_model_module": "@jupyter-widgets/controls",
            "_model_module_version": "1.5.0",
            "_model_name": "HTMLModel",
            "_view_count": null,
            "_view_module": "@jupyter-widgets/controls",
            "_view_module_version": "1.5.0",
            "_view_name": "HTMLView",
            "description": "",
            "description_tooltip": null,
            "layout": "IPY_MODEL_694d1ea88531467da6e4c22a3d2e0077",
            "placeholder": "​",
            "style": "IPY_MODEL_07694086cc2d42039e377acf0756f140",
            "value": " 4.73G/4.73G [03:10&lt;00:00, 34.4MB/s]"
          }
        },
        "9e80eb1ee66746b0a4e226b1afb62322": {
          "model_module": "@jupyter-widgets/base",
          "model_name": "LayoutModel",
          "model_module_version": "1.2.0",
          "state": {
            "_model_module": "@jupyter-widgets/base",
            "_model_module_version": "1.2.0",
            "_model_name": "LayoutModel",
            "_view_count": null,
            "_view_module": "@jupyter-widgets/base",
            "_view_module_version": "1.2.0",
            "_view_name": "LayoutView",
            "align_content": null,
            "align_items": null,
            "align_self": null,
            "border": null,
            "bottom": null,
            "display": null,
            "flex": null,
            "flex_flow": null,
            "grid_area": null,
            "grid_auto_columns": null,
            "grid_auto_flow": null,
            "grid_auto_rows": null,
            "grid_column": null,
            "grid_gap": null,
            "grid_row": null,
            "grid_template_areas": null,
            "grid_template_columns": null,
            "grid_template_rows": null,
            "height": null,
            "justify_content": null,
            "justify_items": null,
            "left": null,
            "margin": null,
            "max_height": null,
            "max_width": null,
            "min_height": null,
            "min_width": null,
            "object_fit": null,
            "object_position": null,
            "order": null,
            "overflow": null,
            "overflow_x": null,
            "overflow_y": null,
            "padding": null,
            "right": null,
            "top": null,
            "visibility": null,
            "width": null
          }
        },
        "f4e5c184e61e4d36a7dd0f3f358846c7": {
          "model_module": "@jupyter-widgets/base",
          "model_name": "LayoutModel",
          "model_module_version": "1.2.0",
          "state": {
            "_model_module": "@jupyter-widgets/base",
            "_model_module_version": "1.2.0",
            "_model_name": "LayoutModel",
            "_view_count": null,
            "_view_module": "@jupyter-widgets/base",
            "_view_module_version": "1.2.0",
            "_view_name": "LayoutView",
            "align_content": null,
            "align_items": null,
            "align_self": null,
            "border": null,
            "bottom": null,
            "display": null,
            "flex": null,
            "flex_flow": null,
            "grid_area": null,
            "grid_auto_columns": null,
            "grid_auto_flow": null,
            "grid_auto_rows": null,
            "grid_column": null,
            "grid_gap": null,
            "grid_row": null,
            "grid_template_areas": null,
            "grid_template_columns": null,
            "grid_template_rows": null,
            "height": null,
            "justify_content": null,
            "justify_items": null,
            "left": null,
            "margin": null,
            "max_height": null,
            "max_width": null,
            "min_height": null,
            "min_width": null,
            "object_fit": null,
            "object_position": null,
            "order": null,
            "overflow": null,
            "overflow_x": null,
            "overflow_y": null,
            "padding": null,
            "right": null,
            "top": null,
            "visibility": null,
            "width": null
          }
        },
        "40b74b64b21747cc9f23705847ae6b3b": {
          "model_module": "@jupyter-widgets/controls",
          "model_name": "DescriptionStyleModel",
          "model_module_version": "1.5.0",
          "state": {
            "_model_module": "@jupyter-widgets/controls",
            "_model_module_version": "1.5.0",
            "_model_name": "DescriptionStyleModel",
            "_view_count": null,
            "_view_module": "@jupyter-widgets/base",
            "_view_module_version": "1.2.0",
            "_view_name": "StyleView",
            "description_width": ""
          }
        },
        "ef785986d53e418389f0d42e91f1d746": {
          "model_module": "@jupyter-widgets/base",
          "model_name": "LayoutModel",
          "model_module_version": "1.2.0",
          "state": {
            "_model_module": "@jupyter-widgets/base",
            "_model_module_version": "1.2.0",
            "_model_name": "LayoutModel",
            "_view_count": null,
            "_view_module": "@jupyter-widgets/base",
            "_view_module_version": "1.2.0",
            "_view_name": "LayoutView",
            "align_content": null,
            "align_items": null,
            "align_self": null,
            "border": null,
            "bottom": null,
            "display": null,
            "flex": null,
            "flex_flow": null,
            "grid_area": null,
            "grid_auto_columns": null,
            "grid_auto_flow": null,
            "grid_auto_rows": null,
            "grid_column": null,
            "grid_gap": null,
            "grid_row": null,
            "grid_template_areas": null,
            "grid_template_columns": null,
            "grid_template_rows": null,
            "height": null,
            "justify_content": null,
            "justify_items": null,
            "left": null,
            "margin": null,
            "max_height": null,
            "max_width": null,
            "min_height": null,
            "min_width": null,
            "object_fit": null,
            "object_position": null,
            "order": null,
            "overflow": null,
            "overflow_x": null,
            "overflow_y": null,
            "padding": null,
            "right": null,
            "top": null,
            "visibility": null,
            "width": null
          }
        },
        "bbdf8b9a470549739ec77ff489121af1": {
          "model_module": "@jupyter-widgets/controls",
          "model_name": "ProgressStyleModel",
          "model_module_version": "1.5.0",
          "state": {
            "_model_module": "@jupyter-widgets/controls",
            "_model_module_version": "1.5.0",
            "_model_name": "ProgressStyleModel",
            "_view_count": null,
            "_view_module": "@jupyter-widgets/base",
            "_view_module_version": "1.2.0",
            "_view_name": "StyleView",
            "bar_color": null,
            "description_width": ""
          }
        },
        "694d1ea88531467da6e4c22a3d2e0077": {
          "model_module": "@jupyter-widgets/base",
          "model_name": "LayoutModel",
          "model_module_version": "1.2.0",
          "state": {
            "_model_module": "@jupyter-widgets/base",
            "_model_module_version": "1.2.0",
            "_model_name": "LayoutModel",
            "_view_count": null,
            "_view_module": "@jupyter-widgets/base",
            "_view_module_version": "1.2.0",
            "_view_name": "LayoutView",
            "align_content": null,
            "align_items": null,
            "align_self": null,
            "border": null,
            "bottom": null,
            "display": null,
            "flex": null,
            "flex_flow": null,
            "grid_area": null,
            "grid_auto_columns": null,
            "grid_auto_flow": null,
            "grid_auto_rows": null,
            "grid_column": null,
            "grid_gap": null,
            "grid_row": null,
            "grid_template_areas": null,
            "grid_template_columns": null,
            "grid_template_rows": null,
            "height": null,
            "justify_content": null,
            "justify_items": null,
            "left": null,
            "margin": null,
            "max_height": null,
            "max_width": null,
            "min_height": null,
            "min_width": null,
            "object_fit": null,
            "object_position": null,
            "order": null,
            "overflow": null,
            "overflow_x": null,
            "overflow_y": null,
            "padding": null,
            "right": null,
            "top": null,
            "visibility": null,
            "width": null
          }
        },
        "07694086cc2d42039e377acf0756f140": {
          "model_module": "@jupyter-widgets/controls",
          "model_name": "DescriptionStyleModel",
          "model_module_version": "1.5.0",
          "state": {
            "_model_module": "@jupyter-widgets/controls",
            "_model_module_version": "1.5.0",
            "_model_name": "DescriptionStyleModel",
            "_view_count": null,
            "_view_module": "@jupyter-widgets/base",
            "_view_module_version": "1.2.0",
            "_view_name": "StyleView",
            "description_width": ""
          }
        },
        "67077ef30e2243a09c4bc780617a94e7": {
          "model_module": "@jupyter-widgets/controls",
          "model_name": "HBoxModel",
          "model_module_version": "1.5.0",
          "state": {
            "_dom_classes": [],
            "_model_module": "@jupyter-widgets/controls",
            "_model_module_version": "1.5.0",
            "_model_name": "HBoxModel",
            "_view_count": null,
            "_view_module": "@jupyter-widgets/controls",
            "_view_module_version": "1.5.0",
            "_view_name": "HBoxView",
            "box_style": "",
            "children": [
              "IPY_MODEL_d977d32ba62f4e7484d7c37b88d39d1e",
              "IPY_MODEL_2de8aa1e23d341b18d973d40e1123a37",
              "IPY_MODEL_03012a8ffa0142859e1e6d423eefc7b3"
            ],
            "layout": "IPY_MODEL_8f6f0c7a39d8407486920cc6e8e1a7bd"
          }
        },
        "d977d32ba62f4e7484d7c37b88d39d1e": {
          "model_module": "@jupyter-widgets/controls",
          "model_name": "HTMLModel",
          "model_module_version": "1.5.0",
          "state": {
            "_dom_classes": [],
            "_model_module": "@jupyter-widgets/controls",
            "_model_module_version": "1.5.0",
            "_model_name": "HTMLModel",
            "_view_count": null,
            "_view_module": "@jupyter-widgets/controls",
            "_view_module_version": "1.5.0",
            "_view_name": "HTMLView",
            "description": "",
            "description_tooltip": null,
            "layout": "IPY_MODEL_6f935d4e39b84122b190018a7ba17087",
            "placeholder": "​",
            "style": "IPY_MODEL_ca38b4b8709841229e82d0f34faa3adb",
            "value": "model-00004-of-00006.safetensors: 100%"
          }
        },
        "2de8aa1e23d341b18d973d40e1123a37": {
          "model_module": "@jupyter-widgets/controls",
          "model_name": "FloatProgressModel",
          "model_module_version": "1.5.0",
          "state": {
            "_dom_classes": [],
            "_model_module": "@jupyter-widgets/controls",
            "_model_module_version": "1.5.0",
            "_model_name": "FloatProgressModel",
            "_view_count": null,
            "_view_module": "@jupyter-widgets/controls",
            "_view_module_version": "1.5.0",
            "_view_name": "ProgressView",
            "bar_style": "success",
            "description": "",
            "description_tooltip": null,
            "layout": "IPY_MODEL_deb53f9492964c459fac5dec59eb3660",
            "max": 4980892112,
            "min": 0,
            "orientation": "horizontal",
            "style": "IPY_MODEL_fefbe08e252f435ab9d3ca475cd40f54",
            "value": 4980892112
          }
        },
        "03012a8ffa0142859e1e6d423eefc7b3": {
          "model_module": "@jupyter-widgets/controls",
          "model_name": "HTMLModel",
          "model_module_version": "1.5.0",
          "state": {
            "_dom_classes": [],
            "_model_module": "@jupyter-widgets/controls",
            "_model_module_version": "1.5.0",
            "_model_name": "HTMLModel",
            "_view_count": null,
            "_view_module": "@jupyter-widgets/controls",
            "_view_module_version": "1.5.0",
            "_view_name": "HTMLView",
            "description": "",
            "description_tooltip": null,
            "layout": "IPY_MODEL_24fec9d0a21f46a6ada65a57dc70316f",
            "placeholder": "​",
            "style": "IPY_MODEL_e14c4c00ba7845c999e92920aa4bf331",
            "value": " 4.98G/4.98G [02:58&lt;00:00, 47.6MB/s]"
          }
        },
        "8f6f0c7a39d8407486920cc6e8e1a7bd": {
          "model_module": "@jupyter-widgets/base",
          "model_name": "LayoutModel",
          "model_module_version": "1.2.0",
          "state": {
            "_model_module": "@jupyter-widgets/base",
            "_model_module_version": "1.2.0",
            "_model_name": "LayoutModel",
            "_view_count": null,
            "_view_module": "@jupyter-widgets/base",
            "_view_module_version": "1.2.0",
            "_view_name": "LayoutView",
            "align_content": null,
            "align_items": null,
            "align_self": null,
            "border": null,
            "bottom": null,
            "display": null,
            "flex": null,
            "flex_flow": null,
            "grid_area": null,
            "grid_auto_columns": null,
            "grid_auto_flow": null,
            "grid_auto_rows": null,
            "grid_column": null,
            "grid_gap": null,
            "grid_row": null,
            "grid_template_areas": null,
            "grid_template_columns": null,
            "grid_template_rows": null,
            "height": null,
            "justify_content": null,
            "justify_items": null,
            "left": null,
            "margin": null,
            "max_height": null,
            "max_width": null,
            "min_height": null,
            "min_width": null,
            "object_fit": null,
            "object_position": null,
            "order": null,
            "overflow": null,
            "overflow_x": null,
            "overflow_y": null,
            "padding": null,
            "right": null,
            "top": null,
            "visibility": null,
            "width": null
          }
        },
        "6f935d4e39b84122b190018a7ba17087": {
          "model_module": "@jupyter-widgets/base",
          "model_name": "LayoutModel",
          "model_module_version": "1.2.0",
          "state": {
            "_model_module": "@jupyter-widgets/base",
            "_model_module_version": "1.2.0",
            "_model_name": "LayoutModel",
            "_view_count": null,
            "_view_module": "@jupyter-widgets/base",
            "_view_module_version": "1.2.0",
            "_view_name": "LayoutView",
            "align_content": null,
            "align_items": null,
            "align_self": null,
            "border": null,
            "bottom": null,
            "display": null,
            "flex": null,
            "flex_flow": null,
            "grid_area": null,
            "grid_auto_columns": null,
            "grid_auto_flow": null,
            "grid_auto_rows": null,
            "grid_column": null,
            "grid_gap": null,
            "grid_row": null,
            "grid_template_areas": null,
            "grid_template_columns": null,
            "grid_template_rows": null,
            "height": null,
            "justify_content": null,
            "justify_items": null,
            "left": null,
            "margin": null,
            "max_height": null,
            "max_width": null,
            "min_height": null,
            "min_width": null,
            "object_fit": null,
            "object_position": null,
            "order": null,
            "overflow": null,
            "overflow_x": null,
            "overflow_y": null,
            "padding": null,
            "right": null,
            "top": null,
            "visibility": null,
            "width": null
          }
        },
        "ca38b4b8709841229e82d0f34faa3adb": {
          "model_module": "@jupyter-widgets/controls",
          "model_name": "DescriptionStyleModel",
          "model_module_version": "1.5.0",
          "state": {
            "_model_module": "@jupyter-widgets/controls",
            "_model_module_version": "1.5.0",
            "_model_name": "DescriptionStyleModel",
            "_view_count": null,
            "_view_module": "@jupyter-widgets/base",
            "_view_module_version": "1.2.0",
            "_view_name": "StyleView",
            "description_width": ""
          }
        },
        "deb53f9492964c459fac5dec59eb3660": {
          "model_module": "@jupyter-widgets/base",
          "model_name": "LayoutModel",
          "model_module_version": "1.2.0",
          "state": {
            "_model_module": "@jupyter-widgets/base",
            "_model_module_version": "1.2.0",
            "_model_name": "LayoutModel",
            "_view_count": null,
            "_view_module": "@jupyter-widgets/base",
            "_view_module_version": "1.2.0",
            "_view_name": "LayoutView",
            "align_content": null,
            "align_items": null,
            "align_self": null,
            "border": null,
            "bottom": null,
            "display": null,
            "flex": null,
            "flex_flow": null,
            "grid_area": null,
            "grid_auto_columns": null,
            "grid_auto_flow": null,
            "grid_auto_rows": null,
            "grid_column": null,
            "grid_gap": null,
            "grid_row": null,
            "grid_template_areas": null,
            "grid_template_columns": null,
            "grid_template_rows": null,
            "height": null,
            "justify_content": null,
            "justify_items": null,
            "left": null,
            "margin": null,
            "max_height": null,
            "max_width": null,
            "min_height": null,
            "min_width": null,
            "object_fit": null,
            "object_position": null,
            "order": null,
            "overflow": null,
            "overflow_x": null,
            "overflow_y": null,
            "padding": null,
            "right": null,
            "top": null,
            "visibility": null,
            "width": null
          }
        },
        "fefbe08e252f435ab9d3ca475cd40f54": {
          "model_module": "@jupyter-widgets/controls",
          "model_name": "ProgressStyleModel",
          "model_module_version": "1.5.0",
          "state": {
            "_model_module": "@jupyter-widgets/controls",
            "_model_module_version": "1.5.0",
            "_model_name": "ProgressStyleModel",
            "_view_count": null,
            "_view_module": "@jupyter-widgets/base",
            "_view_module_version": "1.2.0",
            "_view_name": "StyleView",
            "bar_color": null,
            "description_width": ""
          }
        },
        "24fec9d0a21f46a6ada65a57dc70316f": {
          "model_module": "@jupyter-widgets/base",
          "model_name": "LayoutModel",
          "model_module_version": "1.2.0",
          "state": {
            "_model_module": "@jupyter-widgets/base",
            "_model_module_version": "1.2.0",
            "_model_name": "LayoutModel",
            "_view_count": null,
            "_view_module": "@jupyter-widgets/base",
            "_view_module_version": "1.2.0",
            "_view_name": "LayoutView",
            "align_content": null,
            "align_items": null,
            "align_self": null,
            "border": null,
            "bottom": null,
            "display": null,
            "flex": null,
            "flex_flow": null,
            "grid_area": null,
            "grid_auto_columns": null,
            "grid_auto_flow": null,
            "grid_auto_rows": null,
            "grid_column": null,
            "grid_gap": null,
            "grid_row": null,
            "grid_template_areas": null,
            "grid_template_columns": null,
            "grid_template_rows": null,
            "height": null,
            "justify_content": null,
            "justify_items": null,
            "left": null,
            "margin": null,
            "max_height": null,
            "max_width": null,
            "min_height": null,
            "min_width": null,
            "object_fit": null,
            "object_position": null,
            "order": null,
            "overflow": null,
            "overflow_x": null,
            "overflow_y": null,
            "padding": null,
            "right": null,
            "top": null,
            "visibility": null,
            "width": null
          }
        },
        "e14c4c00ba7845c999e92920aa4bf331": {
          "model_module": "@jupyter-widgets/controls",
          "model_name": "DescriptionStyleModel",
          "model_module_version": "1.5.0",
          "state": {
            "_model_module": "@jupyter-widgets/controls",
            "_model_module_version": "1.5.0",
            "_model_name": "DescriptionStyleModel",
            "_view_count": null,
            "_view_module": "@jupyter-widgets/base",
            "_view_module_version": "1.2.0",
            "_view_name": "StyleView",
            "description_width": ""
          }
        },
        "cce5afec12324d98ad862ea8d32c196b": {
          "model_module": "@jupyter-widgets/controls",
          "model_name": "HBoxModel",
          "model_module_version": "1.5.0",
          "state": {
            "_dom_classes": [],
            "_model_module": "@jupyter-widgets/controls",
            "_model_module_version": "1.5.0",
            "_model_name": "HBoxModel",
            "_view_count": null,
            "_view_module": "@jupyter-widgets/controls",
            "_view_module_version": "1.5.0",
            "_view_name": "HBoxView",
            "box_style": "",
            "children": [
              "IPY_MODEL_bcb9d1a215914cf4be0bb3b0649d570b",
              "IPY_MODEL_12cc5e25d5194a94a1decde91d359fca",
              "IPY_MODEL_d83c97a7540c40f4aeb0647acf4d7e23"
            ],
            "layout": "IPY_MODEL_4b4b859abf14468babc7297538dd3587"
          }
        },
        "bcb9d1a215914cf4be0bb3b0649d570b": {
          "model_module": "@jupyter-widgets/controls",
          "model_name": "HTMLModel",
          "model_module_version": "1.5.0",
          "state": {
            "_dom_classes": [],
            "_model_module": "@jupyter-widgets/controls",
            "_model_module_version": "1.5.0",
            "_model_name": "HTMLModel",
            "_view_count": null,
            "_view_module": "@jupyter-widgets/controls",
            "_view_module_version": "1.5.0",
            "_view_name": "HTMLView",
            "description": "",
            "description_tooltip": null,
            "layout": "IPY_MODEL_311a9f93e10d4db4a1951df2a1c0e99d",
            "placeholder": "​",
            "style": "IPY_MODEL_1659520865eb4cbfb0eb0dcd55148964",
            "value": "model-00005-of-00006.safetensors: 100%"
          }
        },
        "12cc5e25d5194a94a1decde91d359fca": {
          "model_module": "@jupyter-widgets/controls",
          "model_name": "FloatProgressModel",
          "model_module_version": "1.5.0",
          "state": {
            "_dom_classes": [],
            "_model_module": "@jupyter-widgets/controls",
            "_model_module_version": "1.5.0",
            "_model_name": "FloatProgressModel",
            "_view_count": null,
            "_view_module": "@jupyter-widgets/controls",
            "_view_module_version": "1.5.0",
            "_view_name": "ProgressView",
            "bar_style": "success",
            "description": "",
            "description_tooltip": null,
            "layout": "IPY_MODEL_e419114feb074830ba7376c6b3321afb",
            "max": 4928485104,
            "min": 0,
            "orientation": "horizontal",
            "style": "IPY_MODEL_700a4571682d4caf8c87cbe259480311",
            "value": 4928485104
          }
        },
        "d83c97a7540c40f4aeb0647acf4d7e23": {
          "model_module": "@jupyter-widgets/controls",
          "model_name": "HTMLModel",
          "model_module_version": "1.5.0",
          "state": {
            "_dom_classes": [],
            "_model_module": "@jupyter-widgets/controls",
            "_model_module_version": "1.5.0",
            "_model_name": "HTMLModel",
            "_view_count": null,
            "_view_module": "@jupyter-widgets/controls",
            "_view_module_version": "1.5.0",
            "_view_name": "HTMLView",
            "description": "",
            "description_tooltip": null,
            "layout": "IPY_MODEL_7f956f866bc3477cb762c0a4dba8d0d7",
            "placeholder": "​",
            "style": "IPY_MODEL_2a845fc26f8a4f10941c94002f295f4b",
            "value": " 4.93G/4.93G [03:14&lt;00:00, 119MB/s]"
          }
        },
        "4b4b859abf14468babc7297538dd3587": {
          "model_module": "@jupyter-widgets/base",
          "model_name": "LayoutModel",
          "model_module_version": "1.2.0",
          "state": {
            "_model_module": "@jupyter-widgets/base",
            "_model_module_version": "1.2.0",
            "_model_name": "LayoutModel",
            "_view_count": null,
            "_view_module": "@jupyter-widgets/base",
            "_view_module_version": "1.2.0",
            "_view_name": "LayoutView",
            "align_content": null,
            "align_items": null,
            "align_self": null,
            "border": null,
            "bottom": null,
            "display": null,
            "flex": null,
            "flex_flow": null,
            "grid_area": null,
            "grid_auto_columns": null,
            "grid_auto_flow": null,
            "grid_auto_rows": null,
            "grid_column": null,
            "grid_gap": null,
            "grid_row": null,
            "grid_template_areas": null,
            "grid_template_columns": null,
            "grid_template_rows": null,
            "height": null,
            "justify_content": null,
            "justify_items": null,
            "left": null,
            "margin": null,
            "max_height": null,
            "max_width": null,
            "min_height": null,
            "min_width": null,
            "object_fit": null,
            "object_position": null,
            "order": null,
            "overflow": null,
            "overflow_x": null,
            "overflow_y": null,
            "padding": null,
            "right": null,
            "top": null,
            "visibility": null,
            "width": null
          }
        },
        "311a9f93e10d4db4a1951df2a1c0e99d": {
          "model_module": "@jupyter-widgets/base",
          "model_name": "LayoutModel",
          "model_module_version": "1.2.0",
          "state": {
            "_model_module": "@jupyter-widgets/base",
            "_model_module_version": "1.2.0",
            "_model_name": "LayoutModel",
            "_view_count": null,
            "_view_module": "@jupyter-widgets/base",
            "_view_module_version": "1.2.0",
            "_view_name": "LayoutView",
            "align_content": null,
            "align_items": null,
            "align_self": null,
            "border": null,
            "bottom": null,
            "display": null,
            "flex": null,
            "flex_flow": null,
            "grid_area": null,
            "grid_auto_columns": null,
            "grid_auto_flow": null,
            "grid_auto_rows": null,
            "grid_column": null,
            "grid_gap": null,
            "grid_row": null,
            "grid_template_areas": null,
            "grid_template_columns": null,
            "grid_template_rows": null,
            "height": null,
            "justify_content": null,
            "justify_items": null,
            "left": null,
            "margin": null,
            "max_height": null,
            "max_width": null,
            "min_height": null,
            "min_width": null,
            "object_fit": null,
            "object_position": null,
            "order": null,
            "overflow": null,
            "overflow_x": null,
            "overflow_y": null,
            "padding": null,
            "right": null,
            "top": null,
            "visibility": null,
            "width": null
          }
        },
        "1659520865eb4cbfb0eb0dcd55148964": {
          "model_module": "@jupyter-widgets/controls",
          "model_name": "DescriptionStyleModel",
          "model_module_version": "1.5.0",
          "state": {
            "_model_module": "@jupyter-widgets/controls",
            "_model_module_version": "1.5.0",
            "_model_name": "DescriptionStyleModel",
            "_view_count": null,
            "_view_module": "@jupyter-widgets/base",
            "_view_module_version": "1.2.0",
            "_view_name": "StyleView",
            "description_width": ""
          }
        },
        "e419114feb074830ba7376c6b3321afb": {
          "model_module": "@jupyter-widgets/base",
          "model_name": "LayoutModel",
          "model_module_version": "1.2.0",
          "state": {
            "_model_module": "@jupyter-widgets/base",
            "_model_module_version": "1.2.0",
            "_model_name": "LayoutModel",
            "_view_count": null,
            "_view_module": "@jupyter-widgets/base",
            "_view_module_version": "1.2.0",
            "_view_name": "LayoutView",
            "align_content": null,
            "align_items": null,
            "align_self": null,
            "border": null,
            "bottom": null,
            "display": null,
            "flex": null,
            "flex_flow": null,
            "grid_area": null,
            "grid_auto_columns": null,
            "grid_auto_flow": null,
            "grid_auto_rows": null,
            "grid_column": null,
            "grid_gap": null,
            "grid_row": null,
            "grid_template_areas": null,
            "grid_template_columns": null,
            "grid_template_rows": null,
            "height": null,
            "justify_content": null,
            "justify_items": null,
            "left": null,
            "margin": null,
            "max_height": null,
            "max_width": null,
            "min_height": null,
            "min_width": null,
            "object_fit": null,
            "object_position": null,
            "order": null,
            "overflow": null,
            "overflow_x": null,
            "overflow_y": null,
            "padding": null,
            "right": null,
            "top": null,
            "visibility": null,
            "width": null
          }
        },
        "700a4571682d4caf8c87cbe259480311": {
          "model_module": "@jupyter-widgets/controls",
          "model_name": "ProgressStyleModel",
          "model_module_version": "1.5.0",
          "state": {
            "_model_module": "@jupyter-widgets/controls",
            "_model_module_version": "1.5.0",
            "_model_name": "ProgressStyleModel",
            "_view_count": null,
            "_view_module": "@jupyter-widgets/base",
            "_view_module_version": "1.2.0",
            "_view_name": "StyleView",
            "bar_color": null,
            "description_width": ""
          }
        },
        "7f956f866bc3477cb762c0a4dba8d0d7": {
          "model_module": "@jupyter-widgets/base",
          "model_name": "LayoutModel",
          "model_module_version": "1.2.0",
          "state": {
            "_model_module": "@jupyter-widgets/base",
            "_model_module_version": "1.2.0",
            "_model_name": "LayoutModel",
            "_view_count": null,
            "_view_module": "@jupyter-widgets/base",
            "_view_module_version": "1.2.0",
            "_view_name": "LayoutView",
            "align_content": null,
            "align_items": null,
            "align_self": null,
            "border": null,
            "bottom": null,
            "display": null,
            "flex": null,
            "flex_flow": null,
            "grid_area": null,
            "grid_auto_columns": null,
            "grid_auto_flow": null,
            "grid_auto_rows": null,
            "grid_column": null,
            "grid_gap": null,
            "grid_row": null,
            "grid_template_areas": null,
            "grid_template_columns": null,
            "grid_template_rows": null,
            "height": null,
            "justify_content": null,
            "justify_items": null,
            "left": null,
            "margin": null,
            "max_height": null,
            "max_width": null,
            "min_height": null,
            "min_width": null,
            "object_fit": null,
            "object_position": null,
            "order": null,
            "overflow": null,
            "overflow_x": null,
            "overflow_y": null,
            "padding": null,
            "right": null,
            "top": null,
            "visibility": null,
            "width": null
          }
        },
        "2a845fc26f8a4f10941c94002f295f4b": {
          "model_module": "@jupyter-widgets/controls",
          "model_name": "DescriptionStyleModel",
          "model_module_version": "1.5.0",
          "state": {
            "_model_module": "@jupyter-widgets/controls",
            "_model_module_version": "1.5.0",
            "_model_name": "DescriptionStyleModel",
            "_view_count": null,
            "_view_module": "@jupyter-widgets/base",
            "_view_module_version": "1.2.0",
            "_view_name": "StyleView",
            "description_width": ""
          }
        },
        "c1364173b97249f4a2a04491e23bd006": {
          "model_module": "@jupyter-widgets/controls",
          "model_name": "HBoxModel",
          "model_module_version": "1.5.0",
          "state": {
            "_dom_classes": [],
            "_model_module": "@jupyter-widgets/controls",
            "_model_module_version": "1.5.0",
            "_model_name": "HBoxModel",
            "_view_count": null,
            "_view_module": "@jupyter-widgets/controls",
            "_view_module_version": "1.5.0",
            "_view_name": "HBoxView",
            "box_style": "",
            "children": [
              "IPY_MODEL_89bf4f94696a443984edca7764e5551f",
              "IPY_MODEL_78e7846d0d854d43a6de530a012e4099",
              "IPY_MODEL_b11e856d803840eb939ef331b13525a6"
            ],
            "layout": "IPY_MODEL_45754af76fed401cb36b685a809e2390"
          }
        },
        "89bf4f94696a443984edca7764e5551f": {
          "model_module": "@jupyter-widgets/controls",
          "model_name": "HTMLModel",
          "model_module_version": "1.5.0",
          "state": {
            "_dom_classes": [],
            "_model_module": "@jupyter-widgets/controls",
            "_model_module_version": "1.5.0",
            "_model_name": "HTMLModel",
            "_view_count": null,
            "_view_module": "@jupyter-widgets/controls",
            "_view_module_version": "1.5.0",
            "_view_name": "HTMLView",
            "description": "",
            "description_tooltip": null,
            "layout": "IPY_MODEL_0ee4edb58b8349f3a3f534f31ebb523c",
            "placeholder": "​",
            "style": "IPY_MODEL_7cd46a5f6bbb4884b7e7235a64efdd35",
            "value": "model-00003-of-00006.safetensors: 100%"
          }
        },
        "78e7846d0d854d43a6de530a012e4099": {
          "model_module": "@jupyter-widgets/controls",
          "model_name": "FloatProgressModel",
          "model_module_version": "1.5.0",
          "state": {
            "_dom_classes": [],
            "_model_module": "@jupyter-widgets/controls",
            "_model_module_version": "1.5.0",
            "_model_name": "FloatProgressModel",
            "_view_count": null,
            "_view_module": "@jupyter-widgets/controls",
            "_view_module_version": "1.5.0",
            "_view_name": "ProgressView",
            "bar_style": "success",
            "description": "",
            "description_tooltip": null,
            "layout": "IPY_MODEL_0871a1c5ab3546e097e0a4811ee328f2",
            "max": 4928485104,
            "min": 0,
            "orientation": "horizontal",
            "style": "IPY_MODEL_b9ac1dd328414be5a1253e4fd75bacaf",
            "value": 4928485104
          }
        },
        "b11e856d803840eb939ef331b13525a6": {
          "model_module": "@jupyter-widgets/controls",
          "model_name": "HTMLModel",
          "model_module_version": "1.5.0",
          "state": {
            "_dom_classes": [],
            "_model_module": "@jupyter-widgets/controls",
            "_model_module_version": "1.5.0",
            "_model_name": "HTMLModel",
            "_view_count": null,
            "_view_module": "@jupyter-widgets/controls",
            "_view_module_version": "1.5.0",
            "_view_name": "HTMLView",
            "description": "",
            "description_tooltip": null,
            "layout": "IPY_MODEL_a1d100254c2647e0a3d9c0ddb3e24b3e",
            "placeholder": "​",
            "style": "IPY_MODEL_9ded1b644b924651b7c05cb207ffe892",
            "value": " 4.93G/4.93G [03:15&lt;00:00, 138MB/s]"
          }
        },
        "45754af76fed401cb36b685a809e2390": {
          "model_module": "@jupyter-widgets/base",
          "model_name": "LayoutModel",
          "model_module_version": "1.2.0",
          "state": {
            "_model_module": "@jupyter-widgets/base",
            "_model_module_version": "1.2.0",
            "_model_name": "LayoutModel",
            "_view_count": null,
            "_view_module": "@jupyter-widgets/base",
            "_view_module_version": "1.2.0",
            "_view_name": "LayoutView",
            "align_content": null,
            "align_items": null,
            "align_self": null,
            "border": null,
            "bottom": null,
            "display": null,
            "flex": null,
            "flex_flow": null,
            "grid_area": null,
            "grid_auto_columns": null,
            "grid_auto_flow": null,
            "grid_auto_rows": null,
            "grid_column": null,
            "grid_gap": null,
            "grid_row": null,
            "grid_template_areas": null,
            "grid_template_columns": null,
            "grid_template_rows": null,
            "height": null,
            "justify_content": null,
            "justify_items": null,
            "left": null,
            "margin": null,
            "max_height": null,
            "max_width": null,
            "min_height": null,
            "min_width": null,
            "object_fit": null,
            "object_position": null,
            "order": null,
            "overflow": null,
            "overflow_x": null,
            "overflow_y": null,
            "padding": null,
            "right": null,
            "top": null,
            "visibility": null,
            "width": null
          }
        },
        "0ee4edb58b8349f3a3f534f31ebb523c": {
          "model_module": "@jupyter-widgets/base",
          "model_name": "LayoutModel",
          "model_module_version": "1.2.0",
          "state": {
            "_model_module": "@jupyter-widgets/base",
            "_model_module_version": "1.2.0",
            "_model_name": "LayoutModel",
            "_view_count": null,
            "_view_module": "@jupyter-widgets/base",
            "_view_module_version": "1.2.0",
            "_view_name": "LayoutView",
            "align_content": null,
            "align_items": null,
            "align_self": null,
            "border": null,
            "bottom": null,
            "display": null,
            "flex": null,
            "flex_flow": null,
            "grid_area": null,
            "grid_auto_columns": null,
            "grid_auto_flow": null,
            "grid_auto_rows": null,
            "grid_column": null,
            "grid_gap": null,
            "grid_row": null,
            "grid_template_areas": null,
            "grid_template_columns": null,
            "grid_template_rows": null,
            "height": null,
            "justify_content": null,
            "justify_items": null,
            "left": null,
            "margin": null,
            "max_height": null,
            "max_width": null,
            "min_height": null,
            "min_width": null,
            "object_fit": null,
            "object_position": null,
            "order": null,
            "overflow": null,
            "overflow_x": null,
            "overflow_y": null,
            "padding": null,
            "right": null,
            "top": null,
            "visibility": null,
            "width": null
          }
        },
        "7cd46a5f6bbb4884b7e7235a64efdd35": {
          "model_module": "@jupyter-widgets/controls",
          "model_name": "DescriptionStyleModel",
          "model_module_version": "1.5.0",
          "state": {
            "_model_module": "@jupyter-widgets/controls",
            "_model_module_version": "1.5.0",
            "_model_name": "DescriptionStyleModel",
            "_view_count": null,
            "_view_module": "@jupyter-widgets/base",
            "_view_module_version": "1.2.0",
            "_view_name": "StyleView",
            "description_width": ""
          }
        },
        "0871a1c5ab3546e097e0a4811ee328f2": {
          "model_module": "@jupyter-widgets/base",
          "model_name": "LayoutModel",
          "model_module_version": "1.2.0",
          "state": {
            "_model_module": "@jupyter-widgets/base",
            "_model_module_version": "1.2.0",
            "_model_name": "LayoutModel",
            "_view_count": null,
            "_view_module": "@jupyter-widgets/base",
            "_view_module_version": "1.2.0",
            "_view_name": "LayoutView",
            "align_content": null,
            "align_items": null,
            "align_self": null,
            "border": null,
            "bottom": null,
            "display": null,
            "flex": null,
            "flex_flow": null,
            "grid_area": null,
            "grid_auto_columns": null,
            "grid_auto_flow": null,
            "grid_auto_rows": null,
            "grid_column": null,
            "grid_gap": null,
            "grid_row": null,
            "grid_template_areas": null,
            "grid_template_columns": null,
            "grid_template_rows": null,
            "height": null,
            "justify_content": null,
            "justify_items": null,
            "left": null,
            "margin": null,
            "max_height": null,
            "max_width": null,
            "min_height": null,
            "min_width": null,
            "object_fit": null,
            "object_position": null,
            "order": null,
            "overflow": null,
            "overflow_x": null,
            "overflow_y": null,
            "padding": null,
            "right": null,
            "top": null,
            "visibility": null,
            "width": null
          }
        },
        "b9ac1dd328414be5a1253e4fd75bacaf": {
          "model_module": "@jupyter-widgets/controls",
          "model_name": "ProgressStyleModel",
          "model_module_version": "1.5.0",
          "state": {
            "_model_module": "@jupyter-widgets/controls",
            "_model_module_version": "1.5.0",
            "_model_name": "ProgressStyleModel",
            "_view_count": null,
            "_view_module": "@jupyter-widgets/base",
            "_view_module_version": "1.2.0",
            "_view_name": "StyleView",
            "bar_color": null,
            "description_width": ""
          }
        },
        "a1d100254c2647e0a3d9c0ddb3e24b3e": {
          "model_module": "@jupyter-widgets/base",
          "model_name": "LayoutModel",
          "model_module_version": "1.2.0",
          "state": {
            "_model_module": "@jupyter-widgets/base",
            "_model_module_version": "1.2.0",
            "_model_name": "LayoutModel",
            "_view_count": null,
            "_view_module": "@jupyter-widgets/base",
            "_view_module_version": "1.2.0",
            "_view_name": "LayoutView",
            "align_content": null,
            "align_items": null,
            "align_self": null,
            "border": null,
            "bottom": null,
            "display": null,
            "flex": null,
            "flex_flow": null,
            "grid_area": null,
            "grid_auto_columns": null,
            "grid_auto_flow": null,
            "grid_auto_rows": null,
            "grid_column": null,
            "grid_gap": null,
            "grid_row": null,
            "grid_template_areas": null,
            "grid_template_columns": null,
            "grid_template_rows": null,
            "height": null,
            "justify_content": null,
            "justify_items": null,
            "left": null,
            "margin": null,
            "max_height": null,
            "max_width": null,
            "min_height": null,
            "min_width": null,
            "object_fit": null,
            "object_position": null,
            "order": null,
            "overflow": null,
            "overflow_x": null,
            "overflow_y": null,
            "padding": null,
            "right": null,
            "top": null,
            "visibility": null,
            "width": null
          }
        },
        "9ded1b644b924651b7c05cb207ffe892": {
          "model_module": "@jupyter-widgets/controls",
          "model_name": "DescriptionStyleModel",
          "model_module_version": "1.5.0",
          "state": {
            "_model_module": "@jupyter-widgets/controls",
            "_model_module_version": "1.5.0",
            "_model_name": "DescriptionStyleModel",
            "_view_count": null,
            "_view_module": "@jupyter-widgets/base",
            "_view_module_version": "1.2.0",
            "_view_name": "StyleView",
            "description_width": ""
          }
        },
        "d4620985d3324ce4ad8023e59320f9f6": {
          "model_module": "@jupyter-widgets/controls",
          "model_name": "HBoxModel",
          "model_module_version": "1.5.0",
          "state": {
            "_dom_classes": [],
            "_model_module": "@jupyter-widgets/controls",
            "_model_module_version": "1.5.0",
            "_model_name": "HBoxModel",
            "_view_count": null,
            "_view_module": "@jupyter-widgets/controls",
            "_view_module_version": "1.5.0",
            "_view_name": "HBoxView",
            "box_style": "",
            "children": [
              "IPY_MODEL_f35fe076f0f947ac9d9260d9a4a742ee",
              "IPY_MODEL_fcf9dd25665f44358decf3f510b006a8",
              "IPY_MODEL_35d4fa6f463247a68a083c5296227212"
            ],
            "layout": "IPY_MODEL_9094faf3d77e4b02a58a88b86ce9c0d8"
          }
        },
        "f35fe076f0f947ac9d9260d9a4a742ee": {
          "model_module": "@jupyter-widgets/controls",
          "model_name": "HTMLModel",
          "model_module_version": "1.5.0",
          "state": {
            "_dom_classes": [],
            "_model_module": "@jupyter-widgets/controls",
            "_model_module_version": "1.5.0",
            "_model_name": "HTMLModel",
            "_view_count": null,
            "_view_module": "@jupyter-widgets/controls",
            "_view_module_version": "1.5.0",
            "_view_name": "HTMLView",
            "description": "",
            "description_tooltip": null,
            "layout": "IPY_MODEL_4499e3bcf5584bc59792b164a6488c0a",
            "placeholder": "​",
            "style": "IPY_MODEL_a13993f673fb407a931c2fd68e9c83ff",
            "value": "model-00002-of-00006.safetensors: 100%"
          }
        },
        "fcf9dd25665f44358decf3f510b006a8": {
          "model_module": "@jupyter-widgets/controls",
          "model_name": "FloatProgressModel",
          "model_module_version": "1.5.0",
          "state": {
            "_dom_classes": [],
            "_model_module": "@jupyter-widgets/controls",
            "_model_module_version": "1.5.0",
            "_model_name": "FloatProgressModel",
            "_view_count": null,
            "_view_module": "@jupyter-widgets/controls",
            "_view_module_version": "1.5.0",
            "_view_name": "ProgressView",
            "bar_style": "success",
            "description": "",
            "description_tooltip": null,
            "layout": "IPY_MODEL_3e8e130d0da74aa19b230ab5fa11681a",
            "max": 4980892048,
            "min": 0,
            "orientation": "horizontal",
            "style": "IPY_MODEL_0ff4be3f53de4a38b82e6319d18c1f45",
            "value": 4980892048
          }
        },
        "35d4fa6f463247a68a083c5296227212": {
          "model_module": "@jupyter-widgets/controls",
          "model_name": "HTMLModel",
          "model_module_version": "1.5.0",
          "state": {
            "_dom_classes": [],
            "_model_module": "@jupyter-widgets/controls",
            "_model_module_version": "1.5.0",
            "_model_name": "HTMLModel",
            "_view_count": null,
            "_view_module": "@jupyter-widgets/controls",
            "_view_module_version": "1.5.0",
            "_view_name": "HTMLView",
            "description": "",
            "description_tooltip": null,
            "layout": "IPY_MODEL_6a2ae10f295c4a10b59a297d3cacda7c",
            "placeholder": "​",
            "style": "IPY_MODEL_6fd5d314c4fd41a083a24e5854c4c7e9",
            "value": " 4.98G/4.98G [02:59&lt;00:00, 22.8MB/s]"
          }
        },
        "9094faf3d77e4b02a58a88b86ce9c0d8": {
          "model_module": "@jupyter-widgets/base",
          "model_name": "LayoutModel",
          "model_module_version": "1.2.0",
          "state": {
            "_model_module": "@jupyter-widgets/base",
            "_model_module_version": "1.2.0",
            "_model_name": "LayoutModel",
            "_view_count": null,
            "_view_module": "@jupyter-widgets/base",
            "_view_module_version": "1.2.0",
            "_view_name": "LayoutView",
            "align_content": null,
            "align_items": null,
            "align_self": null,
            "border": null,
            "bottom": null,
            "display": null,
            "flex": null,
            "flex_flow": null,
            "grid_area": null,
            "grid_auto_columns": null,
            "grid_auto_flow": null,
            "grid_auto_rows": null,
            "grid_column": null,
            "grid_gap": null,
            "grid_row": null,
            "grid_template_areas": null,
            "grid_template_columns": null,
            "grid_template_rows": null,
            "height": null,
            "justify_content": null,
            "justify_items": null,
            "left": null,
            "margin": null,
            "max_height": null,
            "max_width": null,
            "min_height": null,
            "min_width": null,
            "object_fit": null,
            "object_position": null,
            "order": null,
            "overflow": null,
            "overflow_x": null,
            "overflow_y": null,
            "padding": null,
            "right": null,
            "top": null,
            "visibility": null,
            "width": null
          }
        },
        "4499e3bcf5584bc59792b164a6488c0a": {
          "model_module": "@jupyter-widgets/base",
          "model_name": "LayoutModel",
          "model_module_version": "1.2.0",
          "state": {
            "_model_module": "@jupyter-widgets/base",
            "_model_module_version": "1.2.0",
            "_model_name": "LayoutModel",
            "_view_count": null,
            "_view_module": "@jupyter-widgets/base",
            "_view_module_version": "1.2.0",
            "_view_name": "LayoutView",
            "align_content": null,
            "align_items": null,
            "align_self": null,
            "border": null,
            "bottom": null,
            "display": null,
            "flex": null,
            "flex_flow": null,
            "grid_area": null,
            "grid_auto_columns": null,
            "grid_auto_flow": null,
            "grid_auto_rows": null,
            "grid_column": null,
            "grid_gap": null,
            "grid_row": null,
            "grid_template_areas": null,
            "grid_template_columns": null,
            "grid_template_rows": null,
            "height": null,
            "justify_content": null,
            "justify_items": null,
            "left": null,
            "margin": null,
            "max_height": null,
            "max_width": null,
            "min_height": null,
            "min_width": null,
            "object_fit": null,
            "object_position": null,
            "order": null,
            "overflow": null,
            "overflow_x": null,
            "overflow_y": null,
            "padding": null,
            "right": null,
            "top": null,
            "visibility": null,
            "width": null
          }
        },
        "a13993f673fb407a931c2fd68e9c83ff": {
          "model_module": "@jupyter-widgets/controls",
          "model_name": "DescriptionStyleModel",
          "model_module_version": "1.5.0",
          "state": {
            "_model_module": "@jupyter-widgets/controls",
            "_model_module_version": "1.5.0",
            "_model_name": "DescriptionStyleModel",
            "_view_count": null,
            "_view_module": "@jupyter-widgets/base",
            "_view_module_version": "1.2.0",
            "_view_name": "StyleView",
            "description_width": ""
          }
        },
        "3e8e130d0da74aa19b230ab5fa11681a": {
          "model_module": "@jupyter-widgets/base",
          "model_name": "LayoutModel",
          "model_module_version": "1.2.0",
          "state": {
            "_model_module": "@jupyter-widgets/base",
            "_model_module_version": "1.2.0",
            "_model_name": "LayoutModel",
            "_view_count": null,
            "_view_module": "@jupyter-widgets/base",
            "_view_module_version": "1.2.0",
            "_view_name": "LayoutView",
            "align_content": null,
            "align_items": null,
            "align_self": null,
            "border": null,
            "bottom": null,
            "display": null,
            "flex": null,
            "flex_flow": null,
            "grid_area": null,
            "grid_auto_columns": null,
            "grid_auto_flow": null,
            "grid_auto_rows": null,
            "grid_column": null,
            "grid_gap": null,
            "grid_row": null,
            "grid_template_areas": null,
            "grid_template_columns": null,
            "grid_template_rows": null,
            "height": null,
            "justify_content": null,
            "justify_items": null,
            "left": null,
            "margin": null,
            "max_height": null,
            "max_width": null,
            "min_height": null,
            "min_width": null,
            "object_fit": null,
            "object_position": null,
            "order": null,
            "overflow": null,
            "overflow_x": null,
            "overflow_y": null,
            "padding": null,
            "right": null,
            "top": null,
            "visibility": null,
            "width": null
          }
        },
        "0ff4be3f53de4a38b82e6319d18c1f45": {
          "model_module": "@jupyter-widgets/controls",
          "model_name": "ProgressStyleModel",
          "model_module_version": "1.5.0",
          "state": {
            "_model_module": "@jupyter-widgets/controls",
            "_model_module_version": "1.5.0",
            "_model_name": "ProgressStyleModel",
            "_view_count": null,
            "_view_module": "@jupyter-widgets/base",
            "_view_module_version": "1.2.0",
            "_view_name": "StyleView",
            "bar_color": null,
            "description_width": ""
          }
        },
        "6a2ae10f295c4a10b59a297d3cacda7c": {
          "model_module": "@jupyter-widgets/base",
          "model_name": "LayoutModel",
          "model_module_version": "1.2.0",
          "state": {
            "_model_module": "@jupyter-widgets/base",
            "_model_module_version": "1.2.0",
            "_model_name": "LayoutModel",
            "_view_count": null,
            "_view_module": "@jupyter-widgets/base",
            "_view_module_version": "1.2.0",
            "_view_name": "LayoutView",
            "align_content": null,
            "align_items": null,
            "align_self": null,
            "border": null,
            "bottom": null,
            "display": null,
            "flex": null,
            "flex_flow": null,
            "grid_area": null,
            "grid_auto_columns": null,
            "grid_auto_flow": null,
            "grid_auto_rows": null,
            "grid_column": null,
            "grid_gap": null,
            "grid_row": null,
            "grid_template_areas": null,
            "grid_template_columns": null,
            "grid_template_rows": null,
            "height": null,
            "justify_content": null,
            "justify_items": null,
            "left": null,
            "margin": null,
            "max_height": null,
            "max_width": null,
            "min_height": null,
            "min_width": null,
            "object_fit": null,
            "object_position": null,
            "order": null,
            "overflow": null,
            "overflow_x": null,
            "overflow_y": null,
            "padding": null,
            "right": null,
            "top": null,
            "visibility": null,
            "width": null
          }
        },
        "6fd5d314c4fd41a083a24e5854c4c7e9": {
          "model_module": "@jupyter-widgets/controls",
          "model_name": "DescriptionStyleModel",
          "model_module_version": "1.5.0",
          "state": {
            "_model_module": "@jupyter-widgets/controls",
            "_model_module_version": "1.5.0",
            "_model_name": "DescriptionStyleModel",
            "_view_count": null,
            "_view_module": "@jupyter-widgets/base",
            "_view_module_version": "1.2.0",
            "_view_name": "StyleView",
            "description_width": ""
          }
        },
        "cf17298ef13f4cf5ad970abe333f27ec": {
          "model_module": "@jupyter-widgets/controls",
          "model_name": "HBoxModel",
          "model_module_version": "1.5.0",
          "state": {
            "_dom_classes": [],
            "_model_module": "@jupyter-widgets/controls",
            "_model_module_version": "1.5.0",
            "_model_name": "HBoxModel",
            "_view_count": null,
            "_view_module": "@jupyter-widgets/controls",
            "_view_module_version": "1.5.0",
            "_view_name": "HBoxView",
            "box_style": "",
            "children": [
              "IPY_MODEL_41b71fc1affb4187a6aea844eab07a4d",
              "IPY_MODEL_2f085404c54f4b738766b0dbbd744000",
              "IPY_MODEL_faa9b0ad93b8476c8506dcf3ef5aa8b6"
            ],
            "layout": "IPY_MODEL_22172f37b34241b4a03f6572cd11a806"
          }
        },
        "41b71fc1affb4187a6aea844eab07a4d": {
          "model_module": "@jupyter-widgets/controls",
          "model_name": "HTMLModel",
          "model_module_version": "1.5.0",
          "state": {
            "_dom_classes": [],
            "_model_module": "@jupyter-widgets/controls",
            "_model_module_version": "1.5.0",
            "_model_name": "HTMLModel",
            "_view_count": null,
            "_view_module": "@jupyter-widgets/controls",
            "_view_module_version": "1.5.0",
            "_view_name": "HTMLView",
            "description": "",
            "description_tooltip": null,
            "layout": "IPY_MODEL_b97ed405b5ac4cd9810fea25ef71c759",
            "placeholder": "​",
            "style": "IPY_MODEL_30cee34a65904fe7a51fc49231de1438",
            "value": "Loading checkpoint shards: 100%"
          }
        },
        "2f085404c54f4b738766b0dbbd744000": {
          "model_module": "@jupyter-widgets/controls",
          "model_name": "FloatProgressModel",
          "model_module_version": "1.5.0",
          "state": {
            "_dom_classes": [],
            "_model_module": "@jupyter-widgets/controls",
            "_model_module_version": "1.5.0",
            "_model_name": "FloatProgressModel",
            "_view_count": null,
            "_view_module": "@jupyter-widgets/controls",
            "_view_module_version": "1.5.0",
            "_view_name": "ProgressView",
            "bar_style": "success",
            "description": "",
            "description_tooltip": null,
            "layout": "IPY_MODEL_b15ce160fc55488d93bc6b5b145120c4",
            "max": 6,
            "min": 0,
            "orientation": "horizontal",
            "style": "IPY_MODEL_a4f599184bcc4445adcf0794472b697b",
            "value": 6
          }
        },
        "faa9b0ad93b8476c8506dcf3ef5aa8b6": {
          "model_module": "@jupyter-widgets/controls",
          "model_name": "HTMLModel",
          "model_module_version": "1.5.0",
          "state": {
            "_dom_classes": [],
            "_model_module": "@jupyter-widgets/controls",
            "_model_module_version": "1.5.0",
            "_model_name": "HTMLModel",
            "_view_count": null,
            "_view_module": "@jupyter-widgets/controls",
            "_view_module_version": "1.5.0",
            "_view_name": "HTMLView",
            "description": "",
            "description_tooltip": null,
            "layout": "IPY_MODEL_0323b2edeec94a8199ff1f07ccc50fba",
            "placeholder": "​",
            "style": "IPY_MODEL_02691407f1544dbaac8723a15e8dc90a",
            "value": " 6/6 [00:25&lt;00:00,  3.87s/it]"
          }
        },
        "22172f37b34241b4a03f6572cd11a806": {
          "model_module": "@jupyter-widgets/base",
          "model_name": "LayoutModel",
          "model_module_version": "1.2.0",
          "state": {
            "_model_module": "@jupyter-widgets/base",
            "_model_module_version": "1.2.0",
            "_model_name": "LayoutModel",
            "_view_count": null,
            "_view_module": "@jupyter-widgets/base",
            "_view_module_version": "1.2.0",
            "_view_name": "LayoutView",
            "align_content": null,
            "align_items": null,
            "align_self": null,
            "border": null,
            "bottom": null,
            "display": null,
            "flex": null,
            "flex_flow": null,
            "grid_area": null,
            "grid_auto_columns": null,
            "grid_auto_flow": null,
            "grid_auto_rows": null,
            "grid_column": null,
            "grid_gap": null,
            "grid_row": null,
            "grid_template_areas": null,
            "grid_template_columns": null,
            "grid_template_rows": null,
            "height": null,
            "justify_content": null,
            "justify_items": null,
            "left": null,
            "margin": null,
            "max_height": null,
            "max_width": null,
            "min_height": null,
            "min_width": null,
            "object_fit": null,
            "object_position": null,
            "order": null,
            "overflow": null,
            "overflow_x": null,
            "overflow_y": null,
            "padding": null,
            "right": null,
            "top": null,
            "visibility": null,
            "width": null
          }
        },
        "b97ed405b5ac4cd9810fea25ef71c759": {
          "model_module": "@jupyter-widgets/base",
          "model_name": "LayoutModel",
          "model_module_version": "1.2.0",
          "state": {
            "_model_module": "@jupyter-widgets/base",
            "_model_module_version": "1.2.0",
            "_model_name": "LayoutModel",
            "_view_count": null,
            "_view_module": "@jupyter-widgets/base",
            "_view_module_version": "1.2.0",
            "_view_name": "LayoutView",
            "align_content": null,
            "align_items": null,
            "align_self": null,
            "border": null,
            "bottom": null,
            "display": null,
            "flex": null,
            "flex_flow": null,
            "grid_area": null,
            "grid_auto_columns": null,
            "grid_auto_flow": null,
            "grid_auto_rows": null,
            "grid_column": null,
            "grid_gap": null,
            "grid_row": null,
            "grid_template_areas": null,
            "grid_template_columns": null,
            "grid_template_rows": null,
            "height": null,
            "justify_content": null,
            "justify_items": null,
            "left": null,
            "margin": null,
            "max_height": null,
            "max_width": null,
            "min_height": null,
            "min_width": null,
            "object_fit": null,
            "object_position": null,
            "order": null,
            "overflow": null,
            "overflow_x": null,
            "overflow_y": null,
            "padding": null,
            "right": null,
            "top": null,
            "visibility": null,
            "width": null
          }
        },
        "30cee34a65904fe7a51fc49231de1438": {
          "model_module": "@jupyter-widgets/controls",
          "model_name": "DescriptionStyleModel",
          "model_module_version": "1.5.0",
          "state": {
            "_model_module": "@jupyter-widgets/controls",
            "_model_module_version": "1.5.0",
            "_model_name": "DescriptionStyleModel",
            "_view_count": null,
            "_view_module": "@jupyter-widgets/base",
            "_view_module_version": "1.2.0",
            "_view_name": "StyleView",
            "description_width": ""
          }
        },
        "b15ce160fc55488d93bc6b5b145120c4": {
          "model_module": "@jupyter-widgets/base",
          "model_name": "LayoutModel",
          "model_module_version": "1.2.0",
          "state": {
            "_model_module": "@jupyter-widgets/base",
            "_model_module_version": "1.2.0",
            "_model_name": "LayoutModel",
            "_view_count": null,
            "_view_module": "@jupyter-widgets/base",
            "_view_module_version": "1.2.0",
            "_view_name": "LayoutView",
            "align_content": null,
            "align_items": null,
            "align_self": null,
            "border": null,
            "bottom": null,
            "display": null,
            "flex": null,
            "flex_flow": null,
            "grid_area": null,
            "grid_auto_columns": null,
            "grid_auto_flow": null,
            "grid_auto_rows": null,
            "grid_column": null,
            "grid_gap": null,
            "grid_row": null,
            "grid_template_areas": null,
            "grid_template_columns": null,
            "grid_template_rows": null,
            "height": null,
            "justify_content": null,
            "justify_items": null,
            "left": null,
            "margin": null,
            "max_height": null,
            "max_width": null,
            "min_height": null,
            "min_width": null,
            "object_fit": null,
            "object_position": null,
            "order": null,
            "overflow": null,
            "overflow_x": null,
            "overflow_y": null,
            "padding": null,
            "right": null,
            "top": null,
            "visibility": null,
            "width": null
          }
        },
        "a4f599184bcc4445adcf0794472b697b": {
          "model_module": "@jupyter-widgets/controls",
          "model_name": "ProgressStyleModel",
          "model_module_version": "1.5.0",
          "state": {
            "_model_module": "@jupyter-widgets/controls",
            "_model_module_version": "1.5.0",
            "_model_name": "ProgressStyleModel",
            "_view_count": null,
            "_view_module": "@jupyter-widgets/base",
            "_view_module_version": "1.2.0",
            "_view_name": "StyleView",
            "bar_color": null,
            "description_width": ""
          }
        },
        "0323b2edeec94a8199ff1f07ccc50fba": {
          "model_module": "@jupyter-widgets/base",
          "model_name": "LayoutModel",
          "model_module_version": "1.2.0",
          "state": {
            "_model_module": "@jupyter-widgets/base",
            "_model_module_version": "1.2.0",
            "_model_name": "LayoutModel",
            "_view_count": null,
            "_view_module": "@jupyter-widgets/base",
            "_view_module_version": "1.2.0",
            "_view_name": "LayoutView",
            "align_content": null,
            "align_items": null,
            "align_self": null,
            "border": null,
            "bottom": null,
            "display": null,
            "flex": null,
            "flex_flow": null,
            "grid_area": null,
            "grid_auto_columns": null,
            "grid_auto_flow": null,
            "grid_auto_rows": null,
            "grid_column": null,
            "grid_gap": null,
            "grid_row": null,
            "grid_template_areas": null,
            "grid_template_columns": null,
            "grid_template_rows": null,
            "height": null,
            "justify_content": null,
            "justify_items": null,
            "left": null,
            "margin": null,
            "max_height": null,
            "max_width": null,
            "min_height": null,
            "min_width": null,
            "object_fit": null,
            "object_position": null,
            "order": null,
            "overflow": null,
            "overflow_x": null,
            "overflow_y": null,
            "padding": null,
            "right": null,
            "top": null,
            "visibility": null,
            "width": null
          }
        },
        "02691407f1544dbaac8723a15e8dc90a": {
          "model_module": "@jupyter-widgets/controls",
          "model_name": "DescriptionStyleModel",
          "model_module_version": "1.5.0",
          "state": {
            "_model_module": "@jupyter-widgets/controls",
            "_model_module_version": "1.5.0",
            "_model_name": "DescriptionStyleModel",
            "_view_count": null,
            "_view_module": "@jupyter-widgets/base",
            "_view_module_version": "1.2.0",
            "_view_name": "StyleView",
            "description_width": ""
          }
        },
        "e5166d9f04954759bd29e37ee8e638b7": {
          "model_module": "@jupyter-widgets/controls",
          "model_name": "HBoxModel",
          "model_module_version": "1.5.0",
          "state": {
            "_dom_classes": [],
            "_model_module": "@jupyter-widgets/controls",
            "_model_module_version": "1.5.0",
            "_model_name": "HBoxModel",
            "_view_count": null,
            "_view_module": "@jupyter-widgets/controls",
            "_view_module_version": "1.5.0",
            "_view_name": "HBoxView",
            "box_style": "",
            "children": [
              "IPY_MODEL_99f3576882364fe2bd457739e6902824",
              "IPY_MODEL_a4e1fde55b0847919f9268a89edd9d60",
              "IPY_MODEL_b54495a5c2ac4d1384d84c0093e811d5"
            ],
            "layout": "IPY_MODEL_b64be09827e74f0cb0136d0fd48d1359"
          }
        },
        "99f3576882364fe2bd457739e6902824": {
          "model_module": "@jupyter-widgets/controls",
          "model_name": "HTMLModel",
          "model_module_version": "1.5.0",
          "state": {
            "_dom_classes": [],
            "_model_module": "@jupyter-widgets/controls",
            "_model_module_version": "1.5.0",
            "_model_name": "HTMLModel",
            "_view_count": null,
            "_view_module": "@jupyter-widgets/controls",
            "_view_module_version": "1.5.0",
            "_view_name": "HTMLView",
            "description": "",
            "description_tooltip": null,
            "layout": "IPY_MODEL_46f6e84ff69d46efafefe9d95a02171a",
            "placeholder": "​",
            "style": "IPY_MODEL_54e0b745a4714de295c86dad0a311eef",
            "value": "generation_config.json: 100%"
          }
        },
        "a4e1fde55b0847919f9268a89edd9d60": {
          "model_module": "@jupyter-widgets/controls",
          "model_name": "FloatProgressModel",
          "model_module_version": "1.5.0",
          "state": {
            "_dom_classes": [],
            "_model_module": "@jupyter-widgets/controls",
            "_model_module_version": "1.5.0",
            "_model_name": "FloatProgressModel",
            "_view_count": null,
            "_view_module": "@jupyter-widgets/controls",
            "_view_module_version": "1.5.0",
            "_view_name": "ProgressView",
            "bar_style": "success",
            "description": "",
            "description_tooltip": null,
            "layout": "IPY_MODEL_d3cdf4c4047040e1bcb217dabe0bc32a",
            "max": 237,
            "min": 0,
            "orientation": "horizontal",
            "style": "IPY_MODEL_537d138ed31745f2b4c62a68d96b95f3",
            "value": 237
          }
        },
        "b54495a5c2ac4d1384d84c0093e811d5": {
          "model_module": "@jupyter-widgets/controls",
          "model_name": "HTMLModel",
          "model_module_version": "1.5.0",
          "state": {
            "_dom_classes": [],
            "_model_module": "@jupyter-widgets/controls",
            "_model_module_version": "1.5.0",
            "_model_name": "HTMLModel",
            "_view_count": null,
            "_view_module": "@jupyter-widgets/controls",
            "_view_module_version": "1.5.0",
            "_view_name": "HTMLView",
            "description": "",
            "description_tooltip": null,
            "layout": "IPY_MODEL_0da994a8c9504826b50f16bb9fa23d55",
            "placeholder": "​",
            "style": "IPY_MODEL_e87f2d4fb8484a528efb869bf2a673ba",
            "value": " 237/237 [00:00&lt;00:00, 30.1kB/s]"
          }
        },
        "b64be09827e74f0cb0136d0fd48d1359": {
          "model_module": "@jupyter-widgets/base",
          "model_name": "LayoutModel",
          "model_module_version": "1.2.0",
          "state": {
            "_model_module": "@jupyter-widgets/base",
            "_model_module_version": "1.2.0",
            "_model_name": "LayoutModel",
            "_view_count": null,
            "_view_module": "@jupyter-widgets/base",
            "_view_module_version": "1.2.0",
            "_view_name": "LayoutView",
            "align_content": null,
            "align_items": null,
            "align_self": null,
            "border": null,
            "bottom": null,
            "display": null,
            "flex": null,
            "flex_flow": null,
            "grid_area": null,
            "grid_auto_columns": null,
            "grid_auto_flow": null,
            "grid_auto_rows": null,
            "grid_column": null,
            "grid_gap": null,
            "grid_row": null,
            "grid_template_areas": null,
            "grid_template_columns": null,
            "grid_template_rows": null,
            "height": null,
            "justify_content": null,
            "justify_items": null,
            "left": null,
            "margin": null,
            "max_height": null,
            "max_width": null,
            "min_height": null,
            "min_width": null,
            "object_fit": null,
            "object_position": null,
            "order": null,
            "overflow": null,
            "overflow_x": null,
            "overflow_y": null,
            "padding": null,
            "right": null,
            "top": null,
            "visibility": null,
            "width": null
          }
        },
        "46f6e84ff69d46efafefe9d95a02171a": {
          "model_module": "@jupyter-widgets/base",
          "model_name": "LayoutModel",
          "model_module_version": "1.2.0",
          "state": {
            "_model_module": "@jupyter-widgets/base",
            "_model_module_version": "1.2.0",
            "_model_name": "LayoutModel",
            "_view_count": null,
            "_view_module": "@jupyter-widgets/base",
            "_view_module_version": "1.2.0",
            "_view_name": "LayoutView",
            "align_content": null,
            "align_items": null,
            "align_self": null,
            "border": null,
            "bottom": null,
            "display": null,
            "flex": null,
            "flex_flow": null,
            "grid_area": null,
            "grid_auto_columns": null,
            "grid_auto_flow": null,
            "grid_auto_rows": null,
            "grid_column": null,
            "grid_gap": null,
            "grid_row": null,
            "grid_template_areas": null,
            "grid_template_columns": null,
            "grid_template_rows": null,
            "height": null,
            "justify_content": null,
            "justify_items": null,
            "left": null,
            "margin": null,
            "max_height": null,
            "max_width": null,
            "min_height": null,
            "min_width": null,
            "object_fit": null,
            "object_position": null,
            "order": null,
            "overflow": null,
            "overflow_x": null,
            "overflow_y": null,
            "padding": null,
            "right": null,
            "top": null,
            "visibility": null,
            "width": null
          }
        },
        "54e0b745a4714de295c86dad0a311eef": {
          "model_module": "@jupyter-widgets/controls",
          "model_name": "DescriptionStyleModel",
          "model_module_version": "1.5.0",
          "state": {
            "_model_module": "@jupyter-widgets/controls",
            "_model_module_version": "1.5.0",
            "_model_name": "DescriptionStyleModel",
            "_view_count": null,
            "_view_module": "@jupyter-widgets/base",
            "_view_module_version": "1.2.0",
            "_view_name": "StyleView",
            "description_width": ""
          }
        },
        "d3cdf4c4047040e1bcb217dabe0bc32a": {
          "model_module": "@jupyter-widgets/base",
          "model_name": "LayoutModel",
          "model_module_version": "1.2.0",
          "state": {
            "_model_module": "@jupyter-widgets/base",
            "_model_module_version": "1.2.0",
            "_model_name": "LayoutModel",
            "_view_count": null,
            "_view_module": "@jupyter-widgets/base",
            "_view_module_version": "1.2.0",
            "_view_name": "LayoutView",
            "align_content": null,
            "align_items": null,
            "align_self": null,
            "border": null,
            "bottom": null,
            "display": null,
            "flex": null,
            "flex_flow": null,
            "grid_area": null,
            "grid_auto_columns": null,
            "grid_auto_flow": null,
            "grid_auto_rows": null,
            "grid_column": null,
            "grid_gap": null,
            "grid_row": null,
            "grid_template_areas": null,
            "grid_template_columns": null,
            "grid_template_rows": null,
            "height": null,
            "justify_content": null,
            "justify_items": null,
            "left": null,
            "margin": null,
            "max_height": null,
            "max_width": null,
            "min_height": null,
            "min_width": null,
            "object_fit": null,
            "object_position": null,
            "order": null,
            "overflow": null,
            "overflow_x": null,
            "overflow_y": null,
            "padding": null,
            "right": null,
            "top": null,
            "visibility": null,
            "width": null
          }
        },
        "537d138ed31745f2b4c62a68d96b95f3": {
          "model_module": "@jupyter-widgets/controls",
          "model_name": "ProgressStyleModel",
          "model_module_version": "1.5.0",
          "state": {
            "_model_module": "@jupyter-widgets/controls",
            "_model_module_version": "1.5.0",
            "_model_name": "ProgressStyleModel",
            "_view_count": null,
            "_view_module": "@jupyter-widgets/base",
            "_view_module_version": "1.2.0",
            "_view_name": "StyleView",
            "bar_color": null,
            "description_width": ""
          }
        },
        "0da994a8c9504826b50f16bb9fa23d55": {
          "model_module": "@jupyter-widgets/base",
          "model_name": "LayoutModel",
          "model_module_version": "1.2.0",
          "state": {
            "_model_module": "@jupyter-widgets/base",
            "_model_module_version": "1.2.0",
            "_model_name": "LayoutModel",
            "_view_count": null,
            "_view_module": "@jupyter-widgets/base",
            "_view_module_version": "1.2.0",
            "_view_name": "LayoutView",
            "align_content": null,
            "align_items": null,
            "align_self": null,
            "border": null,
            "bottom": null,
            "display": null,
            "flex": null,
            "flex_flow": null,
            "grid_area": null,
            "grid_auto_columns": null,
            "grid_auto_flow": null,
            "grid_auto_rows": null,
            "grid_column": null,
            "grid_gap": null,
            "grid_row": null,
            "grid_template_areas": null,
            "grid_template_columns": null,
            "grid_template_rows": null,
            "height": null,
            "justify_content": null,
            "justify_items": null,
            "left": null,
            "margin": null,
            "max_height": null,
            "max_width": null,
            "min_height": null,
            "min_width": null,
            "object_fit": null,
            "object_position": null,
            "order": null,
            "overflow": null,
            "overflow_x": null,
            "overflow_y": null,
            "padding": null,
            "right": null,
            "top": null,
            "visibility": null,
            "width": null
          }
        },
        "e87f2d4fb8484a528efb869bf2a673ba": {
          "model_module": "@jupyter-widgets/controls",
          "model_name": "DescriptionStyleModel",
          "model_module_version": "1.5.0",
          "state": {
            "_model_module": "@jupyter-widgets/controls",
            "_model_module_version": "1.5.0",
            "_model_name": "DescriptionStyleModel",
            "_view_count": null,
            "_view_module": "@jupyter-widgets/base",
            "_view_module_version": "1.2.0",
            "_view_name": "StyleView",
            "description_width": ""
          }
        }
      }
    }
  },
  "nbformat": 4,
  "nbformat_minor": 0
}